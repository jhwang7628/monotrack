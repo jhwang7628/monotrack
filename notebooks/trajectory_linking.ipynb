{
 "cells": [
  {
   "cell_type": "code",
   "execution_count": 1,
   "id": "8d0c4feb-c505-42eb-a262-73cf2c193cfb",
   "metadata": {},
   "outputs": [],
   "source": [
    "%matplotlib inline\n",
    "# %matplotlib widget\n",
    "# %matplotlib ipympl\n",
    "%load_ext autoreload\n",
    "%autoreload 2\n",
    "\n",
    "import ipywidgets as wdg  # Using the ipython notebook widgets"
   ]
  },
  {
   "cell_type": "code",
   "execution_count": 2,
   "id": "d5892764-aa0b-411b-be65-2940b2b2c898",
   "metadata": {},
   "outputs": [],
   "source": [
    "import sys\n",
    "import numpy as np\n",
    "import os\n",
    "import cv2"
   ]
  },
  {
   "cell_type": "code",
   "execution_count": 3,
   "id": "b7eb24ed-7f29-43c5-bbee-af263da4876e",
   "metadata": {},
   "outputs": [],
   "source": [
    "heatmap_name = '/home/code-base/user_space/ai-badminton/notebooks/data/anthony-ginting-beat-kento-momota-anthony-ginting-vs-kento-momota-fo-2019-hlzrivktbyo_heatmap.npz'\n",
    "video_name = '/home/code-base/user_space/ai-badminton/notebooks/data/anthony-ginting-beat-kento-momota-anthony-ginting-vs-kento-momota-fo-2019-hlzrivktbyo.mp4'"
   ]
  },
  {
   "cell_type": "code",
   "execution_count": 4,
   "id": "5b2672d1-8b2b-4bd4-be81-17d9e7cd39cf",
   "metadata": {},
   "outputs": [],
   "source": [
    "heatmaps = np.load(heatmap_name)\n",
    "heatmaps = heatmaps['arr_0']"
   ]
  },
  {
   "cell_type": "code",
   "execution_count": 5,
   "id": "41780b78-92ef-45ed-b536-228d0b50335b",
   "metadata": {},
   "outputs": [],
   "source": [
    "HEIGHT=288\n",
    "WIDTH=512\n",
    "\n",
    "cap = cv2.VideoCapture(video_name)\n",
    "fps = 25\n",
    "\n",
    "success, image = cap.read()\n",
    "\n",
    "ratioY = image.shape[0] / HEIGHT\n",
    "ratioX = image.shape[1] / WIDTH"
   ]
  },
  {
   "cell_type": "code",
   "execution_count": 93,
   "id": "019d9ef3-a994-4462-ab8f-2bbd4d263134",
   "metadata": {},
   "outputs": [
    {
     "data": {
      "application/vnd.jupyter.widget-view+json": {
       "model_id": "bc38c3ee17534cde97c2a3333cd58c06",
       "version_major": 2,
       "version_minor": 0
      },
      "text/plain": [
       "  0%|          | 0/2000 [00:00<?, ?it/s]"
      ]
     },
     "metadata": {},
     "output_type": "display_data"
    }
   ],
   "source": [
    "predictions = []\n",
    "flows = []\n",
    "prev = None\n",
    "\n",
    "from tqdm.notebook import tqdm\n",
    "for heatmap in tqdm(heatmaps[:2000]):\n",
    "    rounded_pred = (heatmap > 0.1 * 255) * 255\n",
    "    rounded_pred = rounded_pred.astype('uint8')\n",
    "\n",
    "    (cnts, _) = cv2.findContours(rounded_pred, cv2.RETR_EXTERNAL, cv2.CHAIN_APPROX_SIMPLE)\n",
    "    rects = [cv2.boundingRect(ctr) for ctr in cnts]\n",
    "    get_area = lambda rect: np.sum(heatmap[rect[1]:rect[1]+rect[3], rect[0]:rect[0]+rect[2]])\n",
    "\n",
    "    if len(rects) == 0:\n",
    "        predictions.append([])\n",
    "        flows.append([])\n",
    "    else:\n",
    "        prediction = []\n",
    "        flow = []\n",
    "        \n",
    "        flow_field = None\n",
    "        if prev is not None:\n",
    "            flow_field = cv2.calcOpticalFlowFarneback(prev, heatmap, None, 0.5, 3, 15, 3, 5, 1.2, 0)\n",
    "            \n",
    "        for j in range(len(rects)):\n",
    "            target = rects[j]\n",
    "            avg_wt = get_area(target) / (target[2] * target[3])\n",
    "            x_out, y_out = (target[0] + target[2] / 2), (target[1] + target[3] / 2)\n",
    "            (cx_pred, cy_pred) = (ratioX*x_out, ratioY*y_out)\n",
    "            prediction.append((avg_wt, cx_pred, cy_pred))\n",
    "            \n",
    "            if flow_field is not None:\n",
    "                v_out = flow_field[int(y_out), int(x_out)]\n",
    "            else:\n",
    "                v_out = [0, 0]\n",
    "            flow.append(v_out)\n",
    "        predictions.append(prediction)\n",
    "        flows.append(flow)\n",
    "    \n",
    "    prev = heatmap"
   ]
  },
  {
   "cell_type": "code",
   "execution_count": 94,
   "id": "cbc7046e-e9ec-48a7-a577-b62147b987ed",
   "metadata": {},
   "outputs": [],
   "source": [
    "# \"\"\"\n",
    "# Do a DP with the following state:\n",
    "#     - Indices of the last 3 points on the current trajectory\n",
    "    \n",
    "# f(n, p1, p2, p3) where if a pi == -1, then it was not detected\n",
    "\n",
    "# if choose to continue the same rally:\n",
    "#     if p1, p2, p3:\n",
    "#         - do quadratic interpolation and use this to minimize the distance to\n",
    "#           the next point\n",
    "#     if p1, p2:\n",
    "#         - do linear interpolation\n",
    "#     if p1:\n",
    "#         - just compare distance\n",
    "# if choose to switch directions:\n",
    "#     - p2 = p2 = -1\n",
    "#     - p1 = current point\n",
    "#     - pay beta\n",
    "# if choose to stop rally:\n",
    "#     - pay alpha to pause detection\n",
    "#     - set all 3 to -1\n",
    "# if choose to start rally:\n",
    "#     - pay beta\n",
    "# \"\"\"\n",
    "\n",
    "# memo_cost = {}\n",
    "# memo_choice = {}\n",
    "# def next_p(p):\n",
    "#     if p[1] >= len(predictions[p[0]]) - 1:\n",
    "#         return (p[0] + 1, 0)\n",
    "#     else:\n",
    "#         return (p[0], p[1] + 1)\n",
    "\n",
    "# def get_p(p):\n",
    "#     return predictions[p[0]][p[1]][1:]\n",
    "\n",
    "# CHANGE_COST = 10\n",
    "# NEW_RALLY_COST = 100000\n",
    "# SKIP_COST = 1000\n",
    "# def f(pc, p1, p2, p3):\n",
    "#     if pc[0] == len(predictions):\n",
    "#         return 0\n",
    "#     if pc[1] == len(predictions[pc[0]]):\n",
    "#         return f(next_p(pc), p1, p2, p3)\n",
    "#     if (pc, p1, p2, p3) in memo_cost:\n",
    "#         return memo_cost[pc, p1, p2, p3]\n",
    "    \n",
    "#     # Predict next point if we have part of the rally already\n",
    "#     costs = []\n",
    "#     choices = []\n",
    "#     choice_desc = []\n",
    "#     if p1 or p2 or p3:\n",
    "#         x, y = [], []\n",
    "#         if p1 and p2 and p3:\n",
    "#             x = [p1[0], p2[0], p3[0]]\n",
    "#             y = [get_p(p1), get_p(p2), get_p(p3)]\n",
    "#         elif p1 and p2:\n",
    "#             x = [p1[0], p2[0]]\n",
    "#             y = [get_p(p1), get_p(p2)]\n",
    "#         elif p1:\n",
    "#             x = [p1[0]]\n",
    "#             y = [get_p(p1)]\n",
    "            \n",
    "#         deg = len(x) - 1\n",
    "#         coef = np.polyfit(x, y, len(x)-1)\n",
    "        \n",
    "#         Pn = sum(coef[i] * pc[0]**(deg - i) for i in range(deg+1))\n",
    "#         Pc = np.array(get_p(pc))\n",
    "        \n",
    "#         # Try to continue heading in the same direction\n",
    "#         pcn = next_p(pc)\n",
    "#         while pcn[0] == pc[0]:\n",
    "#             pcn = next_p(pcn)\n",
    "            \n",
    "#         choices.append((pcn, pc, p1, p2))\n",
    "#         costs.append(np.linalg.norm(Pn-Pc))\n",
    "#         choice_desc.append('stay-same')\n",
    "        \n",
    "#         # Try to turn around\n",
    "#         choices.append((pcn, pc, None, None))\n",
    "#         costs.append(np.linalg.norm(Pn-Pc) + CHANGE_COST)\n",
    "#         choice_desc.append('change-dir')\n",
    "        \n",
    "#     # Try to skip the current point\n",
    "#     if not p1 and not p2 and not p3:\n",
    "#         # Continue skipping points\n",
    "#         choices.append((next_p(pc), None, None, None))\n",
    "#         costs.append(SKIP_COST)\n",
    "#         choice_desc.append('skip-point')\n",
    "        \n",
    "#         choices.append((next_p(pc), pc, None, None))\n",
    "#         costs.append(0)\n",
    "#         choice_desc.append('new-rally-start')\n",
    "        \n",
    "#     # Start a new rally from scratch or completely end a rally\n",
    "#     choices.append((next_p(pc), pc, None, None))\n",
    "#     costs.append(NEW_RALLY_COST)\n",
    "#     choice_desc.append('new-rally-start')\n",
    "    \n",
    "#     choices.append((next_p(pc), None, None, None))\n",
    "#     costs.append(NEW_RALLY_COST)\n",
    "#     choice_desc.append('new-rally-end')\n",
    "        \n",
    "#     # Also add a 0 cost option for choosing another point in the current list\n",
    "#     if next_p(pc)[0] == pc[0]:\n",
    "#         choices.append((next_p(pc), p1, p2, p3))\n",
    "#         costs.append(0)\n",
    "#         choice_desc.append('skip-within')\n",
    "        \n",
    "#     for i in range(len(costs)):\n",
    "#         costs[i] += f(*choices[i])\n",
    "        \n",
    "# #     print((pc, p1, p2, p3), '\\n', costs, '\\n', choices, '\\n', choice_desc)\n",
    "#     best_cost = 1e99\n",
    "#     best_choice = None\n",
    "#     best_desc = None\n",
    "#     for (cost, choice, desc) in zip(costs, choices, choice_desc):\n",
    "#         if cost < best_cost:\n",
    "#             best_cost = cost\n",
    "#             best_choice = choice\n",
    "#             best_desc = desc\n",
    "    \n",
    "#     memo_cost[pc, p1, p2, p3] = best_cost\n",
    "#     memo_choice[pc, p1, p2, p3] = (best_desc, best_choice)\n",
    "#     return best_cost\n",
    "\n",
    "# def get_solution(pc, p1, p2, p3):\n",
    "#     total_cost = f(pc, p1, p2, p3)\n",
    "#     soln = []\n",
    "#     curr = (pc, p1, p2, p3)\n",
    "#     while curr[0][0] != len(predictions):\n",
    "#         pc = curr[0]\n",
    "#         if pc[1] == len(predictions[pc[0]]):\n",
    "#             curr = (next_p(pc), curr[1], curr[2], curr[3])\n",
    "#             soln[-1].append(None)\n",
    "#             continue\n",
    "    \n",
    "#         desc = memo_choice[curr][0]\n",
    "#         if desc == 'stay-same':\n",
    "#             soln[-1].append(predictions[pc[0]][pc[1]][1:])\n",
    "#         elif desc == 'change-dir' or desc == 'new-rally-start':\n",
    "#             soln.append([predictions[pc[0]][pc[1]][1:]])\n",
    "#         elif desc == 'skip-point':\n",
    "#             soln[-1].append(None)\n",
    "#         elif desc == 'skip-within':\n",
    "#             pass\n",
    "            \n",
    "#         curr = memo_choice[curr][1]\n",
    "#     return total_cost, soln"
   ]
  },
  {
   "cell_type": "code",
   "execution_count": 95,
   "id": "e931ee6c-2eec-4c7e-b82b-452b8b6bbdab",
   "metadata": {
    "tags": []
   },
   "outputs": [],
   "source": [
    "# cost, rallies = get_solution((0,0), None, None, None)\n",
    "# print(cost)\n",
    "# print(len(rallies))\n",
    "# print(sum(len(x) for x in rallies))\n",
    "# rallies"
   ]
  },
  {
   "cell_type": "markdown",
   "id": "2cd861f1-a272-416a-8c5e-8cc2a20efd1a",
   "metadata": {},
   "source": [
    "# Setup"
   ]
  },
  {
   "cell_type": "code",
   "execution_count": 96,
   "id": "8085db6d-be16-426a-a250-75f9cf93cb1d",
   "metadata": {},
   "outputs": [],
   "source": [
    "L = 1000\n",
    "points = predictions[L:2*L]\n",
    "velocity = flows[L:2*L]"
   ]
  },
  {
   "cell_type": "markdown",
   "id": "9d40b68d-a927-4d88-8648-dc8ee9bd2268",
   "metadata": {},
   "source": [
    "# Greedy solution"
   ]
  },
  {
   "cell_type": "code",
   "execution_count": 97,
   "id": "95d2f64d-5ebe-4c9a-9ea3-37bc00c056d2",
   "metadata": {},
   "outputs": [],
   "source": [
    "positions = []\n",
    "for i in range(len(points)):\n",
    "    best_weight = 0\n",
    "    best_pos = None\n",
    "    for pos in points[i]:\n",
    "        if pos[0] > best_weight:\n",
    "            best_weight = pos[0]\n",
    "            best_pos = pos[1:]\n",
    "    \n",
    "    positions.append(best_pos)"
   ]
  },
  {
   "cell_type": "markdown",
   "id": "38375ce5-3ee1-4d50-ac79-b4f2b6b45910",
   "metadata": {},
   "source": [
    "# (Almost) topological data analysis"
   ]
  },
  {
   "cell_type": "code",
   "execution_count": 286,
   "id": "a8881e33-17b0-4a95-9453-58dacddb1b0d",
   "metadata": {},
   "outputs": [],
   "source": [
    "# Create a graph for each observation\n",
    "from collections import defaultdict\n",
    "\n",
    "graph = defaultdict(list)\n",
    "weight = defaultdict(float)\n",
    "Lt = 2\n",
    "Leps = 8\n",
    "for i in range(len(points)):\n",
    "    for j in range(len(points[i])):\n",
    "        weight[i, j] = points[i][j][0]\n",
    "        # Search back and forth Lt steps and find points within eps\n",
    "        for k in range(max(0, i-Lt), min(len(points), i+Lt+1)):\n",
    "            if k == i:\n",
    "                continue\n",
    "            # Pick the best out all possible prev\n",
    "            for l in range(len(points[k])):\n",
    "                diff = np.array(points[i][j][1:]) - np.array(points[k][l][1:])\n",
    "                if np.all(np.abs(diff) < Leps * np.abs(velocity[i][j])):\n",
    "                    graph[i, j].append((k, l))\n",
    "                    graph[k, l].append((i, j))"
   ]
  },
  {
   "cell_type": "code",
   "execution_count": 287,
   "id": "96879a58-9ff6-4920-9ad8-e9dafceb118d",
   "metadata": {},
   "outputs": [],
   "source": [
    "# Now find the components of the graph\n",
    "seen = {}\n",
    "def dfs(v, num):\n",
    "    stack = [v]\n",
    "    seen[v] = num\n",
    "    comp = [v]\n",
    "    while len(stack):\n",
    "        v = stack.pop()\n",
    "        if v not in graph:\n",
    "            continue\n",
    "        for w in graph[v]:\n",
    "            if w not in seen:\n",
    "                seen[w] = num\n",
    "                stack.append(w)\n",
    "                comp.append(w)\n",
    "                \n",
    "    return comp\n",
    "\n",
    "compweight = defaultdict(float)\n",
    "compsize = defaultdict(int)\n",
    "compid = 0\n",
    "for v in graph:\n",
    "    if v not in seen:\n",
    "        comp = dfs(v, compid)\n",
    "        compw = sum(weight[v] for v in comp)\n",
    "        for w in comp:\n",
    "            compweight[w] = compw\n",
    "            compsize[w] = len(comp)\n",
    "        compid += 1\n",
    "\n",
    "components = defaultdict(list)\n",
    "for v in graph:\n",
    "    components[seen[v]].append(v)\n",
    "    \n",
    "X = components.values()"
   ]
  },
  {
   "cell_type": "code",
   "execution_count": 288,
   "id": "e51a2c2c-085d-4233-a4cd-803ca1d90ac5",
   "metadata": {},
   "outputs": [],
   "source": [
    "Lcomp = 10\n",
    "sorted_comps = []\n",
    "for compv in components.values():\n",
    "    if len(compv) > Lcomp:\n",
    "        sorted_comps.append((-compweight[compv[0]], compv))\n",
    "sorted_comps.sort()"
   ]
  },
  {
   "cell_type": "code",
   "execution_count": 289,
   "id": "07564610-147d-4e44-bf56-4b381d3b8668",
   "metadata": {},
   "outputs": [],
   "source": [
    "# Iterate through components in decreasing weight, doing linear interpolation / collision checking with other comps\n",
    "done = np.array([0] * L)\n",
    "filtered = []\n",
    "for score, comp in sorted_comps:\n",
    "    m, M = min(x[0] for x in comp), max(x[0] for x in comp)\n",
    "    if any(done[m:M+1]):\n",
    "        continue\n",
    "    done[m:M] = 1\n",
    "    split_by_id = defaultdict(list)\n",
    "    for i, j in comp:\n",
    "        split_by_id[i].append((points[i][j], velocity[i][j]))\n",
    "    for i in range(m, M+1):\n",
    "        if i in split_by_id:\n",
    "            split_by_id[i] = sorted(split_by_id[i], reverse=True)\n",
    "            filtered.append((i, split_by_id[i][0]))\n",
    "\n",
    "positions = []\n",
    "velocities = []\n",
    "weights = []\n",
    "cnt = 0\n",
    "for i, p in sorted(filtered):\n",
    "    while cnt < i:\n",
    "        positions.append(None)\n",
    "        velocities.append(None)\n",
    "        weights.append(None)\n",
    "        cnt += 1\n",
    "    positions.append(p[0][1:])\n",
    "    velocities.append(p[1])\n",
    "    weights.append(p[0][0])\n",
    "    cnt += 1"
   ]
  },
  {
   "cell_type": "code",
   "execution_count": 290,
   "id": "e276bf28-029f-458b-99c8-4759098cd8f5",
   "metadata": {},
   "outputs": [],
   "source": [
    "# Lcomp = 10\n",
    "# filtered_preds = []\n",
    "# for i in range(L):\n",
    "#     filtered_preds.append([])\n",
    "#     for j in range(len(points[i])):\n",
    "#         if compsize[(i, j)] > Lcomp:\n",
    "#             filtered_preds[-1].append((compweight[i,j], points[i][j]))\n",
    "\n",
    "# positions = []\n",
    "# for i in range(L):\n",
    "#     best_score = 0\n",
    "#     best_pt = None\n",
    "#     for j in range(len(filtered_preds[i])):\n",
    "#         score = filtered_preds[i][j][0] + filtered_preds[i][j][1][0]\n",
    "#         if score > best_score:\n",
    "#             best_score = score\n",
    "#             best_pt = filtered_preds[i][j][1][1:]\n",
    "#     positions.append(best_pt)"
   ]
  },
  {
   "cell_type": "code",
   "execution_count": 291,
   "id": "e002ba33-3918-4e22-8403-d8cb640de2af",
   "metadata": {},
   "outputs": [],
   "source": [
    "import math\n",
    "import pandas as pd\n",
    "\n",
    "pos_array = [pos if pos is not None else (math.nan, math.nan) for pos in positions]\n",
    "pos_array = np.array(pos_array)\n",
    "vel_array = [vel if vel is not None else (math.nan, math.nan) for vel in velocities]\n",
    "vel_array = np.array(vel_array)\n",
    "w_array = [w if w is not None else 0 for w in weights]\n",
    "w_array = np.array(w_array).reshape((len(w_array), 1))\n",
    "\n",
    "for i in range(1, w_array.shape[0]-1):\n",
    "    if w_array[i-1] and w_array[i]:\n",
    "        w_array[i] += -np.linalg.norm(pos_array[i-1] - pos_array[i])\n",
    "    if w_array[i+1] and w_array[i]:\n",
    "        w_array[i] += -np.linalg.norm(pos_array[i+1] - pos_array[i])\n",
    "    w_array[i] = max(w_array[i], 0)\n",
    "    \n",
    "df = pd.DataFrame(\n",
    "    data=np.hstack([pos_array, vel_array, w_array]), \n",
    "    columns=[\"x\", \"y\", \"vx\", \"vy\", \"w\"]\n",
    ")"
   ]
  },
  {
   "cell_type": "code",
   "execution_count": 292,
   "id": "de2e1bca-5e9a-4641-8c41-c31bf619a6ac",
   "metadata": {},
   "outputs": [],
   "source": [
    "positions = df.values[:, :2]\n",
    "velocities = df.values[:, 2:4]\n",
    "\n",
    "p = 1\n",
    "weights = df.values[:, 4]**p / sum(df.values[:, 4]**p) * sum(df.values[:, 4])\n",
    "times = np.array(range(len(weights))) * 1. / fps\n",
    "\n",
    "from statsmodels.nonparametric.smoothers_lowess import lowess\n",
    "filtered = lowess(weights, times, is_sorted=True, frac=0.1 * fps / len(weights), it=10)\n",
    "filtered = filtered[:, 1]\n",
    "# A = np.average(filtered)\n",
    "# filtered[filtered < A] = 0\n",
    "weights = filtered"
   ]
  },
  {
   "cell_type": "code",
   "execution_count": 293,
   "id": "c7910a43-adfa-4d39-b435-7fccf0039bea",
   "metadata": {},
   "outputs": [
    {
     "data": {
      "text/plain": [
       "[<matplotlib.lines.Line2D at 0x7f0e03cdec10>]"
      ]
     },
     "execution_count": 293,
     "metadata": {},
     "output_type": "execute_result"
    },
    {
     "data": {
      "image/png": "[encoded data removed]",
      "text/plain": [
       "<Figure size 432x288 with 1 Axes>"
      ]
     },
     "metadata": {
      "needs_background": "light"
     },
     "output_type": "display_data"
    }
   ],
   "source": [
    "xo = positions[:, 0]\n",
    "t = times[xo == xo]\n",
    "x = xo[xo == xo]\n",
    "filtered = lowess(x, t, is_sorted=True, frac=0.1 * fps / len(weights), it=5)\n",
    "positions[xo == xo, 0] = filtered[:, 1]\n",
    "\n",
    "xo = positions[:, 1]\n",
    "t = times[xo == xo]\n",
    "x = xo[xo == xo]\n",
    "filtered = lowess(x, t, is_sorted=True, frac=0.1 * fps / len(weights), it=5)\n",
    "positions[xo == xo, 1] = filtered[:, 1]\n",
    "\n",
    "plt.plot(t[50:100], x[50:100])\n",
    "plt.plot(t[50:100], filtered[50:100, 1])"
   ]
  },
  {
   "cell_type": "code",
   "execution_count": 294,
   "id": "2e454f1d-2503-4590-a597-f76498042420",
   "metadata": {},
   "outputs": [
    {
     "data": {
      "text/plain": [
       "[<matplotlib.lines.Line2D at 0x7f0e03c431f0>]"
      ]
     },
     "execution_count": 294,
     "metadata": {},
     "output_type": "execute_result"
    },
    {
     "data": {
      "image/png": "[encoded data removed]",
      "text/plain": [
       "<Figure size 432x288 with 1 Axes>"
      ]
     },
     "metadata": {
      "needs_background": "light"
     },
     "output_type": "display_data"
    }
   ],
   "source": [
    "from matplotlib import pyplot as plt\n",
    "\n",
    "plt.plot(velocities[:240,0])\n",
    "plt.plot(velocities[:240,1])"
   ]
  },
  {
   "cell_type": "code",
   "execution_count": 295,
   "id": "25d8ab82-cf3e-477b-b347-86f4738a911a",
   "metadata": {},
   "outputs": [
    {
     "data": {
      "text/plain": [
       "[<matplotlib.lines.Line2D at 0x7f0e03c12d30>]"
      ]
     },
     "execution_count": 295,
     "metadata": {},
     "output_type": "execute_result"
    },
    {
     "data": {
      "image/png": "[encoded data removed]",
      "text/plain": [
       "<Figure size 432x288 with 1 Axes>"
      ]
     },
     "metadata": {
      "needs_background": "light"
     },
     "output_type": "display_data"
    }
   ],
   "source": [
    "plt.plot(positions[:100, 0])\n",
    "plt.plot(positions[:100, 1])\n",
    "plt.plot(weights[:100])"
   ]
  },
  {
   "cell_type": "code",
   "execution_count": 296,
   "id": "214cf246-ed56-436a-9c24-1b13bfa0ca2f",
   "metadata": {
    "tags": []
   },
   "outputs": [
    {
     "name": "stdout",
     "output_type": "stream",
     "text": [
      "20\n",
      "24\n",
      "22\n",
      "13\n",
      "25\n",
      "23\n",
      "25\n",
      "25\n",
      "25\n",
      "17\n",
      "16\n",
      "25\n",
      "25\n",
      "24\n",
      "24\n",
      "24\n",
      "25\n",
      "24\n",
      "0\n",
      "0\n",
      "19\n",
      "25\n",
      "16\n",
      "13\n",
      "19\n",
      "25\n",
      "24\n",
      "0\n",
      "0\n",
      "19\n",
      "25\n",
      "16\n",
      "25\n",
      "25\n",
      "25\n",
      "22\n",
      "13\n",
      "25\n",
      "25\n",
      "23\n"
     ]
    }
   ],
   "source": [
    "from scipy.interpolate import LSQUnivariateSpline, UnivariateSpline\n",
    "\n",
    "Xb = positions[:, 0]\n",
    "Yb = positions[:, 1]\n",
    "i = 0\n",
    "while i < len(Xb):\n",
    "    cnt, j = 0, i\n",
    "    while j < len(Xb) and j - i < 25:\n",
    "        cnt += Xb[j] == Xb[j]\n",
    "        j += 1\n",
    "    coords = [(k, weights[i+k], pos) for k, pos in enumerate(positions[i:j, :2]) if pos[0] == pos[0]]\n",
    "    \n",
    "    print(cnt)\n",
    "    if cnt < 5:\n",
    "        i = j\n",
    "        continue\n",
    "        \n",
    "    t = np.array([c[0] for c in coords])\n",
    "    x = np.array([c[2][0] for c in coords])\n",
    "    y = np.array([c[2][1] for c in coords])\n",
    "    w = np.array([c[1] for c in coords])\n",
    "#     w = w / np.sum(w)\n",
    "\n",
    "    best_score = 1e99\n",
    "    best_splines = None\n",
    "#     spline_x = UnivariateSpline(t, x, w, s=5, k=1)\n",
    "#     spline_y = UnivariateSpline(t, y, w, s=5, k=1)\n",
    "#     best_splines = [spline_x, spline_y]\n",
    "#     if j - i > 30:\n",
    "#     for k0 in range(1, len(t)):\n",
    "#         for k1 in range(k0+1, len(t)-1):\n",
    "#             spline_x = LSQUnivariateSpline(t, x, np.array([t[k0], t[k1]]), w=w, k=2)\n",
    "#             spline_y = LSQUnivariateSpline(t, y, np.array([t[k0], t[k1]]), w=w, k=2)\n",
    "#             score = spline_x.get_residual() + spline_y.get_residual()\n",
    "#             if score < best_score:\n",
    "#                 best_score = score\n",
    "#                 best_splines = [spline_x, spline_y]\n",
    "#     else:\n",
    "    for k0 in range(1, len(t)-1):\n",
    "        spline_x = LSQUnivariateSpline(t, x, np.array([t[k0]]), w=w, k=2)\n",
    "        spline_y = LSQUnivariateSpline(t, y, np.array([t[k0]]), w=w, k=2)\n",
    "        score = spline_x.get_residual() + spline_y.get_residual()\n",
    "        if score < best_score:\n",
    "            best_score = score\n",
    "            best_splines = [spline_x, spline_y]\n",
    "    \n",
    "    # Remove broad trends\n",
    "    sx, sy = best_splines[0](t), best_splines[1](t)\n",
    "    dx = x - sx\n",
    "    dy = y - sy\n",
    "    mx, my = np.average(dx), np.average(dx)\n",
    "    vx, vy = np.average((dx - mx)**2), np.average((dy - my)**2)\n",
    "    \n",
    "#     replaced = False\n",
    "#     for idx in range(len(t)):\n",
    "#         if abs(dx[idx]-mx) > vx**0.5+5 or abs(dy[idx]-my) > vy**0.5+5:\n",
    "#             Xb[i + t[idx]] = sx[idx]\n",
    "#             Yb[i + t[idx]] = sy[idx]\n",
    "#             replaced = True\n",
    "#             print('replaced', i + t[idx])\n",
    "    \n",
    "    t = np.array(range(j - i))\n",
    "    sx, sy = best_splines[0](t), best_splines[1](t)\n",
    "    for idx in range(len(t)):\n",
    "        x, y = Xb[i + t[idx]], Yb[i + t[idx]]\n",
    "        if x != x or abs(x-sx[idx]-mx) > 2 * vx**0.5+5 or abs(y-sy[idx]-my) > 2 * vy**0.5+5:\n",
    "            Xb[i + t[idx]] = sx[idx]\n",
    "            Yb[i + t[idx]] = sy[idx]\n",
    "        \n",
    "#     if replaced:\n",
    "#         print(i, j)\n",
    "#         t_knots = spline_x.get_knots()\n",
    "#         plt.plot(t, sx)\n",
    "#         plt.plot(t, sy)\n",
    "#         plt.plot(t, x)\n",
    "#         plt.plot(t, y)\n",
    "#         plt.plot(t_knots, best_splines[0](t_knots), 'o', color='red', label='knots')\n",
    "#         plt.plot(t_knots, best_splines[1](t_knots), 'o', color='green', label='knots')\n",
    "#         plt.figure()\n",
    "    \n",
    "    i = j\n",
    "#     i += 10\n",
    "\n",
    "positions[:, 0] = Xb\n",
    "positions[:, 1] = Yb"
   ]
  },
  {
   "cell_type": "code",
   "execution_count": 297,
   "id": "e73b05f9-2edc-427d-b5e2-5b69a3793008",
   "metadata": {},
   "outputs": [],
   "source": [
    "# from scipy.signal import butter, filtfilt\n",
    "\n",
    "# def butter_lowpass_filter(data, cutoff, fs, order):\n",
    "#     nyq = 0.5 * fs\n",
    "#     normal_cutoff = cutoff / nyq\n",
    "#     # Get the filter coefficients \n",
    "#     b, a = butter(order, normal_cutoff, btype='low', analog=False)\n",
    "#     y = filtfilt(b, a, data)\n",
    "#     return y\n",
    "    \n",
    "# positions[:, 0] = butter_lowpass_filter(positions[:, 0], 4, fps, 3)\n",
    "# positions[:, 1] = butter_lowpass_filter(positions[:, 1], 4, fps, 3)"
   ]
  },
  {
   "cell_type": "code",
   "execution_count": 298,
   "id": "7ecdeaae-fda6-4482-bacd-a017852f8d16",
   "metadata": {},
   "outputs": [],
   "source": [
    "# positions = df.values\n",
    "# s_old = 1e99\n",
    "# while True:\n",
    "#     Xb = positions[:, 0]\n",
    "#     Yb = positions[:, 1]\n",
    "\n",
    "#     def diff(X):\n",
    "#         Z = []\n",
    "#         for i in range(X.shape[0]-1):\n",
    "#             if X[i] != X[i] or X[i+1] != X[i+1]:\n",
    "#                 continue\n",
    "#             Z.append(abs(X[i+1] - X[i]))\n",
    "#         return np.array(Z)\n",
    "\n",
    "#     xa, ya = np.average(diff(Xb)), np.average(diff(Yb))\n",
    "#     vx, vy = np.average((diff(Xb) - xa)**2), np.average((diff(Yb) - ya)**2)\n",
    "\n",
    "#     for i in range(len(Xb)-1):\n",
    "#         if Xb[i] != Xb[i]:\n",
    "#             continue\n",
    "#         if i > 1 and Xb[i-1] != Xb[i-1] and Xb[i+1] != Xb[i+1]:\n",
    "#             Xb[i] = Yb[i] = math.nan\n",
    "#             continue\n",
    "            \n",
    "#         d0 = abs(Xb[i+1] - Xb[i])\n",
    "#         d1 = abs(Yb[i+1] - Yb[i])\n",
    "\n",
    "#         if d0 > xa + 3 * vx**0.5 or d1 > ya + 3 * vy**0.5:\n",
    "#             Xb[i] = math.nan\n",
    "#             Yb[i] = math.nan\n",
    "    \n",
    "#     if vx + vy < sold:\n",
    "#         s_old = vx + vy\n",
    "#     else:\n",
    "#         break\n",
    "\n",
    "# # df.interpolate(method='slinear', inplace=True)\n",
    "# # df.fillna(method='bfill', inplace=True)\n",
    "# # df.fillna(method='ffill', inplace=True)\n",
    "# positions[:, 0] = Xb\n",
    "# positions[:, 1] = Yb"
   ]
  },
  {
   "cell_type": "code",
   "execution_count": 299,
   "id": "8d38eff8-de4d-49e1-8496-01df49911b41",
   "metadata": {},
   "outputs": [
    {
     "data": {
      "text/plain": [
       "998"
      ]
     },
     "execution_count": 299,
     "metadata": {},
     "output_type": "execute_result"
    }
   ],
   "source": [
    "len(positions)"
   ]
  },
  {
   "cell_type": "code",
   "execution_count": 300,
   "id": "2aa883e9-b353-4cb1-a8ab-729cacb6e4f2",
   "metadata": {},
   "outputs": [
    {
     "data": {
      "application/vnd.jupyter.widget-view+json": {
       "model_id": "ae48bc974f734c538b45fd4096aa3c5c",
       "version_major": 2,
       "version_minor": 0
      },
      "text/plain": [
       "  0%|          | 0/998 [00:00<?, ?it/s]"
      ]
     },
     "metadata": {},
     "output_type": "display_data"
    }
   ],
   "source": [
    "cap = cv2.VideoCapture(video_name)\n",
    "count = 0\n",
    "\n",
    "cap.set(cv2.CAP_PROP_POS_FRAMES, L-1)\n",
    "\n",
    "size = (image.shape[1], image.shape[0])\n",
    "fps = 25\n",
    "fourcc = cv2.VideoWriter_fourcc(*'mp4v')\n",
    "out = cv2.VideoWriter('output/test.mp4', fourcc, fps, size)\n",
    "\n",
    "for pos in tqdm(positions):\n",
    "    _, frame = cap.read()\n",
    "    if pos is not None and pos[0] == pos[0]:\n",
    "        cv2.circle(frame, (int(pos[0]), int(pos[1])), 10, (0, 0, 255), -1)\n",
    "    out.write(frame)\n",
    "out.release()"
   ]
  },
  {
   "cell_type": "code",
   "execution_count": 608,
   "id": "5e73a242-bded-4029-9676-773561f40067",
   "metadata": {},
   "outputs": [
    {
     "ename": "KeyboardInterrupt",
     "evalue": "",
     "output_type": "error",
     "traceback": [
      "\u001b[0;31m---------------------------------------------------------------------------\u001b[0m",
      "\u001b[0;31mKeyboardInterrupt\u001b[0m                         Traceback (most recent call last)",
      "\u001b[0;32m<ipython-input-608-f68ddb2398c3>\u001b[0m in \u001b[0;36m<module>\u001b[0;34m\u001b[0m\n\u001b[1;32m     18\u001b[0m     \u001b[0;32mif\u001b[0m \u001b[0mpos\u001b[0m \u001b[0;32mis\u001b[0m \u001b[0;32mnot\u001b[0m \u001b[0;32mNone\u001b[0m\u001b[0;34m:\u001b[0m\u001b[0;34m\u001b[0m\u001b[0;34m\u001b[0m\u001b[0m\n\u001b[1;32m     19\u001b[0m         \u001b[0mcv2\u001b[0m\u001b[0;34m.\u001b[0m\u001b[0mcircle\u001b[0m\u001b[0;34m(\u001b[0m\u001b[0mframe\u001b[0m\u001b[0;34m,\u001b[0m \u001b[0;34m(\u001b[0m\u001b[0mint\u001b[0m\u001b[0;34m(\u001b[0m\u001b[0mpos\u001b[0m\u001b[0;34m[\u001b[0m\u001b[0;36m0\u001b[0m\u001b[0;34m]\u001b[0m\u001b[0;34m)\u001b[0m\u001b[0;34m,\u001b[0m \u001b[0mint\u001b[0m\u001b[0;34m(\u001b[0m\u001b[0mpos\u001b[0m\u001b[0;34m[\u001b[0m\u001b[0;36m1\u001b[0m\u001b[0;34m]\u001b[0m\u001b[0;34m)\u001b[0m\u001b[0;34m)\u001b[0m\u001b[0;34m,\u001b[0m \u001b[0;36m10\u001b[0m\u001b[0;34m,\u001b[0m \u001b[0;34m(\u001b[0m\u001b[0;36m0\u001b[0m\u001b[0;34m,\u001b[0m \u001b[0;36m0\u001b[0m\u001b[0;34m,\u001b[0m \u001b[0;36m255\u001b[0m\u001b[0;34m)\u001b[0m\u001b[0;34m,\u001b[0m \u001b[0;34m-\u001b[0m\u001b[0;36m1\u001b[0m\u001b[0;34m)\u001b[0m\u001b[0;34m\u001b[0m\u001b[0;34m\u001b[0m\u001b[0m\n\u001b[0;32m---> 20\u001b[0;31m     \u001b[0mout\u001b[0m\u001b[0;34m.\u001b[0m\u001b[0mwrite\u001b[0m\u001b[0;34m(\u001b[0m\u001b[0mframe\u001b[0m\u001b[0;34m)\u001b[0m\u001b[0;34m\u001b[0m\u001b[0;34m\u001b[0m\u001b[0m\n\u001b[0m\u001b[1;32m     21\u001b[0m \u001b[0mout\u001b[0m\u001b[0;34m.\u001b[0m\u001b[0mrelease\u001b[0m\u001b[0;34m(\u001b[0m\u001b[0;34m)\u001b[0m\u001b[0;34m\u001b[0m\u001b[0;34m\u001b[0m\u001b[0m\n",
      "\u001b[0;31mKeyboardInterrupt\u001b[0m: "
     ]
    }
   ],
   "source": [
    "# cap = cv2.VideoCapture(video_name)\n",
    "# count = 0\n",
    "\n",
    "# size = (image.shape[1], image.shape[0])\n",
    "# fps = 25\n",
    "# fourcc = cv2.VideoWriter_fourcc(*'mp4v')\n",
    "# out = cv2.VideoWriter('output/control.mp4', fourcc, fps, size)\n",
    "\n",
    "# for poslist in points:\n",
    "#     bestScore = 0\n",
    "#     pos = None\n",
    "#     for cpos in poslist:\n",
    "#         if cpos[0] > bestScore:\n",
    "#             bestScore = cpos[0]\n",
    "#             pos = cpos[1:]\n",
    "            \n",
    "#     _, frame = cap.read()\n",
    "#     if pos is not None:\n",
    "#         cv2.circle(frame, (int(pos[0]), int(pos[1])), 10, (0, 0, 255), -1)\n",
    "#     out.write(frame)\n",
    "# out.release()"
   ]
  },
  {
   "cell_type": "code",
   "execution_count": null,
   "id": "d2633e24-4133-4a69-bcf0-bdd6fd3662ed",
   "metadata": {},
   "outputs": [],
   "source": [
    "# cap = cv2.VideoCapture(video_name)\n",
    "# count = 0\n",
    "\n",
    "# size = (image.shape[1], image.shape[0])\n",
    "# fps = 25\n",
    "# fourcc = cv2.VideoWriter_fourcc(*'mp4v')\n",
    "# out = cv2.VideoWriter('output/test.mp4', fourcc, fps, size)\n",
    "\n",
    "# for rid, rally in enumerate(rallies):\n",
    "#     for pos in rally:\n",
    "#         _, frame = cap.read()\n",
    "#         count += 1\n",
    "#         if pos is not None:\n",
    "#             cv2.circle(frame, (int(pos[0]), int(pos[1])), 10, (0,0,255) if rid % 2 else (255,0,0), -1)\n",
    "#         out.write(frame)\n",
    "# out.release()"
   ]
  },
  {
   "cell_type": "code",
   "execution_count": 312,
   "id": "10427f7b-6eed-4cb7-8ad7-3f24a6c6547b",
   "metadata": {},
   "outputs": [
    {
     "data": {
      "application/vnd.jupyter.widget-view+json": {
       "model_id": "c4f6cec7d5d04ef0b149ed33aa14b1e8",
       "version_major": 2,
       "version_minor": 0
      },
      "text/plain": [
       "  0%|          | 0/1000 [00:00<?, ?it/s]"
      ]
     },
     "metadata": {},
     "output_type": "display_data"
    }
   ],
   "source": [
    "cap = cv2.VideoCapture(video_name)\n",
    "count = 0\n",
    "\n",
    "size = (image.shape[1], image.shape[0])\n",
    "fps = 25\n",
    "fourcc = cv2.VideoWriter_fourcc(*'mp4v')\n",
    "out = cv2.VideoWriter('output/heatmap.mp4', fourcc, fps, size)\n",
    "\n",
    "cap = cv2.VideoCapture(video_name)\n",
    "count = 0\n",
    "\n",
    "cap.set(cv2.CAP_PROP_POS_FRAMES, L-1)\n",
    "for heatmap in tqdm(heatmaps[L:2*L]):\n",
    "    heatmap = cv2.resize(heatmap, size)\n",
    "    heatmap = cv2.cvtColor(heatmap, cv2.COLOR_GRAY2RGB)\n",
    "    _, frame = cap.read()\n",
    "    X = 0.7 * heatmap + 0.3 * frame\n",
    "    X = X.astype('uint8')\n",
    "    out.write(X)\n",
    "out.release()"
   ]
  },
  {
   "cell_type": "code",
   "execution_count": 307,
   "id": "2fbc9a08-1d86-47e6-aef6-2149a9b6e185",
   "metadata": {},
   "outputs": [
    {
     "data": {
      "text/plain": [
       "14"
      ]
     },
     "execution_count": 307,
     "metadata": {},
     "output_type": "execute_result"
    }
   ],
   "source": [
    "np.max(heatmaps[L:2*L][0])"
   ]
  },
  {
   "cell_type": "code",
   "execution_count": null,
   "id": "f88fe305-6e62-43f3-b395-d541809a61a9",
   "metadata": {},
   "outputs": [],
   "source": []
  }
 ],
 "metadata": {
  "kernelspec": {
   "display_name": "Python 3",
   "language": "python",
   "name": "python3"
  },
  "language_info": {
   "codemirror_mode": {
    "name": "ipython",
    "version": 3
   },
   "file_extension": ".py",
   "mimetype": "text/x-python",
   "name": "python",
   "nbconvert_exporter": "python",
   "pygments_lexer": "ipython3",
   "version": "3.8.5"
  }
 },
 "nbformat": 4,
 "nbformat_minor": 5
}
