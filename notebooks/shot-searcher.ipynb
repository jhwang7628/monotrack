{
 "cells": [
  {
   "cell_type": "code",
   "execution_count": 1,
   "id": "7f4384aa-22e8-4392-9e0b-cc7a7f59e31c",
   "metadata": {},
   "outputs": [],
   "source": [
    "# Break down rallies into shot sequences\n",
    "# Basic algorithm:\n",
    "# - Use feet position to hash the 2d location where a shot was hit\n",
    "# - Extract out maximal shot sequences from all the rallies we have\n",
    "\n",
    "# Basic algorithm:\n",
    "# - Create databases of 1,2,3,...,n shot sequences\n",
    "# - Given a shot diagram compute a similarity score between that diagram and all known shot sequences\n",
    "# - Return statistics:\n",
    "#     - top-k most similar sequences\n",
    "#     - shot return probabilities for each area of the court (and probability of winning)\n"
   ]
  },
  {
   "cell_type": "code",
   "execution_count": 8,
   "id": "ac49a28d-9f2c-447a-be95-b4c71bc5be76",
   "metadata": {},
   "outputs": [
    {
     "name": "stdout",
     "output_type": "stream",
     "text": [
      "The autoreload extension is already loaded. To reload it, use:\n",
      "  %reload_ext autoreload\n"
     ]
    }
   ],
   "source": [
    "# %matplotlib inline\n",
    "%matplotlib widget\n",
    "# %matplotlib ipympl\n",
    "%load_ext autoreload\n",
    "%autoreload 2\n",
    "\n",
    "import matplotlib.pyplot as plt\n",
    "\n",
    "import os\n",
    "import pandas as pd\n",
    "import numpy as np\n",
    "import cv2\n",
    "import errno\n",
    "\n",
    "from ai_badminton.trajectory import Trajectory\n",
    "from ai_badminton.hit_detector import AdhocHitDetector, MLHitDetector\n",
    "from ai_badminton.pose import Pose, read_player_poses, process_pose_file\n",
    "from ai_badminton.court import Court, read_court\n",
    "from ai_badminton.video_annotator import annotate_video\n",
    "from ai_badminton.shots import *\n"
   ]
  },
  {
   "cell_type": "code",
   "execution_count": 9,
   "id": "257e5d40-4c18-49d1-9d43-13c57a2977d9",
   "metadata": {},
   "outputs": [],
   "source": [
    "# Build shot database from rallies\n",
    "matches = list('match' + str(i) for i in range(1, 23))\n",
    "\n",
    "sequences = []\n",
    "for match in matches:\n",
    "    for video in os.listdir('/home/code-base/scratch_space/data/%s/rally_video/' % match):\n",
    "        rally, _ = os.path.splitext(video)\n",
    "        court_pts = read_court('/home/code-base/scratch_space/data/%s/court/%s.out' % (match, rally))\n",
    "        corners = [court_pts[1], court_pts[2], court_pts[0], court_pts[3]]\n",
    "        court = Court(corners)\n",
    "        trajectory = Trajectory(\n",
    "            '/home/code-base/scratch_space/data/%s/ball_trajectory/%s_ball.csv' % (match, rally)\n",
    "        )\n",
    "        \n",
    "        hits = pd.read_csv('/home/code-base/scratch_space/data/%s/shot/%s_hit.csv' % (match, rally))\n",
    "        poses = read_player_poses('/home/code-base/scratch_space/data/%s/poses/%s' % (match, rally))\n",
    "        \n",
    "        # Identify first hit by distance to pose\n",
    "        # and then alternate hits\n",
    "        def dist_to_pose(pose, p):\n",
    "            pose = pose.reshape(17, 2)\n",
    "            p = p.reshape(1, 2)\n",
    "            D = np.sum((pose - p) * (pose - p), axis=1)\n",
    "            return min(D)\n",
    "        \n",
    "        hits = np.array(hits.hit.to_numpy())\n",
    "        last = -1\n",
    "        for i in range(hits.shape[0]):\n",
    "            if not hits[i]:\n",
    "                continue\n",
    "                \n",
    "            if last == -1:\n",
    "                p = np.array([trajectory.X[i], trajectory.Y[i]])\n",
    "                db = dist_to_pose(poses[0].values[i], p)\n",
    "                dt = dist_to_pose(poses[1].values[i], p)\n",
    "                ratio = max((db/dt)**0.5, (dt/db)**0.5)\n",
    "                \n",
    "                if dt < db:\n",
    "                    hits[i] = 2\n",
    "                else:\n",
    "                    hits[i] = 1\n",
    "                last = hits[i]\n",
    "                \n",
    "                # Bad cases are all 2's\n",
    "                if 0.9 < ratio < 1.1:\n",
    "                    hits[i] = 1\n",
    "            else:\n",
    "                hits[i] = 3 - last\n",
    "                last = hits[i]\n",
    "                \n",
    "        # Generate arrays of which frames the shuttles were hit and who hit it\n",
    "        hit_frame, who_hit = [], []\n",
    "        L = hits.shape[0]\n",
    "        for i in range(L):\n",
    "            if hits[i]:\n",
    "                hit_frame.append(i)\n",
    "                who_hit.append(hits[i])\n",
    "                \n",
    "        # Assume the rally ends 4 frames from the end\n",
    "        hit_frame.append(L - 4)\n",
    "        who_hit.append(3)\n",
    "        sequence = generate_sequence(\n",
    "            court, trajectory, poses, (hit_frame, who_hit)\n",
    "        )\n",
    "        sequences.append([match, video, sequence])"
   ]
  },
  {
   "cell_type": "code",
   "execution_count": 10,
   "id": "db82b045-2e13-4bf3-9e5c-4117e9d0f0a9",
   "metadata": {},
   "outputs": [
    {
     "data": {
      "application/vnd.jupyter.widget-view+json": {
       "model_id": "a8f208791db74c029726da539a2b5fe3",
       "version_major": 2,
       "version_minor": 0
      },
      "text/plain": [
       "Canvas(toolbar=Toolbar(toolitems=[('Home', 'Reset original view', 'home', 'home'), ('Back', 'Back to previous …"
      ]
     },
     "metadata": {},
     "output_type": "display_data"
    },
    {
     "data": {
      "text/plain": [
       "(array([[0., 0., 0., ..., 0., 0., 0.],\n",
       "        [0., 0., 0., ..., 0., 0., 0.],\n",
       "        [0., 0., 0., ..., 0., 0., 0.],\n",
       "        ...,\n",
       "        [0., 0., 0., ..., 0., 0., 0.],\n",
       "        [1., 0., 0., ..., 0., 0., 0.],\n",
       "        [0., 1., 0., ..., 0., 0., 0.]]),\n",
       " array([0.  , 0.01, 0.02, 0.03, 0.04, 0.05, 0.06, 0.07, 0.08, 0.09, 0.1 ,\n",
       "        0.11, 0.12, 0.13, 0.14, 0.15, 0.16, 0.17, 0.18, 0.19, 0.2 , 0.21,\n",
       "        0.22, 0.23, 0.24, 0.25, 0.26, 0.27, 0.28, 0.29, 0.3 , 0.31, 0.32,\n",
       "        0.33, 0.34, 0.35, 0.36, 0.37, 0.38, 0.39, 0.4 , 0.41, 0.42, 0.43,\n",
       "        0.44, 0.45, 0.46, 0.47, 0.48, 0.49, 0.5 , 0.51, 0.52, 0.53, 0.54,\n",
       "        0.55, 0.56, 0.57, 0.58, 0.59, 0.6 , 0.61, 0.62, 0.63, 0.64, 0.65,\n",
       "        0.66, 0.67, 0.68, 0.69, 0.7 , 0.71, 0.72, 0.73, 0.74, 0.75, 0.76,\n",
       "        0.77, 0.78, 0.79, 0.8 , 0.81, 0.82, 0.83, 0.84, 0.85, 0.86, 0.87,\n",
       "        0.88, 0.89, 0.9 , 0.91, 0.92, 0.93, 0.94, 0.95, 0.96, 0.97, 0.98,\n",
       "        0.99, 1.  ]),\n",
       " array([0.  , 0.01, 0.02, 0.03, 0.04, 0.05, 0.06, 0.07, 0.08, 0.09, 0.1 ,\n",
       "        0.11, 0.12, 0.13, 0.14, 0.15, 0.16, 0.17, 0.18, 0.19, 0.2 , 0.21,\n",
       "        0.22, 0.23, 0.24, 0.25, 0.26, 0.27, 0.28, 0.29, 0.3 , 0.31, 0.32,\n",
       "        0.33, 0.34, 0.35, 0.36, 0.37, 0.38, 0.39, 0.4 , 0.41, 0.42, 0.43,\n",
       "        0.44, 0.45, 0.46, 0.47, 0.48, 0.49, 0.5 , 0.51, 0.52, 0.53, 0.54,\n",
       "        0.55, 0.56, 0.57, 0.58, 0.59, 0.6 , 0.61, 0.62, 0.63, 0.64, 0.65,\n",
       "        0.66, 0.67, 0.68, 0.69, 0.7 , 0.71, 0.72, 0.73, 0.74, 0.75, 0.76,\n",
       "        0.77, 0.78, 0.79, 0.8 , 0.81, 0.82, 0.83, 0.84, 0.85, 0.86, 0.87,\n",
       "        0.88, 0.89, 0.9 , 0.91, 0.92, 0.93, 0.94, 0.95, 0.96, 0.97, 0.98,\n",
       "        0.99, 1.  ]),\n",
       " <matplotlib.collections.QuadMesh at 0x7f3c8f9c7940>)"
      ]
     },
     "execution_count": 10,
     "metadata": {},
     "output_type": "execute_result"
    }
   ],
   "source": [
    "x = [s[1][0] for seq in sequences for s in seq[2]]\n",
    "y = [s[1][1] for seq in sequences for s in seq[2]]\n",
    "plt.hist2d(x, y, bins=100, range=[[0,1], [0,1]])"
   ]
  },
  {
   "cell_type": "code",
   "execution_count": 11,
   "id": "53b5ce41-76b0-46eb-8cab-47e8a2a76d03",
   "metadata": {},
   "outputs": [
    {
     "data": {
      "application/vnd.jupyter.widget-view+json": {
       "model_id": "898aff0248364cc8a82f1ea8c2e37221",
       "version_major": 2,
       "version_minor": 0
      },
      "text/plain": [
       "Canvas(toolbar=Toolbar(toolitems=[('Home', 'Reset original view', 'home', 'home'), ('Back', 'Back to previous …"
      ]
     },
     "metadata": {},
     "output_type": "display_data"
    },
    {
     "data": {
      "text/plain": [
       "Text(0.5, 1.0, 'x_hit distribution')"
      ]
     },
     "execution_count": 11,
     "metadata": {},
     "output_type": "execute_result"
    }
   ],
   "source": [
    "fig1 = plt.figure()\n",
    "plt.hist(x, bins=50, range=(0,1))\n",
    "plt.title('x_hit distribution')"
   ]
  },
  {
   "cell_type": "code",
   "execution_count": 12,
   "id": "49fc40a3-9285-473b-ba7f-ac28ec1c3dbb",
   "metadata": {},
   "outputs": [
    {
     "data": {
      "application/vnd.jupyter.widget-view+json": {
       "model_id": "9dfe82eb76f34ecf943c9e7bce1604da",
       "version_major": 2,
       "version_minor": 0
      },
      "text/plain": [
       "Canvas(toolbar=Toolbar(toolitems=[('Home', 'Reset original view', 'home', 'home'), ('Back', 'Back to previous …"
      ]
     },
     "metadata": {},
     "output_type": "display_data"
    },
    {
     "data": {
      "text/plain": [
       "Text(0.5, 1.0, 'y_hit distribution')"
      ]
     },
     "execution_count": 12,
     "metadata": {},
     "output_type": "execute_result"
    }
   ],
   "source": [
    "fig2 = plt.figure()\n",
    "plt.hist(y, bins=50, range=(0,1))\n",
    "plt.title('y_hit distribution')"
   ]
  },
  {
   "cell_type": "code",
   "execution_count": 15,
   "id": "01cfcb0e-10cb-4e30-81d4-6303e869bc4e",
   "metadata": {},
   "outputs": [
    {
     "data": {
      "application/vnd.jupyter.widget-view+json": {
       "model_id": "54b153544b104180a9f7b4df898eae43",
       "version_major": 2,
       "version_minor": 0
      },
      "text/plain": [
       "Canvas(toolbar=Toolbar(toolitems=[('Home', 'Reset original view', 'home', 'home'), ('Back', 'Back to previous …"
      ]
     },
     "metadata": {},
     "output_type": "display_data"
    },
    {
     "data": {
      "application/vnd.jupyter.widget-view+json": {
       "model_id": "26bc4da907814312a50918c0d04f7251",
       "version_major": 2,
       "version_minor": 0
      },
      "text/plain": [
       "Button(description='Reset state', icon='trash', style=ButtonStyle(), tooltip='Reset state')"
      ]
     },
     "metadata": {},
     "output_type": "display_data"
    },
    {
     "data": {
      "application/vnd.jupyter.widget-view+json": {
       "model_id": "02b9018474b5422ea06d2dbfa6a54732",
       "version_major": 2,
       "version_minor": 0
      },
      "text/plain": [
       "Button(description='Save search', icon='check', style=ButtonStyle(), tooltip='Save state')"
      ]
     },
     "metadata": {},
     "output_type": "display_data"
    },
    {
     "data": {
      "application/vnd.jupyter.widget-view+json": {
       "model_id": "7d904c4df12647bc8a73d161fc51644e",
       "version_major": 2,
       "version_minor": 0
      },
      "text/plain": [
       "IntProgress(value=0, description='Saving...', style=ProgressStyle(bar_color='maroon'))"
      ]
     },
     "metadata": {},
     "output_type": "display_data"
    },
    {
     "data": {
      "application/vnd.jupyter.widget-view+json": {
       "model_id": "de287033d2ac4d0f858158b26bf978d7",
       "version_major": 2,
       "version_minor": 0
      },
      "text/plain": [
       "Textarea(value='', description='Status:', placeholder='')"
      ]
     },
     "metadata": {},
     "output_type": "display_data"
    }
   ],
   "source": [
    "import ipywidgets as wdg  # Using the ipython notebook widgets\n",
    "import copy\n",
    "\n",
    "frame = cv2.imread('./court.jpg')\n",
    "height, width = frame.shape[0], frame.shape[1]\n",
    "\n",
    "from matplotlib.backend_bases import MouseButton\n",
    "# Let's manually pick out the court pixel coordinates first\n",
    "fig = plt.figure()\n",
    "plt.imshow(frame)\n",
    "\n",
    "# Create and display textarea widget\n",
    "txt = wdg.Textarea(\n",
    "    value='',\n",
    "    placeholder='',\n",
    "    description='Status:',\n",
    "    disabled=False\n",
    ")\n",
    "\n",
    "def create_subsequences(seqs):\n",
    "    res = []\n",
    "    for seq in seqs:\n",
    "        for i in range(len(seq[2])):\n",
    "            res.append([seq[0], seq[1], seq[2][i:]])\n",
    "    return res\n",
    "\n",
    "# A basic UI function to store the court\n",
    "subsequences = create_subsequences(sequences)\n",
    "points, frames, shots = [], [], []\n",
    "\n",
    "def reset_state(event):\n",
    "    global points, frames, shots\n",
    "    points = []\n",
    "    frames = [frame]\n",
    "    shots = [ShotFilter(subsequences)]\n",
    "    plt.imshow(frames[-1])\n",
    "\n",
    "reset_button = wdg.Button(\n",
    "    description='Reset state',\n",
    "    disabled=False,\n",
    "    button_style='', # 'success', 'info', 'warning', 'danger' or ''\n",
    "    tooltip='Reset state',\n",
    "    icon='trash' # (FontAwesome names without the `fa-` prefix)\n",
    ")\n",
    "reset_button.on_click(reset_state)\n",
    "display(reset_button)\n",
    "reset_state(None)\n",
    "\n",
    "bar = wdg.IntProgress(\n",
    "    value=0,\n",
    "    min=0,\n",
    "    max=100,\n",
    "    description='Saving...',\n",
    "    bar_style='', # 'success', 'info', 'warning', 'danger' or ''\n",
    "    style={'bar_color': 'maroon'},\n",
    "    orientation='horizontal'\n",
    ")\n",
    "\n",
    "def save_rally(path, seq, nshots):\n",
    "    try:\n",
    "        os.makedirs('output')\n",
    "    except OSError as e:\n",
    "        if e.errno != errno.EEXIST:\n",
    "            raise\n",
    "    \n",
    "    invid = cv2.VideoCapture('/home/code-base/scratch_space/data/%s/rally_video/%s' % (seq[0], seq[1]))\n",
    "    \n",
    "    fps = int(invid.get(cv2.CAP_PROP_FPS))\n",
    "    width  = int(invid.get(cv2.CAP_PROP_FRAME_WIDTH))   # float `width`\n",
    "    height = int(invid.get(cv2.CAP_PROP_FRAME_HEIGHT))  # float `height`\n",
    "    \n",
    "    outvid = cv2.VideoWriter(path, cv2.VideoWriter_fourcc('M','P','4','V'), fps, (width, height))\n",
    "\n",
    "    t0, t1 = max(seq[2][0][0]-15, 0), min(seq[2][nshots-1][0]+15, invid.get(cv2.CAP_PROP_FRAME_COUNT) - 1)\n",
    "    invid.set(cv2.CAP_PROP_POS_FRAMES, t0)\n",
    "    for t in range(int(t0), int(t1)+1):\n",
    "        ret, frame = invid.read()\n",
    "        outvid.write(frame)\n",
    "    outvid.release()\n",
    "    \n",
    "def save_search(event):\n",
    "    txt.value = 'Preparing to save rallies...'\n",
    "    for f in os.listdir('./output/rallies/'):\n",
    "        if f[-3:] != 'mp4':\n",
    "            continue\n",
    "        os.remove(os.path.join('./output/rallies', f))\n",
    "        txt.value = 'Removing old file ' + f + '...'\n",
    "    bar.value = 0\n",
    "    txt.value = 'Saving rallies..'\n",
    "    for s, seq in enumerate(shots[-1].result):\n",
    "        save_rally('./output/rallies/rally'+str(s)+'.mp4', seq, len(points))\n",
    "        bar.value = int(s/len(shots[-1].result) * 100)\n",
    "    bar.value = 100\n",
    "    \n",
    "save_button = wdg.Button(\n",
    "    description='Save search',\n",
    "    disabled=False,\n",
    "    button_style='', # 'success', 'info', 'warning', 'danger' or ''\n",
    "    tooltip='Save state',\n",
    "    icon='check' # (FontAwesome names without the `fa-` prefix)\n",
    ")\n",
    "save_button.on_click(save_search)\n",
    "\n",
    "# Order of display\n",
    "display(save_button)\n",
    "display(bar)\n",
    "display(txt)\n",
    "\n",
    "def draw_dot(x, y):  \n",
    "    centre = (int(x), int(y))\n",
    "    radius = 5\n",
    "    colour = (255, 0, 0)\n",
    "    thickness = -1\n",
    "    frame_next = cv2.circle(frames[-1].copy(), centre, radius, colour, thickness)\n",
    "    if len(points):\n",
    "        frame_next = cv2.arrowedLine(frame_next, points[-1], centre, (128, 127, 0))\n",
    "    \n",
    "    shot_filter = copy.deepcopy(shots[-1])\n",
    "    shot_filter.add_shot((x / width, 1 - y / height))\n",
    "    \n",
    "    points.append(centre)\n",
    "    frames.append(frame_next)\n",
    "    shots.append(shot_filter)\n",
    "    txt.value = '# sequences found: ' + str(len(shots[-1].result)) + \\\n",
    "                '\\nLast shot in zone ' + str(zone((x / width, 1 - y / height)))\n",
    "    plt.imshow(frames[-1])\n",
    "\n",
    "def undraw_dot():\n",
    "    if len(frames) > 1:\n",
    "        frames.pop()\n",
    "        points.pop()\n",
    "        shots.pop()\n",
    "    plt.imshow(frames[-1])\n",
    "    txt.value = '# sequences found: ' + str(len(shots[-1].result))\n",
    "\n",
    "def onclick(event):\n",
    "    txt.value = str(event)  # Dynamically update the text box above\n",
    "    if event.button == MouseButton.LEFT:\n",
    "        x, y = event.xdata, event.ydata\n",
    "        draw_dot(x, y)\n",
    "    elif event.button == MouseButton.RIGHT:\n",
    "        if len(frames) > 1:\n",
    "            undraw_dot()\n",
    "\n",
    "# Create an hard reference to the callback not to be cleared by the garbage collector\n",
    "ka = fig.canvas.mpl_connect('button_press_event', onclick)"
   ]
  },
  {
   "cell_type": "code",
   "execution_count": null,
   "id": "51a46394-774f-46cf-8baa-2579833e354f",
   "metadata": {},
   "outputs": [],
   "source": []
  }
 ],
 "metadata": {
  "kernelspec": {
   "display_name": "Python 3",
   "language": "python",
   "name": "python3"
  },
  "language_info": {
   "codemirror_mode": {
    "name": "ipython",
    "version": 3
   },
   "file_extension": ".py",
   "mimetype": "text/x-python",
   "name": "python",
   "nbconvert_exporter": "python",
   "pygments_lexer": "ipython3",
   "version": "3.8.5"
  },
  "widgets": {
   "application/vnd.jupyter.widget-state+json": {
    "state": {
     "00fb333ab95045e1899212de93d15898": {
      "model_module": "@jupyter-widgets/base",
      "model_module_version": "1.2.0",
      "model_name": "LayoutModel",
      "state": {}
     },
     "023ba2a75936404fa0f9052a9e911c68": {
      "model_module": "@jupyter-widgets/base",
      "model_module_version": "1.2.0",
      "model_name": "LayoutModel",
      "state": {}
     },
     "0425e667bd2444d2b27d203bc8cb299b": {
      "model_module": "@jupyter-widgets/base",
      "model_module_version": "1.2.0",
      "model_name": "LayoutModel",
      "state": {}
     },
     "08c6930f419a4298b83549676cd023bc": {
      "model_module": "@jupyter-widgets/base",
      "model_module_version": "1.2.0",
      "model_name": "LayoutModel",
      "state": {}
     },
     "09b92a319d3445c7b1ea6d816a8e9996": {
      "model_module": "@jupyter-widgets/base",
      "model_module_version": "1.2.0",
      "model_name": "LayoutModel",
      "state": {}
     },
     "0ab2debf905c4bb2a824930afe8ac97f": {
      "model_module": "@jupyter-widgets/base",
      "model_module_version": "1.2.0",
      "model_name": "LayoutModel",
      "state": {}
     },
     "15fb388e2d674a45ac85377b9cf267e4": {
      "model_module": "@jupyter-widgets/controls",
      "model_module_version": "1.5.0",
      "model_name": "IntSliderModel",
      "state": {
       "layout": "IPY_MODEL_96c2ef8040284315a3cb6967a8560744",
       "style": "IPY_MODEL_e93b2c34960a40b5a1290838d4f73dce"
      }
     },
     "18610baf07eb4c47b455e0493d7d6e03": {
      "model_module": "@jupyter-widgets/base",
      "model_module_version": "1.2.0",
      "model_name": "LayoutModel",
      "state": {}
     },
     "206637bb44f34a57b4ee9886fa59071f": {
      "model_module": "@jupyter-widgets/controls",
      "model_module_version": "1.5.0",
      "model_name": "DescriptionStyleModel",
      "state": {
       "description_width": ""
      }
     },
     "29f69a80e8c945d78ecf15b2d4a011f8": {
      "model_module": "@jupyter-widgets/base",
      "model_module_version": "1.2.0",
      "model_name": "LayoutModel",
      "state": {}
     },
     "2df229aa933749a79fc5afadb549f442": {
      "model_module": "@jupyter-widgets/controls",
      "model_module_version": "1.5.0",
      "model_name": "TextareaModel",
      "state": {
       "description": "event:",
       "layout": "IPY_MODEL_f3c3fbda98fa41f78686ed522ff296a4",
       "placeholder": "",
       "style": "IPY_MODEL_6e70de0d72434a869107269d42fc36c0"
      }
     },
     "306035dbe0c341d6b293d0b32ea2b862": {
      "model_module": "@jupyter-widgets/controls",
      "model_module_version": "1.5.0",
      "model_name": "TextareaModel",
      "state": {
       "description": "event:",
       "layout": "IPY_MODEL_35edb7183cb7434da18aacbbbef6a4e8",
       "placeholder": "",
       "style": "IPY_MODEL_ed6ddea6a98c4c8cb94dd7e8bf7e68dc"
      }
     },
     "32ef2fea0c524a358905151606b9fde8": {
      "model_module": "@jupyter-widgets/base",
      "model_module_version": "1.2.0",
      "model_name": "LayoutModel",
      "state": {}
     },
     "35edb7183cb7434da18aacbbbef6a4e8": {
      "model_module": "@jupyter-widgets/base",
      "model_module_version": "1.2.0",
      "model_name": "LayoutModel",
      "state": {}
     },
     "382c7cc948a6467387ba39876e66e023": {
      "model_module": "@jupyter-widgets/base",
      "model_module_version": "1.2.0",
      "model_name": "LayoutModel",
      "state": {}
     },
     "3acad916f7774b508819d2bcc49cc2d0": {
      "model_module": "@jupyter-widgets/base",
      "model_module_version": "1.2.0",
      "model_name": "LayoutModel",
      "state": {}
     },
     "3bf524dcd16047c1a782497526b55f88": {
      "model_module": "@jupyter-widgets/base",
      "model_module_version": "1.2.0",
      "model_name": "LayoutModel",
      "state": {}
     },
     "3c4a63d8d0244cea90d30cbe8ac6208c": {
      "model_module": "@jupyter-widgets/base",
      "model_module_version": "1.2.0",
      "model_name": "LayoutModel",
      "state": {}
     },
     "3cc947b101d34de1842404408d3213e8": {
      "model_module": "@jupyter-widgets/controls",
      "model_module_version": "1.5.0",
      "model_name": "DescriptionStyleModel",
      "state": {
       "description_width": ""
      }
     },
     "46692214c39048ed8db8b517d4b2fe89": {
      "model_module": "@jupyter-widgets/base",
      "model_module_version": "1.2.0",
      "model_name": "LayoutModel",
      "state": {}
     },
     "47fda96fdc5a4618be65736e754c55af": {
      "model_module": "@jupyter-widgets/controls",
      "model_module_version": "1.5.0",
      "model_name": "TextareaModel",
      "state": {
       "description": "event:",
       "layout": "IPY_MODEL_60ef3872cca448dea093115f76173eee",
       "placeholder": "",
       "style": "IPY_MODEL_206637bb44f34a57b4ee9886fa59071f"
      }
     },
     "4fbd27d344c049abb9b2ea671017a854": {
      "model_module": "@jupyter-widgets/base",
      "model_module_version": "1.2.0",
      "model_name": "LayoutModel",
      "state": {}
     },
     "5394bc60fa85455cb421f5dfb399af52": {
      "model_module": "@jupyter-widgets/base",
      "model_module_version": "1.2.0",
      "model_name": "LayoutModel",
      "state": {}
     },
     "54ca0b0a07cc4e82882a225f9268f79d": {
      "model_module": "@jupyter-widgets/base",
      "model_module_version": "1.2.0",
      "model_name": "LayoutModel",
      "state": {}
     },
     "58d2fbbd5ef74c1b9082fef3381f4a48": {
      "model_module": "@jupyter-widgets/base",
      "model_module_version": "1.2.0",
      "model_name": "LayoutModel",
      "state": {}
     },
     "60ef3872cca448dea093115f76173eee": {
      "model_module": "@jupyter-widgets/base",
      "model_module_version": "1.2.0",
      "model_name": "LayoutModel",
      "state": {}
     },
     "61e9cf8e00244bd7b0de8693d490c573": {
      "model_module": "@jupyter-widgets/base",
      "model_module_version": "1.2.0",
      "model_name": "LayoutModel",
      "state": {}
     },
     "6a78fcd514ad41869f58dd62b2739958": {
      "model_module": "@jupyter-widgets/base",
      "model_module_version": "1.2.0",
      "model_name": "LayoutModel",
      "state": {}
     },
     "6dc9ab2a77964f559f9df92ff4a02bc9": {
      "model_module": "@jupyter-widgets/base",
      "model_module_version": "1.2.0",
      "model_name": "LayoutModel",
      "state": {}
     },
     "6e70de0d72434a869107269d42fc36c0": {
      "model_module": "@jupyter-widgets/controls",
      "model_module_version": "1.5.0",
      "model_name": "DescriptionStyleModel",
      "state": {
       "description_width": ""
      }
     },
     "7dba92ae1a004c97aa1e1f63f79b82f1": {
      "model_module": "@jupyter-widgets/base",
      "model_module_version": "1.2.0",
      "model_name": "LayoutModel",
      "state": {}
     },
     "87afabe1dfa649029e6b20792120d970": {
      "model_module": "@jupyter-widgets/base",
      "model_module_version": "1.2.0",
      "model_name": "LayoutModel",
      "state": {}
     },
     "8802e45adbab4518862fc3336e5cedbf": {
      "model_module": "@jupyter-widgets/controls",
      "model_module_version": "1.5.0",
      "model_name": "IntSliderModel",
      "state": {
       "layout": "IPY_MODEL_eb623a23147947fea746bca3677401ae",
       "style": "IPY_MODEL_eb36258c797c45ba902daee706f87472",
       "value": 53
      }
     },
     "8b9ce836dfb74bcd9fc716618c576fda": {
      "model_module": "@jupyter-widgets/base",
      "model_module_version": "1.2.0",
      "model_name": "LayoutModel",
      "state": {}
     },
     "96c2ef8040284315a3cb6967a8560744": {
      "model_module": "@jupyter-widgets/base",
      "model_module_version": "1.2.0",
      "model_name": "LayoutModel",
      "state": {}
     },
     "9834d5c98cfb4b699eb0ae7ab8f3cce7": {
      "model_module": "@jupyter-widgets/controls",
      "model_module_version": "1.5.0",
      "model_name": "TextareaModel",
      "state": {
       "description": "event:",
       "layout": "IPY_MODEL_382c7cc948a6467387ba39876e66e023",
       "placeholder": "",
       "style": "IPY_MODEL_3cc947b101d34de1842404408d3213e8"
      }
     },
     "a0ec3e28d37e42dd92aabbb905fa373a": {
      "model_module": "@jupyter-widgets/base",
      "model_module_version": "1.2.0",
      "model_name": "LayoutModel",
      "state": {}
     },
     "a2aed9bb17274db5b5a8d89930abd37c": {
      "model_module": "@jupyter-widgets/base",
      "model_module_version": "1.2.0",
      "model_name": "LayoutModel",
      "state": {}
     },
     "a7065a94721f4287ac4e0424af9d0dd1": {
      "model_module": "@jupyter-widgets/base",
      "model_module_version": "1.2.0",
      "model_name": "LayoutModel",
      "state": {}
     },
     "a81a1512f153428a92bfebbefe80e37b": {
      "model_module": "@jupyter-widgets/base",
      "model_module_version": "1.2.0",
      "model_name": "LayoutModel",
      "state": {}
     },
     "b10905dc169a42cb9b0ba11f9f5298d9": {
      "model_module": "@jupyter-widgets/controls",
      "model_module_version": "1.5.0",
      "model_name": "IntSliderModel",
      "state": {
       "layout": "IPY_MODEL_58d2fbbd5ef74c1b9082fef3381f4a48",
       "style": "IPY_MODEL_f3a8718a195b4a898fbdb90ef57fa7b4"
      }
     },
     "b2a6dc2c1a0c4834b8146b892e129903": {
      "model_module": "@jupyter-widgets/base",
      "model_module_version": "1.2.0",
      "model_name": "LayoutModel",
      "state": {}
     },
     "baaa4d84933545c4abbaa8f75e86667d": {
      "model_module": "@jupyter-widgets/base",
      "model_module_version": "1.2.0",
      "model_name": "LayoutModel",
      "state": {}
     },
     "bf0c1820fcf24289b201495a5182090f": {
      "model_module": "@jupyter-widgets/base",
      "model_module_version": "1.2.0",
      "model_name": "LayoutModel",
      "state": {}
     },
     "c89508fdc0b4468a81d82da58890aa8b": {
      "model_module": "@jupyter-widgets/base",
      "model_module_version": "1.2.0",
      "model_name": "LayoutModel",
      "state": {}
     },
     "c8f7cd3085fe4d328f1f6ec8a0d41646": {
      "model_module": "@jupyter-widgets/base",
      "model_module_version": "1.2.0",
      "model_name": "LayoutModel",
      "state": {}
     },
     "dad00857d30d46818c87789d7df02bc4": {
      "model_module": "@jupyter-widgets/base",
      "model_module_version": "1.2.0",
      "model_name": "LayoutModel",
      "state": {}
     },
     "e93b2c34960a40b5a1290838d4f73dce": {
      "model_module": "@jupyter-widgets/controls",
      "model_module_version": "1.5.0",
      "model_name": "SliderStyleModel",
      "state": {
       "description_width": ""
      }
     },
     "e95006f5adb94cdbb1f202684109d7af": {
      "model_module": "@jupyter-widgets/base",
      "model_module_version": "1.2.0",
      "model_name": "LayoutModel",
      "state": {}
     },
     "ea186b2eacd643429bcdf238c675d08f": {
      "model_module": "@jupyter-widgets/base",
      "model_module_version": "1.2.0",
      "model_name": "LayoutModel",
      "state": {}
     },
     "eb36258c797c45ba902daee706f87472": {
      "model_module": "@jupyter-widgets/controls",
      "model_module_version": "1.5.0",
      "model_name": "SliderStyleModel",
      "state": {
       "description_width": ""
      }
     },
     "eb623a23147947fea746bca3677401ae": {
      "model_module": "@jupyter-widgets/base",
      "model_module_version": "1.2.0",
      "model_name": "LayoutModel",
      "state": {}
     },
     "ec07b9e2e6364c27b524fbd6157b992c": {
      "model_module": "@jupyter-widgets/base",
      "model_module_version": "1.2.0",
      "model_name": "LayoutModel",
      "state": {}
     },
     "ed6ddea6a98c4c8cb94dd7e8bf7e68dc": {
      "model_module": "@jupyter-widgets/controls",
      "model_module_version": "1.5.0",
      "model_name": "DescriptionStyleModel",
      "state": {
       "description_width": ""
      }
     },
     "f3a8718a195b4a898fbdb90ef57fa7b4": {
      "model_module": "@jupyter-widgets/controls",
      "model_module_version": "1.5.0",
      "model_name": "SliderStyleModel",
      "state": {
       "description_width": ""
      }
     },
     "f3c3fbda98fa41f78686ed522ff296a4": {
      "model_module": "@jupyter-widgets/base",
      "model_module_version": "1.2.0",
      "model_name": "LayoutModel",
      "state": {}
     },
     "f48c1d42804046f4a8628d43c50d8870": {
      "model_module": "@jupyter-widgets/base",
      "model_module_version": "1.2.0",
      "model_name": "LayoutModel",
      "state": {}
     },
     "fb0f5956585c4b8ebec3d3141013518f": {
      "model_module": "@jupyter-widgets/base",
      "model_module_version": "1.2.0",
      "model_name": "LayoutModel",
      "state": {}
     },
     "fde8de07816f45eb85664d71bccc9ece": {
      "model_module": "@jupyter-widgets/base",
      "model_module_version": "1.2.0",
      "model_name": "LayoutModel",
      "state": {}
     },
     "fe986e79fc1148a7918b336675817c56": {
      "model_module": "@jupyter-widgets/base",
      "model_module_version": "1.2.0",
      "model_name": "LayoutModel",
      "state": {}
     },
     "fe9db2293f8446daa422f58d82323e46": {
      "model_module": "@jupyter-widgets/base",
      "model_module_version": "1.2.0",
      "model_name": "LayoutModel",
      "state": {}
     }
    },
    "version_major": 2,
    "version_minor": 0
   }
  }
 },
 "nbformat": 4,
 "nbformat_minor": 5
}
