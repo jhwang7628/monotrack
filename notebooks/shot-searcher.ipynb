{
 "cells": [
  {
   "cell_type": "code",
   "execution_count": 1,
   "id": "7f4384aa-22e8-4392-9e0b-cc7a7f59e31c",
   "metadata": {},
   "outputs": [],
   "source": [
    "# Break down rallies into shot sequences\n",
    "# Basic algorithm:\n",
    "# - Use feet position to hash the 2d location where a shot was hit\n",
    "# - Extract out maximal shot sequences from all the rallies we have\n",
    "\n",
    "# Basic algorithm:\n",
    "# - Create databases of 1,2,3,...,n shot sequences\n",
    "# - Given a shot diagram compute a similarity score between that diagram and all known shot sequences\n",
    "# - Return statistics:\n",
    "#     - top-k most similar sequences\n",
    "#     - shot return probabilities for each area of the court (and probability of winning)\n"
   ]
  },
  {
   "cell_type": "code",
   "execution_count": 1,
   "id": "ac49a28d-9f2c-447a-be95-b4c71bc5be76",
   "metadata": {},
   "outputs": [],
   "source": [
    "# %matplotlib inline\n",
    "%matplotlib widget\n",
    "# %matplotlib ipympl\n",
    "%load_ext autoreload\n",
    "%autoreload 2\n",
    "\n",
    "import matplotlib.pyplot as plt\n",
    "\n",
    "import os\n",
    "import pandas as pd\n",
    "import numpy as np\n",
    "import cv2\n",
    "import errno\n",
    "\n",
    "from ai_badminton.trajectory import Trajectory\n",
    "from ai_badminton.hit_detector import AdhocHitDetector, MLHitDetector\n",
    "from ai_badminton.pose import Pose, read_player_poses, process_pose_file\n",
    "from ai_badminton.court import Court, read_court\n",
    "from ai_badminton.video_annotator import annotate_video\n",
    "from ai_badminton.shots import *"
   ]
  },
  {
   "cell_type": "code",
   "execution_count": 11,
   "id": "257e5d40-4c18-49d1-9d43-13c57a2977d9",
   "metadata": {},
   "outputs": [],
   "source": [
    "# Build shot database from rallies\n",
    "matches = list('match' + str(i) for i in range(1, 27))\n",
    "\n",
    "manual_label = {\n",
    "    ('match1', '1_02_04'): 2,\n",
    "    ('match1', '1_06_08'): 1,\n",
    "    ('match1', '1_02_02'): 1,\n",
    "    ('match1', '1_02_01'): 2,\n",
    "    ('match1', '1_03_04'): 2,\n",
    "    ('match1', '1_02_03'): 1,\n",
    "    ('match3', '1_08_10'): 2,\n",
    "    ('match8', '3_02_00'): 2,\n",
    "}\n",
    "\n",
    "nframe = 0\n",
    "sequences = []\n",
    "for match in matches:\n",
    "    for video in os.listdir('/home/code-base/scratch_space/data/%s/rally_video/' % match):\n",
    "        rally, _ = os.path.splitext(video)\n",
    "        cap = cv2.VideoCapture('/home/code-base/scratch_space/data/%s/rally_video/%s.mp4' % (match, rally))\n",
    "        nframe += int(cap.get(cv2.CAP_PROP_FRAME_COUNT))\n",
    "        try:\n",
    "            court_pts = read_court('/home/code-base/scratch_space/data/%s/court/%s.out' % (match, rally))\n",
    "            corners = [court_pts[1], court_pts[2], court_pts[0], court_pts[3]]\n",
    "            court = Court(corners)\n",
    "            trajectory = Trajectory(\n",
    "                '/home/code-base/scratch_space/data/%s/ball_trajectory/%s_ball.csv' % (match, rally)\n",
    "            )\n",
    "\n",
    "            hits = pd.read_csv('/home/code-base/scratch_space/data/%s/shot/%s_hit.csv' % (match, rally))\n",
    "            poses = read_player_poses('/home/code-base/scratch_space/data/%s/poses/%s' % (match, rally))\n",
    "        except:\n",
    "            continue\n",
    "            \n",
    "        # Identify first hit by distance to pose\n",
    "        # and then alternate hits\n",
    "        def dist_to_pose(pose, p):\n",
    "            pose = pose.reshape(17, 2)\n",
    "            p = p.reshape(1, 2)\n",
    "            D = np.sum((pose - p) * (pose - p), axis=1)\n",
    "            return min(D)\n",
    "        \n",
    "        hits = np.array(hits.hit.to_numpy())\n",
    "        # Majority vote for who started the rally\n",
    "        # If hit number is odd, then whoever started the rally\n",
    "        # is the opposite of whoever was detected.\n",
    "        votes = [0, 0]\n",
    "        best_dist = [1e99, 1e99]\n",
    "        nhit = 0\n",
    "        for i in range(hits.shape[0]):\n",
    "            if not hits[i]:\n",
    "                continue\n",
    "            \n",
    "            p = np.array([trajectory.X[i], trajectory.Y[i]])\n",
    "            db = dist_to_pose(poses[0].values[i], p)\n",
    "            dt = dist_to_pose(poses[1].values[i], p)\n",
    "            person = 0\n",
    "            if db < dt:\n",
    "                person = 1\n",
    "            else:\n",
    "                person = 2\n",
    "            \n",
    "            if nhit % 2:\n",
    "                person = 3 - person\n",
    "                \n",
    "            votes[person - 1] += 1\n",
    "            best_dist[person - 1] = min(best_dist[person - 1], min(db, dt))\n",
    "            \n",
    "            nhit += 1\n",
    "            \n",
    "        last = 2 if votes[0] > votes[1] else 1\n",
    "        if (match, rally) in manual_label:\n",
    "            last = 3 - manual_label[match, rally]\n",
    "            \n",
    "        for i in range(hits.shape[0]):\n",
    "            if not hits[i]:\n",
    "                continue\n",
    "                \n",
    "            hits[i] = 3 - last\n",
    "            last = hits[i]\n",
    "                \n",
    "        # Generate arrays of which frames the shuttles were hit and who hit it\n",
    "        hit_frame, who_hit = [], []\n",
    "        L = hits.shape[0]\n",
    "        for i in range(L):\n",
    "            if hits[i]:\n",
    "                hit_frame.append(i)\n",
    "                who_hit.append(hits[i])\n",
    "                \n",
    "        # Assume the rally ends 4 frames from the end\n",
    "        hit_frame.append(L - 4)\n",
    "        who_hit.append(3)\n",
    "        sequence = generate_sequence(\n",
    "            court, trajectory, poses, (hit_frame, who_hit)\n",
    "        )\n",
    "        sequences.append([match, video, sequence])"
   ]
  },
  {
   "cell_type": "code",
   "execution_count": 12,
   "id": "da7e9ca4-c111-41cd-b189-f4b1143ed1d9",
   "metadata": {},
   "outputs": [
    {
     "data": {
      "text/plain": [
       "78921"
      ]
     },
     "execution_count": 12,
     "metadata": {},
     "output_type": "execute_result"
    }
   ],
   "source": [
    "nframe"
   ]
  },
  {
   "cell_type": "code",
   "execution_count": 3,
   "id": "db82b045-2e13-4bf3-9e5c-4117e9d0f0a9",
   "metadata": {},
   "outputs": [
    {
     "data": {
      "text/plain": [
       "(array([[0., 0., 0., ..., 0., 0., 0.],\n",
       "        [0., 0., 0., ..., 0., 0., 0.],\n",
       "        [0., 0., 0., ..., 0., 0., 0.],\n",
       "        ...,\n",
       "        [0., 0., 0., ..., 0., 0., 0.],\n",
       "        [1., 0., 0., ..., 0., 0., 0.],\n",
       "        [0., 1., 0., ..., 0., 0., 0.]]),\n",
       " array([0.  , 0.01, 0.02, 0.03, 0.04, 0.05, 0.06, 0.07, 0.08, 0.09, 0.1 ,\n",
       "        0.11, 0.12, 0.13, 0.14, 0.15, 0.16, 0.17, 0.18, 0.19, 0.2 , 0.21,\n",
       "        0.22, 0.23, 0.24, 0.25, 0.26, 0.27, 0.28, 0.29, 0.3 , 0.31, 0.32,\n",
       "        0.33, 0.34, 0.35, 0.36, 0.37, 0.38, 0.39, 0.4 , 0.41, 0.42, 0.43,\n",
       "        0.44, 0.45, 0.46, 0.47, 0.48, 0.49, 0.5 , 0.51, 0.52, 0.53, 0.54,\n",
       "        0.55, 0.56, 0.57, 0.58, 0.59, 0.6 , 0.61, 0.62, 0.63, 0.64, 0.65,\n",
       "        0.66, 0.67, 0.68, 0.69, 0.7 , 0.71, 0.72, 0.73, 0.74, 0.75, 0.76,\n",
       "        0.77, 0.78, 0.79, 0.8 , 0.81, 0.82, 0.83, 0.84, 0.85, 0.86, 0.87,\n",
       "        0.88, 0.89, 0.9 , 0.91, 0.92, 0.93, 0.94, 0.95, 0.96, 0.97, 0.98,\n",
       "        0.99, 1.  ]),\n",
       " array([0.  , 0.01, 0.02, 0.03, 0.04, 0.05, 0.06, 0.07, 0.08, 0.09, 0.1 ,\n",
       "        0.11, 0.12, 0.13, 0.14, 0.15, 0.16, 0.17, 0.18, 0.19, 0.2 , 0.21,\n",
       "        0.22, 0.23, 0.24, 0.25, 0.26, 0.27, 0.28, 0.29, 0.3 , 0.31, 0.32,\n",
       "        0.33, 0.34, 0.35, 0.36, 0.37, 0.38, 0.39, 0.4 , 0.41, 0.42, 0.43,\n",
       "        0.44, 0.45, 0.46, 0.47, 0.48, 0.49, 0.5 , 0.51, 0.52, 0.53, 0.54,\n",
       "        0.55, 0.56, 0.57, 0.58, 0.59, 0.6 , 0.61, 0.62, 0.63, 0.64, 0.65,\n",
       "        0.66, 0.67, 0.68, 0.69, 0.7 , 0.71, 0.72, 0.73, 0.74, 0.75, 0.76,\n",
       "        0.77, 0.78, 0.79, 0.8 , 0.81, 0.82, 0.83, 0.84, 0.85, 0.86, 0.87,\n",
       "        0.88, 0.89, 0.9 , 0.91, 0.92, 0.93, 0.94, 0.95, 0.96, 0.97, 0.98,\n",
       "        0.99, 1.  ]),\n",
       " <matplotlib.collections.QuadMesh at 0x7efc9f982340>)"
      ]
     },
     "execution_count": 3,
     "metadata": {},
     "output_type": "execute_result"
    },
    {
     "data": {
      "application/vnd.jupyter.widget-view+json": {
       "model_id": "3ba6c02a2e584fb9b03d55b6ac842aff",
       "version_major": 2,
       "version_minor": 0
      },
      "text/html": [
       "\n",
       "            <div style=\"display: inline-block;\">\n",
       "                <div class=\"jupyter-widgets widget-label\" style=\"text-align: center;\">\n",
       "                    Figure\n",
       "                </div>\n",
       "                <img src='data:image/png;base64,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' width=640.0/>\n",
       "            </div>\n",
       "        "
      ],
      "text/plain": [
       "Canvas(toolbar=Toolbar(toolitems=[('Home', 'Reset original view', 'home', 'home'), ('Back', 'Back to previous …"
      ]
     },
     "metadata": {},
     "output_type": "display_data"
    }
   ],
   "source": [
    "x = [s[1][0] for seq in sequences for s in seq[2]]\n",
    "y = [s[1][1] for seq in sequences for s in seq[2]]\n",
    "plt.hist2d(x, y, bins=100, range=[[0,1], [0,1]])"
   ]
  },
  {
   "cell_type": "code",
   "execution_count": 4,
   "id": "53b5ce41-76b0-46eb-8cab-47e8a2a76d03",
   "metadata": {},
   "outputs": [
    {
     "data": {
      "text/plain": [
       "Text(0.5, 1.0, 'x_hit distribution')"
      ]
     },
     "execution_count": 4,
     "metadata": {},
     "output_type": "execute_result"
    },
    {
     "data": {
      "application/vnd.jupyter.widget-view+json": {
       "model_id": "94137d780255425a9c7cc397153b81a0",
       "version_major": 2,
       "version_minor": 0
      },
      "text/html": [
       "\n",
       "            <div style=\"display: inline-block;\">\n",
       "                <div class=\"jupyter-widgets widget-label\" style=\"text-align: center;\">\n",
       "                    Figure\n",
       "                </div>\n",
       "                <img src='data:image/png;base64,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' width=640.0/>\n",
       "            </div>\n",
       "        "
      ],
      "text/plain": [
       "Canvas(toolbar=Toolbar(toolitems=[('Home', 'Reset original view', 'home', 'home'), ('Back', 'Back to previous …"
      ]
     },
     "metadata": {},
     "output_type": "display_data"
    }
   ],
   "source": [
    "fig1 = plt.figure()\n",
    "plt.hist(x, bins=50, range=(0,1))\n",
    "plt.title('x_hit distribution')"
   ]
  },
  {
   "cell_type": "code",
   "execution_count": 5,
   "id": "49fc40a3-9285-473b-ba7f-ac28ec1c3dbb",
   "metadata": {},
   "outputs": [
    {
     "data": {
      "text/plain": [
       "Text(0.5, 1.0, 'y_hit distribution')"
      ]
     },
     "execution_count": 5,
     "metadata": {},
     "output_type": "execute_result"
    },
    {
     "data": {
      "application/vnd.jupyter.widget-view+json": {
       "model_id": "b00c2311a03e4397bafdb58e49f9405b",
       "version_major": 2,
       "version_minor": 0
      },
      "text/html": [
       "\n",
       "            <div style=\"display: inline-block;\">\n",
       "                <div class=\"jupyter-widgets widget-label\" style=\"text-align: center;\">\n",
       "                    Figure\n",
       "                </div>\n",
       "                <img src='data:image/png;base64,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' width=640.0/>\n",
       "            </div>\n",
       "        "
      ],
      "text/plain": [
       "Canvas(toolbar=Toolbar(toolitems=[('Home', 'Reset original view', 'home', 'home'), ('Back', 'Back to previous …"
      ]
     },
     "metadata": {},
     "output_type": "display_data"
    }
   ],
   "source": [
    "fig2 = plt.figure()\n",
    "plt.hist(y, bins=50, range=(0,1))\n",
    "plt.title('y_hit distribution')"
   ]
  },
  {
   "cell_type": "code",
   "execution_count": 12,
   "id": "01cfcb0e-10cb-4e30-81d4-6303e869bc4e",
   "metadata": {},
   "outputs": [
    {
     "data": {
      "application/vnd.jupyter.widget-view+json": {
       "model_id": "20685a777a3c468aa453761b3ef9674d",
       "version_major": 2,
       "version_minor": 0
      },
      "text/plain": [
       "HBox(children=(Button(description='Save search', icon='check', style=ButtonStyle(), tooltip='Save state'), But…"
      ]
     },
     "metadata": {},
     "output_type": "display_data"
    },
    {
     "data": {
      "application/vnd.jupyter.widget-view+json": {
       "model_id": "2d348b8a519f442b972eac97323d0d3b",
       "version_major": 2,
       "version_minor": 0
      },
      "text/plain": [
       "IntProgress(value=0, description='Saving...', style=ProgressStyle(bar_color='maroon'))"
      ]
     },
     "metadata": {},
     "output_type": "display_data"
    },
    {
     "data": {
      "application/vnd.jupyter.widget-view+json": {
       "model_id": "c9af3979dc9748b48e437ce9ed918bd2",
       "version_major": 2,
       "version_minor": 0
      },
      "text/plain": [
       "Textarea(value='', description='Status:', placeholder='')"
      ]
     },
     "metadata": {},
     "output_type": "display_data"
    },
    {
     "data": {
      "application/vnd.jupyter.widget-view+json": {
       "model_id": "52b0568952084f059756b890a595f5cd",
       "version_major": 2,
       "version_minor": 0
      },
      "text/plain": [
       "Video(value=b'')"
      ]
     },
     "metadata": {},
     "output_type": "display_data"
    },
    {
     "data": {
      "application/vnd.jupyter.widget-view+json": {
       "model_id": "798da0e34ab747f79991d2a6a124b4d4",
       "version_major": 2,
       "version_minor": 0
      },
      "text/html": [
       "\n",
       "            <div style=\"display: inline-block;\">\n",
       "                <div class=\"jupyter-widgets widget-label\" style=\"text-align: center;\">\n",
       "                    Figure\n",
       "                </div>\n",
       "                <img src='data:image/png;base64,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' width=640.0/>\n",
       "            </div>\n",
       "        "
      ],
      "text/plain": [
       "Canvas(toolbar=Toolbar(toolitems=[('Home', 'Reset original view', 'home', 'home'), ('Back', 'Back to previous …"
      ]
     },
     "metadata": {},
     "output_type": "display_data"
    }
   ],
   "source": [
    "import ipywidgets as wdg  # Using the ipython notebook widgets\n",
    "import copy\n",
    "\n",
    "frame = cv2.imread('./court.jpg')\n",
    "height, width = frame.shape[0], frame.shape[1]\n",
    "\n",
    "from matplotlib.backend_bases import MouseButton\n",
    "# Let's manually pick out the court pixel coordinates first\n",
    "fig = plt.figure()\n",
    "plt.imshow(frame)\n",
    "\n",
    "# Create and display textarea widget\n",
    "txt = wdg.Textarea(\n",
    "    value='',\n",
    "    placeholder='',\n",
    "    description='Status:',\n",
    "    disabled=False\n",
    ")\n",
    "\n",
    "def create_subsequences(seqs):\n",
    "    res = []\n",
    "    for seq in seqs:\n",
    "        for i in range(len(seq[2])):\n",
    "            res.append([seq[0], seq[1], seq[2][i:]])\n",
    "    return res\n",
    "\n",
    "# A basic UI function to store the court\n",
    "curr_vid, tot_vid = 0, 0\n",
    "video = wdg.Video()\n",
    "\n",
    "subsequences = create_subsequences(sequences)\n",
    "points, frames, shots = [], [], []\n",
    "\n",
    "def reset_state(event):\n",
    "    global points, frames, shots\n",
    "    points = []\n",
    "    frames = [frame]\n",
    "    shots = [ShotFilter(subsequences)]\n",
    "    plt.imshow(frames[-1])\n",
    "\n",
    "reset_button = wdg.Button(\n",
    "    description='Reset state',\n",
    "    disabled=False,\n",
    "    button_style='', # 'success', 'info', 'warning', 'danger' or ''\n",
    "    tooltip='Reset state',\n",
    "    icon='trash' # (FontAwesome names without the `fa-` prefix)\n",
    ")\n",
    "reset_button.on_click(reset_state)\n",
    "reset_state(None)\n",
    "\n",
    "bar = wdg.IntProgress(\n",
    "    value=0,\n",
    "    min=0,\n",
    "    max=100,\n",
    "    description='Saving...',\n",
    "    bar_style='', # 'success', 'info', 'warning', 'danger' or ''\n",
    "    style={'bar_color': 'maroon'},\n",
    "    orientation='horizontal'\n",
    ")\n",
    "\n",
    "def save_rally(path, seq, nshots):\n",
    "    try:\n",
    "        os.makedirs('output')\n",
    "    except OSError as e:\n",
    "        if e.errno != errno.EEXIST:\n",
    "            raise\n",
    "    \n",
    "    invid = cv2.VideoCapture('/home/code-base/scratch_space/data/%s/rally_video/%s' % (seq[0], seq[1]))\n",
    "    \n",
    "    fps = int(invid.get(cv2.CAP_PROP_FPS))\n",
    "    width  = int(invid.get(cv2.CAP_PROP_FRAME_WIDTH))   # float `width`\n",
    "    height = int(invid.get(cv2.CAP_PROP_FRAME_HEIGHT))  # float `height`\n",
    "    \n",
    "    fourcc = cv2.VideoWriter_fourcc(*'mp4v')\n",
    "    outvid = cv2.VideoWriter(path, fourcc, fps, (width, height))\n",
    "\n",
    "    t0, t1 = max(seq[2][0][0]-10, 0), min(seq[2][nshots-1][0]+10, invid.get(cv2.CAP_PROP_FRAME_COUNT) - 1)\n",
    "    invid.set(cv2.CAP_PROP_POS_FRAMES, t0)\n",
    "    for t in range(int(t0), int(t1)+1):\n",
    "        ret, frame = invid.read()\n",
    "        outvid.write(frame)\n",
    "    outvid.release()\n",
    "    os.system(\"ffmpeg -i %s -vcodec libx264 tmp.mp4\" % path)\n",
    "    os.system(\"mv tmp.mp4 %s\" % path)\n",
    "    \n",
    "debug = []\n",
    "def save_search(event):\n",
    "    global curr_vid, tot_vid\n",
    "    txt.value = 'Preparing to save rallies...'\n",
    "    for f in os.listdir('./output/rallies/'):\n",
    "        if f[-3:] != 'mp4':\n",
    "            continue\n",
    "        os.remove(os.path.join('./output/rallies', f))\n",
    "        txt.value = 'Removing old file ' + f + '...'\n",
    "    bar.value = 0\n",
    "    txt.value = 'Saving rallies..'\n",
    "    for s, seq in enumerate(shots[-1].result):\n",
    "        debug.append(seq)\n",
    "        save_rally('./output/rallies/rally'+str(s)+'.mp4', seq, len(points))\n",
    "        bar.value = int(s/len(shots[-1].result) * 100)\n",
    "    bar.value = 100\n",
    "    if shots[-1].result:\n",
    "        video.set_value_from_file('./output/rallies/rally0.mp4')\n",
    "        tot_vid = len(shots[-1].result)\n",
    "        curr_vid = 0\n",
    "    \n",
    "save_button = wdg.Button(\n",
    "    description='Save search',\n",
    "    disabled=False,\n",
    "    button_style='', # 'success', 'info', 'warning', 'danger' or ''\n",
    "    tooltip='Save state',\n",
    "    icon='check' # (FontAwesome names without the `fa-` prefix)\n",
    ")\n",
    "save_button.on_click(save_search)\n",
    "\n",
    "def set_video(event, move=1):\n",
    "    global curr_vid, tot_vid\n",
    "    if move < 0:\n",
    "        move = tot_vid + move\n",
    "    curr_vid = (curr_vid + move) % tot_vid\n",
    "    video.set_value_from_file('./output/rallies/rally%d.mp4' % curr_vid)\n",
    "    txt.value = 'Playing video %d / %d:' % (curr_vid + 1, tot_vid)\n",
    "    \n",
    "next_button = wdg.Button(\n",
    "    description='Next video',\n",
    "    disabled=False,\n",
    "    button_style='', # 'success', 'info', 'warning', 'danger' or ''\n",
    "    tooltip='Next video',\n",
    "    icon='arrow-right' # (FontAwesome names without the `fa-` prefix)\n",
    ")\n",
    "prev_button = wdg.Button(\n",
    "    description='Previous video',\n",
    "    disabled=False,\n",
    "    button_style='', # 'success', 'info', 'warning', 'danger' or ''\n",
    "    tooltip='Previous video',\n",
    "    icon='arrow-left' # (FontAwesome names without the `fa-` prefix)\n",
    ")\n",
    "next_button.on_click(lambda e: set_video(e, 1))\n",
    "prev_button.on_click(lambda e: set_video(e, -1))\n",
    "\n",
    "# Order of display\n",
    "display(wdg.HBox((save_button, reset_button, next_button, prev_button)))\n",
    "display(bar)\n",
    "display(txt)\n",
    "display(video)\n",
    "\n",
    "def draw_dot(x, y):  \n",
    "    centre = (int(x), int(y))\n",
    "    radius = 5\n",
    "    colour = (255, 0, 0)\n",
    "    thickness = -1\n",
    "    frame_next = cv2.circle(frames[-1].copy(), centre, radius, colour, thickness)\n",
    "    if len(points):\n",
    "        frame_next = cv2.arrowedLine(frame_next, points[-1], centre, (128, 127, 0))\n",
    "    \n",
    "    shot_filter = copy.deepcopy(shots[-1])\n",
    "    shot_filter.add_shot((x / width, 1 - y / height))\n",
    "    \n",
    "    points.append(centre)\n",
    "    frames.append(frame_next)\n",
    "    shots.append(shot_filter)\n",
    "    txt.value = '# sequences found: ' + str(len(shots[-1].result)) + \\\n",
    "                '\\nLast shot in zone ' + str(zone((x / width, 1 - y / height)))\n",
    "    plt.imshow(frames[-1])\n",
    "\n",
    "def undraw_dot():\n",
    "    if len(frames) > 1:\n",
    "        frames.pop()\n",
    "        points.pop()\n",
    "        shots.pop()\n",
    "    plt.imshow(frames[-1])\n",
    "    txt.value = '# sequences found: ' + str(len(shots[-1].result))\n",
    "\n",
    "def onclick(event):\n",
    "    txt.value = str(event)  # Dynamically update the text box above\n",
    "    if event.button == MouseButton.LEFT:\n",
    "        x, y = event.xdata, event.ydata\n",
    "        draw_dot(x, y)\n",
    "    elif event.button == MouseButton.RIGHT:\n",
    "        if len(frames) > 1:\n",
    "            undraw_dot()\n",
    "\n",
    "# Create an hard reference to the callback not to be cleared by the garbage collector\n",
    "ka = fig.canvas.mpl_connect('button_press_event', onclick)"
   ]
  },
  {
   "cell_type": "code",
   "execution_count": null,
   "id": "c5484045-9fbc-428e-bf14-70dd5d1a0bf5",
   "metadata": {},
   "outputs": [],
   "source": []
  }
 ],
 "metadata": {
  "kernelspec": {
   "display_name": "Python 3",
   "language": "python",
   "name": "python3"
  },
  "language_info": {
   "codemirror_mode": {
    "name": "ipython",
    "version": 3
   },
   "file_extension": ".py",
   "mimetype": "text/x-python",
   "name": "python",
   "nbconvert_exporter": "python",
   "pygments_lexer": "ipython3",
   "version": "3.8.5"
  },
  "widgets": {
   "application/vnd.jupyter.widget-state+json": {
    "state": {
     "00fb333ab95045e1899212de93d15898": {
      "model_module": "@jupyter-widgets/base",
      "model_module_version": "1.2.0",
      "model_name": "LayoutModel",
      "state": {}
     },
     "023ba2a75936404fa0f9052a9e911c68": {
      "model_module": "@jupyter-widgets/base",
      "model_module_version": "1.2.0",
      "model_name": "LayoutModel",
      "state": {}
     },
     "0425e667bd2444d2b27d203bc8cb299b": {
      "model_module": "@jupyter-widgets/base",
      "model_module_version": "1.2.0",
      "model_name": "LayoutModel",
      "state": {}
     },
     "08c6930f419a4298b83549676cd023bc": {
      "model_module": "@jupyter-widgets/base",
      "model_module_version": "1.2.0",
      "model_name": "LayoutModel",
      "state": {}
     },
     "09b92a319d3445c7b1ea6d816a8e9996": {
      "model_module": "@jupyter-widgets/base",
      "model_module_version": "1.2.0",
      "model_name": "LayoutModel",
      "state": {}
     },
     "0ab2debf905c4bb2a824930afe8ac97f": {
      "model_module": "@jupyter-widgets/base",
      "model_module_version": "1.2.0",
      "model_name": "LayoutModel",
      "state": {}
     },
     "15fb388e2d674a45ac85377b9cf267e4": {
      "model_module": "@jupyter-widgets/controls",
      "model_module_version": "1.5.0",
      "model_name": "IntSliderModel",
      "state": {
       "layout": "IPY_MODEL_96c2ef8040284315a3cb6967a8560744",
       "style": "IPY_MODEL_e93b2c34960a40b5a1290838d4f73dce"
      }
     },
     "18610baf07eb4c47b455e0493d7d6e03": {
      "model_module": "@jupyter-widgets/base",
      "model_module_version": "1.2.0",
      "model_name": "LayoutModel",
      "state": {}
     },
     "206637bb44f34a57b4ee9886fa59071f": {
      "model_module": "@jupyter-widgets/controls",
      "model_module_version": "1.5.0",
      "model_name": "DescriptionStyleModel",
      "state": {
       "description_width": ""
      }
     },
     "29f69a80e8c945d78ecf15b2d4a011f8": {
      "model_module": "@jupyter-widgets/base",
      "model_module_version": "1.2.0",
      "model_name": "LayoutModel",
      "state": {}
     },
     "2df229aa933749a79fc5afadb549f442": {
      "model_module": "@jupyter-widgets/controls",
      "model_module_version": "1.5.0",
      "model_name": "TextareaModel",
      "state": {
       "description": "event:",
       "layout": "IPY_MODEL_f3c3fbda98fa41f78686ed522ff296a4",
       "placeholder": "",
       "style": "IPY_MODEL_6e70de0d72434a869107269d42fc36c0"
      }
     },
     "306035dbe0c341d6b293d0b32ea2b862": {
      "model_module": "@jupyter-widgets/controls",
      "model_module_version": "1.5.0",
      "model_name": "TextareaModel",
      "state": {
       "description": "event:",
       "layout": "IPY_MODEL_35edb7183cb7434da18aacbbbef6a4e8",
       "placeholder": "",
       "style": "IPY_MODEL_ed6ddea6a98c4c8cb94dd7e8bf7e68dc"
      }
     },
     "32ef2fea0c524a358905151606b9fde8": {
      "model_module": "@jupyter-widgets/base",
      "model_module_version": "1.2.0",
      "model_name": "LayoutModel",
      "state": {}
     },
     "35edb7183cb7434da18aacbbbef6a4e8": {
      "model_module": "@jupyter-widgets/base",
      "model_module_version": "1.2.0",
      "model_name": "LayoutModel",
      "state": {}
     },
     "382c7cc948a6467387ba39876e66e023": {
      "model_module": "@jupyter-widgets/base",
      "model_module_version": "1.2.0",
      "model_name": "LayoutModel",
      "state": {}
     },
     "3acad916f7774b508819d2bcc49cc2d0": {
      "model_module": "@jupyter-widgets/base",
      "model_module_version": "1.2.0",
      "model_name": "LayoutModel",
      "state": {}
     },
     "3bf524dcd16047c1a782497526b55f88": {
      "model_module": "@jupyter-widgets/base",
      "model_module_version": "1.2.0",
      "model_name": "LayoutModel",
      "state": {}
     },
     "3c4a63d8d0244cea90d30cbe8ac6208c": {
      "model_module": "@jupyter-widgets/base",
      "model_module_version": "1.2.0",
      "model_name": "LayoutModel",
      "state": {}
     },
     "3cc947b101d34de1842404408d3213e8": {
      "model_module": "@jupyter-widgets/controls",
      "model_module_version": "1.5.0",
      "model_name": "DescriptionStyleModel",
      "state": {
       "description_width": ""
      }
     },
     "46692214c39048ed8db8b517d4b2fe89": {
      "model_module": "@jupyter-widgets/base",
      "model_module_version": "1.2.0",
      "model_name": "LayoutModel",
      "state": {}
     },
     "47fda96fdc5a4618be65736e754c55af": {
      "model_module": "@jupyter-widgets/controls",
      "model_module_version": "1.5.0",
      "model_name": "TextareaModel",
      "state": {
       "description": "event:",
       "layout": "IPY_MODEL_60ef3872cca448dea093115f76173eee",
       "placeholder": "",
       "style": "IPY_MODEL_206637bb44f34a57b4ee9886fa59071f"
      }
     },
     "4fbd27d344c049abb9b2ea671017a854": {
      "model_module": "@jupyter-widgets/base",
      "model_module_version": "1.2.0",
      "model_name": "LayoutModel",
      "state": {}
     },
     "5394bc60fa85455cb421f5dfb399af52": {
      "model_module": "@jupyter-widgets/base",
      "model_module_version": "1.2.0",
      "model_name": "LayoutModel",
      "state": {}
     },
     "54ca0b0a07cc4e82882a225f9268f79d": {
      "model_module": "@jupyter-widgets/base",
      "model_module_version": "1.2.0",
      "model_name": "LayoutModel",
      "state": {}
     },
     "58d2fbbd5ef74c1b9082fef3381f4a48": {
      "model_module": "@jupyter-widgets/base",
      "model_module_version": "1.2.0",
      "model_name": "LayoutModel",
      "state": {}
     },
     "60ef3872cca448dea093115f76173eee": {
      "model_module": "@jupyter-widgets/base",
      "model_module_version": "1.2.0",
      "model_name": "LayoutModel",
      "state": {}
     },
     "61e9cf8e00244bd7b0de8693d490c573": {
      "model_module": "@jupyter-widgets/base",
      "model_module_version": "1.2.0",
      "model_name": "LayoutModel",
      "state": {}
     },
     "6a78fcd514ad41869f58dd62b2739958": {
      "model_module": "@jupyter-widgets/base",
      "model_module_version": "1.2.0",
      "model_name": "LayoutModel",
      "state": {}
     },
     "6dc9ab2a77964f559f9df92ff4a02bc9": {
      "model_module": "@jupyter-widgets/base",
      "model_module_version": "1.2.0",
      "model_name": "LayoutModel",
      "state": {}
     },
     "6e70de0d72434a869107269d42fc36c0": {
      "model_module": "@jupyter-widgets/controls",
      "model_module_version": "1.5.0",
      "model_name": "DescriptionStyleModel",
      "state": {
       "description_width": ""
      }
     },
     "7dba92ae1a004c97aa1e1f63f79b82f1": {
      "model_module": "@jupyter-widgets/base",
      "model_module_version": "1.2.0",
      "model_name": "LayoutModel",
      "state": {}
     },
     "87afabe1dfa649029e6b20792120d970": {
      "model_module": "@jupyter-widgets/base",
      "model_module_version": "1.2.0",
      "model_name": "LayoutModel",
      "state": {}
     },
     "8802e45adbab4518862fc3336e5cedbf": {
      "model_module": "@jupyter-widgets/controls",
      "model_module_version": "1.5.0",
      "model_name": "IntSliderModel",
      "state": {
       "layout": "IPY_MODEL_eb623a23147947fea746bca3677401ae",
       "style": "IPY_MODEL_eb36258c797c45ba902daee706f87472",
       "value": 53
      }
     },
     "8b9ce836dfb74bcd9fc716618c576fda": {
      "model_module": "@jupyter-widgets/base",
      "model_module_version": "1.2.0",
      "model_name": "LayoutModel",
      "state": {}
     },
     "96c2ef8040284315a3cb6967a8560744": {
      "model_module": "@jupyter-widgets/base",
      "model_module_version": "1.2.0",
      "model_name": "LayoutModel",
      "state": {}
     },
     "9834d5c98cfb4b699eb0ae7ab8f3cce7": {
      "model_module": "@jupyter-widgets/controls",
      "model_module_version": "1.5.0",
      "model_name": "TextareaModel",
      "state": {
       "description": "event:",
       "layout": "IPY_MODEL_382c7cc948a6467387ba39876e66e023",
       "placeholder": "",
       "style": "IPY_MODEL_3cc947b101d34de1842404408d3213e8"
      }
     },
     "a0ec3e28d37e42dd92aabbb905fa373a": {
      "model_module": "@jupyter-widgets/base",
      "model_module_version": "1.2.0",
      "model_name": "LayoutModel",
      "state": {}
     },
     "a2aed9bb17274db5b5a8d89930abd37c": {
      "model_module": "@jupyter-widgets/base",
      "model_module_version": "1.2.0",
      "model_name": "LayoutModel",
      "state": {}
     },
     "a7065a94721f4287ac4e0424af9d0dd1": {
      "model_module": "@jupyter-widgets/base",
      "model_module_version": "1.2.0",
      "model_name": "LayoutModel",
      "state": {}
     },
     "a81a1512f153428a92bfebbefe80e37b": {
      "model_module": "@jupyter-widgets/base",
      "model_module_version": "1.2.0",
      "model_name": "LayoutModel",
      "state": {}
     },
     "b10905dc169a42cb9b0ba11f9f5298d9": {
      "model_module": "@jupyter-widgets/controls",
      "model_module_version": "1.5.0",
      "model_name": "IntSliderModel",
      "state": {
       "layout": "IPY_MODEL_58d2fbbd5ef74c1b9082fef3381f4a48",
       "style": "IPY_MODEL_f3a8718a195b4a898fbdb90ef57fa7b4"
      }
     },
     "b2a6dc2c1a0c4834b8146b892e129903": {
      "model_module": "@jupyter-widgets/base",
      "model_module_version": "1.2.0",
      "model_name": "LayoutModel",
      "state": {}
     },
     "baaa4d84933545c4abbaa8f75e86667d": {
      "model_module": "@jupyter-widgets/base",
      "model_module_version": "1.2.0",
      "model_name": "LayoutModel",
      "state": {}
     },
     "bf0c1820fcf24289b201495a5182090f": {
      "model_module": "@jupyter-widgets/base",
      "model_module_version": "1.2.0",
      "model_name": "LayoutModel",
      "state": {}
     },
     "c89508fdc0b4468a81d82da58890aa8b": {
      "model_module": "@jupyter-widgets/base",
      "model_module_version": "1.2.0",
      "model_name": "LayoutModel",
      "state": {}
     },
     "c8f7cd3085fe4d328f1f6ec8a0d41646": {
      "model_module": "@jupyter-widgets/base",
      "model_module_version": "1.2.0",
      "model_name": "LayoutModel",
      "state": {}
     },
     "dad00857d30d46818c87789d7df02bc4": {
      "model_module": "@jupyter-widgets/base",
      "model_module_version": "1.2.0",
      "model_name": "LayoutModel",
      "state": {}
     },
     "e93b2c34960a40b5a1290838d4f73dce": {
      "model_module": "@jupyter-widgets/controls",
      "model_module_version": "1.5.0",
      "model_name": "SliderStyleModel",
      "state": {
       "description_width": ""
      }
     },
     "e95006f5adb94cdbb1f202684109d7af": {
      "model_module": "@jupyter-widgets/base",
      "model_module_version": "1.2.0",
      "model_name": "LayoutModel",
      "state": {}
     },
     "ea186b2eacd643429bcdf238c675d08f": {
      "model_module": "@jupyter-widgets/base",
      "model_module_version": "1.2.0",
      "model_name": "LayoutModel",
      "state": {}
     },
     "eb36258c797c45ba902daee706f87472": {
      "model_module": "@jupyter-widgets/controls",
      "model_module_version": "1.5.0",
      "model_name": "SliderStyleModel",
      "state": {
       "description_width": ""
      }
     },
     "eb623a23147947fea746bca3677401ae": {
      "model_module": "@jupyter-widgets/base",
      "model_module_version": "1.2.0",
      "model_name": "LayoutModel",
      "state": {}
     },
     "ec07b9e2e6364c27b524fbd6157b992c": {
      "model_module": "@jupyter-widgets/base",
      "model_module_version": "1.2.0",
      "model_name": "LayoutModel",
      "state": {}
     },
     "ed6ddea6a98c4c8cb94dd7e8bf7e68dc": {
      "model_module": "@jupyter-widgets/controls",
      "model_module_version": "1.5.0",
      "model_name": "DescriptionStyleModel",
      "state": {
       "description_width": ""
      }
     },
     "f3a8718a195b4a898fbdb90ef57fa7b4": {
      "model_module": "@jupyter-widgets/controls",
      "model_module_version": "1.5.0",
      "model_name": "SliderStyleModel",
      "state": {
       "description_width": ""
      }
     },
     "f3c3fbda98fa41f78686ed522ff296a4": {
      "model_module": "@jupyter-widgets/base",
      "model_module_version": "1.2.0",
      "model_name": "LayoutModel",
      "state": {}
     },
     "f48c1d42804046f4a8628d43c50d8870": {
      "model_module": "@jupyter-widgets/base",
      "model_module_version": "1.2.0",
      "model_name": "LayoutModel",
      "state": {}
     },
     "fb0f5956585c4b8ebec3d3141013518f": {
      "model_module": "@jupyter-widgets/base",
      "model_module_version": "1.2.0",
      "model_name": "LayoutModel",
      "state": {}
     },
     "fde8de07816f45eb85664d71bccc9ece": {
      "model_module": "@jupyter-widgets/base",
      "model_module_version": "1.2.0",
      "model_name": "LayoutModel",
      "state": {}
     },
     "fe986e79fc1148a7918b336675817c56": {
      "model_module": "@jupyter-widgets/base",
      "model_module_version": "1.2.0",
      "model_name": "LayoutModel",
      "state": {}
     },
     "fe9db2293f8446daa422f58d82323e46": {
      "model_module": "@jupyter-widgets/base",
      "model_module_version": "1.2.0",
      "model_name": "LayoutModel",
      "state": {}
     }
    },
    "version_major": 2,
    "version_minor": 0
   }
  }
 },
 "nbformat": 4,
 "nbformat_minor": 5
}
