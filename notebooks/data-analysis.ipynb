{
 "cells": [
  {
   "cell_type": "code",
   "execution_count": 9,
   "id": "40dd6d0d-c778-4a14-9c68-bd6ff54095e8",
   "metadata": {},
   "outputs": [
    {
     "data": {
      "text/plain": [
       "(720, 1280, 3)"
      ]
     },
     "execution_count": 9,
     "metadata": {},
     "output_type": "execute_result"
    }
   ],
   "source": [
    "frame.shape"
   ]
  },
  {
   "cell_type": "code",
   "execution_count": 21,
   "id": "212270ca-dfe9-43c1-8410-1f113d4f3830",
   "metadata": {},
   "outputs": [
    {
     "data": {
      "text/plain": [
       "365"
      ]
     },
     "execution_count": 21,
     "metadata": {},
     "output_type": "execute_result"
    }
   ],
   "source": [
    "dW"
   ]
  },
  {
   "cell_type": "code",
   "execution_count": 23,
   "id": "7d6f6d92-f6d6-4419-8a5c-3c13d1376c6a",
   "metadata": {},
   "outputs": [
    {
     "name": "stdout",
     "output_type": "stream",
     "text": [
      "The autoreload extension is already loaded. To reload it, use:\n",
      "  %reload_ext autoreload\n"
     ]
    },
    {
     "data": {
      "text/plain": [
       "True"
      ]
     },
     "execution_count": 23,
     "metadata": {},
     "output_type": "execute_result"
    }
   ],
   "source": [
    "# %matplotlib inline\n",
    "%matplotlib widget\n",
    "# %matplotlib ipympl\n",
    "%load_ext autoreload\n",
    "%autoreload 2\n",
    "\n",
    "import matplotlib.pyplot as plt\n",
    "\n",
    "import os\n",
    "import pandas as pd\n",
    "import numpy as np\n",
    "import cv2\n",
    "import errno\n",
    "\n",
    "from ai_badminton.trajectory import Trajectory\n",
    "from ai_badminton.hit_detector import AdhocHitDetector, MLHitDetector\n",
    "from ai_badminton.pose import Pose, read_player_poses, process_pose_file\n",
    "from ai_badminton.court import Court, read_court\n",
    "from ai_badminton.video_annotator import annotate_video\n",
    "from ai_badminton.shots import *\n",
    "\n",
    "# Build shot database from rallies\n",
    "matches = list('match' + str(i) for i in range(1, 27))\n",
    "\n",
    "Nx, Ny = 5, 5\n",
    "H, W = 720 * 2, 1280 * 2\n",
    "dH, dW = int(H / Ny), int(W / Nx)\n",
    "\n",
    "collage = np.zeros((H, W, 3))\n",
    "\n",
    "i, j = 0, 0\n",
    "for match in matches:\n",
    "    for video in os.listdir('/home/code-base/scratch_space/data/%s/rally_video/' % match):\n",
    "        rally, _ = os.path.splitext(video)\n",
    "        cap = cv2.VideoCapture('/home/code-base/scratch_space/data/%s/rally_video/%s.mp4' % (match, rally))\n",
    "        L = int(cap.get(cv2.CAP_PROP_FRAME_COUNT))\n",
    "        \n",
    "        cap.set(cv2.CAP_PROP_POS_FRAMES, int(L/2))\n",
    "        _, frame = cap.read()\n",
    "        \n",
    "        frame = cv2.resize(frame, (dW, dH))\n",
    "        collage[i*dH:(i+1)*dH, j*dW:(j+1)*dW] = frame\n",
    "        \n",
    "        j += 1\n",
    "        if j == Nx:\n",
    "            i += 1\n",
    "            j = 0\n",
    "        break\n",
    "    if i == Ny:\n",
    "            break\n",
    "        \n",
    "collage = collage.astype('int16')\n",
    "cv2.imwrite('collage.png', collage)"
   ]
  },
  {
   "cell_type": "code",
   "execution_count": null,
   "id": "b8ec51e0-1ee4-499b-9b25-fcb95886a76c",
   "metadata": {},
   "outputs": [],
   "source": []
  }
 ],
 "metadata": {
  "kernelspec": {
   "display_name": "Python 3",
   "language": "python",
   "name": "python3"
  },
  "language_info": {
   "codemirror_mode": {
    "name": "ipython",
    "version": 3
   },
   "file_extension": ".py",
   "mimetype": "text/x-python",
   "name": "python",
   "nbconvert_exporter": "python",
   "pygments_lexer": "ipython3",
   "version": "3.8.5"
  }
 },
 "nbformat": 4,
 "nbformat_minor": 5
}
