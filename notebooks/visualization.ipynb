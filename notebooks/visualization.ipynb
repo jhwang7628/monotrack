{
 "cells": [
  {
   "cell_type": "markdown",
   "id": "2d788159-b0fa-4665-b2ba-33ff38608073",
   "metadata": {},
   "source": [
    "# Create annotation visualization from one video"
   ]
  },
  {
   "cell_type": "code",
   "execution_count": 1,
   "id": "957278d4-dd7e-4e98-aae2-f5f53caa00a0",
   "metadata": {},
   "outputs": [],
   "source": [
    "from ai_badminton.pose import read_player_poses\n",
    "from ai_badminton.court import read_court, court_points_to_corners, Court\n",
    "from ai_badminton.trajectory import Trajectory\n",
    "from ai_badminton.video_annotator import annotate_video\n",
    "from ai_badminton.hit_detector import read_hits\n",
    "\n",
    "import cv2\n",
    "\n",
    "import numpy as np\n",
    "from pathlib import Path"
   ]
  },
  {
   "cell_type": "markdown",
   "id": "863bd538-e2ab-4a7c-9cef-a07f135f632f",
   "metadata": {},
   "source": [
    "## Read different data"
   ]
  },
  {
   "cell_type": "code",
   "execution_count": 6,
   "id": "de11d7f0-c54e-4c20-ba89-e12cec881d89",
   "metadata": {},
   "outputs": [],
   "source": [
    "dataset_root = \"/home/juiwang/ai-badminton/data/tracknetv2_042022/profession_dataset\"\n",
    "prefix_template = dataset_root + \"/match1/%s/1_01_00\"\n",
    "\n",
    "poses = read_player_poses(prefix_template %(\"poses\"))\n",
    "\n",
    "court_pts = read_court((prefix_template %(\"court\")) + \".out\")\n",
    "court = Court(corners = court_points_to_corners(court_pts))\n",
    "\n",
    "trajectory = Trajectory((prefix_template %(\"ball_trajectory\")) + \"_ball.csv\")\n",
    "\n",
    "hits_path = Path((prefix_template %(\"shot\")) + \"_hit_predict.csv\")\n",
    "result, is_hit = read_hits(hits_path)\n",
    "\n",
    "video_file = (prefix_template %(\"rally_video\")) + \".mp4\"\n",
    "cap = cv2.VideoCapture(video_file)\n",
    "assert cap.isOpened(), f\"Cannot open video {video_file}\""
   ]
  },
  {
   "cell_type": "code",
   "execution_count": 8,
   "id": "4569bcf4-3d0a-44de-bdf1-87159f72ff62",
   "metadata": {},
   "outputs": [
    {
     "data": {
      "application/vnd.jupyter.widget-view+json": {
       "model_id": "38d7e6c4e5a7473fb9c564d26ed126fa",
       "version_major": 2,
       "version_minor": 0
      },
      "text/plain": [
       "  0%|          | 0/651 [00:00<?, ?it/s]"
      ]
     },
     "metadata": {},
     "output_type": "display_data"
    }
   ],
   "source": [
    "annotate_video(cap, court, poses, trajectory, result=result, is_hit=is_hit, outfile=\"./test.mp4\")"
   ]
  },
  {
   "cell_type": "markdown",
   "id": "27e11b87-a336-4bc2-9224-3c267ae93643",
   "metadata": {},
   "source": [
    "# Create annotation visualization from all video with 3d trajectory"
   ]
  },
  {
   "cell_type": "code",
   "execution_count": 2,
   "id": "5e867c47-db57-4755-ac31-4510da213f98",
   "metadata": {},
   "outputs": [
    {
     "name": "stdout",
     "output_type": "stream",
     "text": [
      "/home/juiwang/ai-badminton/data/tracknetv2_042022/profession_dataset/match1_cp/ball_trajectory_3d/1_01_00_3d.csv\n",
      "603\n"
     ]
    },
    {
     "data": {
      "application/vnd.jupyter.widget-view+json": {
       "model_id": "b33b1c68ab5747fd8a40982b86f2c4f1",
       "version_major": 2,
       "version_minor": 0
      },
      "text/plain": [
       "  0%|          | 0/603 [00:00<?, ?it/s]"
      ]
     },
     "metadata": {},
     "output_type": "display_data"
    },
    {
     "name": "stdout",
     "output_type": "stream",
     "text": [
      "/home/juiwang/ai-badminton/data/tracknetv2_042022/profession_dataset/match1_cp/ball_trajectory_3d/1_02_04_3d.csv\n",
      "67\n"
     ]
    },
    {
     "data": {
      "application/vnd.jupyter.widget-view+json": {
       "model_id": "148d3c73ea374465b392d0615fdf6945",
       "version_major": 2,
       "version_minor": 0
      },
      "text/plain": [
       "  0%|          | 0/67 [00:00<?, ?it/s]"
      ]
     },
     "metadata": {},
     "output_type": "display_data"
    },
    {
     "name": "stdout",
     "output_type": "stream",
     "text": [
      "/home/juiwang/ai-badminton/data/tracknetv2_042022/profession_dataset/match1_cp/ball_trajectory_3d/1_02_03_3d.csv\n",
      "54\n"
     ]
    },
    {
     "data": {
      "application/vnd.jupyter.widget-view+json": {
       "model_id": "5d36464c676a49b3bd3352997262bdbf",
       "version_major": 2,
       "version_minor": 0
      },
      "text/plain": [
       "  0%|          | 0/54 [00:00<?, ?it/s]"
      ]
     },
     "metadata": {},
     "output_type": "display_data"
    },
    {
     "name": "stdout",
     "output_type": "stream",
     "text": [
      "/home/juiwang/ai-badminton/data/tracknetv2_042022/profession_dataset/match1_cp/ball_trajectory_3d/1_03_06_3d.csv\n",
      "184\n"
     ]
    },
    {
     "data": {
      "application/vnd.jupyter.widget-view+json": {
       "model_id": "ed13f28d82614b6980a1df89f490bc70",
       "version_major": 2,
       "version_minor": 0
      },
      "text/plain": [
       "  0%|          | 0/184 [00:00<?, ?it/s]"
      ]
     },
     "metadata": {},
     "output_type": "display_data"
    },
    {
     "name": "stdout",
     "output_type": "stream",
     "text": [
      "/home/juiwang/ai-badminton/data/tracknetv2_042022/profession_dataset/match1_cp/ball_trajectory_3d/1_02_02_3d.csv\n",
      "161\n"
     ]
    },
    {
     "data": {
      "application/vnd.jupyter.widget-view+json": {
       "model_id": "e544977b3bc54afdb608b7f339d8437a",
       "version_major": 2,
       "version_minor": 0
      },
      "text/plain": [
       "  0%|          | 0/161 [00:00<?, ?it/s]"
      ]
     },
     "metadata": {},
     "output_type": "display_data"
    },
    {
     "name": "stdout",
     "output_type": "stream",
     "text": [
      "/home/juiwang/ai-badminton/data/tracknetv2_042022/profession_dataset/match1_cp/ball_trajectory_3d/1_02_01_3d.csv\n",
      "151\n"
     ]
    },
    {
     "data": {
      "application/vnd.jupyter.widget-view+json": {
       "model_id": "2779c62673c84312a00bc41b7bceeb20",
       "version_major": 2,
       "version_minor": 0
      },
      "text/plain": [
       "  0%|          | 0/151 [00:00<?, ?it/s]"
      ]
     },
     "metadata": {},
     "output_type": "display_data"
    },
    {
     "name": "stdout",
     "output_type": "stream",
     "text": [
      "/home/juiwang/ai-badminton/data/tracknetv2_042022/profession_dataset/match1_cp/ball_trajectory_3d/1_06_09_3d.csv\n",
      "422\n"
     ]
    },
    {
     "data": {
      "application/vnd.jupyter.widget-view+json": {
       "model_id": "b09c396a318546b29324a787dd0e5f8d",
       "version_major": 2,
       "version_minor": 0
      },
      "text/plain": [
       "  0%|          | 0/422 [00:00<?, ?it/s]"
      ]
     },
     "metadata": {},
     "output_type": "display_data"
    },
    {
     "name": "stdout",
     "output_type": "stream",
     "text": [
      "/home/juiwang/ai-badminton/data/tracknetv2_042022/profession_dataset/match1_cp/ball_trajectory_3d/1_03_05_3d.csv\n",
      "336\n"
     ]
    },
    {
     "data": {
      "application/vnd.jupyter.widget-view+json": {
       "model_id": "8aa7492f2c854e30a9076d065f7371c5",
       "version_major": 2,
       "version_minor": 0
      },
      "text/plain": [
       "  0%|          | 0/336 [00:00<?, ?it/s]"
      ]
     },
     "metadata": {},
     "output_type": "display_data"
    },
    {
     "name": "stdout",
     "output_type": "stream",
     "text": [
      "/home/juiwang/ai-badminton/data/tracknetv2_042022/profession_dataset/match1_cp/ball_trajectory_3d/1_06_08_3d.csv\n",
      "47\n"
     ]
    },
    {
     "data": {
      "application/vnd.jupyter.widget-view+json": {
       "model_id": "77e0efc6c71e459da5740f0bd8c6ca48",
       "version_major": 2,
       "version_minor": 0
      },
      "text/plain": [
       "  0%|          | 0/47 [00:00<?, ?it/s]"
      ]
     },
     "metadata": {},
     "output_type": "display_data"
    },
    {
     "name": "stdout",
     "output_type": "stream",
     "text": [
      "/home/juiwang/ai-badminton/data/tracknetv2_042022/profession_dataset/match1_cp/ball_trajectory_3d/1_06_06_3d.csv\n",
      "105\n"
     ]
    },
    {
     "data": {
      "application/vnd.jupyter.widget-view+json": {
       "model_id": "0cb200d3ed394b2a8fbe9d6a59ff4178",
       "version_major": 2,
       "version_minor": 0
      },
      "text/plain": [
       "  0%|          | 0/105 [00:00<?, ?it/s]"
      ]
     },
     "metadata": {},
     "output_type": "display_data"
    },
    {
     "name": "stdout",
     "output_type": "stream",
     "text": [
      "/home/juiwang/ai-badminton/data/tracknetv2_042022/profession_dataset/match1_cp/ball_trajectory_3d/1_02_00_3d.csv\n",
      "453\n"
     ]
    },
    {
     "data": {
      "application/vnd.jupyter.widget-view+json": {
       "model_id": "71691f19713a471a8ff904b6ab2fbc5a",
       "version_major": 2,
       "version_minor": 0
      },
      "text/plain": [
       "  0%|          | 0/453 [00:00<?, ?it/s]"
      ]
     },
     "metadata": {},
     "output_type": "display_data"
    },
    {
     "name": "stdout",
     "output_type": "stream",
     "text": [
      "/home/juiwang/ai-badminton/data/tracknetv2_042022/profession_dataset/match1_cp/ball_trajectory_3d/1_03_04_3d.csv\n",
      "86\n"
     ]
    },
    {
     "data": {
      "application/vnd.jupyter.widget-view+json": {
       "model_id": "c26f38106424461c8eae0edf97065dbb",
       "version_major": 2,
       "version_minor": 0
      },
      "text/plain": [
       "  0%|          | 0/86 [00:00<?, ?it/s]"
      ]
     },
     "metadata": {},
     "output_type": "display_data"
    }
   ],
   "source": [
    "from ai_badminton.pose import read_player_poses\n",
    "from ai_badminton.court import read_court, court_points_to_corners, Court\n",
    "from ai_badminton.trajectory import Trajectory, read_trajectory_3d\n",
    "from ai_badminton.video_annotator import annotate_video_3d\n",
    "from ai_badminton.hit_detector import read_hits\n",
    "from ai_badminton.pipeline_clean import read_poses_court_trajectory\n",
    "\n",
    "import cv2\n",
    "\n",
    "import numpy as np\n",
    "from pathlib import Path\n",
    "\n",
    "match_path = Path(\"/home/juiwang/ai-badminton/data/tracknetv2_042022/profession_dataset/match1_cp\")\n",
    "\n",
    "rally_videos = (match_path / \"rally_video\").glob(\"*.mp4\")\n",
    "video_names = [p.stem for p in rally_videos]\n",
    "\n",
    "for video_name in video_names:\n",
    "\n",
    "\n",
    "    video_path = match_path / \"rally_video\" / (video_name + \".mp4\")\n",
    "\n",
    "    cap = cv2.VideoCapture(str(video_path))\n",
    "    assert cap.isOpened()\n",
    "\n",
    "    trajectory_3d_path = match_path / \"ball_trajectory_3d\" / (video_path.stem + \"_3d.csv\")\n",
    "    print(trajectory_3d_path)\n",
    "    assert trajectory_3d_path.is_file()\n",
    "\n",
    "    metadata = read_poses_court_trajectory(match_path, video_path.stem)\n",
    "    output_path = match_path / \"annotated_3d\" / (video_path.stem + \"_3d.mp4\")\n",
    "    output_path.parent.mkdir(parents=True, exist_ok=True)\n",
    "    annotate_video_3d(\n",
    "        cap,\n",
    "        metadata[\"court3d\"],\n",
    "        read_trajectory_3d(trajectory_3d_path),\n",
    "        outfile = str(output_path)\n",
    "    )\n",
    "    print(\"Done\")\n"
   ]
  },
  {
   "cell_type": "markdown",
   "id": "04b3cc09-2751-4a97-a74f-6459d64e0660",
   "metadata": {},
   "source": [
    "# Create annotation visualization from all videos in a match"
   ]
  },
  {
   "cell_type": "code",
   "execution_count": 32,
   "id": "2c4409e3-9203-45fd-981a-aaa75fc8fee8",
   "metadata": {},
   "outputs": [],
   "source": [
    "def annotate_all_videos(match_path):\n",
    "    rally_videos = (match_path / \"rally_video\").glob(\"*.mp4\")\n",
    "    video_names = [p.stem for p in rally_videos]\n",
    "    \n",
    "    for video_name in video_names:\n",
    "        print(f\"Processing video: {video_name}\")\n",
    "        poses = read_player_poses(str(match_path / \"poses\" / video_name))\n",
    "        \n",
    "        court_pts = read_court(str(match_path / \"court\" / (video_name + \".out\")))\n",
    "        court = Court(corners = court_points_to_corners(court_pts))\n",
    "\n",
    "        trajectory = Trajectory(str(match_path / \"ball_trajectory\" / (str(video_name) + \"_ball_predict.csv\")))\n",
    "\n",
    "        video_file = str(match_path / \"rally_video\" / (video_name + \".mp4\"))\n",
    "            \n",
    "        cap = cv2.VideoCapture(video_file)\n",
    "        assert cap.isOpened(), f\"Cannot open video {video_file}\"\n",
    "        \n",
    "        out_dir = match_path / \"annotated_2d\"\n",
    "        out_dir.mkdir(parents=True, exist_ok=True)\n",
    "        out_path = out_dir / (video_name + \".mp4\")\n",
    "        annotate_video(cap, court, poses, trajectory, outfile=str(out_path))\n"
   ]
  },
  {
   "cell_type": "code",
   "execution_count": 34,
   "id": "6a6d0f33-f3a2-4e13-a860-d073f38bc32f",
   "metadata": {},
   "outputs": [
    {
     "name": "stdout",
     "output_type": "stream",
     "text": [
      "Processing video: 1_01_00\n"
     ]
    },
    {
     "data": {
      "application/vnd.jupyter.widget-view+json": {
       "model_id": "2a888a1d5f5148bd8804dbd6c98278b9",
       "version_major": 2,
       "version_minor": 0
      },
      "text/plain": [
       "  0%|          | 0/651 [00:00<?, ?it/s]"
      ]
     },
     "metadata": {},
     "output_type": "display_data"
    },
    {
     "name": "stdout",
     "output_type": "stream",
     "text": [
      "Processing video: 1_02_04\n"
     ]
    },
    {
     "data": {
      "application/vnd.jupyter.widget-view+json": {
       "model_id": "c8f813a4f726453199cf178c4c4762ac",
       "version_major": 2,
       "version_minor": 0
      },
      "text/plain": [
       "  0%|          | 0/153 [00:00<?, ?it/s]"
      ]
     },
     "metadata": {},
     "output_type": "display_data"
    },
    {
     "name": "stdout",
     "output_type": "stream",
     "text": [
      "Processing video: 1_02_03\n"
     ]
    },
    {
     "data": {
      "application/vnd.jupyter.widget-view+json": {
       "model_id": "c6497202aa06423d9b12b164eddd2750",
       "version_major": 2,
       "version_minor": 0
      },
      "text/plain": [
       "  0%|          | 0/78 [00:00<?, ?it/s]"
      ]
     },
     "metadata": {},
     "output_type": "display_data"
    },
    {
     "name": "stdout",
     "output_type": "stream",
     "text": [
      "Processing video: 1_03_06\n"
     ]
    },
    {
     "data": {
      "application/vnd.jupyter.widget-view+json": {
       "model_id": "94d0e8b143db4a06949c50e26f0e910f",
       "version_major": 2,
       "version_minor": 0
      },
      "text/plain": [
       "  0%|          | 0/249 [00:00<?, ?it/s]"
      ]
     },
     "metadata": {},
     "output_type": "display_data"
    },
    {
     "name": "stdout",
     "output_type": "stream",
     "text": [
      "Processing video: 1_02_02\n"
     ]
    },
    {
     "data": {
      "application/vnd.jupyter.widget-view+json": {
       "model_id": "e78138fb86504d4883af6b3dac537566",
       "version_major": 2,
       "version_minor": 0
      },
      "text/plain": [
       "  0%|          | 0/258 [00:00<?, ?it/s]"
      ]
     },
     "metadata": {},
     "output_type": "display_data"
    },
    {
     "name": "stdout",
     "output_type": "stream",
     "text": [
      "Processing video: 1_02_01\n"
     ]
    },
    {
     "data": {
      "application/vnd.jupyter.widget-view+json": {
       "model_id": "a064984892e44a548fd3eef757b2e94f",
       "version_major": 2,
       "version_minor": 0
      },
      "text/plain": [
       "  0%|          | 0/195 [00:00<?, ?it/s]"
      ]
     },
     "metadata": {},
     "output_type": "display_data"
    },
    {
     "name": "stdout",
     "output_type": "stream",
     "text": [
      "Processing video: 1_06_09\n"
     ]
    },
    {
     "data": {
      "application/vnd.jupyter.widget-view+json": {
       "model_id": "9d03643e95db43759e252d97280b7944",
       "version_major": 2,
       "version_minor": 0
      },
      "text/plain": [
       "  0%|          | 0/453 [00:00<?, ?it/s]"
      ]
     },
     "metadata": {},
     "output_type": "display_data"
    },
    {
     "name": "stdout",
     "output_type": "stream",
     "text": [
      "Processing video: 1_03_05\n"
     ]
    },
    {
     "data": {
      "application/vnd.jupyter.widget-view+json": {
       "model_id": "f8768f7dfee047fbb52c28b092d627fe",
       "version_major": 2,
       "version_minor": 0
      },
      "text/plain": [
       "  0%|          | 0/357 [00:00<?, ?it/s]"
      ]
     },
     "metadata": {},
     "output_type": "display_data"
    },
    {
     "name": "stdout",
     "output_type": "stream",
     "text": [
      "Processing video: 1_06_08\n"
     ]
    },
    {
     "data": {
      "application/vnd.jupyter.widget-view+json": {
       "model_id": "9285a6a1ccd740148499374d54c80bda",
       "version_major": 2,
       "version_minor": 0
      },
      "text/plain": [
       "  0%|          | 0/99 [00:00<?, ?it/s]"
      ]
     },
     "metadata": {},
     "output_type": "display_data"
    },
    {
     "name": "stdout",
     "output_type": "stream",
     "text": [
      "Processing video: 1_06_06\n"
     ]
    },
    {
     "data": {
      "application/vnd.jupyter.widget-view+json": {
       "model_id": "bf0f06e1206e4bfc866a36269be7f415",
       "version_major": 2,
       "version_minor": 0
      },
      "text/plain": [
       "  0%|          | 0/156 [00:00<?, ?it/s]"
      ]
     },
     "metadata": {},
     "output_type": "display_data"
    },
    {
     "name": "stdout",
     "output_type": "stream",
     "text": [
      "Processing video: 1_02_00\n"
     ]
    },
    {
     "data": {
      "application/vnd.jupyter.widget-view+json": {
       "model_id": "466e706dc1304e87ba2d32177e070881",
       "version_major": 2,
       "version_minor": 0
      },
      "text/plain": [
       "  0%|          | 0/498 [00:00<?, ?it/s]"
      ]
     },
     "metadata": {},
     "output_type": "display_data"
    },
    {
     "name": "stdout",
     "output_type": "stream",
     "text": [
      "Processing video: 1_03_04\n"
     ]
    },
    {
     "data": {
      "application/vnd.jupyter.widget-view+json": {
       "model_id": "71e845a6710e416984b5bd6f13f56304",
       "version_major": 2,
       "version_minor": 0
      },
      "text/plain": [
       "  0%|          | 0/138 [00:00<?, ?it/s]"
      ]
     },
     "metadata": {},
     "output_type": "display_data"
    }
   ],
   "source": [
    "annotate_all_videos(Path(\"/home/juiwang/ai-badminton/data/tracknetv2_042022/profession_dataset/match1_cp/\"))"
   ]
  },
  {
   "cell_type": "code",
   "execution_count": null,
   "id": "197427fb-6165-464b-bab9-1305a8a96a50",
   "metadata": {},
   "outputs": [],
   "source": []
  },
  {
   "cell_type": "markdown",
   "id": "756f0105-41ed-46dd-b36d-a7731aff54ad",
   "metadata": {},
   "source": [
    "# Visualize the inferenced hits versus ground truth"
   ]
  },
  {
   "cell_type": "code",
   "execution_count": 3,
   "id": "cacb5629-8db6-4213-84c9-612f30b68d1c",
   "metadata": {},
   "outputs": [],
   "source": [
    "%matplotlib widget\n",
    "\n",
    "import matplotlib.pyplot as plt\n",
    "from pathlib import Path\n",
    "import pandas as pd"
   ]
  },
  {
   "cell_type": "code",
   "execution_count": 19,
   "id": "654a3c40-ffec-42a3-9466-430dffd6ed05",
   "metadata": {},
   "outputs": [],
   "source": [
    "def plot_shot_differences(hit_groundtruth_path):\n",
    "    gt_path = hit_groundtruth_path\n",
    "    pred_path = Path(str(gt_path.with_suffix(\"\")) + \"_predict.csv\")\n",
    "    assert gt_path.is_file() and pred_path.is_file()\n",
    "    \n",
    "    gt = pd.read_csv(str(gt_path))\n",
    "    pred = pd.read_csv(str(pred_path))\n",
    "    \n",
    "    plt.figure()\n",
    "    plt.plot(gt.values[:,1], 'o', label=\"ground truth\")\n",
    "    plt.plot((pred.values[:,1]>0), 'x', label=\"prediction\")\n",
    "    plt.legend(loc=0)\n",
    "    plt.show()\n",
    "    \n",
    "    "
   ]
  },
  {
   "cell_type": "code",
   "execution_count": 21,
   "id": "ed0f8f0d-7c10-40aa-be5d-922420644dd8",
   "metadata": {},
   "outputs": [
    {
     "data": {
      "application/vnd.jupyter.widget-view+json": {
       "model_id": "063f3821608f4381b63c9cadab19be34",
       "version_major": 2,
       "version_minor": 0
      },
      "image/png": "[encoded data removed]",
      "text/html": [
       "\n",
       "            <div style=\"display: inline-block;\">\n",
       "                <div class=\"jupyter-widgets widget-label\" style=\"text-align: center;\">\n",
       "                    Figure\n",
       "                </div>\n",
       "                <img src='data:image/png;base64,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' width=640.0/>\n",
       "            </div>\n",
       "        "
      ],
      "text/plain": [
       "Canvas(toolbar=Toolbar(toolitems=[('Home', 'Reset original view', 'home', 'home'), ('Back', 'Back to previous …"
      ]
     },
     "metadata": {},
     "output_type": "display_data"
    }
   ],
   "source": [
    "\n",
    "plot_shot_differences(Path(\"/home/juiwang/ai-badminton/data/tracknetv2_042022/profession_dataset/match10/shot/1_03_01_hit.csv\"))"
   ]
  },
  {
   "cell_type": "code",
   "execution_count": null,
   "id": "8ebeb5df-8523-458c-847c-82e05f5a6af5",
   "metadata": {},
   "outputs": [],
   "source": []
  },
  {
   "cell_type": "code",
   "execution_count": null,
   "id": "2b447789-3f76-4f58-b83c-670b6319203a",
   "metadata": {},
   "outputs": [],
   "source": []
  }
 ],
 "metadata": {
  "kernelspec": {
   "display_name": "ai-badminton with env",
   "language": "python",
   "name": "ai-badminton"
  },
  "language_info": {
   "codemirror_mode": {
    "name": "ipython",
    "version": 3
   },
   "file_extension": ".py",
   "mimetype": "text/x-python",
   "name": "python",
   "nbconvert_exporter": "python",
   "pygments_lexer": "ipython3",
   "version": "3.8.13"
  }
 },
 "nbformat": 4,
 "nbformat_minor": 5
}
