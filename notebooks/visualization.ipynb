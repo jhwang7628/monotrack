{
 "cells": [
  {
   "cell_type": "markdown",
   "id": "2d788159-b0fa-4665-b2ba-33ff38608073",
   "metadata": {},
   "source": [
    "# Create annotation visualization from one video"
   ]
  },
  {
   "cell_type": "code",
   "execution_count": 1,
   "id": "957278d4-dd7e-4e98-aae2-f5f53caa00a0",
   "metadata": {},
   "outputs": [],
   "source": [
    "from ai_badminton.pose import read_player_poses\n",
    "from ai_badminton.court import read_court, court_points_to_corners, Court\n",
    "from ai_badminton.trajectory import Trajectory\n",
    "from ai_badminton.video_annotator import annotate_video\n",
    "from ai_badminton.hit_detector import read_hits\n",
    "\n",
    "import cv2\n",
    "\n",
    "import numpy as np\n",
    "from pathlib import Path"
   ]
  },
  {
   "cell_type": "markdown",
   "id": "863bd538-e2ab-4a7c-9cef-a07f135f632f",
   "metadata": {},
   "source": [
    "## Read different data"
   ]
  },
  {
   "cell_type": "code",
   "execution_count": 6,
   "id": "de11d7f0-c54e-4c20-ba89-e12cec881d89",
   "metadata": {},
   "outputs": [],
   "source": [
    "dataset_root = \"/home/juiwang/ai-badminton/data/tracknetv2_042022/profession_dataset\"\n",
    "prefix_template = dataset_root + \"/match1/%s/1_01_00\"\n",
    "\n",
    "poses = read_player_poses(prefix_template %(\"poses\"))\n",
    "\n",
    "court_pts = read_court((prefix_template %(\"court\")) + \".out\")\n",
    "court = Court(corners = court_points_to_corners(court_pts))\n",
    "\n",
    "trajectory = Trajectory((prefix_template %(\"ball_trajectory\")) + \"_ball.csv\")\n",
    "\n",
    "hits_path = Path((prefix_template %(\"shot\")) + \"_hit_predict.csv\")\n",
    "result, is_hit = read_hits(hits_path)\n",
    "\n",
    "video_file = (prefix_template %(\"rally_video\")) + \".mp4\"\n",
    "cap = cv2.VideoCapture(video_file)\n",
    "assert cap.isOpened(), f\"Cannot open video {video_file}\""
   ]
  },
  {
   "cell_type": "code",
   "execution_count": 8,
   "id": "4569bcf4-3d0a-44de-bdf1-87159f72ff62",
   "metadata": {},
   "outputs": [
    {
     "data": {
      "application/vnd.jupyter.widget-view+json": {
       "model_id": "38d7e6c4e5a7473fb9c564d26ed126fa",
       "version_major": 2,
       "version_minor": 0
      },
      "text/plain": [
       "  0%|          | 0/651 [00:00<?, ?it/s]"
      ]
     },
     "metadata": {},
     "output_type": "display_data"
    }
   ],
   "source": [
    "annotate_video(cap, court, poses, trajectory, result=result, is_hit=is_hit, outfile=\"./test.mp4\")"
   ]
  },
  {
   "cell_type": "markdown",
   "id": "27e11b87-a336-4bc2-9224-3c267ae93643",
   "metadata": {},
   "source": [
    "# Create annotation visualization from all video with 3d trajectory"
   ]
  },
  {
   "cell_type": "code",
   "execution_count": 15,
   "id": "5e867c47-db57-4755-ac31-4510da213f98",
   "metadata": {},
   "outputs": [
    {
     "name": "stdout",
     "output_type": "stream",
     "text": [
      "/home/juiwang/ai-badminton/data/tracknetv2_042022/profession_dataset/match1/ball_trajectory_3d/1_03_04_3d.csv\n",
      "137\n"
     ]
    },
    {
     "data": {
      "application/vnd.jupyter.widget-view+json": {
       "model_id": "22aa90c0eeeb47959342771507b165e9",
       "version_major": 2,
       "version_minor": 0
      },
      "text/plain": [
       "  0%|          | 0/137 [00:00<?, ?it/s]"
      ]
     },
     "metadata": {},
     "output_type": "display_data"
    },
    {
     "name": "stdout",
     "output_type": "stream",
     "text": [
      "Done\n",
      "/home/juiwang/ai-badminton/data/tracknetv2_042022/profession_dataset/match1/ball_trajectory_3d/1_06_06_3d.csv\n",
      "155\n"
     ]
    },
    {
     "data": {
      "application/vnd.jupyter.widget-view+json": {
       "model_id": "19911671172942aa948a1b0d85142eda",
       "version_major": 2,
       "version_minor": 0
      },
      "text/plain": [
       "  0%|          | 0/155 [00:00<?, ?it/s]"
      ]
     },
     "metadata": {},
     "output_type": "display_data"
    },
    {
     "name": "stdout",
     "output_type": "stream",
     "text": [
      "Done\n",
      "/home/juiwang/ai-badminton/data/tracknetv2_042022/profession_dataset/match1/ball_trajectory_3d/1_06_08_3d.csv\n",
      "98\n"
     ]
    },
    {
     "data": {
      "application/vnd.jupyter.widget-view+json": {
       "model_id": "d94b52e290a6471c8bd1ea09865ba1bb",
       "version_major": 2,
       "version_minor": 0
      },
      "text/plain": [
       "  0%|          | 0/98 [00:00<?, ?it/s]"
      ]
     },
     "metadata": {},
     "output_type": "display_data"
    },
    {
     "name": "stdout",
     "output_type": "stream",
     "text": [
      "Done\n",
      "/home/juiwang/ai-badminton/data/tracknetv2_042022/profession_dataset/match1/ball_trajectory_3d/1_02_00_3d.csv\n",
      "497\n"
     ]
    },
    {
     "data": {
      "application/vnd.jupyter.widget-view+json": {
       "model_id": "d3afad510b3f42f18cfffc5283130b6c",
       "version_major": 2,
       "version_minor": 0
      },
      "text/plain": [
       "  0%|          | 0/497 [00:00<?, ?it/s]"
      ]
     },
     "metadata": {},
     "output_type": "display_data"
    },
    {
     "name": "stdout",
     "output_type": "stream",
     "text": [
      "Done\n",
      "/home/juiwang/ai-badminton/data/tracknetv2_042022/profession_dataset/match1/ball_trajectory_3d/1_03_05_3d.csv\n",
      "356\n"
     ]
    },
    {
     "data": {
      "application/vnd.jupyter.widget-view+json": {
       "model_id": "26a1aabb59b541128349c4dc44c386dc",
       "version_major": 2,
       "version_minor": 0
      },
      "text/plain": [
       "  0%|          | 0/356 [00:00<?, ?it/s]"
      ]
     },
     "metadata": {},
     "output_type": "display_data"
    },
    {
     "name": "stdout",
     "output_type": "stream",
     "text": [
      "Done\n",
      "/home/juiwang/ai-badminton/data/tracknetv2_042022/profession_dataset/match1/ball_trajectory_3d/1_02_01_3d.csv\n",
      "194\n"
     ]
    },
    {
     "data": {
      "application/vnd.jupyter.widget-view+json": {
       "model_id": "47df2557f23745c1934f811ddc68984e",
       "version_major": 2,
       "version_minor": 0
      },
      "text/plain": [
       "  0%|          | 0/194 [00:00<?, ?it/s]"
      ]
     },
     "metadata": {},
     "output_type": "display_data"
    },
    {
     "name": "stdout",
     "output_type": "stream",
     "text": [
      "Done\n",
      "/home/juiwang/ai-badminton/data/tracknetv2_042022/profession_dataset/match1/ball_trajectory_3d/1_06_09_3d.csv\n",
      "452\n"
     ]
    },
    {
     "data": {
      "application/vnd.jupyter.widget-view+json": {
       "model_id": "eea2ef1d15ea498c9e9a8769d3ded847",
       "version_major": 2,
       "version_minor": 0
      },
      "text/plain": [
       "  0%|          | 0/452 [00:00<?, ?it/s]"
      ]
     },
     "metadata": {},
     "output_type": "display_data"
    },
    {
     "name": "stdout",
     "output_type": "stream",
     "text": [
      "Done\n",
      "/home/juiwang/ai-badminton/data/tracknetv2_042022/profession_dataset/match1/ball_trajectory_3d/1_02_02_3d.csv\n",
      "257\n"
     ]
    },
    {
     "data": {
      "application/vnd.jupyter.widget-view+json": {
       "model_id": "09ecb016927747f29edc13a2ec5893fe",
       "version_major": 2,
       "version_minor": 0
      },
      "text/plain": [
       "  0%|          | 0/257 [00:00<?, ?it/s]"
      ]
     },
     "metadata": {},
     "output_type": "display_data"
    },
    {
     "name": "stdout",
     "output_type": "stream",
     "text": [
      "Done\n",
      "/home/juiwang/ai-badminton/data/tracknetv2_042022/profession_dataset/match1/ball_trajectory_3d/1_03_06_3d.csv\n",
      "248\n"
     ]
    },
    {
     "data": {
      "application/vnd.jupyter.widget-view+json": {
       "model_id": "8590bf812e3242749c34e745bf3f33d1",
       "version_major": 2,
       "version_minor": 0
      },
      "text/plain": [
       "  0%|          | 0/248 [00:00<?, ?it/s]"
      ]
     },
     "metadata": {},
     "output_type": "display_data"
    },
    {
     "name": "stdout",
     "output_type": "stream",
     "text": [
      "Done\n",
      "/home/juiwang/ai-badminton/data/tracknetv2_042022/profession_dataset/match1/ball_trajectory_3d/1_01_00_3d.csv\n",
      "650\n"
     ]
    },
    {
     "data": {
      "application/vnd.jupyter.widget-view+json": {
       "model_id": "d482421264a947fb9bfe08e87e2b6b8a",
       "version_major": 2,
       "version_minor": 0
      },
      "text/plain": [
       "  0%|          | 0/650 [00:00<?, ?it/s]"
      ]
     },
     "metadata": {},
     "output_type": "display_data"
    },
    {
     "name": "stdout",
     "output_type": "stream",
     "text": [
      "Done\n",
      "/home/juiwang/ai-badminton/data/tracknetv2_042022/profession_dataset/match1/ball_trajectory_3d/1_02_03_3d.csv\n",
      "77\n"
     ]
    },
    {
     "data": {
      "application/vnd.jupyter.widget-view+json": {
       "model_id": "b5fed9fabe284251803fd1fa013612a1",
       "version_major": 2,
       "version_minor": 0
      },
      "text/plain": [
       "  0%|          | 0/77 [00:00<?, ?it/s]"
      ]
     },
     "metadata": {},
     "output_type": "display_data"
    },
    {
     "name": "stdout",
     "output_type": "stream",
     "text": [
      "Done\n",
      "/home/juiwang/ai-badminton/data/tracknetv2_042022/profession_dataset/match1/ball_trajectory_3d/1_02_04_3d.csv\n",
      "152\n"
     ]
    },
    {
     "data": {
      "application/vnd.jupyter.widget-view+json": {
       "model_id": "63402979234a40e29a907ad1a3508bf8",
       "version_major": 2,
       "version_minor": 0
      },
      "text/plain": [
       "  0%|          | 0/152 [00:00<?, ?it/s]"
      ]
     },
     "metadata": {},
     "output_type": "display_data"
    },
    {
     "name": "stdout",
     "output_type": "stream",
     "text": [
      "Done\n",
      "/home/juiwang/ai-badminton/data/tracknetv2_042022/profession_dataset/match2/ball_trajectory_3d/1_08_12_3d.csv\n",
      "272\n"
     ]
    },
    {
     "data": {
      "application/vnd.jupyter.widget-view+json": {
       "model_id": "eed58b65ffb343e2bd9365ac6a88c306",
       "version_major": 2,
       "version_minor": 0
      },
      "text/plain": [
       "  0%|          | 0/272 [00:00<?, ?it/s]"
      ]
     },
     "metadata": {},
     "output_type": "display_data"
    },
    {
     "name": "stdout",
     "output_type": "stream",
     "text": [
      "Done\n",
      "/home/juiwang/ai-badminton/data/tracknetv2_042022/profession_dataset/match2/ball_trajectory_3d/1_06_09_3d.csv\n",
      "473\n"
     ]
    },
    {
     "data": {
      "application/vnd.jupyter.widget-view+json": {
       "model_id": "be524afcc3884b1f97fc55974443d204",
       "version_major": 2,
       "version_minor": 0
      },
      "text/plain": [
       "  0%|          | 0/473 [00:00<?, ?it/s]"
      ]
     },
     "metadata": {},
     "output_type": "display_data"
    },
    {
     "name": "stdout",
     "output_type": "stream",
     "text": [
      "Done\n",
      "/home/juiwang/ai-badminton/data/tracknetv2_042022/profession_dataset/match2/ball_trajectory_3d/1_06_08_3d.csv\n",
      "353\n"
     ]
    },
    {
     "data": {
      "application/vnd.jupyter.widget-view+json": {
       "model_id": "9cd693b43bc94519bb078f30aa41914c",
       "version_major": 2,
       "version_minor": 0
      },
      "text/plain": [
       "  0%|          | 0/353 [00:00<?, ?it/s]"
      ]
     },
     "metadata": {},
     "output_type": "display_data"
    },
    {
     "name": "stdout",
     "output_type": "stream",
     "text": [
      "Done\n",
      "/home/juiwang/ai-badminton/data/tracknetv2_042022/profession_dataset/match2/ball_trajectory_3d/1_02_03_3d.csv\n",
      "356\n"
     ]
    },
    {
     "data": {
      "application/vnd.jupyter.widget-view+json": {
       "model_id": "d80a2f71647a42e49273c41032e7d482",
       "version_major": 2,
       "version_minor": 0
      },
      "text/plain": [
       "  0%|          | 0/356 [00:00<?, ?it/s]"
      ]
     },
     "metadata": {},
     "output_type": "display_data"
    },
    {
     "name": "stdout",
     "output_type": "stream",
     "text": [
      "Done\n",
      "/home/juiwang/ai-badminton/data/tracknetv2_042022/profession_dataset/match2/ball_trajectory_3d/1_09_12_3d.csv\n",
      "458\n"
     ]
    },
    {
     "data": {
      "application/vnd.jupyter.widget-view+json": {
       "model_id": "0a3f5b47dd584844b6297e32ad9a9384",
       "version_major": 2,
       "version_minor": 0
      },
      "text/plain": [
       "  0%|          | 0/458 [00:00<?, ?it/s]"
      ]
     },
     "metadata": {},
     "output_type": "display_data"
    },
    {
     "name": "stdout",
     "output_type": "stream",
     "text": [
      "Done\n",
      "/home/juiwang/ai-badminton/data/tracknetv2_042022/profession_dataset/match2/ball_trajectory_3d/1_04_03_3d.csv\n",
      "356\n"
     ]
    },
    {
     "data": {
      "application/vnd.jupyter.widget-view+json": {
       "model_id": "ee0d3303857b463faec5bba14d606fba",
       "version_major": 2,
       "version_minor": 0
      },
      "text/plain": [
       "  0%|          | 0/356 [00:00<?, ?it/s]"
      ]
     },
     "metadata": {},
     "output_type": "display_data"
    },
    {
     "name": "stdout",
     "output_type": "stream",
     "text": [
      "Done\n",
      "/home/juiwang/ai-badminton/data/tracknetv2_042022/profession_dataset/match2/ball_trajectory_3d/1_08_11_3d.csv\n",
      "335\n"
     ]
    },
    {
     "data": {
      "application/vnd.jupyter.widget-view+json": {
       "model_id": "4385bd6fb3d949dab908c731afb7cd85",
       "version_major": 2,
       "version_minor": 0
      },
      "text/plain": [
       "  0%|          | 0/335 [00:00<?, ?it/s]"
      ]
     },
     "metadata": {},
     "output_type": "display_data"
    },
    {
     "name": "stdout",
     "output_type": "stream",
     "text": [
      "Done\n",
      "/home/juiwang/ai-badminton/data/tracknetv2_042022/profession_dataset/match2/ball_trajectory_3d/1_00_02_3d.csv\n",
      "608\n"
     ]
    },
    {
     "data": {
      "application/vnd.jupyter.widget-view+json": {
       "model_id": "9f5c47af92734e70889292c84981cc1b",
       "version_major": 2,
       "version_minor": 0
      },
      "text/plain": [
       "  0%|          | 0/608 [00:00<?, ?it/s]"
      ]
     },
     "metadata": {},
     "output_type": "display_data"
    },
    {
     "name": "stdout",
     "output_type": "stream",
     "text": [
      "Done\n",
      "/home/juiwang/ai-badminton/data/tracknetv2_042022/profession_dataset/match3/ball_trajectory_3d/2_18_15_3d.csv\n",
      "1166\n"
     ]
    },
    {
     "data": {
      "application/vnd.jupyter.widget-view+json": {
       "model_id": "8dd1d2cd9056416e960decb625d94829",
       "version_major": 2,
       "version_minor": 0
      },
      "text/plain": [
       "  0%|          | 0/1166 [00:00<?, ?it/s]"
      ]
     },
     "metadata": {},
     "output_type": "display_data"
    },
    {
     "name": "stdout",
     "output_type": "stream",
     "text": [
      "Done\n",
      "/home/juiwang/ai-badminton/data/tracknetv2_042022/profession_dataset/match3/ball_trajectory_3d/1_12_17_3d.csv\n",
      "347\n"
     ]
    },
    {
     "data": {
      "application/vnd.jupyter.widget-view+json": {
       "model_id": "6b570e7ae82d46e6aaafb3b0e71abf99",
       "version_major": 2,
       "version_minor": 0
      },
      "text/plain": [
       "  0%|          | 0/347 [00:00<?, ?it/s]"
      ]
     },
     "metadata": {},
     "output_type": "display_data"
    },
    {
     "name": "stdout",
     "output_type": "stream",
     "text": [
      "Done\n",
      "/home/juiwang/ai-badminton/data/tracknetv2_042022/profession_dataset/match3/ball_trajectory_3d/2_04_07_3d.csv\n",
      "635\n"
     ]
    },
    {
     "data": {
      "application/vnd.jupyter.widget-view+json": {
       "model_id": "f12ea93eb8cb42dd94e20eceeae8c1f9",
       "version_major": 2,
       "version_minor": 0
      },
      "text/plain": [
       "  0%|          | 0/635 [00:00<?, ?it/s]"
      ]
     },
     "metadata": {},
     "output_type": "display_data"
    },
    {
     "name": "stdout",
     "output_type": "stream",
     "text": [
      "Done\n",
      "/home/juiwang/ai-badminton/data/tracknetv2_042022/profession_dataset/match3/ball_trajectory_3d/2_10_12_3d.csv\n",
      "224\n"
     ]
    },
    {
     "data": {
      "application/vnd.jupyter.widget-view+json": {
       "model_id": "68506395d746420eae24d28a6b23bdbe",
       "version_major": 2,
       "version_minor": 0
      },
      "text/plain": [
       "  0%|          | 0/224 [00:00<?, ?it/s]"
      ]
     },
     "metadata": {},
     "output_type": "display_data"
    },
    {
     "name": "stdout",
     "output_type": "stream",
     "text": [
      "Done\n",
      "/home/juiwang/ai-badminton/data/tracknetv2_042022/profession_dataset/match3/ball_trajectory_3d/1_08_10_3d.csv\n",
      "137\n"
     ]
    },
    {
     "data": {
      "application/vnd.jupyter.widget-view+json": {
       "model_id": "96245e3445914222a79c4e251191467d",
       "version_major": 2,
       "version_minor": 0
      },
      "text/plain": [
       "  0%|          | 0/137 [00:00<?, ?it/s]"
      ]
     },
     "metadata": {},
     "output_type": "display_data"
    },
    {
     "name": "stdout",
     "output_type": "stream",
     "text": [
      "Done\n",
      "/home/juiwang/ai-badminton/data/tracknetv2_042022/profession_dataset/match3/ball_trajectory_3d/1_01_00_3d.csv\n",
      "452\n"
     ]
    },
    {
     "data": {
      "application/vnd.jupyter.widget-view+json": {
       "model_id": "484ab8d5e5674b20b0bef504db6a7de6",
       "version_major": 2,
       "version_minor": 0
      },
      "text/plain": [
       "  0%|          | 0/452 [00:00<?, ?it/s]"
      ]
     },
     "metadata": {},
     "output_type": "display_data"
    },
    {
     "name": "stdout",
     "output_type": "stream",
     "text": [
      "Done\n",
      "/home/juiwang/ai-badminton/data/tracknetv2_042022/profession_dataset/match3/ball_trajectory_3d/3_11_10_3d.csv\n",
      "218\n"
     ]
    },
    {
     "data": {
      "application/vnd.jupyter.widget-view+json": {
       "model_id": "54a53a18f2cf4e18b807525e7ee85cf0",
       "version_major": 2,
       "version_minor": 0
      },
      "text/plain": [
       "  0%|          | 0/218 [00:00<?, ?it/s]"
      ]
     },
     "metadata": {},
     "output_type": "display_data"
    },
    {
     "name": "stdout",
     "output_type": "stream",
     "text": [
      "Done\n",
      "/home/juiwang/ai-badminton/data/tracknetv2_042022/profession_dataset/match4/ball_trajectory_3d/1_03_02_3d.csv\n",
      "356\n"
     ]
    },
    {
     "data": {
      "application/vnd.jupyter.widget-view+json": {
       "model_id": "fdd6d3ae00c643d5a5b1bfb236b4becb",
       "version_major": 2,
       "version_minor": 0
      },
      "text/plain": [
       "  0%|          | 0/356 [00:00<?, ?it/s]"
      ]
     },
     "metadata": {},
     "output_type": "display_data"
    },
    {
     "name": "stdout",
     "output_type": "stream",
     "text": [
      "Done\n",
      "/home/juiwang/ai-badminton/data/tracknetv2_042022/profession_dataset/match4/ball_trajectory_3d/2_14_17_3d.csv\n",
      "194\n"
     ]
    },
    {
     "data": {
      "application/vnd.jupyter.widget-view+json": {
       "model_id": "b3ab3e5f10394ae99ccaacf392f54969",
       "version_major": 2,
       "version_minor": 0
      },
      "text/plain": [
       "  0%|          | 0/194 [00:00<?, ?it/s]"
      ]
     },
     "metadata": {},
     "output_type": "display_data"
    },
    {
     "name": "stdout",
     "output_type": "stream",
     "text": [
      "Done\n",
      "/home/juiwang/ai-badminton/data/tracknetv2_042022/profession_dataset/match4/ball_trajectory_3d/3_07_05_3d.csv\n",
      "164\n"
     ]
    },
    {
     "data": {
      "application/vnd.jupyter.widget-view+json": {
       "model_id": "cf9bd522b4ea4e5b9ea0e23a0345d795",
       "version_major": 2,
       "version_minor": 0
      },
      "text/plain": [
       "  0%|          | 0/164 [00:00<?, ?it/s]"
      ]
     },
     "metadata": {},
     "output_type": "display_data"
    },
    {
     "name": "stdout",
     "output_type": "stream",
     "text": [
      "Done\n",
      "/home/juiwang/ai-badminton/data/tracknetv2_042022/profession_dataset/match4/ball_trajectory_3d/3_02_00_3d.csv\n",
      "353\n"
     ]
    },
    {
     "data": {
      "application/vnd.jupyter.widget-view+json": {
       "model_id": "819b15c82bdf41c7b073ac7ea132bd0e",
       "version_major": 2,
       "version_minor": 0
      },
      "text/plain": [
       "  0%|          | 0/353 [00:00<?, ?it/s]"
      ]
     },
     "metadata": {},
     "output_type": "display_data"
    },
    {
     "name": "stdout",
     "output_type": "stream",
     "text": [
      "Done\n",
      "/home/juiwang/ai-badminton/data/tracknetv2_042022/profession_dataset/match4/ball_trajectory_3d/2_05_07_3d.csv\n",
      "404\n"
     ]
    },
    {
     "data": {
      "application/vnd.jupyter.widget-view+json": {
       "model_id": "5a533b055f3345e39011ea87d9cb5880",
       "version_major": 2,
       "version_minor": 0
      },
      "text/plain": [
       "  0%|          | 0/404 [00:00<?, ?it/s]"
      ]
     },
     "metadata": {},
     "output_type": "display_data"
    },
    {
     "name": "stdout",
     "output_type": "stream",
     "text": [
      "Done\n",
      "/home/juiwang/ai-badminton/data/tracknetv2_042022/profession_dataset/match4/ball_trajectory_3d/3_18_17_3d.csv\n",
      "554\n"
     ]
    },
    {
     "data": {
      "application/vnd.jupyter.widget-view+json": {
       "model_id": "9f7166fa2c3a48bca537574ea6e040e2",
       "version_major": 2,
       "version_minor": 0
      },
      "text/plain": [
       "  0%|          | 0/554 [00:00<?, ?it/s]"
      ]
     },
     "metadata": {},
     "output_type": "display_data"
    },
    {
     "name": "stdout",
     "output_type": "stream",
     "text": [
      "Done\n",
      "/home/juiwang/ai-badminton/data/tracknetv2_042022/profession_dataset/match4/ball_trajectory_3d/2_02_05_3d.csv\n",
      "473\n"
     ]
    },
    {
     "data": {
      "application/vnd.jupyter.widget-view+json": {
       "model_id": "aac40f58bd8b4d80807132af621cc734",
       "version_major": 2,
       "version_minor": 0
      },
      "text/plain": [
       "  0%|          | 0/473 [00:00<?, ?it/s]"
      ]
     },
     "metadata": {},
     "output_type": "display_data"
    },
    {
     "name": "stdout",
     "output_type": "stream",
     "text": [
      "Done\n",
      "/home/juiwang/ai-badminton/data/tracknetv2_042022/profession_dataset/match4/ball_trajectory_3d/1_15_10_3d.csv\n",
      "401\n"
     ]
    },
    {
     "data": {
      "application/vnd.jupyter.widget-view+json": {
       "model_id": "41a40e03fe13463e809b4542d28a3c7e",
       "version_major": 2,
       "version_minor": 0
      },
      "text/plain": [
       "  0%|          | 0/401 [00:00<?, ?it/s]"
      ]
     },
     "metadata": {},
     "output_type": "display_data"
    },
    {
     "name": "stdout",
     "output_type": "stream",
     "text": [
      "Done\n",
      "/home/juiwang/ai-badminton/data/tracknetv2_042022/profession_dataset/match5/ball_trajectory_3d/1_01_01_3d.csv\n",
      "719\n"
     ]
    },
    {
     "data": {
      "application/vnd.jupyter.widget-view+json": {
       "model_id": "35bbf4716f3747738e89583f9dd46ef5",
       "version_major": 2,
       "version_minor": 0
      },
      "text/plain": [
       "  0%|          | 0/719 [00:00<?, ?it/s]"
      ]
     },
     "metadata": {},
     "output_type": "display_data"
    },
    {
     "name": "stdout",
     "output_type": "stream",
     "text": [
      "Done\n",
      "/home/juiwang/ai-badminton/data/tracknetv2_042022/profession_dataset/match5/ball_trajectory_3d/2_20_17_3d.csv\n",
      "716\n"
     ]
    },
    {
     "data": {
      "application/vnd.jupyter.widget-view+json": {
       "model_id": "423da98f808e4eddb51bc00207b3a054",
       "version_major": 2,
       "version_minor": 0
      },
      "text/plain": [
       "  0%|          | 0/716 [00:00<?, ?it/s]"
      ]
     },
     "metadata": {},
     "output_type": "display_data"
    },
    {
     "name": "stdout",
     "output_type": "stream",
     "text": [
      "Done\n",
      "/home/juiwang/ai-badminton/data/tracknetv2_042022/profession_dataset/match5/ball_trajectory_3d/1_21_19_3d.csv\n",
      "647\n"
     ]
    },
    {
     "data": {
      "application/vnd.jupyter.widget-view+json": {
       "model_id": "522b711211a448de868b4353ed54c75f",
       "version_major": 2,
       "version_minor": 0
      },
      "text/plain": [
       "  0%|          | 0/647 [00:00<?, ?it/s]"
      ]
     },
     "metadata": {},
     "output_type": "display_data"
    },
    {
     "name": "stdout",
     "output_type": "stream",
     "text": [
      "Done\n",
      "/home/juiwang/ai-badminton/data/tracknetv2_042022/profession_dataset/match5/ball_trajectory_3d/1_01_02_3d.csv\n",
      "503\n"
     ]
    },
    {
     "data": {
      "application/vnd.jupyter.widget-view+json": {
       "model_id": "bb749c0f9bd54c8db01da56ceefec508",
       "version_major": 2,
       "version_minor": 0
      },
      "text/plain": [
       "  0%|          | 0/503 [00:00<?, ?it/s]"
      ]
     },
     "metadata": {},
     "output_type": "display_data"
    },
    {
     "name": "stdout",
     "output_type": "stream",
     "text": [
      "Done\n",
      "/home/juiwang/ai-badminton/data/tracknetv2_042022/profession_dataset/match5/ball_trajectory_3d/2_15_13_3d.csv\n",
      "539\n"
     ]
    },
    {
     "data": {
      "application/vnd.jupyter.widget-view+json": {
       "model_id": "5e9050902c4d45faa4d446793e42d634",
       "version_major": 2,
       "version_minor": 0
      },
      "text/plain": [
       "  0%|          | 0/539 [00:00<?, ?it/s]"
      ]
     },
     "metadata": {},
     "output_type": "display_data"
    },
    {
     "name": "stdout",
     "output_type": "stream",
     "text": [
      "Done\n",
      "/home/juiwang/ai-badminton/data/tracknetv2_042022/profession_dataset/match5/ball_trajectory_3d/1_19_18_3d.csv\n",
      "239\n"
     ]
    },
    {
     "data": {
      "application/vnd.jupyter.widget-view+json": {
       "model_id": "4e46235150aa4557b61df21852984e71",
       "version_major": 2,
       "version_minor": 0
      },
      "text/plain": [
       "  0%|          | 0/239 [00:00<?, ?it/s]"
      ]
     },
     "metadata": {},
     "output_type": "display_data"
    },
    {
     "name": "stdout",
     "output_type": "stream",
     "text": [
      "Done\n",
      "/home/juiwang/ai-badminton/data/tracknetv2_042022/profession_dataset/match6/ball_trajectory_3d/1_19_12_3d.csv\n",
      "371\n"
     ]
    },
    {
     "data": {
      "application/vnd.jupyter.widget-view+json": {
       "model_id": "5abc828056e64d0897f9796979de21e9",
       "version_major": 2,
       "version_minor": 0
      },
      "text/plain": [
       "  0%|          | 0/371 [00:00<?, ?it/s]"
      ]
     },
     "metadata": {},
     "output_type": "display_data"
    },
    {
     "name": "stdout",
     "output_type": "stream",
     "text": [
      "Done\n",
      "/home/juiwang/ai-badminton/data/tracknetv2_042022/profession_dataset/match6/ball_trajectory_3d/1_15_06_3d.csv\n",
      "899\n"
     ]
    },
    {
     "data": {
      "application/vnd.jupyter.widget-view+json": {
       "model_id": "1e3ea52bf350481b81a2c1e8f0ae9a36",
       "version_major": 2,
       "version_minor": 0
      },
      "text/plain": [
       "  0%|          | 0/899 [00:00<?, ?it/s]"
      ]
     },
     "metadata": {},
     "output_type": "display_data"
    },
    {
     "name": "stdout",
     "output_type": "stream",
     "text": [
      "Done\n",
      "/home/juiwang/ai-badminton/data/tracknetv2_042022/profession_dataset/match6/ball_trajectory_3d/1_05_03_3d.csv\n",
      "1085\n"
     ]
    },
    {
     "data": {
      "application/vnd.jupyter.widget-view+json": {
       "model_id": "1bd26f80403f4c068125ee7b8a3e58ea",
       "version_major": 2,
       "version_minor": 0
      },
      "text/plain": [
       "  0%|          | 0/1085 [00:00<?, ?it/s]"
      ]
     },
     "metadata": {},
     "output_type": "display_data"
    },
    {
     "name": "stdout",
     "output_type": "stream",
     "text": [
      "Done\n",
      "/home/juiwang/ai-badminton/data/tracknetv2_042022/profession_dataset/match6/ball_trajectory_3d/1_11_04_3d.csv\n",
      "587\n"
     ]
    },
    {
     "data": {
      "application/vnd.jupyter.widget-view+json": {
       "model_id": "07f31e5d0d1548c39eb50c1ae83491c4",
       "version_major": 2,
       "version_minor": 0
      },
      "text/plain": [
       "  0%|          | 0/587 [00:00<?, ?it/s]"
      ]
     },
     "metadata": {},
     "output_type": "display_data"
    },
    {
     "name": "stdout",
     "output_type": "stream",
     "text": [
      "Done\n",
      "/home/juiwang/ai-badminton/data/tracknetv2_042022/profession_dataset/match6/ball_trajectory_3d/1_02_00_3d.csv\n",
      "527\n"
     ]
    },
    {
     "data": {
      "application/vnd.jupyter.widget-view+json": {
       "model_id": "68e079bb13dd41f4b7c63ba79e7838e7",
       "version_major": 2,
       "version_minor": 0
      },
      "text/plain": [
       "  0%|          | 0/527 [00:00<?, ?it/s]"
      ]
     },
     "metadata": {},
     "output_type": "display_data"
    },
    {
     "name": "stdout",
     "output_type": "stream",
     "text": [
      "Done\n",
      "/home/juiwang/ai-badminton/data/tracknetv2_042022/profession_dataset/match7/ball_trajectory_3d/2_14_15_3d.csv\n",
      "491\n"
     ]
    },
    {
     "data": {
      "application/vnd.jupyter.widget-view+json": {
       "model_id": "9c803312ef9b41c2b26b9ad3a54efe06",
       "version_major": 2,
       "version_minor": 0
      },
      "text/plain": [
       "  0%|          | 0/491 [00:00<?, ?it/s]"
      ]
     },
     "metadata": {},
     "output_type": "display_data"
    },
    {
     "name": "stdout",
     "output_type": "stream",
     "text": [
      "Done\n",
      "/home/juiwang/ai-badminton/data/tracknetv2_042022/profession_dataset/match7/ball_trajectory_3d/1_12_13_3d.csv\n",
      "617\n"
     ]
    },
    {
     "data": {
      "application/vnd.jupyter.widget-view+json": {
       "model_id": "a47c419a11814f63a1654c4cbc5ce8e0",
       "version_major": 2,
       "version_minor": 0
      },
      "text/plain": [
       "  0%|          | 0/617 [00:00<?, ?it/s]"
      ]
     },
     "metadata": {},
     "output_type": "display_data"
    },
    {
     "name": "stdout",
     "output_type": "stream",
     "text": [
      "Done\n",
      "/home/juiwang/ai-badminton/data/tracknetv2_042022/profession_dataset/match7/ball_trajectory_3d/2_05_03_3d.csv\n",
      "944\n"
     ]
    },
    {
     "data": {
      "application/vnd.jupyter.widget-view+json": {
       "model_id": "a8bcabd1ccc54e28821829903243e5ec",
       "version_major": 2,
       "version_minor": 0
      },
      "text/plain": [
       "  0%|          | 0/944 [00:00<?, ?it/s]"
      ]
     },
     "metadata": {},
     "output_type": "display_data"
    },
    {
     "name": "stdout",
     "output_type": "stream",
     "text": [
      "Done\n",
      "/home/juiwang/ai-badminton/data/tracknetv2_042022/profession_dataset/match7/ball_trajectory_3d/1_02_01_3d.csv\n",
      "647\n"
     ]
    },
    {
     "data": {
      "application/vnd.jupyter.widget-view+json": {
       "model_id": "30993b5ac51448f59a3577c0372e7e96",
       "version_major": 2,
       "version_minor": 0
      },
      "text/plain": [
       "  0%|          | 0/647 [00:00<?, ?it/s]"
      ]
     },
     "metadata": {},
     "output_type": "display_data"
    },
    {
     "name": "stdout",
     "output_type": "stream",
     "text": [
      "Done\n",
      "/home/juiwang/ai-badminton/data/tracknetv2_042022/profession_dataset/match7/ball_trajectory_3d/3_08_05_3d.csv\n",
      "452\n"
     ]
    },
    {
     "data": {
      "application/vnd.jupyter.widget-view+json": {
       "model_id": "60a27616bafa46cfac76becc1f9b5713",
       "version_major": 2,
       "version_minor": 0
      },
      "text/plain": [
       "  0%|          | 0/452 [00:00<?, ?it/s]"
      ]
     },
     "metadata": {},
     "output_type": "display_data"
    },
    {
     "name": "stdout",
     "output_type": "stream",
     "text": [
      "Done\n",
      "/home/juiwang/ai-badminton/data/tracknetv2_042022/profession_dataset/match8/ball_trajectory_3d/3_17_12_3d.csv\n",
      "584\n"
     ]
    },
    {
     "data": {
      "application/vnd.jupyter.widget-view+json": {
       "model_id": "e4e39a6eb5b141469181137a0ea15d00",
       "version_major": 2,
       "version_minor": 0
      },
      "text/plain": [
       "  0%|          | 0/584 [00:00<?, ?it/s]"
      ]
     },
     "metadata": {},
     "output_type": "display_data"
    },
    {
     "name": "stdout",
     "output_type": "stream",
     "text": [
      "Done\n",
      "/home/juiwang/ai-badminton/data/tracknetv2_042022/profession_dataset/match8/ball_trajectory_3d/1_05_13_3d.csv\n",
      "254\n"
     ]
    },
    {
     "data": {
      "application/vnd.jupyter.widget-view+json": {
       "model_id": "a8ca65e57efe45c88533d7f1fd53d885",
       "version_major": 2,
       "version_minor": 0
      },
      "text/plain": [
       "  0%|          | 0/254 [00:00<?, ?it/s]"
      ]
     },
     "metadata": {},
     "output_type": "display_data"
    },
    {
     "name": "stdout",
     "output_type": "stream",
     "text": [
      "Done\n",
      "/home/juiwang/ai-badminton/data/tracknetv2_042022/profession_dataset/match8/ball_trajectory_3d/3_02_00_3d.csv\n",
      "86\n"
     ]
    },
    {
     "data": {
      "application/vnd.jupyter.widget-view+json": {
       "model_id": "4547fd92b2434ba1a79740cc3f8c3244",
       "version_major": 2,
       "version_minor": 0
      },
      "text/plain": [
       "  0%|          | 0/86 [00:00<?, ?it/s]"
      ]
     },
     "metadata": {},
     "output_type": "display_data"
    },
    {
     "name": "stdout",
     "output_type": "stream",
     "text": [
      "Done\n",
      "/home/juiwang/ai-badminton/data/tracknetv2_042022/profession_dataset/match8/ball_trajectory_3d/3_21_13_3d.csv\n",
      "341\n"
     ]
    },
    {
     "data": {
      "application/vnd.jupyter.widget-view+json": {
       "model_id": "1466d75ed34747d895dd648d9f16a636",
       "version_major": 2,
       "version_minor": 0
      },
      "text/plain": [
       "  0%|          | 0/341 [00:00<?, ?it/s]"
      ]
     },
     "metadata": {},
     "output_type": "display_data"
    },
    {
     "name": "stdout",
     "output_type": "stream",
     "text": [
      "Done\n",
      "/home/juiwang/ai-badminton/data/tracknetv2_042022/profession_dataset/match8/ball_trajectory_3d/2_03_06_3d.csv\n",
      "1031\n"
     ]
    },
    {
     "data": {
      "application/vnd.jupyter.widget-view+json": {
       "model_id": "fd539b5c6e134ddcbd533519a742946b",
       "version_major": 2,
       "version_minor": 0
      },
      "text/plain": [
       "  0%|          | 0/1031 [00:00<?, ?it/s]"
      ]
     },
     "metadata": {},
     "output_type": "display_data"
    },
    {
     "name": "stdout",
     "output_type": "stream",
     "text": [
      "Done\n",
      "/home/juiwang/ai-badminton/data/tracknetv2_042022/profession_dataset/match8/ball_trajectory_3d/3_15_08_3d.csv\n",
      "161\n"
     ]
    },
    {
     "data": {
      "application/vnd.jupyter.widget-view+json": {
       "model_id": "ca729f551a4a4ba282c9e922b6b93b87",
       "version_major": 2,
       "version_minor": 0
      },
      "text/plain": [
       "  0%|          | 0/161 [00:00<?, ?it/s]"
      ]
     },
     "metadata": {},
     "output_type": "display_data"
    },
    {
     "name": "stdout",
     "output_type": "stream",
     "text": [
      "Done\n",
      "/home/juiwang/ai-badminton/data/tracknetv2_042022/profession_dataset/match8/ball_trajectory_3d/2_10_12_3d.csv\n",
      "515\n"
     ]
    },
    {
     "data": {
      "application/vnd.jupyter.widget-view+json": {
       "model_id": "2055d2f98e8f4840b6bfd4808788bacc",
       "version_major": 2,
       "version_minor": 0
      },
      "text/plain": [
       "  0%|          | 0/515 [00:00<?, ?it/s]"
      ]
     },
     "metadata": {},
     "output_type": "display_data"
    },
    {
     "name": "stdout",
     "output_type": "stream",
     "text": [
      "Done\n",
      "/home/juiwang/ai-badminton/data/tracknetv2_042022/profession_dataset/match8/ball_trajectory_3d/1_01_00_3d.csv\n",
      "365\n"
     ]
    },
    {
     "data": {
      "application/vnd.jupyter.widget-view+json": {
       "model_id": "b82c9ac5a80546e6815c674aa016f38e",
       "version_major": 2,
       "version_minor": 0
      },
      "text/plain": [
       "  0%|          | 0/365 [00:00<?, ?it/s]"
      ]
     },
     "metadata": {},
     "output_type": "display_data"
    },
    {
     "name": "stdout",
     "output_type": "stream",
     "text": [
      "Done\n",
      "/home/juiwang/ai-badminton/data/tracknetv2_042022/profession_dataset/match9/ball_trajectory_3d/1_04_05_3d.csv\n",
      "245\n"
     ]
    },
    {
     "data": {
      "application/vnd.jupyter.widget-view+json": {
       "model_id": "6c81e72703dc4002a714e9641588ed74",
       "version_major": 2,
       "version_minor": 0
      },
      "text/plain": [
       "  0%|          | 0/245 [00:00<?, ?it/s]"
      ]
     },
     "metadata": {},
     "output_type": "display_data"
    },
    {
     "name": "stdout",
     "output_type": "stream",
     "text": [
      "Done\n",
      "/home/juiwang/ai-badminton/data/tracknetv2_042022/profession_dataset/match9/ball_trajectory_3d/1_07_10_3d.csv\n",
      "548\n"
     ]
    },
    {
     "data": {
      "application/vnd.jupyter.widget-view+json": {
       "model_id": "b98de8195323437d871725dadebee787",
       "version_major": 2,
       "version_minor": 0
      },
      "text/plain": [
       "  0%|          | 0/548 [00:00<?, ?it/s]"
      ]
     },
     "metadata": {},
     "output_type": "display_data"
    },
    {
     "name": "stdout",
     "output_type": "stream",
     "text": [
      "Done\n",
      "/home/juiwang/ai-badminton/data/tracknetv2_042022/profession_dataset/match9/ball_trajectory_3d/1_05_06_3d.csv\n",
      "254\n"
     ]
    },
    {
     "data": {
      "application/vnd.jupyter.widget-view+json": {
       "model_id": "aee31fb33abd4c70961464b6c003b4f6",
       "version_major": 2,
       "version_minor": 0
      },
      "text/plain": [
       "  0%|          | 0/254 [00:00<?, ?it/s]"
      ]
     },
     "metadata": {},
     "output_type": "display_data"
    },
    {
     "name": "stdout",
     "output_type": "stream",
     "text": [
      "Done\n",
      "/home/juiwang/ai-badminton/data/tracknetv2_042022/profession_dataset/match9/ball_trajectory_3d/1_02_03_3d.csv\n",
      "302\n"
     ]
    },
    {
     "data": {
      "application/vnd.jupyter.widget-view+json": {
       "model_id": "ebd00196e3134ac0aa3132d562cd01a9",
       "version_major": 2,
       "version_minor": 0
      },
      "text/plain": [
       "  0%|          | 0/302 [00:00<?, ?it/s]"
      ]
     },
     "metadata": {},
     "output_type": "display_data"
    },
    {
     "name": "stdout",
     "output_type": "stream",
     "text": [
      "Done\n",
      "/home/juiwang/ai-badminton/data/tracknetv2_042022/profession_dataset/match9/ball_trajectory_3d/1_07_07_3d.csv\n",
      "314\n"
     ]
    },
    {
     "data": {
      "application/vnd.jupyter.widget-view+json": {
       "model_id": "79ab3ac01bb1489d80aef78c8c7d74ee",
       "version_major": 2,
       "version_minor": 0
      },
      "text/plain": [
       "  0%|          | 0/314 [00:00<?, ?it/s]"
      ]
     },
     "metadata": {},
     "output_type": "display_data"
    },
    {
     "name": "stdout",
     "output_type": "stream",
     "text": [
      "Done\n",
      "/home/juiwang/ai-badminton/data/tracknetv2_042022/profession_dataset/match9/ball_trajectory_3d/1_07_11_3d.csv\n",
      "278\n"
     ]
    },
    {
     "data": {
      "application/vnd.jupyter.widget-view+json": {
       "model_id": "8733d62812334fa897ceee0e6827d073",
       "version_major": 2,
       "version_minor": 0
      },
      "text/plain": [
       "  0%|          | 0/278 [00:00<?, ?it/s]"
      ]
     },
     "metadata": {},
     "output_type": "display_data"
    },
    {
     "name": "stdout",
     "output_type": "stream",
     "text": [
      "Done\n",
      "/home/juiwang/ai-badminton/data/tracknetv2_042022/profession_dataset/match9/ball_trajectory_3d/1_01_03_3d.csv\n",
      "830\n"
     ]
    },
    {
     "data": {
      "application/vnd.jupyter.widget-view+json": {
       "model_id": "1cb5206322c543be8deeecb7eefbe863",
       "version_major": 2,
       "version_minor": 0
      },
      "text/plain": [
       "  0%|          | 0/830 [00:00<?, ?it/s]"
      ]
     },
     "metadata": {},
     "output_type": "display_data"
    },
    {
     "name": "stdout",
     "output_type": "stream",
     "text": [
      "Done\n",
      "/home/juiwang/ai-badminton/data/tracknetv2_042022/profession_dataset/match9/ball_trajectory_3d/1_07_14_3d.csv\n",
      "191\n"
     ]
    },
    {
     "data": {
      "application/vnd.jupyter.widget-view+json": {
       "model_id": "cc074a0d12c54b9f91d22e09ff355969",
       "version_major": 2,
       "version_minor": 0
      },
      "text/plain": [
       "  0%|          | 0/191 [00:00<?, ?it/s]"
      ]
     },
     "metadata": {},
     "output_type": "display_data"
    },
    {
     "name": "stdout",
     "output_type": "stream",
     "text": [
      "Done\n",
      "/home/juiwang/ai-badminton/data/tracknetv2_042022/profession_dataset/match9/ball_trajectory_3d/1_06_06_3d.csv\n",
      "227\n"
     ]
    },
    {
     "data": {
      "application/vnd.jupyter.widget-view+json": {
       "model_id": "b00efc993e69494982c24667ef14e010",
       "version_major": 2,
       "version_minor": 0
      },
      "text/plain": [
       "  0%|          | 0/227 [00:00<?, ?it/s]"
      ]
     },
     "metadata": {},
     "output_type": "display_data"
    },
    {
     "name": "stdout",
     "output_type": "stream",
     "text": [
      "Done\n",
      "/home/juiwang/ai-badminton/data/tracknetv2_042022/profession_dataset/match10/ball_trajectory_3d/1_12_16_3d.csv\n",
      "479\n"
     ]
    },
    {
     "data": {
      "application/vnd.jupyter.widget-view+json": {
       "model_id": "f32713b4765347ca98583d1355d5d008",
       "version_major": 2,
       "version_minor": 0
      },
      "text/plain": [
       "  0%|          | 0/479 [00:00<?, ?it/s]"
      ]
     },
     "metadata": {},
     "output_type": "display_data"
    },
    {
     "name": "stdout",
     "output_type": "stream",
     "text": [
      "Done\n",
      "/home/juiwang/ai-badminton/data/tracknetv2_042022/profession_dataset/match10/ball_trajectory_3d/2_14_08_3d.csv\n",
      "749\n"
     ]
    },
    {
     "data": {
      "application/vnd.jupyter.widget-view+json": {
       "model_id": "3597daebd8884b77b6a4bc592f6ec87c",
       "version_major": 2,
       "version_minor": 0
      },
      "text/plain": [
       "  0%|          | 0/749 [00:00<?, ?it/s]"
      ]
     },
     "metadata": {},
     "output_type": "display_data"
    },
    {
     "name": "stdout",
     "output_type": "stream",
     "text": [
      "Done\n",
      "/home/juiwang/ai-badminton/data/tracknetv2_042022/profession_dataset/match10/ball_trajectory_3d/1_03_03_3d.csv\n",
      "524\n"
     ]
    },
    {
     "data": {
      "application/vnd.jupyter.widget-view+json": {
       "model_id": "8782344de745491caffcca293f281b70",
       "version_major": 2,
       "version_minor": 0
      },
      "text/plain": [
       "  0%|          | 0/524 [00:00<?, ?it/s]"
      ]
     },
     "metadata": {},
     "output_type": "display_data"
    },
    {
     "name": "stdout",
     "output_type": "stream",
     "text": [
      "Done\n",
      "/home/juiwang/ai-badminton/data/tracknetv2_042022/profession_dataset/match10/ball_trajectory_3d/2_04_02_3d.csv\n",
      "332\n"
     ]
    },
    {
     "data": {
      "application/vnd.jupyter.widget-view+json": {
       "model_id": "4637e5d4915b48e8a811c5f2fccde21f",
       "version_major": 2,
       "version_minor": 0
      },
      "text/plain": [
       "  0%|          | 0/332 [00:00<?, ?it/s]"
      ]
     },
     "metadata": {},
     "output_type": "display_data"
    },
    {
     "name": "stdout",
     "output_type": "stream",
     "text": [
      "Done\n",
      "/home/juiwang/ai-badminton/data/tracknetv2_042022/profession_dataset/match10/ball_trajectory_3d/1_03_01_3d.csv\n",
      "578\n"
     ]
    },
    {
     "data": {
      "application/vnd.jupyter.widget-view+json": {
       "model_id": "f76cfb13f5f34bea9fd29526a641dd10",
       "version_major": 2,
       "version_minor": 0
      },
      "text/plain": [
       "  0%|          | 0/578 [00:00<?, ?it/s]"
      ]
     },
     "metadata": {},
     "output_type": "display_data"
    },
    {
     "name": "stdout",
     "output_type": "stream",
     "text": [
      "Done\n",
      "/home/juiwang/ai-badminton/data/tracknetv2_042022/profession_dataset/match11/ball_trajectory_3d/1_03_01_3d.csv\n",
      "560\n"
     ]
    },
    {
     "data": {
      "application/vnd.jupyter.widget-view+json": {
       "model_id": "8f49306a59af4672b2d5bd19d7971ecb",
       "version_major": 2,
       "version_minor": 0
      },
      "text/plain": [
       "  0%|          | 0/560 [00:00<?, ?it/s]"
      ]
     },
     "metadata": {},
     "output_type": "display_data"
    },
    {
     "name": "stdout",
     "output_type": "stream",
     "text": [
      "Done\n",
      "/home/juiwang/ai-badminton/data/tracknetv2_042022/profession_dataset/match11/ball_trajectory_3d/2_05_00_3d.csv\n",
      "359\n"
     ]
    },
    {
     "data": {
      "application/vnd.jupyter.widget-view+json": {
       "model_id": "55f7dc17255942cba29adcdf0e471333",
       "version_major": 2,
       "version_minor": 0
      },
      "text/plain": [
       "  0%|          | 0/359 [00:00<?, ?it/s]"
      ]
     },
     "metadata": {},
     "output_type": "display_data"
    },
    {
     "name": "stdout",
     "output_type": "stream",
     "text": [
      "Done\n",
      "/home/juiwang/ai-badminton/data/tracknetv2_042022/profession_dataset/match11/ball_trajectory_3d/1_07_06_3d.csv\n",
      "380\n"
     ]
    },
    {
     "data": {
      "application/vnd.jupyter.widget-view+json": {
       "model_id": "9ef6bfab30364309ad8c4ab2f089a451",
       "version_major": 2,
       "version_minor": 0
      },
      "text/plain": [
       "  0%|          | 0/380 [00:00<?, ?it/s]"
      ]
     },
     "metadata": {},
     "output_type": "display_data"
    },
    {
     "name": "stdout",
     "output_type": "stream",
     "text": [
      "Done\n",
      "/home/juiwang/ai-badminton/data/tracknetv2_042022/profession_dataset/match11/ball_trajectory_3d/2_15_04_3d.csv\n",
      "695\n"
     ]
    },
    {
     "data": {
      "application/vnd.jupyter.widget-view+json": {
       "model_id": "0a5fa14b79b047c4b15f233415d960ac",
       "version_major": 2,
       "version_minor": 0
      },
      "text/plain": [
       "  0%|          | 0/695 [00:00<?, ?it/s]"
      ]
     },
     "metadata": {},
     "output_type": "display_data"
    },
    {
     "name": "stdout",
     "output_type": "stream",
     "text": [
      "Done\n",
      "/home/juiwang/ai-badminton/data/tracknetv2_042022/profession_dataset/match11/ball_trajectory_3d/1_13_13_3d.csv\n",
      "788\n"
     ]
    },
    {
     "data": {
      "application/vnd.jupyter.widget-view+json": {
       "model_id": "f2350d77a76e458385cf9a2c1f9e584c",
       "version_major": 2,
       "version_minor": 0
      },
      "text/plain": [
       "  0%|          | 0/788 [00:00<?, ?it/s]"
      ]
     },
     "metadata": {},
     "output_type": "display_data"
    },
    {
     "name": "stdout",
     "output_type": "stream",
     "text": [
      "Done\n",
      "/home/juiwang/ai-badminton/data/tracknetv2_042022/profession_dataset/match12/ball_trajectory_3d/2_01_01_3d.csv\n",
      "509\n"
     ]
    },
    {
     "data": {
      "application/vnd.jupyter.widget-view+json": {
       "model_id": "df9e190ed91c45cdb3e0ad95b812e4ef",
       "version_major": 2,
       "version_minor": 0
      },
      "text/plain": [
       "  0%|          | 0/509 [00:00<?, ?it/s]"
      ]
     },
     "metadata": {},
     "output_type": "display_data"
    },
    {
     "name": "stdout",
     "output_type": "stream",
     "text": [
      "Done\n",
      "/home/juiwang/ai-badminton/data/tracknetv2_042022/profession_dataset/match12/ball_trajectory_3d/1_10_12_3d.csv\n",
      "827\n"
     ]
    },
    {
     "data": {
      "application/vnd.jupyter.widget-view+json": {
       "model_id": "c2ea3cc4a696480797a5f591c3585370",
       "version_major": 2,
       "version_minor": 0
      },
      "text/plain": [
       "  0%|          | 0/827 [00:00<?, ?it/s]"
      ]
     },
     "metadata": {},
     "output_type": "display_data"
    },
    {
     "name": "stdout",
     "output_type": "stream",
     "text": [
      "Done\n",
      "/home/juiwang/ai-badminton/data/tracknetv2_042022/profession_dataset/match12/ball_trajectory_3d/1_01_00_3d.csv\n",
      "692\n"
     ]
    },
    {
     "data": {
      "application/vnd.jupyter.widget-view+json": {
       "model_id": "5483349684804e508515e8f26847c7d1",
       "version_major": 2,
       "version_minor": 0
      },
      "text/plain": [
       "  0%|          | 0/692 [00:00<?, ?it/s]"
      ]
     },
     "metadata": {},
     "output_type": "display_data"
    },
    {
     "name": "stdout",
     "output_type": "stream",
     "text": [
      "Done\n",
      "/home/juiwang/ai-badminton/data/tracknetv2_042022/profession_dataset/match12/ball_trajectory_3d/3_03_03_3d.csv\n",
      "401\n"
     ]
    },
    {
     "data": {
      "application/vnd.jupyter.widget-view+json": {
       "model_id": "f08e0d3433fe42e6afd8593578453fc3",
       "version_major": 2,
       "version_minor": 0
      },
      "text/plain": [
       "  0%|          | 0/401 [00:00<?, ?it/s]"
      ]
     },
     "metadata": {},
     "output_type": "display_data"
    },
    {
     "name": "stdout",
     "output_type": "stream",
     "text": [
      "Done\n",
      "/home/juiwang/ai-badminton/data/tracknetv2_042022/profession_dataset/match12/ball_trajectory_3d/2_05_14_3d.csv\n",
      "818\n"
     ]
    },
    {
     "data": {
      "application/vnd.jupyter.widget-view+json": {
       "model_id": "5eaf3a6bf4b543a0853d5228f017683e",
       "version_major": 2,
       "version_minor": 0
      },
      "text/plain": [
       "  0%|          | 0/818 [00:00<?, ?it/s]"
      ]
     },
     "metadata": {},
     "output_type": "display_data"
    },
    {
     "name": "stdout",
     "output_type": "stream",
     "text": [
      "Done\n",
      "/home/juiwang/ai-badminton/data/tracknetv2_042022/profession_dataset/match13/ball_trajectory_3d/2_06_05_3d.csv\n",
      "887\n"
     ]
    },
    {
     "data": {
      "application/vnd.jupyter.widget-view+json": {
       "model_id": "4e079268ec4e4bba89cdd5a13f449234",
       "version_major": 2,
       "version_minor": 0
      },
      "text/plain": [
       "  0%|          | 0/887 [00:00<?, ?it/s]"
      ]
     },
     "metadata": {},
     "output_type": "display_data"
    },
    {
     "name": "stdout",
     "output_type": "stream",
     "text": [
      "Done\n",
      "/home/juiwang/ai-badminton/data/tracknetv2_042022/profession_dataset/match13/ball_trajectory_3d/2_17_11_3d.csv\n",
      "476\n"
     ]
    },
    {
     "data": {
      "application/vnd.jupyter.widget-view+json": {
       "model_id": "3b7125bdaf31479ba111cc9307b53503",
       "version_major": 2,
       "version_minor": 0
      },
      "text/plain": [
       "  0%|          | 0/476 [00:00<?, ?it/s]"
      ]
     },
     "metadata": {},
     "output_type": "display_data"
    },
    {
     "name": "stdout",
     "output_type": "stream",
     "text": [
      "Done\n",
      "/home/juiwang/ai-badminton/data/tracknetv2_042022/profession_dataset/match13/ball_trajectory_3d/2_09_08_3d.csv\n",
      "134\n"
     ]
    },
    {
     "data": {
      "application/vnd.jupyter.widget-view+json": {
       "model_id": "9c2b3f651f9441d68ebcef6cde0bd521",
       "version_major": 2,
       "version_minor": 0
      },
      "text/plain": [
       "  0%|          | 0/134 [00:00<?, ?it/s]"
      ]
     },
     "metadata": {},
     "output_type": "display_data"
    },
    {
     "name": "stdout",
     "output_type": "stream",
     "text": [
      "Done\n",
      "/home/juiwang/ai-badminton/data/tracknetv2_042022/profession_dataset/match13/ball_trajectory_3d/1_17_15_3d.csv\n",
      "317\n"
     ]
    },
    {
     "data": {
      "application/vnd.jupyter.widget-view+json": {
       "model_id": "ec00aae6f4a547d783e87a303ede5f3e",
       "version_major": 2,
       "version_minor": 0
      },
      "text/plain": [
       "  0%|          | 0/317 [00:00<?, ?it/s]"
      ]
     },
     "metadata": {},
     "output_type": "display_data"
    },
    {
     "name": "stdout",
     "output_type": "stream",
     "text": [
      "Done\n",
      "/home/juiwang/ai-badminton/data/tracknetv2_042022/profession_dataset/match13/ball_trajectory_3d/2_07_05_3d.csv\n",
      "212\n"
     ]
    },
    {
     "data": {
      "application/vnd.jupyter.widget-view+json": {
       "model_id": "1ae5972ceaed40c9adbbb52428f6e71a",
       "version_major": 2,
       "version_minor": 0
      },
      "text/plain": [
       "  0%|          | 0/212 [00:00<?, ?it/s]"
      ]
     },
     "metadata": {},
     "output_type": "display_data"
    },
    {
     "name": "stdout",
     "output_type": "stream",
     "text": [
      "Done\n",
      "/home/juiwang/ai-badminton/data/tracknetv2_042022/profession_dataset/match13/ball_trajectory_3d/1_09_10_3d.csv\n",
      "572\n"
     ]
    },
    {
     "data": {
      "application/vnd.jupyter.widget-view+json": {
       "model_id": "3eb37007e3214e83a41e2e03b75f67c9",
       "version_major": 2,
       "version_minor": 0
      },
      "text/plain": [
       "  0%|          | 0/572 [00:00<?, ?it/s]"
      ]
     },
     "metadata": {},
     "output_type": "display_data"
    },
    {
     "name": "stdout",
     "output_type": "stream",
     "text": [
      "Done\n",
      "/home/juiwang/ai-badminton/data/tracknetv2_042022/profession_dataset/match14/ball_trajectory_3d/2_19_13_3d.csv\n",
      "704\n"
     ]
    },
    {
     "data": {
      "application/vnd.jupyter.widget-view+json": {
       "model_id": "30cdc5dd120f40a5ac6c7f50c99ebc99",
       "version_major": 2,
       "version_minor": 0
      },
      "text/plain": [
       "  0%|          | 0/704 [00:00<?, ?it/s]"
      ]
     },
     "metadata": {},
     "output_type": "display_data"
    },
    {
     "name": "stdout",
     "output_type": "stream",
     "text": [
      "Done\n",
      "/home/juiwang/ai-badminton/data/tracknetv2_042022/profession_dataset/match14/ball_trajectory_3d/2_15_10_3d.csv\n",
      "392\n"
     ]
    },
    {
     "data": {
      "application/vnd.jupyter.widget-view+json": {
       "model_id": "2019e6a5272f47cbbe200f1111defc54",
       "version_major": 2,
       "version_minor": 0
      },
      "text/plain": [
       "  0%|          | 0/392 [00:00<?, ?it/s]"
      ]
     },
     "metadata": {},
     "output_type": "display_data"
    },
    {
     "name": "stdout",
     "output_type": "stream",
     "text": [
      "Done\n",
      "/home/juiwang/ai-badminton/data/tracknetv2_042022/profession_dataset/match14/ball_trajectory_3d/2_13_06_3d.csv\n",
      "620\n"
     ]
    },
    {
     "data": {
      "application/vnd.jupyter.widget-view+json": {
       "model_id": "31fdd0f41ec94a81afd71fb4804b5936",
       "version_major": 2,
       "version_minor": 0
      },
      "text/plain": [
       "  0%|          | 0/620 [00:00<?, ?it/s]"
      ]
     },
     "metadata": {},
     "output_type": "display_data"
    },
    {
     "name": "stdout",
     "output_type": "stream",
     "text": [
      "Done\n",
      "/home/juiwang/ai-badminton/data/tracknetv2_042022/profession_dataset/match14/ball_trajectory_3d/2_21_17_3d.csv\n",
      "401\n"
     ]
    },
    {
     "data": {
      "application/vnd.jupyter.widget-view+json": {
       "model_id": "161a433d27e94f0782a67aa42db2779a",
       "version_major": 2,
       "version_minor": 0
      },
      "text/plain": [
       "  0%|          | 0/401 [00:00<?, ?it/s]"
      ]
     },
     "metadata": {},
     "output_type": "display_data"
    },
    {
     "name": "stdout",
     "output_type": "stream",
     "text": [
      "Done\n",
      "/home/juiwang/ai-badminton/data/tracknetv2_042022/profession_dataset/match14/ball_trajectory_3d/1_17_14_3d.csv\n",
      "713\n"
     ]
    },
    {
     "data": {
      "application/vnd.jupyter.widget-view+json": {
       "model_id": "ca1f77fb81744ec08bee9467a357ba9e",
       "version_major": 2,
       "version_minor": 0
      },
      "text/plain": [
       "  0%|          | 0/713 [00:00<?, ?it/s]"
      ]
     },
     "metadata": {},
     "output_type": "display_data"
    },
    {
     "name": "stdout",
     "output_type": "stream",
     "text": [
      "Done\n",
      "/home/juiwang/ai-badminton/data/tracknetv2_042022/profession_dataset/match15/ball_trajectory_3d/2_16_12_3d.csv\n",
      "572\n"
     ]
    },
    {
     "data": {
      "application/vnd.jupyter.widget-view+json": {
       "model_id": "b640652165664d80b2af78c9f916364c",
       "version_major": 2,
       "version_minor": 0
      },
      "text/plain": [
       "  0%|          | 0/572 [00:00<?, ?it/s]"
      ]
     },
     "metadata": {},
     "output_type": "display_data"
    },
    {
     "name": "stdout",
     "output_type": "stream",
     "text": [
      "Done\n",
      "/home/juiwang/ai-badminton/data/tracknetv2_042022/profession_dataset/match15/ball_trajectory_3d/1_21_12_3d.csv\n",
      "311\n"
     ]
    },
    {
     "data": {
      "application/vnd.jupyter.widget-view+json": {
       "model_id": "47889ac3001645949b8a5b9b8c64cc17",
       "version_major": 2,
       "version_minor": 0
      },
      "text/plain": [
       "  0%|          | 0/311 [00:00<?, ?it/s]"
      ]
     },
     "metadata": {},
     "output_type": "display_data"
    },
    {
     "name": "stdout",
     "output_type": "stream",
     "text": [
      "Done\n",
      "/home/juiwang/ai-badminton/data/tracknetv2_042022/profession_dataset/match15/ball_trajectory_3d/2_19_14_3d.csv\n",
      "665\n"
     ]
    },
    {
     "data": {
      "application/vnd.jupyter.widget-view+json": {
       "model_id": "d84603bb77a8451b9aac36d81cd01a5b",
       "version_major": 2,
       "version_minor": 0
      },
      "text/plain": [
       "  0%|          | 0/665 [00:00<?, ?it/s]"
      ]
     },
     "metadata": {},
     "output_type": "display_data"
    },
    {
     "name": "stdout",
     "output_type": "stream",
     "text": [
      "Done\n",
      "/home/juiwang/ai-badminton/data/tracknetv2_042022/profession_dataset/match15/ball_trajectory_3d/2_14_08_3d.csv\n",
      "233\n"
     ]
    },
    {
     "data": {
      "application/vnd.jupyter.widget-view+json": {
       "model_id": "dfae64f49ae943f8a95828e2d2dad2ac",
       "version_major": 2,
       "version_minor": 0
      },
      "text/plain": [
       "  0%|          | 0/233 [00:00<?, ?it/s]"
      ]
     },
     "metadata": {},
     "output_type": "display_data"
    },
    {
     "name": "stdout",
     "output_type": "stream",
     "text": [
      "Done\n",
      "/home/juiwang/ai-badminton/data/tracknetv2_042022/profession_dataset/match15/ball_trajectory_3d/2_18_14_3d.csv\n",
      "884\n"
     ]
    },
    {
     "data": {
      "application/vnd.jupyter.widget-view+json": {
       "model_id": "a51b5996c55c4cc2bc52332dc4a01385",
       "version_major": 2,
       "version_minor": 0
      },
      "text/plain": [
       "  0%|          | 0/884 [00:00<?, ?it/s]"
      ]
     },
     "metadata": {},
     "output_type": "display_data"
    },
    {
     "name": "stdout",
     "output_type": "stream",
     "text": [
      "Done\n",
      "/home/juiwang/ai-badminton/data/tracknetv2_042022/profession_dataset/match16/ball_trajectory_3d/1_03_06_3d.csv\n",
      "593\n"
     ]
    },
    {
     "data": {
      "application/vnd.jupyter.widget-view+json": {
       "model_id": "17047fae47384018a42401d17d6e75e9",
       "version_major": 2,
       "version_minor": 0
      },
      "text/plain": [
       "  0%|          | 0/593 [00:00<?, ?it/s]"
      ]
     },
     "metadata": {},
     "output_type": "display_data"
    },
    {
     "name": "stdout",
     "output_type": "stream",
     "text": [
      "Done\n",
      "/home/juiwang/ai-badminton/data/tracknetv2_042022/profession_dataset/match16/ball_trajectory_3d/3_17_16_3d.csv\n",
      "434\n"
     ]
    },
    {
     "data": {
      "application/vnd.jupyter.widget-view+json": {
       "model_id": "46dc03847c58496cb0a4ab884273f670",
       "version_major": 2,
       "version_minor": 0
      },
      "text/plain": [
       "  0%|          | 0/434 [00:00<?, ?it/s]"
      ]
     },
     "metadata": {},
     "output_type": "display_data"
    },
    {
     "name": "stdout",
     "output_type": "stream",
     "text": [
      "Done\n",
      "/home/juiwang/ai-badminton/data/tracknetv2_042022/profession_dataset/match16/ball_trajectory_3d/2_08_08_3d.csv\n",
      "500\n"
     ]
    },
    {
     "data": {
      "application/vnd.jupyter.widget-view+json": {
       "model_id": "4c35596e04a64e1b9bcd6a9dbe63ab11",
       "version_major": 2,
       "version_minor": 0
      },
      "text/plain": [
       "  0%|          | 0/500 [00:00<?, ?it/s]"
      ]
     },
     "metadata": {},
     "output_type": "display_data"
    },
    {
     "name": "stdout",
     "output_type": "stream",
     "text": [
      "Done\n",
      "/home/juiwang/ai-badminton/data/tracknetv2_042022/profession_dataset/match16/ball_trajectory_3d/3_14_09_3d.csv\n",
      "341\n"
     ]
    },
    {
     "data": {
      "application/vnd.jupyter.widget-view+json": {
       "model_id": "9cb2814096a448a1a79706a4648bac0d",
       "version_major": 2,
       "version_minor": 0
      },
      "text/plain": [
       "  0%|          | 0/341 [00:00<?, ?it/s]"
      ]
     },
     "metadata": {},
     "output_type": "display_data"
    },
    {
     "name": "stdout",
     "output_type": "stream",
     "text": [
      "Done\n",
      "/home/juiwang/ai-badminton/data/tracknetv2_042022/profession_dataset/match16/ball_trajectory_3d/3_12_06_3d.csv\n",
      "653\n"
     ]
    },
    {
     "data": {
      "application/vnd.jupyter.widget-view+json": {
       "model_id": "0aa59d8675f24720b46076168fd83552",
       "version_major": 2,
       "version_minor": 0
      },
      "text/plain": [
       "  0%|          | 0/653 [00:00<?, ?it/s]"
      ]
     },
     "metadata": {},
     "output_type": "display_data"
    },
    {
     "name": "stdout",
     "output_type": "stream",
     "text": [
      "Done\n",
      "/home/juiwang/ai-badminton/data/tracknetv2_042022/profession_dataset/match16/ball_trajectory_3d/1_13_20_3d.csv\n",
      "437\n"
     ]
    },
    {
     "data": {
      "application/vnd.jupyter.widget-view+json": {
       "model_id": "4578a8717a884c3694e24c3341562d22",
       "version_major": 2,
       "version_minor": 0
      },
      "text/plain": [
       "  0%|          | 0/437 [00:00<?, ?it/s]"
      ]
     },
     "metadata": {},
     "output_type": "display_data"
    },
    {
     "name": "stdout",
     "output_type": "stream",
     "text": [
      "Done\n",
      "/home/juiwang/ai-badminton/data/tracknetv2_042022/profession_dataset/match17/ball_trajectory_3d/1_02_02_3d.csv\n",
      "371\n"
     ]
    },
    {
     "data": {
      "application/vnd.jupyter.widget-view+json": {
       "model_id": "38c0a5104c764a799b84e219c14c57ba",
       "version_major": 2,
       "version_minor": 0
      },
      "text/plain": [
       "  0%|          | 0/371 [00:00<?, ?it/s]"
      ]
     },
     "metadata": {},
     "output_type": "display_data"
    },
    {
     "name": "stdout",
     "output_type": "stream",
     "text": [
      "Done\n",
      "/home/juiwang/ai-badminton/data/tracknetv2_042022/profession_dataset/match17/ball_trajectory_3d/2_01_01_3d.csv\n",
      "530\n"
     ]
    },
    {
     "data": {
      "application/vnd.jupyter.widget-view+json": {
       "model_id": "eb596feaba094c35a3deaf0de64c64e6",
       "version_major": 2,
       "version_minor": 0
      },
      "text/plain": [
       "  0%|          | 0/530 [00:00<?, ?it/s]"
      ]
     },
     "metadata": {},
     "output_type": "display_data"
    },
    {
     "name": "stdout",
     "output_type": "stream",
     "text": [
      "Done\n",
      "/home/juiwang/ai-badminton/data/tracknetv2_042022/profession_dataset/match17/ball_trajectory_3d/2_15_11_3d.csv\n",
      "467\n"
     ]
    },
    {
     "data": {
      "application/vnd.jupyter.widget-view+json": {
       "model_id": "b7060a596efe42b898f953c229bf1bf6",
       "version_major": 2,
       "version_minor": 0
      },
      "text/plain": [
       "  0%|          | 0/467 [00:00<?, ?it/s]"
      ]
     },
     "metadata": {},
     "output_type": "display_data"
    },
    {
     "name": "stdout",
     "output_type": "stream",
     "text": [
      "Done\n",
      "/home/juiwang/ai-badminton/data/tracknetv2_042022/profession_dataset/match17/ball_trajectory_3d/2_18_11_3d.csv\n",
      "500\n"
     ]
    },
    {
     "data": {
      "application/vnd.jupyter.widget-view+json": {
       "model_id": "44f47d76db6e44fdaa993a89baa46170",
       "version_major": 2,
       "version_minor": 0
      },
      "text/plain": [
       "  0%|          | 0/500 [00:00<?, ?it/s]"
      ]
     },
     "metadata": {},
     "output_type": "display_data"
    },
    {
     "name": "stdout",
     "output_type": "stream",
     "text": [
      "Done\n",
      "/home/juiwang/ai-badminton/data/tracknetv2_042022/profession_dataset/match17/ball_trajectory_3d/2_08_05_3d.csv\n",
      "524\n"
     ]
    },
    {
     "data": {
      "application/vnd.jupyter.widget-view+json": {
       "model_id": "c3e6e9c780bf49d9a85878e667c31968",
       "version_major": 2,
       "version_minor": 0
      },
      "text/plain": [
       "  0%|          | 0/524 [00:00<?, ?it/s]"
      ]
     },
     "metadata": {},
     "output_type": "display_data"
    },
    {
     "name": "stdout",
     "output_type": "stream",
     "text": [
      "Done\n",
      "/home/juiwang/ai-badminton/data/tracknetv2_042022/profession_dataset/match17/ball_trajectory_3d/1_15_13_3d.csv\n",
      "530\n"
     ]
    },
    {
     "data": {
      "application/vnd.jupyter.widget-view+json": {
       "model_id": "f0ca4046445641128c4463d1c3024fc4",
       "version_major": 2,
       "version_minor": 0
      },
      "text/plain": [
       "  0%|          | 0/530 [00:00<?, ?it/s]"
      ]
     },
     "metadata": {},
     "output_type": "display_data"
    },
    {
     "name": "stdout",
     "output_type": "stream",
     "text": [
      "Done\n",
      "/home/juiwang/ai-badminton/data/tracknetv2_042022/profession_dataset/match18/ball_trajectory_3d/3_12_14_3d.csv\n",
      "404\n"
     ]
    },
    {
     "data": {
      "application/vnd.jupyter.widget-view+json": {
       "model_id": "8f9641ccdcc94378a70f8338fa369836",
       "version_major": 2,
       "version_minor": 0
      },
      "text/plain": [
       "  0%|          | 0/404 [00:00<?, ?it/s]"
      ]
     },
     "metadata": {},
     "output_type": "display_data"
    },
    {
     "name": "stdout",
     "output_type": "stream",
     "text": [
      "Done\n",
      "/home/juiwang/ai-badminton/data/tracknetv2_042022/profession_dataset/match18/ball_trajectory_3d/1_06_12_3d.csv\n",
      "362\n"
     ]
    },
    {
     "data": {
      "application/vnd.jupyter.widget-view+json": {
       "model_id": "4af1e7eda14c4ad8b230836815127687",
       "version_major": 2,
       "version_minor": 0
      },
      "text/plain": [
       "  0%|          | 0/362 [00:00<?, ?it/s]"
      ]
     },
     "metadata": {},
     "output_type": "display_data"
    },
    {
     "name": "stdout",
     "output_type": "stream",
     "text": [
      "Done\n",
      "/home/juiwang/ai-badminton/data/tracknetv2_042022/profession_dataset/match18/ball_trajectory_3d/3_20_19_3d.csv\n",
      "404\n"
     ]
    },
    {
     "data": {
      "application/vnd.jupyter.widget-view+json": {
       "model_id": "bf27506a76a944c986ecc0e2df94b733",
       "version_major": 2,
       "version_minor": 0
      },
      "text/plain": [
       "  0%|          | 0/404 [00:00<?, ?it/s]"
      ]
     },
     "metadata": {},
     "output_type": "display_data"
    },
    {
     "name": "stdout",
     "output_type": "stream",
     "text": [
      "Done\n",
      "/home/juiwang/ai-badminton/data/tracknetv2_042022/profession_dataset/match18/ball_trajectory_3d/2_02_02_3d.csv\n",
      "434\n"
     ]
    },
    {
     "data": {
      "application/vnd.jupyter.widget-view+json": {
       "model_id": "780799b5fad74f73be078587d8a634ea",
       "version_major": 2,
       "version_minor": 0
      },
      "text/plain": [
       "  0%|          | 0/434 [00:00<?, ?it/s]"
      ]
     },
     "metadata": {},
     "output_type": "display_data"
    },
    {
     "name": "stdout",
     "output_type": "stream",
     "text": [
      "Done\n",
      "/home/juiwang/ai-badminton/data/tracknetv2_042022/profession_dataset/match18/ball_trajectory_3d/3_16_17_3d.csv\n",
      "386\n"
     ]
    },
    {
     "data": {
      "application/vnd.jupyter.widget-view+json": {
       "model_id": "52fccce08463436c8953f31d276ef811",
       "version_major": 2,
       "version_minor": 0
      },
      "text/plain": [
       "  0%|          | 0/386 [00:00<?, ?it/s]"
      ]
     },
     "metadata": {},
     "output_type": "display_data"
    },
    {
     "name": "stdout",
     "output_type": "stream",
     "text": [
      "Done\n",
      "/home/juiwang/ai-badminton/data/tracknetv2_042022/profession_dataset/match18/ball_trajectory_3d/3_03_05_3d.csv\n",
      "686\n"
     ]
    },
    {
     "data": {
      "application/vnd.jupyter.widget-view+json": {
       "model_id": "b26d48b9b2064548b540e394f4ab295e",
       "version_major": 2,
       "version_minor": 0
      },
      "text/plain": [
       "  0%|          | 0/686 [00:00<?, ?it/s]"
      ]
     },
     "metadata": {},
     "output_type": "display_data"
    },
    {
     "name": "stdout",
     "output_type": "stream",
     "text": [
      "Done\n",
      "/home/juiwang/ai-badminton/data/tracknetv2_042022/profession_dataset/match19/ball_trajectory_3d/1_07_08_3d.csv\n",
      "455\n"
     ]
    },
    {
     "data": {
      "application/vnd.jupyter.widget-view+json": {
       "model_id": "64e60209c8d24ec0ac5d4b26a80257da",
       "version_major": 2,
       "version_minor": 0
      },
      "text/plain": [
       "  0%|          | 0/455 [00:00<?, ?it/s]"
      ]
     },
     "metadata": {},
     "output_type": "display_data"
    },
    {
     "name": "stdout",
     "output_type": "stream",
     "text": [
      "Done\n",
      "/home/juiwang/ai-badminton/data/tracknetv2_042022/profession_dataset/match19/ball_trajectory_3d/1_01_01_3d.csv\n",
      "458\n"
     ]
    },
    {
     "data": {
      "application/vnd.jupyter.widget-view+json": {
       "model_id": "15a7add556f241fe9514e7bdb4cdfa82",
       "version_major": 2,
       "version_minor": 0
      },
      "text/plain": [
       "  0%|          | 0/458 [00:00<?, ?it/s]"
      ]
     },
     "metadata": {},
     "output_type": "display_data"
    },
    {
     "name": "stdout",
     "output_type": "stream",
     "text": [
      "Done\n",
      "/home/juiwang/ai-badminton/data/tracknetv2_042022/profession_dataset/match19/ball_trajectory_3d/2_14_08_3d.csv\n",
      "461\n"
     ]
    },
    {
     "data": {
      "application/vnd.jupyter.widget-view+json": {
       "model_id": "d9da18a72566416297f31f46ca8c3485",
       "version_major": 2,
       "version_minor": 0
      },
      "text/plain": [
       "  0%|          | 0/461 [00:00<?, ?it/s]"
      ]
     },
     "metadata": {},
     "output_type": "display_data"
    },
    {
     "name": "stdout",
     "output_type": "stream",
     "text": [
      "Done\n",
      "/home/juiwang/ai-badminton/data/tracknetv2_042022/profession_dataset/match19/ball_trajectory_3d/2_12_06_3d.csv\n",
      "548\n"
     ]
    },
    {
     "data": {
      "application/vnd.jupyter.widget-view+json": {
       "model_id": "86f42db037a64e0699b835dbfd32f13e",
       "version_major": 2,
       "version_minor": 0
      },
      "text/plain": [
       "  0%|          | 0/548 [00:00<?, ?it/s]"
      ]
     },
     "metadata": {},
     "output_type": "display_data"
    },
    {
     "name": "stdout",
     "output_type": "stream",
     "text": [
      "Done\n",
      "/home/juiwang/ai-badminton/data/tracknetv2_042022/profession_dataset/match19/ball_trajectory_3d/1_01_03_3d.csv\n",
      "896\n"
     ]
    },
    {
     "data": {
      "application/vnd.jupyter.widget-view+json": {
       "model_id": "ef451733c539409796bf8c09c5cb1da5",
       "version_major": 2,
       "version_minor": 0
      },
      "text/plain": [
       "  0%|          | 0/896 [00:00<?, ?it/s]"
      ]
     },
     "metadata": {},
     "output_type": "display_data"
    },
    {
     "name": "stdout",
     "output_type": "stream",
     "text": [
      "Done\n",
      "/home/juiwang/ai-badminton/data/tracknetv2_042022/profession_dataset/match20/ball_trajectory_3d/2_00_01_3d.csv\n",
      "326\n"
     ]
    },
    {
     "data": {
      "application/vnd.jupyter.widget-view+json": {
       "model_id": "c8d6a109d66b406eac1d74b5d8bd5fb6",
       "version_major": 2,
       "version_minor": 0
      },
      "text/plain": [
       "  0%|          | 0/326 [00:00<?, ?it/s]"
      ]
     },
     "metadata": {},
     "output_type": "display_data"
    },
    {
     "name": "stdout",
     "output_type": "stream",
     "text": [
      "Done\n",
      "/home/juiwang/ai-badminton/data/tracknetv2_042022/profession_dataset/match20/ball_trajectory_3d/2_19_14_3d.csv\n",
      "494\n"
     ]
    },
    {
     "data": {
      "application/vnd.jupyter.widget-view+json": {
       "model_id": "40eb08e38e814662a248234b7e9cb0ac",
       "version_major": 2,
       "version_minor": 0
      },
      "text/plain": [
       "  0%|          | 0/494 [00:00<?, ?it/s]"
      ]
     },
     "metadata": {},
     "output_type": "display_data"
    },
    {
     "name": "stdout",
     "output_type": "stream",
     "text": [
      "Done\n",
      "/home/juiwang/ai-badminton/data/tracknetv2_042022/profession_dataset/match20/ball_trajectory_3d/1_09_05_3d.csv\n",
      "668\n"
     ]
    },
    {
     "data": {
      "application/vnd.jupyter.widget-view+json": {
       "model_id": "734af3eefce346a7ae064d68bbf7cf04",
       "version_major": 2,
       "version_minor": 0
      },
      "text/plain": [
       "  0%|          | 0/668 [00:00<?, ?it/s]"
      ]
     },
     "metadata": {},
     "output_type": "display_data"
    },
    {
     "name": "stdout",
     "output_type": "stream",
     "text": [
      "Done\n",
      "/home/juiwang/ai-badminton/data/tracknetv2_042022/profession_dataset/match20/ball_trajectory_3d/2_07_08_3d.csv\n",
      "416\n"
     ]
    },
    {
     "data": {
      "application/vnd.jupyter.widget-view+json": {
       "model_id": "584318f3a1ff4f9e9b3c86ec1909b6ac",
       "version_major": 2,
       "version_minor": 0
      },
      "text/plain": [
       "  0%|          | 0/416 [00:00<?, ?it/s]"
      ]
     },
     "metadata": {},
     "output_type": "display_data"
    },
    {
     "name": "stdout",
     "output_type": "stream",
     "text": [
      "Done\n",
      "/home/juiwang/ai-badminton/data/tracknetv2_042022/profession_dataset/match20/ball_trajectory_3d/2_05_08_3d.csv\n",
      "755\n"
     ]
    },
    {
     "data": {
      "application/vnd.jupyter.widget-view+json": {
       "model_id": "21e923edb6af4f78912b06b451991451",
       "version_major": 2,
       "version_minor": 0
      },
      "text/plain": [
       "  0%|          | 0/755 [00:00<?, ?it/s]"
      ]
     },
     "metadata": {},
     "output_type": "display_data"
    },
    {
     "name": "stdout",
     "output_type": "stream",
     "text": [
      "Done\n",
      "/home/juiwang/ai-badminton/data/tracknetv2_042022/profession_dataset/match20/ball_trajectory_3d/1_11_10_3d.csv\n",
      "491\n"
     ]
    },
    {
     "data": {
      "application/vnd.jupyter.widget-view+json": {
       "model_id": "450f7474c8dd49ffb31d0b14b916c737",
       "version_major": 2,
       "version_minor": 0
      },
      "text/plain": [
       "  0%|          | 0/491 [00:00<?, ?it/s]"
      ]
     },
     "metadata": {},
     "output_type": "display_data"
    },
    {
     "name": "stdout",
     "output_type": "stream",
     "text": [
      "Done\n",
      "/home/juiwang/ai-badminton/data/tracknetv2_042022/profession_dataset/match21/ball_trajectory_3d/2_04_04_3d.csv\n",
      "323\n"
     ]
    },
    {
     "data": {
      "application/vnd.jupyter.widget-view+json": {
       "model_id": "89e478334a9049d6a3dd41e7d3cfc71d",
       "version_major": 2,
       "version_minor": 0
      },
      "text/plain": [
       "  0%|          | 0/323 [00:00<?, ?it/s]"
      ]
     },
     "metadata": {},
     "output_type": "display_data"
    },
    {
     "name": "stdout",
     "output_type": "stream",
     "text": [
      "Done\n",
      "/home/juiwang/ai-badminton/data/tracknetv2_042022/profession_dataset/match21/ball_trajectory_3d/2_02_03_3d.csv\n",
      "383\n"
     ]
    },
    {
     "data": {
      "application/vnd.jupyter.widget-view+json": {
       "model_id": "d2f1613b0050469a86ad17e05112073e",
       "version_major": 2,
       "version_minor": 0
      },
      "text/plain": [
       "  0%|          | 0/383 [00:00<?, ?it/s]"
      ]
     },
     "metadata": {},
     "output_type": "display_data"
    },
    {
     "name": "stdout",
     "output_type": "stream",
     "text": [
      "Done\n",
      "/home/juiwang/ai-badminton/data/tracknetv2_042022/profession_dataset/match21/ball_trajectory_3d/2_09_08_3d.csv\n",
      "566\n"
     ]
    },
    {
     "data": {
      "application/vnd.jupyter.widget-view+json": {
       "model_id": "f358f842076d40e79b4a74fbdc0db38b",
       "version_major": 2,
       "version_minor": 0
      },
      "text/plain": [
       "  0%|          | 0/566 [00:00<?, ?it/s]"
      ]
     },
     "metadata": {},
     "output_type": "display_data"
    },
    {
     "name": "stdout",
     "output_type": "stream",
     "text": [
      "Done\n",
      "/home/juiwang/ai-badminton/data/tracknetv2_042022/profession_dataset/match21/ball_trajectory_3d/2_12_08_3d.csv\n",
      "302\n"
     ]
    },
    {
     "data": {
      "application/vnd.jupyter.widget-view+json": {
       "model_id": "77fac1c6ec4d4303b09342820c14e4b9",
       "version_major": 2,
       "version_minor": 0
      },
      "text/plain": [
       "  0%|          | 0/302 [00:00<?, ?it/s]"
      ]
     },
     "metadata": {},
     "output_type": "display_data"
    },
    {
     "name": "stdout",
     "output_type": "stream",
     "text": [
      "Done\n",
      "/home/juiwang/ai-badminton/data/tracknetv2_042022/profession_dataset/match21/ball_trajectory_3d/1_02_01_3d.csv\n",
      "356\n"
     ]
    },
    {
     "data": {
      "application/vnd.jupyter.widget-view+json": {
       "model_id": "32ca3d4d77954a6a8e5d6b2b121ea58d",
       "version_major": 2,
       "version_minor": 0
      },
      "text/plain": [
       "  0%|          | 0/356 [00:00<?, ?it/s]"
      ]
     },
     "metadata": {},
     "output_type": "display_data"
    },
    {
     "name": "stdout",
     "output_type": "stream",
     "text": [
      "Done\n",
      "/home/juiwang/ai-badminton/data/tracknetv2_042022/profession_dataset/match21/ball_trajectory_3d/1_16_17_3d.csv\n",
      "551\n"
     ]
    },
    {
     "data": {
      "application/vnd.jupyter.widget-view+json": {
       "model_id": "334e463a4b3b4785ba8a91aa7ba10ad9",
       "version_major": 2,
       "version_minor": 0
      },
      "text/plain": [
       "  0%|          | 0/551 [00:00<?, ?it/s]"
      ]
     },
     "metadata": {},
     "output_type": "display_data"
    },
    {
     "name": "stdout",
     "output_type": "stream",
     "text": [
      "Done\n",
      "/home/juiwang/ai-badminton/data/tracknetv2_042022/profession_dataset/match21/ball_trajectory_3d/1_19_19_3d.csv\n",
      "182\n"
     ]
    },
    {
     "data": {
      "application/vnd.jupyter.widget-view+json": {
       "model_id": "ea9d928f789144558c389d54ecdd50b4",
       "version_major": 2,
       "version_minor": 0
      },
      "text/plain": [
       "  0%|          | 0/182 [00:00<?, ?it/s]"
      ]
     },
     "metadata": {},
     "output_type": "display_data"
    },
    {
     "name": "stdout",
     "output_type": "stream",
     "text": [
      "Done\n",
      "/home/juiwang/ai-badminton/data/tracknetv2_042022/profession_dataset/match22/ball_trajectory_3d/1_02_01_3d.csv\n",
      "950\n"
     ]
    },
    {
     "data": {
      "application/vnd.jupyter.widget-view+json": {
       "model_id": "ae930ef592d84e619ec05d8c62cf16e2",
       "version_major": 2,
       "version_minor": 0
      },
      "text/plain": [
       "  0%|          | 0/950 [00:00<?, ?it/s]"
      ]
     },
     "metadata": {},
     "output_type": "display_data"
    },
    {
     "name": "stdout",
     "output_type": "stream",
     "text": [
      "Done\n",
      "/home/juiwang/ai-badminton/data/tracknetv2_042022/profession_dataset/match22/ball_trajectory_3d/3_15_13_3d.csv\n",
      "431\n"
     ]
    },
    {
     "data": {
      "application/vnd.jupyter.widget-view+json": {
       "model_id": "650cf3377be4435d9d6fda200640eea6",
       "version_major": 2,
       "version_minor": 0
      },
      "text/plain": [
       "  0%|          | 0/431 [00:00<?, ?it/s]"
      ]
     },
     "metadata": {},
     "output_type": "display_data"
    },
    {
     "name": "stdout",
     "output_type": "stream",
     "text": [
      "Done\n",
      "/home/juiwang/ai-badminton/data/tracknetv2_042022/profession_dataset/match22/ball_trajectory_3d/1_07_02_3d.csv\n",
      "425\n"
     ]
    },
    {
     "data": {
      "application/vnd.jupyter.widget-view+json": {
       "model_id": "ed55c634603048c886917c9e25eb160c",
       "version_major": 2,
       "version_minor": 0
      },
      "text/plain": [
       "  0%|          | 0/425 [00:00<?, ?it/s]"
      ]
     },
     "metadata": {},
     "output_type": "display_data"
    },
    {
     "name": "stdout",
     "output_type": "stream",
     "text": [
      "Done\n",
      "/home/juiwang/ai-badminton/data/tracknetv2_042022/profession_dataset/match22/ball_trajectory_3d/2_18_18_3d.csv\n",
      "548\n"
     ]
    },
    {
     "data": {
      "application/vnd.jupyter.widget-view+json": {
       "model_id": "550191938fb6414687a9a89bd0fbacd8",
       "version_major": 2,
       "version_minor": 0
      },
      "text/plain": [
       "  0%|          | 0/548 [00:00<?, ?it/s]"
      ]
     },
     "metadata": {},
     "output_type": "display_data"
    },
    {
     "name": "stdout",
     "output_type": "stream",
     "text": [
      "Done\n",
      "/home/juiwang/ai-badminton/data/tracknetv2_042022/profession_dataset/match22/ball_trajectory_3d/2_17_18_3d.csv\n",
      "644\n"
     ]
    },
    {
     "data": {
      "application/vnd.jupyter.widget-view+json": {
       "model_id": "5d3326a7320948b9868b7763e53b712e",
       "version_major": 2,
       "version_minor": 0
      },
      "text/plain": [
       "  0%|          | 0/644 [00:00<?, ?it/s]"
      ]
     },
     "metadata": {},
     "output_type": "display_data"
    },
    {
     "name": "stdout",
     "output_type": "stream",
     "text": [
      "Done\n"
     ]
    }
   ],
   "source": [
    "from ai_badminton.pose import read_player_poses\n",
    "from ai_badminton.court import read_court, court_points_to_corners, Court\n",
    "from ai_badminton.trajectory import Trajectory, read_trajectory_3d\n",
    "from ai_badminton.video_annotator import annotate_video_3d\n",
    "from ai_badminton.hit_detector import read_hits\n",
    "from ai_badminton.pipeline_clean import read_poses_court_trajectory\n",
    "\n",
    "import cv2\n",
    "\n",
    "import numpy as np\n",
    "from pathlib import Path\n",
    "\n",
    "for match_idx in range(1, 23):\n",
    "    match_path = Path(f\"/home/juiwang/ai-badminton/data/tracknetv2_042022/profession_dataset/match{match_idx}\")\n",
    "\n",
    "    rally_videos = (match_path / \"rally_video\").glob(\"*.mp4\")\n",
    "    video_names = [p.stem for p in rally_videos]\n",
    "\n",
    "    for video_name in video_names:\n",
    "\n",
    "        video_path = match_path / \"rally_video\" / (video_name + \".mp4\")\n",
    "\n",
    "        cap = cv2.VideoCapture(str(video_path))\n",
    "        assert cap.isOpened()\n",
    "\n",
    "        trajectory_3d_path = match_path / \"ball_trajectory_3d\" / (video_path.stem + \"_3d.csv\")\n",
    "        print(trajectory_3d_path)\n",
    "        assert trajectory_3d_path.is_file()\n",
    "\n",
    "        metadata = read_poses_court_trajectory(match_path, video_path.stem)\n",
    "        output_path = match_path / \"annotated_3d\" / (video_path.stem + \"_3d.mp4\")\n",
    "        output_path.parent.mkdir(parents=True, exist_ok=True)\n",
    "        annotate_video_3d(\n",
    "            cap,\n",
    "            metadata[\"court3d\"],\n",
    "            read_trajectory_3d(trajectory_3d_path),\n",
    "            outfile = str(output_path)\n",
    "        )\n",
    "        print(\"Done\")\n"
   ]
  },
  {
   "cell_type": "markdown",
   "id": "04b3cc09-2751-4a97-a74f-6459d64e0660",
   "metadata": {},
   "source": [
    "# Create annotation visualization from all videos in a match"
   ]
  },
  {
   "cell_type": "code",
   "execution_count": 1,
   "id": "2c4409e3-9203-45fd-981a-aaa75fc8fee8",
   "metadata": {},
   "outputs": [],
   "source": [
    "from ai_badminton.pose import read_player_poses\n",
    "from ai_badminton.court import read_court, court_points_to_corners, Court\n",
    "from ai_badminton.trajectory import Trajectory\n",
    "from ai_badminton.video_annotator import annotate_video\n",
    "from ai_badminton.hit_detector import read_hits\n",
    "\n",
    "import cv2\n",
    "\n",
    "import numpy as np\n",
    "from pathlib import Path\n",
    "\n",
    "def annotate_all_videos(match_path):\n",
    "    rally_videos = (match_path / \"rally_video\").glob(\"*.mp4\")\n",
    "    video_names = [p.stem for p in rally_videos]\n",
    "    \n",
    "    for video_name in video_names:\n",
    "        print(f\"Processing video: {video_name}\")\n",
    "        poses = read_player_poses(str(match_path / \"poses\" / video_name))\n",
    "        \n",
    "        court_pts = read_court(str(match_path / \"court\" / (video_name + \".out\")))\n",
    "        court = Court(corners = court_points_to_corners(court_pts))\n",
    "\n",
    "        trajectory = Trajectory(str(match_path / \"ball_trajectory\" / (str(video_name) + \"_ball_predict.csv\")))\n",
    "\n",
    "        video_file = str(match_path / \"rally_video\" / (video_name + \".mp4\"))\n",
    "            \n",
    "        cap = cv2.VideoCapture(video_file)\n",
    "        assert cap.isOpened(), f\"Cannot open video {video_file}\"\n",
    "        \n",
    "        out_dir = match_path / \"annotated_2d\"\n",
    "        out_dir.mkdir(parents=True, exist_ok=True)\n",
    "        out_path = out_dir / (video_name + \".mp4\")\n",
    "        annotate_video(cap, court, poses, trajectory, outfile=str(out_path))\n"
   ]
  },
  {
   "cell_type": "code",
   "execution_count": 2,
   "id": "6a6d0f33-f3a2-4e13-a860-d073f38bc32f",
   "metadata": {},
   "outputs": [
    {
     "name": "stdout",
     "output_type": "stream",
     "text": [
      "Processing match: /home/juiwang/ai-badminton/data/tracknetv2_042022/profession_dataset/match14\n",
      "Processing video: 2_19_13\n"
     ]
    },
    {
     "data": {
      "application/vnd.jupyter.widget-view+json": {
       "model_id": "9204fe9e45b247a28f7ba9d844789a83",
       "version_major": 2,
       "version_minor": 0
      },
      "text/plain": [
       "  0%|          | 0/705 [00:00<?, ?it/s]"
      ]
     },
     "metadata": {},
     "output_type": "display_data"
    },
    {
     "name": "stdout",
     "output_type": "stream",
     "text": [
      "Processing video: 2_15_10\n"
     ]
    },
    {
     "data": {
      "application/vnd.jupyter.widget-view+json": {
       "model_id": "f3e8cbb6216340598ad0f4b9110530d2",
       "version_major": 2,
       "version_minor": 0
      },
      "text/plain": [
       "  0%|          | 0/393 [00:00<?, ?it/s]"
      ]
     },
     "metadata": {},
     "output_type": "display_data"
    },
    {
     "name": "stdout",
     "output_type": "stream",
     "text": [
      "Processing video: 2_13_06\n"
     ]
    },
    {
     "data": {
      "application/vnd.jupyter.widget-view+json": {
       "model_id": "7ccdb4387bb24210b47848d97b76a263",
       "version_major": 2,
       "version_minor": 0
      },
      "text/plain": [
       "  0%|          | 0/621 [00:00<?, ?it/s]"
      ]
     },
     "metadata": {},
     "output_type": "display_data"
    },
    {
     "name": "stdout",
     "output_type": "stream",
     "text": [
      "Processing video: 2_21_17\n"
     ]
    },
    {
     "data": {
      "application/vnd.jupyter.widget-view+json": {
       "model_id": "fb17f2aa8480487a8de704f82505b97a",
       "version_major": 2,
       "version_minor": 0
      },
      "text/plain": [
       "  0%|          | 0/402 [00:00<?, ?it/s]"
      ]
     },
     "metadata": {},
     "output_type": "display_data"
    },
    {
     "name": "stdout",
     "output_type": "stream",
     "text": [
      "Processing video: 1_17_14\n"
     ]
    },
    {
     "data": {
      "application/vnd.jupyter.widget-view+json": {
       "model_id": "61e33287b1014f34afd5408498742f01",
       "version_major": 2,
       "version_minor": 0
      },
      "text/plain": [
       "  0%|          | 0/714 [00:00<?, ?it/s]"
      ]
     },
     "metadata": {},
     "output_type": "display_data"
    },
    {
     "name": "stdout",
     "output_type": "stream",
     "text": [
      "Processing match: /home/juiwang/ai-badminton/data/tracknetv2_042022/profession_dataset/match7\n",
      "Processing video: 2_14_15\n"
     ]
    },
    {
     "data": {
      "application/vnd.jupyter.widget-view+json": {
       "model_id": "cae4bbf9180a4e708928bf072ce2a8a4",
       "version_major": 2,
       "version_minor": 0
      },
      "text/plain": [
       "  0%|          | 0/492 [00:00<?, ?it/s]"
      ]
     },
     "metadata": {},
     "output_type": "display_data"
    },
    {
     "name": "stdout",
     "output_type": "stream",
     "text": [
      "Processing video: 1_12_13\n"
     ]
    },
    {
     "data": {
      "application/vnd.jupyter.widget-view+json": {
       "model_id": "2afc11e9af4f4de7ad98840d3a95f962",
       "version_major": 2,
       "version_minor": 0
      },
      "text/plain": [
       "  0%|          | 0/618 [00:00<?, ?it/s]"
      ]
     },
     "metadata": {},
     "output_type": "display_data"
    },
    {
     "name": "stdout",
     "output_type": "stream",
     "text": [
      "Processing video: 2_05_03\n"
     ]
    },
    {
     "data": {
      "application/vnd.jupyter.widget-view+json": {
       "model_id": "9c464e51db2343d896dd183ddb38f216",
       "version_major": 2,
       "version_minor": 0
      },
      "text/plain": [
       "  0%|          | 0/945 [00:00<?, ?it/s]"
      ]
     },
     "metadata": {},
     "output_type": "display_data"
    },
    {
     "name": "stdout",
     "output_type": "stream",
     "text": [
      "Processing video: 1_02_01\n"
     ]
    },
    {
     "data": {
      "application/vnd.jupyter.widget-view+json": {
       "model_id": "26e7f1c01ade41fa9a4f7b59916a3c04",
       "version_major": 2,
       "version_minor": 0
      },
      "text/plain": [
       "  0%|          | 0/648 [00:00<?, ?it/s]"
      ]
     },
     "metadata": {},
     "output_type": "display_data"
    },
    {
     "ename": "KeyboardInterrupt",
     "evalue": "",
     "output_type": "error",
     "traceback": [
      "\u001b[0;31m---------------------------------------------------------------------------\u001b[0m",
      "\u001b[0;31mKeyboardInterrupt\u001b[0m                         Traceback (most recent call last)",
      "Input \u001b[0;32mIn [2]\u001b[0m, in \u001b[0;36m<cell line: 2>\u001b[0;34m()\u001b[0m\n\u001b[1;32m      2\u001b[0m \u001b[38;5;28;01mfor\u001b[39;00m match_path \u001b[38;5;129;01min\u001b[39;00m dataset_base\u001b[38;5;241m.\u001b[39mglob(\u001b[38;5;124m\"\u001b[39m\u001b[38;5;124mmatch[0-9]*\u001b[39m\u001b[38;5;124m\"\u001b[39m):\n\u001b[1;32m      3\u001b[0m     \u001b[38;5;28mprint\u001b[39m(\u001b[38;5;124mf\u001b[39m\u001b[38;5;124m\"\u001b[39m\u001b[38;5;124mProcessing match: \u001b[39m\u001b[38;5;132;01m{\u001b[39;00mmatch_path\u001b[38;5;132;01m}\u001b[39;00m\u001b[38;5;124m\"\u001b[39m)\n\u001b[0;32m----> 4\u001b[0m     \u001b[43mannotate_all_videos\u001b[49m\u001b[43m(\u001b[49m\u001b[43mmatch_path\u001b[49m\u001b[43m)\u001b[49m\n",
      "Input \u001b[0;32mIn [1]\u001b[0m, in \u001b[0;36mannotate_all_videos\u001b[0;34m(match_path)\u001b[0m\n\u001b[1;32m     31\u001b[0m out_dir\u001b[38;5;241m.\u001b[39mmkdir(parents\u001b[38;5;241m=\u001b[39m\u001b[38;5;28;01mTrue\u001b[39;00m, exist_ok\u001b[38;5;241m=\u001b[39m\u001b[38;5;28;01mTrue\u001b[39;00m)\n\u001b[1;32m     32\u001b[0m out_path \u001b[38;5;241m=\u001b[39m out_dir \u001b[38;5;241m/\u001b[39m (video_name \u001b[38;5;241m+\u001b[39m \u001b[38;5;124m\"\u001b[39m\u001b[38;5;124m.mp4\u001b[39m\u001b[38;5;124m\"\u001b[39m)\n\u001b[0;32m---> 33\u001b[0m \u001b[43mannotate_video\u001b[49m\u001b[43m(\u001b[49m\u001b[43mcap\u001b[49m\u001b[43m,\u001b[49m\u001b[43m \u001b[49m\u001b[43mcourt\u001b[49m\u001b[43m,\u001b[49m\u001b[43m \u001b[49m\u001b[43mposes\u001b[49m\u001b[43m,\u001b[49m\u001b[43m \u001b[49m\u001b[43mtrajectory\u001b[49m\u001b[43m,\u001b[49m\u001b[43m \u001b[49m\u001b[43moutfile\u001b[49m\u001b[38;5;241;43m=\u001b[39;49m\u001b[38;5;28;43mstr\u001b[39;49m\u001b[43m(\u001b[49m\u001b[43mout_path\u001b[49m\u001b[43m)\u001b[49m\u001b[43m)\u001b[49m\n",
      "File \u001b[0;32m/opt/conda/envs/ai-badminton/lib/python3.8/site-packages/ai_badminton-0.0.1-py3.8.egg/ai_badminton/video_annotator.py:114\u001b[0m, in \u001b[0;36mannotate_video\u001b[0;34m(cap, court, poses, trajectory, result, is_hit, frame_limit, outfile)\u001b[0m\n\u001b[1;32m    111\u001b[0m                 bid \u001b[38;5;241m+\u001b[39m\u001b[38;5;241m=\u001b[39m \u001b[38;5;241m1\u001b[39m\n\u001b[1;32m    113\u001b[0m         frame[\u001b[38;5;241m-\u001b[39mcourt_img\u001b[38;5;241m.\u001b[39mshape[\u001b[38;5;241m0\u001b[39m]:, \u001b[38;5;241m-\u001b[39mcourt_img\u001b[38;5;241m.\u001b[39mshape[\u001b[38;5;241m1\u001b[39m]:] \u001b[38;5;241m=\u001b[39m court_img        \n\u001b[0;32m--> 114\u001b[0m     \u001b[43moutvid\u001b[49m\u001b[38;5;241;43m.\u001b[39;49m\u001b[43mwrite\u001b[49m\u001b[43m(\u001b[49m\u001b[43mframe\u001b[49m\u001b[43m)\u001b[49m\n\u001b[1;32m    115\u001b[0m outvid\u001b[38;5;241m.\u001b[39mrelease()\n",
      "\u001b[0;31mKeyboardInterrupt\u001b[0m: "
     ]
    }
   ],
   "source": [
    "\n",
    "dataset_base = Path(\"/home/juiwang/ai-badminton/data/tracknetv2_042022/profession_dataset\")\n",
    "for match_path in dataset_base.glob(\"match[0-9]*\"):\n",
    "    print(f\"Processing match: {match_path}\")\n",
    "    annotate_all_videos(match_path)"
   ]
  },
  {
   "cell_type": "code",
   "execution_count": null,
   "id": "197427fb-6165-464b-bab9-1305a8a96a50",
   "metadata": {},
   "outputs": [],
   "source": []
  },
  {
   "cell_type": "markdown",
   "id": "756f0105-41ed-46dd-b36d-a7731aff54ad",
   "metadata": {},
   "source": [
    "# Visualize the inferenced hits versus ground truth"
   ]
  },
  {
   "cell_type": "code",
   "execution_count": 3,
   "id": "cacb5629-8db6-4213-84c9-612f30b68d1c",
   "metadata": {},
   "outputs": [],
   "source": [
    "%matplotlib widget\n",
    "\n",
    "import matplotlib.pyplot as plt\n",
    "from pathlib import Path\n",
    "import pandas as pd"
   ]
  },
  {
   "cell_type": "code",
   "execution_count": 19,
   "id": "654a3c40-ffec-42a3-9466-430dffd6ed05",
   "metadata": {},
   "outputs": [],
   "source": [
    "def plot_shot_differences(hit_groundtruth_path):\n",
    "    gt_path = hit_groundtruth_path\n",
    "    pred_path = Path(str(gt_path.with_suffix(\"\")) + \"_predict.csv\")\n",
    "    assert gt_path.is_file() and pred_path.is_file()\n",
    "    \n",
    "    gt = pd.read_csv(str(gt_path))\n",
    "    pred = pd.read_csv(str(pred_path))\n",
    "    \n",
    "    plt.figure()\n",
    "    plt.plot(gt.values[:,1], 'o', label=\"ground truth\")\n",
    "    plt.plot((pred.values[:,1]>0), 'x', label=\"prediction\")\n",
    "    plt.legend(loc=0)\n",
    "    plt.show()\n",
    "    \n",
    "    "
   ]
  },
  {
   "cell_type": "code",
   "execution_count": 21,
   "id": "ed0f8f0d-7c10-40aa-be5d-922420644dd8",
   "metadata": {},
   "outputs": [
    {
     "data": {
      "application/vnd.jupyter.widget-view+json": {
       "model_id": "063f3821608f4381b63c9cadab19be34",
       "version_major": 2,
       "version_minor": 0
      },
      "image/png": "[encoded data removed]",
      "text/html": [
       "\n",
       "            <div style=\"display: inline-block;\">\n",
       "                <div class=\"jupyter-widgets widget-label\" style=\"text-align: center;\">\n",
       "                    Figure\n",
       "                </div>\n",
       "                <img src='data:image/png;base64,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' width=640.0/>\n",
       "            </div>\n",
       "        "
      ],
      "text/plain": [
       "Canvas(toolbar=Toolbar(toolitems=[('Home', 'Reset original view', 'home', 'home'), ('Back', 'Back to previous …"
      ]
     },
     "metadata": {},
     "output_type": "display_data"
    }
   ],
   "source": [
    "\n",
    "plot_shot_differences(Path(\"/home/juiwang/ai-badminton/data/tracknetv2_042022/profession_dataset/match10/shot/1_03_01_hit.csv\"))"
   ]
  },
  {
   "cell_type": "code",
   "execution_count": null,
   "id": "8ebeb5df-8523-458c-847c-82e05f5a6af5",
   "metadata": {},
   "outputs": [],
   "source": []
  },
  {
   "cell_type": "code",
   "execution_count": null,
   "id": "2b447789-3f76-4f58-b83c-670b6319203a",
   "metadata": {},
   "outputs": [],
   "source": []
  }
 ],
 "metadata": {
  "kernelspec": {
   "display_name": "ai-badminton with env",
   "language": "python",
   "name": "ai-badminton"
  },
  "language_info": {
   "codemirror_mode": {
    "name": "ipython",
    "version": 3
   },
   "file_extension": ".py",
   "mimetype": "text/x-python",
   "name": "python",
   "nbconvert_exporter": "python",
   "pygments_lexer": "ipython3",
   "version": "3.8.13"
  }
 },
 "nbformat": 4,
 "nbformat_minor": 5
}
