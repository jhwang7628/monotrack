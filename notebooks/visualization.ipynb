{
 "cells": [
  {
   "cell_type": "markdown",
   "id": "2d788159-b0fa-4665-b2ba-33ff38608073",
   "metadata": {},
   "source": [
    "# Create visualization from one video"
   ]
  },
  {
   "cell_type": "code",
   "execution_count": 29,
   "id": "957278d4-dd7e-4e98-aae2-f5f53caa00a0",
   "metadata": {},
   "outputs": [],
   "source": [
    "from ai_badminton.pose import read_player_poses\n",
    "from ai_badminton.court import read_court, court_points_to_corners, Court\n",
    "from ai_badminton.trajectory import Trajectory\n",
    "from ai_badminton.video_annotator import annotate_video\n",
    "\n",
    "import cv2\n",
    "\n",
    "import numpy as np\n",
    "from pathlib import Path"
   ]
  },
  {
   "cell_type": "markdown",
   "id": "863bd538-e2ab-4a7c-9cef-a07f135f632f",
   "metadata": {},
   "source": [
    "## Read different data"
   ]
  },
  {
   "cell_type": "code",
   "execution_count": 30,
   "id": "de11d7f0-c54e-4c20-ba89-e12cec881d89",
   "metadata": {},
   "outputs": [],
   "source": [
    "dataset_root = \"/home/juiwang/ai-badminton/data/tracknetv2_042022/profession_dataset\"\n",
    "prefix_template = dataset_root + \"/match1/%s/1_01_00\"\n",
    "\n",
    "poses = read_player_poses(prefix_template %(\"poses\"))\n",
    "\n",
    "court_pts = read_court((prefix_template %(\"court\")) + \".out\")\n",
    "court = Court(corners = court_points_to_corners(court_pts))\n",
    "\n",
    "trajectory = Trajectory((prefix_template %(\"ball_trajectory\")) + \"_ball.csv\")\n",
    "\n",
    "video_file = (prefix_template %(\"rally_video\")) + \".mp4\"\n",
    "cap = cv2.VideoCapture(video_file)\n",
    "assert cap.isOpened(), f\"Cannot open video {video_file}\""
   ]
  },
  {
   "cell_type": "code",
   "execution_count": 31,
   "id": "4569bcf4-3d0a-44de-bdf1-87159f72ff62",
   "metadata": {},
   "outputs": [
    {
     "data": {
      "application/vnd.jupyter.widget-view+json": {
       "model_id": "349096a102564e1a95c7a2e6508a2116",
       "version_major": 2,
       "version_minor": 0
      },
      "text/plain": [
       "  0%|          | 0/651 [00:00<?, ?it/s]"
      ]
     },
     "metadata": {},
     "output_type": "display_data"
    }
   ],
   "source": [
    "annotate_video(cap, court, poses, trajectory, outfile=\"./test.mp4\")"
   ]
  },
  {
   "cell_type": "markdown",
   "id": "04b3cc09-2751-4a97-a74f-6459d64e0660",
   "metadata": {},
   "source": [
    "# Create visualization from all videos in a match"
   ]
  },
  {
   "cell_type": "code",
   "execution_count": 32,
   "id": "2c4409e3-9203-45fd-981a-aaa75fc8fee8",
   "metadata": {},
   "outputs": [],
   "source": [
    "def annotate_all_videos(match_path):\n",
    "    rally_videos = (match_path / \"rally_video\").glob(\"*.mp4\")\n",
    "    video_names = [p.stem for p in rally_videos]\n",
    "    \n",
    "    for video_name in video_names:\n",
    "        print(f\"Processing video: {video_name}\")\n",
    "        poses = read_player_poses(str(match_path / \"poses\" / video_name))\n",
    "        \n",
    "        court_pts = read_court(str(match_path / \"court\" / (video_name + \".out\")))\n",
    "        court = Court(corners = court_points_to_corners(court_pts))\n",
    "\n",
    "        trajectory = Trajectory(str(match_path / \"ball_trajectory\" / (str(video_name) + \"_ball_predict.csv\")))\n",
    "\n",
    "        video_file = str(match_path / \"rally_video\" / (video_name + \".mp4\"))\n",
    "            \n",
    "        cap = cv2.VideoCapture(video_file)\n",
    "        assert cap.isOpened(), f\"Cannot open video {video_file}\"\n",
    "        \n",
    "        out_dir = match_path / \"annotated_2d\"\n",
    "        out_dir.mkdir(parents=True, exist_ok=True)\n",
    "        out_path = out_dir / (video_name + \".mp4\")\n",
    "        annotate_video(cap, court, poses, trajectory, outfile=str(out_path))\n"
   ]
  },
  {
   "cell_type": "code",
   "execution_count": 34,
   "id": "6a6d0f33-f3a2-4e13-a860-d073f38bc32f",
   "metadata": {},
   "outputs": [
    {
     "name": "stdout",
     "output_type": "stream",
     "text": [
      "Processing video: 1_01_00\n"
     ]
    },
    {
     "data": {
      "application/vnd.jupyter.widget-view+json": {
       "model_id": "2a888a1d5f5148bd8804dbd6c98278b9",
       "version_major": 2,
       "version_minor": 0
      },
      "text/plain": [
       "  0%|          | 0/651 [00:00<?, ?it/s]"
      ]
     },
     "metadata": {},
     "output_type": "display_data"
    },
    {
     "name": "stdout",
     "output_type": "stream",
     "text": [
      "Processing video: 1_02_04\n"
     ]
    },
    {
     "data": {
      "application/vnd.jupyter.widget-view+json": {
       "model_id": "c8f813a4f726453199cf178c4c4762ac",
       "version_major": 2,
       "version_minor": 0
      },
      "text/plain": [
       "  0%|          | 0/153 [00:00<?, ?it/s]"
      ]
     },
     "metadata": {},
     "output_type": "display_data"
    },
    {
     "name": "stdout",
     "output_type": "stream",
     "text": [
      "Processing video: 1_02_03\n"
     ]
    },
    {
     "data": {
      "application/vnd.jupyter.widget-view+json": {
       "model_id": "c6497202aa06423d9b12b164eddd2750",
       "version_major": 2,
       "version_minor": 0
      },
      "text/plain": [
       "  0%|          | 0/78 [00:00<?, ?it/s]"
      ]
     },
     "metadata": {},
     "output_type": "display_data"
    },
    {
     "name": "stdout",
     "output_type": "stream",
     "text": [
      "Processing video: 1_03_06\n"
     ]
    },
    {
     "data": {
      "application/vnd.jupyter.widget-view+json": {
       "model_id": "94d0e8b143db4a06949c50e26f0e910f",
       "version_major": 2,
       "version_minor": 0
      },
      "text/plain": [
       "  0%|          | 0/249 [00:00<?, ?it/s]"
      ]
     },
     "metadata": {},
     "output_type": "display_data"
    },
    {
     "name": "stdout",
     "output_type": "stream",
     "text": [
      "Processing video: 1_02_02\n"
     ]
    },
    {
     "data": {
      "application/vnd.jupyter.widget-view+json": {
       "model_id": "e78138fb86504d4883af6b3dac537566",
       "version_major": 2,
       "version_minor": 0
      },
      "text/plain": [
       "  0%|          | 0/258 [00:00<?, ?it/s]"
      ]
     },
     "metadata": {},
     "output_type": "display_data"
    },
    {
     "name": "stdout",
     "output_type": "stream",
     "text": [
      "Processing video: 1_02_01\n"
     ]
    },
    {
     "data": {
      "application/vnd.jupyter.widget-view+json": {
       "model_id": "a064984892e44a548fd3eef757b2e94f",
       "version_major": 2,
       "version_minor": 0
      },
      "text/plain": [
       "  0%|          | 0/195 [00:00<?, ?it/s]"
      ]
     },
     "metadata": {},
     "output_type": "display_data"
    },
    {
     "name": "stdout",
     "output_type": "stream",
     "text": [
      "Processing video: 1_06_09\n"
     ]
    },
    {
     "data": {
      "application/vnd.jupyter.widget-view+json": {
       "model_id": "9d03643e95db43759e252d97280b7944",
       "version_major": 2,
       "version_minor": 0
      },
      "text/plain": [
       "  0%|          | 0/453 [00:00<?, ?it/s]"
      ]
     },
     "metadata": {},
     "output_type": "display_data"
    },
    {
     "name": "stdout",
     "output_type": "stream",
     "text": [
      "Processing video: 1_03_05\n"
     ]
    },
    {
     "data": {
      "application/vnd.jupyter.widget-view+json": {
       "model_id": "f8768f7dfee047fbb52c28b092d627fe",
       "version_major": 2,
       "version_minor": 0
      },
      "text/plain": [
       "  0%|          | 0/357 [00:00<?, ?it/s]"
      ]
     },
     "metadata": {},
     "output_type": "display_data"
    },
    {
     "name": "stdout",
     "output_type": "stream",
     "text": [
      "Processing video: 1_06_08\n"
     ]
    },
    {
     "data": {
      "application/vnd.jupyter.widget-view+json": {
       "model_id": "9285a6a1ccd740148499374d54c80bda",
       "version_major": 2,
       "version_minor": 0
      },
      "text/plain": [
       "  0%|          | 0/99 [00:00<?, ?it/s]"
      ]
     },
     "metadata": {},
     "output_type": "display_data"
    },
    {
     "name": "stdout",
     "output_type": "stream",
     "text": [
      "Processing video: 1_06_06\n"
     ]
    },
    {
     "data": {
      "application/vnd.jupyter.widget-view+json": {
       "model_id": "bf0f06e1206e4bfc866a36269be7f415",
       "version_major": 2,
       "version_minor": 0
      },
      "text/plain": [
       "  0%|          | 0/156 [00:00<?, ?it/s]"
      ]
     },
     "metadata": {},
     "output_type": "display_data"
    },
    {
     "name": "stdout",
     "output_type": "stream",
     "text": [
      "Processing video: 1_02_00\n"
     ]
    },
    {
     "data": {
      "application/vnd.jupyter.widget-view+json": {
       "model_id": "466e706dc1304e87ba2d32177e070881",
       "version_major": 2,
       "version_minor": 0
      },
      "text/plain": [
       "  0%|          | 0/498 [00:00<?, ?it/s]"
      ]
     },
     "metadata": {},
     "output_type": "display_data"
    },
    {
     "name": "stdout",
     "output_type": "stream",
     "text": [
      "Processing video: 1_03_04\n"
     ]
    },
    {
     "data": {
      "application/vnd.jupyter.widget-view+json": {
       "model_id": "71e845a6710e416984b5bd6f13f56304",
       "version_major": 2,
       "version_minor": 0
      },
      "text/plain": [
       "  0%|          | 0/138 [00:00<?, ?it/s]"
      ]
     },
     "metadata": {},
     "output_type": "display_data"
    }
   ],
   "source": [
    "annotate_all_videos(Path(\"/home/juiwang/ai-badminton/data/tracknetv2_042022/profession_dataset/match1_cp/\"))"
   ]
  },
  {
   "cell_type": "code",
   "execution_count": null,
   "id": "197427fb-6165-464b-bab9-1305a8a96a50",
   "metadata": {},
   "outputs": [],
   "source": []
  }
 ],
 "metadata": {
  "kernelspec": {
   "display_name": "ai-badminton with env",
   "language": "python",
   "name": "ai-badminton"
  },
  "language_info": {
   "codemirror_mode": {
    "name": "ipython",
    "version": 3
   },
   "file_extension": ".py",
   "mimetype": "text/x-python",
   "name": "python",
   "nbconvert_exporter": "python",
   "pygments_lexer": "ipython3",
   "version": "3.8.13"
  }
 },
 "nbformat": 4,
 "nbformat_minor": 5
}
