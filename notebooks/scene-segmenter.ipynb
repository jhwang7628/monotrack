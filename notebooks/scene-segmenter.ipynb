{
 "cells": [
  {
   "cell_type": "code",
   "execution_count": 2,
   "id": "3381bd70-91e7-4089-b37c-521ad4a9f5b5",
   "metadata": {},
   "outputs": [],
   "source": [
    "%matplotlib inline\n",
    "\n",
    "import csv\n",
    "import pandas as pd\n",
    "import matplotlib.pyplot as plt\n",
    "import numpy as np\n",
    "import cv2\n",
    "\n",
    "root_name = 'anthony-ginting-beat-kento-momota-anthony-ginting-vs-kento-momota-fo-2019-hlzrivktbyo'\n",
    "\n",
    "csvfile = open('./data/%s.mp4.predictions.txt' % root_name, 'r')\n",
    "predictions = pd.read_csv(csvfile, delimiter=' ', header=None, names=['single', 'all'])\n",
    "\n",
    "csvfile = open('/home/code-base/user_space/shotcut_dist/output.txt')\n",
    "predictions = pd.read_csv(csvfile, header=None, names=['single'])"
   ]
  },
  {
   "cell_type": "code",
   "execution_count": 3,
   "id": "fc5bea95-5f63-4bf1-ab55-f4cb1a045942",
   "metadata": {},
   "outputs": [],
   "source": [
    "import numpy\n",
    "def smooth(x,window_len=11,window='hanning'):\n",
    "    if x.ndim != 1:\n",
    "        raise ValueError(\"smooth only accepts 1 dimension arrays.\")\n",
    "    if x.size < window_len:\n",
    "        raise ValueError(\"Input vector needs to be bigger than window size.\")\n",
    "    if window_len<3:\n",
    "        return x\n",
    "    if not window in ['flat', 'hanning', 'hamming', 'bartlett', 'blackman']:\n",
    "        raise ValueError(\"Window is on of 'flat', 'hanning', 'hamming', 'bartlett', 'blackman'\")\n",
    "    s=numpy.r_[2*x[0]-x[window_len-1::-1],x,2*x[-1]-x[-1:-window_len:-1]]\n",
    "    if window == 'flat': #moving average\n",
    "        w=numpy.ones(window_len,'d')\n",
    "    else:  \n",
    "        w=eval('numpy.'+window+'(window_len)')\n",
    "    y=numpy.convolve(w/w.sum(),s,mode='same')\n",
    "    return y[window_len:-window_len+1]"
   ]
  },
  {
   "cell_type": "code",
   "execution_count": 4,
   "id": "71d289a4-aee0-48ee-8797-0d23122046be",
   "metadata": {},
   "outputs": [
    {
     "data": {
      "image/png": "[encoded data removed]",
      "text/plain": [
       "<Figure size 432x288 with 1 Axes>"
      ]
     },
     "metadata": {
      "needs_background": "light"
     },
     "output_type": "display_data"
    }
   ],
   "source": [
    "delta = 3\n",
    "series = predictions['single'].values#smooth(predictions['single'].values, window_len=3, window='hamming')\n",
    "med = np.mean(series)\n",
    "std_med = np.mean((series - med)**2)**0.5\n",
    "\n",
    "L = 2000\n",
    "thresh = med + delta * std_med\n",
    "plt.plot(series[:L])\n",
    "plt.plot([thresh] * L)\n",
    "plt.show()"
   ]
  },
  {
   "cell_type": "code",
   "execution_count": 32,
   "id": "b36e8996-89f9-4034-b851-2d817d5f522d",
   "metadata": {},
   "outputs": [],
   "source": [
    "cap = cv2.VideoCapture('./data/%s.mp4' % root_name)\n",
    "width  = int(cap.get(cv2.CAP_PROP_FRAME_WIDTH))   # float `width`\n",
    "height = int(cap.get(cv2.CAP_PROP_FRAME_HEIGHT))  # float `height`\n",
    "fps = int(cap.get(cv2.CAP_PROP_FPS))"
   ]
  },
  {
   "cell_type": "code",
   "execution_count": null,
   "id": "9782dba8-2523-4f25-9248-1e7ef736bbd1",
   "metadata": {
    "tags": []
   },
   "outputs": [],
   "source": [
    "def visualize_list(coords):\n",
    "    for fid in coords:\n",
    "        cap.set(cv2.CAP_PROP_POS_FRAMES, fid)\n",
    "        ret, frame = cap.read()\n",
    "        plt.imshow(frame)   \n",
    "        plt.show()\n",
    "        \n",
    "cuts = [0] + np.where(series > thresh)[0].tolist() + [len(series) + 9]\n",
    "\n",
    "curr_rally, fid = 0, 0\n",
    "cap.set(cv2.CAP_PROP_POS_FRAMES, 0)\n",
    "outvid = cv2.VideoWriter(\n",
    "    './output/cuts/rally%d.mp4' % curr_rally, \n",
    "    cv2.VideoWriter_fourcc('M','P','4','V'), \n",
    "    fps, (width, height)\n",
    ")\n",
    "\n",
    "while True:\n",
    "    ret, frame = cap.read()\n",
    "    if not ret:\n",
    "        break    \n",
    "    outvid.write(frame)\n",
    "    \n",
    "    fid += 1\n",
    "    if fid == cuts[curr_rally + 1]:\n",
    "        outvid.release()\n",
    "        curr_rally += 1\n",
    "        outvid = cv2.VideoWriter(\n",
    "            './output/cuts/rally%d.mp4' % curr_rally, \n",
    "            cv2.VideoWriter_fourcc('M','P','4','V'), \n",
    "            fps, (width, height)\n",
    "        )\n",
    "outvid.release()"
   ]
  },
  {
   "cell_type": "code",
   "execution_count": 13,
   "id": "8816cc01-c2c5-4083-b072-322ca5adc807",
   "metadata": {},
   "outputs": [
    {
     "data": {
      "text/html": [
       "\n",
       "<video alt=\"test\" controls>\n",
       "    <source src=\"./data/anthony-ginting-beat-kento-momota-anthony-ginting-vs-kento-momota-fo-2019-hlzrivktbyo.mp4\">\n",
       "</video>\n"
      ],
      "text/plain": [
       "<IPython.core.display.HTML object>"
      ]
     },
     "execution_count": 13,
     "metadata": {},
     "output_type": "execute_result"
    }
   ],
   "source": [
    "from IPython.display import HTML\n",
    "\n",
    "HTML(\n",
    "\"\"\"\n",
    "<video alt=\"test\" controls>\n",
    "    <source src=\"./data/%s.mp4\">\n",
    "</video>\n",
    "\"\"\" % root_name\n",
    ")"
   ]
  },
  {
   "cell_type": "code",
   "execution_count": 18,
   "id": "bde938b0-234a-4dad-b4a9-5671c82b4e81",
   "metadata": {},
   "outputs": [
    {
     "data": {
      "image/png": "[encoded data removed]",
      "text/plain": [
       "<Figure size 1296x432 with 1 Axes>"
      ]
     },
     "metadata": {
      "needs_background": "light"
     },
     "output_type": "display_data"
    }
   ],
   "source": [
    "# Some outlier detection programs\n",
    "from sklearn.ensemble import IsolationForest\n",
    "\n",
    "outliers_fraction = 0.05\n",
    "model =  IsolationForest(contamination=outliers_fraction)\n",
    "model.fit(predictions.values.reshape(-1, 1))\n",
    "predictions['anomaly'] = pd.Series(model.predict(predictions.values.reshape(-1, 1)))\n",
    "\n",
    "# visualization\n",
    "a = predictions.loc[predictions['anomaly'] == -1] #anomaly\n",
    "_ = plt.figure(figsize=(18,6))\n",
    "_ = plt.plot(predictions['all'], color='blue', label='Normal')\n",
    "_ = plt.plot(a['all'], linestyle='none', marker='X', color='red', markersize=12, label='Anomaly')\n",
    "plt.show()"
   ]
  },
  {
   "cell_type": "code",
   "execution_count": 22,
   "id": "6566a360-0704-479a-97d2-076b157eef13",
   "metadata": {},
   "outputs": [
    {
     "data": {
      "text/html": [
       "<div>\n",
       "<style scoped>\n",
       "    .dataframe tbody tr th:only-of-type {\n",
       "        vertical-align: middle;\n",
       "    }\n",
       "\n",
       "    .dataframe tbody tr th {\n",
       "        vertical-align: top;\n",
       "    }\n",
       "\n",
       "    .dataframe thead th {\n",
       "        text-align: right;\n",
       "    }\n",
       "</style>\n",
       "<table border=\"1\" class=\"dataframe\">\n",
       "  <thead>\n",
       "    <tr style=\"text-align: right;\">\n",
       "      <th></th>\n",
       "      <th>single</th>\n",
       "      <th>all</th>\n",
       "      <th>anomaly</th>\n",
       "    </tr>\n",
       "  </thead>\n",
       "  <tbody>\n",
       "    <tr>\n",
       "      <th>0</th>\n",
       "      <td>0.000047</td>\n",
       "      <td>0.000641</td>\n",
       "      <td>1</td>\n",
       "    </tr>\n",
       "    <tr>\n",
       "      <th>1</th>\n",
       "      <td>0.000060</td>\n",
       "      <td>0.000825</td>\n",
       "      <td>1</td>\n",
       "    </tr>\n",
       "    <tr>\n",
       "      <th>2</th>\n",
       "      <td>0.000065</td>\n",
       "      <td>0.000900</td>\n",
       "      <td>1</td>\n",
       "    </tr>\n",
       "    <tr>\n",
       "      <th>3</th>\n",
       "      <td>0.000084</td>\n",
       "      <td>0.001061</td>\n",
       "      <td>1</td>\n",
       "    </tr>\n",
       "    <tr>\n",
       "      <th>4</th>\n",
       "      <td>0.000089</td>\n",
       "      <td>0.001011</td>\n",
       "      <td>1</td>\n",
       "    </tr>\n",
       "    <tr>\n",
       "      <th>...</th>\n",
       "      <td>...</td>\n",
       "      <td>...</td>\n",
       "      <td>...</td>\n",
       "    </tr>\n",
       "    <tr>\n",
       "      <th>95</th>\n",
       "      <td>0.000147</td>\n",
       "      <td>0.001708</td>\n",
       "      <td>1</td>\n",
       "    </tr>\n",
       "    <tr>\n",
       "      <th>96</th>\n",
       "      <td>0.000168</td>\n",
       "      <td>0.001931</td>\n",
       "      <td>1</td>\n",
       "    </tr>\n",
       "    <tr>\n",
       "      <th>97</th>\n",
       "      <td>0.000133</td>\n",
       "      <td>0.001434</td>\n",
       "      <td>1</td>\n",
       "    </tr>\n",
       "    <tr>\n",
       "      <th>98</th>\n",
       "      <td>0.000137</td>\n",
       "      <td>0.001433</td>\n",
       "      <td>1</td>\n",
       "    </tr>\n",
       "    <tr>\n",
       "      <th>99</th>\n",
       "      <td>0.000120</td>\n",
       "      <td>0.001068</td>\n",
       "      <td>1</td>\n",
       "    </tr>\n",
       "  </tbody>\n",
       "</table>\n",
       "<p>100 rows × 3 columns</p>\n",
       "</div>"
      ],
      "text/plain": [
       "      single       all  anomaly\n",
       "0   0.000047  0.000641        1\n",
       "1   0.000060  0.000825        1\n",
       "2   0.000065  0.000900        1\n",
       "3   0.000084  0.001061        1\n",
       "4   0.000089  0.001011        1\n",
       "..       ...       ...      ...\n",
       "95  0.000147  0.001708        1\n",
       "96  0.000168  0.001931        1\n",
       "97  0.000133  0.001434        1\n",
       "98  0.000137  0.001433        1\n",
       "99  0.000120  0.001068        1\n",
       "\n",
       "[100 rows x 3 columns]"
      ]
     },
     "execution_count": 22,
     "metadata": {},
     "output_type": "execute_result"
    }
   ],
   "source": [
    "predictions[:100]"
   ]
  },
  {
   "cell_type": "code",
   "execution_count": null,
   "id": "dd38117d-709e-4b27-9dad-19e3e969986c",
   "metadata": {},
   "outputs": [],
   "source": []
  }
 ],
 "metadata": {
  "kernelspec": {
   "display_name": "Python 3",
   "language": "python",
   "name": "python3"
  },
  "language_info": {
   "codemirror_mode": {
    "name": "ipython",
    "version": 3
   },
   "file_extension": ".py",
   "mimetype": "text/x-python",
   "name": "python",
   "nbconvert_exporter": "python",
   "pygments_lexer": "ipython3",
   "version": "3.8.5"
  }
 },
 "nbformat": 4,
 "nbformat_minor": 5
}
