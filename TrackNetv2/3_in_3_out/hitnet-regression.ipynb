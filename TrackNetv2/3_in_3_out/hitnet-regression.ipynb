{
 "cells": [
  {
   "cell_type": "code",
   "execution_count": 1,
   "metadata": {},
   "outputs": [],
   "source": [
    "%matplotlib widget\n",
    "%load_ext autoreload\n",
    "%autoreload 2"
   ]
  },
  {
   "cell_type": "markdown",
   "metadata": {},
   "source": [
    "# Pixel coordinates-only net"
   ]
  },
  {
   "cell_type": "code",
   "execution_count": null,
   "metadata": {
    "tags": []
   },
   "outputs": [],
   "source": [
    "# Build model\n",
    "dropout = 0.3\n",
    "num_consec = 5\n",
    "input_layer = Input(shape=(num_consec * 2,))\n",
    "x = Dense(\n",
    "    128, \n",
    "    activation='relu',\n",
    "    kernel_regularizer=tf.contrib.layers.l2_regularizer(scale=1e-7)\n",
    ")(input_layer)\n",
    "# x = Dropout(dropout)(x)\n",
    "x = Dense(\n",
    "    64, \n",
    "    activation='relu',\n",
    "#     kernel_regularizer=tf.contrib.layers.l2_regularizer(scale=1e-7)\n",
    ")(x)\n",
    "x = Dense(\n",
    "    32, \n",
    "    activation='relu',\n",
    "#     kernel_regularizer=tf.contrib.layers.l2_regularizer(scale=1e-7)\n",
    ")(x)\n",
    "x = Dense(\n",
    "    16, \n",
    "    activation='relu',\n",
    "#     kernel_regularizer=tf.contrib.layers.l2_regularizer(scale=1e-7)\n",
    ")(x)\n",
    "output_layer = Dense(\n",
    "    1, \n",
    "    activation='sigmoid',\n",
    "#     kernel_regularizer=tf.contrib.layers.l2_regularizer(scale=1e-7)\n",
    ")(x)\n",
    "\n",
    "model = Model(input_layer, output_layer)"
   ]
  },
  {
   "cell_type": "code",
   "execution_count": null,
   "metadata": {
    "tags": []
   },
   "outputs": [],
   "source": [
    "opt = optimizers.Adam(lr=1e-6)\n",
    "model.compile(\n",
    "    optimizer='adam', \n",
    "    loss=\"binary_crossentropy\",\n",
    "    metrics=['accuracy']\n",
    ")\n",
    "model.summary()"
   ]
  },
  {
   "cell_type": "code",
   "execution_count": null,
   "metadata": {
    "tags": []
   },
   "outputs": [],
   "source": [
    "def diffuse(x):\n",
    "    for i in range(x.shape[0]):\n",
    "        val = 0\n",
    "        if i > 0:\n",
    "            val += x[i-1]\n",
    "        if i < x.shape[0]-1:\n",
    "            val += x[i+1]\n",
    "        x[i] = max(x[i], val/2.)\n",
    "    return x"
   ]
  },
  {
   "cell_type": "code",
   "execution_count": null,
   "metadata": {
    "tags": []
   },
   "outputs": [],
   "source": [
    "matches = list('match' + str(i) for i in range(1, 23))\n",
    "\n",
    "x_train, y_train = [], []\n",
    "for match in matches:\n",
    "    for video in os.listdir('/home/code-base/scratch_space/data/%s/rally_video/' % match):\n",
    "        rally, _ = os.path.splitext(video)\n",
    "        trajectory = pd.read_csv('/home/code-base/scratch_space/data/%s/ball_trajectory/%s_ball.csv' % (match, rally))\n",
    "        hit = pd.read_csv('/home/code-base/scratch_space/data/%s/shot/%s_hit.csv' % (match, rally))\n",
    "        trajectory[trajectory.X == 0] = float('nan')\n",
    "        trajectory[trajectory.Y == 0] = float('nan')\n",
    "        \n",
    "        trajectory = trajectory.assign(X=trajectory.X.interpolate(method='slinear'))\n",
    "        trajectory = trajectory.assign(Y=trajectory.Y.interpolate(method='slinear'))\n",
    "        trajectory.fillna(method='bfill', inplace=True)\n",
    "        trajectory.fillna(method='ffill', inplace=True)\n",
    "        \n",
    "        x_list, y_list = [], []\n",
    "        for i in range(num_consec):\n",
    "            end = min(len(trajectory.X), len(hit.hit))-num_consec+i+1\n",
    "            x = np.array(list(zip(trajectory.X[i:end], trajectory.Y[i:end])))\n",
    "            y = hit.hit[i:end].to_numpy().astype(float)\n",
    "            x_list.append(x)\n",
    "            y_list.append(y)\n",
    "        \n",
    "        x_t = np.hstack(x_list)\n",
    "        y_t = np.sum(np.column_stack(y_list[1:-1]), axis=1)\n",
    "        x_train.append(x_t)\n",
    "        y_train.append(y_t)\n",
    "\n",
    "x_train = np.vstack(x_train)\n",
    "y_train = np.hstack(y_train)\n",
    "\n",
    "Xb, Yb = trajectory.X.tolist(), trajectory.Y.tolist()\n",
    "plt.plot(range(400), Yb[:400])\n",
    "plt.plot(range(400), Xb[:400])\n",
    "plt.show()"
   ]
  },
  {
   "cell_type": "code",
   "execution_count": null,
   "metadata": {
    "tags": []
   },
   "outputs": [],
   "source": [
    "import ruptures as rpt\n",
    "rpt.display(trajectory.Y, hit.index[hit.hit == 1].tolist(), hit.index[hit.hit == 1].tolist())\n",
    "rpt.display(trajectory.X, hit.index[hit.hit == 1].tolist(), hit.index[hit.hit == 1].tolist())\n",
    "\n",
    "plt.show()"
   ]
  },
  {
   "cell_type": "code",
   "execution_count": null,
   "metadata": {
    "tags": []
   },
   "outputs": [],
   "source": [
    "import random\n",
    "\n",
    "p = sum(y_train == 1) / sum(y_train == 0)\n",
    "subsample = []\n",
    "for i in range(x_train.shape[0]):\n",
    "    if random.random() < p or y_train[i]:\n",
    "        subsample.append(i)\n",
    "\n",
    "x_sub = x_train[subsample]\n",
    "y_sub = y_train[subsample]"
   ]
  },
  {
   "cell_type": "code",
   "execution_count": null,
   "metadata": {
    "scrolled": true,
    "tags": []
   },
   "outputs": [],
   "source": [
    "from sklearn.utils import class_weight\n",
    "from sklearn.metrics import classification_report\n",
    "\n",
    "# cw = class_weight.compute_class_weight('balanced', [0,1], y_train)\n",
    "model.fit(\n",
    "    x_sub, y_sub, \n",
    "    batch_size=64, \n",
    "    epochs=1000,\n",
    "#     class_weight={0: cw[0] / sum(cw), 1: 1.5 * cw[1] / sum(cw)},\n",
    "    shuffle=True,\n",
    "    validation_split=0.1,\n",
    "    verbose=1)"
   ]
  },
  {
   "cell_type": "code",
   "execution_count": null,
   "metadata": {
    "tags": []
   },
   "outputs": [],
   "source": [
    "y_pred = np.round(model.predict(x_train) > 0.9)\n",
    "print(classification_report(y_train, y_pred))"
   ]
  },
  {
   "cell_type": "code",
   "execution_count": null,
   "metadata": {
    "tags": []
   },
   "outputs": [],
   "source": [
    "import keras\n",
    "keras.models.save_model(model, './hitnet_weights')"
   ]
  },
  {
   "cell_type": "markdown",
   "metadata": {},
   "source": [
    "# Incorporating pose and court information\n",
    "## (Generating and separating pose into top and bottom)"
   ]
  },
  {
   "cell_type": "code",
   "execution_count": 1,
   "metadata": {
    "tags": []
   },
   "outputs": [],
   "source": [
    "from ai_badminton.pose import Pose, read_player_poses, process_pose_file\n",
    "from ai_badminton.court import Court, read_court\n",
    "from ai_badminton.trajectory import Trajectory\n",
    "from ai_badminton.video_annotator import annotate_video"
   ]
  },
  {
   "cell_type": "code",
   "execution_count": 3,
   "metadata": {
    "collapsed": true,
    "jupyter": {
     "outputs_hidden": true
    },
    "tags": []
   },
   "outputs": [
    {
     "data": {
      "application/vnd.jupyter.widget-view+json": {
       "model_id": "8a5e6a4097c740ac82b5bbc51f1d8890",
       "version_major": 2,
       "version_minor": 0
      },
      "text/plain": [
       "Canvas(toolbar=Toolbar(toolitems=[('Home', 'Reset original view', 'home', 'home'), ('Back', 'Back to previous …"
      ]
     },
     "metadata": {},
     "output_type": "display_data"
    },
    {
     "data": {
      "application/vnd.jupyter.widget-view+json": {
       "model_id": "c4207352b4b84cc6b1cc0aca2a077e54",
       "version_major": 2,
       "version_minor": 0
      },
      "text/plain": [
       "Canvas(toolbar=Toolbar(toolitems=[('Home', 'Reset original view', 'home', 'home'), ('Back', 'Back to previous …"
      ]
     },
     "metadata": {},
     "output_type": "display_data"
    },
    {
     "data": {
      "application/vnd.jupyter.widget-view+json": {
       "model_id": "bee847e857304c278ad1bd029a6de4fe",
       "version_major": 2,
       "version_minor": 0
      },
      "text/plain": [
       "Canvas(toolbar=Toolbar(toolitems=[('Home', 'Reset original view', 'home', 'home'), ('Back', 'Back to previous …"
      ]
     },
     "metadata": {},
     "output_type": "display_data"
    },
    {
     "data": {
      "application/vnd.jupyter.widget-view+json": {
       "model_id": "2a6c73b27f43487fa718cf92e4d8cf78",
       "version_major": 2,
       "version_minor": 0
      },
      "text/plain": [
       "Canvas(toolbar=Toolbar(toolitems=[('Home', 'Reset original view', 'home', 'home'), ('Back', 'Back to previous …"
      ]
     },
     "metadata": {},
     "output_type": "display_data"
    },
    {
     "data": {
      "application/vnd.jupyter.widget-view+json": {
       "model_id": "ae2f4fcd8181443ba99f8bcb03caec79",
       "version_major": 2,
       "version_minor": 0
      },
      "text/plain": [
       "Canvas(toolbar=Toolbar(toolitems=[('Home', 'Reset original view', 'home', 'home'), ('Back', 'Back to previous …"
      ]
     },
     "metadata": {},
     "output_type": "display_data"
    },
    {
     "data": {
      "application/vnd.jupyter.widget-view+json": {
       "model_id": "87ef16633f7f4524a2d9d70bc68b3ab6",
       "version_major": 2,
       "version_minor": 0
      },
      "text/plain": [
       "Canvas(toolbar=Toolbar(toolitems=[('Home', 'Reset original view', 'home', 'home'), ('Back', 'Back to previous …"
      ]
     },
     "metadata": {},
     "output_type": "display_data"
    },
    {
     "data": {
      "application/vnd.jupyter.widget-view+json": {
       "model_id": "6e40a5c9410e4339883e0f7534ee09e5",
       "version_major": 2,
       "version_minor": 0
      },
      "text/plain": [
       "Canvas(toolbar=Toolbar(toolitems=[('Home', 'Reset original view', 'home', 'home'), ('Back', 'Back to previous …"
      ]
     },
     "metadata": {},
     "output_type": "display_data"
    },
    {
     "data": {
      "application/vnd.jupyter.widget-view+json": {
       "model_id": "751fb515e3244b6693c7962200a46013",
       "version_major": 2,
       "version_minor": 0
      },
      "text/plain": [
       "Canvas(toolbar=Toolbar(toolitems=[('Home', 'Reset original view', 'home', 'home'), ('Back', 'Back to previous …"
      ]
     },
     "metadata": {},
     "output_type": "display_data"
    },
    {
     "data": {
      "application/vnd.jupyter.widget-view+json": {
       "model_id": "45cdb9517fb045839bd4f2b9757b35e8",
       "version_major": 2,
       "version_minor": 0
      },
      "text/plain": [
       "Canvas(toolbar=Toolbar(toolitems=[('Home', 'Reset original view', 'home', 'home'), ('Back', 'Back to previous …"
      ]
     },
     "metadata": {},
     "output_type": "display_data"
    },
    {
     "data": {
      "application/vnd.jupyter.widget-view+json": {
       "model_id": "59f92b28224c47fe8af9283b1301326c",
       "version_major": 2,
       "version_minor": 0
      },
      "text/plain": [
       "Canvas(toolbar=Toolbar(toolitems=[('Home', 'Reset original view', 'home', 'home'), ('Back', 'Back to previous …"
      ]
     },
     "metadata": {},
     "output_type": "display_data"
    },
    {
     "data": {
      "application/vnd.jupyter.widget-view+json": {
       "model_id": "4d82d1565885426c9e0f9a69741e4ead",
       "version_major": 2,
       "version_minor": 0
      },
      "text/plain": [
       "Canvas(toolbar=Toolbar(toolitems=[('Home', 'Reset original view', 'home', 'home'), ('Back', 'Back to previous …"
      ]
     },
     "metadata": {},
     "output_type": "display_data"
    },
    {
     "data": {
      "application/vnd.jupyter.widget-view+json": {
       "model_id": "d1ff53a3433f49a892084fc973daeafc",
       "version_major": 2,
       "version_minor": 0
      },
      "text/plain": [
       "Canvas(toolbar=Toolbar(toolitems=[('Home', 'Reset original view', 'home', 'home'), ('Back', 'Back to previous …"
      ]
     },
     "metadata": {},
     "output_type": "display_data"
    },
    {
     "data": {
      "application/vnd.jupyter.widget-view+json": {
       "model_id": "43ece8544c3d41988ff6ccbb796ef369",
       "version_major": 2,
       "version_minor": 0
      },
      "text/plain": [
       "Canvas(toolbar=Toolbar(toolitems=[('Home', 'Reset original view', 'home', 'home'), ('Back', 'Back to previous …"
      ]
     },
     "metadata": {},
     "output_type": "display_data"
    },
    {
     "data": {
      "application/vnd.jupyter.widget-view+json": {
       "model_id": "738141227bcf4b8b9df799a2098e6401",
       "version_major": 2,
       "version_minor": 0
      },
      "text/plain": [
       "Canvas(toolbar=Toolbar(toolitems=[('Home', 'Reset original view', 'home', 'home'), ('Back', 'Back to previous …"
      ]
     },
     "metadata": {},
     "output_type": "display_data"
    },
    {
     "data": {
      "application/vnd.jupyter.widget-view+json": {
       "model_id": "3ab25a2149374f4aa7e19d5068e7939b",
       "version_major": 2,
       "version_minor": 0
      },
      "text/plain": [
       "Canvas(toolbar=Toolbar(toolitems=[('Home', 'Reset original view', 'home', 'home'), ('Back', 'Back to previous …"
      ]
     },
     "metadata": {},
     "output_type": "display_data"
    },
    {
     "data": {
      "application/vnd.jupyter.widget-view+json": {
       "model_id": "14a4b7f7f6d84a839002babc97cf2260",
       "version_major": 2,
       "version_minor": 0
      },
      "text/plain": [
       "Canvas(toolbar=Toolbar(toolitems=[('Home', 'Reset original view', 'home', 'home'), ('Back', 'Back to previous …"
      ]
     },
     "metadata": {},
     "output_type": "display_data"
    },
    {
     "data": {
      "application/vnd.jupyter.widget-view+json": {
       "model_id": "2871e7779f364b00b3819108b00a9cd0",
       "version_major": 2,
       "version_minor": 0
      },
      "text/plain": [
       "Canvas(toolbar=Toolbar(toolitems=[('Home', 'Reset original view', 'home', 'home'), ('Back', 'Back to previous …"
      ]
     },
     "metadata": {},
     "output_type": "display_data"
    },
    {
     "data": {
      "application/vnd.jupyter.widget-view+json": {
       "model_id": "50eb0242f75b43f8a9ab62c0bb153c0e",
       "version_major": 2,
       "version_minor": 0
      },
      "text/plain": [
       "Canvas(toolbar=Toolbar(toolitems=[('Home', 'Reset original view', 'home', 'home'), ('Back', 'Back to previous …"
      ]
     },
     "metadata": {},
     "output_type": "display_data"
    },
    {
     "data": {
      "application/vnd.jupyter.widget-view+json": {
       "model_id": "c7a0e60ade42498d9e0f3ec76beb6ba9",
       "version_major": 2,
       "version_minor": 0
      },
      "text/plain": [
       "Canvas(toolbar=Toolbar(toolitems=[('Home', 'Reset original view', 'home', 'home'), ('Back', 'Back to previous …"
      ]
     },
     "metadata": {},
     "output_type": "display_data"
    },
    {
     "data": {
      "application/vnd.jupyter.widget-view+json": {
       "model_id": "940925d7163f4f9fa78a0b59b4fec90a",
       "version_major": 2,
       "version_minor": 0
      },
      "text/plain": [
       "Canvas(toolbar=Toolbar(toolitems=[('Home', 'Reset original view', 'home', 'home'), ('Back', 'Back to previous …"
      ]
     },
     "metadata": {},
     "output_type": "display_data"
    },
    {
     "name": "stderr",
     "output_type": "stream",
     "text": [
      "<ipython-input-3-a0a7a1051503>:31: RuntimeWarning: More than 20 figures have been opened. Figures created through the pyplot interface (`matplotlib.pyplot.figure`) are retained until explicitly closed and may consume too much memory. (To control this warning, see the rcParam `figure.max_open_warning`).\n",
      "  fig = plt.figure()\n"
     ]
    },
    {
     "data": {
      "application/vnd.jupyter.widget-view+json": {
       "model_id": "ffc49386bb2d44eda96a3708f368ce34",
       "version_major": 2,
       "version_minor": 0
      },
      "text/plain": [
       "Canvas(toolbar=Toolbar(toolitems=[('Home', 'Reset original view', 'home', 'home'), ('Back', 'Back to previous …"
      ]
     },
     "metadata": {},
     "output_type": "display_data"
    },
    {
     "data": {
      "application/vnd.jupyter.widget-view+json": {
       "model_id": "e85856e0e907415fb6698cf2e659bf58",
       "version_major": 2,
       "version_minor": 0
      },
      "text/plain": [
       "Canvas(toolbar=Toolbar(toolitems=[('Home', 'Reset original view', 'home', 'home'), ('Back', 'Back to previous …"
      ]
     },
     "metadata": {},
     "output_type": "display_data"
    }
   ],
   "source": [
    "import cv2\n",
    "import matplotlib.pyplot as plt\n",
    "import numpy as np\n",
    "import pandas as pd\n",
    "\n",
    "match = 'match21'\n",
    "rally = '1_02_01'\n",
    "\n",
    "import os\n",
    "matches = list('match' + str(i) for i in range(1, 23))\n",
    "\n",
    "for match in matches:\n",
    "    for video in os.listdir('/home/code-base/scratch_space/data/%s/rally_video/' % match):\n",
    "        rally, _ = os.path.splitext(video)\n",
    "        \n",
    "        court_pts = read_court('/home/code-base/scratch_space/data/%s/court/%s.out' % (match, rally))\n",
    "        corners = [court_pts[1], court_pts[2], court_pts[0], court_pts[3]]\n",
    "    \n",
    "        def draw_court(corners):\n",
    "            # Draws the court once we have the three corners\n",
    "            court = Court(corners)\n",
    "            frames[-1] = court.draw_lines(frames[-1])\n",
    "            plt.imshow(frames[-1])\n",
    "            plt.title(match)\n",
    "   \n",
    "        cap = cv2.VideoCapture('/home/code-base/scratch_space/data/%s/rally_video/%s.mp4' % (match, rally))\n",
    "        if cap.isOpened() is False:\n",
    "            print('Error opening video stream or file')\n",
    "\n",
    "        ret, frame = cap.read()\n",
    "        fig = plt.figure()\n",
    "        frames = [frame]\n",
    "\n",
    "        draw_court(corners)\n",
    "        break\n",
    "court = Court(corners)"
   ]
  },
  {
   "cell_type": "code",
   "execution_count": 4,
   "metadata": {
    "collapsed": true,
    "jupyter": {
     "outputs_hidden": true
    },
    "tags": []
   },
   "outputs": [
    {
     "name": "stdout",
     "output_type": "stream",
     "text": [
      "Read in files. Processing poses...\n"
     ]
    },
    {
     "data": {
      "application/vnd.jupyter.widget-view+json": {
       "model_id": "bf81c312473c40a5932adbaaf1f9df64",
       "version_major": 2,
       "version_minor": 0
      },
      "text/plain": [
       "  0%|          | 0/267586 [00:00<?, ?it/s]"
      ]
     },
     "metadata": {},
     "output_type": "display_data"
    },
    {
     "name": "stdout",
     "output_type": "stream",
     "text": [
      "Separating top and bottom poses...\n",
      "Done!\n"
     ]
    }
   ],
   "source": [
    "poses = process_pose_file(\n",
    "    '/home/code-base/scratch_space/data/%s/poses/%s.out' % (match, rally), \n",
    "    '/home/code-base/scratch_space/data/%s/poses/%s' % (match, rally), \n",
    "    court,\n",
    "    fullPose=True\n",
    ")"
   ]
  },
  {
   "cell_type": "code",
   "execution_count": 8,
   "metadata": {
    "collapsed": true,
    "jupyter": {
     "outputs_hidden": true
    },
    "tags": []
   },
   "outputs": [
    {
     "name": "stdout",
     "output_type": "stream",
     "text": [
      "/trainman-mount/trainman-k8s-storage-6677a55e-8792-44ee-923d-9ed5edea05ca/ai-badminton/TrackNetv2/3_in_3_out\n"
     ]
    }
   ],
   "source": [
    "import os\n",
    "print(os.getcwd())"
   ]
  },
  {
   "cell_type": "code",
   "execution_count": 7,
   "metadata": {
    "tags": []
   },
   "outputs": [
    {
     "data": {
      "application/vnd.jupyter.widget-view+json": {
       "model_id": "7d8a75ddb3d443aca74864ea9fba0b36",
       "version_major": 2,
       "version_minor": 0
      },
      "text/plain": [
       "  0%|          | 0/646 [00:00<?, ?it/s]"
      ]
     },
     "metadata": {},
     "output_type": "display_data"
    }
   ],
   "source": [
    "trajectory = Trajectory('/home/code-base/scratch_space/data/%s/ball_trajectory/%s_ball.csv' % (match, rally))\n",
    "poses = read_player_poses('/home/code-base/scratch_space/data/%s/poses/%s' % (match, rally))\n",
    "annotate_video(\n",
    "    cap,\n",
    "    court,\n",
    "    poses,\n",
    "    trajectory,\n",
    ")"
   ]
  },
  {
   "cell_type": "code",
   "execution_count": 5,
   "metadata": {
    "collapsed": true,
    "jupyter": {
     "outputs_hidden": true
    },
    "tags": []
   },
   "outputs": [
    {
     "name": "stdout",
     "output_type": "stream",
     "text": [
      "match1 1_02_00\n",
      "Read in files. Processing poses...\n"
     ]
    },
    {
     "data": {
      "application/vnd.jupyter.widget-view+json": {
       "model_id": "45d7348e496a46549764cc6d92c19259",
       "version_major": 2,
       "version_minor": 0
      },
      "text/plain": [
       "  0%|          | 0/152150 [00:00<?, ?it/s]"
      ]
     },
     "metadata": {},
     "output_type": "display_data"
    },
    {
     "name": "stdout",
     "output_type": "stream",
     "text": [
      "Separating top and bottom poses...\n",
      "Done!\n",
      "match1 1_02_04\n",
      "Read in files. Processing poses...\n"
     ]
    },
    {
     "data": {
      "application/vnd.jupyter.widget-view+json": {
       "model_id": "b8619b70dddf493b86730cf34a145d6d",
       "version_major": 2,
       "version_minor": 0
      },
      "text/plain": [
       "  0%|          | 0/49402 [00:00<?, ?it/s]"
      ]
     },
     "metadata": {},
     "output_type": "display_data"
    },
    {
     "name": "stdout",
     "output_type": "stream",
     "text": [
      "Separating top and bottom poses...\n",
      "Done!\n",
      "match1 1_06_08\n",
      "Read in files. Processing poses...\n"
     ]
    },
    {
     "data": {
      "application/vnd.jupyter.widget-view+json": {
       "model_id": "379fae112911490c8cc04681cf4be2d9",
       "version_major": 2,
       "version_minor": 0
      },
      "text/plain": [
       "  0%|          | 0/31131 [00:00<?, ?it/s]"
      ]
     },
     "metadata": {},
     "output_type": "display_data"
    },
    {
     "name": "stdout",
     "output_type": "stream",
     "text": [
      "Separating top and bottom poses...\n",
      "Done!\n",
      "match1 1_02_02\n",
      "Read in files. Processing poses...\n"
     ]
    },
    {
     "data": {
      "application/vnd.jupyter.widget-view+json": {
       "model_id": "95576906df68473997b5a0acefff6b5c",
       "version_major": 2,
       "version_minor": 0
      },
      "text/plain": [
       "  0%|          | 0/86695 [00:00<?, ?it/s]"
      ]
     },
     "metadata": {},
     "output_type": "display_data"
    },
    {
     "name": "stdout",
     "output_type": "stream",
     "text": [
      "Separating top and bottom poses...\n",
      "Done!\n",
      "match1 1_06_06\n",
      "Read in files. Processing poses...\n"
     ]
    },
    {
     "data": {
      "application/vnd.jupyter.widget-view+json": {
       "model_id": "8e7b41e102b441749c6bd41cb0b28467",
       "version_major": 2,
       "version_minor": 0
      },
      "text/plain": [
       "  0%|          | 0/51908 [00:00<?, ?it/s]"
      ]
     },
     "metadata": {},
     "output_type": "display_data"
    },
    {
     "name": "stdout",
     "output_type": "stream",
     "text": [
      "Separating top and bottom poses...\n",
      "Done!\n",
      "match1 1_03_05\n",
      "Read in files. Processing poses...\n"
     ]
    },
    {
     "data": {
      "application/vnd.jupyter.widget-view+json": {
       "model_id": "aa99602cf9c24dafa45889d7d5c58c95",
       "version_major": 2,
       "version_minor": 0
      },
      "text/plain": [
       "  0%|          | 0/106829 [00:00<?, ?it/s]"
      ]
     },
     "metadata": {},
     "output_type": "display_data"
    },
    {
     "name": "stdout",
     "output_type": "stream",
     "text": [
      "Separating top and bottom poses...\n",
      "Done!\n",
      "match1 1_02_01\n",
      "Read in files. Processing poses...\n"
     ]
    },
    {
     "data": {
      "application/vnd.jupyter.widget-view+json": {
       "model_id": "959c621b7afa499883462bdffe28f071",
       "version_major": 2,
       "version_minor": 0
      },
      "text/plain": [
       "  0%|          | 0/67390 [00:00<?, ?it/s]"
      ]
     },
     "metadata": {},
     "output_type": "display_data"
    },
    {
     "name": "stdout",
     "output_type": "stream",
     "text": [
      "Separating top and bottom poses...\n",
      "Done!\n",
      "match1 1_03_04\n",
      "Read in files. Processing poses...\n"
     ]
    },
    {
     "data": {
      "application/vnd.jupyter.widget-view+json": {
       "model_id": "2e5f750217104f92b4d496d0329ea50b",
       "version_major": 2,
       "version_minor": 0
      },
      "text/plain": [
       "  0%|          | 0/45534 [00:00<?, ?it/s]"
      ]
     },
     "metadata": {},
     "output_type": "display_data"
    },
    {
     "name": "stdout",
     "output_type": "stream",
     "text": [
      "Separating top and bottom poses...\n",
      "Done!\n",
      "match1 1_06_09\n",
      "Read in files. Processing poses...\n"
     ]
    },
    {
     "data": {
      "application/vnd.jupyter.widget-view+json": {
       "model_id": "ff46f6d18c734aecb1f98e54e9a61dfa",
       "version_major": 2,
       "version_minor": 0
      },
      "text/plain": [
       "  0%|          | 0/143625 [00:00<?, ?it/s]"
      ]
     },
     "metadata": {},
     "output_type": "display_data"
    },
    {
     "name": "stdout",
     "output_type": "stream",
     "text": [
      "Separating top and bottom poses...\n",
      "Done!\n",
      "match1 1_02_03\n",
      "Read in files. Processing poses...\n"
     ]
    },
    {
     "data": {
      "application/vnd.jupyter.widget-view+json": {
       "model_id": "7b1987bd40744c4faf1af0aebb60efac",
       "version_major": 2,
       "version_minor": 0
      },
      "text/plain": [
       "  0%|          | 0/24866 [00:00<?, ?it/s]"
      ]
     },
     "metadata": {},
     "output_type": "display_data"
    },
    {
     "name": "stdout",
     "output_type": "stream",
     "text": [
      "Separating top and bottom poses...\n",
      "Done!\n",
      "match1 1_03_06\n",
      "Read in files. Processing poses...\n"
     ]
    },
    {
     "data": {
      "application/vnd.jupyter.widget-view+json": {
       "model_id": "2455e9ff0a8947d3a4304b8d01ed6a1b",
       "version_major": 2,
       "version_minor": 0
      },
      "text/plain": [
       "  0%|          | 0/75347 [00:00<?, ?it/s]"
      ]
     },
     "metadata": {},
     "output_type": "display_data"
    },
    {
     "name": "stdout",
     "output_type": "stream",
     "text": [
      "Separating top and bottom poses...\n",
      "Done!\n",
      "match1 1_01_00\n",
      "Read in files. Processing poses...\n"
     ]
    },
    {
     "data": {
      "application/vnd.jupyter.widget-view+json": {
       "model_id": "f8ddd31545cf49629c0036b813f0b54a",
       "version_major": 2,
       "version_minor": 0
      },
      "text/plain": [
       "  0%|          | 0/204735 [00:00<?, ?it/s]"
      ]
     },
     "metadata": {},
     "output_type": "display_data"
    },
    {
     "name": "stdout",
     "output_type": "stream",
     "text": [
      "Separating top and bottom poses...\n",
      "Done!\n",
      "match2 1_00_02\n",
      "Read in files. Processing poses...\n"
     ]
    },
    {
     "data": {
      "application/vnd.jupyter.widget-view+json": {
       "model_id": "fb2513b20b4542d68b32e6957af385d4",
       "version_major": 2,
       "version_minor": 0
      },
      "text/plain": [
       "  0%|          | 0/145061 [00:00<?, ?it/s]"
      ]
     },
     "metadata": {},
     "output_type": "display_data"
    },
    {
     "name": "stdout",
     "output_type": "stream",
     "text": [
      "Separating top and bottom poses...\n",
      "Done!\n",
      "match2 1_08_11\n",
      "Read in files. Processing poses...\n"
     ]
    },
    {
     "data": {
      "application/vnd.jupyter.widget-view+json": {
       "model_id": "adee00c9d44f46b5b4aaf2f948df7bad",
       "version_major": 2,
       "version_minor": 0
      },
      "text/plain": [
       "  0%|          | 0/85044 [00:00<?, ?it/s]"
      ]
     },
     "metadata": {},
     "output_type": "display_data"
    },
    {
     "name": "stdout",
     "output_type": "stream",
     "text": [
      "Separating top and bottom poses...\n",
      "Done!\n",
      "match2 1_06_08\n",
      "Read in files. Processing poses...\n"
     ]
    },
    {
     "data": {
      "application/vnd.jupyter.widget-view+json": {
       "model_id": "c939bad666fb4b1aad365afac6c0b25a",
       "version_major": 2,
       "version_minor": 0
      },
      "text/plain": [
       "  0%|          | 0/89058 [00:00<?, ?it/s]"
      ]
     },
     "metadata": {},
     "output_type": "display_data"
    },
    {
     "name": "stdout",
     "output_type": "stream",
     "text": [
      "Separating top and bottom poses...\n",
      "Done!\n",
      "match2 1_09_12\n",
      "Read in files. Processing poses...\n"
     ]
    },
    {
     "data": {
      "application/vnd.jupyter.widget-view+json": {
       "model_id": "0d8e205faf4542f28f8eb4bf04291d98",
       "version_major": 2,
       "version_minor": 0
      },
      "text/plain": [
       "  0%|          | 0/120987 [00:00<?, ?it/s]"
      ]
     },
     "metadata": {},
     "output_type": "display_data"
    },
    {
     "name": "stdout",
     "output_type": "stream",
     "text": [
      "Separating top and bottom poses...\n",
      "Done!\n",
      "match2 1_08_12\n",
      "Read in files. Processing poses...\n"
     ]
    },
    {
     "data": {
      "application/vnd.jupyter.widget-view+json": {
       "model_id": "0ef6f61b432f4f20a2262a68f194b9eb",
       "version_major": 2,
       "version_minor": 0
      },
      "text/plain": [
       "  0%|          | 0/74957 [00:00<?, ?it/s]"
      ]
     },
     "metadata": {},
     "output_type": "display_data"
    },
    {
     "name": "stdout",
     "output_type": "stream",
     "text": [
      "Separating top and bottom poses...\n",
      "Done!\n",
      "match2 1_04_03\n",
      "Read in files. Processing poses...\n"
     ]
    },
    {
     "data": {
      "application/vnd.jupyter.widget-view+json": {
       "model_id": "71f5dee65d2e47e3b8d6016a031947bb",
       "version_major": 2,
       "version_minor": 0
      },
      "text/plain": [
       "  0%|          | 0/85012 [00:00<?, ?it/s]"
      ]
     },
     "metadata": {},
     "output_type": "display_data"
    },
    {
     "name": "stdout",
     "output_type": "stream",
     "text": [
      "Separating top and bottom poses...\n",
      "Done!\n",
      "match2 1_06_09\n",
      "Read in files. Processing poses...\n"
     ]
    },
    {
     "data": {
      "application/vnd.jupyter.widget-view+json": {
       "model_id": "edf047c0dd4c43418f09e65de1cc27c4",
       "version_major": 2,
       "version_minor": 0
      },
      "text/plain": [
       "  0%|          | 0/114991 [00:00<?, ?it/s]"
      ]
     },
     "metadata": {},
     "output_type": "display_data"
    },
    {
     "name": "stdout",
     "output_type": "stream",
     "text": [
      "Separating top and bottom poses...\n",
      "Done!\n",
      "match2 1_02_03\n",
      "Read in files. Processing poses...\n"
     ]
    },
    {
     "data": {
      "application/vnd.jupyter.widget-view+json": {
       "model_id": "3b7713c1212e4318957b1854729f50a8",
       "version_major": 2,
       "version_minor": 0
      },
      "text/plain": [
       "  0%|          | 0/90053 [00:00<?, ?it/s]"
      ]
     },
     "metadata": {},
     "output_type": "display_data"
    },
    {
     "name": "stdout",
     "output_type": "stream",
     "text": [
      "Separating top and bottom poses...\n",
      "Done!\n",
      "match3 2_04_07\n",
      "Read in files. Processing poses...\n"
     ]
    },
    {
     "data": {
      "application/vnd.jupyter.widget-view+json": {
       "model_id": "a4584543225a42ee9c90c88b8224c73a",
       "version_major": 2,
       "version_minor": 0
      },
      "text/plain": [
       "  0%|          | 0/177216 [00:00<?, ?it/s]"
      ]
     },
     "metadata": {},
     "output_type": "display_data"
    },
    {
     "name": "stdout",
     "output_type": "stream",
     "text": [
      "Separating top and bottom poses...\n",
      "Done!\n",
      "match3 2_18_15\n",
      "Read in files. Processing poses...\n"
     ]
    },
    {
     "data": {
      "application/vnd.jupyter.widget-view+json": {
       "model_id": "0415bf85a6224e668c4f5a69b273bbaf",
       "version_major": 2,
       "version_minor": 0
      },
      "text/plain": [
       "  0%|          | 0/309292 [00:00<?, ?it/s]"
      ]
     },
     "metadata": {},
     "output_type": "display_data"
    },
    {
     "name": "stdout",
     "output_type": "stream",
     "text": [
      "Separating top and bottom poses...\n",
      "Done!\n",
      "match3 1_12_17\n",
      "Read in files. Processing poses...\n"
     ]
    },
    {
     "data": {
      "application/vnd.jupyter.widget-view+json": {
       "model_id": "c69ff1b9027842238c9baaa505f98c3f",
       "version_major": 2,
       "version_minor": 0
      },
      "text/plain": [
       "  0%|          | 0/103110 [00:00<?, ?it/s]"
      ]
     },
     "metadata": {},
     "output_type": "display_data"
    },
    {
     "name": "stdout",
     "output_type": "stream",
     "text": [
      "Separating top and bottom poses...\n",
      "Done!\n",
      "match3 3_11_10\n",
      "Read in files. Processing poses...\n"
     ]
    },
    {
     "data": {
      "application/vnd.jupyter.widget-view+json": {
       "model_id": "6849cc9ecd0a4b17aafcdd0f7d23803b",
       "version_major": 2,
       "version_minor": 0
      },
      "text/plain": [
       "  0%|          | 0/62139 [00:00<?, ?it/s]"
      ]
     },
     "metadata": {},
     "output_type": "display_data"
    },
    {
     "name": "stdout",
     "output_type": "stream",
     "text": [
      "Separating top and bottom poses...\n",
      "Done!\n",
      "match3 2_10_12\n",
      "Read in files. Processing poses...\n"
     ]
    },
    {
     "data": {
      "application/vnd.jupyter.widget-view+json": {
       "model_id": "bbd36c31f72845a0aa1f7efb06071bbc",
       "version_major": 2,
       "version_minor": 0
      },
      "text/plain": [
       "  0%|          | 0/57934 [00:00<?, ?it/s]"
      ]
     },
     "metadata": {},
     "output_type": "display_data"
    },
    {
     "name": "stdout",
     "output_type": "stream",
     "text": [
      "Separating top and bottom poses...\n",
      "Done!\n",
      "match3 1_08_10\n",
      "Read in files. Processing poses...\n"
     ]
    },
    {
     "data": {
      "application/vnd.jupyter.widget-view+json": {
       "model_id": "6470fd9934244b728ad83fa6b2216f2d",
       "version_major": 2,
       "version_minor": 0
      },
      "text/plain": [
       "  0%|          | 0/34016 [00:00<?, ?it/s]"
      ]
     },
     "metadata": {},
     "output_type": "display_data"
    },
    {
     "name": "stdout",
     "output_type": "stream",
     "text": [
      "Separating top and bottom poses...\n",
      "Done!\n",
      "match3 1_01_00\n",
      "Read in files. Processing poses...\n"
     ]
    },
    {
     "data": {
      "application/vnd.jupyter.widget-view+json": {
       "model_id": "53a5d0cc775d43cabb16a9f9fd63e5b8",
       "version_major": 2,
       "version_minor": 0
      },
      "text/plain": [
       "  0%|          | 0/119109 [00:00<?, ?it/s]"
      ]
     },
     "metadata": {},
     "output_type": "display_data"
    },
    {
     "name": "stdout",
     "output_type": "stream",
     "text": [
      "Separating top and bottom poses...\n",
      "Done!\n",
      "match4 2_14_17\n",
      "Read in files. Processing poses...\n"
     ]
    },
    {
     "data": {
      "application/vnd.jupyter.widget-view+json": {
       "model_id": "188badac2caa417ba40635feb618c76c",
       "version_major": 2,
       "version_minor": 0
      },
      "text/plain": [
       "  0%|          | 0/26261 [00:00<?, ?it/s]"
      ]
     },
     "metadata": {},
     "output_type": "display_data"
    },
    {
     "name": "stdout",
     "output_type": "stream",
     "text": [
      "Separating top and bottom poses...\n",
      "Done!\n",
      "match4 3_07_05\n",
      "Read in files. Processing poses...\n"
     ]
    },
    {
     "data": {
      "application/vnd.jupyter.widget-view+json": {
       "model_id": "88ecd4c103794d688bd6508328ec5e94",
       "version_major": 2,
       "version_minor": 0
      },
      "text/plain": [
       "  0%|          | 0/23387 [00:00<?, ?it/s]"
      ]
     },
     "metadata": {},
     "output_type": "display_data"
    },
    {
     "name": "stdout",
     "output_type": "stream",
     "text": [
      "Separating top and bottom poses...\n",
      "Done!\n",
      "match4 3_02_00\n",
      "Read in files. Processing poses...\n"
     ]
    },
    {
     "data": {
      "application/vnd.jupyter.widget-view+json": {
       "model_id": "fd998c8a797c47608f0c23bc9c1b289f",
       "version_major": 2,
       "version_minor": 0
      },
      "text/plain": [
       "  0%|          | 0/47226 [00:00<?, ?it/s]"
      ]
     },
     "metadata": {},
     "output_type": "display_data"
    },
    {
     "name": "stdout",
     "output_type": "stream",
     "text": [
      "Separating top and bottom poses...\n",
      "Done!\n",
      "match4 2_02_05\n",
      "Read in files. Processing poses...\n"
     ]
    },
    {
     "data": {
      "application/vnd.jupyter.widget-view+json": {
       "model_id": "d617701fafae4db59b4ddce8144af4c3",
       "version_major": 2,
       "version_minor": 0
      },
      "text/plain": [
       "  0%|          | 0/62108 [00:00<?, ?it/s]"
      ]
     },
     "metadata": {},
     "output_type": "display_data"
    },
    {
     "name": "stdout",
     "output_type": "stream",
     "text": [
      "Separating top and bottom poses...\n",
      "Done!\n",
      "match4 3_18_17\n",
      "Read in files. Processing poses...\n"
     ]
    },
    {
     "data": {
      "application/vnd.jupyter.widget-view+json": {
       "model_id": "48ad599dccee482eaea05d6e1f600002",
       "version_major": 2,
       "version_minor": 0
      },
      "text/plain": [
       "  0%|          | 0/78802 [00:00<?, ?it/s]"
      ]
     },
     "metadata": {},
     "output_type": "display_data"
    },
    {
     "name": "stdout",
     "output_type": "stream",
     "text": [
      "Separating top and bottom poses...\n",
      "Done!\n",
      "match4 1_15_10\n",
      "Read in files. Processing poses...\n"
     ]
    },
    {
     "data": {
      "application/vnd.jupyter.widget-view+json": {
       "model_id": "ad7da14c5d3d41d1b6a39bb22aa11f6c",
       "version_major": 2,
       "version_minor": 0
      },
      "text/plain": [
       "  0%|          | 0/49740 [00:00<?, ?it/s]"
      ]
     },
     "metadata": {},
     "output_type": "display_data"
    },
    {
     "name": "stdout",
     "output_type": "stream",
     "text": [
      "Separating top and bottom poses...\n",
      "Done!\n",
      "match4 1_03_02\n",
      "Read in files. Processing poses...\n"
     ]
    },
    {
     "data": {
      "application/vnd.jupyter.widget-view+json": {
       "model_id": "377c88eb7ee0449ab23fc0e639ae7b5d",
       "version_major": 2,
       "version_minor": 0
      },
      "text/plain": [
       "  0%|          | 0/45988 [00:00<?, ?it/s]"
      ]
     },
     "metadata": {},
     "output_type": "display_data"
    },
    {
     "name": "stdout",
     "output_type": "stream",
     "text": [
      "Separating top and bottom poses...\n",
      "Done!\n",
      "match4 2_05_07\n",
      "Read in files. Processing poses...\n"
     ]
    },
    {
     "data": {
      "application/vnd.jupyter.widget-view+json": {
       "model_id": "9f61a8269c6a4a6d95b8b6d7f3ae62ff",
       "version_major": 2,
       "version_minor": 0
      },
      "text/plain": [
       "  0%|          | 0/50337 [00:00<?, ?it/s]"
      ]
     },
     "metadata": {},
     "output_type": "display_data"
    },
    {
     "name": "stdout",
     "output_type": "stream",
     "text": [
      "Separating top and bottom poses...\n",
      "Done!\n",
      "match5 1_01_01\n",
      "Read in files. Processing poses...\n"
     ]
    },
    {
     "data": {
      "application/vnd.jupyter.widget-view+json": {
       "model_id": "f3c6ec2fc5db47df805534a826ff0ed2",
       "version_major": 2,
       "version_minor": 0
      },
      "text/plain": [
       "  0%|          | 0/341335 [00:00<?, ?it/s]"
      ]
     },
     "metadata": {},
     "output_type": "display_data"
    },
    {
     "name": "stdout",
     "output_type": "stream",
     "text": [
      "Separating top and bottom poses...\n",
      "Done!\n",
      "match5 1_01_02\n",
      "Read in files. Processing poses...\n"
     ]
    },
    {
     "data": {
      "application/vnd.jupyter.widget-view+json": {
       "model_id": "70ca037b4a404089b9c62f410978e7f0",
       "version_major": 2,
       "version_minor": 0
      },
      "text/plain": [
       "  0%|          | 0/241326 [00:00<?, ?it/s]"
      ]
     },
     "metadata": {},
     "output_type": "display_data"
    },
    {
     "name": "stdout",
     "output_type": "stream",
     "text": [
      "Separating top and bottom poses...\n",
      "Done!\n",
      "match5 1_19_18\n",
      "Read in files. Processing poses...\n"
     ]
    },
    {
     "data": {
      "application/vnd.jupyter.widget-view+json": {
       "model_id": "521bce0bef1f4a81976af766ef22372a",
       "version_major": 2,
       "version_minor": 0
      },
      "text/plain": [
       "  0%|          | 0/120840 [00:00<?, ?it/s]"
      ]
     },
     "metadata": {},
     "output_type": "display_data"
    },
    {
     "name": "stdout",
     "output_type": "stream",
     "text": [
      "Separating top and bottom poses...\n",
      "Done!\n",
      "match5 2_15_13\n",
      "Read in files. Processing poses...\n"
     ]
    },
    {
     "data": {
      "application/vnd.jupyter.widget-view+json": {
       "model_id": "6791c9a610b148a28997956005ec967e",
       "version_major": 2,
       "version_minor": 0
      },
      "text/plain": [
       "  0%|          | 0/282727 [00:00<?, ?it/s]"
      ]
     },
     "metadata": {},
     "output_type": "display_data"
    },
    {
     "name": "stdout",
     "output_type": "stream",
     "text": [
      "Separating top and bottom poses...\n",
      "Done!\n",
      "match5 2_20_17\n",
      "Read in files. Processing poses...\n"
     ]
    },
    {
     "data": {
      "application/vnd.jupyter.widget-view+json": {
       "model_id": "f8e5eeca6d4c45bda566d61adc55d941",
       "version_major": 2,
       "version_minor": 0
      },
      "text/plain": [
       "  0%|          | 0/356973 [00:00<?, ?it/s]"
      ]
     },
     "metadata": {},
     "output_type": "display_data"
    },
    {
     "name": "stdout",
     "output_type": "stream",
     "text": [
      "Separating top and bottom poses...\n",
      "Done!\n",
      "match5 1_21_19\n",
      "Read in files. Processing poses...\n"
     ]
    },
    {
     "data": {
      "application/vnd.jupyter.widget-view+json": {
       "model_id": "b2766ac7153045a2821dcf4a894e2b37",
       "version_major": 2,
       "version_minor": 0
      },
      "text/plain": [
       "  0%|          | 0/329058 [00:00<?, ?it/s]"
      ]
     },
     "metadata": {},
     "output_type": "display_data"
    },
    {
     "name": "stdout",
     "output_type": "stream",
     "text": [
      "Separating top and bottom poses...\n",
      "Done!\n",
      "match6 1_02_00\n",
      "Read in files. Processing poses...\n"
     ]
    },
    {
     "data": {
      "application/vnd.jupyter.widget-view+json": {
       "model_id": "20cfb032933d4e4abc3400e5f14a29b2",
       "version_major": 2,
       "version_minor": 0
      },
      "text/plain": [
       "  0%|          | 0/164238 [00:00<?, ?it/s]"
      ]
     },
     "metadata": {},
     "output_type": "display_data"
    },
    {
     "name": "stdout",
     "output_type": "stream",
     "text": [
      "Separating top and bottom poses...\n",
      "Done!\n",
      "match6 1_11_04\n",
      "Read in files. Processing poses...\n"
     ]
    },
    {
     "data": {
      "application/vnd.jupyter.widget-view+json": {
       "model_id": "2b1220c63342476d9581ffe114338881",
       "version_major": 2,
       "version_minor": 0
      },
      "text/plain": [
       "  0%|          | 0/221216 [00:00<?, ?it/s]"
      ]
     },
     "metadata": {},
     "output_type": "display_data"
    },
    {
     "name": "stdout",
     "output_type": "stream",
     "text": [
      "Separating top and bottom poses...\n",
      "Done!\n",
      "match6 1_15_06\n",
      "Read in files. Processing poses...\n"
     ]
    },
    {
     "data": {
      "application/vnd.jupyter.widget-view+json": {
       "model_id": "006742bf45354bceb8f1a80b58382208",
       "version_major": 2,
       "version_minor": 0
      },
      "text/plain": [
       "  0%|          | 0/316190 [00:00<?, ?it/s]"
      ]
     },
     "metadata": {},
     "output_type": "display_data"
    },
    {
     "name": "stdout",
     "output_type": "stream",
     "text": [
      "Separating top and bottom poses...\n",
      "Done!\n",
      "match6 1_05_03\n",
      "Read in files. Processing poses...\n"
     ]
    },
    {
     "data": {
      "application/vnd.jupyter.widget-view+json": {
       "model_id": "8876fefb7e454d33ad392565131a5eaa",
       "version_major": 2,
       "version_minor": 0
      },
      "text/plain": [
       "  0%|          | 0/372768 [00:00<?, ?it/s]"
      ]
     },
     "metadata": {},
     "output_type": "display_data"
    },
    {
     "name": "stdout",
     "output_type": "stream",
     "text": [
      "Separating top and bottom poses...\n",
      "Done!\n",
      "match6 1_19_12\n",
      "Read in files. Processing poses...\n"
     ]
    },
    {
     "data": {
      "application/vnd.jupyter.widget-view+json": {
       "model_id": "f3e6f082c2e44774814317ca48e50646",
       "version_major": 2,
       "version_minor": 0
      },
      "text/plain": [
       "  0%|          | 0/126895 [00:00<?, ?it/s]"
      ]
     },
     "metadata": {},
     "output_type": "display_data"
    },
    {
     "name": "stdout",
     "output_type": "stream",
     "text": [
      "Separating top and bottom poses...\n",
      "Done!\n",
      "match7 2_14_15\n",
      "Read in files. Processing poses...\n"
     ]
    },
    {
     "data": {
      "application/vnd.jupyter.widget-view+json": {
       "model_id": "b5c12f9c02de4b2894fa07a5c82155fe",
       "version_major": 2,
       "version_minor": 0
      },
      "text/plain": [
       "  0%|          | 0/300698 [00:00<?, ?it/s]"
      ]
     },
     "metadata": {},
     "output_type": "display_data"
    },
    {
     "name": "stdout",
     "output_type": "stream",
     "text": [
      "Separating top and bottom poses...\n",
      "Done!\n",
      "match7 1_02_01\n",
      "Read in files. Processing poses...\n"
     ]
    },
    {
     "data": {
      "application/vnd.jupyter.widget-view+json": {
       "model_id": "a95005115bb24b6c94e33546707b642f",
       "version_major": 2,
       "version_minor": 0
      },
      "text/plain": [
       "  0%|          | 0/355194 [00:00<?, ?it/s]"
      ]
     },
     "metadata": {},
     "output_type": "display_data"
    },
    {
     "name": "stdout",
     "output_type": "stream",
     "text": [
      "Separating top and bottom poses...\n",
      "Done!\n",
      "match7 1_12_13\n",
      "Read in files. Processing poses...\n"
     ]
    },
    {
     "data": {
      "application/vnd.jupyter.widget-view+json": {
       "model_id": "ac277ea79fb7402ca8716f15d950f4bf",
       "version_major": 2,
       "version_minor": 0
      },
      "text/plain": [
       "  0%|          | 0/380420 [00:00<?, ?it/s]"
      ]
     },
     "metadata": {},
     "output_type": "display_data"
    },
    {
     "name": "stdout",
     "output_type": "stream",
     "text": [
      "Separating top and bottom poses...\n",
      "Done!\n",
      "match7 3_08_05\n",
      "Read in files. Processing poses...\n"
     ]
    },
    {
     "data": {
      "application/vnd.jupyter.widget-view+json": {
       "model_id": "d3eb5b0bbfb047d4ad62cf45541b2ec5",
       "version_major": 2,
       "version_minor": 0
      },
      "text/plain": [
       "  0%|          | 0/242266 [00:00<?, ?it/s]"
      ]
     },
     "metadata": {},
     "output_type": "display_data"
    },
    {
     "name": "stdout",
     "output_type": "stream",
     "text": [
      "Separating top and bottom poses...\n",
      "Done!\n",
      "match7 2_05_03\n",
      "Read in files. Processing poses...\n"
     ]
    },
    {
     "data": {
      "application/vnd.jupyter.widget-view+json": {
       "model_id": "c3be65a2ee494b328a15264bb3968088",
       "version_major": 2,
       "version_minor": 0
      },
      "text/plain": [
       "  0%|          | 0/587979 [00:00<?, ?it/s]"
      ]
     },
     "metadata": {},
     "output_type": "display_data"
    },
    {
     "name": "stdout",
     "output_type": "stream",
     "text": [
      "Separating top and bottom poses...\n",
      "Done!\n",
      "match8 2_03_06\n",
      "Read in files. Processing poses...\n"
     ]
    },
    {
     "data": {
      "application/vnd.jupyter.widget-view+json": {
       "model_id": "0855947793464ea599836e85cdc3ae3e",
       "version_major": 2,
       "version_minor": 0
      },
      "text/plain": [
       "  0%|          | 0/382614 [00:00<?, ?it/s]"
      ]
     },
     "metadata": {},
     "output_type": "display_data"
    },
    {
     "name": "stdout",
     "output_type": "stream",
     "text": [
      "Separating top and bottom poses...\n",
      "Done!\n",
      "match8 3_02_00\n",
      "Read in files. Processing poses...\n"
     ]
    },
    {
     "data": {
      "application/vnd.jupyter.widget-view+json": {
       "model_id": "30b46d332eea46539cb8e2e2ce5c0489",
       "version_major": 2,
       "version_minor": 0
      },
      "text/plain": [
       "  0%|          | 0/29805 [00:00<?, ?it/s]"
      ]
     },
     "metadata": {},
     "output_type": "display_data"
    },
    {
     "name": "stdout",
     "output_type": "stream",
     "text": [
      "Separating top and bottom poses...\n",
      "Done!\n",
      "match8 3_15_08\n",
      "Read in files. Processing poses...\n"
     ]
    },
    {
     "data": {
      "application/vnd.jupyter.widget-view+json": {
       "model_id": "fdaafe522f6a462e9c23032de8f1821b",
       "version_major": 2,
       "version_minor": 0
      },
      "text/plain": [
       "  0%|          | 0/52111 [00:00<?, ?it/s]"
      ]
     },
     "metadata": {},
     "output_type": "display_data"
    },
    {
     "name": "stdout",
     "output_type": "stream",
     "text": [
      "Separating top and bottom poses...\n",
      "Done!\n",
      "match8 2_10_12\n",
      "Read in files. Processing poses...\n"
     ]
    },
    {
     "data": {
      "application/vnd.jupyter.widget-view+json": {
       "model_id": "778565763aeb4d06b1fdf72da6760820",
       "version_major": 2,
       "version_minor": 0
      },
      "text/plain": [
       "  0%|          | 0/192380 [00:00<?, ?it/s]"
      ]
     },
     "metadata": {},
     "output_type": "display_data"
    },
    {
     "name": "stdout",
     "output_type": "stream",
     "text": [
      "Separating top and bottom poses...\n",
      "Done!\n",
      "match8 3_17_12\n",
      "Read in files. Processing poses...\n"
     ]
    },
    {
     "data": {
      "application/vnd.jupyter.widget-view+json": {
       "model_id": "b446d71c2ad443b5879ca01fb48587ed",
       "version_major": 2,
       "version_minor": 0
      },
      "text/plain": [
       "  0%|          | 0/150075 [00:00<?, ?it/s]"
      ]
     },
     "metadata": {},
     "output_type": "display_data"
    },
    {
     "name": "stdout",
     "output_type": "stream",
     "text": [
      "Separating top and bottom poses...\n",
      "Done!\n",
      "match8 1_05_13\n",
      "Read in files. Processing poses...\n"
     ]
    },
    {
     "data": {
      "application/vnd.jupyter.widget-view+json": {
       "model_id": "884713b1e3434e7b8507dc8aeb23c81a",
       "version_major": 2,
       "version_minor": 0
      },
      "text/plain": [
       "  0%|          | 0/96737 [00:00<?, ?it/s]"
      ]
     },
     "metadata": {},
     "output_type": "display_data"
    },
    {
     "name": "stdout",
     "output_type": "stream",
     "text": [
      "Separating top and bottom poses...\n",
      "Done!\n",
      "match8 3_21_13\n",
      "Read in files. Processing poses...\n"
     ]
    },
    {
     "data": {
      "application/vnd.jupyter.widget-view+json": {
       "model_id": "f85d74e6952b40f384bee4bdaf718e8c",
       "version_major": 2,
       "version_minor": 0
      },
      "text/plain": [
       "  0%|          | 0/97292 [00:00<?, ?it/s]"
      ]
     },
     "metadata": {},
     "output_type": "display_data"
    },
    {
     "name": "stdout",
     "output_type": "stream",
     "text": [
      "Separating top and bottom poses...\n",
      "Done!\n",
      "match8 1_01_00\n",
      "Read in files. Processing poses...\n"
     ]
    },
    {
     "data": {
      "application/vnd.jupyter.widget-view+json": {
       "model_id": "df26abda71844c23b5fec19b79802648",
       "version_major": 2,
       "version_minor": 0
      },
      "text/plain": [
       "  0%|          | 0/101689 [00:00<?, ?it/s]"
      ]
     },
     "metadata": {},
     "output_type": "display_data"
    },
    {
     "name": "stdout",
     "output_type": "stream",
     "text": [
      "Separating top and bottom poses...\n",
      "Done!\n",
      "match9 1_07_07\n",
      "Read in files. Processing poses...\n"
     ]
    },
    {
     "data": {
      "application/vnd.jupyter.widget-view+json": {
       "model_id": "c3f9bdf11329429594155776ae786a68",
       "version_major": 2,
       "version_minor": 0
      },
      "text/plain": [
       "  0%|          | 0/85888 [00:00<?, ?it/s]"
      ]
     },
     "metadata": {},
     "output_type": "display_data"
    },
    {
     "name": "stdout",
     "output_type": "stream",
     "text": [
      "Separating top and bottom poses...\n",
      "Done!\n",
      "match9 1_01_03\n",
      "Read in files. Processing poses...\n"
     ]
    },
    {
     "data": {
      "application/vnd.jupyter.widget-view+json": {
       "model_id": "e3f479173e4e4d3c8af7dec209f71bc6",
       "version_major": 2,
       "version_minor": 0
      },
      "text/plain": [
       "  0%|          | 0/202791 [00:00<?, ?it/s]"
      ]
     },
     "metadata": {},
     "output_type": "display_data"
    },
    {
     "name": "stdout",
     "output_type": "stream",
     "text": [
      "Separating top and bottom poses...\n",
      "Done!\n",
      "match9 1_06_06\n",
      "Read in files. Processing poses...\n"
     ]
    },
    {
     "data": {
      "application/vnd.jupyter.widget-view+json": {
       "model_id": "f35e6d751ba54e9c8edd952f05395565",
       "version_major": 2,
       "version_minor": 0
      },
      "text/plain": [
       "  0%|          | 0/58908 [00:00<?, ?it/s]"
      ]
     },
     "metadata": {},
     "output_type": "display_data"
    },
    {
     "name": "stdout",
     "output_type": "stream",
     "text": [
      "Separating top and bottom poses...\n",
      "Done!\n",
      "match9 1_07_14\n",
      "Read in files. Processing poses...\n"
     ]
    },
    {
     "data": {
      "application/vnd.jupyter.widget-view+json": {
       "model_id": "bbac7e69e4104176aa12622446e15cb4",
       "version_major": 2,
       "version_minor": 0
      },
      "text/plain": [
       "  0%|          | 0/52610 [00:00<?, ?it/s]"
      ]
     },
     "metadata": {},
     "output_type": "display_data"
    },
    {
     "name": "stdout",
     "output_type": "stream",
     "text": [
      "Separating top and bottom poses...\n",
      "Done!\n",
      "match9 1_07_10\n",
      "Read in files. Processing poses...\n"
     ]
    },
    {
     "data": {
      "application/vnd.jupyter.widget-view+json": {
       "model_id": "b6f2bc6f919d44e6a0352335b925d813",
       "version_major": 2,
       "version_minor": 0
      },
      "text/plain": [
       "  0%|          | 0/156053 [00:00<?, ?it/s]"
      ]
     },
     "metadata": {},
     "output_type": "display_data"
    },
    {
     "name": "stdout",
     "output_type": "stream",
     "text": [
      "Separating top and bottom poses...\n",
      "Done!\n",
      "match9 1_05_06\n",
      "Read in files. Processing poses...\n"
     ]
    },
    {
     "data": {
      "application/vnd.jupyter.widget-view+json": {
       "model_id": "e060a1a3c5114613a108a467d91902ed",
       "version_major": 2,
       "version_minor": 0
      },
      "text/plain": [
       "  0%|          | 0/72165 [00:00<?, ?it/s]"
      ]
     },
     "metadata": {},
     "output_type": "display_data"
    },
    {
     "name": "stdout",
     "output_type": "stream",
     "text": [
      "Separating top and bottom poses...\n",
      "Done!\n",
      "match9 1_02_03\n",
      "Read in files. Processing poses...\n"
     ]
    },
    {
     "data": {
      "application/vnd.jupyter.widget-view+json": {
       "model_id": "17dde66836ce4a7e8ab4590fb36d845f",
       "version_major": 2,
       "version_minor": 0
      },
      "text/plain": [
       "  0%|          | 0/82671 [00:00<?, ?it/s]"
      ]
     },
     "metadata": {},
     "output_type": "display_data"
    },
    {
     "name": "stdout",
     "output_type": "stream",
     "text": [
      "Separating top and bottom poses...\n",
      "Done!\n",
      "match9 1_07_11\n",
      "Read in files. Processing poses...\n"
     ]
    },
    {
     "data": {
      "application/vnd.jupyter.widget-view+json": {
       "model_id": "4a6d08506ad745e3ade041423a9f6e8c",
       "version_major": 2,
       "version_minor": 0
      },
      "text/plain": [
       "  0%|          | 0/82449 [00:00<?, ?it/s]"
      ]
     },
     "metadata": {},
     "output_type": "display_data"
    },
    {
     "name": "stdout",
     "output_type": "stream",
     "text": [
      "Separating top and bottom poses...\n",
      "Done!\n",
      "match9 1_04_05\n",
      "Read in files. Processing poses...\n"
     ]
    },
    {
     "data": {
      "application/vnd.jupyter.widget-view+json": {
       "model_id": "60e120a31f13486fa281fe914d950e28",
       "version_major": 2,
       "version_minor": 0
      },
      "text/plain": [
       "  0%|          | 0/67206 [00:00<?, ?it/s]"
      ]
     },
     "metadata": {},
     "output_type": "display_data"
    },
    {
     "name": "stdout",
     "output_type": "stream",
     "text": [
      "Separating top and bottom poses...\n",
      "Done!\n",
      "match10 1_12_16\n",
      "Read in files. Processing poses...\n"
     ]
    },
    {
     "data": {
      "application/vnd.jupyter.widget-view+json": {
       "model_id": "a7f593dd991041aab59595996cfc3fe0",
       "version_major": 2,
       "version_minor": 0
      },
      "text/plain": [
       "  0%|          | 0/234607 [00:00<?, ?it/s]"
      ]
     },
     "metadata": {},
     "output_type": "display_data"
    },
    {
     "name": "stdout",
     "output_type": "stream",
     "text": [
      "Separating top and bottom poses...\n",
      "Done!\n",
      "match10 1_03_03\n",
      "Read in files. Processing poses...\n"
     ]
    },
    {
     "data": {
      "application/vnd.jupyter.widget-view+json": {
       "model_id": "35c6bff0a4884ea492104dbc8793ca60",
       "version_major": 2,
       "version_minor": 0
      },
      "text/plain": [
       "  0%|          | 0/282063 [00:00<?, ?it/s]"
      ]
     },
     "metadata": {},
     "output_type": "display_data"
    },
    {
     "name": "stdout",
     "output_type": "stream",
     "text": [
      "Separating top and bottom poses...\n",
      "Done!\n",
      "match10 2_14_08\n",
      "Read in files. Processing poses...\n"
     ]
    },
    {
     "data": {
      "application/vnd.jupyter.widget-view+json": {
       "model_id": "dd54a2c1eab34a35b3a647f221c61463",
       "version_major": 2,
       "version_minor": 0
      },
      "text/plain": [
       "  0%|          | 0/351806 [00:00<?, ?it/s]"
      ]
     },
     "metadata": {},
     "output_type": "display_data"
    },
    {
     "name": "stdout",
     "output_type": "stream",
     "text": [
      "Separating top and bottom poses...\n",
      "Done!\n",
      "match10 1_03_01\n",
      "Read in files. Processing poses...\n"
     ]
    },
    {
     "data": {
      "application/vnd.jupyter.widget-view+json": {
       "model_id": "7eddaa800258413fbb263fd371824d06",
       "version_major": 2,
       "version_minor": 0
      },
      "text/plain": [
       "  0%|          | 0/296086 [00:00<?, ?it/s]"
      ]
     },
     "metadata": {},
     "output_type": "display_data"
    },
    {
     "name": "stdout",
     "output_type": "stream",
     "text": [
      "Separating top and bottom poses...\n",
      "Done!\n",
      "match10 2_04_02\n",
      "Read in files. Processing poses...\n"
     ]
    },
    {
     "data": {
      "application/vnd.jupyter.widget-view+json": {
       "model_id": "00f6b5ef0d224c37b0be5600eed30711",
       "version_major": 2,
       "version_minor": 0
      },
      "text/plain": [
       "  0%|          | 0/138377 [00:00<?, ?it/s]"
      ]
     },
     "metadata": {},
     "output_type": "display_data"
    },
    {
     "name": "stdout",
     "output_type": "stream",
     "text": [
      "Separating top and bottom poses...\n",
      "Done!\n",
      "match11 2_05_00\n",
      "Read in files. Processing poses...\n"
     ]
    },
    {
     "data": {
      "application/vnd.jupyter.widget-view+json": {
       "model_id": "c3878d0e8e1947c3980c762726399f02",
       "version_major": 2,
       "version_minor": 0
      },
      "text/plain": [
       "  0%|          | 0/97525 [00:00<?, ?it/s]"
      ]
     },
     "metadata": {},
     "output_type": "display_data"
    },
    {
     "name": "stdout",
     "output_type": "stream",
     "text": [
      "Separating top and bottom poses...\n",
      "Done!\n",
      "match11 1_03_01\n",
      "Read in files. Processing poses...\n"
     ]
    },
    {
     "data": {
      "application/vnd.jupyter.widget-view+json": {
       "model_id": "906854373df14e2495fadb654c8f23f6",
       "version_major": 2,
       "version_minor": 0
      },
      "text/plain": [
       "  0%|          | 0/138117 [00:00<?, ?it/s]"
      ]
     },
     "metadata": {},
     "output_type": "display_data"
    },
    {
     "name": "stdout",
     "output_type": "stream",
     "text": [
      "Separating top and bottom poses...\n",
      "Done!\n",
      "match11 1_13_13\n",
      "Read in files. Processing poses...\n"
     ]
    },
    {
     "data": {
      "application/vnd.jupyter.widget-view+json": {
       "model_id": "9eb06cb759654bd29d7060a5a2e0851c",
       "version_major": 2,
       "version_minor": 0
      },
      "text/plain": [
       "  0%|          | 0/214036 [00:00<?, ?it/s]"
      ]
     },
     "metadata": {},
     "output_type": "display_data"
    },
    {
     "name": "stdout",
     "output_type": "stream",
     "text": [
      "Separating top and bottom poses...\n",
      "Done!\n",
      "match11 2_15_04\n",
      "Read in files. Processing poses...\n"
     ]
    },
    {
     "data": {
      "application/vnd.jupyter.widget-view+json": {
       "model_id": "cce85ce6de4a4dda8a16c489aebcad31",
       "version_major": 2,
       "version_minor": 0
      },
      "text/plain": [
       "  0%|          | 0/185575 [00:00<?, ?it/s]"
      ]
     },
     "metadata": {},
     "output_type": "display_data"
    },
    {
     "name": "stdout",
     "output_type": "stream",
     "text": [
      "Separating top and bottom poses...\n",
      "Done!\n",
      "match11 1_07_06\n",
      "Read in files. Processing poses...\n"
     ]
    },
    {
     "data": {
      "application/vnd.jupyter.widget-view+json": {
       "model_id": "356448e7df2a4ddfa9f1b69bae4b7e6f",
       "version_major": 2,
       "version_minor": 0
      },
      "text/plain": [
       "  0%|          | 0/106294 [00:00<?, ?it/s]"
      ]
     },
     "metadata": {},
     "output_type": "display_data"
    },
    {
     "name": "stdout",
     "output_type": "stream",
     "text": [
      "Separating top and bottom poses...\n",
      "Done!\n",
      "match12 1_10_12\n",
      "Read in files. Processing poses...\n"
     ]
    },
    {
     "data": {
      "application/vnd.jupyter.widget-view+json": {
       "model_id": "0cb803b3dc4b41ef854feecab606b5d0",
       "version_major": 2,
       "version_minor": 0
      },
      "text/plain": [
       "  0%|          | 0/236358 [00:00<?, ?it/s]"
      ]
     },
     "metadata": {},
     "output_type": "display_data"
    },
    {
     "name": "stdout",
     "output_type": "stream",
     "text": [
      "Separating top and bottom poses...\n",
      "Done!\n",
      "match12 3_03_03\n",
      "Read in files. Processing poses...\n"
     ]
    },
    {
     "data": {
      "application/vnd.jupyter.widget-view+json": {
       "model_id": "6ac39675744b40aeb124efbcc76ba99d",
       "version_major": 2,
       "version_minor": 0
      },
      "text/plain": [
       "  0%|          | 0/92438 [00:00<?, ?it/s]"
      ]
     },
     "metadata": {},
     "output_type": "display_data"
    },
    {
     "name": "stdout",
     "output_type": "stream",
     "text": [
      "Separating top and bottom poses...\n",
      "Done!\n",
      "match12 2_01_01\n",
      "Read in files. Processing poses...\n"
     ]
    },
    {
     "data": {
      "application/vnd.jupyter.widget-view+json": {
       "model_id": "c8252fefcaa540a9b4881440855446b3",
       "version_major": 2,
       "version_minor": 0
      },
      "text/plain": [
       "  0%|          | 0/124585 [00:00<?, ?it/s]"
      ]
     },
     "metadata": {},
     "output_type": "display_data"
    },
    {
     "name": "stdout",
     "output_type": "stream",
     "text": [
      "Separating top and bottom poses...\n",
      "Done!\n",
      "match12 2_05_14\n",
      "Read in files. Processing poses...\n"
     ]
    },
    {
     "data": {
      "application/vnd.jupyter.widget-view+json": {
       "model_id": "668d44bc2a064c76a4a34f7c7deb5771",
       "version_major": 2,
       "version_minor": 0
      },
      "text/plain": [
       "  0%|          | 0/235738 [00:00<?, ?it/s]"
      ]
     },
     "metadata": {},
     "output_type": "display_data"
    },
    {
     "name": "stdout",
     "output_type": "stream",
     "text": [
      "Separating top and bottom poses...\n",
      "Done!\n",
      "match12 1_01_00\n",
      "Read in files. Processing poses...\n"
     ]
    },
    {
     "data": {
      "application/vnd.jupyter.widget-view+json": {
       "model_id": "55d0e386e59e45a3950c06c8a43042b0",
       "version_major": 2,
       "version_minor": 0
      },
      "text/plain": [
       "  0%|          | 0/203554 [00:00<?, ?it/s]"
      ]
     },
     "metadata": {},
     "output_type": "display_data"
    },
    {
     "name": "stdout",
     "output_type": "stream",
     "text": [
      "Separating top and bottom poses...\n",
      "Done!\n",
      "match13 2_09_08\n",
      "Read in files. Processing poses...\n"
     ]
    },
    {
     "data": {
      "application/vnd.jupyter.widget-view+json": {
       "model_id": "87719e5701744dc097acae443fa7fa30",
       "version_major": 2,
       "version_minor": 0
      },
      "text/plain": [
       "  0%|          | 0/27947 [00:00<?, ?it/s]"
      ]
     },
     "metadata": {},
     "output_type": "display_data"
    },
    {
     "name": "stdout",
     "output_type": "stream",
     "text": [
      "Separating top and bottom poses...\n",
      "Done!\n",
      "match13 1_09_10\n",
      "Read in files. Processing poses...\n"
     ]
    },
    {
     "data": {
      "application/vnd.jupyter.widget-view+json": {
       "model_id": "2bc13fcad36843d0bc966153ae1f5746",
       "version_major": 2,
       "version_minor": 0
      },
      "text/plain": [
       "  0%|          | 0/113811 [00:00<?, ?it/s]"
      ]
     },
     "metadata": {},
     "output_type": "display_data"
    },
    {
     "name": "stdout",
     "output_type": "stream",
     "text": [
      "Separating top and bottom poses...\n",
      "Done!\n",
      "match13 1_17_15\n",
      "Read in files. Processing poses...\n"
     ]
    },
    {
     "data": {
      "application/vnd.jupyter.widget-view+json": {
       "model_id": "6d8b3cae963847a8bdd07223d6c29cfe",
       "version_major": 2,
       "version_minor": 0
      },
      "text/plain": [
       "  0%|          | 0/67333 [00:00<?, ?it/s]"
      ]
     },
     "metadata": {},
     "output_type": "display_data"
    },
    {
     "name": "stdout",
     "output_type": "stream",
     "text": [
      "Separating top and bottom poses...\n",
      "Done!\n",
      "match13 2_06_05\n",
      "Read in files. Processing poses...\n"
     ]
    },
    {
     "data": {
      "application/vnd.jupyter.widget-view+json": {
       "model_id": "68ad52b792aa4ed7b30f71ebdc95bb97",
       "version_major": 2,
       "version_minor": 0
      },
      "text/plain": [
       "  0%|          | 0/188089 [00:00<?, ?it/s]"
      ]
     },
     "metadata": {},
     "output_type": "display_data"
    },
    {
     "name": "stdout",
     "output_type": "stream",
     "text": [
      "Separating top and bottom poses...\n",
      "Done!\n",
      "match13 2_17_11\n",
      "Read in files. Processing poses...\n"
     ]
    },
    {
     "data": {
      "application/vnd.jupyter.widget-view+json": {
       "model_id": "85e3931baba34720b0f51a5aa77f181b",
       "version_major": 2,
       "version_minor": 0
      },
      "text/plain": [
       "  0%|          | 0/84519 [00:00<?, ?it/s]"
      ]
     },
     "metadata": {},
     "output_type": "display_data"
    },
    {
     "name": "stdout",
     "output_type": "stream",
     "text": [
      "Separating top and bottom poses...\n",
      "Done!\n",
      "match13 2_07_05\n",
      "Read in files. Processing poses...\n"
     ]
    },
    {
     "data": {
      "application/vnd.jupyter.widget-view+json": {
       "model_id": "07488f3558c84b94a9e9caf7108c6c92",
       "version_major": 2,
       "version_minor": 0
      },
      "text/plain": [
       "  0%|          | 0/44169 [00:00<?, ?it/s]"
      ]
     },
     "metadata": {},
     "output_type": "display_data"
    },
    {
     "name": "stdout",
     "output_type": "stream",
     "text": [
      "Separating top and bottom poses...\n",
      "Done!\n",
      "match14 2_21_17\n",
      "Read in files. Processing poses...\n"
     ]
    },
    {
     "data": {
      "application/vnd.jupyter.widget-view+json": {
       "model_id": "b894eb198355490d8e7c9e6cb801642c",
       "version_major": 2,
       "version_minor": 0
      },
      "text/plain": [
       "  0%|          | 0/116288 [00:00<?, ?it/s]"
      ]
     },
     "metadata": {},
     "output_type": "display_data"
    },
    {
     "name": "stdout",
     "output_type": "stream",
     "text": [
      "Separating top and bottom poses...\n",
      "Done!\n",
      "match14 2_15_10\n",
      "Read in files. Processing poses...\n"
     ]
    },
    {
     "data": {
      "application/vnd.jupyter.widget-view+json": {
       "model_id": "0fdc8849b8bb4ec8b1c0ac16bc143a7b",
       "version_major": 2,
       "version_minor": 0
      },
      "text/plain": [
       "  0%|          | 0/101411 [00:00<?, ?it/s]"
      ]
     },
     "metadata": {},
     "output_type": "display_data"
    },
    {
     "name": "stdout",
     "output_type": "stream",
     "text": [
      "Separating top and bottom poses...\n",
      "Done!\n",
      "match14 2_13_06\n",
      "Read in files. Processing poses...\n"
     ]
    },
    {
     "data": {
      "application/vnd.jupyter.widget-view+json": {
       "model_id": "7696a1e635704918b52dac9ebc5021ac",
       "version_major": 2,
       "version_minor": 0
      },
      "text/plain": [
       "  0%|          | 0/205803 [00:00<?, ?it/s]"
      ]
     },
     "metadata": {},
     "output_type": "display_data"
    },
    {
     "name": "stdout",
     "output_type": "stream",
     "text": [
      "Separating top and bottom poses...\n",
      "Done!\n",
      "match14 2_19_13\n",
      "Read in files. Processing poses...\n"
     ]
    },
    {
     "data": {
      "application/vnd.jupyter.widget-view+json": {
       "model_id": "143024db1f8848b280e6f868deb72186",
       "version_major": 2,
       "version_minor": 0
      },
      "text/plain": [
       "  0%|          | 0/212907 [00:00<?, ?it/s]"
      ]
     },
     "metadata": {},
     "output_type": "display_data"
    },
    {
     "name": "stdout",
     "output_type": "stream",
     "text": [
      "Separating top and bottom poses...\n",
      "Done!\n",
      "match14 1_17_14\n",
      "Read in files. Processing poses...\n"
     ]
    },
    {
     "data": {
      "application/vnd.jupyter.widget-view+json": {
       "model_id": "879bb92bcbd04c468c744f0548cabfa4",
       "version_major": 2,
       "version_minor": 0
      },
      "text/plain": [
       "  0%|          | 0/326352 [00:00<?, ?it/s]"
      ]
     },
     "metadata": {},
     "output_type": "display_data"
    },
    {
     "name": "stdout",
     "output_type": "stream",
     "text": [
      "Separating top and bottom poses...\n",
      "Done!\n",
      "match15 1_21_12\n",
      "Read in files. Processing poses...\n"
     ]
    },
    {
     "data": {
      "application/vnd.jupyter.widget-view+json": {
       "model_id": "26839bf29d284352a970fb9f388e30f3",
       "version_major": 2,
       "version_minor": 0
      },
      "text/plain": [
       "  0%|          | 0/54817 [00:00<?, ?it/s]"
      ]
     },
     "metadata": {},
     "output_type": "display_data"
    },
    {
     "name": "stdout",
     "output_type": "stream",
     "text": [
      "Separating top and bottom poses...\n",
      "Done!\n",
      "match15 2_14_08\n",
      "Read in files. Processing poses...\n"
     ]
    },
    {
     "data": {
      "application/vnd.jupyter.widget-view+json": {
       "model_id": "54ad6370161d4e47865882eb9e3f90ec",
       "version_major": 2,
       "version_minor": 0
      },
      "text/plain": [
       "  0%|          | 0/34417 [00:00<?, ?it/s]"
      ]
     },
     "metadata": {},
     "output_type": "display_data"
    },
    {
     "name": "stdout",
     "output_type": "stream",
     "text": [
      "Separating top and bottom poses...\n",
      "Done!\n",
      "match15 2_19_14\n",
      "Read in files. Processing poses...\n"
     ]
    },
    {
     "data": {
      "application/vnd.jupyter.widget-view+json": {
       "model_id": "9d3d7ef3d4a542288c6501ae401fd089",
       "version_major": 2,
       "version_minor": 0
      },
      "text/plain": [
       "  0%|          | 0/96751 [00:00<?, ?it/s]"
      ]
     },
     "metadata": {},
     "output_type": "display_data"
    },
    {
     "name": "stdout",
     "output_type": "stream",
     "text": [
      "Separating top and bottom poses...\n",
      "Done!\n",
      "match15 2_16_12\n",
      "Read in files. Processing poses...\n"
     ]
    },
    {
     "data": {
      "application/vnd.jupyter.widget-view+json": {
       "model_id": "e5c21a6e86d147bd9d318cbe5cb97342",
       "version_major": 2,
       "version_minor": 0
      },
      "text/plain": [
       "  0%|          | 0/83013 [00:00<?, ?it/s]"
      ]
     },
     "metadata": {},
     "output_type": "display_data"
    },
    {
     "name": "stdout",
     "output_type": "stream",
     "text": [
      "Separating top and bottom poses...\n",
      "Done!\n",
      "match15 2_18_14\n",
      "Read in files. Processing poses...\n"
     ]
    },
    {
     "data": {
      "application/vnd.jupyter.widget-view+json": {
       "model_id": "fff79581b4a54f019c1fc54e92462cc3",
       "version_major": 2,
       "version_minor": 0
      },
      "text/plain": [
       "  0%|          | 0/128559 [00:00<?, ?it/s]"
      ]
     },
     "metadata": {},
     "output_type": "display_data"
    },
    {
     "name": "stdout",
     "output_type": "stream",
     "text": [
      "Separating top and bottom poses...\n",
      "Done!\n",
      "match16 1_13_20\n",
      "Read in files. Processing poses...\n"
     ]
    },
    {
     "data": {
      "application/vnd.jupyter.widget-view+json": {
       "model_id": "7ea6f136ec2741c3b768c1666afb8164",
       "version_major": 2,
       "version_minor": 0
      },
      "text/plain": [
       "  0%|          | 0/119706 [00:00<?, ?it/s]"
      ]
     },
     "metadata": {},
     "output_type": "display_data"
    },
    {
     "name": "stdout",
     "output_type": "stream",
     "text": [
      "Separating top and bottom poses...\n",
      "Done!\n",
      "match16 3_14_09\n",
      "Read in files. Processing poses...\n"
     ]
    },
    {
     "data": {
      "application/vnd.jupyter.widget-view+json": {
       "model_id": "7531d80777604b0e817194842ee62428",
       "version_major": 2,
       "version_minor": 0
      },
      "text/plain": [
       "  0%|          | 0/105678 [00:00<?, ?it/s]"
      ]
     },
     "metadata": {},
     "output_type": "display_data"
    },
    {
     "name": "stdout",
     "output_type": "stream",
     "text": [
      "Separating top and bottom poses...\n",
      "Done!\n",
      "match16 3_12_06\n",
      "Read in files. Processing poses...\n"
     ]
    },
    {
     "data": {
      "application/vnd.jupyter.widget-view+json": {
       "model_id": "7855520cdb6c4b9db44c29d9c773e787",
       "version_major": 2,
       "version_minor": 0
      },
      "text/plain": [
       "  0%|          | 0/223225 [00:00<?, ?it/s]"
      ]
     },
     "metadata": {},
     "output_type": "display_data"
    },
    {
     "name": "stdout",
     "output_type": "stream",
     "text": [
      "Separating top and bottom poses...\n",
      "Done!\n",
      "match16 1_03_06\n",
      "Read in files. Processing poses...\n"
     ]
    },
    {
     "data": {
      "application/vnd.jupyter.widget-view+json": {
       "model_id": "a157047c7acd4d4cb0a15b69aa17bb29",
       "version_major": 2,
       "version_minor": 0
      },
      "text/plain": [
       "  0%|          | 0/151670 [00:00<?, ?it/s]"
      ]
     },
     "metadata": {},
     "output_type": "display_data"
    },
    {
     "name": "stdout",
     "output_type": "stream",
     "text": [
      "Separating top and bottom poses...\n",
      "Done!\n",
      "match16 2_08_08\n",
      "Read in files. Processing poses...\n"
     ]
    },
    {
     "data": {
      "application/vnd.jupyter.widget-view+json": {
       "model_id": "defdcb0d89ef4ebb83e85951e982c802",
       "version_major": 2,
       "version_minor": 0
      },
      "text/plain": [
       "  0%|          | 0/160919 [00:00<?, ?it/s]"
      ]
     },
     "metadata": {},
     "output_type": "display_data"
    },
    {
     "name": "stdout",
     "output_type": "stream",
     "text": [
      "Separating top and bottom poses...\n",
      "Done!\n",
      "match16 3_17_16\n",
      "Read in files. Processing poses...\n"
     ]
    },
    {
     "data": {
      "application/vnd.jupyter.widget-view+json": {
       "model_id": "ec7f63928fb242e89cef76268881e53e",
       "version_major": 2,
       "version_minor": 0
      },
      "text/plain": [
       "  0%|          | 0/128577 [00:00<?, ?it/s]"
      ]
     },
     "metadata": {},
     "output_type": "display_data"
    },
    {
     "name": "stdout",
     "output_type": "stream",
     "text": [
      "Separating top and bottom poses...\n",
      "Done!\n",
      "match17 1_15_13\n",
      "Read in files. Processing poses...\n"
     ]
    },
    {
     "data": {
      "application/vnd.jupyter.widget-view+json": {
       "model_id": "522156ac353d4cad8b73cfe070603f0f",
       "version_major": 2,
       "version_minor": 0
      },
      "text/plain": [
       "  0%|          | 0/110781 [00:00<?, ?it/s]"
      ]
     },
     "metadata": {},
     "output_type": "display_data"
    },
    {
     "name": "stdout",
     "output_type": "stream",
     "text": [
      "Separating top and bottom poses...\n",
      "Done!\n",
      "match17 2_08_05\n",
      "Read in files. Processing poses...\n"
     ]
    },
    {
     "data": {
      "application/vnd.jupyter.widget-view+json": {
       "model_id": "6b3d599dbcad46c496db443e253db690",
       "version_major": 2,
       "version_minor": 0
      },
      "text/plain": [
       "  0%|          | 0/127733 [00:00<?, ?it/s]"
      ]
     },
     "metadata": {},
     "output_type": "display_data"
    },
    {
     "name": "stdout",
     "output_type": "stream",
     "text": [
      "Separating top and bottom poses...\n",
      "Done!\n",
      "match17 1_02_02\n",
      "Read in files. Processing poses...\n"
     ]
    },
    {
     "data": {
      "application/vnd.jupyter.widget-view+json": {
       "model_id": "a621cec003874fb08ee2630673b6f294",
       "version_major": 2,
       "version_minor": 0
      },
      "text/plain": [
       "  0%|          | 0/88536 [00:00<?, ?it/s]"
      ]
     },
     "metadata": {},
     "output_type": "display_data"
    },
    {
     "name": "stdout",
     "output_type": "stream",
     "text": [
      "Separating top and bottom poses...\n",
      "Done!\n",
      "match17 2_18_11\n",
      "Read in files. Processing poses...\n"
     ]
    },
    {
     "data": {
      "application/vnd.jupyter.widget-view+json": {
       "model_id": "a904e478ed7b4314938e1aa6f98f1a4e",
       "version_major": 2,
       "version_minor": 0
      },
      "text/plain": [
       "  0%|          | 0/112641 [00:00<?, ?it/s]"
      ]
     },
     "metadata": {},
     "output_type": "display_data"
    },
    {
     "name": "stdout",
     "output_type": "stream",
     "text": [
      "Separating top and bottom poses...\n",
      "Done!\n",
      "match17 2_01_01\n",
      "Read in files. Processing poses...\n"
     ]
    },
    {
     "data": {
      "application/vnd.jupyter.widget-view+json": {
       "model_id": "30144084bba94a20b42dd346c70d45ae",
       "version_major": 2,
       "version_minor": 0
      },
      "text/plain": [
       "  0%|          | 0/119979 [00:00<?, ?it/s]"
      ]
     },
     "metadata": {},
     "output_type": "display_data"
    },
    {
     "name": "stdout",
     "output_type": "stream",
     "text": [
      "Separating top and bottom poses...\n",
      "Done!\n",
      "match17 2_15_11\n",
      "Read in files. Processing poses...\n"
     ]
    },
    {
     "data": {
      "application/vnd.jupyter.widget-view+json": {
       "model_id": "0588ac36bd7e4fa0bb55c97fd63e5242",
       "version_major": 2,
       "version_minor": 0
      },
      "text/plain": [
       "  0%|          | 0/99236 [00:00<?, ?it/s]"
      ]
     },
     "metadata": {},
     "output_type": "display_data"
    },
    {
     "name": "stdout",
     "output_type": "stream",
     "text": [
      "Separating top and bottom poses...\n",
      "Done!\n",
      "match18 3_12_14\n",
      "Read in files. Processing poses...\n"
     ]
    },
    {
     "data": {
      "application/vnd.jupyter.widget-view+json": {
       "model_id": "4177024c554a466383266daaa2e61f52",
       "version_major": 2,
       "version_minor": 0
      },
      "text/plain": [
       "  0%|          | 0/74349 [00:00<?, ?it/s]"
      ]
     },
     "metadata": {},
     "output_type": "display_data"
    },
    {
     "name": "stdout",
     "output_type": "stream",
     "text": [
      "Separating top and bottom poses...\n",
      "Done!\n",
      "match18 3_03_05\n",
      "Read in files. Processing poses...\n"
     ]
    },
    {
     "data": {
      "application/vnd.jupyter.widget-view+json": {
       "model_id": "0d58a98d662c4848bb76c9815f59cb30",
       "version_major": 2,
       "version_minor": 0
      },
      "text/plain": [
       "  0%|          | 0/133115 [00:00<?, ?it/s]"
      ]
     },
     "metadata": {},
     "output_type": "display_data"
    },
    {
     "name": "stdout",
     "output_type": "stream",
     "text": [
      "Separating top and bottom poses...\n",
      "Done!\n",
      "match18 3_20_19\n",
      "Read in files. Processing poses...\n"
     ]
    },
    {
     "data": {
      "application/vnd.jupyter.widget-view+json": {
       "model_id": "907f85f4616e4b548c3cd9e429f39c1e",
       "version_major": 2,
       "version_minor": 0
      },
      "text/plain": [
       "  0%|          | 0/71867 [00:00<?, ?it/s]"
      ]
     },
     "metadata": {},
     "output_type": "display_data"
    },
    {
     "name": "stdout",
     "output_type": "stream",
     "text": [
      "Separating top and bottom poses...\n",
      "Done!\n",
      "match18 2_02_02\n",
      "Read in files. Processing poses...\n"
     ]
    },
    {
     "data": {
      "application/vnd.jupyter.widget-view+json": {
       "model_id": "11b71f16f31046d8abe77d1a67a01c9d",
       "version_major": 2,
       "version_minor": 0
      },
      "text/plain": [
       "  0%|          | 0/84298 [00:00<?, ?it/s]"
      ]
     },
     "metadata": {},
     "output_type": "display_data"
    },
    {
     "name": "stdout",
     "output_type": "stream",
     "text": [
      "Separating top and bottom poses...\n",
      "Done!\n",
      "match18 1_06_12\n",
      "Read in files. Processing poses...\n"
     ]
    },
    {
     "data": {
      "application/vnd.jupyter.widget-view+json": {
       "model_id": "ec617cba7e894cea9a73823ab2715775",
       "version_major": 2,
       "version_minor": 0
      },
      "text/plain": [
       "  0%|          | 0/68026 [00:00<?, ?it/s]"
      ]
     },
     "metadata": {},
     "output_type": "display_data"
    },
    {
     "name": "stdout",
     "output_type": "stream",
     "text": [
      "Separating top and bottom poses...\n",
      "Done!\n",
      "match18 3_16_17\n",
      "Read in files. Processing poses...\n"
     ]
    },
    {
     "data": {
      "application/vnd.jupyter.widget-view+json": {
       "model_id": "2072789ff3704f5a8c9c557f53441689",
       "version_major": 2,
       "version_minor": 0
      },
      "text/plain": [
       "  0%|          | 0/76529 [00:00<?, ?it/s]"
      ]
     },
     "metadata": {},
     "output_type": "display_data"
    },
    {
     "name": "stdout",
     "output_type": "stream",
     "text": [
      "Separating top and bottom poses...\n",
      "Done!\n",
      "match19 1_01_01\n",
      "Read in files. Processing poses...\n"
     ]
    },
    {
     "data": {
      "application/vnd.jupyter.widget-view+json": {
       "model_id": "45bbd30ac5a349f79c56e5d24e7d20ff",
       "version_major": 2,
       "version_minor": 0
      },
      "text/plain": [
       "  0%|          | 0/103384 [00:00<?, ?it/s]"
      ]
     },
     "metadata": {},
     "output_type": "display_data"
    },
    {
     "name": "stdout",
     "output_type": "stream",
     "text": [
      "Separating top and bottom poses...\n",
      "Done!\n",
      "match19 2_12_06\n",
      "Read in files. Processing poses...\n"
     ]
    },
    {
     "data": {
      "application/vnd.jupyter.widget-view+json": {
       "model_id": "e2a041fa244b4c6badafc936788cf755",
       "version_major": 2,
       "version_minor": 0
      },
      "text/plain": [
       "  0%|          | 0/108551 [00:00<?, ?it/s]"
      ]
     },
     "metadata": {},
     "output_type": "display_data"
    },
    {
     "name": "stdout",
     "output_type": "stream",
     "text": [
      "Separating top and bottom poses...\n",
      "Done!\n",
      "match19 2_14_08\n",
      "Read in files. Processing poses...\n"
     ]
    },
    {
     "data": {
      "application/vnd.jupyter.widget-view+json": {
       "model_id": "2d19867ce82d41f488520a5792ba7530",
       "version_major": 2,
       "version_minor": 0
      },
      "text/plain": [
       "  0%|          | 0/83893 [00:00<?, ?it/s]"
      ]
     },
     "metadata": {},
     "output_type": "display_data"
    },
    {
     "name": "stdout",
     "output_type": "stream",
     "text": [
      "Separating top and bottom poses...\n",
      "Done!\n",
      "match19 1_01_03\n",
      "Read in files. Processing poses...\n"
     ]
    },
    {
     "data": {
      "application/vnd.jupyter.widget-view+json": {
       "model_id": "6d03adad66f34a199d509f9f3a5c4804",
       "version_major": 2,
       "version_minor": 0
      },
      "text/plain": [
       "  0%|          | 0/199077 [00:00<?, ?it/s]"
      ]
     },
     "metadata": {},
     "output_type": "display_data"
    },
    {
     "name": "stdout",
     "output_type": "stream",
     "text": [
      "Separating top and bottom poses...\n",
      "Done!\n",
      "match19 1_07_08\n",
      "Read in files. Processing poses...\n"
     ]
    },
    {
     "data": {
      "application/vnd.jupyter.widget-view+json": {
       "model_id": "17690b8bce94430f84b3079ebaa7a4db",
       "version_major": 2,
       "version_minor": 0
      },
      "text/plain": [
       "  0%|          | 0/127753 [00:00<?, ?it/s]"
      ]
     },
     "metadata": {},
     "output_type": "display_data"
    },
    {
     "name": "stdout",
     "output_type": "stream",
     "text": [
      "Separating top and bottom poses...\n",
      "Done!\n",
      "match20 2_00_01\n",
      "Read in files. Processing poses...\n"
     ]
    },
    {
     "data": {
      "application/vnd.jupyter.widget-view+json": {
       "model_id": "c010bd742ccb4051abcf20206f4bfd58",
       "version_major": 2,
       "version_minor": 0
      },
      "text/plain": [
       "  0%|          | 0/70041 [00:00<?, ?it/s]"
      ]
     },
     "metadata": {},
     "output_type": "display_data"
    },
    {
     "name": "stdout",
     "output_type": "stream",
     "text": [
      "Separating top and bottom poses...\n",
      "Done!\n",
      "match20 1_09_05\n",
      "Read in files. Processing poses...\n"
     ]
    },
    {
     "data": {
      "application/vnd.jupyter.widget-view+json": {
       "model_id": "c0b4fd3015ae424880e49331488e4ca1",
       "version_major": 2,
       "version_minor": 0
      },
      "text/plain": [
       "  0%|          | 0/129910 [00:00<?, ?it/s]"
      ]
     },
     "metadata": {},
     "output_type": "display_data"
    },
    {
     "name": "stdout",
     "output_type": "stream",
     "text": [
      "Separating top and bottom poses...\n",
      "Done!\n",
      "match20 2_05_08\n",
      "Read in files. Processing poses...\n"
     ]
    },
    {
     "data": {
      "application/vnd.jupyter.widget-view+json": {
       "model_id": "e75e9d7569024cee9456efe353214491",
       "version_major": 2,
       "version_minor": 0
      },
      "text/plain": [
       "  0%|          | 0/147798 [00:00<?, ?it/s]"
      ]
     },
     "metadata": {},
     "output_type": "display_data"
    },
    {
     "name": "stdout",
     "output_type": "stream",
     "text": [
      "Separating top and bottom poses...\n",
      "Done!\n",
      "match20 2_19_14\n",
      "Read in files. Processing poses...\n"
     ]
    },
    {
     "data": {
      "application/vnd.jupyter.widget-view+json": {
       "model_id": "b4b3c63721b94afa94fffa11895c1df0",
       "version_major": 2,
       "version_minor": 0
      },
      "text/plain": [
       "  0%|          | 0/98344 [00:00<?, ?it/s]"
      ]
     },
     "metadata": {},
     "output_type": "display_data"
    },
    {
     "name": "stdout",
     "output_type": "stream",
     "text": [
      "Separating top and bottom poses...\n",
      "Done!\n",
      "match20 2_07_08\n",
      "Read in files. Processing poses...\n"
     ]
    },
    {
     "data": {
      "application/vnd.jupyter.widget-view+json": {
       "model_id": "f77fa9cbb8884aedaee1563a71674732",
       "version_major": 2,
       "version_minor": 0
      },
      "text/plain": [
       "  0%|          | 0/79456 [00:00<?, ?it/s]"
      ]
     },
     "metadata": {},
     "output_type": "display_data"
    },
    {
     "name": "stdout",
     "output_type": "stream",
     "text": [
      "Separating top and bottom poses...\n",
      "Done!\n",
      "match20 1_11_10\n",
      "Read in files. Processing poses...\n"
     ]
    },
    {
     "data": {
      "application/vnd.jupyter.widget-view+json": {
       "model_id": "57d13411c1c24f97a5e9e79ec2efb0b1",
       "version_major": 2,
       "version_minor": 0
      },
      "text/plain": [
       "  0%|          | 0/94454 [00:00<?, ?it/s]"
      ]
     },
     "metadata": {},
     "output_type": "display_data"
    },
    {
     "name": "stdout",
     "output_type": "stream",
     "text": [
      "Separating top and bottom poses...\n",
      "Done!\n",
      "match21 2_09_08\n",
      "Read in files. Processing poses...\n"
     ]
    },
    {
     "data": {
      "application/vnd.jupyter.widget-view+json": {
       "model_id": "d5dc6eeed3824b6a8e7458a2cc56dce1",
       "version_major": 2,
       "version_minor": 0
      },
      "text/plain": [
       "  0%|          | 0/217450 [00:00<?, ?it/s]"
      ]
     },
     "metadata": {},
     "output_type": "display_data"
    },
    {
     "name": "stdout",
     "output_type": "stream",
     "text": [
      "Separating top and bottom poses...\n",
      "Done!\n",
      "match21 2_02_03\n",
      "Read in files. Processing poses...\n"
     ]
    },
    {
     "data": {
      "application/vnd.jupyter.widget-view+json": {
       "model_id": "a1e6d4881efb473080068da4ce08994c",
       "version_major": 2,
       "version_minor": 0
      },
      "text/plain": [
       "  0%|          | 0/164761 [00:00<?, ?it/s]"
      ]
     },
     "metadata": {},
     "output_type": "display_data"
    },
    {
     "name": "stdout",
     "output_type": "stream",
     "text": [
      "Separating top and bottom poses...\n",
      "Done!\n",
      "match21 1_19_19\n",
      "Read in files. Processing poses...\n"
     ]
    },
    {
     "data": {
      "application/vnd.jupyter.widget-view+json": {
       "model_id": "5b79ee63a90c41129f2d9e4f41491f22",
       "version_major": 2,
       "version_minor": 0
      },
      "text/plain": [
       "  0%|          | 0/90221 [00:00<?, ?it/s]"
      ]
     },
     "metadata": {},
     "output_type": "display_data"
    },
    {
     "name": "stdout",
     "output_type": "stream",
     "text": [
      "Separating top and bottom poses...\n",
      "Done!\n",
      "match21 2_12_08\n",
      "Read in files. Processing poses...\n"
     ]
    },
    {
     "data": {
      "application/vnd.jupyter.widget-view+json": {
       "model_id": "058c4e50f7674df4a6d888f14fa279c6",
       "version_major": 2,
       "version_minor": 0
      },
      "text/plain": [
       "  0%|          | 0/114640 [00:00<?, ?it/s]"
      ]
     },
     "metadata": {},
     "output_type": "display_data"
    },
    {
     "name": "stdout",
     "output_type": "stream",
     "text": [
      "Separating top and bottom poses...\n",
      "Done!\n",
      "match21 1_02_01\n",
      "Read in files. Processing poses...\n"
     ]
    },
    {
     "data": {
      "application/vnd.jupyter.widget-view+json": {
       "model_id": "774e9b2c33494908b8c109315a15ce9f",
       "version_major": 2,
       "version_minor": 0
      },
      "text/plain": [
       "  0%|          | 0/168713 [00:00<?, ?it/s]"
      ]
     },
     "metadata": {},
     "output_type": "display_data"
    },
    {
     "name": "stdout",
     "output_type": "stream",
     "text": [
      "Separating top and bottom poses...\n",
      "Done!\n",
      "match21 1_16_17\n",
      "Read in files. Processing poses...\n"
     ]
    },
    {
     "data": {
      "application/vnd.jupyter.widget-view+json": {
       "model_id": "b710968600ce4d39a426375278b2de6d",
       "version_major": 2,
       "version_minor": 0
      },
      "text/plain": [
       "  0%|          | 0/225318 [00:00<?, ?it/s]"
      ]
     },
     "metadata": {},
     "output_type": "display_data"
    },
    {
     "name": "stdout",
     "output_type": "stream",
     "text": [
      "Separating top and bottom poses...\n",
      "Done!\n",
      "match21 2_04_04\n",
      "Read in files. Processing poses...\n"
     ]
    },
    {
     "data": {
      "application/vnd.jupyter.widget-view+json": {
       "model_id": "e43eab7872a04970a68d658131751b88",
       "version_major": 2,
       "version_minor": 0
      },
      "text/plain": [
       "  0%|          | 0/132319 [00:00<?, ?it/s]"
      ]
     },
     "metadata": {},
     "output_type": "display_data"
    },
    {
     "name": "stdout",
     "output_type": "stream",
     "text": [
      "Separating top and bottom poses...\n",
      "Done!\n",
      "match22 2_17_18\n",
      "Read in files. Processing poses...\n"
     ]
    },
    {
     "data": {
      "application/vnd.jupyter.widget-view+json": {
       "model_id": "4cc66b28d50f47b0855d6777681e2908",
       "version_major": 2,
       "version_minor": 0
      },
      "text/plain": [
       "  0%|          | 0/267586 [00:00<?, ?it/s]"
      ]
     },
     "metadata": {},
     "output_type": "display_data"
    },
    {
     "name": "stdout",
     "output_type": "stream",
     "text": [
      "Separating top and bottom poses...\n",
      "Done!\n",
      "match22 3_15_13\n",
      "Read in files. Processing poses...\n"
     ]
    },
    {
     "data": {
      "application/vnd.jupyter.widget-view+json": {
       "model_id": "f1df1835e79e44f4ae8298147b12ac43",
       "version_major": 2,
       "version_minor": 0
      },
      "text/plain": [
       "  0%|          | 0/136207 [00:00<?, ?it/s]"
      ]
     },
     "metadata": {},
     "output_type": "display_data"
    },
    {
     "name": "stdout",
     "output_type": "stream",
     "text": [
      "Separating top and bottom poses...\n",
      "Done!\n",
      "match22 1_02_01\n",
      "Read in files. Processing poses...\n"
     ]
    },
    {
     "data": {
      "application/vnd.jupyter.widget-view+json": {
       "model_id": "a30dba17aaf749fdb7348f887d8847fd",
       "version_major": 2,
       "version_minor": 0
      },
      "text/plain": [
       "  0%|          | 0/317302 [00:00<?, ?it/s]"
      ]
     },
     "metadata": {},
     "output_type": "display_data"
    },
    {
     "name": "stdout",
     "output_type": "stream",
     "text": [
      "Separating top and bottom poses...\n",
      "Done!\n",
      "match22 2_18_18\n",
      "Read in files. Processing poses...\n"
     ]
    },
    {
     "data": {
      "application/vnd.jupyter.widget-view+json": {
       "model_id": "f5aaf3ee43e541feb50039d3b1dd3e9c",
       "version_major": 2,
       "version_minor": 0
      },
      "text/plain": [
       "  0%|          | 0/227675 [00:00<?, ?it/s]"
      ]
     },
     "metadata": {},
     "output_type": "display_data"
    },
    {
     "name": "stdout",
     "output_type": "stream",
     "text": [
      "Separating top and bottom poses...\n",
      "Done!\n",
      "match22 1_07_02\n",
      "Read in files. Processing poses...\n"
     ]
    },
    {
     "data": {
      "application/vnd.jupyter.widget-view+json": {
       "model_id": "c3b0ff553a0a4c1e9652cf4ca4df731b",
       "version_major": 2,
       "version_minor": 0
      },
      "text/plain": [
       "  0%|          | 0/132474 [00:00<?, ?it/s]"
      ]
     },
     "metadata": {},
     "output_type": "display_data"
    },
    {
     "name": "stdout",
     "output_type": "stream",
     "text": [
      "Separating top and bottom poses...\n",
      "Done!\n"
     ]
    }
   ],
   "source": [
    "import os\n",
    "matches = list('match' + str(i) for i in range(1, 23))\n",
    "\n",
    "for match in matches:\n",
    "    for video in os.listdir('/home/code-base/scratch_space/data/%s/rally_video/' % match):\n",
    "        rally, _ = os.path.splitext(video)\n",
    "        \n",
    "        court_pts = read_court('/home/code-base/scratch_space/data/%s/court/%s.out' % (match, rally))\n",
    "        corners = [court_pts[1], court_pts[2], court_pts[0], court_pts[3]]\n",
    "        court = Court(corners)\n",
    "\n",
    "        print(match, rally)\n",
    "        poses = process_pose_file(\n",
    "            '/home/code-base/scratch_space/data/%s/poses/%s.out' % (match, rally), \n",
    "            '/home/code-base/scratch_space/data/%s/poses/%s' % (match, rally), \n",
    "            court,\n",
    "            fullPose=True\n",
    "        )"
   ]
  },
  {
   "cell_type": "markdown",
   "metadata": {},
   "source": [
    "# Creating a neural net that uses pose and court information"
   ]
  },
  {
   "cell_type": "code",
   "execution_count": null,
   "metadata": {
    "tags": []
   },
   "outputs": [],
   "source": [
    "import os\n",
    "import pandas as pd\n",
    "import numpy as np\n",
    "import cv2\n",
    "\n",
    "def read_court(filename):\n",
    "    file = open(filename, 'r')\n",
    "    coordinates = [[float(x) for x in line.split(';')] for line in file]\n",
    "    return coordinates\n",
    "\n",
    "num_consec = 5\n",
    "matches = list('match' + str(i) for i in range(1, 23))\n",
    "\n",
    "from sklearn.preprocessing import MinMaxScaler, StandardScaler\n",
    "\n",
    "x_train, y_train = [], []\n",
    "for match in matches:\n",
    "    for video in os.listdir('/home/code-base/scratch_space/data/%s/rally_video/' % match):\n",
    "        cap = cv2.VideoCapture('/home/code-base/scratch_space/data/%s/rally_video/%s' % (match, video))\n",
    "        shape = cap.read()[1].shape\n",
    "        height, width = shape[1], shape[0]\n",
    "\n",
    "        rally, _ = os.path.splitext(video)\n",
    "        trajectory = pd.read_csv('/home/code-base/scratch_space/data/%s/ball_trajectory/%s_ball.csv' % (match, rally))\n",
    "        hit = pd.read_csv('/home/code-base/scratch_space/data/%s/shot/%s_hit.csv' % (match, rally))\n",
    "        trajectory[trajectory.X == 0] = float('nan')\n",
    "        trajectory[trajectory.Y == 0] = float('nan')\n",
    "        \n",
    "        trajectory = trajectory.assign(X=trajectory.X.interpolate(method='slinear'))\n",
    "        trajectory = trajectory.assign(Y=trajectory.Y.interpolate(method='slinear'))\n",
    "        trajectory.fillna(method='bfill', inplace=True)\n",
    "        trajectory.fillna(method='ffill', inplace=True)\n",
    "        \n",
    "        bottom_player = pd.read_csv('/home/code-base/scratch_space/data/%s/poses/%s_bottom.csv' % (match, rally))\n",
    "        top_player = pd.read_csv('/home/code-base/scratch_space/data/%s/poses/%s_top.csv' % (match, rally))\n",
    "        bottom_player.drop('frame', axis=1, inplace=True)\n",
    "        top_player.drop('frame', axis=1, inplace=True)\n",
    "        bottom_player.fillna(0, inplace=True)\n",
    "        top_player.fillna(0, inplace=True)\n",
    "        \n",
    "        x_list, y_list = [], []\n",
    "        court_pts = read_court('/home/code-base/scratch_space/data/%s/court/%s.out' % (match, rally))\n",
    "        corners = np.array([court_pts[1], court_pts[2], court_pts[0], court_pts[3]]).flatten()\n",
    "    \n",
    "        def reflect(x):\n",
    "            x_ = np.array(x)\n",
    "            for i in range(0, x.shape[1], 2):\n",
    "                x_[:, i] = width - x_[:, i]\n",
    "            return x_\n",
    "\n",
    "        for i in range(num_consec):\n",
    "            end = min(len(trajectory.X), len(hit.hit))-num_consec+i+1\n",
    "            x_bird = np.array(list(zip(trajectory.X[i:end], trajectory.Y[i:end])))\n",
    "            \n",
    "            # Reduce amount of data by averaging coordinate values\n",
    "#             bottom_x = np.median(bottom_player.values[i:end][:, ::2], axis=1)\n",
    "#             bottom_y = np.median(bottom_player.values[i:end][:, 1::2], axis=1)\n",
    "#             top_x = np.median(top_player.values[i:end][:, ::2], axis=1)\n",
    "#             top_y = np.median(top_player.values[i:end][:, 1::2], axis=1)\n",
    "            \n",
    "            # Use median values only\n",
    "#             x_pose = np.vstack([bottom_x, bottom_y, top_x, top_y]).T\n",
    "\n",
    "            # Use entire pose\n",
    "            x_pose = np.hstack([bottom_player.values[i:end], top_player.values[i:end]])\n",
    "            x = np.hstack([x_bird, x_pose, np.array([corners for j in range(i, end)])])\n",
    "#             x = np.hstack([x_bird, np.array([corners for j in range(i, end)])])\n",
    "            y = hit.hit[i:end].to_numpy().astype(float)\n",
    "            x_list.append(x)\n",
    "            y_list.append(y)\n",
    "\n",
    "        x_t = np.hstack(x_list)\n",
    "        y_t = np.sum(np.column_stack(y_list[1:-1]), axis=1)\n",
    "        \n",
    "#         scaler = MinMaxScaler()\n",
    "#         scaler.fit(x_t)\n",
    "#         x_t = scaler.transform(x_t)\n",
    "#         x_train.append(x_t)\n",
    "#         y_train.append(y_t)\n",
    "        \n",
    "#         scaler = MinMaxScaler()\n",
    "#         scaler.fit(reflect(x_t))\n",
    "#         x_t = scaler.transform(reflect(x_t))\n",
    "#         x_train.append(x_t)\n",
    "#         y_train.append(y_t)\n",
    "\n",
    "        x_train.append(x_t)\n",
    "        y_train.append(y_t)\n",
    "        x_train.append(reflect(x_t))\n",
    "        y_train.append(y_t)\n",
    "\n",
    "x_train = np.vstack(x_train)\n",
    "y_train = np.hstack(y_train)"
   ]
  },
  {
   "cell_type": "code",
   "execution_count": null,
   "metadata": {
    "tags": []
   },
   "outputs": [],
   "source": [
    "from keras.models import *\n",
    "from keras.layers import *\n",
    "import keras.backend as K\n",
    "from keras import optimizers\n",
    "from keras.activations import *\n",
    "import tensorflow as tf\n",
    "import cv2\n",
    "import math\n",
    "\n",
    "dropout = 0.4\n",
    "\n",
    "input_layer = Input(shape=(x_train[0].shape[0],))\n",
    "x = Dense(\n",
    "    70, \n",
    "    activation='relu',\n",
    "#     kernel_regularizer=tf.contrib.layers.l2_regularizer(scale=1e-9)\n",
    ")(input_layer)\n",
    "# x = ActivityRegularization(l1=1e-9)(x)\n",
    "# x = BatchNormalization()(x)\n",
    "# x = Dropout(dropout)(x)\n",
    "x = Dense(\n",
    "    30, \n",
    "    activation='relu',\n",
    "#     kernel_regularizer=tf.contrib.layers.l2_regularizer(scale=1e-9)\n",
    ")(x)\n",
    "# x = Dropout(dropout)(x)\n",
    "\n",
    "# x = ActivityRegularization(l1=1e-9)(x)\n",
    "# x = ActivityRegularization()(x)\n",
    "# x = BatchNormalization()(x)\n",
    "\n",
    "# x = Dense(\n",
    "#     32, \n",
    "#     activation='relu',\n",
    "# #     kernel_regularizer=tf.contrib.layers.l2_regularizer(scale=1e-7)\n",
    "# )(x)\n",
    "# # x = ActivityRegularization(l1=1e-11)(x)\n",
    "# x = BatchNormalization()(x)\n",
    "\n",
    "# x = Dense(\n",
    "#     16, \n",
    "#     activation='relu',\n",
    "# #     kernel_regularizer=tf.contrib.layers.l2_regularizer(scale=1e-7)\n",
    "# )(x)\n",
    "# x = BatchNormalization()(x)\n",
    "\n",
    "output_layer = Dense(\n",
    "    1, \n",
    "    activation='sigmoid',\n",
    "#     kernel_regularizer=tf.contrib.layers.l2_regularizer(scale=1e-7)\n",
    ")(x)\n",
    "\n",
    "model = Model(input_layer, output_layer)"
   ]
  },
  {
   "cell_type": "code",
   "execution_count": null,
   "metadata": {
    "tags": []
   },
   "outputs": [],
   "source": [
    "opt = optimizers.Adam(lr=1e-1)\n",
    "model.compile(\n",
    "    optimizer='adam', \n",
    "    loss=\"binary_crossentropy\",\n",
    "    metrics=['accuracy', tf.keras.metrics.Recall(), tf.keras.metrics.Precision()]\n",
    ")\n",
    "model.summary()"
   ]
  },
  {
   "cell_type": "code",
   "execution_count": null,
   "metadata": {
    "tags": []
   },
   "outputs": [],
   "source": [
    "import random\n",
    "\n",
    "p = sum(y_train == 1) / sum(y_train == 0)\n",
    "subsample = []\n",
    "for i in range(x_train.shape[0]):\n",
    "    if random.random() < p or y_train[i]:\n",
    "        subsample.append(i)\n",
    "\n",
    "x_sub = x_train[subsample]\n",
    "y_sub = y_train[subsample]\n",
    "\n",
    "from sklearn.model_selection import train_test_split\n",
    "x_tr, x_val, y_tr, y_val = train_test_split(x_sub, y_sub, test_size=0.1, shuffle=True)"
   ]
  },
  {
   "cell_type": "code",
   "execution_count": null,
   "metadata": {
    "tags": []
   },
   "outputs": [],
   "source": [
    "from sklearn.utils import class_weight\n",
    "from sklearn.metrics import classification_report\n",
    "\n",
    "# from keras import backend as K\n",
    "# K.set_value(model.optimizer.learning_rate, 1e-5)\n",
    "\n",
    "model.fit(\n",
    "    x_tr, y_tr, \n",
    "    batch_size=64, \n",
    "    epochs=1000,\n",
    "    shuffle=True,\n",
    "    validation_data=(x_val, y_val),\n",
    "    verbose=1)"
   ]
  },
  {
   "cell_type": "code",
   "execution_count": null,
   "metadata": {
    "tags": []
   },
   "outputs": [],
   "source": [
    "y_pred = np.round(model.predict(x_train) > 0.7)\n",
    "print(classification_report(y_train, y_pred))"
   ]
  },
  {
   "cell_type": "code",
   "execution_count": null,
   "metadata": {
    "tags": []
   },
   "outputs": [],
   "source": [
    "import keras\n",
    "keras.models.save_model(model, './hitnet_plus_court_model')"
   ]
  },
  {
   "cell_type": "markdown",
   "metadata": {},
   "source": [
    "# Conv. nets for shuttle detection"
   ]
  },
  {
   "cell_type": "code",
   "execution_count": 11,
   "metadata": {},
   "outputs": [],
   "source": [
    "from keras import objectives, backend as K\n",
    "import keras\n",
    "import tensorflow as tf\n",
    "\n",
    "sess = tf.compat.v1.Session(config=tf.compat.v1.ConfigProto(\n",
    "    device_count={ 'CPU': 16 , 'GPU':4},\n",
    "    inter_op_parallelism_threads=0,\n",
    "    allow_soft_placement=True,\n",
    "    gpu_options= {'allow_growth': True, 'visible_device_list': \"0,1,2,3\"},\n",
    "    intra_op_parallelism_threads=0,\n",
    "))\n",
    "\n",
    "K.set_session(sess)"
   ]
  },
  {
   "cell_type": "code",
   "execution_count": 145,
   "metadata": {},
   "outputs": [],
   "source": [
    "import tensorflow as tf\n",
    "import cv2\n",
    "import math\n",
    "\n",
    "from tensorflow.keras.models import *\n",
    "from tensorflow.keras.layers import *\n",
    "import tensorflow.keras.backend as K\n",
    "from tensorflow.keras import optimizers\n",
    "from tensorflow.keras.activations import *\n",
    "from tensorflow.keras import regularizers\n",
    "\n",
    "\n",
    "dropout = 0.5\n",
    "# mirrored_strategy = tf.distribute.MirroredStrategy(devices=[\"/gpu:0\", \"/gpu:1\", \"/gpu:2\", \"/gpu:3\"])\n",
    "# mirrored_strategy = tf.distribute.MirroredStrategy()\n",
    "\n",
    "# with mirrored_strategy.scope():\n",
    "input_layer = Input(shape=(x_train[0].shape[0],))\n",
    "x = Reshape(target_shape=(num_consec, x_train[0].shape[0] // (2 * num_consec), 2, 1))(input_layer)\n",
    "x = Conv3D(\n",
    "    filters=10,\n",
    "    kernel_size=(1, 39, 2),\n",
    "    kernel_initializer='he_uniform',\n",
    "    activation='relu',\n",
    "    data_format=\"channels_last\",\n",
    "#     kernel_regularizer=regularizers.l1_l2(l1=1e-5, l2=1e-4),\n",
    "#     bias_regularizer=regularizers.l2(1e-4),\n",
    "#     activity_regularizer=regularizers.l2(1e-5)\n",
    ")(x)\n",
    "x_base = Reshape(target_shape=(num_consec, 10))(x)\n",
    "x2 = Conv1D(\n",
    "    filters=6,\n",
    "    kernel_size=2,\n",
    "    kernel_initializer='he_uniform',\n",
    "    activation='relu',\n",
    "#     kernel_regularizer=regularizers.l1_l2(l1=1e-5, l2=1e-4),\n",
    "#     bias_regularizer=regularizers.l2(1e-4),\n",
    "#     activity_regularizer=regularizers.l2(1e-5)\n",
    ")(x_base)\n",
    "x2 = Dense(\n",
    "    6,\n",
    "    activation='relu'\n",
    ")(Flatten()(x2))\n",
    "\n",
    "x3 = Conv1D(\n",
    "    filters=4,\n",
    "    kernel_size=3,\n",
    "    kernel_initializer='he_uniform',\n",
    "    activation='relu',\n",
    "#     kernel_regularizer=regularizers.l1_l2(l1=1e-5, l2=1e-4),\n",
    "#     bias_regularizer=regularizers.l2(1e-4),\n",
    "#     activity_regularizer=regularizers.l2(1e-5)\n",
    ")(x_base)\n",
    "x3 = Dense(\n",
    "    4,\n",
    "    activation='relu'\n",
    ")(Flatten()(x3))\n",
    "x4 = Conv1D(\n",
    "    filters=2,\n",
    "    kernel_size=4,\n",
    "    kernel_initializer='he_uniform',\n",
    "    activation='relu',\n",
    "#     kernel_regularizer=regularizers.l1_l2(l1=1e-5, l2=1e-4),\n",
    "#     bias_regularizer=regularizers.l2(1e-4),\n",
    "#     activity_regularizer=regularizers.l2(1e-5)\n",
    ")(x_base)\n",
    "x4 = Dense(\n",
    "    2,\n",
    "    activation='relu'\n",
    ")(Flatten()(x4))\n",
    "\n",
    "x = Concatenate()([x2, x3, x4])\n",
    "x = Dense(\n",
    "    12,\n",
    "    activation='relu'\n",
    ")(x)\n",
    "output_layer = Dense(2)(x)\n",
    "\n",
    "model = Model(input_layer, output_layer)"
   ]
  },
  {
   "cell_type": "code",
   "execution_count": 146,
   "metadata": {},
   "outputs": [
    {
     "name": "stdout",
     "output_type": "stream",
     "text": [
      "Model: \"model_11\"\n",
      "__________________________________________________________________________________________________\n",
      "Layer (type)                    Output Shape         Param #     Connected to                     \n",
      "==================================================================================================\n",
      "input_17 (InputLayer)           [(None, 780)]        0                                            \n",
      "__________________________________________________________________________________________________\n",
      "reshape_31 (Reshape)            (None, 10, 39, 2, 1) 0           input_17[0][0]                   \n",
      "__________________________________________________________________________________________________\n",
      "conv3d_15 (Conv3D)              (None, 10, 1, 1, 10) 790         reshape_31[0][0]                 \n",
      "__________________________________________________________________________________________________\n",
      "reshape_32 (Reshape)            (None, 10, 10)       0           conv3d_15[0][0]                  \n",
      "__________________________________________________________________________________________________\n",
      "conv1d_36 (Conv1D)              (None, 9, 6)         126         reshape_32[0][0]                 \n",
      "__________________________________________________________________________________________________\n",
      "conv1d_37 (Conv1D)              (None, 8, 4)         124         reshape_32[0][0]                 \n",
      "__________________________________________________________________________________________________\n",
      "conv1d_38 (Conv1D)              (None, 7, 2)         82          reshape_32[0][0]                 \n",
      "__________________________________________________________________________________________________\n",
      "flatten_36 (Flatten)            (None, 54)           0           conv1d_36[0][0]                  \n",
      "__________________________________________________________________________________________________\n",
      "flatten_37 (Flatten)            (None, 32)           0           conv1d_37[0][0]                  \n",
      "__________________________________________________________________________________________________\n",
      "flatten_38 (Flatten)            (None, 14)           0           conv1d_38[0][0]                  \n",
      "__________________________________________________________________________________________________\n",
      "dense_55 (Dense)                (None, 6)            330         flatten_36[0][0]                 \n",
      "__________________________________________________________________________________________________\n",
      "dense_56 (Dense)                (None, 4)            132         flatten_37[0][0]                 \n",
      "__________________________________________________________________________________________________\n",
      "dense_57 (Dense)                (None, 2)            30          flatten_38[0][0]                 \n",
      "__________________________________________________________________________________________________\n",
      "concatenate_12 (Concatenate)    (None, 12)           0           dense_55[0][0]                   \n",
      "                                                                 dense_56[0][0]                   \n",
      "                                                                 dense_57[0][0]                   \n",
      "__________________________________________________________________________________________________\n",
      "dense_58 (Dense)                (None, 12)           156         concatenate_12[0][0]             \n",
      "__________________________________________________________________________________________________\n",
      "dense_59 (Dense)                (None, 2)            26          dense_58[0][0]                   \n",
      "==================================================================================================\n",
      "Total params: 1,796\n",
      "Trainable params: 1,796\n",
      "Non-trainable params: 0\n",
      "__________________________________________________________________________________________________\n"
     ]
    }
   ],
   "source": [
    "model.compile(\n",
    "    optimizer='adam', \n",
    "    loss=\"mse\",\n",
    "    metrics=['mse']\n",
    ")\n",
    "model.summary()"
   ]
  },
  {
   "cell_type": "code",
   "execution_count": null,
   "metadata": {
    "tags": []
   },
   "outputs": [
    {
     "name": "stdout",
     "output_type": "stream",
     "text": [
      "Epoch 1/3000\n",
      "6039/6039 [==============================] - 18s 3ms/step - loss: 1.8120e-04 - mse: 1.8120e-04\n",
      "Epoch 2/3000\n",
      "6039/6039 [==============================] - 19s 3ms/step - loss: 1.8098e-04 - mse: 1.8098e-04\n",
      "Epoch 3/3000\n",
      "6039/6039 [==============================] - 19s 3ms/step - loss: 1.7984e-04 - mse: 1.7984e-04\n",
      "Epoch 4/3000\n",
      "6039/6039 [==============================] - 19s 3ms/step - loss: 1.7689e-04 - mse: 1.7689e-04\n",
      "Epoch 5/3000\n",
      "6039/6039 [==============================] - 18s 3ms/step - loss: 1.7958e-04 - mse: 1.7958e-04\n",
      "Epoch 6/3000\n",
      "6039/6039 [==============================] - 19s 3ms/step - loss: 1.7902e-04 - mse: 1.7902e-04\n",
      "Epoch 7/3000\n",
      "6039/6039 [==============================] - 18s 3ms/step - loss: 1.7442e-04 - mse: 1.7442e-04\n",
      "Epoch 8/3000\n",
      "6039/6039 [==============================] - 18s 3ms/step - loss: 1.7269e-04 - mse: 1.7269e-04\n",
      "Epoch 9/3000\n",
      "6039/6039 [==============================] - 19s 3ms/step - loss: 1.7677e-04 - mse: 1.7677e-04\n",
      "Epoch 10/3000\n",
      "6039/6039 [==============================] - 19s 3ms/step - loss: 1.7442e-04 - mse: 1.7442e-04\n",
      "Epoch 11/3000\n",
      "6039/6039 [==============================] - 18s 3ms/step - loss: 1.7262e-04 - mse: 1.7262e-04\n",
      "Epoch 12/3000\n",
      "6039/6039 [==============================] - 18s 3ms/step - loss: 1.7166e-04 - mse: 1.7166e-04\n",
      "Epoch 13/3000\n",
      "6039/6039 [==============================] - 19s 3ms/step - loss: 1.6886e-04 - mse: 1.6886e-04\n",
      "Epoch 14/3000\n",
      "6039/6039 [==============================] - 18s 3ms/step - loss: 1.7007e-04 - mse: 1.7007e-04\n",
      "Epoch 15/3000\n",
      "6039/6039 [==============================] - 18s 3ms/step - loss: 1.6888e-04 - mse: 1.6888e-04\n",
      "Epoch 16/3000\n",
      "6039/6039 [==============================] - 19s 3ms/step - loss: 1.6824e-04 - mse: 1.6824e-04\n",
      "Epoch 17/3000\n",
      "6039/6039 [==============================] - 18s 3ms/step - loss: 1.6675e-04 - mse: 1.6675e-04\n",
      "Epoch 18/3000\n",
      "6039/6039 [==============================] - 18s 3ms/step - loss: 1.6606e-04 - mse: 1.6606e-04\n",
      "Epoch 19/3000\n",
      "6039/6039 [==============================] - 19s 3ms/step - loss: 1.6564e-04 - mse: 1.6564e-04\n",
      "Epoch 20/3000\n",
      "6039/6039 [==============================] - 19s 3ms/step - loss: 1.6425e-04 - mse: 1.6425e-04\n",
      "Epoch 21/3000\n",
      "6039/6039 [==============================] - 18s 3ms/step - loss: 1.6412e-04 - mse: 1.6412e-04\n",
      "Epoch 22/3000\n",
      "6039/6039 [==============================] - 19s 3ms/step - loss: 1.6408e-04 - mse: 1.6408e-04\n",
      "Epoch 23/3000\n",
      "6039/6039 [==============================] - 19s 3ms/step - loss: 1.6306e-04 - mse: 1.6306e-04\n",
      "Epoch 24/3000\n",
      "6039/6039 [==============================] - 19s 3ms/step - loss: 1.6327e-04 - mse: 1.6327e-04\n",
      "Epoch 25/3000\n",
      "6039/6039 [==============================] - 19s 3ms/step - loss: 1.6297e-04 - mse: 1.6297e-04\n",
      "Epoch 26/3000\n",
      "6039/6039 [==============================] - 19s 3ms/step - loss: 1.6302e-04 - mse: 1.6302e-04\n",
      "Epoch 27/3000\n",
      "6039/6039 [==============================] - 19s 3ms/step - loss: 1.6148e-04 - mse: 1.6148e-04\n",
      "Epoch 28/3000\n",
      "6039/6039 [==============================] - 18s 3ms/step - loss: 1.6024e-04 - mse: 1.6024e-04\n",
      "Epoch 29/3000\n",
      "6039/6039 [==============================] - 19s 3ms/step - loss: 1.6151e-04 - mse: 1.6151e-04\n",
      "Epoch 30/3000\n",
      "6039/6039 [==============================] - 18s 3ms/step - loss: 1.6001e-04 - mse: 1.6001e-04\n",
      "Epoch 31/3000\n",
      "6039/6039 [==============================] - 18s 3ms/step - loss: 1.6082e-04 - mse: 1.6082e-04\n",
      "Epoch 32/3000\n",
      "6039/6039 [==============================] - 19s 3ms/step - loss: 1.5921e-04 - mse: 1.5921e-04\n",
      "Epoch 33/3000\n",
      "6039/6039 [==============================] - 18s 3ms/step - loss: 1.5821e-04 - mse: 1.5821e-04\n",
      "Epoch 34/3000\n",
      "6039/6039 [==============================] - 18s 3ms/step - loss: 1.5800e-04 - mse: 1.5800e-04\n",
      "Epoch 35/3000\n",
      "6039/6039 [==============================] - 18s 3ms/step - loss: 1.5854e-04 - mse: 1.5854e-04\n",
      "Epoch 36/3000\n",
      "6039/6039 [==============================] - 19s 3ms/step - loss: 1.5771e-04 - mse: 1.5771e-04\n",
      "Epoch 37/3000\n",
      "6039/6039 [==============================] - 18s 3ms/step - loss: 1.5886e-04 - mse: 1.5886e-04\n",
      "Epoch 38/3000\n",
      "6039/6039 [==============================] - 18s 3ms/step - loss: 1.5658e-04 - mse: 1.5658e-04\n",
      "Epoch 39/3000\n",
      "6039/6039 [==============================] - 19s 3ms/step - loss: 1.5675e-04 - mse: 1.5675e-04\n",
      "Epoch 40/3000\n",
      "6039/6039 [==============================] - 19s 3ms/step - loss: 1.5633e-04 - mse: 1.5633e-04\n",
      "Epoch 41/3000\n",
      "6039/6039 [==============================] - 18s 3ms/step - loss: 1.5498e-04 - mse: 1.5498e-04\n",
      "Epoch 42/3000\n",
      "6039/6039 [==============================] - 18s 3ms/step - loss: 1.5562e-04 - mse: 1.5562e-04\n",
      "Epoch 43/3000\n",
      "6039/6039 [==============================] - 18s 3ms/step - loss: 1.5506e-04 - mse: 1.5506e-04\n",
      "Epoch 44/3000\n",
      "6039/6039 [==============================] - 18s 3ms/step - loss: 1.5429e-04 - mse: 1.5429e-04\n",
      "Epoch 45/3000\n",
      "6039/6039 [==============================] - 18s 3ms/step - loss: 1.5377e-04 - mse: 1.5377e-04\n",
      "Epoch 46/3000\n",
      "6039/6039 [==============================] - 18s 3ms/step - loss: 1.5447e-04 - mse: 1.5447e-04\n",
      "Epoch 47/3000\n",
      "6039/6039 [==============================] - 18s 3ms/step - loss: 1.5477e-04 - mse: 1.5477e-04\n",
      "Epoch 48/3000\n",
      "6039/6039 [==============================] - 19s 3ms/step - loss: 1.5437e-04 - mse: 1.5437e-04\n",
      "Epoch 49/3000\n",
      "6039/6039 [==============================] - 19s 3ms/step - loss: 1.5316e-04 - mse: 1.5316e-04\n",
      "Epoch 50/3000\n",
      "6039/6039 [==============================] - 18s 3ms/step - loss: 1.5287e-04 - mse: 1.5287e-04\n",
      "Epoch 51/3000\n",
      "6039/6039 [==============================] - 19s 3ms/step - loss: 1.5231e-04 - mse: 1.5231e-04\n",
      "Epoch 52/3000\n",
      "6039/6039 [==============================] - 18s 3ms/step - loss: 1.5319e-04 - mse: 1.5319e-04\n",
      "Epoch 53/3000\n",
      "6039/6039 [==============================] - 19s 3ms/step - loss: 1.5367e-04 - mse: 1.5367e-04\n",
      "Epoch 54/3000\n",
      "6039/6039 [==============================] - 18s 3ms/step - loss: 1.5228e-04 - mse: 1.5228e-04\n",
      "Epoch 55/3000\n",
      "6039/6039 [==============================] - 19s 3ms/step - loss: 1.5236e-04 - mse: 1.5236e-04\n",
      "Epoch 56/3000\n",
      "6039/6039 [==============================] - 18s 3ms/step - loss: 1.5293e-04 - mse: 1.5293e-04\n",
      "Epoch 57/3000\n",
      "6039/6039 [==============================] - 19s 3ms/step - loss: 1.5213e-04 - mse: 1.5213e-04\n",
      "Epoch 58/3000\n",
      "6039/6039 [==============================] - 19s 3ms/step - loss: 1.5120e-04 - mse: 1.5120e-04\n",
      "Epoch 59/3000\n",
      "6039/6039 [==============================] - 18s 3ms/step - loss: 1.5041e-04 - mse: 1.5041e-04\n",
      "Epoch 60/3000\n",
      "6039/6039 [==============================] - 19s 3ms/step - loss: 1.5073e-04 - mse: 1.5073e-04\n",
      "Epoch 61/3000\n",
      "6039/6039 [==============================] - 18s 3ms/step - loss: 1.5198e-04 - mse: 1.5198e-04\n",
      "Epoch 62/3000\n",
      "6039/6039 [==============================] - 18s 3ms/step - loss: 1.5027e-04 - mse: 1.5027e-04\n",
      "Epoch 63/3000\n",
      "6039/6039 [==============================] - 18s 3ms/step - loss: 1.5153e-04 - mse: 1.5153e-04\n",
      "Epoch 64/3000\n",
      "6039/6039 [==============================] - 19s 3ms/step - loss: 1.4845e-04 - mse: 1.4845e-04\n",
      "Epoch 65/3000\n",
      "6039/6039 [==============================] - 19s 3ms/step - loss: 1.4797e-04 - mse: 1.4797e-04\n",
      "Epoch 66/3000\n",
      "6039/6039 [==============================] - 18s 3ms/step - loss: 1.4867e-04 - mse: 1.4867e-04\n",
      "Epoch 67/3000\n",
      "6039/6039 [==============================] - 18s 3ms/step - loss: 1.4740e-04 - mse: 1.4740e-04\n",
      "Epoch 68/3000\n",
      "6039/6039 [==============================] - 18s 3ms/step - loss: 1.4712e-04 - mse: 1.4712e-04\n",
      "Epoch 69/3000\n",
      "6039/6039 [==============================] - 18s 3ms/step - loss: 1.4786e-04 - mse: 1.4786e-04\n",
      "Epoch 70/3000\n",
      "6039/6039 [==============================] - 19s 3ms/step - loss: 1.4973e-04 - mse: 1.4973e-04\n",
      "Epoch 71/3000\n",
      "6039/6039 [==============================] - 19s 3ms/step - loss: 1.4690e-04 - mse: 1.4690e-04\n",
      "Epoch 72/3000\n",
      "6039/6039 [==============================] - 18s 3ms/step - loss: 1.4878e-04 - mse: 1.4878e-04\n",
      "Epoch 73/3000\n",
      "6039/6039 [==============================] - 19s 3ms/step - loss: 1.4885e-04 - mse: 1.4885e-04\n",
      "Epoch 74/3000\n",
      "6039/6039 [==============================] - 18s 3ms/step - loss: 1.4634e-04 - mse: 1.4634e-04\n",
      "Epoch 75/3000\n",
      "6039/6039 [==============================] - 18s 3ms/step - loss: 1.4813e-04 - mse: 1.4813e-04\n",
      "Epoch 76/3000\n",
      "6039/6039 [==============================] - 18s 3ms/step - loss: 1.4723e-04 - mse: 1.4723e-04\n",
      "Epoch 77/3000\n",
      "6039/6039 [==============================] - 18s 3ms/step - loss: 1.4683e-04 - mse: 1.4683e-04\n",
      "Epoch 78/3000\n",
      "6039/6039 [==============================] - 18s 3ms/step - loss: 1.4651e-04 - mse: 1.4651e-04\n",
      "Epoch 79/3000\n",
      "6039/6039 [==============================] - 18s 3ms/step - loss: 1.4754e-04 - mse: 1.4754e-04\n",
      "Epoch 80/3000\n",
      "6039/6039 [==============================] - 18s 3ms/step - loss: 1.4650e-04 - mse: 1.4650e-04\n",
      "Epoch 81/3000\n",
      "6039/6039 [==============================] - 18s 3ms/step - loss: 1.4686e-04 - mse: 1.4686e-04\n",
      "Epoch 82/3000\n",
      "6039/6039 [==============================] - 18s 3ms/step - loss: 1.4727e-04 - mse: 1.4727e-04\n",
      "Epoch 83/3000\n",
      "6039/6039 [==============================] - 18s 3ms/step - loss: 1.4581e-04 - mse: 1.4581e-04\n",
      "Epoch 84/3000\n",
      "6039/6039 [==============================] - 19s 3ms/step - loss: 1.4591e-04 - mse: 1.4591e-04\n",
      "Epoch 85/3000\n",
      "6039/6039 [==============================] - 18s 3ms/step - loss: 1.4532e-04 - mse: 1.4532e-04\n",
      "Epoch 86/3000\n",
      "6039/6039 [==============================] - 18s 3ms/step - loss: 1.4558e-04 - mse: 1.4558e-04\n",
      "Epoch 87/3000\n",
      "6039/6039 [==============================] - 19s 3ms/step - loss: 1.4478e-04 - mse: 1.4478e-04\n",
      "Epoch 88/3000\n",
      "6039/6039 [==============================] - 18s 3ms/step - loss: 1.4534e-04 - mse: 1.4534e-04\n",
      "Epoch 89/3000\n",
      "6039/6039 [==============================] - 19s 3ms/step - loss: 1.4571e-04 - mse: 1.4571e-04\n",
      "Epoch 90/3000\n",
      "6039/6039 [==============================] - 18s 3ms/step - loss: 1.4459e-04 - mse: 1.4459e-04\n",
      "Epoch 91/3000\n",
      "6039/6039 [==============================] - 18s 3ms/step - loss: 1.4446e-04 - mse: 1.4446e-04\n",
      "Epoch 92/3000\n",
      "6039/6039 [==============================] - 18s 3ms/step - loss: 1.4556e-04 - mse: 1.4556e-04\n",
      "Epoch 93/3000\n",
      "6039/6039 [==============================] - 18s 3ms/step - loss: 1.4445e-04 - mse: 1.4445e-04\n",
      "Epoch 94/3000\n",
      "6039/6039 [==============================] - 19s 3ms/step - loss: 1.4472e-04 - mse: 1.4472e-04\n",
      "Epoch 95/3000\n",
      "6039/6039 [==============================] - 19s 3ms/step - loss: 1.4519e-04 - mse: 1.4519e-04\n",
      "Epoch 96/3000\n",
      "6039/6039 [==============================] - 18s 3ms/step - loss: 1.4496e-04 - mse: 1.4496e-04\n",
      "Epoch 97/3000\n",
      "6039/6039 [==============================] - 19s 3ms/step - loss: 1.4619e-04 - mse: 1.4619e-04\n",
      "Epoch 98/3000\n",
      "6039/6039 [==============================] - 18s 3ms/step - loss: 1.4254e-04 - mse: 1.4254e-04\n",
      "Epoch 99/3000\n",
      "6039/6039 [==============================] - 18s 3ms/step - loss: 1.4648e-04 - mse: 1.4648e-04\n",
      "Epoch 100/3000\n",
      "6039/6039 [==============================] - 18s 3ms/step - loss: 1.4436e-04 - mse: 1.4436e-04\n",
      "Epoch 101/3000\n",
      "6039/6039 [==============================] - 19s 3ms/step - loss: 1.4382e-04 - mse: 1.4382e-04\n",
      "Epoch 102/3000\n",
      "6039/6039 [==============================] - 18s 3ms/step - loss: 1.4379e-04 - mse: 1.4379e-04\n",
      "Epoch 103/3000\n",
      "6039/6039 [==============================] - 18s 3ms/step - loss: 1.4277e-04 - mse: 1.4277e-04\n",
      "Epoch 104/3000\n",
      "6039/6039 [==============================] - 18s 3ms/step - loss: 1.4402e-04 - mse: 1.4402e-04\n",
      "Epoch 105/3000\n",
      "6039/6039 [==============================] - 18s 3ms/step - loss: 1.4328e-04 - mse: 1.4328e-04\n",
      "Epoch 106/3000\n",
      "6039/6039 [==============================] - 18s 3ms/step - loss: 1.4250e-04 - mse: 1.4250e-04\n",
      "Epoch 107/3000\n",
      "6039/6039 [==============================] - 18s 3ms/step - loss: 1.4349e-04 - mse: 1.4349e-04\n",
      "Epoch 108/3000\n",
      "6039/6039 [==============================] - 18s 3ms/step - loss: 1.4386e-04 - mse: 1.4386e-04\n",
      "Epoch 109/3000\n",
      "6039/6039 [==============================] - 18s 3ms/step - loss: 1.4374e-04 - mse: 1.4374e-04\n",
      "Epoch 110/3000\n",
      "6039/6039 [==============================] - 19s 3ms/step - loss: 1.4373e-04 - mse: 1.4373e-04\n",
      "Epoch 111/3000\n",
      "6039/6039 [==============================] - 18s 3ms/step - loss: 1.4270e-04 - mse: 1.4270e-04\n",
      "Epoch 112/3000\n",
      "6039/6039 [==============================] - 18s 3ms/step - loss: 1.4317e-04 - mse: 1.4317e-04\n",
      "Epoch 113/3000\n",
      "6039/6039 [==============================] - 19s 3ms/step - loss: 1.4275e-04 - mse: 1.4275e-04\n",
      "Epoch 114/3000\n",
      "6039/6039 [==============================] - 18s 3ms/step - loss: 1.4260e-04 - mse: 1.4260e-04\n",
      "Epoch 115/3000\n",
      "6039/6039 [==============================] - 19s 3ms/step - loss: 1.4239e-04 - mse: 1.4239e-04\n",
      "Epoch 116/3000\n",
      "6039/6039 [==============================] - 18s 3ms/step - loss: 1.4192e-04 - mse: 1.4192e-04\n",
      "Epoch 117/3000\n",
      "6039/6039 [==============================] - 18s 3ms/step - loss: 1.4333e-04 - mse: 1.4333e-04\n",
      "Epoch 118/3000\n",
      "6039/6039 [==============================] - 19s 3ms/step - loss: 1.4328e-04 - mse: 1.4328e-04\n",
      "Epoch 119/3000\n",
      "6039/6039 [==============================] - 18s 3ms/step - loss: 1.4319e-04 - mse: 1.4319e-04\n",
      "Epoch 120/3000\n",
      "6039/6039 [==============================] - 19s 3ms/step - loss: 1.4379e-04 - mse: 1.4379e-04\n",
      "Epoch 121/3000\n",
      "6039/6039 [==============================] - 18s 3ms/step - loss: 1.4326e-04 - mse: 1.4326e-04\n",
      "Epoch 122/3000\n",
      "6039/6039 [==============================] - 18s 3ms/step - loss: 1.4251e-04 - mse: 1.4251e-04\n",
      "Epoch 123/3000\n",
      "6039/6039 [==============================] - 18s 3ms/step - loss: 1.4194e-04 - mse: 1.4194e-04\n",
      "Epoch 124/3000\n",
      "6039/6039 [==============================] - 18s 3ms/step - loss: 1.4153e-04 - mse: 1.4153e-04\n",
      "Epoch 125/3000\n",
      "6039/6039 [==============================] - 19s 3ms/step - loss: 1.4306e-04 - mse: 1.4306e-04\n",
      "Epoch 126/3000\n",
      "6039/6039 [==============================] - 18s 3ms/step - loss: 1.4226e-04 - mse: 1.4226e-04\n",
      "Epoch 127/3000\n",
      "6039/6039 [==============================] - 18s 3ms/step - loss: 1.4251e-04 - mse: 1.4251e-04\n",
      "Epoch 128/3000\n",
      "6039/6039 [==============================] - 18s 3ms/step - loss: 1.4224e-04 - mse: 1.4224e-04\n",
      "Epoch 129/3000\n",
      "6039/6039 [==============================] - 19s 3ms/step - loss: 1.4336e-04 - mse: 1.4336e-04\n",
      "Epoch 130/3000\n",
      "6039/6039 [==============================] - 18s 3ms/step - loss: 1.4198e-04 - mse: 1.4198e-04\n",
      "Epoch 131/3000\n",
      "6039/6039 [==============================] - 18s 3ms/step - loss: 1.4144e-04 - mse: 1.4144e-04\n",
      "Epoch 132/3000\n",
      "6039/6039 [==============================] - 19s 3ms/step - loss: 1.4225e-04 - mse: 1.4225e-04\n",
      "Epoch 133/3000\n",
      "6039/6039 [==============================] - 19s 3ms/step - loss: 1.4183e-04 - mse: 1.4183e-04\n",
      "Epoch 134/3000\n",
      "6039/6039 [==============================] - 19s 3ms/step - loss: 1.4128e-04 - mse: 1.4128e-04\n",
      "Epoch 135/3000\n",
      "6039/6039 [==============================] - 18s 3ms/step - loss: 1.4194e-04 - mse: 1.4194e-04\n",
      "Epoch 136/3000\n",
      "6039/6039 [==============================] - 19s 3ms/step - loss: 1.4158e-04 - mse: 1.4158e-04\n",
      "Epoch 137/3000\n",
      "6039/6039 [==============================] - 18s 3ms/step - loss: 1.4172e-04 - mse: 1.4172e-04\n",
      "Epoch 138/3000\n",
      "6039/6039 [==============================] - 18s 3ms/step - loss: 1.4166e-04 - mse: 1.4166e-04\n",
      "Epoch 139/3000\n",
      "6039/6039 [==============================] - 18s 3ms/step - loss: 1.4046e-04 - mse: 1.4046e-04\n",
      "Epoch 140/3000\n",
      "6039/6039 [==============================] - 18s 3ms/step - loss: 1.4003e-04 - mse: 1.4003e-04\n",
      "Epoch 141/3000\n",
      "6039/6039 [==============================] - 18s 3ms/step - loss: 1.4149e-04 - mse: 1.4149e-04\n",
      "Epoch 142/3000\n",
      "6039/6039 [==============================] - 18s 3ms/step - loss: 1.4116e-04 - mse: 1.4116e-04\n",
      "Epoch 143/3000\n",
      "6039/6039 [==============================] - 18s 3ms/step - loss: 1.3974e-04 - mse: 1.3974e-04\n",
      "Epoch 144/3000\n",
      "6039/6039 [==============================] - 18s 3ms/step - loss: 1.3966e-04 - mse: 1.3966e-04\n",
      "Epoch 145/3000\n",
      "6039/6039 [==============================] - 18s 3ms/step - loss: 1.4113e-04 - mse: 1.4113e-04\n",
      "Epoch 146/3000\n",
      "6039/6039 [==============================] - 19s 3ms/step - loss: 1.3880e-04 - mse: 1.3880e-04\n",
      "Epoch 147/3000\n",
      "6039/6039 [==============================] - 18s 3ms/step - loss: 1.3922e-04 - mse: 1.3922e-04\n",
      "Epoch 148/3000\n",
      "6039/6039 [==============================] - 18s 3ms/step - loss: 1.4141e-04 - mse: 1.4141e-04\n",
      "Epoch 149/3000\n",
      "6039/6039 [==============================] - 19s 3ms/step - loss: 1.3973e-04 - mse: 1.3973e-04\n",
      "Epoch 150/3000\n",
      "6039/6039 [==============================] - 19s 3ms/step - loss: 1.3950e-04 - mse: 1.3950e-04\n",
      "Epoch 151/3000\n",
      "6039/6039 [==============================] - 18s 3ms/step - loss: 1.3855e-04 - mse: 1.3855e-04\n",
      "Epoch 152/3000\n",
      "6039/6039 [==============================] - 19s 3ms/step - loss: 1.3950e-04 - mse: 1.3950e-04\n",
      "Epoch 153/3000\n",
      "6039/6039 [==============================] - 18s 3ms/step - loss: 1.3828e-04 - mse: 1.3828e-04\n",
      "Epoch 154/3000\n",
      "6039/6039 [==============================] - 18s 3ms/step - loss: 1.3738e-04 - mse: 1.3738e-04\n",
      "Epoch 155/3000\n",
      "6039/6039 [==============================] - 18s 3ms/step - loss: 1.3890e-04 - mse: 1.3890e-04\n",
      "Epoch 156/3000\n",
      "6039/6039 [==============================] - 19s 3ms/step - loss: 1.3775e-04 - mse: 1.3775e-04\n",
      "Epoch 157/3000\n",
      "6039/6039 [==============================] - 18s 3ms/step - loss: 1.3733e-04 - mse: 1.3733e-04\n",
      "Epoch 158/3000\n",
      "6039/6039 [==============================] - 18s 3ms/step - loss: 1.3878e-04 - mse: 1.3878e-04\n",
      "Epoch 159/3000\n",
      "6039/6039 [==============================] - 19s 3ms/step - loss: 1.3759e-04 - mse: 1.3759e-04\n",
      "Epoch 160/3000\n",
      "6039/6039 [==============================] - 18s 3ms/step - loss: 1.3827e-04 - mse: 1.3827e-04\n",
      "Epoch 161/3000\n",
      "6039/6039 [==============================] - 18s 3ms/step - loss: 1.3802e-04 - mse: 1.3802e-04\n",
      "Epoch 162/3000\n",
      "6039/6039 [==============================] - 18s 3ms/step - loss: 1.3765e-04 - mse: 1.3765e-04\n",
      "Epoch 163/3000\n",
      "6039/6039 [==============================] - 19s 3ms/step - loss: 1.3743e-04 - mse: 1.3743e-04\n",
      "Epoch 164/3000\n",
      "6039/6039 [==============================] - 18s 3ms/step - loss: 1.3750e-04 - mse: 1.3750e-04\n",
      "Epoch 165/3000\n",
      "6039/6039 [==============================] - 19s 3ms/step - loss: 1.3734e-04 - mse: 1.3734e-04\n",
      "Epoch 166/3000\n",
      "6039/6039 [==============================] - 18s 3ms/step - loss: 1.3680e-04 - mse: 1.3680e-04\n",
      "Epoch 167/3000\n",
      "6039/6039 [==============================] - 18s 3ms/step - loss: 1.3707e-04 - mse: 1.3707e-04\n",
      "Epoch 168/3000\n",
      "6039/6039 [==============================] - 18s 3ms/step - loss: 1.3777e-04 - mse: 1.3777e-04\n",
      "Epoch 169/3000\n",
      "6039/6039 [==============================] - 18s 3ms/step - loss: 1.3766e-04 - mse: 1.3766e-04\n",
      "Epoch 170/3000\n",
      "6039/6039 [==============================] - 19s 3ms/step - loss: 1.3660e-04 - mse: 1.3660e-04\n",
      "Epoch 171/3000\n",
      "6039/6039 [==============================] - 18s 3ms/step - loss: 1.3704e-04 - mse: 1.3704e-04\n",
      "Epoch 172/3000\n",
      "6039/6039 [==============================] - 19s 3ms/step - loss: 1.3640e-04 - mse: 1.3640e-04\n",
      "Epoch 173/3000\n",
      "6039/6039 [==============================] - 18s 3ms/step - loss: 1.3569e-04 - mse: 1.3569e-04\n",
      "Epoch 174/3000\n",
      "6039/6039 [==============================] - 18s 3ms/step - loss: 1.3684e-04 - mse: 1.3684e-04\n",
      "Epoch 175/3000\n",
      "6039/6039 [==============================] - 18s 3ms/step - loss: 1.3686e-04 - mse: 1.3686e-04\n",
      "Epoch 176/3000\n",
      "6039/6039 [==============================] - 19s 3ms/step - loss: 1.3772e-04 - mse: 1.3772e-04\n",
      "Epoch 177/3000\n",
      "6039/6039 [==============================] - 19s 3ms/step - loss: 1.3711e-04 - mse: 1.3711e-04\n",
      "Epoch 178/3000\n",
      "6039/6039 [==============================] - 18s 3ms/step - loss: 1.3696e-04 - mse: 1.3696e-04\n",
      "Epoch 179/3000\n",
      "6039/6039 [==============================] - 18s 3ms/step - loss: 1.3649e-04 - mse: 1.3649e-04\n",
      "Epoch 180/3000\n",
      "6039/6039 [==============================] - 18s 3ms/step - loss: 1.3602e-04 - mse: 1.3602e-04\n",
      "Epoch 181/3000\n",
      "6039/6039 [==============================] - 18s 3ms/step - loss: 1.3490e-04 - mse: 1.3490e-04\n",
      "Epoch 182/3000\n",
      "6039/6039 [==============================] - 19s 3ms/step - loss: 1.3678e-04 - mse: 1.3678e-04\n",
      "Epoch 183/3000\n",
      "6039/6039 [==============================] - 19s 3ms/step - loss: 1.3608e-04 - mse: 1.3608e-04\n",
      "Epoch 184/3000\n",
      "6039/6039 [==============================] - 19s 3ms/step - loss: 1.3490e-04 - mse: 1.3490e-04\n",
      "Epoch 185/3000\n",
      "6039/6039 [==============================] - 19s 3ms/step - loss: 1.3687e-04 - mse: 1.3687e-04\n",
      "Epoch 186/3000\n",
      "6039/6039 [==============================] - 19s 3ms/step - loss: 1.3529e-04 - mse: 1.3529e-04\n",
      "Epoch 187/3000\n",
      "6039/6039 [==============================] - 19s 3ms/step - loss: 1.3581e-04 - mse: 1.3581e-04\n",
      "Epoch 188/3000\n",
      "6039/6039 [==============================] - 18s 3ms/step - loss: 1.3579e-04 - mse: 1.3579e-04\n",
      "Epoch 189/3000\n",
      "6039/6039 [==============================] - 18s 3ms/step - loss: 1.3478e-04 - mse: 1.3478e-04\n",
      "Epoch 190/3000\n",
      "6039/6039 [==============================] - 19s 3ms/step - loss: 1.3576e-04 - mse: 1.3576e-04\n",
      "Epoch 191/3000\n",
      "6039/6039 [==============================] - 19s 3ms/step - loss: 1.3481e-04 - mse: 1.3481e-04\n",
      "Epoch 192/3000\n",
      "6039/6039 [==============================] - 18s 3ms/step - loss: 1.3446e-04 - mse: 1.3446e-04\n",
      "Epoch 193/3000\n",
      "6039/6039 [==============================] - 18s 3ms/step - loss: 1.3501e-04 - mse: 1.3501e-04\n",
      "Epoch 194/3000\n",
      "6039/6039 [==============================] - 19s 3ms/step - loss: 1.3549e-04 - mse: 1.3549e-04\n",
      "Epoch 195/3000\n",
      "6039/6039 [==============================] - 18s 3ms/step - loss: 1.3464e-04 - mse: 1.3464e-04\n",
      "Epoch 196/3000\n",
      "6039/6039 [==============================] - 18s 3ms/step - loss: 1.3482e-04 - mse: 1.3482e-04\n",
      "Epoch 197/3000\n",
      "6039/6039 [==============================] - 18s 3ms/step - loss: 1.3505e-04 - mse: 1.3505e-04\n",
      "Epoch 198/3000\n",
      "6039/6039 [==============================] - 18s 3ms/step - loss: 1.3416e-04 - mse: 1.3416e-04\n",
      "Epoch 199/3000\n",
      "6039/6039 [==============================] - 18s 3ms/step - loss: 1.3447e-04 - mse: 1.3447e-04\n",
      "Epoch 200/3000\n",
      "6039/6039 [==============================] - 19s 3ms/step - loss: 1.3492e-04 - mse: 1.3492e-04\n",
      "Epoch 201/3000\n",
      "6039/6039 [==============================] - 19s 3ms/step - loss: 1.3447e-04 - mse: 1.3447e-04\n",
      "Epoch 202/3000\n",
      "6039/6039 [==============================] - 18s 3ms/step - loss: 1.3418e-04 - mse: 1.3418e-04\n",
      "Epoch 203/3000\n",
      "6039/6039 [==============================] - 19s 3ms/step - loss: 1.3331e-04 - mse: 1.3331e-04\n",
      "Epoch 204/3000\n",
      "6039/6039 [==============================] - 19s 3ms/step - loss: 1.3397e-04 - mse: 1.3397e-04\n",
      "Epoch 205/3000\n",
      "6039/6039 [==============================] - 19s 3ms/step - loss: 1.3337e-04 - mse: 1.3337e-04\n",
      "Epoch 206/3000\n",
      "6039/6039 [==============================] - 18s 3ms/step - loss: 1.3516e-04 - mse: 1.3516e-04\n",
      "Epoch 207/3000\n",
      "6039/6039 [==============================] - 18s 3ms/step - loss: 1.3387e-04 - mse: 1.3387e-04\n",
      "Epoch 208/3000\n",
      "6039/6039 [==============================] - 18s 3ms/step - loss: 1.3364e-04 - mse: 1.3364e-04\n",
      "Epoch 209/3000\n",
      "6039/6039 [==============================] - 18s 3ms/step - loss: 1.3651e-04 - mse: 1.3651e-04\n",
      "Epoch 210/3000\n",
      "6039/6039 [==============================] - 18s 3ms/step - loss: 1.3537e-04 - mse: 1.3537e-04\n",
      "Epoch 211/3000\n",
      "6039/6039 [==============================] - 19s 3ms/step - loss: 1.3394e-04 - mse: 1.3394e-04\n",
      "Epoch 212/3000\n",
      "6039/6039 [==============================] - 19s 3ms/step - loss: 1.3451e-04 - mse: 1.3451e-04\n",
      "Epoch 213/3000\n",
      "6039/6039 [==============================] - 18s 3ms/step - loss: 1.3430e-04 - mse: 1.3430e-04\n",
      "Epoch 214/3000\n",
      "6039/6039 [==============================] - 19s 3ms/step - loss: 1.3396e-04 - mse: 1.3396e-04\n",
      "Epoch 215/3000\n",
      "6039/6039 [==============================] - 18s 3ms/step - loss: 1.3290e-04 - mse: 1.3290e-04\n",
      "Epoch 216/3000\n",
      "6039/6039 [==============================] - 18s 3ms/step - loss: 1.3428e-04 - mse: 1.3428e-04\n",
      "Epoch 217/3000\n",
      "6039/6039 [==============================] - 19s 3ms/step - loss: 1.3386e-04 - mse: 1.3386e-04\n",
      "Epoch 218/3000\n",
      "6039/6039 [==============================] - 18s 3ms/step - loss: 1.3319e-04 - mse: 1.3319e-04\n",
      "Epoch 219/3000\n",
      "6039/6039 [==============================] - 18s 3ms/step - loss: 1.3339e-04 - mse: 1.3339e-04\n",
      "Epoch 220/3000\n",
      "6039/6039 [==============================] - 18s 3ms/step - loss: 1.3412e-04 - mse: 1.3412e-04\n",
      "Epoch 221/3000\n",
      "6039/6039 [==============================] - 19s 3ms/step - loss: 1.3301e-04 - mse: 1.3301e-04\n",
      "Epoch 222/3000\n",
      "6039/6039 [==============================] - 18s 3ms/step - loss: 1.3355e-04 - mse: 1.3355e-04\n",
      "Epoch 223/3000\n",
      "6039/6039 [==============================] - 18s 3ms/step - loss: 1.3271e-04 - mse: 1.3271e-04\n",
      "Epoch 224/3000\n",
      "6039/6039 [==============================] - 19s 3ms/step - loss: 1.3319e-04 - mse: 1.3319e-04\n",
      "Epoch 225/3000\n",
      "6039/6039 [==============================] - 18s 3ms/step - loss: 1.3369e-04 - mse: 1.3369e-04\n",
      "Epoch 226/3000\n",
      "6039/6039 [==============================] - 18s 3ms/step - loss: 1.3276e-04 - mse: 1.3276e-04\n",
      "Epoch 227/3000\n",
      "6039/6039 [==============================] - 18s 3ms/step - loss: 1.3283e-04 - mse: 1.3283e-04\n",
      "Epoch 228/3000\n",
      "6039/6039 [==============================] - 19s 3ms/step - loss: 1.3268e-04 - mse: 1.3268e-04\n",
      "Epoch 229/3000\n",
      "6039/6039 [==============================] - 18s 3ms/step - loss: 1.3349e-04 - mse: 1.3349e-04\n",
      "Epoch 230/3000\n",
      "6039/6039 [==============================] - 19s 3ms/step - loss: 1.3278e-04 - mse: 1.3278e-04\n",
      "Epoch 231/3000\n",
      "6039/6039 [==============================] - 18s 3ms/step - loss: 1.3240e-04 - mse: 1.3240e-04\n",
      "Epoch 232/3000\n",
      "6039/6039 [==============================] - 18s 3ms/step - loss: 1.3269e-04 - mse: 1.3269e-04\n",
      "Epoch 233/3000\n",
      "6039/6039 [==============================] - 18s 3ms/step - loss: 1.3237e-04 - mse: 1.3237e-04\n",
      "Epoch 234/3000\n",
      "6039/6039 [==============================] - 18s 3ms/step - loss: 1.3173e-04 - mse: 1.3173e-04\n",
      "Epoch 235/3000\n",
      "6039/6039 [==============================] - 18s 3ms/step - loss: 1.3228e-04 - mse: 1.3228e-04\n",
      "Epoch 236/3000\n",
      "6039/6039 [==============================] - 18s 3ms/step - loss: 1.3155e-04 - mse: 1.3155e-04\n",
      "Epoch 237/3000\n",
      "6039/6039 [==============================] - 19s 3ms/step - loss: 1.3238e-04 - mse: 1.3238e-04\n",
      "Epoch 238/3000\n",
      "6039/6039 [==============================] - 19s 3ms/step - loss: 1.3225e-04 - mse: 1.3225e-04\n",
      "Epoch 239/3000\n",
      "6039/6039 [==============================] - 18s 3ms/step - loss: 1.3203e-04 - mse: 1.3203e-04\n",
      "Epoch 240/3000\n",
      "6039/6039 [==============================] - 18s 3ms/step - loss: 1.3120e-04 - mse: 1.3120e-04\n",
      "Epoch 241/3000\n",
      "6039/6039 [==============================] - 18s 3ms/step - loss: 1.3172e-04 - mse: 1.3172e-04\n",
      "Epoch 242/3000\n",
      "6039/6039 [==============================] - 18s 3ms/step - loss: 1.3116e-04 - mse: 1.3116e-04\n",
      "Epoch 243/3000\n",
      "6039/6039 [==============================] - 19s 3ms/step - loss: 1.3045e-04 - mse: 1.3045e-04\n",
      "Epoch 244/3000\n",
      "6039/6039 [==============================] - 18s 3ms/step - loss: 1.3173e-04 - mse: 1.3173e-04\n",
      "Epoch 245/3000\n",
      "6039/6039 [==============================] - 19s 3ms/step - loss: 1.3113e-04 - mse: 1.3113e-04\n",
      "Epoch 246/3000\n",
      "6039/6039 [==============================] - 18s 3ms/step - loss: 1.3176e-04 - mse: 1.3176e-04\n",
      "Epoch 247/3000\n",
      "6039/6039 [==============================] - 18s 3ms/step - loss: 1.3054e-04 - mse: 1.3054e-04\n",
      "Epoch 248/3000\n",
      "6039/6039 [==============================] - 18s 3ms/step - loss: 1.3129e-04 - mse: 1.3129e-04\n",
      "Epoch 249/3000\n",
      "6039/6039 [==============================] - 19s 3ms/step - loss: 1.3154e-04 - mse: 1.3154e-04\n",
      "Epoch 250/3000\n",
      "6039/6039 [==============================] - 19s 3ms/step - loss: 1.3206e-04 - mse: 1.3206e-04\n",
      "Epoch 251/3000\n",
      "6039/6039 [==============================] - 18s 3ms/step - loss: 1.3067e-04 - mse: 1.3067e-04\n",
      "Epoch 252/3000\n",
      "6039/6039 [==============================] - 19s 3ms/step - loss: 1.3106e-04 - mse: 1.3106e-04\n",
      "Epoch 253/3000\n",
      "6039/6039 [==============================] - 19s 3ms/step - loss: 1.3200e-04 - mse: 1.3200e-04\n",
      "Epoch 254/3000\n",
      "6039/6039 [==============================] - 18s 3ms/step - loss: 1.3139e-04 - mse: 1.3139e-04\n",
      "Epoch 255/3000\n",
      "6039/6039 [==============================] - 18s 3ms/step - loss: 1.3067e-04 - mse: 1.3067e-04\n",
      "Epoch 256/3000\n",
      "6039/6039 [==============================] - 19s 3ms/step - loss: 1.3060e-04 - mse: 1.3060e-04\n",
      "Epoch 257/3000\n",
      "6039/6039 [==============================] - 18s 3ms/step - loss: 1.3156e-04 - mse: 1.3156e-04\n",
      "Epoch 258/3000\n",
      "6039/6039 [==============================] - 18s 3ms/step - loss: 1.3075e-04 - mse: 1.3075e-04\n",
      "Epoch 259/3000\n",
      "6039/6039 [==============================] - 18s 3ms/step - loss: 1.3107e-04 - mse: 1.3107e-04\n",
      "Epoch 260/3000\n",
      "6039/6039 [==============================] - 19s 3ms/step - loss: 1.3099e-04 - mse: 1.3099e-04\n",
      "Epoch 261/3000\n",
      "6039/6039 [==============================] - 18s 3ms/step - loss: 1.2989e-04 - mse: 1.2989e-04\n",
      "Epoch 262/3000\n",
      "6039/6039 [==============================] - 19s 3ms/step - loss: 1.3065e-04 - mse: 1.3065e-04\n",
      "Epoch 263/3000\n",
      "6039/6039 [==============================] - 18s 3ms/step - loss: 1.3057e-04 - mse: 1.3057e-04\n",
      "Epoch 264/3000\n",
      "6039/6039 [==============================] - 18s 3ms/step - loss: 1.3074e-04 - mse: 1.3074e-04\n",
      "Epoch 265/3000\n",
      "6039/6039 [==============================] - 18s 3ms/step - loss: 1.3103e-04 - mse: 1.3103e-04\n",
      "Epoch 266/3000\n",
      "6039/6039 [==============================] - 19s 3ms/step - loss: 1.3068e-04 - mse: 1.3068e-04\n",
      "Epoch 267/3000\n",
      "6039/6039 [==============================] - 18s 3ms/step - loss: 1.3022e-04 - mse: 1.3022e-04\n",
      "Epoch 268/3000\n",
      "6039/6039 [==============================] - 18s 3ms/step - loss: 1.3055e-04 - mse: 1.3055e-04\n",
      "Epoch 269/3000\n",
      "6039/6039 [==============================] - 19s 3ms/step - loss: 1.3065e-04 - mse: 1.3065e-04\n",
      "Epoch 270/3000\n",
      "6039/6039 [==============================] - 18s 3ms/step - loss: 1.3063e-04 - mse: 1.3063e-04\n",
      "Epoch 271/3000\n",
      "6039/6039 [==============================] - 18s 3ms/step - loss: 1.3085e-04 - mse: 1.3085e-04\n",
      "Epoch 272/3000\n",
      "6039/6039 [==============================] - 18s 3ms/step - loss: 1.3001e-04 - mse: 1.3001e-04\n",
      "Epoch 273/3000\n",
      "6039/6039 [==============================] - 19s 3ms/step - loss: 1.3014e-04 - mse: 1.3014e-04\n",
      "Epoch 274/3000\n",
      "6039/6039 [==============================] - 18s 3ms/step - loss: 1.2954e-04 - mse: 1.2954e-04\n",
      "Epoch 275/3000\n",
      "6039/6039 [==============================] - 18s 3ms/step - loss: 1.2977e-04 - mse: 1.2977e-04\n",
      "Epoch 276/3000\n",
      "6039/6039 [==============================] - 19s 3ms/step - loss: 1.2937e-04 - mse: 1.2937e-04\n",
      "Epoch 277/3000\n",
      "6039/6039 [==============================] - 18s 3ms/step - loss: 1.3015e-04 - mse: 1.3015e-04\n",
      "Epoch 278/3000\n",
      "6039/6039 [==============================] - 18s 3ms/step - loss: 1.3076e-04 - mse: 1.3076e-04\n",
      "Epoch 279/3000\n",
      "6039/6039 [==============================] - 19s 3ms/step - loss: 1.3011e-04 - mse: 1.3011e-04\n",
      "Epoch 280/3000\n",
      "6039/6039 [==============================] - 18s 3ms/step - loss: 1.2964e-04 - mse: 1.2964e-04\n",
      "Epoch 281/3000\n",
      "6039/6039 [==============================] - 19s 3ms/step - loss: 1.2975e-04 - mse: 1.2975e-04\n",
      "Epoch 282/3000\n",
      "6039/6039 [==============================] - 19s 3ms/step - loss: 1.2983e-04 - mse: 1.2983e-04\n",
      "Epoch 283/3000\n",
      "6039/6039 [==============================] - 19s 3ms/step - loss: 1.3000e-04 - mse: 1.3000e-04\n",
      "Epoch 284/3000\n",
      "6039/6039 [==============================] - 18s 3ms/step - loss: 1.2979e-04 - mse: 1.2979e-04\n",
      "Epoch 285/3000\n",
      "6039/6039 [==============================] - 18s 3ms/step - loss: 1.3013e-04 - mse: 1.3013e-04\n",
      "Epoch 286/3000\n",
      "6039/6039 [==============================] - 19s 3ms/step - loss: 1.2904e-04 - mse: 1.2904e-04\n",
      "Epoch 287/3000\n",
      "6039/6039 [==============================] - 18s 3ms/step - loss: 1.2974e-04 - mse: 1.2974e-04\n",
      "Epoch 288/3000\n",
      "6039/6039 [==============================] - 19s 3ms/step - loss: 1.3024e-04 - mse: 1.3024e-04\n",
      "Epoch 289/3000\n",
      "6039/6039 [==============================] - 19s 3ms/step - loss: 1.3044e-04 - mse: 1.3044e-04\n",
      "Epoch 290/3000\n",
      "6039/6039 [==============================] - 18s 3ms/step - loss: 1.2974e-04 - mse: 1.2974e-04\n",
      "Epoch 291/3000\n",
      "6039/6039 [==============================] - 18s 3ms/step - loss: 1.2931e-04 - mse: 1.2931e-04\n",
      "Epoch 292/3000\n",
      "6039/6039 [==============================] - 18s 3ms/step - loss: 1.3010e-04 - mse: 1.3010e-04\n",
      "Epoch 293/3000\n",
      "6039/6039 [==============================] - 19s 3ms/step - loss: 1.2980e-04 - mse: 1.2980e-04\n",
      "Epoch 294/3000\n",
      "6039/6039 [==============================] - 18s 3ms/step - loss: 1.2975e-04 - mse: 1.2975e-04\n",
      "Epoch 295/3000\n",
      "6039/6039 [==============================] - 19s 3ms/step - loss: 1.2908e-04 - mse: 1.2908e-04\n",
      "Epoch 296/3000\n",
      "6039/6039 [==============================] - 19s 3ms/step - loss: 1.3025e-04 - mse: 1.3025e-04\n",
      "Epoch 297/3000\n",
      "6039/6039 [==============================] - 18s 3ms/step - loss: 1.2934e-04 - mse: 1.2934e-04\n",
      "Epoch 298/3000\n",
      "6039/6039 [==============================] - 18s 3ms/step - loss: 1.3020e-04 - mse: 1.3020e-04\n",
      "Epoch 299/3000\n",
      "6039/6039 [==============================] - 18s 3ms/step - loss: 1.2861e-04 - mse: 1.2861e-04\n",
      "Epoch 300/3000\n",
      "6039/6039 [==============================] - 18s 3ms/step - loss: 1.2872e-04 - mse: 1.2872e-04\n",
      "Epoch 301/3000\n",
      "6039/6039 [==============================] - 18s 3ms/step - loss: 1.2928e-04 - mse: 1.2928e-04\n",
      "Epoch 302/3000\n",
      "6039/6039 [==============================] - 18s 3ms/step - loss: 1.2990e-04 - mse: 1.2990e-04\n",
      "Epoch 303/3000\n",
      "6039/6039 [==============================] - 18s 3ms/step - loss: 1.2887e-04 - mse: 1.2887e-04\n",
      "Epoch 304/3000\n",
      "6039/6039 [==============================] - 18s 3ms/step - loss: 1.2938e-04 - mse: 1.2938e-04\n",
      "Epoch 305/3000\n",
      "6039/6039 [==============================] - 19s 3ms/step - loss: 1.2823e-04 - mse: 1.2823e-04\n",
      "Epoch 306/3000\n",
      "6039/6039 [==============================] - 18s 3ms/step - loss: 1.2906e-04 - mse: 1.2906e-04\n",
      "Epoch 307/3000\n",
      "6039/6039 [==============================] - 18s 3ms/step - loss: 1.2857e-04 - mse: 1.2857e-04\n",
      "Epoch 308/3000\n",
      "6039/6039 [==============================] - 18s 3ms/step - loss: 1.2921e-04 - mse: 1.2921e-04\n",
      "Epoch 309/3000\n",
      "6039/6039 [==============================] - 19s 3ms/step - loss: 1.2871e-04 - mse: 1.2871e-04\n",
      "Epoch 310/3000\n",
      "6039/6039 [==============================] - 19s 3ms/step - loss: 1.2810e-04 - mse: 1.2810e-04\n",
      "Epoch 311/3000\n",
      "6039/6039 [==============================] - 18s 3ms/step - loss: 1.2976e-04 - mse: 1.2976e-04\n",
      "Epoch 312/3000\n",
      "6039/6039 [==============================] - 18s 3ms/step - loss: 1.2972e-04 - mse: 1.2972e-04\n",
      "Epoch 313/3000\n",
      "6039/6039 [==============================] - 18s 3ms/step - loss: 1.2831e-04 - mse: 1.2831e-04\n",
      "Epoch 314/3000\n",
      "6039/6039 [==============================] - 18s 3ms/step - loss: 1.2885e-04 - mse: 1.2885e-04\n",
      "Epoch 315/3000\n",
      "6039/6039 [==============================] - 19s 3ms/step - loss: 1.2880e-04 - mse: 1.2880e-04\n",
      "Epoch 316/3000\n",
      "6039/6039 [==============================] - 18s 3ms/step - loss: 1.2876e-04 - mse: 1.2876e-04\n",
      "Epoch 317/3000\n",
      "6039/6039 [==============================] - 18s 3ms/step - loss: 1.2868e-04 - mse: 1.2868e-04\n",
      "Epoch 318/3000\n",
      "6039/6039 [==============================] - 19s 3ms/step - loss: 1.2847e-04 - mse: 1.2847e-04\n",
      "Epoch 319/3000\n",
      "6039/6039 [==============================] - 18s 3ms/step - loss: 1.2868e-04 - mse: 1.2868e-04\n",
      "Epoch 320/3000\n",
      "6039/6039 [==============================] - 18s 3ms/step - loss: 1.2949e-04 - mse: 1.2949e-04\n",
      "Epoch 321/3000\n",
      "6039/6039 [==============================] - 18s 3ms/step - loss: 1.2892e-04 - mse: 1.2892e-04\n",
      "Epoch 322/3000\n",
      "6039/6039 [==============================] - 18s 3ms/step - loss: 1.2897e-04 - mse: 1.2897e-04\n",
      "Epoch 323/3000\n",
      "6039/6039 [==============================] - 19s 3ms/step - loss: 1.2800e-04 - mse: 1.2800e-04\n",
      "Epoch 324/3000\n",
      "6039/6039 [==============================] - 18s 3ms/step - loss: 1.2880e-04 - mse: 1.2880e-04\n",
      "Epoch 325/3000\n",
      "6039/6039 [==============================] - 19s 3ms/step - loss: 1.2864e-04 - mse: 1.2864e-04\n",
      "Epoch 326/3000\n",
      "6039/6039 [==============================] - 18s 3ms/step - loss: 1.2890e-04 - mse: 1.2890e-04\n",
      "Epoch 327/3000\n",
      "6039/6039 [==============================] - 18s 3ms/step - loss: 1.2848e-04 - mse: 1.2848e-04\n",
      "Epoch 328/3000\n",
      "6039/6039 [==============================] - 18s 3ms/step - loss: 1.2837e-04 - mse: 1.2837e-04\n",
      "Epoch 329/3000\n",
      "6039/6039 [==============================] - 18s 3ms/step - loss: 1.2793e-04 - mse: 1.2793e-04\n",
      "Epoch 330/3000\n",
      "6039/6039 [==============================] - 18s 3ms/step - loss: 1.2799e-04 - mse: 1.2799e-04\n",
      "Epoch 331/3000\n",
      "6039/6039 [==============================] - 18s 3ms/step - loss: 1.2816e-04 - mse: 1.2816e-04\n",
      "Epoch 332/3000\n",
      "6039/6039 [==============================] - 18s 3ms/step - loss: 1.2846e-04 - mse: 1.2846e-04\n",
      "Epoch 333/3000\n",
      "6039/6039 [==============================] - 18s 3ms/step - loss: 1.2908e-04 - mse: 1.2908e-04\n",
      "Epoch 334/3000\n",
      "6039/6039 [==============================] - 18s 3ms/step - loss: 1.2985e-04 - mse: 1.2985e-04\n",
      "Epoch 335/3000\n",
      "4307/6039 [====================>.........] - ETA: 5s - loss: 1.2837e-04 - mse: 1.2837e-04"
     ]
    }
   ],
   "source": [
    "# from tensorflow.keras import backend as K\n",
    "# K.set_value(model.optimizer.learning_rate, 1e-4)\n",
    "\n",
    "model.fit(\n",
    "    x_train, y_train, \n",
    "    batch_size=64, \n",
    "    epochs=3000,\n",
    "#     class_weight={0: 1, 1: 1, 2: 1, 3: 10},\n",
    "    shuffle=True,\n",
    "#     validation_data=(x_val, y_val),\n",
    "    verbose=1)"
   ]
  },
  {
   "cell_type": "code",
   "execution_count": 67,
   "metadata": {},
   "outputs": [],
   "source": [
    "os.chdir('/home/code-base/user_space/ai-badminton/TrackNetv2/3_in_3_out')"
   ]
  },
  {
   "cell_type": "code",
   "execution_count": 68,
   "metadata": {},
   "outputs": [],
   "source": [
    "from tensorflow.python.keras.saving import hdf5_format\n",
    "import h5py\n",
    "\n",
    "with h5py.File('./hitnet_conv_model_shuttle_refinement.h5', mode='w') as f:\n",
    "    hdf5_format.save_model_to_hdf5(model, f)"
   ]
  },
  {
   "cell_type": "markdown",
   "metadata": {
    "tags": []
   },
   "source": [
    "# Look at mis-predicted shots"
   ]
  },
  {
   "cell_type": "code",
   "execution_count": 100,
   "metadata": {
    "tags": []
   },
   "outputs": [],
   "source": [
    "os.getcwd()\n",
    "os.chdir('/home/code-base/user_space/ai-badminton/notebooks')"
   ]
  },
  {
   "cell_type": "code",
   "execution_count": 110,
   "metadata": {
    "collapsed": true,
    "jupyter": {
     "outputs_hidden": true
    },
    "tags": []
   },
   "outputs": [
    {
     "name": "stdout",
     "output_type": "stream",
     "text": [
      "Check match1 1_01_00.mp4 2\n",
      "Check match1 1_03_06.mp4 1\n",
      "Check match1 1_02_04.mp4 2\n",
      "Check match1 1_02_03.mp4 1\n",
      "Check match1 1_02_00.mp4 1\n",
      "Check match1 1_06_09.mp4 2\n",
      "Check match1 1_02_02.mp4 1\n",
      "Check match1 1_03_04.mp4 2\n",
      "Check match1 1_06_08.mp4 1\n",
      "Check match1 1_03_05.mp4 2\n",
      "Check match1 1_06_06.mp4 2\n",
      "Check match1 1_02_01.mp4 2\n",
      "Check match2 1_00_02.mp4 1\n",
      "Check match2 1_02_03.mp4 2\n",
      "Check match2 1_06_09.mp4 2\n",
      "Check match2 1_09_12.mp4 1\n",
      "Check match2 1_08_12.mp4 2\n",
      "Check match2 1_06_08.mp4 1\n",
      "Check match2 1_08_11.mp4 1\n",
      "Check match2 1_04_03.mp4 2\n",
      "Check match3 1_01_00.mp4 2\n",
      "Check match3 3_11_10.mp4 2\n",
      "Check match3 2_04_07.mp4 2\n",
      "Check match3 2_10_12.mp4 1\n",
      "Check match3 1_08_10.mp4 2\n",
      "Check match3 2_18_15.mp4 2\n",
      "Check match3 1_12_17.mp4 2\n",
      "Check match4 3_07_05.mp4 2\n",
      "Check match4 2_14_17.mp4 2\n",
      "Check match4 1_15_10.mp4 2\n",
      "Check match4 2_02_05.mp4 2\n",
      "Check match4 1_03_02.mp4 2\n",
      "Check match4 2_05_07.mp4 2\n",
      "Check match4 3_02_00.mp4 2\n",
      "Check match4 3_18_17.mp4 2\n",
      "Check match5 1_19_18.mp4 2\n",
      "Check match5 2_20_17.mp4 1\n",
      "Check match5 1_01_01.mp4 2\n",
      "Check match5 1_01_02.mp4 1\n",
      "Check match5 2_15_13.mp4 1\n",
      "Check match5 1_21_19.mp4 2\n"
     ]
    }
   ],
   "source": [
    "outvid = cv2.VideoWriter('./output/mispredicted.mp4', cv2.VideoWriter_fourcc('M','P','4','V'), 10, (width, height))\n",
    "\n",
    "for match in matches[:5]:\n",
    "    for video in os.listdir('/home/code-base/scratch_space/data/%s/rally_video/' % match):\n",
    "        cap = cv2.VideoCapture('/home/code-base/scratch_space/data/%s/rally_video/%s' % (match, video))\n",
    "        shape = cap.read()[1].shape\n",
    "        height, width = shape[0], shape[1]\n",
    "\n",
    "        rally, _ = os.path.splitext(video)\n",
    "        trajectory = pd.read_csv('/home/code-base/scratch_space/data/%s/ball_trajectory/%s_ball.csv' % (match, rally))\n",
    "        hit = pd.read_csv('/home/code-base/scratch_space/data/%s/shot/%s_hit.csv' % (match, rally))\n",
    "        trajectory[trajectory.X == 0] = float('nan')\n",
    "        trajectory[trajectory.Y == 0] = float('nan')\n",
    "        \n",
    "        trajectory = trajectory.assign(X=trajectory.X.interpolate(method='slinear'))\n",
    "        trajectory = trajectory.assign(Y=trajectory.Y.interpolate(method='slinear'))\n",
    "        trajectory.fillna(method='bfill', inplace=True)\n",
    "        trajectory.fillna(method='ffill', inplace=True)\n",
    "        \n",
    "        bottom_player = pd.read_csv('/home/code-base/scratch_space/data/%s/poses/%s_bottom.csv' % (match, rally))\n",
    "        top_player = pd.read_csv('/home/code-base/scratch_space/data/%s/poses/%s_top.csv' % (match, rally))\n",
    "        bottom_player.drop('frame', axis=1, inplace=True)\n",
    "        top_player.drop('frame', axis=1, inplace=True)\n",
    "        bottom_player.fillna(0, inplace=True)\n",
    "        top_player.fillna(0, inplace=True)\n",
    "        \n",
    "        x_list, y_list = [], []\n",
    "        court_pts = read_court('/home/code-base/scratch_space/data/%s/court/%s.out' % (match, rally))\n",
    "        corners = np.array([court_pts[1], court_pts[2], court_pts[0], court_pts[3]]).flatten()\n",
    "\n",
    "        # Identify first hit by distance to pose\n",
    "        # and then alternate hits\n",
    "        def dist_to_pose(pose, p):\n",
    "            pose = pose.reshape(17, 2)\n",
    "            p = p.reshape(1, 2)\n",
    "            D = np.sum((pose - p) * (pose - p), axis=1)\n",
    "            return min(D)\n",
    "        \n",
    "        y_new = np.array(hit.hit.to_numpy())\n",
    "        last = -1\n",
    "        for i in range(y_new.shape[0]):\n",
    "            if not y_new[i]:\n",
    "                continue\n",
    "                \n",
    "            if last == -1:\n",
    "                p = np.array([trajectory.X[i], trajectory.Y[i]])\n",
    "                db = dist_to_pose(bottom_player.values[i], p)\n",
    "                dt = dist_to_pose(top_player.values[i], p)\n",
    "                ratio = max((db/dt)**0.5, (dt/db)**0.5)\n",
    "                \n",
    "                if dt < db:\n",
    "                    y_new[i] = 2\n",
    "                else:\n",
    "                    y_new[i] = 1\n",
    "                last = y_new[i]\n",
    "                \n",
    "                # Bad cases are all 2's\n",
    "                if 0.9 < ratio < 1.1:\n",
    "                    y_new[i] = 1\n",
    "                print('Check', match, video, last)\n",
    "            else:\n",
    "                y_new[i] = 3 - last\n",
    "                last = y_new[i]\n",
    "        \n",
    "        for i in range(num_consec):\n",
    "            end = min(len(trajectory.X), len(hit.hit))-num_consec+i+1\n",
    "            x_bird = np.array(list(zip(trajectory.X[i:end], trajectory.Y[i:end])))\n",
    "\n",
    "            # Use entire pose\n",
    "            x_pose = np.hstack([bottom_player.values[i:end], top_player.values[i:end]])\n",
    "            x = np.hstack([x_bird, x_pose, np.array([corners for j in range(i, end)])])\n",
    "\n",
    "            y = y_new[i:end]\n",
    "            x_list.append(x)\n",
    "            y_list.append(y)\n",
    "\n",
    "        x_t = np.hstack(x_list)\n",
    "        y_t = np.max(np.column_stack(y_list[2:-2]), axis=1)\n",
    "        y_pred = np.argmax(model.predict(x_t), axis=1)\n",
    "        \n",
    "        nframes = len(hit.hit)\n",
    "        is_bad = [0] * nframes\n",
    "        for i in range(y_t.shape[0]):\n",
    "            if y_t[i] > 0 and y_t[i] != y_pred[i]:\n",
    "                for j in range(max(0, i-20), min(nframes, i+20)):\n",
    "                    if abs(j-i) < 4:\n",
    "                        if y_pred[i] > 0:\n",
    "                            is_bad[j] = 3\n",
    "                        else:\n",
    "                            is_bad[j] = 2\n",
    "                    elif is_bad[j] == 0:\n",
    "                        is_bad[j] = 1\n",
    "        \n",
    "        for i in range(nframes):\n",
    "            if is_bad[i]:\n",
    "                cap.set(cv2.CAP_PROP_POS_FRAMES, i)\n",
    "                ret, frame = cap.read()\n",
    "                if is_bad[i] == 3:\n",
    "                    frame[-50:, -50:] = np.array([255, 0, 0])\n",
    "                elif is_bad[i] == 2:\n",
    "                    frame[-50:, -50:] = np.array([0, 0, 255])\n",
    "                    \n",
    "                centre = (int(trajectory.X[i]), int(trajectory.Y[i]))\n",
    "                radius = 5\n",
    "                colour = (0, 255, 0)\n",
    "                thickness = -1\n",
    "                frame = cv2.circle(frame, centre, radius, colour, thickness)\n",
    "                \n",
    "                players = [bottom_player.values, top_player.values]\n",
    "                for j in range(2):\n",
    "                    xy = players[j][i]\n",
    "                    pose = Pose()\n",
    "                    pose.init_from_kparray(xy)\n",
    "                    player_poses.append(pose)\n",
    "                    frame = pose.draw_skeleton(frame, colour=(128, 128 + j * 127, 128))\n",
    "                outvid.write(frame)\n",
    "outvid.release()"
   ]
  },
  {
   "cell_type": "markdown",
   "metadata": {},
   "source": [
    "# Create network to identify who hit the shuttle"
   ]
  },
  {
   "cell_type": "code",
   "execution_count": 4,
   "metadata": {},
   "outputs": [],
   "source": [
    "import matplotlib.pyplot as plt\n",
    "import tensorflow as tf\n",
    "import math\n",
    "\n",
    "from ai_badminton.trajectory import Trajectory\n",
    "from ai_badminton.hit_detector import AdhocHitDetector, MLHitDetector\n",
    "from ai_badminton.pose import Pose, read_player_poses, process_pose_file\n",
    "from ai_badminton.court import Court, read_court\n",
    "from ai_badminton.video_annotator import annotate_video"
   ]
  },
  {
   "cell_type": "code",
   "execution_count": 129,
   "metadata": {
    "tags": []
   },
   "outputs": [
    {
     "name": "stdout",
     "output_type": "stream",
     "text": [
      "match1 1_02_00 1 [13, 5]\n",
      "match1 1_02_04 is hard [1, 1] [7059.074806800006, 859.8963510596025]\n",
      "Manual label applied.\n",
      "match1 1_06_08 1 [4, 0]\n",
      "Manual label applied.\n",
      "match1 1_02_02 1 [5, 1]\n",
      "Manual label applied.\n",
      "match1 1_06_06 2 [0, 5]\n",
      "match1 1_03_05 2 [3, 10]\n",
      "match1 1_02_01 2 [0, 6]\n",
      "Manual label applied.\n",
      "match1 1_03_04 2 [0, 3]\n",
      "Manual label applied.\n",
      "match1 1_06_09 1 [11, 3]\n",
      "match1 1_02_03 is hard [1, 0] [5729.763825145301, 1e+99]\n",
      "Manual label applied.\n",
      "match1 1_03_06 2 [3, 5]\n",
      "match1 1_01_00 2 [1, 9]\n",
      "match2 1_00_02 1 [17, 1]\n",
      "match2 1_08_11 1 [6, 1]\n",
      "match2 1_06_08 1 [7, 0]\n",
      "match2 1_09_12 1 [11, 0]\n",
      "match2 1_08_12 1 [5, 1]\n",
      "match2 1_04_03 2 [1, 5]\n",
      "match2 1_06_09 2 [0, 10]\n",
      "match2 1_02_03 2 [0, 5]\n",
      "match3 2_04_07 2 [6, 15]\n",
      "match3 2_18_15 2 [0, 37]\n",
      "match3 1_12_17 2 [3, 5]\n",
      "match3 3_11_10 2 [0, 6]\n",
      "match3 2_10_12 1 [5, 1]\n",
      "match3 1_08_10 is hard [1, 2] [4583.862849142903, 1176.3588272543989]\n",
      "Manual label applied.\n",
      "match3 1_01_00 2 [0, 13]\n",
      "match4 2_14_17 1 [5, 3]\n",
      "match4 3_07_05 1 [4, 1]\n",
      "match4 3_02_00 2 [3, 10]\n",
      "match4 2_02_05 2 [3, 15]\n",
      "match4 3_18_17 1 [17, 7]\n",
      "match4 1_15_10 1 [13, 3]\n",
      "match4 1_03_02 1 [11, 5]\n",
      "match4 2_05_07 2 [3, 11]\n",
      "match5 1_01_01 2 [1, 27]\n",
      "match5 1_01_02 1 [17, 2]\n",
      "match5 1_19_18 2 [0, 9]\n",
      "match5 2_15_13 1 [22, 0]\n",
      "match5 2_20_17 1 [28, 0]\n",
      "match5 1_21_19 2 [1, 28]\n",
      "match6 1_02_00 1 [14, 0]\n",
      "match6 1_11_04 1 [19, 1]\n",
      "match6 1_15_06 2 [0, 26]\n",
      "match6 1_05_03 2 [0, 38]\n",
      "match6 1_19_12 2 [0, 10]\n",
      "match7 2_14_15 1 [16, 2]\n",
      "match7 1_02_01 1 [22, 1]\n",
      "match7 1_12_13 1 [16, 4]\n",
      "match7 3_08_05 2 [0, 17]\n",
      "match7 2_05_03 2 [2, 28]\n",
      "match8 2_03_06 2 [0, 34]\n",
      "match8 3_02_00 2 [0, 2]\n",
      "Manual label applied.\n",
      "match8 3_15_08 1 [4, 0]\n",
      "match8 2_10_12 1 [17, 0]\n",
      "match8 3_17_12 2 [1, 16]\n",
      "match8 1_05_13 2 [1, 8]\n",
      "match8 3_21_13 1 [11, 1]\n",
      "match8 1_01_00 1 [11, 0]\n",
      "match9 1_07_07 1 [9, 2]\n",
      "match9 1_01_03 2 [3, 33]\n",
      "match9 1_06_06 1 [8, 0]\n",
      "match9 1_07_14 1 [8, 0]\n",
      "match9 1_07_10 1 [20, 1]\n",
      "match9 1_05_06 1 [11, 0]\n",
      "match9 1_02_03 2 [0, 13]\n",
      "match9 1_07_11 2 [1, 9]\n",
      "match9 1_04_05 1 [9, 1]\n",
      "match10 1_12_16 1 [11, 3]\n",
      "match10 1_03_03 2 [3, 15]\n",
      "match10 2_14_08 2 [1, 22]\n",
      "match10 1_03_01 1 [15, 2]\n",
      "match10 2_04_02 1 [9, 2]\n",
      "match11 2_05_00 1 [13, 0]\n",
      "match11 1_03_01 2 [1, 12]\n",
      "match11 1_13_13 1 [25, 5]\n",
      "match11 2_15_04 1 [21, 3]\n",
      "match11 1_07_06 1 [11, 1]\n",
      "match12 1_10_12 2 [10, 15]\n",
      "match12 3_03_03 2 [1, 12]\n",
      "match12 2_01_01 2 [0, 14]\n",
      "match12 2_05_14 1 [24, 1]\n",
      "match12 1_01_00 1 [21, 0]\n",
      "match13 2_09_08 2 [0, 4]\n",
      "match13 1_09_10 1 [18, 2]\n",
      "match13 1_17_15 2 [3, 8]\n",
      "match13 2_06_05 1 [27, 3]\n",
      "match13 2_17_11 2 [2, 13]\n",
      "match13 2_07_05 1 [5, 0]\n",
      "match14 2_21_17 2 [2, 12]\n",
      "match14 2_15_10 1 [5, 0]\n",
      "match14 2_13_06 2 [4, 13]\n",
      "match14 2_19_13 1 [21, 1]\n",
      "match14 1_17_14 2 [0, 25]\n",
      "match15 1_21_12 1 [8, 0]\n",
      "match15 2_14_08 1 [6, 0]\n",
      "match15 2_19_14 2 [0, 25]\n",
      "match15 2_16_12 2 [1, 20]\n",
      "match15 2_18_14 2 [3, 32]\n",
      "match16 1_13_20 1 [12, 0]\n",
      "match16 3_14_09 1 [11, 0]\n",
      "match16 3_12_06 2 [8, 12]\n",
      "match16 1_03_06 2 [4, 15]\n",
      "match16 2_08_08 1 [13, 4]\n",
      "match16 3_17_16 1 [12, 1]\n",
      "match17 1_15_13 1 [14, 0]\n",
      "match17 2_08_05 2 [1, 15]\n",
      "match17 1_02_02 2 [2, 8]\n",
      "match17 2_18_11 2 [0, 13]\n",
      "match17 2_01_01 1 [14, 1]\n",
      "match17 2_15_11 1 [13, 0]\n",
      "match18 3_12_14 2 [2, 12]\n",
      "match18 3_03_05 2 [2, 26]\n",
      "match18 3_20_19 1 [16, 0]\n",
      "match18 2_02_02 1 [16, 0]\n",
      "match18 1_06_12 1 [12, 1]\n",
      "match18 3_16_17 1 [12, 1]\n",
      "match19 1_01_01 2 [0, 13]\n",
      "match19 2_12_06 1 [14, 0]\n",
      "match19 2_14_08 2 [1, 9]\n",
      "match19 1_01_03 1 [25, 2]\n",
      "match19 1_07_08 2 [0, 12]\n",
      "match20 2_00_01 1 [8, 1]\n",
      "match20 1_09_05 2 [3, 17]\n",
      "match20 2_05_08 1 [25, 0]\n",
      "match20 2_19_14 2 [1, 15]\n",
      "match20 2_07_08 1 [11, 1]\n",
      "match20 1_11_10 2 [0, 15]\n",
      "match21 2_09_08 1 [24, 0]\n",
      "match21 2_02_03 2 [0, 17]\n",
      "match21 1_19_19 1 [8, 1]\n",
      "match21 2_12_08 2 [0, 13]\n",
      "match21 1_02_01 2 [0, 16]\n",
      "match21 1_16_17 1 [22, 1]\n",
      "match21 2_04_04 1 [14, 0]\n",
      "match22 2_17_18 1 [21, 2]\n",
      "match22 3_15_13 1 [12, 2]\n",
      "match22 1_02_01 1 [27, 5]\n",
      "match22 2_18_18 2 [2, 17]\n",
      "match22 1_07_02 1 [12, 1]\n"
     ]
    }
   ],
   "source": [
    "import os\n",
    "import pandas as pd\n",
    "import numpy as np\n",
    "import cv2\n",
    "\n",
    "def read_court(filename):\n",
    "    file = open(filename, 'r')\n",
    "    coordinates = [[float(x) for x in line.split(';')] for line in file]\n",
    "    return coordinates\n",
    "\n",
    "num_consec = 10\n",
    "matches = list('match' + str(i) for i in range(1, 23))\n",
    "\n",
    "x_train, y_train = [], []\n",
    "for match in matches:\n",
    "    for video in os.listdir('/home/code-base/scratch_space/data/%s/rally_video/' % match):\n",
    "        if '.mp4' not in video:\n",
    "            continue\n",
    "        cap = cv2.VideoCapture('/home/code-base/scratch_space/data/%s/rally_video/%s' % (match, video))\n",
    "        shape = cap.read()[1].shape\n",
    "        height, width = shape[0], shape[1]\n",
    "\n",
    "        rally, _ = os.path.splitext(video)\n",
    "        trajectory = Trajectory('/home/code-base/scratch_space/data/%s/ball_trajectory/%s_ball.csv' % (match, rally))\n",
    "#         trajectory = Trajectory('/home/code-base/scratch_space/data/%s/ball_trajectory/%s_ball.csv' % (match, rally), interp=False)\n",
    "#         trajectory.X = np.array(trajectory.X)\n",
    "#         trajectory.Y = np.array(trajectory.Y)\n",
    "#         trajectory.X[trajectory.X != trajectory.X] = 0\n",
    "#         trajectory.Y[trajectory.Y != trajectory.Y] = 0\n",
    "#         trajectory.X = trajectory.X.tolist()\n",
    "#         trajectory.Y = trajectory.Y.tolist()\n",
    "        \n",
    "        hit = pd.read_csv('/home/code-base/scratch_space/data/%s/shot/%s_hit.csv' % (match, rally))\n",
    "        \n",
    "        poses = read_player_poses('/home/code-base/scratch_space/data/%s/poses/%s' % (match, rally))\n",
    "        bottom_player, top_player = poses[0], poses[1]\n",
    "        \n",
    "        x_list, y_list = [], []\n",
    "        court_pts = read_court('/home/code-base/scratch_space/data/%s/court/%s.out' % (match, rally))\n",
    "        corners = np.array([court_pts[1], court_pts[2], court_pts[0], court_pts[3]]).flatten()\n",
    "    \n",
    "        def reflect(x):\n",
    "            x_ = np.array(x)\n",
    "            for i in range(0, x.shape[1], 2):\n",
    "                x_[:, i] = width - x_[:, i]\n",
    "            return x_\n",
    "\n",
    "        for i in range(num_consec):\n",
    "            end = min(len(trajectory.X)-1, len(hit.hit)-1)-num_consec+i+1\n",
    "            x_bird = np.array(list(zip(trajectory.X[i:end], trajectory.Y[i:end])))\n",
    "            \n",
    "            # Use entire pose\n",
    "            x_pose = np.hstack([bottom_player.values[i:end], top_player.values[i:end]])\n",
    "            x = np.hstack([x_bird, x_pose, np.array([corners for j in range(i, end)])])\n",
    "        \n",
    "            y = np.array(list(zip(trajectory.X[i+1:end+1], trajectory.Y[i+1:end+1])))\n",
    "            x_list.append(x)\n",
    "            y_list.append(y)\n",
    "\n",
    "        x_t = np.hstack(x_list)\n",
    "        y_t = y_list[-1]\n",
    "        \n",
    "        def scale_data(x):\n",
    "            x = np.array(x)\n",
    "            def scale_by_col(x, cols):\n",
    "                x_ = x[:, cols]\n",
    "                m, M = np.min(x_[x_ != 0]), np.max(x_[x_ != 0])\n",
    "                x_[x_ != 0] = (x_[x_ != 0] - m) / (M - m) + 1\n",
    "                x[:, cols] = x_\n",
    "                return x\n",
    "            \n",
    "            even_cols = [2*i for i in range(x.shape[1] // 2)]\n",
    "            odd_cols = [2*i+1 for i in range(x.shape[1] // 2)]\n",
    "            x = scale_by_col(x, even_cols)\n",
    "            x = scale_by_col(x, odd_cols)\n",
    "            return x\n",
    "          \n",
    "        identity = lambda x: x\n",
    "        def drop_data(x, p=0.15):\n",
    "            x = np.array(x)\n",
    "            # Corrupt 5% of the data\n",
    "            indices = np.random.choice(\n",
    "                np.arange(x.size), replace=False,\n",
    "                size=int(x.size * p)\n",
    "            )\n",
    "            x[np.unravel_index(indices, x.shape)] = np.NaN\n",
    "            df = pd.DataFrame(data=x)\n",
    "            df.interpolate(method='slinear', inplace=True)\n",
    "            df.fillna(method='bfill', inplace=True)\n",
    "            df.fillna(method='ffill', inplace=True)\n",
    "            x = df.values\n",
    "            return x\n",
    "        \n",
    "        def jiggle_and_rotate(x):\n",
    "            # Randomly shift by a vector in [-50, 50]\n",
    "            # and rotate by a random amount between -10 and 10 degrees\n",
    "            x = np.array(x.reshape((x.shape[0], x.shape[1] // 2, 2)))\n",
    "            shift = (np.random.rand(1, 2) - 0.5) * 100\n",
    "            angle = (np.random.rand() - 0.5) * math.pi / 180 * 20\n",
    "            rotate = np.array([[math.cos(angle), math.sin(angle)], \n",
    "                               [math.sin(angle), -math.cos(angle)]])\n",
    "            x = (x @ rotate) + shift\n",
    "            x = x.reshape((x.shape[0], x.shape[1] * 2))\n",
    "            return x\n",
    "        \n",
    "        drop_and_jiggle = lambda x: drop_data(jiggle_and_rotate(x))\n",
    "        \n",
    "        augmentations = [jiggle_and_rotate] * 3#[identity] + [jiggle_and_rotate] * 3\n",
    "        for transform in augmentations:\n",
    "#             Z = np.hstack([x_t, y_t])\n",
    "#             S = scale_data(transform(Z))\n",
    "#             x_train.append(np.array(S[:,:-2]))\n",
    "#             y_train.append(np.array(S[:,-2:]))\n",
    "            \n",
    "#             S = scale_data(transform(reflect(Z)))\n",
    "#             x_train.append(np.array(S[:,:-2]))\n",
    "#             y_train.append(np.array(S[:,-2:]))\n",
    "            \n",
    "            Z = np.hstack([drop_data(x_t, p=0.3), y_t])\n",
    "            S = scale_data(transform(Z))\n",
    "            x_train.append(np.array(S[:,:-2]))\n",
    "            y_train.append(np.array(S[:,-2:]))\n",
    "            \n",
    "            S = scale_data(transform(reflect(Z)))\n",
    "            x_train.append(np.array(S[:,:-2]))\n",
    "            y_train.append(np.array(S[:,-2:]))\n",
    "\n",
    "x_train = np.vstack(x_train)\n",
    "y_train = np.vstack(y_train)"
   ]
  },
  {
   "cell_type": "markdown",
   "metadata": {},
   "source": [
    "# Try other methods"
   ]
  },
  {
   "cell_type": "code",
   "execution_count": 22,
   "metadata": {
    "tags": []
   },
   "outputs": [],
   "source": [
    "from sklearn.ensemble import RandomForestClassifier\n",
    "from sklearn.metrics import confusion_matrix, classification_report\n",
    "\n",
    "x_tr, x_val, y_tr, y_val = train_test_split(x_train, y_train, test_size=0.15, shuffle=True)\n",
    "\n",
    "from imblearn.over_sampling import SMOTE, ADASYN\n",
    "sm = ADASYN()\n",
    "x_resamp, y_resamp = sm.fit_resample(x_tr, y_tr)"
   ]
  },
  {
   "cell_type": "code",
   "execution_count": 380,
   "metadata": {
    "collapsed": true,
    "jupyter": {
     "outputs_hidden": true
    },
    "tags": []
   },
   "outputs": [
    {
     "name": "stderr",
     "output_type": "stream",
     "text": [
      "[Parallel(n_jobs=16)]: Using backend ThreadingBackend with 16 concurrent workers.\n",
      "[Parallel(n_jobs=16)]: Done  18 tasks      | elapsed:   18.3s\n"
     ]
    },
    {
     "name": "stdout",
     "output_type": "stream",
     "text": [
      "              precision    recall  f1-score   support\n",
      "\n",
      "           0       1.00      0.95      0.97     16284\n",
      "           1       0.80      0.98      0.88      1558\n",
      "           2       0.78      0.97      0.86      1649\n",
      "\n",
      "    accuracy                           0.95     19491\n",
      "   macro avg       0.86      0.97      0.91     19491\n",
      "weighted avg       0.96      0.95      0.96     19491\n",
      "\n",
      "[[15471   365   448]\n",
      " [   22  1523    13]\n",
      " [   41     9  1599]]\n"
     ]
    },
    {
     "name": "stderr",
     "output_type": "stream",
     "text": [
      "[Parallel(n_jobs=16)]: Done 100 out of 100 | elapsed:  1.1min finished\n",
      "[Parallel(n_jobs=16)]: Using backend ThreadingBackend with 16 concurrent workers.\n",
      "[Parallel(n_jobs=16)]: Done  18 tasks      | elapsed:    0.0s\n",
      "[Parallel(n_jobs=16)]: Done 100 out of 100 | elapsed:    0.1s finished\n"
     ]
    }
   ],
   "source": [
    "rf_classifier = RandomForestClassifier(\n",
    "    verbose=1, \n",
    "    n_jobs=16, \n",
    "#     class_weight='balanced',\n",
    "    max_depth=20,\n",
    ")\n",
    "rf_classifier.fit(x_resamp, y_resamp)\n",
    "y_pred = rf_classifier.predict(x_val)\n",
    "print(classification_report(y_val, y_pred))\n",
    "print(confusion_matrix(y_val, y_pred))"
   ]
  },
  {
   "cell_type": "code",
   "execution_count": 386,
   "metadata": {
    "collapsed": true,
    "jupyter": {
     "outputs_hidden": true
    },
    "tags": []
   },
   "outputs": [
    {
     "data": {
      "text/plain": [
       "['hitnet_rf.joblib']"
      ]
     },
     "execution_count": 386,
     "metadata": {},
     "output_type": "execute_result"
    }
   ],
   "source": [
    "from joblib import dump, load\n",
    "os.chdir('/home/code-base/user_space/ai-badminton/TrackNetv2/3_in_3_out')\n",
    "dump(rf_classifier, 'hitnet_rf.joblib')"
   ]
  },
  {
   "cell_type": "code",
   "execution_count": 8,
   "metadata": {
    "tags": []
   },
   "outputs": [
    {
     "data": {
      "text/plain": [
       "'/trainman-mount/trainman-k8s-storage-6677a55e-8792-44ee-923d-9ed5edea05ca/ai-badminton/TrackNetv2/3_in_3_out'"
      ]
     },
     "execution_count": 8,
     "metadata": {},
     "output_type": "execute_result"
    }
   ],
   "source": [
    "os.getcwd()"
   ]
  },
  {
   "cell_type": "code",
   "execution_count": 148,
   "metadata": {},
   "outputs": [],
   "source": [
    "# New hit detection\n",
    "os.chdir('/home/code-base/user_space/ai-badminton/notebooks')\n",
    "\n",
    "# Import shuttle trajectories and poses\n",
    "root_name = 'anthony-ginting-beat-kento-momota-anthony-ginting-vs-kento-momota-fo-2019-hlzrivktbyo'\n",
    "\n",
    "# Get poses and trajectories\n",
    "trajectory = Trajectory('./data/%s_predict.csv' % root_name)\n",
    "\n",
    "# Get video\n",
    "cap = cv2.VideoCapture('./data/%s.mp4' % root_name)\n",
    "if cap.isOpened() is False:\n",
    "    print('Error opening video stream or file')\n",
    "\n",
    "fps = cap.get(cv2.CAP_PROP_FPS)\n",
    "_, image = cap.read()\n",
    "size = (image.shape[1], image.shape[0])\n",
    "\n",
    "court = Court(\n",
    "    read_court('./data/%s_court.out' % root_name)\n",
    ")\n",
    "poses = read_player_poses('./output/%s' % root_name)"
   ]
  },
  {
   "cell_type": "code",
   "execution_count": 149,
   "metadata": {
    "tags": []
   },
   "outputs": [],
   "source": [
    "# trajectory.X = np.array(trajectory.X)\n",
    "# trajectory.Y = np.array(trajectory.Y)\n",
    "# trajectory.X[trajectory.X != trajectory.X] = 0\n",
    "# trajectory.Y[trajectory.Y != trajectory.Y] = 0"
   ]
  },
  {
   "cell_type": "code",
   "execution_count": 150,
   "metadata": {},
   "outputs": [],
   "source": [
    "def unscale_by_col(x, S, cols):\n",
    "    x_ = x[:, cols]\n",
    "    m, M = S[0], S[1]\n",
    "    x_[x_ != 0] = (x_[x_ != 0] - 1) * (M - m) + m\n",
    "    x[:, cols] = x_\n",
    "    return x\n",
    "\n",
    "def scale_by_col(x, cols):\n",
    "    x_ = x[:, cols]\n",
    "    m, M = np.min(x_[x_ != 0]), np.max(x_[x_ != 0])\n",
    "    x_[x_ != 0] = (x_[x_ != 0] - m) / (M - m) + 1\n",
    "    x[:, cols] = x_\n",
    "    return x, m, M\n",
    "\n",
    "def scale_data(x):\n",
    "    even_cols = [2*i for i in range(x.shape[1] // 2)]\n",
    "    odd_cols = [2*i+1 for i in range(x.shape[1] // 2)]\n",
    "    x, me, Me = scale_by_col(x, even_cols)\n",
    "    x, mo, Mo = scale_by_col(x, odd_cols)\n",
    "    return x, (me, Me), (mo, Mo)\n",
    "\n",
    "def unscale_data(x, Se, So):\n",
    "    even_cols = [2*i for i in range(x.shape[1] // 2)]\n",
    "    odd_cols = [2*i+1 for i in range(x.shape[1] // 2)]\n",
    "    x = unscale_by_col(x, Se, even_cols)\n",
    "    x = unscale_by_col(x, So, odd_cols)\n",
    "    return x\n",
    "\n",
    "Xb, Yb = trajectory.X, trajectory.Y\n",
    "num_consec = int(model.input_shape[1] // (2 * (34 + 4 + 1)))\n",
    "court_pts = court.corners\n",
    "corner_coords = np.array([court_pts[1], court_pts[2], court_pts[0], court_pts[3]]).flatten()\n",
    "\n",
    "bottom_player = poses[0]\n",
    "top_player = poses[1]\n",
    "\n",
    "corners = np.array([court_pts[1], court_pts[2], court_pts[0], court_pts[3]]).flatten()\n",
    "\n",
    "x_list = []\n",
    "L = min(bottom_player.values.shape[0], len(Xb))\n",
    "for i in range(num_consec):\n",
    "    end = L-num_consec+i+1\n",
    "    x_bird = np.array(list(zip(Xb[i:end], Yb[i:end])))\n",
    "    x_pose = np.hstack([bottom_player.values[i:end], top_player.values[i:end]])\n",
    "    x = np.hstack([x_bird, x_pose, np.array([corners for j in range(i, end)])])\n",
    "\n",
    "    x_list.append(x)\n",
    "x_inp = np.hstack(x_list)\n",
    "x_inp, Se, So = scale_data(x_inp)        \n",
    "\n",
    "y_pred = model.predict(x_inp)\n",
    "y_pred = unscale_data(y_pred, Se, So)"
   ]
  },
  {
   "cell_type": "code",
   "execution_count": 152,
   "metadata": {},
   "outputs": [],
   "source": [
    "cap = cv2.VideoCapture('./data/%s.mp4' % root_name)\n",
    "count = 0\n",
    "\n",
    "fourcc = cv2.VideoWriter_fourcc(*'mp4v')\n",
    "out = cv2.VideoWriter('output/test.mp4', fourcc, fps, size)\n",
    "\n",
    "L = 2000\n",
    "for i in range(L):\n",
    "    _, frame = cap.read()\n",
    "    \n",
    "    if i - 10 >= 0:\n",
    "        pos = y_pred[i - 10]\n",
    "        cv2.circle(frame, (int(pos[0]), int(pos[1])), 10, (0,0,255), -1)\n",
    "    out.write(frame)\n",
    "out.release()"
   ]
  },
  {
   "cell_type": "code",
   "execution_count": 151,
   "metadata": {},
   "outputs": [
    {
     "data": {
      "text/plain": [
       "array([[434.88345, 337.66306],\n",
       "       [464.05005, 242.06812],\n",
       "       [474.89716, 209.3088 ],\n",
       "       ...,\n",
       "       [597.3514 , 367.27173],\n",
       "       [600.15717, 326.5516 ],\n",
       "       [584.9048 , 335.42133]], dtype=float32)"
      ]
     },
     "execution_count": 151,
     "metadata": {},
     "output_type": "execute_result"
    }
   ],
   "source": [
    "y_pred"
   ]
  },
  {
   "cell_type": "code",
   "execution_count": 124,
   "metadata": {},
   "outputs": [
    {
     "data": {
      "text/plain": [
       "0.7133125"
      ]
     },
     "execution_count": 124,
     "metadata": {},
     "output_type": "execute_result"
    }
   ],
   "source": [
    "np.min(model.predict(x_inp))"
   ]
  },
  {
   "cell_type": "code",
   "execution_count": null,
   "metadata": {},
   "outputs": [],
   "source": []
  }
 ],
 "metadata": {
  "kernelspec": {
   "display_name": "Python 3",
   "language": "python",
   "name": "python3"
  },
  "language_info": {
   "codemirror_mode": {
    "name": "ipython",
    "version": 3
   },
   "file_extension": ".py",
   "mimetype": "text/x-python",
   "name": "python",
   "nbconvert_exporter": "python",
   "pygments_lexer": "ipython3",
   "version": "3.8.5"
  }
 },
 "nbformat": 4,
 "nbformat_minor": 4
}
