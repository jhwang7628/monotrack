{
 "cells": [
  {
   "cell_type": "code",
   "execution_count": 2,
   "metadata": {},
   "outputs": [],
   "source": [
    "%matplotlib widget\n",
    "%load_ext autoreload\n",
    "%autoreload 2"
   ]
  },
  {
   "cell_type": "code",
   "execution_count": 1,
   "metadata": {},
   "outputs": [],
   "source": [
    "import numpy as np\n",
    "import sys, getopt\n",
    "import os\n",
    "from glob import glob\n",
    "import piexif\n",
    "from keras.preprocessing.image import ImageDataGenerator, array_to_img, img_to_array, load_img\n",
    "import pandas as pd\n",
    "from sklearn.model_selection import train_test_split\n",
    "from HitNet import HitNet\n",
    "from TrackNet3 import TrackNet3\n",
    "from keras.models import *\n",
    "from keras.layers import *\n",
    "import keras.backend as K\n",
    "from keras import optimizers\n",
    "from keras.activations import *\n",
    "import tensorflow as tf\n",
    "import cv2\n",
    "import math"
   ]
  },
  {
   "cell_type": "code",
   "execution_count": null,
   "metadata": {},
   "outputs": [],
   "source": [
    "BATCH_SIZE=3\n",
    "HEIGHT=288\n",
    "WIDTH=512\n",
    "mag = 1\n",
    "sigma = 2.5\n",
    "\n",
    "#Return the values of accuracy, precision and recall\n",
    "def evaluation(y_pred, y_true, tol):\n",
    "    (TP, TN, FP1, FP2, FN) = outcome(y_pred, y_true, tol)\n",
    "    try:\n",
    "        accuracy = (TP + TN) / (TP + TN + FP1 + FP2 + FN)\n",
    "    except:\n",
    "        accuracy = 0\n",
    "    try:\n",
    "        precision = TP / (TP + FP1 + FP2)\n",
    "    except:\n",
    "        precision = 0\n",
    "    try:\n",
    "        recall = TP / (TP + FN)\n",
    "    except:\n",
    "        recall = 0\n",
    "    return (accuracy, precision, recall)"
   ]
  },
  {
   "cell_type": "code",
   "execution_count": null,
   "metadata": {},
   "outputs": [],
   "source": [
    "def custom_loss(y_true, y_pred):\n",
    "    loss = (-1)*(K.square(1 - y_pred) * y_true * K.log(K.clip(y_pred, K.epsilon(), 1)) + K.square(y_pred) * (1 - y_true) * K.log(K.clip(1 - y_pred, K.epsilon(), 1)))\n",
    "    return K.mean(loss)"
   ]
  },
  {
   "cell_type": "code",
   "execution_count": null,
   "metadata": {},
   "outputs": [],
   "source": [
    "load_weights = './model906_30'\n",
    "save_weights = './hitnet_weights'\n",
    "\n",
    "from HitNet import HitNet\n",
    "tracknet_model = load_model(load_weights, custom_objects={'custom_loss':custom_loss})\n",
    "model = HitNet(HEIGHT, WIDTH)\n",
    "\n",
    "for l, layer in enumerate(tracknet_model.layers):\n",
    "    if l >= len(model.layers)-model.ncustom:\n",
    "        break\n",
    "    model.layers[l].set_weights(layer.get_weights())\n",
    "    model.layers[l].trainable = False"
   ]
  },
  {
   "cell_type": "code",
   "execution_count": null,
   "metadata": {},
   "outputs": [],
   "source": [
    "model.compile(\n",
    "    optimizer=\"adam\", \n",
    "    loss=\"binary_crossentropy\",\n",
    "    metrics=['accuracy']\n",
    ")\n",
    "model.summary()"
   ]
  },
  {
   "cell_type": "code",
   "execution_count": null,
   "metadata": {},
   "outputs": [],
   "source": [
    "from sklearn.utils import class_weight\n",
    "from sklearn.metrics import classification_report\n",
    "from glob import glob\n",
    "\n",
    "import gc\n",
    "\n",
    "epochs = 10\n",
    "dataDir = '/home/code-base/scratch_space/data/npy-hitnet'\n",
    "r = os.path.abspath(os.path.join(dataDir))\n",
    "path = glob(os.path.join(r, '*.npy'))\n",
    "num = len(path) / 2\n",
    "idx = np.arange(num, dtype='int') + 1\n",
    "print('Beginning training......')\n",
    "for i in range(epochs):\n",
    "    print('============epoch', i+1, '================')\n",
    "    np.random.shuffle(idx)\n",
    "#     for j in idx:\n",
    "#         x_train = np.load(os.path.abspath(os.path.join(dataDir, 'x_data_' + str(j) + '.npy')))\n",
    "#         y_train = np.load(os.path.abspath(os.path.join(dataDir, 'y_data_' + str(j) + '.npy')))\n",
    "#         y_train = np.sum(y_train, axis=1)\n",
    "        \n",
    "# #         cw = class_weight.compute_class_weight('balanced', [0,1], y_train)\n",
    "#         model.fit(\n",
    "#             x_train, y_train, \n",
    "#             batch_size=BATCH_SIZE, \n",
    "#             epochs=5,\n",
    "# #             class_weight=cw,\n",
    "#             class_weight={0:1, 1:100},\n",
    "#             shuffle=True,\n",
    "#             validation_split=0.1)\n",
    "        \n",
    "#         del x_train\n",
    "#         del y_train\n",
    "#         gc.collect()\n",
    "    \n",
    "    y_all_pred, y_all_truth = [], []\n",
    "    cnt = 0\n",
    "    for j in idx:\n",
    "        print(j, cnt, len(idx))\n",
    "        cnt += 1\n",
    "        x_inp = np.load(os.path.abspath(os.path.join(dataDir, 'x_data_' + str(j) + '.npy')))\n",
    "        y_truth = np.load(os.path.abspath(os.path.join(dataDir, 'y_data_' + str(j) + '.npy')))\n",
    "        y_truth = np.sum(y_truth, axis=1)\n",
    "        \n",
    "#         cw = class_weight.compute_class_weight('balanced', [0,1], y_train)\n",
    "        y_pred = model.predict(x_inp) > 0.5\n",
    "        \n",
    "        y_all_truth.extend(y_truth)\n",
    "        y_all_pred.extend(y_pred)\n",
    "        \n",
    "        del x_inp\n",
    "        del y_truth\n",
    "        gc.collect()\n",
    "        \n",
    "        if cnt % 11 == 10:\n",
    "            print(classification_report(y_all_truth, y_all_pred))\n",
    "        \n",
    "    print(classification_report(y_all_truth, y_all_pred))\n",
    "        \n",
    "        \n",
    "    #Save intermediate weights during training\n",
    "    if (i + 1) % 3 == 0:\n",
    "        model.save(save_weights + '_' + str(i + 1))\n",
    "\n",
    "print('Saving weights......')\n",
    "model.save(save_weights)\n",
    "print('Done......')"
   ]
  },
  {
   "cell_type": "code",
   "execution_count": null,
   "metadata": {
    "tags": []
   },
   "outputs": [],
   "source": [
    "model.predict(x_train)"
   ]
  },
  {
   "cell_type": "markdown",
   "metadata": {},
   "source": [
    "# Pixel coordinates-only net"
   ]
  },
  {
   "cell_type": "code",
   "execution_count": null,
   "metadata": {},
   "outputs": [],
   "source": [
    "# Build model\n",
    "dropout = 0.3\n",
    "num_consec = 5\n",
    "input_layer = Input(shape=(num_consec * 2,))\n",
    "x = Dense(\n",
    "    128, \n",
    "    activation='relu',\n",
    "    kernel_regularizer=tf.contrib.layers.l2_regularizer(scale=1e-7)\n",
    ")(input_layer)\n",
    "# x = Dropout(dropout)(x)\n",
    "x = Dense(\n",
    "    64, \n",
    "    activation='relu',\n",
    "#     kernel_regularizer=tf.contrib.layers.l2_regularizer(scale=1e-7)\n",
    ")(x)\n",
    "x = Dense(\n",
    "    32, \n",
    "    activation='relu',\n",
    "#     kernel_regularizer=tf.contrib.layers.l2_regularizer(scale=1e-7)\n",
    ")(x)\n",
    "x = Dense(\n",
    "    16, \n",
    "    activation='relu',\n",
    "#     kernel_regularizer=tf.contrib.layers.l2_regularizer(scale=1e-7)\n",
    ")(x)\n",
    "output_layer = Dense(\n",
    "    1, \n",
    "    activation='sigmoid',\n",
    "#     kernel_regularizer=tf.contrib.layers.l2_regularizer(scale=1e-7)\n",
    ")(x)\n",
    "\n",
    "model = Model(input_layer, output_layer)"
   ]
  },
  {
   "cell_type": "code",
   "execution_count": null,
   "metadata": {},
   "outputs": [],
   "source": [
    "opt = optimizers.Adam(lr=1e-6)\n",
    "model.compile(\n",
    "    optimizer='adam', \n",
    "    loss=\"binary_crossentropy\",\n",
    "    metrics=['accuracy']\n",
    ")\n",
    "model.summary()"
   ]
  },
  {
   "cell_type": "code",
   "execution_count": null,
   "metadata": {},
   "outputs": [],
   "source": [
    "def diffuse(x):\n",
    "    for i in range(x.shape[0]):\n",
    "        val = 0\n",
    "        if i > 0:\n",
    "            val += x[i-1]\n",
    "        if i < x.shape[0]-1:\n",
    "            val += x[i+1]\n",
    "        x[i] = max(x[i], val/2.)\n",
    "    return x"
   ]
  },
  {
   "cell_type": "code",
   "execution_count": null,
   "metadata": {},
   "outputs": [],
   "source": [
    "matches = list('match' + str(i) for i in range(1, 23))\n",
    "\n",
    "x_train, y_train = [], []\n",
    "for match in matches:\n",
    "    for video in os.listdir('/home/code-base/scratch_space/data/%s/rally_video/' % match):\n",
    "        rally, _ = os.path.splitext(video)\n",
    "        trajectory = pd.read_csv('/home/code-base/scratch_space/data/%s/ball_trajectory/%s_ball.csv' % (match, rally))\n",
    "        hit = pd.read_csv('/home/code-base/scratch_space/data/%s/shot/%s_hit.csv' % (match, rally))\n",
    "        trajectory[trajectory.X == 0] = float('nan')\n",
    "        trajectory[trajectory.Y == 0] = float('nan')\n",
    "        \n",
    "        trajectory = trajectory.assign(X=trajectory.X.interpolate(method='slinear'))\n",
    "        trajectory = trajectory.assign(Y=trajectory.Y.interpolate(method='slinear'))\n",
    "        trajectory.fillna(method='bfill', inplace=True)\n",
    "        trajectory.fillna(method='ffill', inplace=True)\n",
    "        \n",
    "        x_list, y_list = [], []\n",
    "        for i in range(num_consec):\n",
    "            end = min(len(trajectory.X), len(hit.hit))-num_consec+i+1\n",
    "            x = np.array(list(zip(trajectory.X[i:end], trajectory.Y[i:end])))\n",
    "            y = hit.hit[i:end].to_numpy().astype(float)\n",
    "            x_list.append(x)\n",
    "            y_list.append(y)\n",
    "        \n",
    "        x_t = np.hstack(x_list)\n",
    "        y_t = np.sum(np.column_stack(y_list[1:-1]), axis=1)\n",
    "        x_train.append(x_t)\n",
    "        y_train.append(y_t)\n",
    "\n",
    "x_train = np.vstack(x_train)\n",
    "y_train = np.hstack(y_train)\n",
    "\n",
    "Xb, Yb = trajectory.X.tolist(), trajectory.Y.tolist()\n",
    "plt.plot(range(400), Yb[:400])\n",
    "plt.plot(range(400), Xb[:400])\n",
    "plt.show()"
   ]
  },
  {
   "cell_type": "code",
   "execution_count": null,
   "metadata": {},
   "outputs": [],
   "source": [
    "import ruptures as rpt\n",
    "rpt.display(trajectory.Y, hit.index[hit.hit == 1].tolist(), hit.index[hit.hit == 1].tolist())\n",
    "rpt.display(trajectory.X, hit.index[hit.hit == 1].tolist(), hit.index[hit.hit == 1].tolist())\n",
    "\n",
    "plt.show()"
   ]
  },
  {
   "cell_type": "code",
   "execution_count": null,
   "metadata": {},
   "outputs": [],
   "source": [
    "import random\n",
    "\n",
    "p = sum(y_train == 1) / sum(y_train == 0)\n",
    "subsample = []\n",
    "for i in range(x_train.shape[0]):\n",
    "    if random.random() < p or y_train[i]:\n",
    "        subsample.append(i)\n",
    "\n",
    "x_sub = x_train[subsample]\n",
    "y_sub = y_train[subsample]"
   ]
  },
  {
   "cell_type": "code",
   "execution_count": null,
   "metadata": {
    "scrolled": true
   },
   "outputs": [],
   "source": [
    "from sklearn.utils import class_weight\n",
    "from sklearn.metrics import classification_report\n",
    "\n",
    "# cw = class_weight.compute_class_weight('balanced', [0,1], y_train)\n",
    "model.fit(\n",
    "    x_sub, y_sub, \n",
    "    batch_size=64, \n",
    "    epochs=1000,\n",
    "#     class_weight={0: cw[0] / sum(cw), 1: 1.5 * cw[1] / sum(cw)},\n",
    "    shuffle=True,\n",
    "    validation_split=0.1,\n",
    "    verbose=1)"
   ]
  },
  {
   "cell_type": "code",
   "execution_count": null,
   "metadata": {},
   "outputs": [],
   "source": [
    "y_pred = np.round(model.predict(x_train) > 0.9)\n",
    "print(classification_report(y_train, y_pred))"
   ]
  },
  {
   "cell_type": "code",
   "execution_count": null,
   "metadata": {},
   "outputs": [],
   "source": [
    "import keras\n",
    "keras.models.save_model(model, './hitnet_weights')"
   ]
  },
  {
   "cell_type": "markdown",
   "metadata": {},
   "source": [
    "# Incorporating pose and court information"
   ]
  },
  {
   "cell_type": "code",
   "execution_count": 1,
   "metadata": {},
   "outputs": [],
   "source": [
    "from ai_badminton.pose import Pose, read_player_poses, process_pose_file\n",
    "from ai_badminton.court import Court, read_court\n",
    "from ai_badminton.trajectory import Trajectory\n",
    "from ai_badminton.video_annotator import annotate_video"
   ]
  },
  {
   "cell_type": "code",
   "execution_count": 3,
   "metadata": {},
   "outputs": [
    {
     "data": {
      "application/vnd.jupyter.widget-view+json": {
       "model_id": "8a5e6a4097c740ac82b5bbc51f1d8890",
       "version_major": 2,
       "version_minor": 0
      },
      "text/plain": [
       "Canvas(toolbar=Toolbar(toolitems=[('Home', 'Reset original view', 'home', 'home'), ('Back', 'Back to previous …"
      ]
     },
     "metadata": {},
     "output_type": "display_data"
    },
    {
     "data": {
      "application/vnd.jupyter.widget-view+json": {
       "model_id": "c4207352b4b84cc6b1cc0aca2a077e54",
       "version_major": 2,
       "version_minor": 0
      },
      "text/plain": [
       "Canvas(toolbar=Toolbar(toolitems=[('Home', 'Reset original view', 'home', 'home'), ('Back', 'Back to previous …"
      ]
     },
     "metadata": {},
     "output_type": "display_data"
    },
    {
     "data": {
      "application/vnd.jupyter.widget-view+json": {
       "model_id": "bee847e857304c278ad1bd029a6de4fe",
       "version_major": 2,
       "version_minor": 0
      },
      "text/plain": [
       "Canvas(toolbar=Toolbar(toolitems=[('Home', 'Reset original view', 'home', 'home'), ('Back', 'Back to previous …"
      ]
     },
     "metadata": {},
     "output_type": "display_data"
    },
    {
     "data": {
      "application/vnd.jupyter.widget-view+json": {
       "model_id": "2a6c73b27f43487fa718cf92e4d8cf78",
       "version_major": 2,
       "version_minor": 0
      },
      "text/plain": [
       "Canvas(toolbar=Toolbar(toolitems=[('Home', 'Reset original view', 'home', 'home'), ('Back', 'Back to previous …"
      ]
     },
     "metadata": {},
     "output_type": "display_data"
    },
    {
     "data": {
      "application/vnd.jupyter.widget-view+json": {
       "model_id": "ae2f4fcd8181443ba99f8bcb03caec79",
       "version_major": 2,
       "version_minor": 0
      },
      "text/plain": [
       "Canvas(toolbar=Toolbar(toolitems=[('Home', 'Reset original view', 'home', 'home'), ('Back', 'Back to previous …"
      ]
     },
     "metadata": {},
     "output_type": "display_data"
    },
    {
     "data": {
      "application/vnd.jupyter.widget-view+json": {
       "model_id": "87ef16633f7f4524a2d9d70bc68b3ab6",
       "version_major": 2,
       "version_minor": 0
      },
      "text/plain": [
       "Canvas(toolbar=Toolbar(toolitems=[('Home', 'Reset original view', 'home', 'home'), ('Back', 'Back to previous …"
      ]
     },
     "metadata": {},
     "output_type": "display_data"
    },
    {
     "data": {
      "application/vnd.jupyter.widget-view+json": {
       "model_id": "6e40a5c9410e4339883e0f7534ee09e5",
       "version_major": 2,
       "version_minor": 0
      },
      "text/plain": [
       "Canvas(toolbar=Toolbar(toolitems=[('Home', 'Reset original view', 'home', 'home'), ('Back', 'Back to previous …"
      ]
     },
     "metadata": {},
     "output_type": "display_data"
    },
    {
     "data": {
      "application/vnd.jupyter.widget-view+json": {
       "model_id": "751fb515e3244b6693c7962200a46013",
       "version_major": 2,
       "version_minor": 0
      },
      "text/plain": [
       "Canvas(toolbar=Toolbar(toolitems=[('Home', 'Reset original view', 'home', 'home'), ('Back', 'Back to previous …"
      ]
     },
     "metadata": {},
     "output_type": "display_data"
    },
    {
     "data": {
      "application/vnd.jupyter.widget-view+json": {
       "model_id": "45cdb9517fb045839bd4f2b9757b35e8",
       "version_major": 2,
       "version_minor": 0
      },
      "text/plain": [
       "Canvas(toolbar=Toolbar(toolitems=[('Home', 'Reset original view', 'home', 'home'), ('Back', 'Back to previous …"
      ]
     },
     "metadata": {},
     "output_type": "display_data"
    },
    {
     "data": {
      "application/vnd.jupyter.widget-view+json": {
       "model_id": "59f92b28224c47fe8af9283b1301326c",
       "version_major": 2,
       "version_minor": 0
      },
      "text/plain": [
       "Canvas(toolbar=Toolbar(toolitems=[('Home', 'Reset original view', 'home', 'home'), ('Back', 'Back to previous …"
      ]
     },
     "metadata": {},
     "output_type": "display_data"
    },
    {
     "data": {
      "application/vnd.jupyter.widget-view+json": {
       "model_id": "4d82d1565885426c9e0f9a69741e4ead",
       "version_major": 2,
       "version_minor": 0
      },
      "text/plain": [
       "Canvas(toolbar=Toolbar(toolitems=[('Home', 'Reset original view', 'home', 'home'), ('Back', 'Back to previous …"
      ]
     },
     "metadata": {},
     "output_type": "display_data"
    },
    {
     "data": {
      "application/vnd.jupyter.widget-view+json": {
       "model_id": "d1ff53a3433f49a892084fc973daeafc",
       "version_major": 2,
       "version_minor": 0
      },
      "text/plain": [
       "Canvas(toolbar=Toolbar(toolitems=[('Home', 'Reset original view', 'home', 'home'), ('Back', 'Back to previous …"
      ]
     },
     "metadata": {},
     "output_type": "display_data"
    },
    {
     "data": {
      "application/vnd.jupyter.widget-view+json": {
       "model_id": "43ece8544c3d41988ff6ccbb796ef369",
       "version_major": 2,
       "version_minor": 0
      },
      "text/plain": [
       "Canvas(toolbar=Toolbar(toolitems=[('Home', 'Reset original view', 'home', 'home'), ('Back', 'Back to previous …"
      ]
     },
     "metadata": {},
     "output_type": "display_data"
    },
    {
     "data": {
      "application/vnd.jupyter.widget-view+json": {
       "model_id": "738141227bcf4b8b9df799a2098e6401",
       "version_major": 2,
       "version_minor": 0
      },
      "text/plain": [
       "Canvas(toolbar=Toolbar(toolitems=[('Home', 'Reset original view', 'home', 'home'), ('Back', 'Back to previous …"
      ]
     },
     "metadata": {},
     "output_type": "display_data"
    },
    {
     "data": {
      "application/vnd.jupyter.widget-view+json": {
       "model_id": "3ab25a2149374f4aa7e19d5068e7939b",
       "version_major": 2,
       "version_minor": 0
      },
      "text/plain": [
       "Canvas(toolbar=Toolbar(toolitems=[('Home', 'Reset original view', 'home', 'home'), ('Back', 'Back to previous …"
      ]
     },
     "metadata": {},
     "output_type": "display_data"
    },
    {
     "data": {
      "application/vnd.jupyter.widget-view+json": {
       "model_id": "14a4b7f7f6d84a839002babc97cf2260",
       "version_major": 2,
       "version_minor": 0
      },
      "text/plain": [
       "Canvas(toolbar=Toolbar(toolitems=[('Home', 'Reset original view', 'home', 'home'), ('Back', 'Back to previous …"
      ]
     },
     "metadata": {},
     "output_type": "display_data"
    },
    {
     "data": {
      "application/vnd.jupyter.widget-view+json": {
       "model_id": "2871e7779f364b00b3819108b00a9cd0",
       "version_major": 2,
       "version_minor": 0
      },
      "text/plain": [
       "Canvas(toolbar=Toolbar(toolitems=[('Home', 'Reset original view', 'home', 'home'), ('Back', 'Back to previous …"
      ]
     },
     "metadata": {},
     "output_type": "display_data"
    },
    {
     "data": {
      "application/vnd.jupyter.widget-view+json": {
       "model_id": "50eb0242f75b43f8a9ab62c0bb153c0e",
       "version_major": 2,
       "version_minor": 0
      },
      "text/plain": [
       "Canvas(toolbar=Toolbar(toolitems=[('Home', 'Reset original view', 'home', 'home'), ('Back', 'Back to previous …"
      ]
     },
     "metadata": {},
     "output_type": "display_data"
    },
    {
     "data": {
      "application/vnd.jupyter.widget-view+json": {
       "model_id": "c7a0e60ade42498d9e0f3ec76beb6ba9",
       "version_major": 2,
       "version_minor": 0
      },
      "text/plain": [
       "Canvas(toolbar=Toolbar(toolitems=[('Home', 'Reset original view', 'home', 'home'), ('Back', 'Back to previous …"
      ]
     },
     "metadata": {},
     "output_type": "display_data"
    },
    {
     "data": {
      "application/vnd.jupyter.widget-view+json": {
       "model_id": "940925d7163f4f9fa78a0b59b4fec90a",
       "version_major": 2,
       "version_minor": 0
      },
      "text/plain": [
       "Canvas(toolbar=Toolbar(toolitems=[('Home', 'Reset original view', 'home', 'home'), ('Back', 'Back to previous …"
      ]
     },
     "metadata": {},
     "output_type": "display_data"
    },
    {
     "name": "stderr",
     "output_type": "stream",
     "text": [
      "<ipython-input-3-a0a7a1051503>:31: RuntimeWarning: More than 20 figures have been opened. Figures created through the pyplot interface (`matplotlib.pyplot.figure`) are retained until explicitly closed and may consume too much memory. (To control this warning, see the rcParam `figure.max_open_warning`).\n",
      "  fig = plt.figure()\n"
     ]
    },
    {
     "data": {
      "application/vnd.jupyter.widget-view+json": {
       "model_id": "ffc49386bb2d44eda96a3708f368ce34",
       "version_major": 2,
       "version_minor": 0
      },
      "text/plain": [
       "Canvas(toolbar=Toolbar(toolitems=[('Home', 'Reset original view', 'home', 'home'), ('Back', 'Back to previous …"
      ]
     },
     "metadata": {},
     "output_type": "display_data"
    },
    {
     "data": {
      "application/vnd.jupyter.widget-view+json": {
       "model_id": "e85856e0e907415fb6698cf2e659bf58",
       "version_major": 2,
       "version_minor": 0
      },
      "text/plain": [
       "Canvas(toolbar=Toolbar(toolitems=[('Home', 'Reset original view', 'home', 'home'), ('Back', 'Back to previous …"
      ]
     },
     "metadata": {},
     "output_type": "display_data"
    }
   ],
   "source": [
    "import cv2\n",
    "import matplotlib.pyplot as plt\n",
    "import numpy as np\n",
    "import pandas as pd\n",
    "\n",
    "match = 'match21'\n",
    "rally = '1_02_01'\n",
    "\n",
    "import os\n",
    "matches = list('match' + str(i) for i in range(1, 23))\n",
    "\n",
    "for match in matches:\n",
    "    for video in os.listdir('/home/code-base/scratch_space/data/%s/rally_video/' % match):\n",
    "        rally, _ = os.path.splitext(video)\n",
    "        \n",
    "        court_pts = read_court('/home/code-base/scratch_space/data/%s/court/%s.out' % (match, rally))\n",
    "        corners = [court_pts[1], court_pts[2], court_pts[0], court_pts[3]]\n",
    "    \n",
    "        def draw_court(corners):\n",
    "            # Draws the court once we have the three corners\n",
    "            court = Court(corners)\n",
    "            frames[-1] = court.draw_lines(frames[-1])\n",
    "            plt.imshow(frames[-1])\n",
    "            plt.title(match)\n",
    "   \n",
    "        cap = cv2.VideoCapture('/home/code-base/scratch_space/data/%s/rally_video/%s.mp4' % (match, rally))\n",
    "        if cap.isOpened() is False:\n",
    "            print('Error opening video stream or file')\n",
    "\n",
    "        ret, frame = cap.read()\n",
    "        fig = plt.figure()\n",
    "        frames = [frame]\n",
    "\n",
    "        draw_court(corners)\n",
    "        break\n",
    "court = Court(corners)"
   ]
  },
  {
   "cell_type": "code",
   "execution_count": 4,
   "metadata": {},
   "outputs": [
    {
     "name": "stdout",
     "output_type": "stream",
     "text": [
      "Read in files. Processing poses...\n"
     ]
    },
    {
     "data": {
      "application/vnd.jupyter.widget-view+json": {
       "model_id": "bf81c312473c40a5932adbaaf1f9df64",
       "version_major": 2,
       "version_minor": 0
      },
      "text/plain": [
       "  0%|          | 0/267586 [00:00<?, ?it/s]"
      ]
     },
     "metadata": {},
     "output_type": "display_data"
    },
    {
     "name": "stdout",
     "output_type": "stream",
     "text": [
      "Separating top and bottom poses...\n",
      "Done!\n"
     ]
    }
   ],
   "source": [
    "poses = process_pose_file(\n",
    "    '/home/code-base/scratch_space/data/%s/poses/%s.out' % (match, rally), \n",
    "    '/home/code-base/scratch_space/data/%s/poses/%s' % (match, rally), \n",
    "    court,\n",
    "    fullPose=True\n",
    ")"
   ]
  },
  {
   "cell_type": "code",
   "execution_count": 8,
   "metadata": {},
   "outputs": [
    {
     "name": "stdout",
     "output_type": "stream",
     "text": [
      "/trainman-mount/trainman-k8s-storage-6677a55e-8792-44ee-923d-9ed5edea05ca/ai-badminton/TrackNetv2/3_in_3_out\n"
     ]
    }
   ],
   "source": [
    "import os\n",
    "print(os.getcwd())"
   ]
  },
  {
   "cell_type": "code",
   "execution_count": 7,
   "metadata": {},
   "outputs": [
    {
     "data": {
      "application/vnd.jupyter.widget-view+json": {
       "model_id": "7d8a75ddb3d443aca74864ea9fba0b36",
       "version_major": 2,
       "version_minor": 0
      },
      "text/plain": [
       "  0%|          | 0/646 [00:00<?, ?it/s]"
      ]
     },
     "metadata": {},
     "output_type": "display_data"
    }
   ],
   "source": [
    "trajectory = Trajectory('/home/code-base/scratch_space/data/%s/ball_trajectory/%s_ball.csv' % (match, rally))\n",
    "poses = read_player_poses('/home/code-base/scratch_space/data/%s/poses/%s' % (match, rally))\n",
    "annotate_video(\n",
    "    cap,\n",
    "    court,\n",
    "    poses,\n",
    "    trajectory,\n",
    ")"
   ]
  },
  {
   "cell_type": "code",
   "execution_count": 5,
   "metadata": {
    "tags": []
   },
   "outputs": [
    {
     "name": "stdout",
     "output_type": "stream",
     "text": [
      "match1 1_02_00\n",
      "Read in files. Processing poses...\n"
     ]
    },
    {
     "data": {
      "application/vnd.jupyter.widget-view+json": {
       "model_id": "45d7348e496a46549764cc6d92c19259",
       "version_major": 2,
       "version_minor": 0
      },
      "text/plain": [
       "  0%|          | 0/152150 [00:00<?, ?it/s]"
      ]
     },
     "metadata": {},
     "output_type": "display_data"
    },
    {
     "name": "stdout",
     "output_type": "stream",
     "text": [
      "Separating top and bottom poses...\n",
      "Done!\n",
      "match1 1_02_04\n",
      "Read in files. Processing poses...\n"
     ]
    },
    {
     "data": {
      "application/vnd.jupyter.widget-view+json": {
       "model_id": "b8619b70dddf493b86730cf34a145d6d",
       "version_major": 2,
       "version_minor": 0
      },
      "text/plain": [
       "  0%|          | 0/49402 [00:00<?, ?it/s]"
      ]
     },
     "metadata": {},
     "output_type": "display_data"
    },
    {
     "name": "stdout",
     "output_type": "stream",
     "text": [
      "Separating top and bottom poses...\n",
      "Done!\n",
      "match1 1_06_08\n",
      "Read in files. Processing poses...\n"
     ]
    },
    {
     "data": {
      "application/vnd.jupyter.widget-view+json": {
       "model_id": "379fae112911490c8cc04681cf4be2d9",
       "version_major": 2,
       "version_minor": 0
      },
      "text/plain": [
       "  0%|          | 0/31131 [00:00<?, ?it/s]"
      ]
     },
     "metadata": {},
     "output_type": "display_data"
    },
    {
     "name": "stdout",
     "output_type": "stream",
     "text": [
      "Separating top and bottom poses...\n",
      "Done!\n",
      "match1 1_02_02\n",
      "Read in files. Processing poses...\n"
     ]
    },
    {
     "data": {
      "application/vnd.jupyter.widget-view+json": {
       "model_id": "95576906df68473997b5a0acefff6b5c",
       "version_major": 2,
       "version_minor": 0
      },
      "text/plain": [
       "  0%|          | 0/86695 [00:00<?, ?it/s]"
      ]
     },
     "metadata": {},
     "output_type": "display_data"
    },
    {
     "name": "stdout",
     "output_type": "stream",
     "text": [
      "Separating top and bottom poses...\n",
      "Done!\n",
      "match1 1_06_06\n",
      "Read in files. Processing poses...\n"
     ]
    },
    {
     "data": {
      "application/vnd.jupyter.widget-view+json": {
       "model_id": "8e7b41e102b441749c6bd41cb0b28467",
       "version_major": 2,
       "version_minor": 0
      },
      "text/plain": [
       "  0%|          | 0/51908 [00:00<?, ?it/s]"
      ]
     },
     "metadata": {},
     "output_type": "display_data"
    },
    {
     "name": "stdout",
     "output_type": "stream",
     "text": [
      "Separating top and bottom poses...\n",
      "Done!\n",
      "match1 1_03_05\n",
      "Read in files. Processing poses...\n"
     ]
    },
    {
     "data": {
      "application/vnd.jupyter.widget-view+json": {
       "model_id": "aa99602cf9c24dafa45889d7d5c58c95",
       "version_major": 2,
       "version_minor": 0
      },
      "text/plain": [
       "  0%|          | 0/106829 [00:00<?, ?it/s]"
      ]
     },
     "metadata": {},
     "output_type": "display_data"
    },
    {
     "name": "stdout",
     "output_type": "stream",
     "text": [
      "Separating top and bottom poses...\n",
      "Done!\n",
      "match1 1_02_01\n",
      "Read in files. Processing poses...\n"
     ]
    },
    {
     "data": {
      "application/vnd.jupyter.widget-view+json": {
       "model_id": "959c621b7afa499883462bdffe28f071",
       "version_major": 2,
       "version_minor": 0
      },
      "text/plain": [
       "  0%|          | 0/67390 [00:00<?, ?it/s]"
      ]
     },
     "metadata": {},
     "output_type": "display_data"
    },
    {
     "name": "stdout",
     "output_type": "stream",
     "text": [
      "Separating top and bottom poses...\n",
      "Done!\n",
      "match1 1_03_04\n",
      "Read in files. Processing poses...\n"
     ]
    },
    {
     "data": {
      "application/vnd.jupyter.widget-view+json": {
       "model_id": "2e5f750217104f92b4d496d0329ea50b",
       "version_major": 2,
       "version_minor": 0
      },
      "text/plain": [
       "  0%|          | 0/45534 [00:00<?, ?it/s]"
      ]
     },
     "metadata": {},
     "output_type": "display_data"
    },
    {
     "name": "stdout",
     "output_type": "stream",
     "text": [
      "Separating top and bottom poses...\n",
      "Done!\n",
      "match1 1_06_09\n",
      "Read in files. Processing poses...\n"
     ]
    },
    {
     "data": {
      "application/vnd.jupyter.widget-view+json": {
       "model_id": "ff46f6d18c734aecb1f98e54e9a61dfa",
       "version_major": 2,
       "version_minor": 0
      },
      "text/plain": [
       "  0%|          | 0/143625 [00:00<?, ?it/s]"
      ]
     },
     "metadata": {},
     "output_type": "display_data"
    },
    {
     "name": "stdout",
     "output_type": "stream",
     "text": [
      "Separating top and bottom poses...\n",
      "Done!\n",
      "match1 1_02_03\n",
      "Read in files. Processing poses...\n"
     ]
    },
    {
     "data": {
      "application/vnd.jupyter.widget-view+json": {
       "model_id": "7b1987bd40744c4faf1af0aebb60efac",
       "version_major": 2,
       "version_minor": 0
      },
      "text/plain": [
       "  0%|          | 0/24866 [00:00<?, ?it/s]"
      ]
     },
     "metadata": {},
     "output_type": "display_data"
    },
    {
     "name": "stdout",
     "output_type": "stream",
     "text": [
      "Separating top and bottom poses...\n",
      "Done!\n",
      "match1 1_03_06\n",
      "Read in files. Processing poses...\n"
     ]
    },
    {
     "data": {
      "application/vnd.jupyter.widget-view+json": {
       "model_id": "2455e9ff0a8947d3a4304b8d01ed6a1b",
       "version_major": 2,
       "version_minor": 0
      },
      "text/plain": [
       "  0%|          | 0/75347 [00:00<?, ?it/s]"
      ]
     },
     "metadata": {},
     "output_type": "display_data"
    },
    {
     "name": "stdout",
     "output_type": "stream",
     "text": [
      "Separating top and bottom poses...\n",
      "Done!\n",
      "match1 1_01_00\n",
      "Read in files. Processing poses...\n"
     ]
    },
    {
     "data": {
      "application/vnd.jupyter.widget-view+json": {
       "model_id": "f8ddd31545cf49629c0036b813f0b54a",
       "version_major": 2,
       "version_minor": 0
      },
      "text/plain": [
       "  0%|          | 0/204735 [00:00<?, ?it/s]"
      ]
     },
     "metadata": {},
     "output_type": "display_data"
    },
    {
     "name": "stdout",
     "output_type": "stream",
     "text": [
      "Separating top and bottom poses...\n",
      "Done!\n",
      "match2 1_00_02\n",
      "Read in files. Processing poses...\n"
     ]
    },
    {
     "data": {
      "application/vnd.jupyter.widget-view+json": {
       "model_id": "fb2513b20b4542d68b32e6957af385d4",
       "version_major": 2,
       "version_minor": 0
      },
      "text/plain": [
       "  0%|          | 0/145061 [00:00<?, ?it/s]"
      ]
     },
     "metadata": {},
     "output_type": "display_data"
    },
    {
     "name": "stdout",
     "output_type": "stream",
     "text": [
      "Separating top and bottom poses...\n",
      "Done!\n",
      "match2 1_08_11\n",
      "Read in files. Processing poses...\n"
     ]
    },
    {
     "data": {
      "application/vnd.jupyter.widget-view+json": {
       "model_id": "adee00c9d44f46b5b4aaf2f948df7bad",
       "version_major": 2,
       "version_minor": 0
      },
      "text/plain": [
       "  0%|          | 0/85044 [00:00<?, ?it/s]"
      ]
     },
     "metadata": {},
     "output_type": "display_data"
    },
    {
     "name": "stdout",
     "output_type": "stream",
     "text": [
      "Separating top and bottom poses...\n",
      "Done!\n",
      "match2 1_06_08\n",
      "Read in files. Processing poses...\n"
     ]
    },
    {
     "data": {
      "application/vnd.jupyter.widget-view+json": {
       "model_id": "c939bad666fb4b1aad365afac6c0b25a",
       "version_major": 2,
       "version_minor": 0
      },
      "text/plain": [
       "  0%|          | 0/89058 [00:00<?, ?it/s]"
      ]
     },
     "metadata": {},
     "output_type": "display_data"
    },
    {
     "name": "stdout",
     "output_type": "stream",
     "text": [
      "Separating top and bottom poses...\n",
      "Done!\n",
      "match2 1_09_12\n",
      "Read in files. Processing poses...\n"
     ]
    },
    {
     "data": {
      "application/vnd.jupyter.widget-view+json": {
       "model_id": "0d8e205faf4542f28f8eb4bf04291d98",
       "version_major": 2,
       "version_minor": 0
      },
      "text/plain": [
       "  0%|          | 0/120987 [00:00<?, ?it/s]"
      ]
     },
     "metadata": {},
     "output_type": "display_data"
    },
    {
     "name": "stdout",
     "output_type": "stream",
     "text": [
      "Separating top and bottom poses...\n",
      "Done!\n",
      "match2 1_08_12\n",
      "Read in files. Processing poses...\n"
     ]
    },
    {
     "data": {
      "application/vnd.jupyter.widget-view+json": {
       "model_id": "0ef6f61b432f4f20a2262a68f194b9eb",
       "version_major": 2,
       "version_minor": 0
      },
      "text/plain": [
       "  0%|          | 0/74957 [00:00<?, ?it/s]"
      ]
     },
     "metadata": {},
     "output_type": "display_data"
    },
    {
     "name": "stdout",
     "output_type": "stream",
     "text": [
      "Separating top and bottom poses...\n",
      "Done!\n",
      "match2 1_04_03\n",
      "Read in files. Processing poses...\n"
     ]
    },
    {
     "data": {
      "application/vnd.jupyter.widget-view+json": {
       "model_id": "71f5dee65d2e47e3b8d6016a031947bb",
       "version_major": 2,
       "version_minor": 0
      },
      "text/plain": [
       "  0%|          | 0/85012 [00:00<?, ?it/s]"
      ]
     },
     "metadata": {},
     "output_type": "display_data"
    },
    {
     "name": "stdout",
     "output_type": "stream",
     "text": [
      "Separating top and bottom poses...\n",
      "Done!\n",
      "match2 1_06_09\n",
      "Read in files. Processing poses...\n"
     ]
    },
    {
     "data": {
      "application/vnd.jupyter.widget-view+json": {
       "model_id": "edf047c0dd4c43418f09e65de1cc27c4",
       "version_major": 2,
       "version_minor": 0
      },
      "text/plain": [
       "  0%|          | 0/114991 [00:00<?, ?it/s]"
      ]
     },
     "metadata": {},
     "output_type": "display_data"
    },
    {
     "name": "stdout",
     "output_type": "stream",
     "text": [
      "Separating top and bottom poses...\n",
      "Done!\n",
      "match2 1_02_03\n",
      "Read in files. Processing poses...\n"
     ]
    },
    {
     "data": {
      "application/vnd.jupyter.widget-view+json": {
       "model_id": "3b7713c1212e4318957b1854729f50a8",
       "version_major": 2,
       "version_minor": 0
      },
      "text/plain": [
       "  0%|          | 0/90053 [00:00<?, ?it/s]"
      ]
     },
     "metadata": {},
     "output_type": "display_data"
    },
    {
     "name": "stdout",
     "output_type": "stream",
     "text": [
      "Separating top and bottom poses...\n",
      "Done!\n",
      "match3 2_04_07\n",
      "Read in files. Processing poses...\n"
     ]
    },
    {
     "data": {
      "application/vnd.jupyter.widget-view+json": {
       "model_id": "a4584543225a42ee9c90c88b8224c73a",
       "version_major": 2,
       "version_minor": 0
      },
      "text/plain": [
       "  0%|          | 0/177216 [00:00<?, ?it/s]"
      ]
     },
     "metadata": {},
     "output_type": "display_data"
    },
    {
     "name": "stdout",
     "output_type": "stream",
     "text": [
      "Separating top and bottom poses...\n",
      "Done!\n",
      "match3 2_18_15\n",
      "Read in files. Processing poses...\n"
     ]
    },
    {
     "data": {
      "application/vnd.jupyter.widget-view+json": {
       "model_id": "0415bf85a6224e668c4f5a69b273bbaf",
       "version_major": 2,
       "version_minor": 0
      },
      "text/plain": [
       "  0%|          | 0/309292 [00:00<?, ?it/s]"
      ]
     },
     "metadata": {},
     "output_type": "display_data"
    },
    {
     "name": "stdout",
     "output_type": "stream",
     "text": [
      "Separating top and bottom poses...\n",
      "Done!\n",
      "match3 1_12_17\n",
      "Read in files. Processing poses...\n"
     ]
    },
    {
     "data": {
      "application/vnd.jupyter.widget-view+json": {
       "model_id": "c69ff1b9027842238c9baaa505f98c3f",
       "version_major": 2,
       "version_minor": 0
      },
      "text/plain": [
       "  0%|          | 0/103110 [00:00<?, ?it/s]"
      ]
     },
     "metadata": {},
     "output_type": "display_data"
    },
    {
     "name": "stdout",
     "output_type": "stream",
     "text": [
      "Separating top and bottom poses...\n",
      "Done!\n",
      "match3 3_11_10\n",
      "Read in files. Processing poses...\n"
     ]
    },
    {
     "data": {
      "application/vnd.jupyter.widget-view+json": {
       "model_id": "6849cc9ecd0a4b17aafcdd0f7d23803b",
       "version_major": 2,
       "version_minor": 0
      },
      "text/plain": [
       "  0%|          | 0/62139 [00:00<?, ?it/s]"
      ]
     },
     "metadata": {},
     "output_type": "display_data"
    },
    {
     "name": "stdout",
     "output_type": "stream",
     "text": [
      "Separating top and bottom poses...\n",
      "Done!\n",
      "match3 2_10_12\n",
      "Read in files. Processing poses...\n"
     ]
    },
    {
     "data": {
      "application/vnd.jupyter.widget-view+json": {
       "model_id": "bbd36c31f72845a0aa1f7efb06071bbc",
       "version_major": 2,
       "version_minor": 0
      },
      "text/plain": [
       "  0%|          | 0/57934 [00:00<?, ?it/s]"
      ]
     },
     "metadata": {},
     "output_type": "display_data"
    },
    {
     "name": "stdout",
     "output_type": "stream",
     "text": [
      "Separating top and bottom poses...\n",
      "Done!\n",
      "match3 1_08_10\n",
      "Read in files. Processing poses...\n"
     ]
    },
    {
     "data": {
      "application/vnd.jupyter.widget-view+json": {
       "model_id": "6470fd9934244b728ad83fa6b2216f2d",
       "version_major": 2,
       "version_minor": 0
      },
      "text/plain": [
       "  0%|          | 0/34016 [00:00<?, ?it/s]"
      ]
     },
     "metadata": {},
     "output_type": "display_data"
    },
    {
     "name": "stdout",
     "output_type": "stream",
     "text": [
      "Separating top and bottom poses...\n",
      "Done!\n",
      "match3 1_01_00\n",
      "Read in files. Processing poses...\n"
     ]
    },
    {
     "data": {
      "application/vnd.jupyter.widget-view+json": {
       "model_id": "53a5d0cc775d43cabb16a9f9fd63e5b8",
       "version_major": 2,
       "version_minor": 0
      },
      "text/plain": [
       "  0%|          | 0/119109 [00:00<?, ?it/s]"
      ]
     },
     "metadata": {},
     "output_type": "display_data"
    },
    {
     "name": "stdout",
     "output_type": "stream",
     "text": [
      "Separating top and bottom poses...\n",
      "Done!\n",
      "match4 2_14_17\n",
      "Read in files. Processing poses...\n"
     ]
    },
    {
     "data": {
      "application/vnd.jupyter.widget-view+json": {
       "model_id": "188badac2caa417ba40635feb618c76c",
       "version_major": 2,
       "version_minor": 0
      },
      "text/plain": [
       "  0%|          | 0/26261 [00:00<?, ?it/s]"
      ]
     },
     "metadata": {},
     "output_type": "display_data"
    },
    {
     "name": "stdout",
     "output_type": "stream",
     "text": [
      "Separating top and bottom poses...\n",
      "Done!\n",
      "match4 3_07_05\n",
      "Read in files. Processing poses...\n"
     ]
    },
    {
     "data": {
      "application/vnd.jupyter.widget-view+json": {
       "model_id": "88ecd4c103794d688bd6508328ec5e94",
       "version_major": 2,
       "version_minor": 0
      },
      "text/plain": [
       "  0%|          | 0/23387 [00:00<?, ?it/s]"
      ]
     },
     "metadata": {},
     "output_type": "display_data"
    },
    {
     "name": "stdout",
     "output_type": "stream",
     "text": [
      "Separating top and bottom poses...\n",
      "Done!\n",
      "match4 3_02_00\n",
      "Read in files. Processing poses...\n"
     ]
    },
    {
     "data": {
      "application/vnd.jupyter.widget-view+json": {
       "model_id": "fd998c8a797c47608f0c23bc9c1b289f",
       "version_major": 2,
       "version_minor": 0
      },
      "text/plain": [
       "  0%|          | 0/47226 [00:00<?, ?it/s]"
      ]
     },
     "metadata": {},
     "output_type": "display_data"
    },
    {
     "name": "stdout",
     "output_type": "stream",
     "text": [
      "Separating top and bottom poses...\n",
      "Done!\n",
      "match4 2_02_05\n",
      "Read in files. Processing poses...\n"
     ]
    },
    {
     "data": {
      "application/vnd.jupyter.widget-view+json": {
       "model_id": "d617701fafae4db59b4ddce8144af4c3",
       "version_major": 2,
       "version_minor": 0
      },
      "text/plain": [
       "  0%|          | 0/62108 [00:00<?, ?it/s]"
      ]
     },
     "metadata": {},
     "output_type": "display_data"
    },
    {
     "name": "stdout",
     "output_type": "stream",
     "text": [
      "Separating top and bottom poses...\n",
      "Done!\n",
      "match4 3_18_17\n",
      "Read in files. Processing poses...\n"
     ]
    },
    {
     "data": {
      "application/vnd.jupyter.widget-view+json": {
       "model_id": "48ad599dccee482eaea05d6e1f600002",
       "version_major": 2,
       "version_minor": 0
      },
      "text/plain": [
       "  0%|          | 0/78802 [00:00<?, ?it/s]"
      ]
     },
     "metadata": {},
     "output_type": "display_data"
    },
    {
     "name": "stdout",
     "output_type": "stream",
     "text": [
      "Separating top and bottom poses...\n",
      "Done!\n",
      "match4 1_15_10\n",
      "Read in files. Processing poses...\n"
     ]
    },
    {
     "data": {
      "application/vnd.jupyter.widget-view+json": {
       "model_id": "ad7da14c5d3d41d1b6a39bb22aa11f6c",
       "version_major": 2,
       "version_minor": 0
      },
      "text/plain": [
       "  0%|          | 0/49740 [00:00<?, ?it/s]"
      ]
     },
     "metadata": {},
     "output_type": "display_data"
    },
    {
     "name": "stdout",
     "output_type": "stream",
     "text": [
      "Separating top and bottom poses...\n",
      "Done!\n",
      "match4 1_03_02\n",
      "Read in files. Processing poses...\n"
     ]
    },
    {
     "data": {
      "application/vnd.jupyter.widget-view+json": {
       "model_id": "377c88eb7ee0449ab23fc0e639ae7b5d",
       "version_major": 2,
       "version_minor": 0
      },
      "text/plain": [
       "  0%|          | 0/45988 [00:00<?, ?it/s]"
      ]
     },
     "metadata": {},
     "output_type": "display_data"
    },
    {
     "name": "stdout",
     "output_type": "stream",
     "text": [
      "Separating top and bottom poses...\n",
      "Done!\n",
      "match4 2_05_07\n",
      "Read in files. Processing poses...\n"
     ]
    },
    {
     "data": {
      "application/vnd.jupyter.widget-view+json": {
       "model_id": "9f61a8269c6a4a6d95b8b6d7f3ae62ff",
       "version_major": 2,
       "version_minor": 0
      },
      "text/plain": [
       "  0%|          | 0/50337 [00:00<?, ?it/s]"
      ]
     },
     "metadata": {},
     "output_type": "display_data"
    },
    {
     "name": "stdout",
     "output_type": "stream",
     "text": [
      "Separating top and bottom poses...\n",
      "Done!\n",
      "match5 1_01_01\n",
      "Read in files. Processing poses...\n"
     ]
    },
    {
     "data": {
      "application/vnd.jupyter.widget-view+json": {
       "model_id": "f3c6ec2fc5db47df805534a826ff0ed2",
       "version_major": 2,
       "version_minor": 0
      },
      "text/plain": [
       "  0%|          | 0/341335 [00:00<?, ?it/s]"
      ]
     },
     "metadata": {},
     "output_type": "display_data"
    },
    {
     "name": "stdout",
     "output_type": "stream",
     "text": [
      "Separating top and bottom poses...\n",
      "Done!\n",
      "match5 1_01_02\n",
      "Read in files. Processing poses...\n"
     ]
    },
    {
     "data": {
      "application/vnd.jupyter.widget-view+json": {
       "model_id": "70ca037b4a404089b9c62f410978e7f0",
       "version_major": 2,
       "version_minor": 0
      },
      "text/plain": [
       "  0%|          | 0/241326 [00:00<?, ?it/s]"
      ]
     },
     "metadata": {},
     "output_type": "display_data"
    },
    {
     "name": "stdout",
     "output_type": "stream",
     "text": [
      "Separating top and bottom poses...\n",
      "Done!\n",
      "match5 1_19_18\n",
      "Read in files. Processing poses...\n"
     ]
    },
    {
     "data": {
      "application/vnd.jupyter.widget-view+json": {
       "model_id": "521bce0bef1f4a81976af766ef22372a",
       "version_major": 2,
       "version_minor": 0
      },
      "text/plain": [
       "  0%|          | 0/120840 [00:00<?, ?it/s]"
      ]
     },
     "metadata": {},
     "output_type": "display_data"
    },
    {
     "name": "stdout",
     "output_type": "stream",
     "text": [
      "Separating top and bottom poses...\n",
      "Done!\n",
      "match5 2_15_13\n",
      "Read in files. Processing poses...\n"
     ]
    },
    {
     "data": {
      "application/vnd.jupyter.widget-view+json": {
       "model_id": "6791c9a610b148a28997956005ec967e",
       "version_major": 2,
       "version_minor": 0
      },
      "text/plain": [
       "  0%|          | 0/282727 [00:00<?, ?it/s]"
      ]
     },
     "metadata": {},
     "output_type": "display_data"
    },
    {
     "name": "stdout",
     "output_type": "stream",
     "text": [
      "Separating top and bottom poses...\n",
      "Done!\n",
      "match5 2_20_17\n",
      "Read in files. Processing poses...\n"
     ]
    },
    {
     "data": {
      "application/vnd.jupyter.widget-view+json": {
       "model_id": "f8e5eeca6d4c45bda566d61adc55d941",
       "version_major": 2,
       "version_minor": 0
      },
      "text/plain": [
       "  0%|          | 0/356973 [00:00<?, ?it/s]"
      ]
     },
     "metadata": {},
     "output_type": "display_data"
    },
    {
     "name": "stdout",
     "output_type": "stream",
     "text": [
      "Separating top and bottom poses...\n",
      "Done!\n",
      "match5 1_21_19\n",
      "Read in files. Processing poses...\n"
     ]
    },
    {
     "data": {
      "application/vnd.jupyter.widget-view+json": {
       "model_id": "b2766ac7153045a2821dcf4a894e2b37",
       "version_major": 2,
       "version_minor": 0
      },
      "text/plain": [
       "  0%|          | 0/329058 [00:00<?, ?it/s]"
      ]
     },
     "metadata": {},
     "output_type": "display_data"
    },
    {
     "name": "stdout",
     "output_type": "stream",
     "text": [
      "Separating top and bottom poses...\n",
      "Done!\n",
      "match6 1_02_00\n",
      "Read in files. Processing poses...\n"
     ]
    },
    {
     "data": {
      "application/vnd.jupyter.widget-view+json": {
       "model_id": "20cfb032933d4e4abc3400e5f14a29b2",
       "version_major": 2,
       "version_minor": 0
      },
      "text/plain": [
       "  0%|          | 0/164238 [00:00<?, ?it/s]"
      ]
     },
     "metadata": {},
     "output_type": "display_data"
    },
    {
     "name": "stdout",
     "output_type": "stream",
     "text": [
      "Separating top and bottom poses...\n",
      "Done!\n",
      "match6 1_11_04\n",
      "Read in files. Processing poses...\n"
     ]
    },
    {
     "data": {
      "application/vnd.jupyter.widget-view+json": {
       "model_id": "2b1220c63342476d9581ffe114338881",
       "version_major": 2,
       "version_minor": 0
      },
      "text/plain": [
       "  0%|          | 0/221216 [00:00<?, ?it/s]"
      ]
     },
     "metadata": {},
     "output_type": "display_data"
    },
    {
     "name": "stdout",
     "output_type": "stream",
     "text": [
      "Separating top and bottom poses...\n",
      "Done!\n",
      "match6 1_15_06\n",
      "Read in files. Processing poses...\n"
     ]
    },
    {
     "data": {
      "application/vnd.jupyter.widget-view+json": {
       "model_id": "006742bf45354bceb8f1a80b58382208",
       "version_major": 2,
       "version_minor": 0
      },
      "text/plain": [
       "  0%|          | 0/316190 [00:00<?, ?it/s]"
      ]
     },
     "metadata": {},
     "output_type": "display_data"
    },
    {
     "name": "stdout",
     "output_type": "stream",
     "text": [
      "Separating top and bottom poses...\n",
      "Done!\n",
      "match6 1_05_03\n",
      "Read in files. Processing poses...\n"
     ]
    },
    {
     "data": {
      "application/vnd.jupyter.widget-view+json": {
       "model_id": "8876fefb7e454d33ad392565131a5eaa",
       "version_major": 2,
       "version_minor": 0
      },
      "text/plain": [
       "  0%|          | 0/372768 [00:00<?, ?it/s]"
      ]
     },
     "metadata": {},
     "output_type": "display_data"
    },
    {
     "name": "stdout",
     "output_type": "stream",
     "text": [
      "Separating top and bottom poses...\n",
      "Done!\n",
      "match6 1_19_12\n",
      "Read in files. Processing poses...\n"
     ]
    },
    {
     "data": {
      "application/vnd.jupyter.widget-view+json": {
       "model_id": "f3e6f082c2e44774814317ca48e50646",
       "version_major": 2,
       "version_minor": 0
      },
      "text/plain": [
       "  0%|          | 0/126895 [00:00<?, ?it/s]"
      ]
     },
     "metadata": {},
     "output_type": "display_data"
    },
    {
     "name": "stdout",
     "output_type": "stream",
     "text": [
      "Separating top and bottom poses...\n",
      "Done!\n",
      "match7 2_14_15\n",
      "Read in files. Processing poses...\n"
     ]
    },
    {
     "data": {
      "application/vnd.jupyter.widget-view+json": {
       "model_id": "b5c12f9c02de4b2894fa07a5c82155fe",
       "version_major": 2,
       "version_minor": 0
      },
      "text/plain": [
       "  0%|          | 0/300698 [00:00<?, ?it/s]"
      ]
     },
     "metadata": {},
     "output_type": "display_data"
    },
    {
     "name": "stdout",
     "output_type": "stream",
     "text": [
      "Separating top and bottom poses...\n",
      "Done!\n",
      "match7 1_02_01\n",
      "Read in files. Processing poses...\n"
     ]
    },
    {
     "data": {
      "application/vnd.jupyter.widget-view+json": {
       "model_id": "a95005115bb24b6c94e33546707b642f",
       "version_major": 2,
       "version_minor": 0
      },
      "text/plain": [
       "  0%|          | 0/355194 [00:00<?, ?it/s]"
      ]
     },
     "metadata": {},
     "output_type": "display_data"
    },
    {
     "name": "stdout",
     "output_type": "stream",
     "text": [
      "Separating top and bottom poses...\n",
      "Done!\n",
      "match7 1_12_13\n",
      "Read in files. Processing poses...\n"
     ]
    },
    {
     "data": {
      "application/vnd.jupyter.widget-view+json": {
       "model_id": "ac277ea79fb7402ca8716f15d950f4bf",
       "version_major": 2,
       "version_minor": 0
      },
      "text/plain": [
       "  0%|          | 0/380420 [00:00<?, ?it/s]"
      ]
     },
     "metadata": {},
     "output_type": "display_data"
    },
    {
     "name": "stdout",
     "output_type": "stream",
     "text": [
      "Separating top and bottom poses...\n",
      "Done!\n",
      "match7 3_08_05\n",
      "Read in files. Processing poses...\n"
     ]
    },
    {
     "data": {
      "application/vnd.jupyter.widget-view+json": {
       "model_id": "d3eb5b0bbfb047d4ad62cf45541b2ec5",
       "version_major": 2,
       "version_minor": 0
      },
      "text/plain": [
       "  0%|          | 0/242266 [00:00<?, ?it/s]"
      ]
     },
     "metadata": {},
     "output_type": "display_data"
    },
    {
     "name": "stdout",
     "output_type": "stream",
     "text": [
      "Separating top and bottom poses...\n",
      "Done!\n",
      "match7 2_05_03\n",
      "Read in files. Processing poses...\n"
     ]
    },
    {
     "data": {
      "application/vnd.jupyter.widget-view+json": {
       "model_id": "c3be65a2ee494b328a15264bb3968088",
       "version_major": 2,
       "version_minor": 0
      },
      "text/plain": [
       "  0%|          | 0/587979 [00:00<?, ?it/s]"
      ]
     },
     "metadata": {},
     "output_type": "display_data"
    },
    {
     "name": "stdout",
     "output_type": "stream",
     "text": [
      "Separating top and bottom poses...\n",
      "Done!\n",
      "match8 2_03_06\n",
      "Read in files. Processing poses...\n"
     ]
    },
    {
     "data": {
      "application/vnd.jupyter.widget-view+json": {
       "model_id": "0855947793464ea599836e85cdc3ae3e",
       "version_major": 2,
       "version_minor": 0
      },
      "text/plain": [
       "  0%|          | 0/382614 [00:00<?, ?it/s]"
      ]
     },
     "metadata": {},
     "output_type": "display_data"
    },
    {
     "name": "stdout",
     "output_type": "stream",
     "text": [
      "Separating top and bottom poses...\n",
      "Done!\n",
      "match8 3_02_00\n",
      "Read in files. Processing poses...\n"
     ]
    },
    {
     "data": {
      "application/vnd.jupyter.widget-view+json": {
       "model_id": "30b46d332eea46539cb8e2e2ce5c0489",
       "version_major": 2,
       "version_minor": 0
      },
      "text/plain": [
       "  0%|          | 0/29805 [00:00<?, ?it/s]"
      ]
     },
     "metadata": {},
     "output_type": "display_data"
    },
    {
     "name": "stdout",
     "output_type": "stream",
     "text": [
      "Separating top and bottom poses...\n",
      "Done!\n",
      "match8 3_15_08\n",
      "Read in files. Processing poses...\n"
     ]
    },
    {
     "data": {
      "application/vnd.jupyter.widget-view+json": {
       "model_id": "fdaafe522f6a462e9c23032de8f1821b",
       "version_major": 2,
       "version_minor": 0
      },
      "text/plain": [
       "  0%|          | 0/52111 [00:00<?, ?it/s]"
      ]
     },
     "metadata": {},
     "output_type": "display_data"
    },
    {
     "name": "stdout",
     "output_type": "stream",
     "text": [
      "Separating top and bottom poses...\n",
      "Done!\n",
      "match8 2_10_12\n",
      "Read in files. Processing poses...\n"
     ]
    },
    {
     "data": {
      "application/vnd.jupyter.widget-view+json": {
       "model_id": "778565763aeb4d06b1fdf72da6760820",
       "version_major": 2,
       "version_minor": 0
      },
      "text/plain": [
       "  0%|          | 0/192380 [00:00<?, ?it/s]"
      ]
     },
     "metadata": {},
     "output_type": "display_data"
    },
    {
     "name": "stdout",
     "output_type": "stream",
     "text": [
      "Separating top and bottom poses...\n",
      "Done!\n",
      "match8 3_17_12\n",
      "Read in files. Processing poses...\n"
     ]
    },
    {
     "data": {
      "application/vnd.jupyter.widget-view+json": {
       "model_id": "b446d71c2ad443b5879ca01fb48587ed",
       "version_major": 2,
       "version_minor": 0
      },
      "text/plain": [
       "  0%|          | 0/150075 [00:00<?, ?it/s]"
      ]
     },
     "metadata": {},
     "output_type": "display_data"
    },
    {
     "name": "stdout",
     "output_type": "stream",
     "text": [
      "Separating top and bottom poses...\n",
      "Done!\n",
      "match8 1_05_13\n",
      "Read in files. Processing poses...\n"
     ]
    },
    {
     "data": {
      "application/vnd.jupyter.widget-view+json": {
       "model_id": "884713b1e3434e7b8507dc8aeb23c81a",
       "version_major": 2,
       "version_minor": 0
      },
      "text/plain": [
       "  0%|          | 0/96737 [00:00<?, ?it/s]"
      ]
     },
     "metadata": {},
     "output_type": "display_data"
    },
    {
     "name": "stdout",
     "output_type": "stream",
     "text": [
      "Separating top and bottom poses...\n",
      "Done!\n",
      "match8 3_21_13\n",
      "Read in files. Processing poses...\n"
     ]
    },
    {
     "data": {
      "application/vnd.jupyter.widget-view+json": {
       "model_id": "f85d74e6952b40f384bee4bdaf718e8c",
       "version_major": 2,
       "version_minor": 0
      },
      "text/plain": [
       "  0%|          | 0/97292 [00:00<?, ?it/s]"
      ]
     },
     "metadata": {},
     "output_type": "display_data"
    },
    {
     "name": "stdout",
     "output_type": "stream",
     "text": [
      "Separating top and bottom poses...\n",
      "Done!\n",
      "match8 1_01_00\n",
      "Read in files. Processing poses...\n"
     ]
    },
    {
     "data": {
      "application/vnd.jupyter.widget-view+json": {
       "model_id": "df26abda71844c23b5fec19b79802648",
       "version_major": 2,
       "version_minor": 0
      },
      "text/plain": [
       "  0%|          | 0/101689 [00:00<?, ?it/s]"
      ]
     },
     "metadata": {},
     "output_type": "display_data"
    },
    {
     "name": "stdout",
     "output_type": "stream",
     "text": [
      "Separating top and bottom poses...\n",
      "Done!\n",
      "match9 1_07_07\n",
      "Read in files. Processing poses...\n"
     ]
    },
    {
     "data": {
      "application/vnd.jupyter.widget-view+json": {
       "model_id": "c3f9bdf11329429594155776ae786a68",
       "version_major": 2,
       "version_minor": 0
      },
      "text/plain": [
       "  0%|          | 0/85888 [00:00<?, ?it/s]"
      ]
     },
     "metadata": {},
     "output_type": "display_data"
    },
    {
     "name": "stdout",
     "output_type": "stream",
     "text": [
      "Separating top and bottom poses...\n",
      "Done!\n",
      "match9 1_01_03\n",
      "Read in files. Processing poses...\n"
     ]
    },
    {
     "data": {
      "application/vnd.jupyter.widget-view+json": {
       "model_id": "e3f479173e4e4d3c8af7dec209f71bc6",
       "version_major": 2,
       "version_minor": 0
      },
      "text/plain": [
       "  0%|          | 0/202791 [00:00<?, ?it/s]"
      ]
     },
     "metadata": {},
     "output_type": "display_data"
    },
    {
     "name": "stdout",
     "output_type": "stream",
     "text": [
      "Separating top and bottom poses...\n",
      "Done!\n",
      "match9 1_06_06\n",
      "Read in files. Processing poses...\n"
     ]
    },
    {
     "data": {
      "application/vnd.jupyter.widget-view+json": {
       "model_id": "f35e6d751ba54e9c8edd952f05395565",
       "version_major": 2,
       "version_minor": 0
      },
      "text/plain": [
       "  0%|          | 0/58908 [00:00<?, ?it/s]"
      ]
     },
     "metadata": {},
     "output_type": "display_data"
    },
    {
     "name": "stdout",
     "output_type": "stream",
     "text": [
      "Separating top and bottom poses...\n",
      "Done!\n",
      "match9 1_07_14\n",
      "Read in files. Processing poses...\n"
     ]
    },
    {
     "data": {
      "application/vnd.jupyter.widget-view+json": {
       "model_id": "bbac7e69e4104176aa12622446e15cb4",
       "version_major": 2,
       "version_minor": 0
      },
      "text/plain": [
       "  0%|          | 0/52610 [00:00<?, ?it/s]"
      ]
     },
     "metadata": {},
     "output_type": "display_data"
    },
    {
     "name": "stdout",
     "output_type": "stream",
     "text": [
      "Separating top and bottom poses...\n",
      "Done!\n",
      "match9 1_07_10\n",
      "Read in files. Processing poses...\n"
     ]
    },
    {
     "data": {
      "application/vnd.jupyter.widget-view+json": {
       "model_id": "b6f2bc6f919d44e6a0352335b925d813",
       "version_major": 2,
       "version_minor": 0
      },
      "text/plain": [
       "  0%|          | 0/156053 [00:00<?, ?it/s]"
      ]
     },
     "metadata": {},
     "output_type": "display_data"
    },
    {
     "name": "stdout",
     "output_type": "stream",
     "text": [
      "Separating top and bottom poses...\n",
      "Done!\n",
      "match9 1_05_06\n",
      "Read in files. Processing poses...\n"
     ]
    },
    {
     "data": {
      "application/vnd.jupyter.widget-view+json": {
       "model_id": "e060a1a3c5114613a108a467d91902ed",
       "version_major": 2,
       "version_minor": 0
      },
      "text/plain": [
       "  0%|          | 0/72165 [00:00<?, ?it/s]"
      ]
     },
     "metadata": {},
     "output_type": "display_data"
    },
    {
     "name": "stdout",
     "output_type": "stream",
     "text": [
      "Separating top and bottom poses...\n",
      "Done!\n",
      "match9 1_02_03\n",
      "Read in files. Processing poses...\n"
     ]
    },
    {
     "data": {
      "application/vnd.jupyter.widget-view+json": {
       "model_id": "17dde66836ce4a7e8ab4590fb36d845f",
       "version_major": 2,
       "version_minor": 0
      },
      "text/plain": [
       "  0%|          | 0/82671 [00:00<?, ?it/s]"
      ]
     },
     "metadata": {},
     "output_type": "display_data"
    },
    {
     "name": "stdout",
     "output_type": "stream",
     "text": [
      "Separating top and bottom poses...\n",
      "Done!\n",
      "match9 1_07_11\n",
      "Read in files. Processing poses...\n"
     ]
    },
    {
     "data": {
      "application/vnd.jupyter.widget-view+json": {
       "model_id": "4a6d08506ad745e3ade041423a9f6e8c",
       "version_major": 2,
       "version_minor": 0
      },
      "text/plain": [
       "  0%|          | 0/82449 [00:00<?, ?it/s]"
      ]
     },
     "metadata": {},
     "output_type": "display_data"
    },
    {
     "name": "stdout",
     "output_type": "stream",
     "text": [
      "Separating top and bottom poses...\n",
      "Done!\n",
      "match9 1_04_05\n",
      "Read in files. Processing poses...\n"
     ]
    },
    {
     "data": {
      "application/vnd.jupyter.widget-view+json": {
       "model_id": "60e120a31f13486fa281fe914d950e28",
       "version_major": 2,
       "version_minor": 0
      },
      "text/plain": [
       "  0%|          | 0/67206 [00:00<?, ?it/s]"
      ]
     },
     "metadata": {},
     "output_type": "display_data"
    },
    {
     "name": "stdout",
     "output_type": "stream",
     "text": [
      "Separating top and bottom poses...\n",
      "Done!\n",
      "match10 1_12_16\n",
      "Read in files. Processing poses...\n"
     ]
    },
    {
     "data": {
      "application/vnd.jupyter.widget-view+json": {
       "model_id": "a7f593dd991041aab59595996cfc3fe0",
       "version_major": 2,
       "version_minor": 0
      },
      "text/plain": [
       "  0%|          | 0/234607 [00:00<?, ?it/s]"
      ]
     },
     "metadata": {},
     "output_type": "display_data"
    },
    {
     "name": "stdout",
     "output_type": "stream",
     "text": [
      "Separating top and bottom poses...\n",
      "Done!\n",
      "match10 1_03_03\n",
      "Read in files. Processing poses...\n"
     ]
    },
    {
     "data": {
      "application/vnd.jupyter.widget-view+json": {
       "model_id": "35c6bff0a4884ea492104dbc8793ca60",
       "version_major": 2,
       "version_minor": 0
      },
      "text/plain": [
       "  0%|          | 0/282063 [00:00<?, ?it/s]"
      ]
     },
     "metadata": {},
     "output_type": "display_data"
    },
    {
     "name": "stdout",
     "output_type": "stream",
     "text": [
      "Separating top and bottom poses...\n",
      "Done!\n",
      "match10 2_14_08\n",
      "Read in files. Processing poses...\n"
     ]
    },
    {
     "data": {
      "application/vnd.jupyter.widget-view+json": {
       "model_id": "dd54a2c1eab34a35b3a647f221c61463",
       "version_major": 2,
       "version_minor": 0
      },
      "text/plain": [
       "  0%|          | 0/351806 [00:00<?, ?it/s]"
      ]
     },
     "metadata": {},
     "output_type": "display_data"
    },
    {
     "name": "stdout",
     "output_type": "stream",
     "text": [
      "Separating top and bottom poses...\n",
      "Done!\n",
      "match10 1_03_01\n",
      "Read in files. Processing poses...\n"
     ]
    },
    {
     "data": {
      "application/vnd.jupyter.widget-view+json": {
       "model_id": "7eddaa800258413fbb263fd371824d06",
       "version_major": 2,
       "version_minor": 0
      },
      "text/plain": [
       "  0%|          | 0/296086 [00:00<?, ?it/s]"
      ]
     },
     "metadata": {},
     "output_type": "display_data"
    },
    {
     "name": "stdout",
     "output_type": "stream",
     "text": [
      "Separating top and bottom poses...\n",
      "Done!\n",
      "match10 2_04_02\n",
      "Read in files. Processing poses...\n"
     ]
    },
    {
     "data": {
      "application/vnd.jupyter.widget-view+json": {
       "model_id": "00f6b5ef0d224c37b0be5600eed30711",
       "version_major": 2,
       "version_minor": 0
      },
      "text/plain": [
       "  0%|          | 0/138377 [00:00<?, ?it/s]"
      ]
     },
     "metadata": {},
     "output_type": "display_data"
    },
    {
     "name": "stdout",
     "output_type": "stream",
     "text": [
      "Separating top and bottom poses...\n",
      "Done!\n",
      "match11 2_05_00\n",
      "Read in files. Processing poses...\n"
     ]
    },
    {
     "data": {
      "application/vnd.jupyter.widget-view+json": {
       "model_id": "c3878d0e8e1947c3980c762726399f02",
       "version_major": 2,
       "version_minor": 0
      },
      "text/plain": [
       "  0%|          | 0/97525 [00:00<?, ?it/s]"
      ]
     },
     "metadata": {},
     "output_type": "display_data"
    },
    {
     "name": "stdout",
     "output_type": "stream",
     "text": [
      "Separating top and bottom poses...\n",
      "Done!\n",
      "match11 1_03_01\n",
      "Read in files. Processing poses...\n"
     ]
    },
    {
     "data": {
      "application/vnd.jupyter.widget-view+json": {
       "model_id": "906854373df14e2495fadb654c8f23f6",
       "version_major": 2,
       "version_minor": 0
      },
      "text/plain": [
       "  0%|          | 0/138117 [00:00<?, ?it/s]"
      ]
     },
     "metadata": {},
     "output_type": "display_data"
    },
    {
     "name": "stdout",
     "output_type": "stream",
     "text": [
      "Separating top and bottom poses...\n",
      "Done!\n",
      "match11 1_13_13\n",
      "Read in files. Processing poses...\n"
     ]
    },
    {
     "data": {
      "application/vnd.jupyter.widget-view+json": {
       "model_id": "9eb06cb759654bd29d7060a5a2e0851c",
       "version_major": 2,
       "version_minor": 0
      },
      "text/plain": [
       "  0%|          | 0/214036 [00:00<?, ?it/s]"
      ]
     },
     "metadata": {},
     "output_type": "display_data"
    },
    {
     "name": "stdout",
     "output_type": "stream",
     "text": [
      "Separating top and bottom poses...\n",
      "Done!\n",
      "match11 2_15_04\n",
      "Read in files. Processing poses...\n"
     ]
    },
    {
     "data": {
      "application/vnd.jupyter.widget-view+json": {
       "model_id": "cce85ce6de4a4dda8a16c489aebcad31",
       "version_major": 2,
       "version_minor": 0
      },
      "text/plain": [
       "  0%|          | 0/185575 [00:00<?, ?it/s]"
      ]
     },
     "metadata": {},
     "output_type": "display_data"
    },
    {
     "name": "stdout",
     "output_type": "stream",
     "text": [
      "Separating top and bottom poses...\n",
      "Done!\n",
      "match11 1_07_06\n",
      "Read in files. Processing poses...\n"
     ]
    },
    {
     "data": {
      "application/vnd.jupyter.widget-view+json": {
       "model_id": "356448e7df2a4ddfa9f1b69bae4b7e6f",
       "version_major": 2,
       "version_minor": 0
      },
      "text/plain": [
       "  0%|          | 0/106294 [00:00<?, ?it/s]"
      ]
     },
     "metadata": {},
     "output_type": "display_data"
    },
    {
     "name": "stdout",
     "output_type": "stream",
     "text": [
      "Separating top and bottom poses...\n",
      "Done!\n",
      "match12 1_10_12\n",
      "Read in files. Processing poses...\n"
     ]
    },
    {
     "data": {
      "application/vnd.jupyter.widget-view+json": {
       "model_id": "0cb803b3dc4b41ef854feecab606b5d0",
       "version_major": 2,
       "version_minor": 0
      },
      "text/plain": [
       "  0%|          | 0/236358 [00:00<?, ?it/s]"
      ]
     },
     "metadata": {},
     "output_type": "display_data"
    },
    {
     "name": "stdout",
     "output_type": "stream",
     "text": [
      "Separating top and bottom poses...\n",
      "Done!\n",
      "match12 3_03_03\n",
      "Read in files. Processing poses...\n"
     ]
    },
    {
     "data": {
      "application/vnd.jupyter.widget-view+json": {
       "model_id": "6ac39675744b40aeb124efbcc76ba99d",
       "version_major": 2,
       "version_minor": 0
      },
      "text/plain": [
       "  0%|          | 0/92438 [00:00<?, ?it/s]"
      ]
     },
     "metadata": {},
     "output_type": "display_data"
    },
    {
     "name": "stdout",
     "output_type": "stream",
     "text": [
      "Separating top and bottom poses...\n",
      "Done!\n",
      "match12 2_01_01\n",
      "Read in files. Processing poses...\n"
     ]
    },
    {
     "data": {
      "application/vnd.jupyter.widget-view+json": {
       "model_id": "c8252fefcaa540a9b4881440855446b3",
       "version_major": 2,
       "version_minor": 0
      },
      "text/plain": [
       "  0%|          | 0/124585 [00:00<?, ?it/s]"
      ]
     },
     "metadata": {},
     "output_type": "display_data"
    },
    {
     "name": "stdout",
     "output_type": "stream",
     "text": [
      "Separating top and bottom poses...\n",
      "Done!\n",
      "match12 2_05_14\n",
      "Read in files. Processing poses...\n"
     ]
    },
    {
     "data": {
      "application/vnd.jupyter.widget-view+json": {
       "model_id": "668d44bc2a064c76a4a34f7c7deb5771",
       "version_major": 2,
       "version_minor": 0
      },
      "text/plain": [
       "  0%|          | 0/235738 [00:00<?, ?it/s]"
      ]
     },
     "metadata": {},
     "output_type": "display_data"
    },
    {
     "name": "stdout",
     "output_type": "stream",
     "text": [
      "Separating top and bottom poses...\n",
      "Done!\n",
      "match12 1_01_00\n",
      "Read in files. Processing poses...\n"
     ]
    },
    {
     "data": {
      "application/vnd.jupyter.widget-view+json": {
       "model_id": "55d0e386e59e45a3950c06c8a43042b0",
       "version_major": 2,
       "version_minor": 0
      },
      "text/plain": [
       "  0%|          | 0/203554 [00:00<?, ?it/s]"
      ]
     },
     "metadata": {},
     "output_type": "display_data"
    },
    {
     "name": "stdout",
     "output_type": "stream",
     "text": [
      "Separating top and bottom poses...\n",
      "Done!\n",
      "match13 2_09_08\n",
      "Read in files. Processing poses...\n"
     ]
    },
    {
     "data": {
      "application/vnd.jupyter.widget-view+json": {
       "model_id": "87719e5701744dc097acae443fa7fa30",
       "version_major": 2,
       "version_minor": 0
      },
      "text/plain": [
       "  0%|          | 0/27947 [00:00<?, ?it/s]"
      ]
     },
     "metadata": {},
     "output_type": "display_data"
    },
    {
     "name": "stdout",
     "output_type": "stream",
     "text": [
      "Separating top and bottom poses...\n",
      "Done!\n",
      "match13 1_09_10\n",
      "Read in files. Processing poses...\n"
     ]
    },
    {
     "data": {
      "application/vnd.jupyter.widget-view+json": {
       "model_id": "2bc13fcad36843d0bc966153ae1f5746",
       "version_major": 2,
       "version_minor": 0
      },
      "text/plain": [
       "  0%|          | 0/113811 [00:00<?, ?it/s]"
      ]
     },
     "metadata": {},
     "output_type": "display_data"
    },
    {
     "name": "stdout",
     "output_type": "stream",
     "text": [
      "Separating top and bottom poses...\n",
      "Done!\n",
      "match13 1_17_15\n",
      "Read in files. Processing poses...\n"
     ]
    },
    {
     "data": {
      "application/vnd.jupyter.widget-view+json": {
       "model_id": "6d8b3cae963847a8bdd07223d6c29cfe",
       "version_major": 2,
       "version_minor": 0
      },
      "text/plain": [
       "  0%|          | 0/67333 [00:00<?, ?it/s]"
      ]
     },
     "metadata": {},
     "output_type": "display_data"
    },
    {
     "name": "stdout",
     "output_type": "stream",
     "text": [
      "Separating top and bottom poses...\n",
      "Done!\n",
      "match13 2_06_05\n",
      "Read in files. Processing poses...\n"
     ]
    },
    {
     "data": {
      "application/vnd.jupyter.widget-view+json": {
       "model_id": "68ad52b792aa4ed7b30f71ebdc95bb97",
       "version_major": 2,
       "version_minor": 0
      },
      "text/plain": [
       "  0%|          | 0/188089 [00:00<?, ?it/s]"
      ]
     },
     "metadata": {},
     "output_type": "display_data"
    },
    {
     "name": "stdout",
     "output_type": "stream",
     "text": [
      "Separating top and bottom poses...\n",
      "Done!\n",
      "match13 2_17_11\n",
      "Read in files. Processing poses...\n"
     ]
    },
    {
     "data": {
      "application/vnd.jupyter.widget-view+json": {
       "model_id": "85e3931baba34720b0f51a5aa77f181b",
       "version_major": 2,
       "version_minor": 0
      },
      "text/plain": [
       "  0%|          | 0/84519 [00:00<?, ?it/s]"
      ]
     },
     "metadata": {},
     "output_type": "display_data"
    },
    {
     "name": "stdout",
     "output_type": "stream",
     "text": [
      "Separating top and bottom poses...\n",
      "Done!\n",
      "match13 2_07_05\n",
      "Read in files. Processing poses...\n"
     ]
    },
    {
     "data": {
      "application/vnd.jupyter.widget-view+json": {
       "model_id": "07488f3558c84b94a9e9caf7108c6c92",
       "version_major": 2,
       "version_minor": 0
      },
      "text/plain": [
       "  0%|          | 0/44169 [00:00<?, ?it/s]"
      ]
     },
     "metadata": {},
     "output_type": "display_data"
    },
    {
     "name": "stdout",
     "output_type": "stream",
     "text": [
      "Separating top and bottom poses...\n",
      "Done!\n",
      "match14 2_21_17\n",
      "Read in files. Processing poses...\n"
     ]
    },
    {
     "data": {
      "application/vnd.jupyter.widget-view+json": {
       "model_id": "b894eb198355490d8e7c9e6cb801642c",
       "version_major": 2,
       "version_minor": 0
      },
      "text/plain": [
       "  0%|          | 0/116288 [00:00<?, ?it/s]"
      ]
     },
     "metadata": {},
     "output_type": "display_data"
    },
    {
     "name": "stdout",
     "output_type": "stream",
     "text": [
      "Separating top and bottom poses...\n",
      "Done!\n",
      "match14 2_15_10\n",
      "Read in files. Processing poses...\n"
     ]
    },
    {
     "data": {
      "application/vnd.jupyter.widget-view+json": {
       "model_id": "0fdc8849b8bb4ec8b1c0ac16bc143a7b",
       "version_major": 2,
       "version_minor": 0
      },
      "text/plain": [
       "  0%|          | 0/101411 [00:00<?, ?it/s]"
      ]
     },
     "metadata": {},
     "output_type": "display_data"
    },
    {
     "name": "stdout",
     "output_type": "stream",
     "text": [
      "Separating top and bottom poses...\n",
      "Done!\n",
      "match14 2_13_06\n",
      "Read in files. Processing poses...\n"
     ]
    },
    {
     "data": {
      "application/vnd.jupyter.widget-view+json": {
       "model_id": "7696a1e635704918b52dac9ebc5021ac",
       "version_major": 2,
       "version_minor": 0
      },
      "text/plain": [
       "  0%|          | 0/205803 [00:00<?, ?it/s]"
      ]
     },
     "metadata": {},
     "output_type": "display_data"
    },
    {
     "name": "stdout",
     "output_type": "stream",
     "text": [
      "Separating top and bottom poses...\n",
      "Done!\n",
      "match14 2_19_13\n",
      "Read in files. Processing poses...\n"
     ]
    },
    {
     "data": {
      "application/vnd.jupyter.widget-view+json": {
       "model_id": "143024db1f8848b280e6f868deb72186",
       "version_major": 2,
       "version_minor": 0
      },
      "text/plain": [
       "  0%|          | 0/212907 [00:00<?, ?it/s]"
      ]
     },
     "metadata": {},
     "output_type": "display_data"
    },
    {
     "name": "stdout",
     "output_type": "stream",
     "text": [
      "Separating top and bottom poses...\n",
      "Done!\n",
      "match14 1_17_14\n",
      "Read in files. Processing poses...\n"
     ]
    },
    {
     "data": {
      "application/vnd.jupyter.widget-view+json": {
       "model_id": "879bb92bcbd04c468c744f0548cabfa4",
       "version_major": 2,
       "version_minor": 0
      },
      "text/plain": [
       "  0%|          | 0/326352 [00:00<?, ?it/s]"
      ]
     },
     "metadata": {},
     "output_type": "display_data"
    },
    {
     "name": "stdout",
     "output_type": "stream",
     "text": [
      "Separating top and bottom poses...\n",
      "Done!\n",
      "match15 1_21_12\n",
      "Read in files. Processing poses...\n"
     ]
    },
    {
     "data": {
      "application/vnd.jupyter.widget-view+json": {
       "model_id": "26839bf29d284352a970fb9f388e30f3",
       "version_major": 2,
       "version_minor": 0
      },
      "text/plain": [
       "  0%|          | 0/54817 [00:00<?, ?it/s]"
      ]
     },
     "metadata": {},
     "output_type": "display_data"
    },
    {
     "name": "stdout",
     "output_type": "stream",
     "text": [
      "Separating top and bottom poses...\n",
      "Done!\n",
      "match15 2_14_08\n",
      "Read in files. Processing poses...\n"
     ]
    },
    {
     "data": {
      "application/vnd.jupyter.widget-view+json": {
       "model_id": "54ad6370161d4e47865882eb9e3f90ec",
       "version_major": 2,
       "version_minor": 0
      },
      "text/plain": [
       "  0%|          | 0/34417 [00:00<?, ?it/s]"
      ]
     },
     "metadata": {},
     "output_type": "display_data"
    },
    {
     "name": "stdout",
     "output_type": "stream",
     "text": [
      "Separating top and bottom poses...\n",
      "Done!\n",
      "match15 2_19_14\n",
      "Read in files. Processing poses...\n"
     ]
    },
    {
     "data": {
      "application/vnd.jupyter.widget-view+json": {
       "model_id": "9d3d7ef3d4a542288c6501ae401fd089",
       "version_major": 2,
       "version_minor": 0
      },
      "text/plain": [
       "  0%|          | 0/96751 [00:00<?, ?it/s]"
      ]
     },
     "metadata": {},
     "output_type": "display_data"
    },
    {
     "name": "stdout",
     "output_type": "stream",
     "text": [
      "Separating top and bottom poses...\n",
      "Done!\n",
      "match15 2_16_12\n",
      "Read in files. Processing poses...\n"
     ]
    },
    {
     "data": {
      "application/vnd.jupyter.widget-view+json": {
       "model_id": "e5c21a6e86d147bd9d318cbe5cb97342",
       "version_major": 2,
       "version_minor": 0
      },
      "text/plain": [
       "  0%|          | 0/83013 [00:00<?, ?it/s]"
      ]
     },
     "metadata": {},
     "output_type": "display_data"
    },
    {
     "name": "stdout",
     "output_type": "stream",
     "text": [
      "Separating top and bottom poses...\n",
      "Done!\n",
      "match15 2_18_14\n",
      "Read in files. Processing poses...\n"
     ]
    },
    {
     "data": {
      "application/vnd.jupyter.widget-view+json": {
       "model_id": "fff79581b4a54f019c1fc54e92462cc3",
       "version_major": 2,
       "version_minor": 0
      },
      "text/plain": [
       "  0%|          | 0/128559 [00:00<?, ?it/s]"
      ]
     },
     "metadata": {},
     "output_type": "display_data"
    },
    {
     "name": "stdout",
     "output_type": "stream",
     "text": [
      "Separating top and bottom poses...\n",
      "Done!\n",
      "match16 1_13_20\n",
      "Read in files. Processing poses...\n"
     ]
    },
    {
     "data": {
      "application/vnd.jupyter.widget-view+json": {
       "model_id": "7ea6f136ec2741c3b768c1666afb8164",
       "version_major": 2,
       "version_minor": 0
      },
      "text/plain": [
       "  0%|          | 0/119706 [00:00<?, ?it/s]"
      ]
     },
     "metadata": {},
     "output_type": "display_data"
    },
    {
     "name": "stdout",
     "output_type": "stream",
     "text": [
      "Separating top and bottom poses...\n",
      "Done!\n",
      "match16 3_14_09\n",
      "Read in files. Processing poses...\n"
     ]
    },
    {
     "data": {
      "application/vnd.jupyter.widget-view+json": {
       "model_id": "7531d80777604b0e817194842ee62428",
       "version_major": 2,
       "version_minor": 0
      },
      "text/plain": [
       "  0%|          | 0/105678 [00:00<?, ?it/s]"
      ]
     },
     "metadata": {},
     "output_type": "display_data"
    },
    {
     "name": "stdout",
     "output_type": "stream",
     "text": [
      "Separating top and bottom poses...\n",
      "Done!\n",
      "match16 3_12_06\n",
      "Read in files. Processing poses...\n"
     ]
    },
    {
     "data": {
      "application/vnd.jupyter.widget-view+json": {
       "model_id": "7855520cdb6c4b9db44c29d9c773e787",
       "version_major": 2,
       "version_minor": 0
      },
      "text/plain": [
       "  0%|          | 0/223225 [00:00<?, ?it/s]"
      ]
     },
     "metadata": {},
     "output_type": "display_data"
    },
    {
     "name": "stdout",
     "output_type": "stream",
     "text": [
      "Separating top and bottom poses...\n",
      "Done!\n",
      "match16 1_03_06\n",
      "Read in files. Processing poses...\n"
     ]
    },
    {
     "data": {
      "application/vnd.jupyter.widget-view+json": {
       "model_id": "a157047c7acd4d4cb0a15b69aa17bb29",
       "version_major": 2,
       "version_minor": 0
      },
      "text/plain": [
       "  0%|          | 0/151670 [00:00<?, ?it/s]"
      ]
     },
     "metadata": {},
     "output_type": "display_data"
    },
    {
     "name": "stdout",
     "output_type": "stream",
     "text": [
      "Separating top and bottom poses...\n",
      "Done!\n",
      "match16 2_08_08\n",
      "Read in files. Processing poses...\n"
     ]
    },
    {
     "data": {
      "application/vnd.jupyter.widget-view+json": {
       "model_id": "defdcb0d89ef4ebb83e85951e982c802",
       "version_major": 2,
       "version_minor": 0
      },
      "text/plain": [
       "  0%|          | 0/160919 [00:00<?, ?it/s]"
      ]
     },
     "metadata": {},
     "output_type": "display_data"
    },
    {
     "name": "stdout",
     "output_type": "stream",
     "text": [
      "Separating top and bottom poses...\n",
      "Done!\n",
      "match16 3_17_16\n",
      "Read in files. Processing poses...\n"
     ]
    },
    {
     "data": {
      "application/vnd.jupyter.widget-view+json": {
       "model_id": "ec7f63928fb242e89cef76268881e53e",
       "version_major": 2,
       "version_minor": 0
      },
      "text/plain": [
       "  0%|          | 0/128577 [00:00<?, ?it/s]"
      ]
     },
     "metadata": {},
     "output_type": "display_data"
    },
    {
     "name": "stdout",
     "output_type": "stream",
     "text": [
      "Separating top and bottom poses...\n",
      "Done!\n",
      "match17 1_15_13\n",
      "Read in files. Processing poses...\n"
     ]
    },
    {
     "data": {
      "application/vnd.jupyter.widget-view+json": {
       "model_id": "522156ac353d4cad8b73cfe070603f0f",
       "version_major": 2,
       "version_minor": 0
      },
      "text/plain": [
       "  0%|          | 0/110781 [00:00<?, ?it/s]"
      ]
     },
     "metadata": {},
     "output_type": "display_data"
    },
    {
     "name": "stdout",
     "output_type": "stream",
     "text": [
      "Separating top and bottom poses...\n",
      "Done!\n",
      "match17 2_08_05\n",
      "Read in files. Processing poses...\n"
     ]
    },
    {
     "data": {
      "application/vnd.jupyter.widget-view+json": {
       "model_id": "6b3d599dbcad46c496db443e253db690",
       "version_major": 2,
       "version_minor": 0
      },
      "text/plain": [
       "  0%|          | 0/127733 [00:00<?, ?it/s]"
      ]
     },
     "metadata": {},
     "output_type": "display_data"
    },
    {
     "name": "stdout",
     "output_type": "stream",
     "text": [
      "Separating top and bottom poses...\n",
      "Done!\n",
      "match17 1_02_02\n",
      "Read in files. Processing poses...\n"
     ]
    },
    {
     "data": {
      "application/vnd.jupyter.widget-view+json": {
       "model_id": "a621cec003874fb08ee2630673b6f294",
       "version_major": 2,
       "version_minor": 0
      },
      "text/plain": [
       "  0%|          | 0/88536 [00:00<?, ?it/s]"
      ]
     },
     "metadata": {},
     "output_type": "display_data"
    },
    {
     "name": "stdout",
     "output_type": "stream",
     "text": [
      "Separating top and bottom poses...\n",
      "Done!\n",
      "match17 2_18_11\n",
      "Read in files. Processing poses...\n"
     ]
    },
    {
     "data": {
      "application/vnd.jupyter.widget-view+json": {
       "model_id": "a904e478ed7b4314938e1aa6f98f1a4e",
       "version_major": 2,
       "version_minor": 0
      },
      "text/plain": [
       "  0%|          | 0/112641 [00:00<?, ?it/s]"
      ]
     },
     "metadata": {},
     "output_type": "display_data"
    },
    {
     "name": "stdout",
     "output_type": "stream",
     "text": [
      "Separating top and bottom poses...\n",
      "Done!\n",
      "match17 2_01_01\n",
      "Read in files. Processing poses...\n"
     ]
    },
    {
     "data": {
      "application/vnd.jupyter.widget-view+json": {
       "model_id": "30144084bba94a20b42dd346c70d45ae",
       "version_major": 2,
       "version_minor": 0
      },
      "text/plain": [
       "  0%|          | 0/119979 [00:00<?, ?it/s]"
      ]
     },
     "metadata": {},
     "output_type": "display_data"
    },
    {
     "name": "stdout",
     "output_type": "stream",
     "text": [
      "Separating top and bottom poses...\n",
      "Done!\n",
      "match17 2_15_11\n",
      "Read in files. Processing poses...\n"
     ]
    },
    {
     "data": {
      "application/vnd.jupyter.widget-view+json": {
       "model_id": "0588ac36bd7e4fa0bb55c97fd63e5242",
       "version_major": 2,
       "version_minor": 0
      },
      "text/plain": [
       "  0%|          | 0/99236 [00:00<?, ?it/s]"
      ]
     },
     "metadata": {},
     "output_type": "display_data"
    },
    {
     "name": "stdout",
     "output_type": "stream",
     "text": [
      "Separating top and bottom poses...\n",
      "Done!\n",
      "match18 3_12_14\n",
      "Read in files. Processing poses...\n"
     ]
    },
    {
     "data": {
      "application/vnd.jupyter.widget-view+json": {
       "model_id": "4177024c554a466383266daaa2e61f52",
       "version_major": 2,
       "version_minor": 0
      },
      "text/plain": [
       "  0%|          | 0/74349 [00:00<?, ?it/s]"
      ]
     },
     "metadata": {},
     "output_type": "display_data"
    },
    {
     "name": "stdout",
     "output_type": "stream",
     "text": [
      "Separating top and bottom poses...\n",
      "Done!\n",
      "match18 3_03_05\n",
      "Read in files. Processing poses...\n"
     ]
    },
    {
     "data": {
      "application/vnd.jupyter.widget-view+json": {
       "model_id": "0d58a98d662c4848bb76c9815f59cb30",
       "version_major": 2,
       "version_minor": 0
      },
      "text/plain": [
       "  0%|          | 0/133115 [00:00<?, ?it/s]"
      ]
     },
     "metadata": {},
     "output_type": "display_data"
    },
    {
     "name": "stdout",
     "output_type": "stream",
     "text": [
      "Separating top and bottom poses...\n",
      "Done!\n",
      "match18 3_20_19\n",
      "Read in files. Processing poses...\n"
     ]
    },
    {
     "data": {
      "application/vnd.jupyter.widget-view+json": {
       "model_id": "907f85f4616e4b548c3cd9e429f39c1e",
       "version_major": 2,
       "version_minor": 0
      },
      "text/plain": [
       "  0%|          | 0/71867 [00:00<?, ?it/s]"
      ]
     },
     "metadata": {},
     "output_type": "display_data"
    },
    {
     "name": "stdout",
     "output_type": "stream",
     "text": [
      "Separating top and bottom poses...\n",
      "Done!\n",
      "match18 2_02_02\n",
      "Read in files. Processing poses...\n"
     ]
    },
    {
     "data": {
      "application/vnd.jupyter.widget-view+json": {
       "model_id": "11b71f16f31046d8abe77d1a67a01c9d",
       "version_major": 2,
       "version_minor": 0
      },
      "text/plain": [
       "  0%|          | 0/84298 [00:00<?, ?it/s]"
      ]
     },
     "metadata": {},
     "output_type": "display_data"
    },
    {
     "name": "stdout",
     "output_type": "stream",
     "text": [
      "Separating top and bottom poses...\n",
      "Done!\n",
      "match18 1_06_12\n",
      "Read in files. Processing poses...\n"
     ]
    },
    {
     "data": {
      "application/vnd.jupyter.widget-view+json": {
       "model_id": "ec617cba7e894cea9a73823ab2715775",
       "version_major": 2,
       "version_minor": 0
      },
      "text/plain": [
       "  0%|          | 0/68026 [00:00<?, ?it/s]"
      ]
     },
     "metadata": {},
     "output_type": "display_data"
    },
    {
     "name": "stdout",
     "output_type": "stream",
     "text": [
      "Separating top and bottom poses...\n",
      "Done!\n",
      "match18 3_16_17\n",
      "Read in files. Processing poses...\n"
     ]
    },
    {
     "data": {
      "application/vnd.jupyter.widget-view+json": {
       "model_id": "2072789ff3704f5a8c9c557f53441689",
       "version_major": 2,
       "version_minor": 0
      },
      "text/plain": [
       "  0%|          | 0/76529 [00:00<?, ?it/s]"
      ]
     },
     "metadata": {},
     "output_type": "display_data"
    },
    {
     "name": "stdout",
     "output_type": "stream",
     "text": [
      "Separating top and bottom poses...\n",
      "Done!\n",
      "match19 1_01_01\n",
      "Read in files. Processing poses...\n"
     ]
    },
    {
     "data": {
      "application/vnd.jupyter.widget-view+json": {
       "model_id": "45bbd30ac5a349f79c56e5d24e7d20ff",
       "version_major": 2,
       "version_minor": 0
      },
      "text/plain": [
       "  0%|          | 0/103384 [00:00<?, ?it/s]"
      ]
     },
     "metadata": {},
     "output_type": "display_data"
    },
    {
     "name": "stdout",
     "output_type": "stream",
     "text": [
      "Separating top and bottom poses...\n",
      "Done!\n",
      "match19 2_12_06\n",
      "Read in files. Processing poses...\n"
     ]
    },
    {
     "data": {
      "application/vnd.jupyter.widget-view+json": {
       "model_id": "e2a041fa244b4c6badafc936788cf755",
       "version_major": 2,
       "version_minor": 0
      },
      "text/plain": [
       "  0%|          | 0/108551 [00:00<?, ?it/s]"
      ]
     },
     "metadata": {},
     "output_type": "display_data"
    },
    {
     "name": "stdout",
     "output_type": "stream",
     "text": [
      "Separating top and bottom poses...\n",
      "Done!\n",
      "match19 2_14_08\n",
      "Read in files. Processing poses...\n"
     ]
    },
    {
     "data": {
      "application/vnd.jupyter.widget-view+json": {
       "model_id": "2d19867ce82d41f488520a5792ba7530",
       "version_major": 2,
       "version_minor": 0
      },
      "text/plain": [
       "  0%|          | 0/83893 [00:00<?, ?it/s]"
      ]
     },
     "metadata": {},
     "output_type": "display_data"
    },
    {
     "name": "stdout",
     "output_type": "stream",
     "text": [
      "Separating top and bottom poses...\n",
      "Done!\n",
      "match19 1_01_03\n",
      "Read in files. Processing poses...\n"
     ]
    },
    {
     "data": {
      "application/vnd.jupyter.widget-view+json": {
       "model_id": "6d03adad66f34a199d509f9f3a5c4804",
       "version_major": 2,
       "version_minor": 0
      },
      "text/plain": [
       "  0%|          | 0/199077 [00:00<?, ?it/s]"
      ]
     },
     "metadata": {},
     "output_type": "display_data"
    },
    {
     "name": "stdout",
     "output_type": "stream",
     "text": [
      "Separating top and bottom poses...\n",
      "Done!\n",
      "match19 1_07_08\n",
      "Read in files. Processing poses...\n"
     ]
    },
    {
     "data": {
      "application/vnd.jupyter.widget-view+json": {
       "model_id": "17690b8bce94430f84b3079ebaa7a4db",
       "version_major": 2,
       "version_minor": 0
      },
      "text/plain": [
       "  0%|          | 0/127753 [00:00<?, ?it/s]"
      ]
     },
     "metadata": {},
     "output_type": "display_data"
    },
    {
     "name": "stdout",
     "output_type": "stream",
     "text": [
      "Separating top and bottom poses...\n",
      "Done!\n",
      "match20 2_00_01\n",
      "Read in files. Processing poses...\n"
     ]
    },
    {
     "data": {
      "application/vnd.jupyter.widget-view+json": {
       "model_id": "c010bd742ccb4051abcf20206f4bfd58",
       "version_major": 2,
       "version_minor": 0
      },
      "text/plain": [
       "  0%|          | 0/70041 [00:00<?, ?it/s]"
      ]
     },
     "metadata": {},
     "output_type": "display_data"
    },
    {
     "name": "stdout",
     "output_type": "stream",
     "text": [
      "Separating top and bottom poses...\n",
      "Done!\n",
      "match20 1_09_05\n",
      "Read in files. Processing poses...\n"
     ]
    },
    {
     "data": {
      "application/vnd.jupyter.widget-view+json": {
       "model_id": "c0b4fd3015ae424880e49331488e4ca1",
       "version_major": 2,
       "version_minor": 0
      },
      "text/plain": [
       "  0%|          | 0/129910 [00:00<?, ?it/s]"
      ]
     },
     "metadata": {},
     "output_type": "display_data"
    },
    {
     "name": "stdout",
     "output_type": "stream",
     "text": [
      "Separating top and bottom poses...\n",
      "Done!\n",
      "match20 2_05_08\n",
      "Read in files. Processing poses...\n"
     ]
    },
    {
     "data": {
      "application/vnd.jupyter.widget-view+json": {
       "model_id": "e75e9d7569024cee9456efe353214491",
       "version_major": 2,
       "version_minor": 0
      },
      "text/plain": [
       "  0%|          | 0/147798 [00:00<?, ?it/s]"
      ]
     },
     "metadata": {},
     "output_type": "display_data"
    },
    {
     "name": "stdout",
     "output_type": "stream",
     "text": [
      "Separating top and bottom poses...\n",
      "Done!\n",
      "match20 2_19_14\n",
      "Read in files. Processing poses...\n"
     ]
    },
    {
     "data": {
      "application/vnd.jupyter.widget-view+json": {
       "model_id": "b4b3c63721b94afa94fffa11895c1df0",
       "version_major": 2,
       "version_minor": 0
      },
      "text/plain": [
       "  0%|          | 0/98344 [00:00<?, ?it/s]"
      ]
     },
     "metadata": {},
     "output_type": "display_data"
    },
    {
     "name": "stdout",
     "output_type": "stream",
     "text": [
      "Separating top and bottom poses...\n",
      "Done!\n",
      "match20 2_07_08\n",
      "Read in files. Processing poses...\n"
     ]
    },
    {
     "data": {
      "application/vnd.jupyter.widget-view+json": {
       "model_id": "f77fa9cbb8884aedaee1563a71674732",
       "version_major": 2,
       "version_minor": 0
      },
      "text/plain": [
       "  0%|          | 0/79456 [00:00<?, ?it/s]"
      ]
     },
     "metadata": {},
     "output_type": "display_data"
    },
    {
     "name": "stdout",
     "output_type": "stream",
     "text": [
      "Separating top and bottom poses...\n",
      "Done!\n",
      "match20 1_11_10\n",
      "Read in files. Processing poses...\n"
     ]
    },
    {
     "data": {
      "application/vnd.jupyter.widget-view+json": {
       "model_id": "57d13411c1c24f97a5e9e79ec2efb0b1",
       "version_major": 2,
       "version_minor": 0
      },
      "text/plain": [
       "  0%|          | 0/94454 [00:00<?, ?it/s]"
      ]
     },
     "metadata": {},
     "output_type": "display_data"
    },
    {
     "name": "stdout",
     "output_type": "stream",
     "text": [
      "Separating top and bottom poses...\n",
      "Done!\n",
      "match21 2_09_08\n",
      "Read in files. Processing poses...\n"
     ]
    },
    {
     "data": {
      "application/vnd.jupyter.widget-view+json": {
       "model_id": "d5dc6eeed3824b6a8e7458a2cc56dce1",
       "version_major": 2,
       "version_minor": 0
      },
      "text/plain": [
       "  0%|          | 0/217450 [00:00<?, ?it/s]"
      ]
     },
     "metadata": {},
     "output_type": "display_data"
    },
    {
     "name": "stdout",
     "output_type": "stream",
     "text": [
      "Separating top and bottom poses...\n",
      "Done!\n",
      "match21 2_02_03\n",
      "Read in files. Processing poses...\n"
     ]
    },
    {
     "data": {
      "application/vnd.jupyter.widget-view+json": {
       "model_id": "a1e6d4881efb473080068da4ce08994c",
       "version_major": 2,
       "version_minor": 0
      },
      "text/plain": [
       "  0%|          | 0/164761 [00:00<?, ?it/s]"
      ]
     },
     "metadata": {},
     "output_type": "display_data"
    },
    {
     "name": "stdout",
     "output_type": "stream",
     "text": [
      "Separating top and bottom poses...\n",
      "Done!\n",
      "match21 1_19_19\n",
      "Read in files. Processing poses...\n"
     ]
    },
    {
     "data": {
      "application/vnd.jupyter.widget-view+json": {
       "model_id": "5b79ee63a90c41129f2d9e4f41491f22",
       "version_major": 2,
       "version_minor": 0
      },
      "text/plain": [
       "  0%|          | 0/90221 [00:00<?, ?it/s]"
      ]
     },
     "metadata": {},
     "output_type": "display_data"
    },
    {
     "name": "stdout",
     "output_type": "stream",
     "text": [
      "Separating top and bottom poses...\n",
      "Done!\n",
      "match21 2_12_08\n",
      "Read in files. Processing poses...\n"
     ]
    },
    {
     "data": {
      "application/vnd.jupyter.widget-view+json": {
       "model_id": "058c4e50f7674df4a6d888f14fa279c6",
       "version_major": 2,
       "version_minor": 0
      },
      "text/plain": [
       "  0%|          | 0/114640 [00:00<?, ?it/s]"
      ]
     },
     "metadata": {},
     "output_type": "display_data"
    },
    {
     "name": "stdout",
     "output_type": "stream",
     "text": [
      "Separating top and bottom poses...\n",
      "Done!\n",
      "match21 1_02_01\n",
      "Read in files. Processing poses...\n"
     ]
    },
    {
     "data": {
      "application/vnd.jupyter.widget-view+json": {
       "model_id": "774e9b2c33494908b8c109315a15ce9f",
       "version_major": 2,
       "version_minor": 0
      },
      "text/plain": [
       "  0%|          | 0/168713 [00:00<?, ?it/s]"
      ]
     },
     "metadata": {},
     "output_type": "display_data"
    },
    {
     "name": "stdout",
     "output_type": "stream",
     "text": [
      "Separating top and bottom poses...\n",
      "Done!\n",
      "match21 1_16_17\n",
      "Read in files. Processing poses...\n"
     ]
    },
    {
     "data": {
      "application/vnd.jupyter.widget-view+json": {
       "model_id": "b710968600ce4d39a426375278b2de6d",
       "version_major": 2,
       "version_minor": 0
      },
      "text/plain": [
       "  0%|          | 0/225318 [00:00<?, ?it/s]"
      ]
     },
     "metadata": {},
     "output_type": "display_data"
    },
    {
     "name": "stdout",
     "output_type": "stream",
     "text": [
      "Separating top and bottom poses...\n",
      "Done!\n",
      "match21 2_04_04\n",
      "Read in files. Processing poses...\n"
     ]
    },
    {
     "data": {
      "application/vnd.jupyter.widget-view+json": {
       "model_id": "e43eab7872a04970a68d658131751b88",
       "version_major": 2,
       "version_minor": 0
      },
      "text/plain": [
       "  0%|          | 0/132319 [00:00<?, ?it/s]"
      ]
     },
     "metadata": {},
     "output_type": "display_data"
    },
    {
     "name": "stdout",
     "output_type": "stream",
     "text": [
      "Separating top and bottom poses...\n",
      "Done!\n",
      "match22 2_17_18\n",
      "Read in files. Processing poses...\n"
     ]
    },
    {
     "data": {
      "application/vnd.jupyter.widget-view+json": {
       "model_id": "4cc66b28d50f47b0855d6777681e2908",
       "version_major": 2,
       "version_minor": 0
      },
      "text/plain": [
       "  0%|          | 0/267586 [00:00<?, ?it/s]"
      ]
     },
     "metadata": {},
     "output_type": "display_data"
    },
    {
     "name": "stdout",
     "output_type": "stream",
     "text": [
      "Separating top and bottom poses...\n",
      "Done!\n",
      "match22 3_15_13\n",
      "Read in files. Processing poses...\n"
     ]
    },
    {
     "data": {
      "application/vnd.jupyter.widget-view+json": {
       "model_id": "f1df1835e79e44f4ae8298147b12ac43",
       "version_major": 2,
       "version_minor": 0
      },
      "text/plain": [
       "  0%|          | 0/136207 [00:00<?, ?it/s]"
      ]
     },
     "metadata": {},
     "output_type": "display_data"
    },
    {
     "name": "stdout",
     "output_type": "stream",
     "text": [
      "Separating top and bottom poses...\n",
      "Done!\n",
      "match22 1_02_01\n",
      "Read in files. Processing poses...\n"
     ]
    },
    {
     "data": {
      "application/vnd.jupyter.widget-view+json": {
       "model_id": "a30dba17aaf749fdb7348f887d8847fd",
       "version_major": 2,
       "version_minor": 0
      },
      "text/plain": [
       "  0%|          | 0/317302 [00:00<?, ?it/s]"
      ]
     },
     "metadata": {},
     "output_type": "display_data"
    },
    {
     "name": "stdout",
     "output_type": "stream",
     "text": [
      "Separating top and bottom poses...\n",
      "Done!\n",
      "match22 2_18_18\n",
      "Read in files. Processing poses...\n"
     ]
    },
    {
     "data": {
      "application/vnd.jupyter.widget-view+json": {
       "model_id": "f5aaf3ee43e541feb50039d3b1dd3e9c",
       "version_major": 2,
       "version_minor": 0
      },
      "text/plain": [
       "  0%|          | 0/227675 [00:00<?, ?it/s]"
      ]
     },
     "metadata": {},
     "output_type": "display_data"
    },
    {
     "name": "stdout",
     "output_type": "stream",
     "text": [
      "Separating top and bottom poses...\n",
      "Done!\n",
      "match22 1_07_02\n",
      "Read in files. Processing poses...\n"
     ]
    },
    {
     "data": {
      "application/vnd.jupyter.widget-view+json": {
       "model_id": "c3b0ff553a0a4c1e9652cf4ca4df731b",
       "version_major": 2,
       "version_minor": 0
      },
      "text/plain": [
       "  0%|          | 0/132474 [00:00<?, ?it/s]"
      ]
     },
     "metadata": {},
     "output_type": "display_data"
    },
    {
     "name": "stdout",
     "output_type": "stream",
     "text": [
      "Separating top and bottom poses...\n",
      "Done!\n"
     ]
    }
   ],
   "source": [
    "import os\n",
    "matches = list('match' + str(i) for i in range(1, 23))\n",
    "\n",
    "for match in matches:\n",
    "    for video in os.listdir('/home/code-base/scratch_space/data/%s/rally_video/' % match):\n",
    "        rally, _ = os.path.splitext(video)\n",
    "        \n",
    "        court_pts = read_court('/home/code-base/scratch_space/data/%s/court/%s.out' % (match, rally))\n",
    "        corners = [court_pts[1], court_pts[2], court_pts[0], court_pts[3]]\n",
    "        court = Court(corners)\n",
    "\n",
    "        print(match, rally)\n",
    "        poses = process_pose_file(\n",
    "            '/home/code-base/scratch_space/data/%s/poses/%s.out' % (match, rally), \n",
    "            '/home/code-base/scratch_space/data/%s/poses/%s' % (match, rally), \n",
    "            court,\n",
    "            fullPose=True\n",
    "        )"
   ]
  },
  {
   "cell_type": "markdown",
   "metadata": {},
   "source": [
    "# Creating a neural net that uses pose and court information"
   ]
  },
  {
   "cell_type": "code",
   "execution_count": null,
   "metadata": {},
   "outputs": [],
   "source": [
    "import os\n",
    "import pandas as pd\n",
    "import numpy as np\n",
    "import cv2\n",
    "\n",
    "def read_court(filename):\n",
    "    file = open(filename, 'r')\n",
    "    coordinates = [[float(x) for x in line.split(';')] for line in file]\n",
    "    return coordinates\n",
    "\n",
    "num_consec = 5\n",
    "matches = list('match' + str(i) for i in range(1, 23))\n",
    "\n",
    "from sklearn.preprocessing import MinMaxScaler, StandardScaler\n",
    "\n",
    "x_train, y_train = [], []\n",
    "for match in matches:\n",
    "    for video in os.listdir('/home/code-base/scratch_space/data/%s/rally_video/' % match):\n",
    "        cap = cv2.VideoCapture('/home/code-base/scratch_space/data/%s/rally_video/%s' % (match, video))\n",
    "        shape = cap.read()[1].shape\n",
    "        height, width = shape[1], shape[0]\n",
    "\n",
    "        rally, _ = os.path.splitext(video)\n",
    "        trajectory = pd.read_csv('/home/code-base/scratch_space/data/%s/ball_trajectory/%s_ball.csv' % (match, rally))\n",
    "        hit = pd.read_csv('/home/code-base/scratch_space/data/%s/shot/%s_hit.csv' % (match, rally))\n",
    "        trajectory[trajectory.X == 0] = float('nan')\n",
    "        trajectory[trajectory.Y == 0] = float('nan')\n",
    "        \n",
    "        trajectory = trajectory.assign(X=trajectory.X.interpolate(method='slinear'))\n",
    "        trajectory = trajectory.assign(Y=trajectory.Y.interpolate(method='slinear'))\n",
    "        trajectory.fillna(method='bfill', inplace=True)\n",
    "        trajectory.fillna(method='ffill', inplace=True)\n",
    "        \n",
    "        bottom_player = pd.read_csv('/home/code-base/scratch_space/data/%s/poses/%s_bottom.csv' % (match, rally))\n",
    "        top_player = pd.read_csv('/home/code-base/scratch_space/data/%s/poses/%s_top.csv' % (match, rally))\n",
    "        bottom_player.drop('frame', axis=1, inplace=True)\n",
    "        top_player.drop('frame', axis=1, inplace=True)\n",
    "        bottom_player.fillna(0, inplace=True)\n",
    "        top_player.fillna(0, inplace=True)\n",
    "        \n",
    "        x_list, y_list = [], []\n",
    "        court_pts = read_court('/home/code-base/scratch_space/data/%s/court/%s.out' % (match, rally))\n",
    "        corners = np.array([court_pts[1], court_pts[2], court_pts[0], court_pts[3]]).flatten()\n",
    "    \n",
    "        def reflect(x):\n",
    "            x_ = np.array(x)\n",
    "            for i in range(0, x.shape[1], 2):\n",
    "                x_[:, i] = width - x_[:, i]\n",
    "            return x_\n",
    "\n",
    "        for i in range(num_consec):\n",
    "            end = min(len(trajectory.X), len(hit.hit))-num_consec+i+1\n",
    "            x_bird = np.array(list(zip(trajectory.X[i:end], trajectory.Y[i:end])))\n",
    "            \n",
    "            # Reduce amount of data by averaging coordinate values\n",
    "#             bottom_x = np.median(bottom_player.values[i:end][:, ::2], axis=1)\n",
    "#             bottom_y = np.median(bottom_player.values[i:end][:, 1::2], axis=1)\n",
    "#             top_x = np.median(top_player.values[i:end][:, ::2], axis=1)\n",
    "#             top_y = np.median(top_player.values[i:end][:, 1::2], axis=1)\n",
    "            \n",
    "            # Use median values only\n",
    "#             x_pose = np.vstack([bottom_x, bottom_y, top_x, top_y]).T\n",
    "\n",
    "            # Use entire pose\n",
    "            x_pose = np.hstack([bottom_player.values[i:end], top_player.values[i:end]])\n",
    "            x = np.hstack([x_bird, x_pose, np.array([corners for j in range(i, end)])])\n",
    "#             x = np.hstack([x_bird, np.array([corners for j in range(i, end)])])\n",
    "            y = hit.hit[i:end].to_numpy().astype(float)\n",
    "            x_list.append(x)\n",
    "            y_list.append(y)\n",
    "\n",
    "        x_t = np.hstack(x_list)\n",
    "        y_t = np.sum(np.column_stack(y_list[1:-1]), axis=1)\n",
    "        \n",
    "#         scaler = MinMaxScaler()\n",
    "#         scaler.fit(x_t)\n",
    "#         x_t = scaler.transform(x_t)\n",
    "#         x_train.append(x_t)\n",
    "#         y_train.append(y_t)\n",
    "        \n",
    "#         scaler = MinMaxScaler()\n",
    "#         scaler.fit(reflect(x_t))\n",
    "#         x_t = scaler.transform(reflect(x_t))\n",
    "#         x_train.append(x_t)\n",
    "#         y_train.append(y_t)\n",
    "\n",
    "        x_train.append(x_t)\n",
    "        y_train.append(y_t)\n",
    "        x_train.append(reflect(x_t))\n",
    "        y_train.append(y_t)\n",
    "\n",
    "x_train = np.vstack(x_train)\n",
    "y_train = np.hstack(y_train)"
   ]
  },
  {
   "cell_type": "code",
   "execution_count": null,
   "metadata": {},
   "outputs": [],
   "source": [
    "from keras.models import *\n",
    "from keras.layers import *\n",
    "import keras.backend as K\n",
    "from keras import optimizers\n",
    "from keras.activations import *\n",
    "import tensorflow as tf\n",
    "import cv2\n",
    "import math\n",
    "\n",
    "dropout = 0.4\n",
    "\n",
    "input_layer = Input(shape=(x_train[0].shape[0],))\n",
    "x = Dense(\n",
    "    70, \n",
    "    activation='relu',\n",
    "#     kernel_regularizer=tf.contrib.layers.l2_regularizer(scale=1e-9)\n",
    ")(input_layer)\n",
    "# x = ActivityRegularization(l1=1e-9)(x)\n",
    "# x = BatchNormalization()(x)\n",
    "# x = Dropout(dropout)(x)\n",
    "x = Dense(\n",
    "    30, \n",
    "    activation='relu',\n",
    "#     kernel_regularizer=tf.contrib.layers.l2_regularizer(scale=1e-9)\n",
    ")(x)\n",
    "# x = Dropout(dropout)(x)\n",
    "\n",
    "# x = ActivityRegularization(l1=1e-9)(x)\n",
    "# x = ActivityRegularization()(x)\n",
    "# x = BatchNormalization()(x)\n",
    "\n",
    "# x = Dense(\n",
    "#     32, \n",
    "#     activation='relu',\n",
    "# #     kernel_regularizer=tf.contrib.layers.l2_regularizer(scale=1e-7)\n",
    "# )(x)\n",
    "# # x = ActivityRegularization(l1=1e-11)(x)\n",
    "# x = BatchNormalization()(x)\n",
    "\n",
    "# x = Dense(\n",
    "#     16, \n",
    "#     activation='relu',\n",
    "# #     kernel_regularizer=tf.contrib.layers.l2_regularizer(scale=1e-7)\n",
    "# )(x)\n",
    "# x = BatchNormalization()(x)\n",
    "\n",
    "output_layer = Dense(\n",
    "    1, \n",
    "    activation='sigmoid',\n",
    "#     kernel_regularizer=tf.contrib.layers.l2_regularizer(scale=1e-7)\n",
    ")(x)\n",
    "\n",
    "model = Model(input_layer, output_layer)"
   ]
  },
  {
   "cell_type": "code",
   "execution_count": null,
   "metadata": {},
   "outputs": [],
   "source": [
    "opt = optimizers.Adam(lr=1e-1)\n",
    "model.compile(\n",
    "    optimizer='adam', \n",
    "    loss=\"binary_crossentropy\",\n",
    "    metrics=['accuracy', tf.keras.metrics.Recall(), tf.keras.metrics.Precision()]\n",
    ")\n",
    "model.summary()"
   ]
  },
  {
   "cell_type": "code",
   "execution_count": null,
   "metadata": {},
   "outputs": [],
   "source": [
    "import random\n",
    "\n",
    "p = sum(y_train == 1) / sum(y_train == 0)\n",
    "subsample = []\n",
    "for i in range(x_train.shape[0]):\n",
    "    if random.random() < p or y_train[i]:\n",
    "        subsample.append(i)\n",
    "\n",
    "x_sub = x_train[subsample]\n",
    "y_sub = y_train[subsample]\n",
    "\n",
    "from sklearn.model_selection import train_test_split\n",
    "x_tr, x_val, y_tr, y_val = train_test_split(x_sub, y_sub, test_size=0.1, shuffle=True)"
   ]
  },
  {
   "cell_type": "code",
   "execution_count": null,
   "metadata": {},
   "outputs": [],
   "source": [
    "from sklearn.utils import class_weight\n",
    "from sklearn.metrics import classification_report\n",
    "\n",
    "# from keras import backend as K\n",
    "# K.set_value(model.optimizer.learning_rate, 1e-5)\n",
    "\n",
    "model.fit(\n",
    "    x_tr, y_tr, \n",
    "    batch_size=64, \n",
    "    epochs=1000,\n",
    "    shuffle=True,\n",
    "    validation_data=(x_val, y_val),\n",
    "    verbose=1)"
   ]
  },
  {
   "cell_type": "code",
   "execution_count": null,
   "metadata": {},
   "outputs": [],
   "source": [
    "y_pred = np.round(model.predict(x_train) > 0.7)\n",
    "print(classification_report(y_train, y_pred))"
   ]
  },
  {
   "cell_type": "code",
   "execution_count": null,
   "metadata": {},
   "outputs": [],
   "source": [
    "import keras\n",
    "keras.models.save_model(model, './hitnet_plus_court_model')"
   ]
  },
  {
   "cell_type": "markdown",
   "metadata": {},
   "source": [
    "# Recurrent models for shuttle detection"
   ]
  },
  {
   "cell_type": "code",
   "execution_count": null,
   "metadata": {},
   "outputs": [],
   "source": []
  },
  {
   "cell_type": "markdown",
   "metadata": {},
   "source": [
    "# Conv. nets for shuttle detection"
   ]
  },
  {
   "cell_type": "code",
   "execution_count": 11,
   "metadata": {},
   "outputs": [],
   "source": [
    "from keras import objectives, backend as K\n",
    "import keras\n",
    "import tensorflow as tf\n",
    "\n",
    "sess = tf.compat.v1.Session(config=tf.compat.v1.ConfigProto(\n",
    "    device_count={ 'CPU': 16 , 'GPU':4},\n",
    "    inter_op_parallelism_threads=0,\n",
    "    allow_soft_placement=True,\n",
    "    gpu_options= {'allow_growth': True, 'visible_device_list': \"0,1,2,3\"},\n",
    "    intra_op_parallelism_threads=0,\n",
    "))\n",
    "\n",
    "K.set_session(sess)"
   ]
  },
  {
   "cell_type": "code",
   "execution_count": 41,
   "metadata": {},
   "outputs": [
    {
     "data": {
      "text/plain": [
       "39.0"
      ]
     },
     "execution_count": 41,
     "metadata": {},
     "output_type": "execute_result"
    }
   ],
   "source": [
    "x_train[0].shape[0] / num_consec / 2"
   ]
  },
  {
   "cell_type": "code",
   "execution_count": 19,
   "metadata": {},
   "outputs": [],
   "source": [
    "import tensorflow as tf\n",
    "import cv2\n",
    "import math\n",
    "\n",
    "from tensorflow.keras.models import *\n",
    "from tensorflow.keras.layers import *\n",
    "import tensorflow.keras.backend as K\n",
    "from tensorflow.keras import optimizers\n",
    "from tensorflow.keras.activations import *\n",
    "\n",
    "\n",
    "drop = 0.3\n",
    "\n",
    "input_layer = Input(shape=(x_train[0].shape[0],))\n",
    "x = Reshape(target_shape=(num_consec, x_train[0].shape[0] // (2 * num_consec), 2, 1))(input_layer)\n",
    "x = Conv3D(\n",
    "    filters=40,\n",
    "    kernel_size=(1, 39, 2),\n",
    "    kernel_initializer='he_uniform',\n",
    "    activation='relu',\n",
    "    data_format=\"channels_last\",\n",
    "#     kernel_regularizer=regularizers.l2(1e-8),\n",
    ")(x)\n",
    "x_base = Reshape(target_shape=(num_consec, 40))(x)\n",
    "x2 = Conv1D(\n",
    "    filters=32,\n",
    "    kernel_size=2,\n",
    "    kernel_initializer='he_uniform',\n",
    "    activation='relu',\n",
    ")(x_base)\n",
    "x2 = Dense(\n",
    "    16,\n",
    "    activation='relu'\n",
    ")(Flatten()(x2))\n",
    "# x = Dropout(drop)(x)\n",
    "x3 = Conv1D(\n",
    "    filters=24,\n",
    "    kernel_size=3,\n",
    "    kernel_initializer='he_uniform',\n",
    "    activation='relu',\n",
    ")(x_base)\n",
    "x3 = Dense(\n",
    "    8,\n",
    "    activation='relu'\n",
    ")(Flatten()(x3))\n",
    "x4 = Conv1D(\n",
    "    filters=16,\n",
    "    kernel_size=4,\n",
    "    kernel_initializer='he_uniform',\n",
    "    activation='relu',\n",
    ")(x_base)\n",
    "x4 = Dense(\n",
    "    4,\n",
    "    activation='relu'\n",
    ")(Flatten()(x4))\n",
    "\n",
    "x = Concatenate()([x2, x3, x4])\n",
    "x = Dense(4)(x)\n",
    "\n",
    "output_layer = Softmax()(x)\n",
    "\n",
    "model = Model(input_layer, output_layer)"
   ]
  },
  {
   "cell_type": "code",
   "execution_count": 20,
   "metadata": {},
   "outputs": [
    {
     "name": "stdout",
     "output_type": "stream",
     "text": [
      "Model: \"model_3\"\n",
      "__________________________________________________________________________________________________\n",
      "Layer (type)                    Output Shape         Param #     Connected to                     \n",
      "==================================================================================================\n",
      "input_2 (InputLayer)            [(None, 780)]        0                                            \n",
      "__________________________________________________________________________________________________\n",
      "reshape_2 (Reshape)             (None, 10, 39, 2, 1) 0           input_2[0][0]                    \n",
      "__________________________________________________________________________________________________\n",
      "conv3d_1 (Conv3D)               (None, 10, 1, 1, 40) 3160        reshape_2[0][0]                  \n",
      "__________________________________________________________________________________________________\n",
      "reshape_3 (Reshape)             (None, 10, 40)       0           conv3d_1[0][0]                   \n",
      "__________________________________________________________________________________________________\n",
      "conv1d_3 (Conv1D)               (None, 9, 32)        2592        reshape_3[0][0]                  \n",
      "__________________________________________________________________________________________________\n",
      "conv1d_4 (Conv1D)               (None, 8, 24)        2904        reshape_3[0][0]                  \n",
      "__________________________________________________________________________________________________\n",
      "conv1d_5 (Conv1D)               (None, 7, 16)        2576        reshape_3[0][0]                  \n",
      "__________________________________________________________________________________________________\n",
      "flatten_3 (Flatten)             (None, 288)          0           conv1d_3[0][0]                   \n",
      "__________________________________________________________________________________________________\n",
      "flatten_4 (Flatten)             (None, 192)          0           conv1d_4[0][0]                   \n",
      "__________________________________________________________________________________________________\n",
      "flatten_5 (Flatten)             (None, 112)          0           conv1d_5[0][0]                   \n",
      "__________________________________________________________________________________________________\n",
      "dense_4 (Dense)                 (None, 16)           4624        flatten_3[0][0]                  \n",
      "__________________________________________________________________________________________________\n",
      "dense_5 (Dense)                 (None, 8)            1544        flatten_4[0][0]                  \n",
      "__________________________________________________________________________________________________\n",
      "dense_6 (Dense)                 (None, 4)            452         flatten_5[0][0]                  \n",
      "__________________________________________________________________________________________________\n",
      "concatenate_1 (Concatenate)     (None, 28)           0           dense_4[0][0]                    \n",
      "                                                                 dense_5[0][0]                    \n",
      "                                                                 dense_6[0][0]                    \n",
      "__________________________________________________________________________________________________\n",
      "dense_7 (Dense)                 (None, 4)            116         concatenate_1[0][0]              \n",
      "__________________________________________________________________________________________________\n",
      "softmax_1 (Softmax)             (None, 4)            0           dense_7[0][0]                    \n",
      "==================================================================================================\n",
      "Total params: 17,968\n",
      "Trainable params: 17,968\n",
      "Non-trainable params: 0\n",
      "__________________________________________________________________________________________________\n"
     ]
    }
   ],
   "source": [
    "model.compile(\n",
    "    optimizer='adam', \n",
    "    loss=\"sparse_categorical_crossentropy\",\n",
    "    metrics=['accuracy']\n",
    ")\n",
    "model.summary()"
   ]
  },
  {
   "cell_type": "code",
   "execution_count": 21,
   "metadata": {},
   "outputs": [],
   "source": [
    "import random\n",
    "\n",
    "p = sum(y_train > 0) / sum(y_train == 0)\n",
    "subsample = []\n",
    "for i in range(x_train.shape[0]):\n",
    "    if random.random() < p or y_train[i]:\n",
    "        subsample.append(i)\n",
    "\n",
    "x_sub = x_train[subsample]\n",
    "y_sub = y_train[subsample]\n",
    "\n",
    "from sklearn.model_selection import train_test_split\n",
    "x_tr, x_val, y_tr, y_val = train_test_split(x_sub, y_sub, test_size=0.05, shuffle=True)"
   ]
  },
  {
   "cell_type": "code",
   "execution_count": null,
   "metadata": {
    "tags": []
   },
   "outputs": [
    {
     "name": "stdout",
     "output_type": "stream",
     "text": [
      "Epoch 1/3000\n",
      "16520/16520 [==============================] - 53s 3ms/step - loss: 0.9569 - accuracy: 0.6731 - val_loss: 0.4145 - val_accuracy: 0.8395\n",
      "Epoch 2/3000\n",
      "16520/16520 [==============================] - 51s 3ms/step - loss: 0.4758 - accuracy: 0.8476 - val_loss: 0.3655 - val_accuracy: 0.8606\n",
      "Epoch 3/3000\n",
      "16520/16520 [==============================] - 51s 3ms/step - loss: 0.4219 - accuracy: 0.8673 - val_loss: 0.3242 - val_accuracy: 0.8821\n",
      "Epoch 4/3000\n",
      "16520/16520 [==============================] - 51s 3ms/step - loss: 0.3883 - accuracy: 0.8785 - val_loss: 0.2705 - val_accuracy: 0.9042\n",
      "Epoch 5/3000\n",
      "16520/16520 [==============================] - 51s 3ms/step - loss: 0.3696 - accuracy: 0.8822 - val_loss: 0.2741 - val_accuracy: 0.8969\n",
      "Epoch 6/3000\n",
      "16520/16520 [==============================] - 51s 3ms/step - loss: 0.3597 - accuracy: 0.8861 - val_loss: 0.2740 - val_accuracy: 0.8978\n",
      "Epoch 7/3000\n",
      "16520/16520 [==============================] - 51s 3ms/step - loss: 0.3511 - accuracy: 0.8888 - val_loss: 0.3300 - val_accuracy: 0.8703\n",
      "Epoch 8/3000\n",
      "16520/16520 [==============================] - 51s 3ms/step - loss: 0.3348 - accuracy: 0.8955 - val_loss: 0.2769 - val_accuracy: 0.8976\n",
      "Epoch 9/3000\n",
      "16520/16520 [==============================] - 51s 3ms/step - loss: 0.3276 - accuracy: 0.8982 - val_loss: 0.2411 - val_accuracy: 0.9157\n",
      "Epoch 10/3000\n",
      "16520/16520 [==============================] - 51s 3ms/step - loss: 0.3204 - accuracy: 0.9013 - val_loss: 0.2390 - val_accuracy: 0.9148\n",
      "Epoch 11/3000\n",
      "16520/16520 [==============================] - 51s 3ms/step - loss: 0.3146 - accuracy: 0.9029 - val_loss: 0.2447 - val_accuracy: 0.9112\n",
      "Epoch 12/3000\n",
      "16520/16520 [==============================] - 51s 3ms/step - loss: 0.3109 - accuracy: 0.9038 - val_loss: 0.2532 - val_accuracy: 0.9089\n",
      "Epoch 13/3000\n",
      "16520/16520 [==============================] - 51s 3ms/step - loss: 0.3049 - accuracy: 0.9054 - val_loss: 0.2581 - val_accuracy: 0.9069\n",
      "Epoch 14/3000\n",
      "16520/16520 [==============================] - 51s 3ms/step - loss: 0.3015 - accuracy: 0.9063 - val_loss: 0.2714 - val_accuracy: 0.8952\n",
      "Epoch 15/3000\n",
      "16520/16520 [==============================] - 51s 3ms/step - loss: 0.2994 - accuracy: 0.9072 - val_loss: 0.2574 - val_accuracy: 0.9097\n",
      "Epoch 16/3000\n",
      "16520/16520 [==============================] - 51s 3ms/step - loss: 0.2948 - accuracy: 0.9085 - val_loss: 0.2709 - val_accuracy: 0.8955\n",
      "Epoch 17/3000\n",
      "16520/16520 [==============================] - 51s 3ms/step - loss: 0.2938 - accuracy: 0.9082 - val_loss: 0.2436 - val_accuracy: 0.9159\n",
      "Epoch 18/3000\n",
      "16520/16520 [==============================] - 51s 3ms/step - loss: 0.2955 - accuracy: 0.9082 - val_loss: 0.2330 - val_accuracy: 0.9145\n",
      "Epoch 19/3000\n",
      "16520/16520 [==============================] - 51s 3ms/step - loss: 0.2902 - accuracy: 0.9096 - val_loss: 0.2172 - val_accuracy: 0.9212\n",
      "Epoch 20/3000\n",
      "16520/16520 [==============================] - 51s 3ms/step - loss: 0.2876 - accuracy: 0.9104 - val_loss: 0.2889 - val_accuracy: 0.8903\n",
      "Epoch 21/3000\n",
      "16520/16520 [==============================] - 51s 3ms/step - loss: 0.2864 - accuracy: 0.9110 - val_loss: 0.2277 - val_accuracy: 0.9195\n",
      "Epoch 22/3000\n",
      "16520/16520 [==============================] - 51s 3ms/step - loss: 0.2836 - accuracy: 0.9110 - val_loss: 0.2366 - val_accuracy: 0.9167\n",
      "Epoch 23/3000\n",
      "16520/16520 [==============================] - 52s 3ms/step - loss: 0.2840 - accuracy: 0.9107 - val_loss: 0.2688 - val_accuracy: 0.8995\n",
      "Epoch 24/3000\n",
      "16520/16520 [==============================] - 52s 3ms/step - loss: 0.2807 - accuracy: 0.9122 - val_loss: 0.2205 - val_accuracy: 0.9223\n",
      "Epoch 25/3000\n",
      "16520/16520 [==============================] - 51s 3ms/step - loss: 0.2792 - accuracy: 0.9126 - val_loss: 0.2463 - val_accuracy: 0.9096\n",
      "Epoch 26/3000\n",
      "16520/16520 [==============================] - 51s 3ms/step - loss: 0.2778 - accuracy: 0.9132 - val_loss: 0.2170 - val_accuracy: 0.9238\n",
      "Epoch 27/3000\n",
      "16520/16520 [==============================] - 51s 3ms/step - loss: 0.2766 - accuracy: 0.9139 - val_loss: 0.2181 - val_accuracy: 0.9208\n",
      "Epoch 28/3000\n",
      "16520/16520 [==============================] - 51s 3ms/step - loss: 0.2710 - accuracy: 0.9154 - val_loss: 0.2137 - val_accuracy: 0.9244\n",
      "Epoch 29/3000\n",
      "16520/16520 [==============================] - 51s 3ms/step - loss: 0.2702 - accuracy: 0.9148 - val_loss: 0.2392 - val_accuracy: 0.9118\n",
      "Epoch 30/3000\n",
      "16520/16520 [==============================] - 51s 3ms/step - loss: 0.2688 - accuracy: 0.9155 - val_loss: 0.2054 - val_accuracy: 0.9258\n",
      "Epoch 31/3000\n",
      "16520/16520 [==============================] - 51s 3ms/step - loss: 0.2691 - accuracy: 0.9155 - val_loss: 0.2283 - val_accuracy: 0.9217\n",
      "Epoch 32/3000\n",
      "16520/16520 [==============================] - 51s 3ms/step - loss: 0.2667 - accuracy: 0.9164 - val_loss: 0.2049 - val_accuracy: 0.9231\n",
      "Epoch 33/3000\n",
      "16520/16520 [==============================] - 51s 3ms/step - loss: 0.2631 - accuracy: 0.9177 - val_loss: 0.2355 - val_accuracy: 0.9173\n",
      "Epoch 34/3000\n",
      "16520/16520 [==============================] - 50s 3ms/step - loss: 0.2646 - accuracy: 0.9171 - val_loss: 0.2098 - val_accuracy: 0.9246\n",
      "Epoch 35/3000\n",
      "16520/16520 [==============================] - 51s 3ms/step - loss: 0.2651 - accuracy: 0.9168 - val_loss: 0.2119 - val_accuracy: 0.9225\n",
      "Epoch 36/3000\n",
      "16520/16520 [==============================] - 51s 3ms/step - loss: 0.2629 - accuracy: 0.9176 - val_loss: 0.2240 - val_accuracy: 0.9197\n",
      "Epoch 37/3000\n",
      "16520/16520 [==============================] - 51s 3ms/step - loss: 0.2601 - accuracy: 0.9179 - val_loss: 0.2274 - val_accuracy: 0.9156\n",
      "Epoch 38/3000\n",
      "16520/16520 [==============================] - 51s 3ms/step - loss: 0.2620 - accuracy: 0.9179 - val_loss: 0.2242 - val_accuracy: 0.9179\n",
      "Epoch 39/3000\n",
      "16520/16520 [==============================] - 51s 3ms/step - loss: 0.2585 - accuracy: 0.9192 - val_loss: 0.1985 - val_accuracy: 0.9256\n",
      "Epoch 40/3000\n",
      "16520/16520 [==============================] - 51s 3ms/step - loss: 0.2596 - accuracy: 0.9183 - val_loss: 0.2230 - val_accuracy: 0.9199\n",
      "Epoch 41/3000\n",
      "16520/16520 [==============================] - 51s 3ms/step - loss: 0.2568 - accuracy: 0.9197 - val_loss: 0.2256 - val_accuracy: 0.9235\n",
      "Epoch 42/3000\n",
      "16520/16520 [==============================] - 51s 3ms/step - loss: 0.2555 - accuracy: 0.9196 - val_loss: 0.2234 - val_accuracy: 0.9219\n",
      "Epoch 43/3000\n",
      "16520/16520 [==============================] - 51s 3ms/step - loss: 0.2596 - accuracy: 0.9184 - val_loss: 0.2171 - val_accuracy: 0.9243\n",
      "Epoch 44/3000\n",
      "16520/16520 [==============================] - 51s 3ms/step - loss: 0.2554 - accuracy: 0.9201 - val_loss: 0.2208 - val_accuracy: 0.9187\n",
      "Epoch 45/3000\n",
      "16520/16520 [==============================] - 51s 3ms/step - loss: 0.2544 - accuracy: 0.9200 - val_loss: 0.2096 - val_accuracy: 0.9261\n",
      "Epoch 46/3000\n",
      "16520/16520 [==============================] - 51s 3ms/step - loss: 0.2549 - accuracy: 0.9206 - val_loss: 0.2206 - val_accuracy: 0.9200\n",
      "Epoch 47/3000\n",
      "16520/16520 [==============================] - 51s 3ms/step - loss: 0.2497 - accuracy: 0.9215 - val_loss: 0.2371 - val_accuracy: 0.9144\n",
      "Epoch 48/3000\n",
      "16520/16520 [==============================] - 51s 3ms/step - loss: 0.2509 - accuracy: 0.9210 - val_loss: 0.2183 - val_accuracy: 0.9205\n",
      "Epoch 49/3000\n",
      "16520/16520 [==============================] - 51s 3ms/step - loss: 0.2493 - accuracy: 0.9220 - val_loss: 0.2065 - val_accuracy: 0.9264\n",
      "Epoch 50/3000\n",
      "16520/16520 [==============================] - 51s 3ms/step - loss: 0.2497 - accuracy: 0.9215 - val_loss: 0.2150 - val_accuracy: 0.9237\n",
      "Epoch 51/3000\n",
      "16520/16520 [==============================] - 51s 3ms/step - loss: 0.2475 - accuracy: 0.9228 - val_loss: 0.2016 - val_accuracy: 0.9271\n",
      "Epoch 52/3000\n",
      "16520/16520 [==============================] - 51s 3ms/step - loss: 0.2515 - accuracy: 0.9211 - val_loss: 0.1992 - val_accuracy: 0.9305\n",
      "Epoch 53/3000\n",
      "16520/16520 [==============================] - 51s 3ms/step - loss: 0.2482 - accuracy: 0.9223 - val_loss: 0.2104 - val_accuracy: 0.9284\n",
      "Epoch 54/3000\n",
      "16520/16520 [==============================] - 51s 3ms/step - loss: 0.2447 - accuracy: 0.9231 - val_loss: 0.2074 - val_accuracy: 0.9250\n",
      "Epoch 55/3000\n",
      "16520/16520 [==============================] - 51s 3ms/step - loss: 0.2458 - accuracy: 0.9221 - val_loss: 0.2001 - val_accuracy: 0.9282\n",
      "Epoch 56/3000\n",
      "16520/16520 [==============================] - 51s 3ms/step - loss: 0.2487 - accuracy: 0.9216 - val_loss: 0.2164 - val_accuracy: 0.9250\n",
      "Epoch 57/3000\n",
      "16520/16520 [==============================] - 51s 3ms/step - loss: 0.2441 - accuracy: 0.9235 - val_loss: 0.2895 - val_accuracy: 0.8818\n",
      "Epoch 58/3000\n",
      "16520/16520 [==============================] - 51s 3ms/step - loss: 0.2457 - accuracy: 0.9225 - val_loss: 0.2079 - val_accuracy: 0.9260\n",
      "Epoch 59/3000\n",
      "16520/16520 [==============================] - 51s 3ms/step - loss: 0.2453 - accuracy: 0.9225 - val_loss: 0.2378 - val_accuracy: 0.9127\n",
      "Epoch 60/3000\n",
      "16520/16520 [==============================] - 51s 3ms/step - loss: 0.2426 - accuracy: 0.9233 - val_loss: 0.2556 - val_accuracy: 0.9001\n",
      "Epoch 61/3000\n",
      "16520/16520 [==============================] - 51s 3ms/step - loss: 0.2505 - accuracy: 0.9210 - val_loss: 0.2150 - val_accuracy: 0.9267\n",
      "Epoch 62/3000\n",
      "16520/16520 [==============================] - 51s 3ms/step - loss: 0.2420 - accuracy: 0.9237 - val_loss: 0.1949 - val_accuracy: 0.9320\n",
      "Epoch 63/3000\n",
      "16520/16520 [==============================] - 51s 3ms/step - loss: 0.2422 - accuracy: 0.9240 - val_loss: 0.1960 - val_accuracy: 0.9285\n",
      "Epoch 64/3000\n",
      "16520/16520 [==============================] - 51s 3ms/step - loss: 0.2370 - accuracy: 0.9253 - val_loss: 0.2053 - val_accuracy: 0.9283\n",
      "Epoch 65/3000\n",
      "16520/16520 [==============================] - 51s 3ms/step - loss: 0.2392 - accuracy: 0.9249 - val_loss: 0.1981 - val_accuracy: 0.9283\n",
      "Epoch 66/3000\n",
      "16520/16520 [==============================] - 51s 3ms/step - loss: 0.2370 - accuracy: 0.9255 - val_loss: 0.1906 - val_accuracy: 0.9319\n",
      "Epoch 67/3000\n",
      "16520/16520 [==============================] - 51s 3ms/step - loss: 0.2407 - accuracy: 0.9246 - val_loss: 0.1986 - val_accuracy: 0.9307\n",
      "Epoch 68/3000\n",
      "16520/16520 [==============================] - 51s 3ms/step - loss: 0.2382 - accuracy: 0.9250 - val_loss: 0.2064 - val_accuracy: 0.9264\n",
      "Epoch 69/3000\n",
      "16520/16520 [==============================] - 51s 3ms/step - loss: 0.2380 - accuracy: 0.9254 - val_loss: 0.2063 - val_accuracy: 0.9312\n",
      "Epoch 70/3000\n",
      "16520/16520 [==============================] - 51s 3ms/step - loss: 0.2390 - accuracy: 0.9247 - val_loss: 0.1962 - val_accuracy: 0.9303\n",
      "Epoch 71/3000\n",
      "16520/16520 [==============================] - 51s 3ms/step - loss: 0.2398 - accuracy: 0.9247 - val_loss: 0.1953 - val_accuracy: 0.9290\n",
      "Epoch 72/3000\n",
      "16520/16520 [==============================] - 51s 3ms/step - loss: 0.2393 - accuracy: 0.9246 - val_loss: 0.2244 - val_accuracy: 0.9207\n",
      "Epoch 73/3000\n",
      "16520/16520 [==============================] - 51s 3ms/step - loss: 0.2373 - accuracy: 0.9256 - val_loss: 0.2536 - val_accuracy: 0.8973\n",
      "Epoch 74/3000\n",
      "16520/16520 [==============================] - 51s 3ms/step - loss: 0.2355 - accuracy: 0.9258 - val_loss: 0.2021 - val_accuracy: 0.9261\n",
      "Epoch 75/3000\n",
      "16520/16520 [==============================] - 51s 3ms/step - loss: 0.2328 - accuracy: 0.9267 - val_loss: 0.1982 - val_accuracy: 0.9308\n",
      "Epoch 76/3000\n",
      "16520/16520 [==============================] - 51s 3ms/step - loss: 0.2377 - accuracy: 0.9249 - val_loss: 0.2166 - val_accuracy: 0.9236\n",
      "Epoch 77/3000\n",
      "16520/16520 [==============================] - 51s 3ms/step - loss: 0.2337 - accuracy: 0.9264 - val_loss: 0.2001 - val_accuracy: 0.9277\n",
      "Epoch 78/3000\n",
      "16520/16520 [==============================] - 51s 3ms/step - loss: 0.2314 - accuracy: 0.9270 - val_loss: 0.2229 - val_accuracy: 0.9185\n",
      "Epoch 79/3000\n",
      "16520/16520 [==============================] - 51s 3ms/step - loss: 0.2345 - accuracy: 0.9259 - val_loss: 0.2039 - val_accuracy: 0.9293\n",
      "Epoch 80/3000\n",
      "16520/16520 [==============================] - 51s 3ms/step - loss: 0.2324 - accuracy: 0.9272 - val_loss: 0.1945 - val_accuracy: 0.9318\n",
      "Epoch 81/3000\n",
      "16520/16520 [==============================] - 51s 3ms/step - loss: 0.2344 - accuracy: 0.9269 - val_loss: 0.2186 - val_accuracy: 0.9243\n",
      "Epoch 82/3000\n",
      "16520/16520 [==============================] - 51s 3ms/step - loss: 0.2309 - accuracy: 0.9276 - val_loss: 0.1974 - val_accuracy: 0.9260\n",
      "Epoch 83/3000\n",
      "16520/16520 [==============================] - 51s 3ms/step - loss: 0.2308 - accuracy: 0.9273 - val_loss: 0.2187 - val_accuracy: 0.9207\n",
      "Epoch 84/3000\n",
      "16520/16520 [==============================] - 51s 3ms/step - loss: 0.2306 - accuracy: 0.9275 - val_loss: 0.1987 - val_accuracy: 0.9293\n",
      "Epoch 85/3000\n",
      "16520/16520 [==============================] - 51s 3ms/step - loss: 0.2294 - accuracy: 0.9277 - val_loss: 0.1865 - val_accuracy: 0.9355\n",
      "Epoch 86/3000\n",
      "16520/16520 [==============================] - 51s 3ms/step - loss: 0.2334 - accuracy: 0.9268 - val_loss: 0.2130 - val_accuracy: 0.9221\n",
      "Epoch 87/3000\n",
      "16520/16520 [==============================] - 51s 3ms/step - loss: 0.2315 - accuracy: 0.9274 - val_loss: 0.2175 - val_accuracy: 0.9225\n",
      "Epoch 88/3000\n",
      "16520/16520 [==============================] - 51s 3ms/step - loss: 0.2305 - accuracy: 0.9278 - val_loss: 0.3076 - val_accuracy: 0.8874\n",
      "Epoch 89/3000\n",
      "16520/16520 [==============================] - 51s 3ms/step - loss: 0.2302 - accuracy: 0.9274 - val_loss: 0.2030 - val_accuracy: 0.9297\n",
      "Epoch 90/3000\n",
      "16520/16520 [==============================] - 51s 3ms/step - loss: 0.2296 - accuracy: 0.9276 - val_loss: 0.1860 - val_accuracy: 0.9333\n",
      "Epoch 91/3000\n",
      "16520/16520 [==============================] - 51s 3ms/step - loss: 0.2299 - accuracy: 0.9277 - val_loss: 0.1960 - val_accuracy: 0.9335\n",
      "Epoch 92/3000\n",
      "16520/16520 [==============================] - 51s 3ms/step - loss: 0.2302 - accuracy: 0.9277 - val_loss: 0.1932 - val_accuracy: 0.9333\n",
      "Epoch 93/3000\n",
      "16520/16520 [==============================] - 51s 3ms/step - loss: 0.2281 - accuracy: 0.9282 - val_loss: 0.1888 - val_accuracy: 0.9318\n",
      "Epoch 94/3000\n",
      "16520/16520 [==============================] - 51s 3ms/step - loss: 0.2288 - accuracy: 0.9283 - val_loss: 0.1867 - val_accuracy: 0.9344\n",
      "Epoch 95/3000\n",
      "16520/16520 [==============================] - 51s 3ms/step - loss: 0.2277 - accuracy: 0.9285 - val_loss: 0.1922 - val_accuracy: 0.9335\n",
      "Epoch 96/3000\n",
      "16520/16520 [==============================] - 51s 3ms/step - loss: 0.2265 - accuracy: 0.9290 - val_loss: 0.1923 - val_accuracy: 0.9334\n",
      "Epoch 97/3000\n",
      "16520/16520 [==============================] - 51s 3ms/step - loss: 0.2287 - accuracy: 0.9281 - val_loss: 0.2091 - val_accuracy: 0.9289\n",
      "Epoch 98/3000\n",
      "16520/16520 [==============================] - 51s 3ms/step - loss: 0.2267 - accuracy: 0.9286 - val_loss: 0.1898 - val_accuracy: 0.9318\n",
      "Epoch 99/3000\n",
      "16520/16520 [==============================] - 51s 3ms/step - loss: 0.2250 - accuracy: 0.9287 - val_loss: 0.1959 - val_accuracy: 0.9336\n",
      "Epoch 100/3000\n",
      "16520/16520 [==============================] - 51s 3ms/step - loss: 0.2293 - accuracy: 0.9283 - val_loss: 0.2343 - val_accuracy: 0.9136\n",
      "Epoch 101/3000\n",
      "16520/16520 [==============================] - 51s 3ms/step - loss: 0.2270 - accuracy: 0.9284 - val_loss: 0.2010 - val_accuracy: 0.9314\n",
      "Epoch 102/3000\n",
      "16520/16520 [==============================] - 51s 3ms/step - loss: 0.2252 - accuracy: 0.9291 - val_loss: 0.1881 - val_accuracy: 0.9331\n",
      "Epoch 103/3000\n",
      "16520/16520 [==============================] - 51s 3ms/step - loss: 0.2259 - accuracy: 0.9290 - val_loss: 0.1990 - val_accuracy: 0.9282\n",
      "Epoch 104/3000\n",
      "16520/16520 [==============================] - 51s 3ms/step - loss: 0.2239 - accuracy: 0.9292 - val_loss: 0.1866 - val_accuracy: 0.9334\n",
      "Epoch 105/3000\n",
      "16520/16520 [==============================] - 51s 3ms/step - loss: 0.2227 - accuracy: 0.9302 - val_loss: 0.1853 - val_accuracy: 0.9360\n",
      "Epoch 106/3000\n",
      "16520/16520 [==============================] - 51s 3ms/step - loss: 0.2231 - accuracy: 0.9297 - val_loss: 0.1999 - val_accuracy: 0.9309\n",
      "Epoch 107/3000\n",
      "16520/16520 [==============================] - 51s 3ms/step - loss: 0.2252 - accuracy: 0.9293 - val_loss: 0.1931 - val_accuracy: 0.9307\n",
      "Epoch 108/3000\n",
      "16520/16520 [==============================] - 51s 3ms/step - loss: 0.2222 - accuracy: 0.9299 - val_loss: 0.1981 - val_accuracy: 0.9257\n",
      "Epoch 109/3000\n",
      "16520/16520 [==============================] - 51s 3ms/step - loss: 0.2262 - accuracy: 0.9290 - val_loss: 0.1937 - val_accuracy: 0.9320\n",
      "Epoch 110/3000\n",
      "16520/16520 [==============================] - 51s 3ms/step - loss: 0.2230 - accuracy: 0.9296 - val_loss: 0.2147 - val_accuracy: 0.9230\n",
      "Epoch 111/3000\n",
      "16520/16520 [==============================] - 51s 3ms/step - loss: 0.2225 - accuracy: 0.9301 - val_loss: 0.1777 - val_accuracy: 0.9370\n",
      "Epoch 112/3000\n",
      "16520/16520 [==============================] - 51s 3ms/step - loss: 0.2232 - accuracy: 0.9304 - val_loss: 0.1866 - val_accuracy: 0.9345\n",
      "Epoch 113/3000\n",
      "16520/16520 [==============================] - 51s 3ms/step - loss: 0.2250 - accuracy: 0.9294 - val_loss: 0.1764 - val_accuracy: 0.9364\n",
      "Epoch 114/3000\n",
      "16520/16520 [==============================] - 51s 3ms/step - loss: 0.2229 - accuracy: 0.9300 - val_loss: 0.1833 - val_accuracy: 0.9365\n",
      "Epoch 115/3000\n",
      "16520/16520 [==============================] - 51s 3ms/step - loss: 0.2250 - accuracy: 0.9297 - val_loss: 0.1840 - val_accuracy: 0.9358\n",
      "Epoch 116/3000\n",
      "16520/16520 [==============================] - 51s 3ms/step - loss: 0.2228 - accuracy: 0.9300 - val_loss: 0.1866 - val_accuracy: 0.9328\n",
      "Epoch 117/3000\n",
      "16520/16520 [==============================] - 51s 3ms/step - loss: 0.2219 - accuracy: 0.9301 - val_loss: 0.1974 - val_accuracy: 0.9313\n",
      "Epoch 118/3000\n",
      "16520/16520 [==============================] - 51s 3ms/step - loss: 0.2193 - accuracy: 0.9311 - val_loss: 0.1843 - val_accuracy: 0.9348\n",
      "Epoch 119/3000\n",
      "16520/16520 [==============================] - 51s 3ms/step - loss: 0.2215 - accuracy: 0.9302 - val_loss: 0.1879 - val_accuracy: 0.9338\n",
      "Epoch 120/3000\n",
      "16520/16520 [==============================] - 51s 3ms/step - loss: 0.2191 - accuracy: 0.9312 - val_loss: 0.2051 - val_accuracy: 0.9279\n",
      "Epoch 121/3000\n",
      "16520/16520 [==============================] - 51s 3ms/step - loss: 0.2208 - accuracy: 0.9301 - val_loss: 0.1805 - val_accuracy: 0.9367\n",
      "Epoch 122/3000\n",
      "16520/16520 [==============================] - 51s 3ms/step - loss: 0.2195 - accuracy: 0.9307 - val_loss: 0.1999 - val_accuracy: 0.9294\n",
      "Epoch 123/3000\n",
      "16520/16520 [==============================] - 51s 3ms/step - loss: 0.2229 - accuracy: 0.9304 - val_loss: 0.1924 - val_accuracy: 0.9293\n",
      "Epoch 124/3000\n",
      "16520/16520 [==============================] - 51s 3ms/step - loss: 0.2188 - accuracy: 0.9307 - val_loss: 0.2026 - val_accuracy: 0.9281\n",
      "Epoch 125/3000\n",
      "16520/16520 [==============================] - 51s 3ms/step - loss: 0.2248 - accuracy: 0.9291 - val_loss: 0.2009 - val_accuracy: 0.9316\n",
      "Epoch 126/3000\n",
      "16520/16520 [==============================] - 51s 3ms/step - loss: 0.2181 - accuracy: 0.9312 - val_loss: 0.2014 - val_accuracy: 0.9305\n",
      "Epoch 127/3000\n",
      "16520/16520 [==============================] - 51s 3ms/step - loss: 0.2206 - accuracy: 0.9309 - val_loss: 0.1947 - val_accuracy: 0.9314\n",
      "Epoch 128/3000\n",
      "16520/16520 [==============================] - 51s 3ms/step - loss: 0.2182 - accuracy: 0.9311 - val_loss: 0.2046 - val_accuracy: 0.9297\n",
      "Epoch 129/3000\n",
      "16520/16520 [==============================] - 51s 3ms/step - loss: 0.2183 - accuracy: 0.9314 - val_loss: 0.1748 - val_accuracy: 0.9360\n",
      "Epoch 130/3000\n",
      "16520/16520 [==============================] - 51s 3ms/step - loss: 0.2197 - accuracy: 0.9310 - val_loss: 0.1951 - val_accuracy: 0.9312\n",
      "Epoch 131/3000\n",
      "16520/16520 [==============================] - 51s 3ms/step - loss: 0.2182 - accuracy: 0.9311 - val_loss: 0.1942 - val_accuracy: 0.9301\n",
      "Epoch 132/3000\n",
      "16520/16520 [==============================] - 51s 3ms/step - loss: 0.2202 - accuracy: 0.9309 - val_loss: 0.1839 - val_accuracy: 0.9346\n",
      "Epoch 133/3000\n",
      "16520/16520 [==============================] - 51s 3ms/step - loss: 0.2184 - accuracy: 0.9316 - val_loss: 0.1760 - val_accuracy: 0.9367\n",
      "Epoch 134/3000\n",
      "16520/16520 [==============================] - 51s 3ms/step - loss: 0.2173 - accuracy: 0.9314 - val_loss: 0.1921 - val_accuracy: 0.9336\n",
      "Epoch 135/3000\n",
      "16520/16520 [==============================] - 51s 3ms/step - loss: 0.2187 - accuracy: 0.9310 - val_loss: 0.1883 - val_accuracy: 0.9349\n",
      "Epoch 136/3000\n",
      "16520/16520 [==============================] - 51s 3ms/step - loss: 0.2194 - accuracy: 0.9308 - val_loss: 0.1934 - val_accuracy: 0.9347\n",
      "Epoch 137/3000\n",
      "16520/16520 [==============================] - 51s 3ms/step - loss: 0.2167 - accuracy: 0.9319 - val_loss: 0.1746 - val_accuracy: 0.9378\n",
      "Epoch 138/3000\n",
      "16520/16520 [==============================] - 51s 3ms/step - loss: 0.2153 - accuracy: 0.9322 - val_loss: 0.1996 - val_accuracy: 0.9281\n",
      "Epoch 139/3000\n",
      "16520/16520 [==============================] - 51s 3ms/step - loss: 0.2178 - accuracy: 0.9314 - val_loss: 0.2683 - val_accuracy: 0.9029\n",
      "Epoch 140/3000\n",
      "16520/16520 [==============================] - 51s 3ms/step - loss: 0.2182 - accuracy: 0.9312 - val_loss: 0.1809 - val_accuracy: 0.9353\n",
      "Epoch 141/3000\n",
      "16520/16520 [==============================] - 51s 3ms/step - loss: 0.2166 - accuracy: 0.9319 - val_loss: 0.1878 - val_accuracy: 0.9341\n",
      "Epoch 142/3000\n",
      "16520/16520 [==============================] - 51s 3ms/step - loss: 0.2181 - accuracy: 0.9309 - val_loss: 0.1858 - val_accuracy: 0.9338\n",
      "Epoch 143/3000\n",
      "16520/16520 [==============================] - 51s 3ms/step - loss: 0.2181 - accuracy: 0.9318 - val_loss: 0.1781 - val_accuracy: 0.9358\n",
      "Epoch 144/3000\n",
      "16520/16520 [==============================] - 51s 3ms/step - loss: 0.2157 - accuracy: 0.9316 - val_loss: 0.1832 - val_accuracy: 0.9352\n",
      "Epoch 145/3000\n",
      "16520/16520 [==============================] - 51s 3ms/step - loss: 0.2146 - accuracy: 0.9324 - val_loss: 0.2084 - val_accuracy: 0.9250\n",
      "Epoch 146/3000\n",
      "16520/16520 [==============================] - 51s 3ms/step - loss: 0.2148 - accuracy: 0.9323 - val_loss: 0.2102 - val_accuracy: 0.9268\n",
      "Epoch 147/3000\n",
      "16520/16520 [==============================] - 51s 3ms/step - loss: 0.2165 - accuracy: 0.9318 - val_loss: 0.1926 - val_accuracy: 0.9306\n",
      "Epoch 148/3000\n",
      "16520/16520 [==============================] - 51s 3ms/step - loss: 0.2163 - accuracy: 0.9317 - val_loss: 0.1826 - val_accuracy: 0.9356\n",
      "Epoch 149/3000\n",
      "16520/16520 [==============================] - 51s 3ms/step - loss: 0.2182 - accuracy: 0.9310 - val_loss: 0.1757 - val_accuracy: 0.9372\n",
      "Epoch 150/3000\n",
      "16520/16520 [==============================] - 51s 3ms/step - loss: 0.2150 - accuracy: 0.9326 - val_loss: 0.1769 - val_accuracy: 0.9378\n",
      "Epoch 151/3000\n",
      "16520/16520 [==============================] - 51s 3ms/step - loss: 0.2138 - accuracy: 0.9323 - val_loss: 0.2005 - val_accuracy: 0.9334\n",
      "Epoch 152/3000\n",
      "16520/16520 [==============================] - 51s 3ms/step - loss: 0.2137 - accuracy: 0.9325 - val_loss: 0.1828 - val_accuracy: 0.9364\n",
      "Epoch 153/3000\n",
      "16520/16520 [==============================] - 51s 3ms/step - loss: 0.2142 - accuracy: 0.9323 - val_loss: 0.2035 - val_accuracy: 0.9261\n",
      "Epoch 154/3000\n",
      "16520/16520 [==============================] - 51s 3ms/step - loss: 0.2155 - accuracy: 0.9320 - val_loss: 0.1800 - val_accuracy: 0.9365\n",
      "Epoch 155/3000\n",
      "16520/16520 [==============================] - 51s 3ms/step - loss: 0.2150 - accuracy: 0.9327 - val_loss: 0.2698 - val_accuracy: 0.8997\n",
      "Epoch 156/3000\n",
      "16520/16520 [==============================] - 51s 3ms/step - loss: 0.2172 - accuracy: 0.9318 - val_loss: 0.1785 - val_accuracy: 0.9367\n",
      "Epoch 157/3000\n",
      "16520/16520 [==============================] - 51s 3ms/step - loss: 0.2117 - accuracy: 0.9333 - val_loss: 0.1976 - val_accuracy: 0.9293\n",
      "Epoch 158/3000\n",
      "16520/16520 [==============================] - 51s 3ms/step - loss: 0.2111 - accuracy: 0.9336 - val_loss: 0.1851 - val_accuracy: 0.9339\n",
      "Epoch 159/3000\n",
      "16520/16520 [==============================] - 51s 3ms/step - loss: 0.2156 - accuracy: 0.9321 - val_loss: 0.1941 - val_accuracy: 0.9345\n",
      "Epoch 160/3000\n",
      "16520/16520 [==============================] - 52s 3ms/step - loss: 0.2122 - accuracy: 0.9331 - val_loss: 0.1654 - val_accuracy: 0.9405\n",
      "Epoch 161/3000\n",
      "16520/16520 [==============================] - 51s 3ms/step - loss: 0.2143 - accuracy: 0.9324 - val_loss: 0.1823 - val_accuracy: 0.9349\n",
      "Epoch 162/3000\n",
      "16520/16520 [==============================] - 51s 3ms/step - loss: 0.2122 - accuracy: 0.9330 - val_loss: 0.1777 - val_accuracy: 0.9386\n",
      "Epoch 163/3000\n",
      "16520/16520 [==============================] - 51s 3ms/step - loss: 0.2117 - accuracy: 0.9334 - val_loss: 0.1761 - val_accuracy: 0.9395\n",
      "Epoch 164/3000\n",
      "16520/16520 [==============================] - 51s 3ms/step - loss: 0.2143 - accuracy: 0.9326 - val_loss: 0.1713 - val_accuracy: 0.9387\n",
      "Epoch 165/3000\n",
      "16520/16520 [==============================] - 51s 3ms/step - loss: 0.2113 - accuracy: 0.9333 - val_loss: 0.1726 - val_accuracy: 0.9387\n",
      "Epoch 166/3000\n",
      "16520/16520 [==============================] - 52s 3ms/step - loss: 0.2112 - accuracy: 0.9337 - val_loss: 0.1808 - val_accuracy: 0.9343\n",
      "Epoch 167/3000\n",
      "16520/16520 [==============================] - 51s 3ms/step - loss: 0.2131 - accuracy: 0.9329 - val_loss: 0.1826 - val_accuracy: 0.9360\n",
      "Epoch 168/3000\n",
      "16520/16520 [==============================] - 51s 3ms/step - loss: 0.2102 - accuracy: 0.9337 - val_loss: 0.1802 - val_accuracy: 0.9343\n",
      "Epoch 169/3000\n",
      "16520/16520 [==============================] - 51s 3ms/step - loss: 0.2119 - accuracy: 0.9335 - val_loss: 0.1827 - val_accuracy: 0.9370\n",
      "Epoch 170/3000\n",
      "16520/16520 [==============================] - 51s 3ms/step - loss: 0.2125 - accuracy: 0.9334 - val_loss: 0.2132 - val_accuracy: 0.9250\n",
      "Epoch 171/3000\n",
      "16520/16520 [==============================] - 51s 3ms/step - loss: 0.2108 - accuracy: 0.9341 - val_loss: 0.2032 - val_accuracy: 0.9318\n",
      "Epoch 172/3000\n",
      "16520/16520 [==============================] - 51s 3ms/step - loss: 0.2111 - accuracy: 0.9334 - val_loss: 0.1726 - val_accuracy: 0.9373\n",
      "Epoch 173/3000\n",
      "16520/16520 [==============================] - 51s 3ms/step - loss: 0.2128 - accuracy: 0.9330 - val_loss: 0.1734 - val_accuracy: 0.9387\n",
      "Epoch 174/3000\n",
      "16520/16520 [==============================] - 51s 3ms/step - loss: 0.2106 - accuracy: 0.9336 - val_loss: 0.1794 - val_accuracy: 0.9360\n",
      "Epoch 175/3000\n",
      "16520/16520 [==============================] - 51s 3ms/step - loss: 0.2103 - accuracy: 0.9336 - val_loss: 0.1816 - val_accuracy: 0.9358\n",
      "Epoch 176/3000\n",
      "16520/16520 [==============================] - 51s 3ms/step - loss: 0.2126 - accuracy: 0.9331 - val_loss: 0.1806 - val_accuracy: 0.9346\n",
      "Epoch 177/3000\n",
      "16520/16520 [==============================] - 51s 3ms/step - loss: 0.2112 - accuracy: 0.9335 - val_loss: 0.2008 - val_accuracy: 0.9323\n",
      "Epoch 178/3000\n",
      "16520/16520 [==============================] - 51s 3ms/step - loss: 0.2094 - accuracy: 0.9342 - val_loss: 0.1991 - val_accuracy: 0.9312\n",
      "Epoch 179/3000\n",
      "16520/16520 [==============================] - 51s 3ms/step - loss: 0.2096 - accuracy: 0.9337 - val_loss: 0.1962 - val_accuracy: 0.9302\n",
      "Epoch 180/3000\n",
      "16520/16520 [==============================] - 51s 3ms/step - loss: 0.2120 - accuracy: 0.9335 - val_loss: 0.1897 - val_accuracy: 0.9342\n",
      "Epoch 181/3000\n",
      "16520/16520 [==============================] - 51s 3ms/step - loss: 0.2084 - accuracy: 0.9347 - val_loss: 0.1686 - val_accuracy: 0.9399\n",
      "Epoch 182/3000\n",
      "16520/16520 [==============================] - 51s 3ms/step - loss: 0.2101 - accuracy: 0.9338 - val_loss: 0.1858 - val_accuracy: 0.9350\n",
      "Epoch 183/3000\n",
      "16520/16520 [==============================] - 51s 3ms/step - loss: 0.2083 - accuracy: 0.9342 - val_loss: 0.1773 - val_accuracy: 0.9360\n",
      "Epoch 184/3000\n",
      "16520/16520 [==============================] - 51s 3ms/step - loss: 0.2096 - accuracy: 0.9343 - val_loss: 0.1885 - val_accuracy: 0.9321\n",
      "Epoch 185/3000\n",
      "16520/16520 [==============================] - 51s 3ms/step - loss: 0.2093 - accuracy: 0.9336 - val_loss: 0.1785 - val_accuracy: 0.9372\n",
      "Epoch 186/3000\n",
      "16520/16520 [==============================] - 51s 3ms/step - loss: 0.2083 - accuracy: 0.9346 - val_loss: 0.1724 - val_accuracy: 0.9378\n",
      "Epoch 187/3000\n",
      "16520/16520 [==============================] - 51s 3ms/step - loss: 0.2083 - accuracy: 0.9346 - val_loss: 0.1779 - val_accuracy: 0.9354\n",
      "Epoch 188/3000\n",
      "16520/16520 [==============================] - 51s 3ms/step - loss: 0.2113 - accuracy: 0.9336 - val_loss: 0.1838 - val_accuracy: 0.9360\n",
      "Epoch 189/3000\n",
      "16520/16520 [==============================] - 51s 3ms/step - loss: 0.2068 - accuracy: 0.9350 - val_loss: 0.1855 - val_accuracy: 0.9344\n",
      "Epoch 190/3000\n",
      "16520/16520 [==============================] - 51s 3ms/step - loss: 0.2074 - accuracy: 0.9347 - val_loss: 0.1861 - val_accuracy: 0.9371\n",
      "Epoch 191/3000\n",
      "16520/16520 [==============================] - 51s 3ms/step - loss: 0.2127 - accuracy: 0.9334 - val_loss: 0.1862 - val_accuracy: 0.9348\n",
      "Epoch 192/3000\n",
      "16520/16520 [==============================] - 51s 3ms/step - loss: 0.2083 - accuracy: 0.9347 - val_loss: 0.1840 - val_accuracy: 0.9344\n",
      "Epoch 193/3000\n",
      "16520/16520 [==============================] - 51s 3ms/step - loss: 0.2088 - accuracy: 0.9347 - val_loss: 0.1794 - val_accuracy: 0.9367\n",
      "Epoch 194/3000\n",
      "16520/16520 [==============================] - 52s 3ms/step - loss: 0.2082 - accuracy: 0.9348 - val_loss: 0.1915 - val_accuracy: 0.9347\n",
      "Epoch 195/3000\n",
      "16520/16520 [==============================] - 52s 3ms/step - loss: 0.2084 - accuracy: 0.9348 - val_loss: 0.1746 - val_accuracy: 0.9370\n",
      "Epoch 196/3000\n",
      "16520/16520 [==============================] - 52s 3ms/step - loss: 0.2092 - accuracy: 0.9346 - val_loss: 0.1797 - val_accuracy: 0.9369\n",
      "Epoch 197/3000\n",
      "16520/16520 [==============================] - 51s 3ms/step - loss: 0.2081 - accuracy: 0.9347 - val_loss: 0.1725 - val_accuracy: 0.9395\n",
      "Epoch 198/3000\n",
      "16520/16520 [==============================] - 51s 3ms/step - loss: 0.2075 - accuracy: 0.9348 - val_loss: 0.1820 - val_accuracy: 0.9376\n",
      "Epoch 199/3000\n",
      "16520/16520 [==============================] - 51s 3ms/step - loss: 0.2074 - accuracy: 0.9350 - val_loss: 0.1810 - val_accuracy: 0.9369\n",
      "Epoch 200/3000\n",
      "16520/16520 [==============================] - 51s 3ms/step - loss: 0.2062 - accuracy: 0.9352 - val_loss: 0.1766 - val_accuracy: 0.9372\n",
      "Epoch 201/3000\n",
      "16520/16520 [==============================] - 51s 3ms/step - loss: 0.2071 - accuracy: 0.9350 - val_loss: 0.1913 - val_accuracy: 0.9343\n",
      "Epoch 202/3000\n",
      "16520/16520 [==============================] - 51s 3ms/step - loss: 0.2093 - accuracy: 0.9344 - val_loss: 0.1861 - val_accuracy: 0.9357\n",
      "Epoch 203/3000\n",
      "16520/16520 [==============================] - 51s 3ms/step - loss: 0.2112 - accuracy: 0.9343 - val_loss: 0.1835 - val_accuracy: 0.9344\n",
      "Epoch 204/3000\n",
      "16520/16520 [==============================] - 51s 3ms/step - loss: 0.2079 - accuracy: 0.9347 - val_loss: 0.1738 - val_accuracy: 0.9393\n",
      "Epoch 205/3000\n",
      "16520/16520 [==============================] - 51s 3ms/step - loss: 0.2053 - accuracy: 0.9356 - val_loss: 0.2644 - val_accuracy: 0.9042\n",
      "Epoch 206/3000\n",
      "16520/16520 [==============================] - 52s 3ms/step - loss: 0.2059 - accuracy: 0.9355 - val_loss: 0.2027 - val_accuracy: 0.9293\n",
      "Epoch 207/3000\n",
      "16520/16520 [==============================] - 52s 3ms/step - loss: 0.2095 - accuracy: 0.9345 - val_loss: 0.1707 - val_accuracy: 0.9394\n",
      "Epoch 208/3000\n",
      "16520/16520 [==============================] - 51s 3ms/step - loss: 0.2074 - accuracy: 0.9351 - val_loss: 0.1922 - val_accuracy: 0.9328\n",
      "Epoch 209/3000\n",
      "16520/16520 [==============================] - 51s 3ms/step - loss: 0.2072 - accuracy: 0.9353 - val_loss: 0.1792 - val_accuracy: 0.9391\n",
      "Epoch 210/3000\n",
      "16520/16520 [==============================] - 51s 3ms/step - loss: 0.2064 - accuracy: 0.9354 - val_loss: 0.1779 - val_accuracy: 0.9374\n",
      "Epoch 211/3000\n",
      "16520/16520 [==============================] - 51s 3ms/step - loss: 0.2080 - accuracy: 0.9350 - val_loss: 0.1974 - val_accuracy: 0.9309\n",
      "Epoch 212/3000\n",
      "16520/16520 [==============================] - 51s 3ms/step - loss: 0.2055 - accuracy: 0.9360 - val_loss: 0.1781 - val_accuracy: 0.9376\n",
      "Epoch 213/3000\n",
      "16520/16520 [==============================] - 51s 3ms/step - loss: 0.2076 - accuracy: 0.9351 - val_loss: 0.1696 - val_accuracy: 0.9409\n",
      "Epoch 214/3000\n",
      "16520/16520 [==============================] - 51s 3ms/step - loss: 0.2031 - accuracy: 0.9363 - val_loss: 0.1733 - val_accuracy: 0.9388\n",
      "Epoch 215/3000\n",
      "16520/16520 [==============================] - 52s 3ms/step - loss: 0.2066 - accuracy: 0.9357 - val_loss: 0.1831 - val_accuracy: 0.9344\n",
      "Epoch 216/3000\n",
      "16520/16520 [==============================] - 51s 3ms/step - loss: 0.2051 - accuracy: 0.9359 - val_loss: 0.2204 - val_accuracy: 0.9250\n",
      "Epoch 217/3000\n",
      "16520/16520 [==============================] - 51s 3ms/step - loss: 0.2059 - accuracy: 0.9354 - val_loss: 0.1769 - val_accuracy: 0.9392\n",
      "Epoch 218/3000\n",
      "16520/16520 [==============================] - 52s 3ms/step - loss: 0.2064 - accuracy: 0.9353 - val_loss: 0.1740 - val_accuracy: 0.9390\n",
      "Epoch 219/3000\n",
      "16520/16520 [==============================] - 52s 3ms/step - loss: 0.2063 - accuracy: 0.9354 - val_loss: 0.1962 - val_accuracy: 0.9330\n",
      "Epoch 220/3000\n",
      "16520/16520 [==============================] - 52s 3ms/step - loss: 0.2077 - accuracy: 0.9353 - val_loss: 0.1681 - val_accuracy: 0.9408\n",
      "Epoch 221/3000\n",
      "16520/16520 [==============================] - 51s 3ms/step - loss: 0.2039 - accuracy: 0.9363 - val_loss: 0.1728 - val_accuracy: 0.9386\n",
      "Epoch 222/3000\n",
      "16520/16520 [==============================] - 52s 3ms/step - loss: 0.2063 - accuracy: 0.9354 - val_loss: 0.1758 - val_accuracy: 0.9391\n",
      "Epoch 223/3000\n",
      "16520/16520 [==============================] - 51s 3ms/step - loss: 0.2057 - accuracy: 0.9359 - val_loss: 0.1734 - val_accuracy: 0.9375\n",
      "Epoch 224/3000\n",
      "16520/16520 [==============================] - 51s 3ms/step - loss: 0.2056 - accuracy: 0.9358 - val_loss: 0.1867 - val_accuracy: 0.9346\n",
      "Epoch 225/3000\n",
      "16520/16520 [==============================] - 51s 3ms/step - loss: 0.2051 - accuracy: 0.9359 - val_loss: 0.1826 - val_accuracy: 0.9363\n",
      "Epoch 226/3000\n",
      "16520/16520 [==============================] - 52s 3ms/step - loss: 0.2061 - accuracy: 0.9353 - val_loss: 0.1725 - val_accuracy: 0.9377\n",
      "Epoch 227/3000\n",
      "16520/16520 [==============================] - 51s 3ms/step - loss: 0.2040 - accuracy: 0.9362 - val_loss: 0.1756 - val_accuracy: 0.9395\n",
      "Epoch 228/3000\n",
      "16520/16520 [==============================] - 52s 3ms/step - loss: 0.2037 - accuracy: 0.9362 - val_loss: 0.1787 - val_accuracy: 0.9360\n",
      "Epoch 229/3000\n",
      "16520/16520 [==============================] - 52s 3ms/step - loss: 0.2047 - accuracy: 0.9358 - val_loss: 0.1792 - val_accuracy: 0.9347\n",
      "Epoch 230/3000\n",
      "16520/16520 [==============================] - 52s 3ms/step - loss: 0.2025 - accuracy: 0.9366 - val_loss: 0.1727 - val_accuracy: 0.9379\n",
      "Epoch 231/3000\n",
      "16520/16520 [==============================] - 51s 3ms/step - loss: 0.2073 - accuracy: 0.9355 - val_loss: 0.1871 - val_accuracy: 0.9346\n",
      "Epoch 232/3000\n",
      "16520/16520 [==============================] - 51s 3ms/step - loss: 0.2044 - accuracy: 0.9366 - val_loss: 0.1723 - val_accuracy: 0.9374\n",
      "Epoch 233/3000\n",
      "16520/16520 [==============================] - 51s 3ms/step - loss: 0.2042 - accuracy: 0.9366 - val_loss: 0.1825 - val_accuracy: 0.9360\n",
      "Epoch 234/3000\n",
      "16520/16520 [==============================] - 51s 3ms/step - loss: 0.2042 - accuracy: 0.9363 - val_loss: 0.1891 - val_accuracy: 0.9341\n",
      "Epoch 235/3000\n",
      "16520/16520 [==============================] - 51s 3ms/step - loss: 0.2018 - accuracy: 0.9368 - val_loss: 0.2110 - val_accuracy: 0.9246\n",
      "Epoch 236/3000\n",
      "16520/16520 [==============================] - 51s 3ms/step - loss: 0.2021 - accuracy: 0.9367 - val_loss: 0.1826 - val_accuracy: 0.9366\n",
      "Epoch 237/3000\n",
      "16520/16520 [==============================] - 52s 3ms/step - loss: 0.2053 - accuracy: 0.9362 - val_loss: 0.1969 - val_accuracy: 0.9309\n",
      "Epoch 238/3000\n",
      "16520/16520 [==============================] - 51s 3ms/step - loss: 0.2049 - accuracy: 0.9362 - val_loss: 0.1887 - val_accuracy: 0.9324\n",
      "Epoch 239/3000\n",
      "16520/16520 [==============================] - 51s 3ms/step - loss: 0.2019 - accuracy: 0.9374 - val_loss: 0.1986 - val_accuracy: 0.9310\n",
      "Epoch 240/3000\n",
      "16520/16520 [==============================] - 51s 3ms/step - loss: 0.2043 - accuracy: 0.9363 - val_loss: 0.1698 - val_accuracy: 0.9417\n",
      "Epoch 241/3000\n",
      "16520/16520 [==============================] - 51s 3ms/step - loss: 0.2049 - accuracy: 0.9363 - val_loss: 0.1712 - val_accuracy: 0.9403\n",
      "Epoch 242/3000\n",
      "16520/16520 [==============================] - 51s 3ms/step - loss: 0.2050 - accuracy: 0.9361 - val_loss: 0.1748 - val_accuracy: 0.9398\n",
      "Epoch 243/3000\n",
      "16520/16520 [==============================] - 51s 3ms/step - loss: 0.2023 - accuracy: 0.9369 - val_loss: 0.1955 - val_accuracy: 0.9290\n",
      "Epoch 244/3000\n",
      "16520/16520 [==============================] - 51s 3ms/step - loss: 0.2060 - accuracy: 0.9358 - val_loss: 0.1883 - val_accuracy: 0.9338\n",
      "Epoch 245/3000\n",
      "16520/16520 [==============================] - 51s 3ms/step - loss: 0.2033 - accuracy: 0.9363 - val_loss: 0.1733 - val_accuracy: 0.9383\n",
      "Epoch 246/3000\n",
      "16520/16520 [==============================] - 51s 3ms/step - loss: 0.2059 - accuracy: 0.9355 - val_loss: 0.1781 - val_accuracy: 0.9384\n",
      "Epoch 247/3000\n",
      "16520/16520 [==============================] - 51s 3ms/step - loss: 0.2024 - accuracy: 0.9366 - val_loss: 0.1791 - val_accuracy: 0.9381\n",
      "Epoch 248/3000\n",
      "16520/16520 [==============================] - 51s 3ms/step - loss: 0.2052 - accuracy: 0.9361 - val_loss: 0.1789 - val_accuracy: 0.9374\n",
      "Epoch 249/3000\n",
      "16520/16520 [==============================] - 51s 3ms/step - loss: 0.2027 - accuracy: 0.9368 - val_loss: 0.1683 - val_accuracy: 0.9397\n",
      "Epoch 250/3000\n",
      "16520/16520 [==============================] - 51s 3ms/step - loss: 0.2055 - accuracy: 0.9362 - val_loss: 0.1626 - val_accuracy: 0.9436\n",
      "Epoch 251/3000\n",
      "16520/16520 [==============================] - 51s 3ms/step - loss: 0.2029 - accuracy: 0.9367 - val_loss: 0.1734 - val_accuracy: 0.9403\n",
      "Epoch 252/3000\n",
      "16520/16520 [==============================] - 51s 3ms/step - loss: 0.2015 - accuracy: 0.9367 - val_loss: 0.1675 - val_accuracy: 0.9426\n",
      "Epoch 253/3000\n",
      "16520/16520 [==============================] - 51s 3ms/step - loss: 0.2031 - accuracy: 0.9368 - val_loss: 0.1894 - val_accuracy: 0.9332\n",
      "Epoch 254/3000\n",
      "16520/16520 [==============================] - 51s 3ms/step - loss: 0.2018 - accuracy: 0.9370 - val_loss: 0.1699 - val_accuracy: 0.9398\n",
      "Epoch 255/3000\n",
      "16520/16520 [==============================] - 51s 3ms/step - loss: 0.2035 - accuracy: 0.9365 - val_loss: 0.1780 - val_accuracy: 0.9386\n",
      "Epoch 256/3000\n",
      "16520/16520 [==============================] - 51s 3ms/step - loss: 0.2029 - accuracy: 0.9366 - val_loss: 0.1783 - val_accuracy: 0.9375\n",
      "Epoch 257/3000\n",
      "16520/16520 [==============================] - 51s 3ms/step - loss: 0.2019 - accuracy: 0.9370 - val_loss: 0.2173 - val_accuracy: 0.9193\n",
      "Epoch 258/3000\n",
      "16520/16520 [==============================] - 51s 3ms/step - loss: 0.2039 - accuracy: 0.9364 - val_loss: 0.1729 - val_accuracy: 0.9392\n",
      "Epoch 259/3000\n",
      "16520/16520 [==============================] - 51s 3ms/step - loss: 0.2033 - accuracy: 0.9371 - val_loss: 0.1760 - val_accuracy: 0.9363\n",
      "Epoch 260/3000\n",
      "16520/16520 [==============================] - 51s 3ms/step - loss: 0.2035 - accuracy: 0.9367 - val_loss: 0.1718 - val_accuracy: 0.9402\n",
      "Epoch 261/3000\n",
      "16520/16520 [==============================] - 51s 3ms/step - loss: 0.2025 - accuracy: 0.9372 - val_loss: 0.1825 - val_accuracy: 0.9365\n",
      "Epoch 262/3000\n",
      "16520/16520 [==============================] - 51s 3ms/step - loss: 0.2007 - accuracy: 0.9371 - val_loss: 0.1799 - val_accuracy: 0.9395\n",
      "Epoch 263/3000\n",
      "16520/16520 [==============================] - 51s 3ms/step - loss: 0.2047 - accuracy: 0.9365 - val_loss: 0.1890 - val_accuracy: 0.9337\n",
      "Epoch 264/3000\n",
      "16520/16520 [==============================] - 51s 3ms/step - loss: 0.2061 - accuracy: 0.9353 - val_loss: 0.1752 - val_accuracy: 0.9390\n",
      "Epoch 265/3000\n",
      "16520/16520 [==============================] - 51s 3ms/step - loss: 0.2006 - accuracy: 0.9375 - val_loss: 0.1686 - val_accuracy: 0.9412\n",
      "Epoch 266/3000\n",
      "16520/16520 [==============================] - 51s 3ms/step - loss: 0.1999 - accuracy: 0.9375 - val_loss: 0.1732 - val_accuracy: 0.9391\n",
      "Epoch 267/3000\n",
      "16520/16520 [==============================] - 51s 3ms/step - loss: 0.2008 - accuracy: 0.9373 - val_loss: 0.2514 - val_accuracy: 0.9104\n",
      "Epoch 268/3000\n",
      "16520/16520 [==============================] - 51s 3ms/step - loss: 0.2015 - accuracy: 0.9371 - val_loss: 0.1818 - val_accuracy: 0.9355\n",
      "Epoch 269/3000\n",
      "16520/16520 [==============================] - 51s 3ms/step - loss: 0.2033 - accuracy: 0.9365 - val_loss: 0.2192 - val_accuracy: 0.9245\n",
      "Epoch 270/3000\n",
      "16520/16520 [==============================] - 51s 3ms/step - loss: 0.2069 - accuracy: 0.9356 - val_loss: 0.1723 - val_accuracy: 0.9405\n",
      "Epoch 271/3000\n",
      "16520/16520 [==============================] - 51s 3ms/step - loss: 0.2012 - accuracy: 0.9374 - val_loss: 0.1728 - val_accuracy: 0.9405\n",
      "Epoch 272/3000\n",
      "16520/16520 [==============================] - 51s 3ms/step - loss: 0.2027 - accuracy: 0.9367 - val_loss: 0.2355 - val_accuracy: 0.9207\n",
      "Epoch 273/3000\n",
      "16520/16520 [==============================] - 51s 3ms/step - loss: 0.2019 - accuracy: 0.9369 - val_loss: 0.1744 - val_accuracy: 0.9391\n",
      "Epoch 274/3000\n",
      "16520/16520 [==============================] - 51s 3ms/step - loss: 0.2004 - accuracy: 0.9377 - val_loss: 0.1669 - val_accuracy: 0.9409\n",
      "Epoch 275/3000\n",
      "16520/16520 [==============================] - 51s 3ms/step - loss: 0.2029 - accuracy: 0.9371 - val_loss: 0.1767 - val_accuracy: 0.9379\n",
      "Epoch 276/3000\n",
      "16520/16520 [==============================] - 51s 3ms/step - loss: 0.2052 - accuracy: 0.9359 - val_loss: 0.1784 - val_accuracy: 0.9353\n",
      "Epoch 277/3000\n",
      "16520/16520 [==============================] - 51s 3ms/step - loss: 0.2002 - accuracy: 0.9377 - val_loss: 0.1789 - val_accuracy: 0.9352\n",
      "Epoch 278/3000\n",
      "16520/16520 [==============================] - 50s 3ms/step - loss: 0.2008 - accuracy: 0.9373 - val_loss: 0.1801 - val_accuracy: 0.9384\n",
      "Epoch 279/3000\n",
      "16520/16520 [==============================] - 51s 3ms/step - loss: 0.2040 - accuracy: 0.9369 - val_loss: 0.1689 - val_accuracy: 0.9419\n",
      "Epoch 280/3000\n",
      "16520/16520 [==============================] - 51s 3ms/step - loss: 0.2013 - accuracy: 0.9373 - val_loss: 0.1741 - val_accuracy: 0.9409\n",
      "Epoch 281/3000\n",
      "16520/16520 [==============================] - 51s 3ms/step - loss: 0.2009 - accuracy: 0.9375 - val_loss: 0.1997 - val_accuracy: 0.9294\n",
      "Epoch 282/3000\n",
      "16520/16520 [==============================] - 51s 3ms/step - loss: 0.2017 - accuracy: 0.9376 - val_loss: 0.1723 - val_accuracy: 0.9392\n",
      "Epoch 283/3000\n",
      "16520/16520 [==============================] - 51s 3ms/step - loss: 0.1986 - accuracy: 0.9380 - val_loss: 0.1781 - val_accuracy: 0.9390\n",
      "Epoch 284/3000\n",
      "16520/16520 [==============================] - 51s 3ms/step - loss: 0.1988 - accuracy: 0.9382 - val_loss: 0.2319 - val_accuracy: 0.9198\n",
      "Epoch 285/3000\n",
      "16520/16520 [==============================] - 51s 3ms/step - loss: 0.1995 - accuracy: 0.9377 - val_loss: 0.1704 - val_accuracy: 0.9395\n",
      "Epoch 286/3000\n",
      "16520/16520 [==============================] - 51s 3ms/step - loss: 0.2055 - accuracy: 0.9362 - val_loss: 0.1912 - val_accuracy: 0.9331\n",
      "Epoch 287/3000\n",
      "16520/16520 [==============================] - 51s 3ms/step - loss: 0.2009 - accuracy: 0.9373 - val_loss: 0.1684 - val_accuracy: 0.9413\n",
      "Epoch 288/3000\n",
      "16520/16520 [==============================] - 51s 3ms/step - loss: 0.2007 - accuracy: 0.9374 - val_loss: 0.1733 - val_accuracy: 0.9403\n",
      "Epoch 289/3000\n",
      "16520/16520 [==============================] - 51s 3ms/step - loss: 0.2024 - accuracy: 0.9372 - val_loss: 0.1723 - val_accuracy: 0.9392\n",
      "Epoch 290/3000\n",
      "16520/16520 [==============================] - 51s 3ms/step - loss: 0.1989 - accuracy: 0.9380 - val_loss: 0.1750 - val_accuracy: 0.9399\n",
      "Epoch 291/3000\n",
      "16520/16520 [==============================] - 51s 3ms/step - loss: 0.2016 - accuracy: 0.9373 - val_loss: 0.1662 - val_accuracy: 0.9432\n",
      "Epoch 292/3000\n",
      "16520/16520 [==============================] - 51s 3ms/step - loss: 0.2006 - accuracy: 0.9374 - val_loss: 0.1718 - val_accuracy: 0.9411\n",
      "Epoch 293/3000\n",
      "16520/16520 [==============================] - 51s 3ms/step - loss: 0.2059 - accuracy: 0.9360 - val_loss: 0.1807 - val_accuracy: 0.9398\n",
      "Epoch 294/3000\n",
      "16520/16520 [==============================] - 51s 3ms/step - loss: 0.2006 - accuracy: 0.9375 - val_loss: 0.2262 - val_accuracy: 0.9175\n",
      "Epoch 295/3000\n",
      "16520/16520 [==============================] - 51s 3ms/step - loss: 0.1988 - accuracy: 0.9377 - val_loss: 0.1991 - val_accuracy: 0.9307\n",
      "Epoch 296/3000\n",
      "16520/16520 [==============================] - 51s 3ms/step - loss: 0.2052 - accuracy: 0.9363 - val_loss: 0.1799 - val_accuracy: 0.9375\n",
      "Epoch 297/3000\n",
      "16520/16520 [==============================] - 51s 3ms/step - loss: 0.2004 - accuracy: 0.9374 - val_loss: 0.2117 - val_accuracy: 0.9248\n",
      "Epoch 298/3000\n",
      "16520/16520 [==============================] - 51s 3ms/step - loss: 0.1990 - accuracy: 0.9378 - val_loss: 0.1644 - val_accuracy: 0.9419\n",
      "Epoch 299/3000\n",
      "16520/16520 [==============================] - 51s 3ms/step - loss: 0.1991 - accuracy: 0.9382 - val_loss: 0.1699 - val_accuracy: 0.9388\n",
      "Epoch 300/3000\n",
      "16520/16520 [==============================] - 51s 3ms/step - loss: 0.1997 - accuracy: 0.9377 - val_loss: 0.1787 - val_accuracy: 0.9374\n",
      "Epoch 301/3000\n",
      "16520/16520 [==============================] - 51s 3ms/step - loss: 0.1986 - accuracy: 0.9385 - val_loss: 0.1764 - val_accuracy: 0.9409\n",
      "Epoch 302/3000\n",
      "16520/16520 [==============================] - 51s 3ms/step - loss: 0.2076 - accuracy: 0.9360 - val_loss: 0.1665 - val_accuracy: 0.9404\n",
      "Epoch 303/3000\n",
      "16520/16520 [==============================] - 51s 3ms/step - loss: 0.2017 - accuracy: 0.9371 - val_loss: 0.1720 - val_accuracy: 0.9399\n",
      "Epoch 304/3000\n",
      "16520/16520 [==============================] - 51s 3ms/step - loss: 0.2013 - accuracy: 0.9371 - val_loss: 0.1588 - val_accuracy: 0.9447\n",
      "Epoch 305/3000\n",
      "16520/16520 [==============================] - 51s 3ms/step - loss: 0.2002 - accuracy: 0.9377 - val_loss: 0.2349 - val_accuracy: 0.9155\n",
      "Epoch 306/3000\n",
      "16520/16520 [==============================] - 51s 3ms/step - loss: 0.2030 - accuracy: 0.9372 - val_loss: 0.2094 - val_accuracy: 0.9286\n",
      "Epoch 307/3000\n",
      "16520/16520 [==============================] - 51s 3ms/step - loss: 0.2030 - accuracy: 0.9368 - val_loss: 0.1728 - val_accuracy: 0.9393\n",
      "Epoch 308/3000\n",
      "16520/16520 [==============================] - 51s 3ms/step - loss: 0.1992 - accuracy: 0.9379 - val_loss: 0.1690 - val_accuracy: 0.9407\n",
      "Epoch 309/3000\n",
      "16520/16520 [==============================] - 51s 3ms/step - loss: 0.1993 - accuracy: 0.9377 - val_loss: 0.1797 - val_accuracy: 0.9378\n",
      "Epoch 310/3000\n",
      "16520/16520 [==============================] - 51s 3ms/step - loss: 0.2026 - accuracy: 0.9367 - val_loss: 0.1951 - val_accuracy: 0.9330\n",
      "Epoch 311/3000\n",
      "16520/16520 [==============================] - 51s 3ms/step - loss: 0.2094 - accuracy: 0.9353 - val_loss: 0.1844 - val_accuracy: 0.9357\n",
      "Epoch 312/3000\n",
      "16520/16520 [==============================] - 51s 3ms/step - loss: 0.2007 - accuracy: 0.9379 - val_loss: 0.2173 - val_accuracy: 0.9257\n",
      "Epoch 313/3000\n",
      "16520/16520 [==============================] - 51s 3ms/step - loss: 0.2028 - accuracy: 0.9367 - val_loss: 0.1607 - val_accuracy: 0.9438\n",
      "Epoch 314/3000\n",
      "16520/16520 [==============================] - 51s 3ms/step - loss: 0.2039 - accuracy: 0.9372 - val_loss: 0.1918 - val_accuracy: 0.9322\n",
      "Epoch 315/3000\n",
      "16520/16520 [==============================] - 51s 3ms/step - loss: 0.1988 - accuracy: 0.9383 - val_loss: 0.1722 - val_accuracy: 0.9395\n",
      "Epoch 316/3000\n",
      "16520/16520 [==============================] - 51s 3ms/step - loss: 0.1999 - accuracy: 0.9380 - val_loss: 0.2298 - val_accuracy: 0.9259\n",
      "Epoch 317/3000\n",
      "16520/16520 [==============================] - 51s 3ms/step - loss: 0.2011 - accuracy: 0.9374 - val_loss: 0.1691 - val_accuracy: 0.9398\n",
      "Epoch 318/3000\n",
      "16520/16520 [==============================] - 51s 3ms/step - loss: 0.1995 - accuracy: 0.9380 - val_loss: 0.1630 - val_accuracy: 0.9432\n",
      "Epoch 319/3000\n",
      "16520/16520 [==============================] - 51s 3ms/step - loss: 0.1991 - accuracy: 0.9381 - val_loss: 0.1924 - val_accuracy: 0.9349\n",
      "Epoch 320/3000\n",
      "16520/16520 [==============================] - 51s 3ms/step - loss: 0.1972 - accuracy: 0.9381 - val_loss: 0.1644 - val_accuracy: 0.9434\n",
      "Epoch 321/3000\n",
      "16520/16520 [==============================] - 51s 3ms/step - loss: 0.2010 - accuracy: 0.9374 - val_loss: 0.1723 - val_accuracy: 0.9399\n",
      "Epoch 322/3000\n",
      "16520/16520 [==============================] - 51s 3ms/step - loss: 0.1968 - accuracy: 0.9385 - val_loss: 0.1878 - val_accuracy: 0.9392\n",
      "Epoch 323/3000\n",
      "16520/16520 [==============================] - 50s 3ms/step - loss: 0.2099 - accuracy: 0.9356 - val_loss: 0.1814 - val_accuracy: 0.9398\n",
      "Epoch 324/3000\n",
      "16520/16520 [==============================] - 51s 3ms/step - loss: 0.2010 - accuracy: 0.9375 - val_loss: 0.1613 - val_accuracy: 0.9424\n",
      "Epoch 325/3000\n",
      "16520/16520 [==============================] - 51s 3ms/step - loss: 0.1975 - accuracy: 0.9384 - val_loss: 0.1599 - val_accuracy: 0.9443\n",
      "Epoch 326/3000\n",
      "16520/16520 [==============================] - 51s 3ms/step - loss: 0.2002 - accuracy: 0.9376 - val_loss: 0.2116 - val_accuracy: 0.9291\n",
      "Epoch 327/3000\n",
      "16520/16520 [==============================] - 51s 3ms/step - loss: 0.1970 - accuracy: 0.9385 - val_loss: 0.1661 - val_accuracy: 0.9428\n",
      "Epoch 328/3000\n",
      "16520/16520 [==============================] - 51s 3ms/step - loss: 0.2046 - accuracy: 0.9371 - val_loss: 0.1666 - val_accuracy: 0.9411\n",
      "Epoch 329/3000\n",
      "16520/16520 [==============================] - 51s 3ms/step - loss: 0.1970 - accuracy: 0.9385 - val_loss: 0.1634 - val_accuracy: 0.9413\n",
      "Epoch 330/3000\n",
      "16520/16520 [==============================] - 51s 3ms/step - loss: 0.2067 - accuracy: 0.9358 - val_loss: 0.2360 - val_accuracy: 0.9188\n",
      "Epoch 331/3000\n",
      "16520/16520 [==============================] - 51s 3ms/step - loss: 0.1998 - accuracy: 0.9376 - val_loss: 0.1710 - val_accuracy: 0.9397\n",
      "Epoch 332/3000\n",
      "16520/16520 [==============================] - 51s 3ms/step - loss: 0.2016 - accuracy: 0.9370 - val_loss: 0.1766 - val_accuracy: 0.9385\n",
      "Epoch 333/3000\n",
      "16520/16520 [==============================] - 51s 3ms/step - loss: 0.2190 - accuracy: 0.9325 - val_loss: 0.1919 - val_accuracy: 0.9358\n",
      "Epoch 334/3000\n",
      "16520/16520 [==============================] - 51s 3ms/step - loss: 0.2020 - accuracy: 0.9372 - val_loss: 0.1736 - val_accuracy: 0.9403\n",
      "Epoch 335/3000\n",
      "16520/16520 [==============================] - 51s 3ms/step - loss: 0.1993 - accuracy: 0.9380 - val_loss: 0.2085 - val_accuracy: 0.9260\n",
      "Epoch 336/3000\n",
      "16520/16520 [==============================] - 51s 3ms/step - loss: 0.1965 - accuracy: 0.9386 - val_loss: 0.1704 - val_accuracy: 0.9412\n",
      "Epoch 337/3000\n",
      "16520/16520 [==============================] - 51s 3ms/step - loss: 0.1960 - accuracy: 0.9386 - val_loss: 0.1677 - val_accuracy: 0.9412\n",
      "Epoch 338/3000\n",
      "16520/16520 [==============================] - 51s 3ms/step - loss: 0.1971 - accuracy: 0.9385 - val_loss: 0.1637 - val_accuracy: 0.9429\n",
      "Epoch 339/3000\n",
      "16520/16520 [==============================] - 51s 3ms/step - loss: 0.2045 - accuracy: 0.9365 - val_loss: 0.1713 - val_accuracy: 0.9408\n",
      "Epoch 340/3000\n",
      "16520/16520 [==============================] - 51s 3ms/step - loss: 0.1951 - accuracy: 0.9390 - val_loss: 0.1556 - val_accuracy: 0.9445\n",
      "Epoch 341/3000\n",
      "16520/16520 [==============================] - 51s 3ms/step - loss: 0.1952 - accuracy: 0.9392 - val_loss: 0.1835 - val_accuracy: 0.9340\n",
      "Epoch 342/3000\n",
      "16520/16520 [==============================] - 51s 3ms/step - loss: 0.1968 - accuracy: 0.9387 - val_loss: 0.1824 - val_accuracy: 0.9376\n",
      "Epoch 343/3000\n",
      "16520/16520 [==============================] - 51s 3ms/step - loss: 0.1965 - accuracy: 0.9384 - val_loss: 0.1655 - val_accuracy: 0.9399\n",
      "Epoch 344/3000\n",
      "16520/16520 [==============================] - 51s 3ms/step - loss: 0.1991 - accuracy: 0.9387 - val_loss: 0.1683 - val_accuracy: 0.9399\n",
      "Epoch 345/3000\n",
      "16520/16520 [==============================] - 51s 3ms/step - loss: 0.1982 - accuracy: 0.9380 - val_loss: 0.1726 - val_accuracy: 0.9387\n",
      "Epoch 346/3000\n",
      "16520/16520 [==============================] - 51s 3ms/step - loss: 0.1986 - accuracy: 0.9381 - val_loss: 0.1562 - val_accuracy: 0.9454\n",
      "Epoch 347/3000\n",
      "16520/16520 [==============================] - 51s 3ms/step - loss: 0.1983 - accuracy: 0.9385 - val_loss: 0.1648 - val_accuracy: 0.9414\n",
      "Epoch 348/3000\n",
      "16520/16520 [==============================] - 51s 3ms/step - loss: 0.1951 - accuracy: 0.9390 - val_loss: 0.1646 - val_accuracy: 0.9408\n",
      "Epoch 349/3000\n",
      "16520/16520 [==============================] - 51s 3ms/step - loss: 0.1990 - accuracy: 0.9384 - val_loss: 0.1860 - val_accuracy: 0.9334\n",
      "Epoch 350/3000\n",
      "16520/16520 [==============================] - 51s 3ms/step - loss: 0.1997 - accuracy: 0.9378 - val_loss: 0.2389 - val_accuracy: 0.9165\n",
      "Epoch 351/3000\n",
      "16520/16520 [==============================] - 51s 3ms/step - loss: 0.2058 - accuracy: 0.9364 - val_loss: 0.1695 - val_accuracy: 0.9401\n",
      "Epoch 352/3000\n",
      "16520/16520 [==============================] - 51s 3ms/step - loss: 0.2009 - accuracy: 0.9381 - val_loss: 0.1784 - val_accuracy: 0.9404\n",
      "Epoch 353/3000\n",
      "16520/16520 [==============================] - 51s 3ms/step - loss: 0.1980 - accuracy: 0.9383 - val_loss: 0.1908 - val_accuracy: 0.9329\n",
      "Epoch 354/3000\n",
      "16520/16520 [==============================] - 51s 3ms/step - loss: 0.1963 - accuracy: 0.9387 - val_loss: 0.2194 - val_accuracy: 0.9176\n",
      "Epoch 355/3000\n",
      "16520/16520 [==============================] - 51s 3ms/step - loss: 0.1974 - accuracy: 0.9383 - val_loss: 0.1711 - val_accuracy: 0.9404\n",
      "Epoch 356/3000\n",
      "16520/16520 [==============================] - 51s 3ms/step - loss: 0.1954 - accuracy: 0.9392 - val_loss: 0.1713 - val_accuracy: 0.9422\n",
      "Epoch 357/3000\n",
      "16520/16520 [==============================] - 51s 3ms/step - loss: 0.1964 - accuracy: 0.9387 - val_loss: 0.1654 - val_accuracy: 0.9412\n",
      "Epoch 358/3000\n",
      "16520/16520 [==============================] - 51s 3ms/step - loss: 0.1999 - accuracy: 0.9376 - val_loss: 0.1824 - val_accuracy: 0.9370\n",
      "Epoch 359/3000\n",
      "16520/16520 [==============================] - 51s 3ms/step - loss: 0.1944 - accuracy: 0.9393 - val_loss: 0.1740 - val_accuracy: 0.9386\n",
      "Epoch 360/3000\n",
      "16520/16520 [==============================] - 51s 3ms/step - loss: 0.1978 - accuracy: 0.9385 - val_loss: 0.1937 - val_accuracy: 0.9328\n",
      "Epoch 361/3000\n",
      "16520/16520 [==============================] - 51s 3ms/step - loss: 0.1956 - accuracy: 0.9390 - val_loss: 0.1741 - val_accuracy: 0.9420\n",
      "Epoch 362/3000\n",
      "16520/16520 [==============================] - 51s 3ms/step - loss: 0.1985 - accuracy: 0.9386 - val_loss: 0.1667 - val_accuracy: 0.9417\n",
      "Epoch 363/3000\n",
      "16520/16520 [==============================] - 51s 3ms/step - loss: 0.2001 - accuracy: 0.9378 - val_loss: 0.1897 - val_accuracy: 0.9360\n",
      "Epoch 364/3000\n",
      "16520/16520 [==============================] - 51s 3ms/step - loss: 0.1993 - accuracy: 0.9379 - val_loss: 0.1750 - val_accuracy: 0.9390\n",
      "Epoch 365/3000\n",
      "16520/16520 [==============================] - 51s 3ms/step - loss: 0.1926 - accuracy: 0.9398 - val_loss: 0.1675 - val_accuracy: 0.9406\n",
      "Epoch 366/3000\n",
      "16520/16520 [==============================] - 51s 3ms/step - loss: 0.1971 - accuracy: 0.9389 - val_loss: 0.1623 - val_accuracy: 0.9434\n",
      "Epoch 367/3000\n",
      "16520/16520 [==============================] - 51s 3ms/step - loss: 0.1948 - accuracy: 0.9388 - val_loss: 0.2125 - val_accuracy: 0.9225\n",
      "Epoch 368/3000\n",
      "16520/16520 [==============================] - 51s 3ms/step - loss: 0.1959 - accuracy: 0.9384 - val_loss: 0.1581 - val_accuracy: 0.9445\n",
      "Epoch 369/3000\n",
      "16520/16520 [==============================] - 51s 3ms/step - loss: 0.1961 - accuracy: 0.9388 - val_loss: 0.1887 - val_accuracy: 0.9339\n",
      "Epoch 370/3000\n",
      "16520/16520 [==============================] - 51s 3ms/step - loss: 0.1939 - accuracy: 0.9390 - val_loss: 0.1618 - val_accuracy: 0.9440\n",
      "Epoch 371/3000\n",
      "16520/16520 [==============================] - 51s 3ms/step - loss: 0.1992 - accuracy: 0.9380 - val_loss: 0.1790 - val_accuracy: 0.9361\n",
      "Epoch 372/3000\n",
      "16520/16520 [==============================] - 51s 3ms/step - loss: 0.1960 - accuracy: 0.9391 - val_loss: 0.2072 - val_accuracy: 0.9259\n",
      "Epoch 373/3000\n",
      "16520/16520 [==============================] - 51s 3ms/step - loss: 0.1966 - accuracy: 0.9389 - val_loss: 0.1776 - val_accuracy: 0.9385\n",
      "Epoch 374/3000\n",
      "16520/16520 [==============================] - 51s 3ms/step - loss: 0.1935 - accuracy: 0.9391 - val_loss: 0.1855 - val_accuracy: 0.9369\n",
      "Epoch 375/3000\n",
      "16520/16520 [==============================] - 51s 3ms/step - loss: 0.1940 - accuracy: 0.9393 - val_loss: 0.1964 - val_accuracy: 0.9309\n",
      "Epoch 376/3000\n",
      "16520/16520 [==============================] - 51s 3ms/step - loss: 0.1947 - accuracy: 0.9390 - val_loss: 0.1768 - val_accuracy: 0.9402\n",
      "Epoch 377/3000\n",
      "16520/16520 [==============================] - 51s 3ms/step - loss: 0.1988 - accuracy: 0.9383 - val_loss: 0.1623 - val_accuracy: 0.9434\n",
      "Epoch 378/3000\n",
      "16520/16520 [==============================] - 51s 3ms/step - loss: 0.2009 - accuracy: 0.9382 - val_loss: 0.1978 - val_accuracy: 0.9304\n",
      "Epoch 379/3000\n",
      "16520/16520 [==============================] - 51s 3ms/step - loss: 0.1971 - accuracy: 0.9387 - val_loss: 0.1649 - val_accuracy: 0.9424\n",
      "Epoch 380/3000\n",
      "16520/16520 [==============================] - 51s 3ms/step - loss: 0.1988 - accuracy: 0.9381 - val_loss: 0.1781 - val_accuracy: 0.9400\n",
      "Epoch 381/3000\n",
      "16520/16520 [==============================] - 51s 3ms/step - loss: 0.1956 - accuracy: 0.9388 - val_loss: 0.1952 - val_accuracy: 0.9324\n",
      "Epoch 382/3000\n",
      "16520/16520 [==============================] - 51s 3ms/step - loss: 0.1962 - accuracy: 0.9385 - val_loss: 0.1698 - val_accuracy: 0.9419\n",
      "Epoch 383/3000\n",
      "16520/16520 [==============================] - 51s 3ms/step - loss: 0.1953 - accuracy: 0.9394 - val_loss: 0.1638 - val_accuracy: 0.9420\n",
      "Epoch 384/3000\n",
      "16520/16520 [==============================] - 51s 3ms/step - loss: 0.1998 - accuracy: 0.9385 - val_loss: 0.1849 - val_accuracy: 0.9333\n",
      "Epoch 385/3000\n",
      "16520/16520 [==============================] - 51s 3ms/step - loss: 0.1953 - accuracy: 0.9388 - val_loss: 0.1765 - val_accuracy: 0.9371\n",
      "Epoch 386/3000\n",
      "16520/16520 [==============================] - 51s 3ms/step - loss: 0.1958 - accuracy: 0.9393 - val_loss: 0.1914 - val_accuracy: 0.9317\n",
      "Epoch 387/3000\n",
      "16520/16520 [==============================] - 51s 3ms/step - loss: 0.1946 - accuracy: 0.9395 - val_loss: 0.1660 - val_accuracy: 0.9411\n",
      "Epoch 388/3000\n",
      "16520/16520 [==============================] - 51s 3ms/step - loss: 0.1947 - accuracy: 0.9390 - val_loss: 0.1676 - val_accuracy: 0.9423\n",
      "Epoch 389/3000\n",
      "16520/16520 [==============================] - 51s 3ms/step - loss: 0.1982 - accuracy: 0.9386 - val_loss: 0.1994 - val_accuracy: 0.9295\n",
      "Epoch 390/3000\n",
      "16520/16520 [==============================] - 51s 3ms/step - loss: 0.1931 - accuracy: 0.9395 - val_loss: 0.2362 - val_accuracy: 0.9195\n",
      "Epoch 391/3000\n",
      "16520/16520 [==============================] - 51s 3ms/step - loss: 0.1951 - accuracy: 0.9387 - val_loss: 0.1752 - val_accuracy: 0.9371\n",
      "Epoch 392/3000\n",
      "16520/16520 [==============================] - 51s 3ms/step - loss: 0.1942 - accuracy: 0.9393 - val_loss: 0.1636 - val_accuracy: 0.9425\n",
      "Epoch 393/3000\n",
      "16520/16520 [==============================] - 51s 3ms/step - loss: 0.1946 - accuracy: 0.9392 - val_loss: 0.1700 - val_accuracy: 0.9386\n",
      "Epoch 394/3000\n",
      "16520/16520 [==============================] - 51s 3ms/step - loss: 0.1925 - accuracy: 0.9397 - val_loss: 0.3000 - val_accuracy: 0.8970\n",
      "Epoch 395/3000\n",
      "16520/16520 [==============================] - 51s 3ms/step - loss: 0.1993 - accuracy: 0.9383 - val_loss: 0.3187 - val_accuracy: 0.8959\n",
      "Epoch 396/3000\n",
      "16520/16520 [==============================] - 51s 3ms/step - loss: 0.2012 - accuracy: 0.9368 - val_loss: 0.1621 - val_accuracy: 0.9440\n",
      "Epoch 397/3000\n",
      "16520/16520 [==============================] - 51s 3ms/step - loss: 0.1944 - accuracy: 0.9394 - val_loss: 0.1685 - val_accuracy: 0.9414\n",
      "Epoch 398/3000\n",
      "16520/16520 [==============================] - 51s 3ms/step - loss: 0.1906 - accuracy: 0.9401 - val_loss: 0.1765 - val_accuracy: 0.9385\n",
      "Epoch 399/3000\n",
      "16520/16520 [==============================] - 51s 3ms/step - loss: 0.1944 - accuracy: 0.9393 - val_loss: 0.1637 - val_accuracy: 0.9411\n",
      "Epoch 400/3000\n",
      "16520/16520 [==============================] - 51s 3ms/step - loss: 0.1917 - accuracy: 0.9399 - val_loss: 0.1714 - val_accuracy: 0.9393\n",
      "Epoch 401/3000\n",
      "16520/16520 [==============================] - 51s 3ms/step - loss: 0.1975 - accuracy: 0.9384 - val_loss: 0.1677 - val_accuracy: 0.9420\n",
      "Epoch 402/3000\n",
      "16520/16520 [==============================] - 52s 3ms/step - loss: 0.1921 - accuracy: 0.9398 - val_loss: 0.1642 - val_accuracy: 0.9412\n",
      "Epoch 403/3000\n",
      "16520/16520 [==============================] - 51s 3ms/step - loss: 0.1929 - accuracy: 0.9400 - val_loss: 0.1926 - val_accuracy: 0.9325\n",
      "Epoch 404/3000\n",
      "16520/16520 [==============================] - 51s 3ms/step - loss: 0.1983 - accuracy: 0.9382 - val_loss: 0.1722 - val_accuracy: 0.9400\n",
      "Epoch 405/3000\n",
      "16520/16520 [==============================] - 51s 3ms/step - loss: 0.1987 - accuracy: 0.9379 - val_loss: 0.1723 - val_accuracy: 0.9408\n",
      "Epoch 406/3000\n",
      "16520/16520 [==============================] - 51s 3ms/step - loss: 0.1948 - accuracy: 0.9393 - val_loss: 0.1609 - val_accuracy: 0.9423\n",
      "Epoch 407/3000\n",
      "16520/16520 [==============================] - 51s 3ms/step - loss: 0.1962 - accuracy: 0.9391 - val_loss: 0.1859 - val_accuracy: 0.9359\n",
      "Epoch 408/3000\n",
      "16520/16520 [==============================] - 51s 3ms/step - loss: 0.1984 - accuracy: 0.9388 - val_loss: 0.1598 - val_accuracy: 0.9430\n",
      "Epoch 409/3000\n",
      "16520/16520 [==============================] - 51s 3ms/step - loss: 0.1972 - accuracy: 0.9388 - val_loss: 0.1588 - val_accuracy: 0.9444\n",
      "Epoch 410/3000\n",
      "16520/16520 [==============================] - 51s 3ms/step - loss: 0.1982 - accuracy: 0.9387 - val_loss: 0.1668 - val_accuracy: 0.9424\n",
      "Epoch 411/3000\n",
      "16520/16520 [==============================] - 51s 3ms/step - loss: 0.1982 - accuracy: 0.9388 - val_loss: 0.1828 - val_accuracy: 0.9375\n",
      "Epoch 412/3000\n",
      "16520/16520 [==============================] - 51s 3ms/step - loss: 0.1929 - accuracy: 0.9399 - val_loss: 0.1709 - val_accuracy: 0.9394\n",
      "Epoch 413/3000\n",
      "16520/16520 [==============================] - 51s 3ms/step - loss: 0.1958 - accuracy: 0.9389 - val_loss: 0.1591 - val_accuracy: 0.9441\n",
      "Epoch 414/3000\n",
      "16520/16520 [==============================] - 51s 3ms/step - loss: 0.1945 - accuracy: 0.9394 - val_loss: 0.1766 - val_accuracy: 0.9382\n",
      "Epoch 415/3000\n",
      "16520/16520 [==============================] - 52s 3ms/step - loss: 0.1953 - accuracy: 0.9397 - val_loss: 0.1610 - val_accuracy: 0.9424\n",
      "Epoch 416/3000\n",
      "16520/16520 [==============================] - 51s 3ms/step - loss: 0.1955 - accuracy: 0.9395 - val_loss: 0.1596 - val_accuracy: 0.9441\n",
      "Epoch 417/3000\n",
      "16520/16520 [==============================] - 51s 3ms/step - loss: 0.2009 - accuracy: 0.9380 - val_loss: 0.1570 - val_accuracy: 0.9436\n",
      "Epoch 418/3000\n",
      "16520/16520 [==============================] - 51s 3ms/step - loss: 0.1957 - accuracy: 0.9393 - val_loss: 0.1856 - val_accuracy: 0.9365\n",
      "Epoch 419/3000\n",
      "16520/16520 [==============================] - 51s 3ms/step - loss: 0.1983 - accuracy: 0.9384 - val_loss: 0.1714 - val_accuracy: 0.9410\n",
      "Epoch 420/3000\n",
      "16520/16520 [==============================] - 51s 3ms/step - loss: 0.1920 - accuracy: 0.9398 - val_loss: 0.1704 - val_accuracy: 0.9399\n",
      "Epoch 421/3000\n",
      "16520/16520 [==============================] - 51s 3ms/step - loss: 0.1946 - accuracy: 0.9394 - val_loss: 0.1645 - val_accuracy: 0.9425\n",
      "Epoch 422/3000\n",
      "16520/16520 [==============================] - 51s 3ms/step - loss: 0.1941 - accuracy: 0.9394 - val_loss: 0.1601 - val_accuracy: 0.9450\n",
      "Epoch 423/3000\n",
      "16520/16520 [==============================] - 51s 3ms/step - loss: 0.2021 - accuracy: 0.9379 - val_loss: 0.1650 - val_accuracy: 0.9413\n",
      "Epoch 424/3000\n",
      "16520/16520 [==============================] - 51s 3ms/step - loss: 0.1958 - accuracy: 0.9391 - val_loss: 0.1678 - val_accuracy: 0.9415\n",
      "Epoch 425/3000\n",
      "16520/16520 [==============================] - 51s 3ms/step - loss: 0.1911 - accuracy: 0.9403 - val_loss: 0.1933 - val_accuracy: 0.9325\n",
      "Epoch 426/3000\n",
      "16520/16520 [==============================] - 51s 3ms/step - loss: 0.1944 - accuracy: 0.9395 - val_loss: 0.1607 - val_accuracy: 0.9432\n",
      "Epoch 427/3000\n",
      "16520/16520 [==============================] - 51s 3ms/step - loss: 0.1910 - accuracy: 0.9407 - val_loss: 0.1622 - val_accuracy: 0.9421\n",
      "Epoch 428/3000\n",
      "16520/16520 [==============================] - 51s 3ms/step - loss: 0.1926 - accuracy: 0.9399 - val_loss: 0.1575 - val_accuracy: 0.9436\n",
      "Epoch 429/3000\n",
      "16520/16520 [==============================] - 51s 3ms/step - loss: 0.1911 - accuracy: 0.9402 - val_loss: 0.1660 - val_accuracy: 0.9437\n",
      "Epoch 430/3000\n",
      "16520/16520 [==============================] - 51s 3ms/step - loss: 0.1949 - accuracy: 0.9390 - val_loss: 0.1602 - val_accuracy: 0.9442\n",
      "Epoch 431/3000\n",
      "16520/16520 [==============================] - 51s 3ms/step - loss: 0.1991 - accuracy: 0.9389 - val_loss: 0.1827 - val_accuracy: 0.9389\n",
      "Epoch 432/3000\n",
      "16520/16520 [==============================] - 51s 3ms/step - loss: 0.1936 - accuracy: 0.9396 - val_loss: 0.1712 - val_accuracy: 0.9403\n",
      "Epoch 433/3000\n",
      "16520/16520 [==============================] - 51s 3ms/step - loss: 0.1981 - accuracy: 0.9387 - val_loss: 0.1581 - val_accuracy: 0.9435\n",
      "Epoch 434/3000\n",
      "16520/16520 [==============================] - 51s 3ms/step - loss: 0.1922 - accuracy: 0.9398 - val_loss: 0.1947 - val_accuracy: 0.9340\n",
      "Epoch 435/3000\n",
      "16520/16520 [==============================] - 51s 3ms/step - loss: 0.1986 - accuracy: 0.9383 - val_loss: 0.1559 - val_accuracy: 0.9454\n",
      "Epoch 436/3000\n",
      "16520/16520 [==============================] - 51s 3ms/step - loss: 0.2051 - accuracy: 0.9375 - val_loss: 0.1730 - val_accuracy: 0.9386\n",
      "Epoch 437/3000\n",
      "16520/16520 [==============================] - 51s 3ms/step - loss: 0.1993 - accuracy: 0.9383 - val_loss: 0.1943 - val_accuracy: 0.9334\n",
      "Epoch 438/3000\n",
      "16520/16520 [==============================] - 51s 3ms/step - loss: 0.1936 - accuracy: 0.9395 - val_loss: 0.1596 - val_accuracy: 0.9438\n",
      "Epoch 439/3000\n",
      "16520/16520 [==============================] - 51s 3ms/step - loss: 0.1960 - accuracy: 0.9386 - val_loss: 0.1604 - val_accuracy: 0.9442\n",
      "Epoch 440/3000\n",
      "16520/16520 [==============================] - 50s 3ms/step - loss: 0.1914 - accuracy: 0.9400 - val_loss: 0.1622 - val_accuracy: 0.9453\n",
      "Epoch 441/3000\n",
      "16520/16520 [==============================] - 51s 3ms/step - loss: 0.1926 - accuracy: 0.9401 - val_loss: 0.1571 - val_accuracy: 0.9438\n",
      "Epoch 442/3000\n",
      "16520/16520 [==============================] - 51s 3ms/step - loss: 0.1932 - accuracy: 0.9396 - val_loss: 0.1696 - val_accuracy: 0.9386\n",
      "Epoch 443/3000\n",
      "16520/16520 [==============================] - 51s 3ms/step - loss: 0.1939 - accuracy: 0.9397 - val_loss: 0.1591 - val_accuracy: 0.9438\n",
      "Epoch 444/3000\n",
      "16520/16520 [==============================] - 51s 3ms/step - loss: 0.1890 - accuracy: 0.9407 - val_loss: 0.1719 - val_accuracy: 0.9386\n",
      "Epoch 445/3000\n",
      "16520/16520 [==============================] - 51s 3ms/step - loss: 0.1962 - accuracy: 0.9390 - val_loss: 0.2106 - val_accuracy: 0.9264\n",
      "Epoch 446/3000\n",
      "16520/16520 [==============================] - 51s 3ms/step - loss: 0.1940 - accuracy: 0.9398 - val_loss: 0.1706 - val_accuracy: 0.9399\n",
      "Epoch 447/3000\n",
      "16520/16520 [==============================] - 51s 3ms/step - loss: 0.1980 - accuracy: 0.9389 - val_loss: 0.1642 - val_accuracy: 0.9438\n",
      "Epoch 448/3000\n",
      "16520/16520 [==============================] - 51s 3ms/step - loss: 0.1914 - accuracy: 0.9399 - val_loss: 0.2029 - val_accuracy: 0.9291\n",
      "Epoch 449/3000\n",
      "16520/16520 [==============================] - 51s 3ms/step - loss: 0.1949 - accuracy: 0.9392 - val_loss: 0.1694 - val_accuracy: 0.9417\n",
      "Epoch 450/3000\n",
      "16520/16520 [==============================] - 51s 3ms/step - loss: 0.1915 - accuracy: 0.9400 - val_loss: 0.1666 - val_accuracy: 0.9425\n",
      "Epoch 451/3000\n",
      "16520/16520 [==============================] - 51s 3ms/step - loss: 0.1943 - accuracy: 0.9398 - val_loss: 0.1567 - val_accuracy: 0.9465\n",
      "Epoch 452/3000\n",
      "16520/16520 [==============================] - 51s 3ms/step - loss: 0.1970 - accuracy: 0.9389 - val_loss: 0.1932 - val_accuracy: 0.9292\n",
      "Epoch 453/3000\n",
      "16520/16520 [==============================] - 51s 3ms/step - loss: 0.1943 - accuracy: 0.9391 - val_loss: 0.1627 - val_accuracy: 0.9444\n",
      "Epoch 454/3000\n",
      "16520/16520 [==============================] - 51s 3ms/step - loss: 0.1971 - accuracy: 0.9387 - val_loss: 0.1562 - val_accuracy: 0.9449\n",
      "Epoch 455/3000\n",
      "16520/16520 [==============================] - 51s 3ms/step - loss: 0.1945 - accuracy: 0.9395 - val_loss: 0.1614 - val_accuracy: 0.9447\n",
      "Epoch 456/3000\n",
      "16520/16520 [==============================] - 51s 3ms/step - loss: 0.1909 - accuracy: 0.9404 - val_loss: 0.1663 - val_accuracy: 0.9428\n",
      "Epoch 457/3000\n",
      "16520/16520 [==============================] - 51s 3ms/step - loss: 0.1941 - accuracy: 0.9391 - val_loss: 0.1911 - val_accuracy: 0.9361\n",
      "Epoch 458/3000\n",
      "16520/16520 [==============================] - 51s 3ms/step - loss: 0.2052 - accuracy: 0.9380 - val_loss: 0.2523 - val_accuracy: 0.9048\n",
      "Epoch 459/3000\n",
      "16520/16520 [==============================] - 51s 3ms/step - loss: 0.2016 - accuracy: 0.9371 - val_loss: 0.1762 - val_accuracy: 0.9399\n",
      "Epoch 460/3000\n",
      "16520/16520 [==============================] - 51s 3ms/step - loss: 0.1944 - accuracy: 0.9394 - val_loss: 0.1778 - val_accuracy: 0.9376\n",
      "Epoch 461/3000\n",
      "16520/16520 [==============================] - 51s 3ms/step - loss: 0.1932 - accuracy: 0.9395 - val_loss: 0.1934 - val_accuracy: 0.9357\n",
      "Epoch 462/3000\n",
      "16520/16520 [==============================] - 51s 3ms/step - loss: 0.1943 - accuracy: 0.9398 - val_loss: 0.1686 - val_accuracy: 0.9395\n",
      "Epoch 463/3000\n",
      "16520/16520 [==============================] - 51s 3ms/step - loss: 0.1884 - accuracy: 0.9412 - val_loss: 0.1810 - val_accuracy: 0.9352\n",
      "Epoch 464/3000\n",
      "16520/16520 [==============================] - 51s 3ms/step - loss: 0.1915 - accuracy: 0.9402 - val_loss: 0.1798 - val_accuracy: 0.9367\n",
      "Epoch 465/3000\n",
      "16520/16520 [==============================] - 51s 3ms/step - loss: 0.1874 - accuracy: 0.9414 - val_loss: 0.1660 - val_accuracy: 0.9418\n",
      "Epoch 466/3000\n",
      "16520/16520 [==============================] - 51s 3ms/step - loss: 0.1977 - accuracy: 0.9386 - val_loss: 0.1936 - val_accuracy: 0.9300\n",
      "Epoch 467/3000\n",
      "16520/16520 [==============================] - 51s 3ms/step - loss: 0.1938 - accuracy: 0.9398 - val_loss: 0.1717 - val_accuracy: 0.9430\n",
      "Epoch 468/3000\n",
      "16520/16520 [==============================] - 51s 3ms/step - loss: 0.1978 - accuracy: 0.9386 - val_loss: 0.1687 - val_accuracy: 0.9391\n",
      "Epoch 469/3000\n",
      "16520/16520 [==============================] - 51s 3ms/step - loss: 0.1975 - accuracy: 0.9389 - val_loss: 0.1769 - val_accuracy: 0.9372\n",
      "Epoch 470/3000\n",
      "16520/16520 [==============================] - 51s 3ms/step - loss: 0.1983 - accuracy: 0.9381 - val_loss: 0.1655 - val_accuracy: 0.9431\n",
      "Epoch 471/3000\n",
      "16520/16520 [==============================] - 51s 3ms/step - loss: 0.1929 - accuracy: 0.9400 - val_loss: 0.1890 - val_accuracy: 0.9320\n",
      "Epoch 472/3000\n",
      "16520/16520 [==============================] - 51s 3ms/step - loss: 0.1951 - accuracy: 0.9397 - val_loss: 0.1769 - val_accuracy: 0.9401\n",
      "Epoch 473/3000\n",
      "16520/16520 [==============================] - 51s 3ms/step - loss: 0.1924 - accuracy: 0.9399 - val_loss: 0.1744 - val_accuracy: 0.9390\n",
      "Epoch 474/3000\n",
      "16520/16520 [==============================] - 51s 3ms/step - loss: 0.1903 - accuracy: 0.9403 - val_loss: 0.1702 - val_accuracy: 0.9388\n",
      "Epoch 475/3000\n",
      "16520/16520 [==============================] - 51s 3ms/step - loss: 0.1914 - accuracy: 0.9404 - val_loss: 0.1823 - val_accuracy: 0.9380\n",
      "Epoch 476/3000\n",
      "16520/16520 [==============================] - 51s 3ms/step - loss: 0.1947 - accuracy: 0.9394 - val_loss: 0.1735 - val_accuracy: 0.9420\n",
      "Epoch 477/3000\n",
      "16520/16520 [==============================] - 51s 3ms/step - loss: 0.1938 - accuracy: 0.9398 - val_loss: 0.1595 - val_accuracy: 0.9456\n",
      "Epoch 478/3000\n",
      "16520/16520 [==============================] - 51s 3ms/step - loss: 0.1916 - accuracy: 0.9397 - val_loss: 0.1673 - val_accuracy: 0.9438\n",
      "Epoch 479/3000\n",
      "16520/16520 [==============================] - 51s 3ms/step - loss: 0.1926 - accuracy: 0.9400 - val_loss: 0.1984 - val_accuracy: 0.9316\n",
      "Epoch 480/3000\n",
      "16520/16520 [==============================] - 51s 3ms/step - loss: 0.1992 - accuracy: 0.9384 - val_loss: 0.1676 - val_accuracy: 0.9406\n",
      "Epoch 481/3000\n",
      "16520/16520 [==============================] - 51s 3ms/step - loss: 0.1927 - accuracy: 0.9398 - val_loss: 0.1702 - val_accuracy: 0.9418\n",
      "Epoch 482/3000\n",
      "16520/16520 [==============================] - 51s 3ms/step - loss: 0.1943 - accuracy: 0.9393 - val_loss: 0.1627 - val_accuracy: 0.9441\n",
      "Epoch 483/3000\n",
      "16520/16520 [==============================] - 51s 3ms/step - loss: 0.1909 - accuracy: 0.9401 - val_loss: 0.1768 - val_accuracy: 0.9369\n",
      "Epoch 484/3000\n",
      "16520/16520 [==============================] - 51s 3ms/step - loss: 0.1948 - accuracy: 0.9393 - val_loss: 0.1650 - val_accuracy: 0.9419\n",
      "Epoch 485/3000\n",
      "16520/16520 [==============================] - 51s 3ms/step - loss: 0.1911 - accuracy: 0.9401 - val_loss: 0.1677 - val_accuracy: 0.9394\n",
      "Epoch 486/3000\n",
      "16520/16520 [==============================] - 51s 3ms/step - loss: 0.1877 - accuracy: 0.9408 - val_loss: 0.1559 - val_accuracy: 0.9470\n",
      "Epoch 487/3000\n",
      "16520/16520 [==============================] - 51s 3ms/step - loss: 0.1929 - accuracy: 0.9397 - val_loss: 0.1726 - val_accuracy: 0.9413\n",
      "Epoch 488/3000\n",
      "16520/16520 [==============================] - 51s 3ms/step - loss: 0.1902 - accuracy: 0.9405 - val_loss: 0.1589 - val_accuracy: 0.9450\n",
      "Epoch 489/3000\n",
      "16520/16520 [==============================] - 51s 3ms/step - loss: 0.2057 - accuracy: 0.9368 - val_loss: 0.1712 - val_accuracy: 0.9422\n",
      "Epoch 490/3000\n",
      "16520/16520 [==============================] - 51s 3ms/step - loss: 0.1887 - accuracy: 0.9407 - val_loss: 0.1619 - val_accuracy: 0.9437\n",
      "Epoch 491/3000\n",
      "16520/16520 [==============================] - 51s 3ms/step - loss: 0.1916 - accuracy: 0.9404 - val_loss: 0.1685 - val_accuracy: 0.9439\n",
      "Epoch 492/3000\n",
      "16520/16520 [==============================] - 51s 3ms/step - loss: 0.1938 - accuracy: 0.9397 - val_loss: 0.1838 - val_accuracy: 0.9358\n",
      "Epoch 493/3000\n",
      "16520/16520 [==============================] - 51s 3ms/step - loss: 0.1908 - accuracy: 0.9400 - val_loss: 0.1631 - val_accuracy: 0.9437\n",
      "Epoch 494/3000\n",
      "16520/16520 [==============================] - 51s 3ms/step - loss: 0.1931 - accuracy: 0.9399 - val_loss: 0.1577 - val_accuracy: 0.9431\n",
      "Epoch 495/3000\n",
      "16520/16520 [==============================] - 51s 3ms/step - loss: 0.1896 - accuracy: 0.9408 - val_loss: 0.1750 - val_accuracy: 0.9392\n",
      "Epoch 496/3000\n",
      "16520/16520 [==============================] - 51s 3ms/step - loss: 0.1917 - accuracy: 0.9400 - val_loss: 0.1648 - val_accuracy: 0.9432\n",
      "Epoch 497/3000\n",
      "16520/16520 [==============================] - 51s 3ms/step - loss: 0.1927 - accuracy: 0.9404 - val_loss: 0.1664 - val_accuracy: 0.9417\n",
      "Epoch 498/3000\n",
      "16520/16520 [==============================] - 51s 3ms/step - loss: 0.1911 - accuracy: 0.9403 - val_loss: 0.1595 - val_accuracy: 0.9423\n",
      "Epoch 499/3000\n",
      "16520/16520 [==============================] - 51s 3ms/step - loss: 0.1932 - accuracy: 0.9396 - val_loss: 0.1549 - val_accuracy: 0.9460\n",
      "Epoch 500/3000\n",
      "16520/16520 [==============================] - 51s 3ms/step - loss: 0.1902 - accuracy: 0.9404 - val_loss: 0.1652 - val_accuracy: 0.9419\n",
      "Epoch 501/3000\n",
      "16520/16520 [==============================] - 51s 3ms/step - loss: 0.1956 - accuracy: 0.9392 - val_loss: 0.1631 - val_accuracy: 0.9411\n",
      "Epoch 502/3000\n",
      "16520/16520 [==============================] - 51s 3ms/step - loss: 0.1942 - accuracy: 0.9394 - val_loss: 0.1772 - val_accuracy: 0.9408\n",
      "Epoch 503/3000\n",
      "16520/16520 [==============================] - 51s 3ms/step - loss: 0.1926 - accuracy: 0.9399 - val_loss: 0.1904 - val_accuracy: 0.9344\n",
      "Epoch 504/3000\n",
      "16520/16520 [==============================] - 51s 3ms/step - loss: 0.1919 - accuracy: 0.9398 - val_loss: 0.1669 - val_accuracy: 0.9405\n",
      "Epoch 505/3000\n",
      "16520/16520 [==============================] - 51s 3ms/step - loss: 0.1929 - accuracy: 0.9397 - val_loss: 0.1877 - val_accuracy: 0.9352\n",
      "Epoch 506/3000\n",
      "16520/16520 [==============================] - 51s 3ms/step - loss: 0.1947 - accuracy: 0.9388 - val_loss: 0.1999 - val_accuracy: 0.9290\n",
      "Epoch 507/3000\n",
      "16520/16520 [==============================] - 51s 3ms/step - loss: 0.1924 - accuracy: 0.9402 - val_loss: 0.1782 - val_accuracy: 0.9402\n",
      "Epoch 508/3000\n",
      "16520/16520 [==============================] - 51s 3ms/step - loss: 0.1896 - accuracy: 0.9406 - val_loss: 0.1563 - val_accuracy: 0.9471\n",
      "Epoch 509/3000\n",
      "16520/16520 [==============================] - 51s 3ms/step - loss: 0.1916 - accuracy: 0.9402 - val_loss: 0.1540 - val_accuracy: 0.9458\n",
      "Epoch 510/3000\n",
      "16520/16520 [==============================] - 51s 3ms/step - loss: 0.1906 - accuracy: 0.9405 - val_loss: 0.1629 - val_accuracy: 0.9426\n",
      "Epoch 511/3000\n",
      "16520/16520 [==============================] - 51s 3ms/step - loss: 0.1987 - accuracy: 0.9393 - val_loss: 0.1607 - val_accuracy: 0.9454\n",
      "Epoch 512/3000\n",
      "16520/16520 [==============================] - 51s 3ms/step - loss: 0.1905 - accuracy: 0.9405 - val_loss: 0.1697 - val_accuracy: 0.9415\n",
      "Epoch 513/3000\n",
      "16520/16520 [==============================] - 51s 3ms/step - loss: 0.1937 - accuracy: 0.9396 - val_loss: 0.1538 - val_accuracy: 0.9461\n",
      "Epoch 514/3000\n",
      "16520/16520 [==============================] - 51s 3ms/step - loss: 0.1921 - accuracy: 0.9403 - val_loss: 0.1648 - val_accuracy: 0.9403\n",
      "Epoch 515/3000\n",
      "16520/16520 [==============================] - 51s 3ms/step - loss: 0.1910 - accuracy: 0.9407 - val_loss: 0.1650 - val_accuracy: 0.9422\n",
      "Epoch 516/3000\n",
      "16520/16520 [==============================] - 51s 3ms/step - loss: 0.1925 - accuracy: 0.9404 - val_loss: 0.1758 - val_accuracy: 0.9408\n",
      "Epoch 517/3000\n",
      "16520/16520 [==============================] - 51s 3ms/step - loss: 0.1892 - accuracy: 0.9411 - val_loss: 0.1661 - val_accuracy: 0.9431\n",
      "Epoch 518/3000\n",
      "16520/16520 [==============================] - 51s 3ms/step - loss: 0.1937 - accuracy: 0.9403 - val_loss: 0.1562 - val_accuracy: 0.9465\n",
      "Epoch 519/3000\n",
      "16520/16520 [==============================] - 51s 3ms/step - loss: 0.1947 - accuracy: 0.9397 - val_loss: 0.1645 - val_accuracy: 0.9423\n",
      "Epoch 520/3000\n",
      "16520/16520 [==============================] - 51s 3ms/step - loss: 0.1942 - accuracy: 0.9402 - val_loss: 0.1665 - val_accuracy: 0.9411\n",
      "Epoch 521/3000\n",
      "16520/16520 [==============================] - 51s 3ms/step - loss: 0.1882 - accuracy: 0.9412 - val_loss: 0.1650 - val_accuracy: 0.9432\n",
      "Epoch 522/3000\n",
      "16520/16520 [==============================] - 51s 3ms/step - loss: 0.1900 - accuracy: 0.9403 - val_loss: 0.1662 - val_accuracy: 0.9449\n",
      "Epoch 523/3000\n",
      "16520/16520 [==============================] - 51s 3ms/step - loss: 0.1941 - accuracy: 0.9397 - val_loss: 0.1628 - val_accuracy: 0.9438\n",
      "Epoch 524/3000\n",
      "16520/16520 [==============================] - 51s 3ms/step - loss: 0.1926 - accuracy: 0.9400 - val_loss: 0.1678 - val_accuracy: 0.9424\n",
      "Epoch 525/3000\n",
      "16520/16520 [==============================] - 51s 3ms/step - loss: 0.1961 - accuracy: 0.9397 - val_loss: 0.1698 - val_accuracy: 0.9423\n",
      "Epoch 526/3000\n",
      "16520/16520 [==============================] - 51s 3ms/step - loss: 0.1965 - accuracy: 0.9393 - val_loss: 0.1819 - val_accuracy: 0.9405\n",
      "Epoch 527/3000\n",
      "16520/16520 [==============================] - 51s 3ms/step - loss: 0.1947 - accuracy: 0.9396 - val_loss: 0.1752 - val_accuracy: 0.9391\n",
      "Epoch 528/3000\n",
      "16520/16520 [==============================] - 51s 3ms/step - loss: 0.1883 - accuracy: 0.9408 - val_loss: 0.1612 - val_accuracy: 0.9427\n",
      "Epoch 529/3000\n",
      "16520/16520 [==============================] - 51s 3ms/step - loss: 0.1875 - accuracy: 0.9412 - val_loss: 0.2091 - val_accuracy: 0.9273\n",
      "Epoch 530/3000\n",
      "16520/16520 [==============================] - 51s 3ms/step - loss: 0.1959 - accuracy: 0.9389 - val_loss: 0.1668 - val_accuracy: 0.9439\n",
      "Epoch 531/3000\n",
      "16520/16520 [==============================] - 51s 3ms/step - loss: 0.1893 - accuracy: 0.9410 - val_loss: 0.1581 - val_accuracy: 0.9445\n",
      "Epoch 532/3000\n",
      "16520/16520 [==============================] - 51s 3ms/step - loss: 0.1893 - accuracy: 0.9410 - val_loss: 0.1669 - val_accuracy: 0.9402\n",
      "Epoch 533/3000\n",
      "16520/16520 [==============================] - 51s 3ms/step - loss: 0.1890 - accuracy: 0.9407 - val_loss: 0.1526 - val_accuracy: 0.9441\n",
      "Epoch 534/3000\n",
      "16520/16520 [==============================] - 51s 3ms/step - loss: 0.1908 - accuracy: 0.9406 - val_loss: 0.1718 - val_accuracy: 0.9376\n",
      "Epoch 535/3000\n",
      "16520/16520 [==============================] - 51s 3ms/step - loss: 0.1881 - accuracy: 0.9409 - val_loss: 0.1668 - val_accuracy: 0.9380\n",
      "Epoch 536/3000\n",
      "16520/16520 [==============================] - 51s 3ms/step - loss: 0.1870 - accuracy: 0.9411 - val_loss: 0.1604 - val_accuracy: 0.9442\n",
      "Epoch 537/3000\n",
      "16520/16520 [==============================] - 51s 3ms/step - loss: 0.1950 - accuracy: 0.9393 - val_loss: 0.1610 - val_accuracy: 0.9418\n",
      "Epoch 538/3000\n",
      "16520/16520 [==============================] - 51s 3ms/step - loss: 0.1880 - accuracy: 0.9410 - val_loss: 0.1768 - val_accuracy: 0.9398\n",
      "Epoch 539/3000\n",
      "16520/16520 [==============================] - 51s 3ms/step - loss: 0.1920 - accuracy: 0.9401 - val_loss: 0.1669 - val_accuracy: 0.9431\n",
      "Epoch 540/3000\n",
      "16520/16520 [==============================] - 51s 3ms/step - loss: 0.1877 - accuracy: 0.9414 - val_loss: 0.1515 - val_accuracy: 0.9450\n",
      "Epoch 541/3000\n",
      "10703/16520 [==================>...........] - ETA: 17s - loss: 0.1914 - accuracy: 0.9410"
     ]
    }
   ],
   "source": [
    "# from tensorflow.keras import backend as K\n",
    "# K.set_value(model.optimizer.learning_rate, 1e-4)\n",
    "\n",
    "model.fit(\n",
    "    x_tr, y_tr, \n",
    "    batch_size=64, \n",
    "    epochs=3000,\n",
    "    class_weight={0: 1, 1: 1, 2: 1, 3: 10},\n",
    "    shuffle=True,\n",
    "    validation_data=(x_val, y_val),\n",
    "    verbose=1)"
   ]
  },
  {
   "cell_type": "code",
   "execution_count": 1,
   "metadata": {},
   "outputs": [
    {
     "ename": "NameError",
     "evalue": "name 'model' is not defined",
     "output_type": "error",
     "traceback": [
      "\u001b[0;31m---------------------------------------------------------------------------\u001b[0m",
      "\u001b[0;31mNameError\u001b[0m                                 Traceback (most recent call last)",
      "\u001b[0;32m<ipython-input-1-55954d2e7d19>\u001b[0m in \u001b[0;36m<module>\u001b[0;34m\u001b[0m\n\u001b[1;32m     16\u001b[0m \u001b[0;34m\u001b[0m\u001b[0m\n\u001b[1;32m     17\u001b[0m \u001b[0;32mfrom\u001b[0m \u001b[0mtensorflow\u001b[0m\u001b[0;34m.\u001b[0m\u001b[0mkeras\u001b[0m \u001b[0;32mimport\u001b[0m \u001b[0mbackend\u001b[0m \u001b[0;32mas\u001b[0m \u001b[0mK\u001b[0m\u001b[0;34m\u001b[0m\u001b[0;34m\u001b[0m\u001b[0m\n\u001b[0;32m---> 18\u001b[0;31m \u001b[0mcompute_logits\u001b[0m \u001b[0;34m=\u001b[0m \u001b[0mK\u001b[0m\u001b[0;34m.\u001b[0m\u001b[0mfunction\u001b[0m\u001b[0;34m(\u001b[0m\u001b[0;34m[\u001b[0m\u001b[0mmodel\u001b[0m\u001b[0;34m.\u001b[0m\u001b[0mlayers\u001b[0m\u001b[0;34m[\u001b[0m\u001b[0;36m0\u001b[0m\u001b[0;34m]\u001b[0m\u001b[0;34m.\u001b[0m\u001b[0minput\u001b[0m\u001b[0;34m]\u001b[0m\u001b[0;34m,\u001b[0m \u001b[0;34m[\u001b[0m\u001b[0mmodel\u001b[0m\u001b[0;34m.\u001b[0m\u001b[0mlayers\u001b[0m\u001b[0;34m[\u001b[0m\u001b[0;34m-\u001b[0m\u001b[0;36m2\u001b[0m\u001b[0;34m]\u001b[0m\u001b[0;34m.\u001b[0m\u001b[0moutput\u001b[0m\u001b[0;34m]\u001b[0m\u001b[0;34m)\u001b[0m\u001b[0;34m\u001b[0m\u001b[0;34m\u001b[0m\u001b[0m\n\u001b[0m\u001b[1;32m     19\u001b[0m \u001b[0;34m\u001b[0m\u001b[0m\n\u001b[1;32m     20\u001b[0m \u001b[0my_logits\u001b[0m \u001b[0;34m=\u001b[0m \u001b[0mcompute_logits\u001b[0m\u001b[0;34m(\u001b[0m\u001b[0mx_train\u001b[0m\u001b[0;34m)\u001b[0m\u001b[0;34m[\u001b[0m\u001b[0;36m0\u001b[0m\u001b[0;34m]\u001b[0m\u001b[0;34m\u001b[0m\u001b[0;34m\u001b[0m\u001b[0m\n",
      "\u001b[0;31mNameError\u001b[0m: name 'model' is not defined"
     ]
    }
   ],
   "source": [
    "# Implement temperature scaling for calibration\n",
    "def temp_scaling(y_logits, y_val, max_iter=150):\n",
    "    temp = tf.Variable(initial_value=1.0, trainable=True, dtype=tf.float32)\n",
    "    def compute_loss():\n",
    "        y_pred_model_w_temp = tf.math.divide(y_logits, temp)\n",
    "        loss = tf.reduce_mean(tf.nn.softmax_cross_entropy_with_logits(\\\n",
    "          tf.convert_to_tensor(tf.keras.utils.to_categorical(y_val)), \\\n",
    "                               y_pred_model_w_temp))\n",
    "        return loss\n",
    "    optimizer = tf.optimizers.Adam()\n",
    "    print('Temperature Initial value: {}'.format(temp.numpy()))\n",
    "    for i in range(max_iter):\n",
    "        opts = optimizer.minimize(compute_loss, var_list=[temp])\n",
    "    print('Temperature Final value: {}'.format(temp.numpy()))\n",
    "    return temp.numpy()\n",
    "\n",
    "from tensorflow.keras import backend as K\n",
    "compute_logits = K.function([model.layers[0].input], [model.layers[-2].output])\n",
    "\n",
    "y_logits = compute_logits(x_train)[0]\n",
    "temp = temp_scaling(y_logits, y_train)"
   ]
  },
  {
   "cell_type": "code",
   "execution_count": null,
   "metadata": {},
   "outputs": [],
   "source": [
    "import numpy as np"
   ]
  },
  {
   "cell_type": "code",
   "execution_count": null,
   "metadata": {},
   "outputs": [],
   "source": [
    "from sklearn.metrics import classification_report\n",
    "\n",
    "y_pred = np.argmax(model.predict(x_val), axis=1)\n",
    "print(classification_report(y_val, y_pred))"
   ]
  },
  {
   "cell_type": "code",
   "execution_count": 16,
   "metadata": {},
   "outputs": [],
   "source": [
    "os.chdir('/home/code-base/user_space/ai-badminton/TrackNetv2/3_in_3_out')"
   ]
  },
  {
   "cell_type": "code",
   "execution_count": 17,
   "metadata": {},
   "outputs": [],
   "source": [
    "from tensorflow.python.keras.saving import hdf5_format\n",
    "import h5py\n",
    "\n",
    "with h5py.File('./hitnet_conv_model_predict_player_and_hit_big_augmentation_new_poses.h5', mode='w') as f:\n",
    "    hdf5_format.save_model_to_hdf5(model, f)\n",
    "    f.attrs['temperature'] = temp"
   ]
  },
  {
   "cell_type": "markdown",
   "metadata": {
    "tags": []
   },
   "source": [
    "# Look at mis-predicted shots"
   ]
  },
  {
   "cell_type": "code",
   "execution_count": 100,
   "metadata": {
    "jupyter": {
     "source_hidden": true
    },
    "tags": []
   },
   "outputs": [],
   "source": [
    "os.getcwd()\n",
    "os.chdir('/home/code-base/user_space/ai-badminton/notebooks')"
   ]
  },
  {
   "cell_type": "code",
   "execution_count": 110,
   "metadata": {
    "collapsed": true,
    "jupyter": {
     "outputs_hidden": true,
     "source_hidden": true
    },
    "tags": []
   },
   "outputs": [
    {
     "name": "stdout",
     "output_type": "stream",
     "text": [
      "Check match1 1_01_00.mp4 2\n",
      "Check match1 1_03_06.mp4 1\n",
      "Check match1 1_02_04.mp4 2\n",
      "Check match1 1_02_03.mp4 1\n",
      "Check match1 1_02_00.mp4 1\n",
      "Check match1 1_06_09.mp4 2\n",
      "Check match1 1_02_02.mp4 1\n",
      "Check match1 1_03_04.mp4 2\n",
      "Check match1 1_06_08.mp4 1\n",
      "Check match1 1_03_05.mp4 2\n",
      "Check match1 1_06_06.mp4 2\n",
      "Check match1 1_02_01.mp4 2\n",
      "Check match2 1_00_02.mp4 1\n",
      "Check match2 1_02_03.mp4 2\n",
      "Check match2 1_06_09.mp4 2\n",
      "Check match2 1_09_12.mp4 1\n",
      "Check match2 1_08_12.mp4 2\n",
      "Check match2 1_06_08.mp4 1\n",
      "Check match2 1_08_11.mp4 1\n",
      "Check match2 1_04_03.mp4 2\n",
      "Check match3 1_01_00.mp4 2\n",
      "Check match3 3_11_10.mp4 2\n",
      "Check match3 2_04_07.mp4 2\n",
      "Check match3 2_10_12.mp4 1\n",
      "Check match3 1_08_10.mp4 2\n",
      "Check match3 2_18_15.mp4 2\n",
      "Check match3 1_12_17.mp4 2\n",
      "Check match4 3_07_05.mp4 2\n",
      "Check match4 2_14_17.mp4 2\n",
      "Check match4 1_15_10.mp4 2\n",
      "Check match4 2_02_05.mp4 2\n",
      "Check match4 1_03_02.mp4 2\n",
      "Check match4 2_05_07.mp4 2\n",
      "Check match4 3_02_00.mp4 2\n",
      "Check match4 3_18_17.mp4 2\n",
      "Check match5 1_19_18.mp4 2\n",
      "Check match5 2_20_17.mp4 1\n",
      "Check match5 1_01_01.mp4 2\n",
      "Check match5 1_01_02.mp4 1\n",
      "Check match5 2_15_13.mp4 1\n",
      "Check match5 1_21_19.mp4 2\n"
     ]
    }
   ],
   "source": [
    "outvid = cv2.VideoWriter('./output/mispredicted.mp4', cv2.VideoWriter_fourcc('M','P','4','V'), 10, (width, height))\n",
    "\n",
    "for match in matches[:5]:\n",
    "    for video in os.listdir('/home/code-base/scratch_space/data/%s/rally_video/' % match):\n",
    "        cap = cv2.VideoCapture('/home/code-base/scratch_space/data/%s/rally_video/%s' % (match, video))\n",
    "        shape = cap.read()[1].shape\n",
    "        height, width = shape[0], shape[1]\n",
    "\n",
    "        rally, _ = os.path.splitext(video)\n",
    "        trajectory = pd.read_csv('/home/code-base/scratch_space/data/%s/ball_trajectory/%s_ball.csv' % (match, rally))\n",
    "        hit = pd.read_csv('/home/code-base/scratch_space/data/%s/shot/%s_hit.csv' % (match, rally))\n",
    "        trajectory[trajectory.X == 0] = float('nan')\n",
    "        trajectory[trajectory.Y == 0] = float('nan')\n",
    "        \n",
    "        trajectory = trajectory.assign(X=trajectory.X.interpolate(method='slinear'))\n",
    "        trajectory = trajectory.assign(Y=trajectory.Y.interpolate(method='slinear'))\n",
    "        trajectory.fillna(method='bfill', inplace=True)\n",
    "        trajectory.fillna(method='ffill', inplace=True)\n",
    "        \n",
    "        bottom_player = pd.read_csv('/home/code-base/scratch_space/data/%s/poses/%s_bottom.csv' % (match, rally))\n",
    "        top_player = pd.read_csv('/home/code-base/scratch_space/data/%s/poses/%s_top.csv' % (match, rally))\n",
    "        bottom_player.drop('frame', axis=1, inplace=True)\n",
    "        top_player.drop('frame', axis=1, inplace=True)\n",
    "        bottom_player.fillna(0, inplace=True)\n",
    "        top_player.fillna(0, inplace=True)\n",
    "        \n",
    "        x_list, y_list = [], []\n",
    "        court_pts = read_court('/home/code-base/scratch_space/data/%s/court/%s.out' % (match, rally))\n",
    "        corners = np.array([court_pts[1], court_pts[2], court_pts[0], court_pts[3]]).flatten()\n",
    "\n",
    "        # Identify first hit by distance to pose\n",
    "        # and then alternate hits\n",
    "        def dist_to_pose(pose, p):\n",
    "            pose = pose.reshape(17, 2)\n",
    "            p = p.reshape(1, 2)\n",
    "            D = np.sum((pose - p) * (pose - p), axis=1)\n",
    "            return min(D)\n",
    "        \n",
    "        y_new = np.array(hit.hit.to_numpy())\n",
    "        last = -1\n",
    "        for i in range(y_new.shape[0]):\n",
    "            if not y_new[i]:\n",
    "                continue\n",
    "                \n",
    "            if last == -1:\n",
    "                p = np.array([trajectory.X[i], trajectory.Y[i]])\n",
    "                db = dist_to_pose(bottom_player.values[i], p)\n",
    "                dt = dist_to_pose(top_player.values[i], p)\n",
    "                ratio = max((db/dt)**0.5, (dt/db)**0.5)\n",
    "                \n",
    "                if dt < db:\n",
    "                    y_new[i] = 2\n",
    "                else:\n",
    "                    y_new[i] = 1\n",
    "                last = y_new[i]\n",
    "                \n",
    "                # Bad cases are all 2's\n",
    "                if 0.9 < ratio < 1.1:\n",
    "                    y_new[i] = 1\n",
    "                print('Check', match, video, last)\n",
    "            else:\n",
    "                y_new[i] = 3 - last\n",
    "                last = y_new[i]\n",
    "        \n",
    "        for i in range(num_consec):\n",
    "            end = min(len(trajectory.X), len(hit.hit))-num_consec+i+1\n",
    "            x_bird = np.array(list(zip(trajectory.X[i:end], trajectory.Y[i:end])))\n",
    "\n",
    "            # Use entire pose\n",
    "            x_pose = np.hstack([bottom_player.values[i:end], top_player.values[i:end]])\n",
    "            x = np.hstack([x_bird, x_pose, np.array([corners for j in range(i, end)])])\n",
    "\n",
    "            y = y_new[i:end]\n",
    "            x_list.append(x)\n",
    "            y_list.append(y)\n",
    "\n",
    "        x_t = np.hstack(x_list)\n",
    "        y_t = np.max(np.column_stack(y_list[2:-2]), axis=1)\n",
    "        y_pred = np.argmax(model.predict(x_t), axis=1)\n",
    "        \n",
    "        nframes = len(hit.hit)\n",
    "        is_bad = [0] * nframes\n",
    "        for i in range(y_t.shape[0]):\n",
    "            if y_t[i] > 0 and y_t[i] != y_pred[i]:\n",
    "                for j in range(max(0, i-20), min(nframes, i+20)):\n",
    "                    if abs(j-i) < 4:\n",
    "                        if y_pred[i] > 0:\n",
    "                            is_bad[j] = 3\n",
    "                        else:\n",
    "                            is_bad[j] = 2\n",
    "                    elif is_bad[j] == 0:\n",
    "                        is_bad[j] = 1\n",
    "        \n",
    "        for i in range(nframes):\n",
    "            if is_bad[i]:\n",
    "                cap.set(cv2.CAP_PROP_POS_FRAMES, i)\n",
    "                ret, frame = cap.read()\n",
    "                if is_bad[i] == 3:\n",
    "                    frame[-50:, -50:] = np.array([255, 0, 0])\n",
    "                elif is_bad[i] == 2:\n",
    "                    frame[-50:, -50:] = np.array([0, 0, 255])\n",
    "                    \n",
    "                centre = (int(trajectory.X[i]), int(trajectory.Y[i]))\n",
    "                radius = 5\n",
    "                colour = (0, 255, 0)\n",
    "                thickness = -1\n",
    "                frame = cv2.circle(frame, centre, radius, colour, thickness)\n",
    "                \n",
    "                players = [bottom_player.values, top_player.values]\n",
    "                for j in range(2):\n",
    "                    xy = players[j][i]\n",
    "                    pose = Pose()\n",
    "                    pose.init_from_kparray(xy)\n",
    "                    player_poses.append(pose)\n",
    "                    frame = pose.draw_skeleton(frame, colour=(128, 128 + j * 127, 128))\n",
    "                outvid.write(frame)\n",
    "outvid.release()"
   ]
  },
  {
   "cell_type": "markdown",
   "metadata": {},
   "source": [
    "# Create network to identify who hit the shuttle"
   ]
  },
  {
   "cell_type": "code",
   "execution_count": 5,
   "metadata": {},
   "outputs": [],
   "source": [
    "import matplotlib.pyplot as plt\n",
    "import tensorflow as tf\n",
    "import math\n",
    "\n",
    "from ai_badminton.trajectory import Trajectory\n",
    "from ai_badminton.hit_detector import AdhocHitDetector, MLHitDetector\n",
    "from ai_badminton.pose import Pose, read_player_poses, process_pose_file\n",
    "from ai_badminton.court import Court, read_court\n",
    "from ai_badminton.video_annotator import annotate_video"
   ]
  },
  {
   "cell_type": "code",
   "execution_count": 18,
   "metadata": {
    "tags": []
   },
   "outputs": [
    {
     "name": "stdout",
     "output_type": "stream",
     "text": [
      "match1 1_02_00 1 [13, 5]\n",
      "match1 1_02_04 is hard [1, 1] [7059.074806800006, 859.8963510596025]\n",
      "Manual label applied.\n",
      "match1 1_06_08 1 [4, 0]\n",
      "Manual label applied.\n",
      "match1 1_02_02 1 [5, 1]\n",
      "Manual label applied.\n",
      "match1 1_06_06 2 [0, 5]\n",
      "match1 1_03_05 2 [3, 10]\n",
      "match1 1_02_01 2 [0, 6]\n",
      "Manual label applied.\n",
      "match1 1_03_04 2 [0, 3]\n",
      "Manual label applied.\n",
      "match1 1_06_09 1 [11, 3]\n",
      "match1 1_02_03 is hard [1, 0] [5729.763825145301, 1e+99]\n",
      "Manual label applied.\n",
      "match1 1_03_06 2 [3, 5]\n",
      "match1 1_01_00 2 [1, 9]\n",
      "match2 1_00_02 1 [17, 1]\n",
      "match2 1_08_11 1 [6, 1]\n",
      "match2 1_06_08 1 [7, 0]\n",
      "match2 1_09_12 1 [11, 0]\n",
      "match2 1_08_12 1 [5, 1]\n",
      "match2 1_04_03 2 [1, 5]\n",
      "match2 1_06_09 2 [0, 10]\n",
      "match2 1_02_03 2 [0, 5]\n",
      "match3 2_04_07 2 [6, 15]\n",
      "match3 2_18_15 2 [0, 37]\n",
      "match3 1_12_17 2 [3, 5]\n",
      "match3 3_11_10 2 [0, 6]\n",
      "match3 2_10_12 1 [5, 1]\n",
      "match3 1_08_10 is hard [1, 2] [4583.862849142903, 1176.3588272543989]\n",
      "Manual label applied.\n",
      "match3 1_01_00 2 [0, 13]\n",
      "match4 2_14_17 1 [5, 3]\n",
      "match4 3_07_05 1 [4, 1]\n",
      "match4 3_02_00 2 [3, 10]\n",
      "match4 2_02_05 2 [3, 15]\n",
      "match4 3_18_17 1 [17, 7]\n",
      "match4 1_15_10 1 [13, 3]\n",
      "match4 1_03_02 1 [11, 5]\n",
      "match4 2_05_07 2 [3, 11]\n",
      "match5 1_01_01 2 [1, 27]\n",
      "match5 1_01_02 1 [17, 2]\n",
      "match5 1_19_18 2 [0, 9]\n",
      "match5 2_15_13 1 [22, 0]\n",
      "match5 2_20_17 1 [28, 0]\n",
      "match5 1_21_19 2 [1, 28]\n",
      "match6 1_02_00 1 [14, 0]\n",
      "match6 1_11_04 1 [19, 1]\n",
      "match6 1_15_06 2 [0, 26]\n",
      "match6 1_05_03 2 [0, 38]\n",
      "match6 1_19_12 2 [0, 10]\n",
      "match7 2_14_15 1 [16, 2]\n",
      "match7 1_02_01 1 [22, 1]\n",
      "match7 1_12_13 1 [16, 4]\n",
      "match7 3_08_05 2 [0, 17]\n",
      "match7 2_05_03 2 [2, 28]\n",
      "match8 2_03_06 2 [0, 34]\n",
      "match8 3_02_00 2 [0, 2]\n",
      "Manual label applied.\n",
      "match8 3_15_08 1 [4, 0]\n",
      "match8 2_10_12 1 [17, 0]\n",
      "match8 3_17_12 2 [1, 16]\n",
      "match8 1_05_13 2 [1, 8]\n",
      "match8 3_21_13 1 [11, 1]\n",
      "match8 1_01_00 1 [11, 0]\n",
      "match9 1_07_07 1 [9, 2]\n",
      "match9 1_01_03 2 [3, 33]\n",
      "match9 1_06_06 1 [8, 0]\n",
      "match9 1_07_14 1 [8, 0]\n",
      "match9 1_07_10 1 [20, 1]\n",
      "match9 1_05_06 1 [11, 0]\n",
      "match9 1_02_03 2 [0, 13]\n",
      "match9 1_07_11 2 [1, 9]\n",
      "match9 1_04_05 1 [9, 1]\n",
      "match10 1_12_16 1 [11, 3]\n",
      "match10 1_03_03 2 [3, 15]\n",
      "match10 2_14_08 2 [1, 22]\n",
      "match10 1_03_01 1 [15, 2]\n",
      "match10 2_04_02 1 [9, 2]\n",
      "match11 2_05_00 1 [13, 0]\n",
      "match11 1_03_01 2 [1, 12]\n",
      "match11 1_13_13 1 [25, 5]\n",
      "match11 2_15_04 1 [21, 3]\n",
      "match11 1_07_06 1 [11, 1]\n",
      "match12 1_10_12 2 [10, 15]\n",
      "match12 3_03_03 2 [1, 12]\n",
      "match12 2_01_01 2 [0, 14]\n",
      "match12 2_05_14 1 [24, 1]\n",
      "match12 1_01_00 1 [21, 0]\n",
      "match13 2_09_08 2 [0, 4]\n",
      "match13 1_09_10 1 [18, 2]\n",
      "match13 1_17_15 2 [3, 8]\n",
      "match13 2_06_05 1 [27, 3]\n",
      "match13 2_17_11 2 [2, 13]\n",
      "match13 2_07_05 1 [5, 0]\n",
      "match14 2_21_17 2 [2, 12]\n",
      "match14 2_15_10 1 [5, 0]\n",
      "match14 2_13_06 2 [4, 13]\n",
      "match14 2_19_13 1 [21, 1]\n",
      "match14 1_17_14 2 [0, 25]\n",
      "match15 1_21_12 1 [8, 0]\n",
      "match15 2_14_08 1 [6, 0]\n",
      "match15 2_19_14 2 [0, 25]\n",
      "match15 2_16_12 2 [1, 20]\n",
      "match15 2_18_14 2 [3, 32]\n",
      "match16 1_13_20 1 [12, 0]\n",
      "match16 3_14_09 1 [11, 0]\n",
      "match16 3_12_06 2 [8, 12]\n",
      "match16 1_03_06 2 [4, 15]\n",
      "match16 2_08_08 1 [13, 4]\n",
      "match16 3_17_16 1 [12, 1]\n",
      "match17 1_15_13 1 [14, 0]\n",
      "match17 2_08_05 2 [1, 15]\n",
      "match17 1_02_02 2 [2, 8]\n",
      "match17 2_18_11 2 [0, 13]\n",
      "match17 2_01_01 1 [14, 1]\n",
      "match17 2_15_11 1 [13, 0]\n",
      "match18 3_12_14 2 [2, 12]\n",
      "match18 3_03_05 2 [2, 26]\n",
      "match18 3_20_19 1 [16, 0]\n",
      "match18 2_02_02 1 [16, 0]\n",
      "match18 1_06_12 1 [12, 1]\n",
      "match18 3_16_17 1 [12, 1]\n",
      "match19 1_01_01 2 [0, 13]\n",
      "match19 2_12_06 1 [14, 0]\n",
      "match19 2_14_08 2 [1, 9]\n",
      "match19 1_01_03 1 [25, 2]\n",
      "match19 1_07_08 2 [0, 12]\n",
      "match20 2_00_01 1 [8, 1]\n",
      "match20 1_09_05 2 [3, 17]\n",
      "match20 2_05_08 1 [25, 0]\n",
      "match20 2_19_14 2 [1, 15]\n",
      "match20 2_07_08 1 [11, 1]\n",
      "match20 1_11_10 2 [0, 15]\n",
      "match21 2_09_08 1 [24, 0]\n",
      "match21 2_02_03 2 [0, 17]\n",
      "match21 1_19_19 1 [8, 1]\n",
      "match21 2_12_08 2 [0, 13]\n",
      "match21 1_02_01 2 [0, 16]\n",
      "match21 1_16_17 1 [22, 1]\n",
      "match21 2_04_04 1 [14, 0]\n",
      "match22 2_17_18 1 [21, 2]\n",
      "match22 3_15_13 1 [12, 2]\n",
      "match22 1_02_01 1 [27, 5]\n",
      "match22 2_18_18 2 [2, 17]\n",
      "match22 1_07_02 1 [12, 1]\n"
     ]
    }
   ],
   "source": [
    "import os\n",
    "import pandas as pd\n",
    "import numpy as np\n",
    "import cv2\n",
    "\n",
    "def read_court(filename):\n",
    "    file = open(filename, 'r')\n",
    "    coordinates = [[float(x) for x in line.split(';')] for line in file]\n",
    "    return coordinates\n",
    "\n",
    "num_consec = 10\n",
    "matches = list('match' + str(i) for i in range(1, 23))\n",
    "\n",
    "from sklearn.preprocessing import MinMaxScaler, StandardScaler, minmax_scale\n",
    "\n",
    "manual_label = {\n",
    "    ('match1', '1_02_04'): 2,\n",
    "    ('match1', '1_06_08'): 1,\n",
    "    ('match1', '1_02_02'): 1,\n",
    "    ('match1', '1_02_01'): 2,\n",
    "    ('match1', '1_03_04'): 2,\n",
    "    ('match1', '1_02_03'): 1,\n",
    "    ('match3', '1_08_10'): 2,\n",
    "    ('match8', '3_02_00'): 2,\n",
    "}\n",
    "\n",
    "x_train, y_train = [], []\n",
    "for match in matches:\n",
    "    for video in os.listdir('/home/code-base/scratch_space/data/%s/rally_video/' % match):\n",
    "        cap = cv2.VideoCapture('/home/code-base/scratch_space/data/%s/rally_video/%s' % (match, video))\n",
    "        shape = cap.read()[1].shape\n",
    "        height, width = shape[0], shape[1]\n",
    "\n",
    "        rally, _ = os.path.splitext(video)\n",
    "        trajectory = Trajectory('/home/code-base/scratch_space/data/%s/ball_trajectory/%s_ball.csv' % (match, rally))\n",
    "        hit = pd.read_csv('/home/code-base/scratch_space/data/%s/shot/%s_hit.csv' % (match, rally))\n",
    "        \n",
    "        poses = read_player_poses('/home/code-base/scratch_space/data/%s/poses/%s' % (match, rally))\n",
    "        bottom_player, top_player = poses[0], poses[1]\n",
    "        \n",
    "        x_list, y_list = [], []\n",
    "        court_pts = read_court('/home/code-base/scratch_space/data/%s/court/%s.out' % (match, rally))\n",
    "        corners = np.array([court_pts[1], court_pts[2], court_pts[0], court_pts[3]]).flatten()\n",
    "    \n",
    "        def reflect(x):\n",
    "            x_ = np.array(x)\n",
    "            for i in range(0, x.shape[1], 2):\n",
    "                x_[:, i] = width - x_[:, i]\n",
    "            return x_\n",
    "\n",
    "        # Identify first hit by distance to pose\n",
    "        # and then alternate hits\n",
    "        def dist_to_pose(pose, p):\n",
    "            pose = pose.reshape(17, 2)\n",
    "            p = p.reshape(1, 2)\n",
    "            D = np.sum((pose - p) * (pose - p), axis=1)\n",
    "            return min(D)\n",
    "        \n",
    "        y_new = np.array(hit.hit.to_numpy())\n",
    "        # Majority vote for who started the rally\n",
    "        # If hit number is odd, then whoever started the rally\n",
    "        # is the opposite of whoever was detected.\n",
    "        votes = [0, 0]\n",
    "        best_dist = [1e99, 1e99]\n",
    "        nhit = 0\n",
    "        for i in range(y_new.shape[0]):\n",
    "            if not y_new[i]:\n",
    "                continue\n",
    "            \n",
    "            p = np.array([trajectory.X[i], trajectory.Y[i]])\n",
    "            db = dist_to_pose(bottom_player.values[i], p)\n",
    "            dt = dist_to_pose(top_player.values[i], p)\n",
    "            person = 0\n",
    "            if db < dt:\n",
    "                person = 1\n",
    "            else:\n",
    "                person = 2\n",
    "            \n",
    "            if nhit % 2:\n",
    "                person = 3 - person\n",
    "                \n",
    "            votes[person - 1] += 1\n",
    "            best_dist[person - 1] = min(best_dist[person - 1], min(db, dt))\n",
    "            \n",
    "            nhit += 1\n",
    " \n",
    "        if abs(votes[0] - votes[1]) < 2:\n",
    "            print(match, rally, 'is hard', votes, best_dist)\n",
    "        else:\n",
    "            print(match, rally, 1 if votes[0] > votes[1] else 2, votes)\n",
    "            \n",
    "        last = 2 if votes[0] > votes[1] else 1\n",
    "        if (match, rally) in manual_label:\n",
    "            last = 3 - manual_label[match, rally]\n",
    "            print('Manual label applied.')\n",
    "        for i in range(y_new.shape[0]):\n",
    "            if not y_new[i]:\n",
    "                continue\n",
    "                \n",
    "            y_new[i] = 3 - last\n",
    "            last = y_new[i]\n",
    "        y_new[len(hit.hit) - 5] = 3\n",
    "\n",
    "        for i in range(num_consec):\n",
    "            end = min(len(trajectory.X), len(hit.hit))-num_consec+i+1\n",
    "            x_bird = np.array(list(zip(trajectory.X[i:end], trajectory.Y[i:end])))\n",
    "            \n",
    "            # Reduce amount of data by averaging coordinate values\n",
    "#             bottom_x = np.nanmedian(bottom_player.values[i:end][:, ::2], axis=1)\n",
    "#             bottom_y = np.nanmedian(bottom_player.values[i:end][:, 1::2], axis=1)\n",
    "#             top_x = np.nanmedian(top_player.values[i:end][:, ::2], axis=1)\n",
    "#             top_y = np.nanmedian(top_player.values[i:end][:, 1::2], axis=1)\n",
    "            \n",
    "            # Use median values only\n",
    "#             x_pose = np.vstack([bottom_x, bottom_y, top_x, top_y]).T\n",
    "\n",
    "            # Use entire pose\n",
    "            x_pose = np.hstack([bottom_player.values[i:end], top_player.values[i:end]])\n",
    "            x = np.hstack([x_bird, x_pose, np.array([corners for j in range(i, end)])])\n",
    "#             x = np.hstack([x_bird, np.array([corners for j in range(i, end)])])\n",
    "            y = y_new[i:end]\n",
    "            x_list.append(x)\n",
    "            y_list.append(y)\n",
    "\n",
    "        x_t = np.hstack(x_list)\n",
    "        y_t = np.max(np.column_stack(y_list[-8:-2]), axis=1)\n",
    "        \n",
    "        def scale_data(x):\n",
    "            x = np.array(x)\n",
    "            def scale_by_col(x, cols):\n",
    "                x_ = x[:, cols]\n",
    "                m, M = np.min(x_[x_ != 0]), np.max(x_[x_ != 0])\n",
    "                x_[x_ != 0] = (x_[x_ != 0] - m) / (M - m) + 1\n",
    "                x[:, cols] = x_\n",
    "                return x\n",
    "            \n",
    "            even_cols = [2*i for i in range(x.shape[1] // 2)]\n",
    "            odd_cols = [2*i+1 for i in range(x.shape[1] // 2)]\n",
    "            x = scale_by_col(x, even_cols)\n",
    "            x = scale_by_col(x, odd_cols)\n",
    "            return x\n",
    "          \n",
    "        identity = lambda x: x\n",
    "        def drop_data(x):\n",
    "            x = np.array(x)\n",
    "            # Corrupt 5% of the data\n",
    "            indices = np.random.choice(\n",
    "                np.arange(x.size), replace=False,\n",
    "                size=int(x.size * 0.15)\n",
    "            )\n",
    "            x[np.unravel_index(indices, x.shape)] = np.NaN\n",
    "            df = pd.DataFrame(data=x)\n",
    "            df.interpolate(method='slinear', inplace=True)\n",
    "            df.fillna(method='bfill', inplace=True)\n",
    "            df.fillna(method='ffill', inplace=True)\n",
    "            x = df.values\n",
    "            return x\n",
    "        \n",
    "        def jiggle_and_rotate(x):\n",
    "            # Randomly shift by a vector in [-20, 20]\n",
    "            # and rotate by a random amount between -15 and 15 degrees\n",
    "            x = np.array(x.reshape((x.shape[0], x.shape[1] // 2, 2)))\n",
    "            shift = (np.random.rand(1, 2) - 0.5) * 40\n",
    "            angle = (np.random.rand() - 0.5) * math.pi / 180 * 30\n",
    "            rotate = np.array([[math.cos(angle), math.sin(angle)], \n",
    "                               [math.sin(angle), -math.cos(angle)]])\n",
    "            x = (x @ rotate) + shift\n",
    "            x = x.reshape((x.shape[0], x.shape[1] * 2))\n",
    "            return x\n",
    "        \n",
    "        drop_and_jiggle = lambda x: drop_data(jiggle_and_rotate(x))\n",
    "        \n",
    "        augmentations = [identity] + [jiggle_and_rotate] * 10 + [drop_and_jiggle] * 10\n",
    "        for transform in augmentations:\n",
    "            x_train.append(scale_data(transform(x_t)))\n",
    "            y_train.append(y_t)\n",
    "            \n",
    "            x_train.append(scale_data(transform(reflect(x_t))))\n",
    "            y_train.append(y_t)\n",
    "\n",
    "x_train = np.vstack(x_train)\n",
    "y_train = np.hstack(y_train)"
   ]
  },
  {
   "cell_type": "markdown",
   "metadata": {},
   "source": [
    "# Try other methods"
   ]
  },
  {
   "cell_type": "code",
   "execution_count": 22,
   "metadata": {},
   "outputs": [],
   "source": [
    "from sklearn.ensemble import RandomForestClassifier\n",
    "from sklearn.metrics import confusion_matrix, classification_report\n",
    "\n",
    "x_tr, x_val, y_tr, y_val = train_test_split(x_train, y_train, test_size=0.15, shuffle=True)\n",
    "\n",
    "from imblearn.over_sampling import SMOTE, ADASYN\n",
    "sm = ADASYN()\n",
    "x_resamp, y_resamp = sm.fit_resample(x_tr, y_tr)"
   ]
  },
  {
   "cell_type": "code",
   "execution_count": 380,
   "metadata": {},
   "outputs": [
    {
     "name": "stderr",
     "output_type": "stream",
     "text": [
      "[Parallel(n_jobs=16)]: Using backend ThreadingBackend with 16 concurrent workers.\n",
      "[Parallel(n_jobs=16)]: Done  18 tasks      | elapsed:   18.3s\n"
     ]
    },
    {
     "name": "stdout",
     "output_type": "stream",
     "text": [
      "              precision    recall  f1-score   support\n",
      "\n",
      "           0       1.00      0.95      0.97     16284\n",
      "           1       0.80      0.98      0.88      1558\n",
      "           2       0.78      0.97      0.86      1649\n",
      "\n",
      "    accuracy                           0.95     19491\n",
      "   macro avg       0.86      0.97      0.91     19491\n",
      "weighted avg       0.96      0.95      0.96     19491\n",
      "\n",
      "[[15471   365   448]\n",
      " [   22  1523    13]\n",
      " [   41     9  1599]]\n"
     ]
    },
    {
     "name": "stderr",
     "output_type": "stream",
     "text": [
      "[Parallel(n_jobs=16)]: Done 100 out of 100 | elapsed:  1.1min finished\n",
      "[Parallel(n_jobs=16)]: Using backend ThreadingBackend with 16 concurrent workers.\n",
      "[Parallel(n_jobs=16)]: Done  18 tasks      | elapsed:    0.0s\n",
      "[Parallel(n_jobs=16)]: Done 100 out of 100 | elapsed:    0.1s finished\n"
     ]
    }
   ],
   "source": [
    "rf_classifier = RandomForestClassifier(\n",
    "    verbose=1, \n",
    "    n_jobs=16, \n",
    "#     class_weight='balanced',\n",
    "    max_depth=20,\n",
    ")\n",
    "rf_classifier.fit(x_resamp, y_resamp)\n",
    "y_pred = rf_classifier.predict(x_val)\n",
    "print(classification_report(y_val, y_pred))\n",
    "print(confusion_matrix(y_val, y_pred))"
   ]
  },
  {
   "cell_type": "code",
   "execution_count": 386,
   "metadata": {},
   "outputs": [
    {
     "data": {
      "text/plain": [
       "['hitnet_rf.joblib']"
      ]
     },
     "execution_count": 386,
     "metadata": {},
     "output_type": "execute_result"
    }
   ],
   "source": [
    "from joblib import dump, load\n",
    "os.chdir('/home/code-base/user_space/ai-badminton/TrackNetv2/3_in_3_out')\n",
    "dump(rf_classifier, 'hitnet_rf.joblib')"
   ]
  },
  {
   "cell_type": "code",
   "execution_count": 385,
   "metadata": {},
   "outputs": [
    {
     "data": {
      "text/plain": [
       "'/trainman-mount/trainman-k8s-storage-6677a55e-8792-44ee-923d-9ed5edea05ca/ai-badminton/notebooks'"
      ]
     },
     "execution_count": 385,
     "metadata": {},
     "output_type": "execute_result"
    }
   ],
   "source": [
    "os.getcwd()"
   ]
  },
  {
   "cell_type": "code",
   "execution_count": null,
   "metadata": {},
   "outputs": [],
   "source": []
  }
 ],
 "metadata": {
  "kernelspec": {
   "display_name": "Python 3",
   "language": "python",
   "name": "python3"
  },
  "language_info": {
   "codemirror_mode": {
    "name": "ipython",
    "version": 3
   },
   "file_extension": ".py",
   "mimetype": "text/x-python",
   "name": "python",
   "nbconvert_exporter": "python",
   "pygments_lexer": "ipython3",
   "version": "3.8.5"
  }
 },
 "nbformat": 4,
 "nbformat_minor": 4
}
