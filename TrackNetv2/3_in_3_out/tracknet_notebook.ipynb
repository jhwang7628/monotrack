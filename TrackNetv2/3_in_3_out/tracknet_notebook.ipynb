{
 "cells": [
  {
   "cell_type": "code",
   "execution_count": 7,
   "id": "537b5372-0a16-4d11-9184-fec88fccc869",
   "metadata": {},
   "outputs": [
    {
     "name": "stdout",
     "output_type": "stream",
     "text": [
      "The autoreload extension is already loaded. To reload it, use:\n",
      "  %reload_ext autoreload\n"
     ]
    }
   ],
   "source": [
    "# %matplotlib inline\n",
    "# %matplotlib widget\n",
    "%matplotlib ipympl\n",
    "%load_ext autoreload\n",
    "%autoreload 2\n",
    "\n",
    "import ipywidgets as wdg  # Using the ipython notebook widgets"
   ]
  },
  {
   "cell_type": "code",
   "execution_count": 8,
   "id": "8278bdad-d392-4673-8895-79b8607f84e6",
   "metadata": {},
   "outputs": [],
   "source": [
    "import sys\n",
    "import getopt\n",
    "import numpy as np\n",
    "import os\n",
    "from glob import glob\n",
    "import piexif\n",
    "from keras.preprocessing.image import ImageDataGenerator, array_to_img, img_to_array, load_img\n",
    "import pandas as pd\n",
    "from sklearn.model_selection import train_test_split\n",
    "from keras.models import *\n",
    "from keras.layers import *\n",
    "from TrackNet3 import TrackNet3\n",
    "import keras.backend as K\n",
    "from keras import optimizers\n",
    "import tensorflow as tf\n",
    "import cv2\n",
    "from os.path import isfile, join\n",
    "from PIL import Image\n",
    "import time\n",
    "BATCH_SIZE=1\n",
    "HEIGHT=288\n",
    "WIDTH=512\n",
    "sigma=2.5\n",
    "mag=1"
   ]
  },
  {
   "cell_type": "code",
   "execution_count": 9,
   "id": "5937fe01-2fec-4ad4-9478-e6212d7d93d1",
   "metadata": {},
   "outputs": [],
   "source": [
    "def genHeatMap(w, h, cx, cy, r, mag):\n",
    "\tif cx < 0 or cy < 0:\n",
    "\t\treturn np.zeros((h, w))\n",
    "\tx, y = np.meshgrid(np.linspace(1, w, w), np.linspace(1, h, h))\n",
    "\theatmap = ((y - (cy + 1))**2) + ((x - (cx + 1))**2)\n",
    "\theatmap[heatmap <= r**2] = 1\n",
    "\theatmap[heatmap > r**2] = 0\n",
    "\treturn heatmap*mag\n",
    "\n",
    "#time: in milliseconds\n",
    "def custom_time(time):\n",
    "\tremain = int(time / 1000)\n",
    "\tms = (time / 1000) - remain\n",
    "\ts = remain % 60\n",
    "\ts += ms\n",
    "\tremain = int(remain / 60)\n",
    "\tm = remain % 60\n",
    "\tremain = int(remain / 60)\n",
    "\th = remain\n",
    "\t#Generate custom time string\n",
    "\tcts = ''\n",
    "\tif len(str(h)) >= 2:\n",
    "\t\tcts += str(h)\n",
    "\telse:\n",
    "\t\tfor i in range(2 - len(str(h))):\n",
    "\t\t\tcts += '0'\n",
    "\t\tcts += str(h)\n",
    "\t\n",
    "\tcts += ':'\n",
    "\n",
    "\tif len(str(m)) >= 2:\n",
    "\t\tcts += str(m)\n",
    "\telse:\n",
    "\t\tfor i in range(2 - len(str(m))):\n",
    "\t\t\tcts += '0'\n",
    "\t\tcts += str(m)\n",
    "\n",
    "\tcts += ':'\n",
    "\n",
    "\tif len(str(int(s))) == 1:\n",
    "\t\tcts += '0'\n",
    "\tcts += str(s)\n",
    "\n",
    "\treturn cts"
   ]
  },
  {
   "cell_type": "code",
   "execution_count": 10,
   "id": "43146d89-ba9c-4c8e-9603-62d88b71f83a",
   "metadata": {},
   "outputs": [],
   "source": [
    "# A simple one-euro filter\n",
    "import math\n",
    "\n",
    "def smoothing_factor(t_e, cutoff):\n",
    "    r = 2 * math.pi * cutoff * t_e\n",
    "    return r / (r + 1)\n",
    "\n",
    "def exponential_smoothing(a, x, x_prev):\n",
    "    return a * x + (1 - a) * x_prev\n",
    "\n",
    "class OneEuroFilter:\n",
    "    def __init__(self, t0, x0, dx0=0.0, min_cutoff=0.004, beta=0.7,\n",
    "                 d_cutoff=30):\n",
    "        \"\"\"Initialize the one euro filter.\"\"\"\n",
    "        # The parameters.\n",
    "        self.min_cutoff = float(min_cutoff)\n",
    "        self.beta = float(beta)\n",
    "        self.d_cutoff = float(d_cutoff)\n",
    "        # Previous values.\n",
    "        self.x_prev = x0\n",
    "        if np.array(dx0).shape != np.array(x0).shape:\n",
    "            self.dx_prev = np.zeros(np.array(x0).shape)\n",
    "        self.t_prev = t0\n",
    "\n",
    "    def __call__(self, t, x):\n",
    "        \"\"\"Compute the filtered signal.\"\"\"\n",
    "        t_e = t - self.t_prev\n",
    "\n",
    "        # The filtered derivative of the signal.\n",
    "        a_d = smoothing_factor(t_e, self.d_cutoff)\n",
    "        dx = (x - self.x_prev) / t_e\n",
    "        dx_hat = exponential_smoothing(a_d, dx, self.dx_prev)\n",
    "\n",
    "        # The filtered signal.\n",
    "        cutoff = self.min_cutoff + self.beta * np.max(np.abs(dx_hat))\n",
    "        a = smoothing_factor(t_e, cutoff)\n",
    "        x_hat = exponential_smoothing(a, x, self.x_prev)\n",
    "        \n",
    "        # Memorize the previous values.\n",
    "        self.x_prev = np.array(x_hat)\n",
    "        self.dx_prev = np.array(dx_hat)\n",
    "        self.t_prev = t\n",
    "\n",
    "        return x_hat"
   ]
  },
  {
   "cell_type": "code",
   "execution_count": 14,
   "id": "e7ad226c-61b6-4355-8eed-17de8e2b63e6",
   "metadata": {},
   "outputs": [],
   "source": [
    "# videoName = '/home/code-base/scratch_space/data/match1/rally_video/1_02_00.mp4'\n",
    "# videoName = '/home/code-base/scratch_space/data/match24/rally_video/1_00_01.mp4'\n",
    "videoName = '/home/code-base/user_space/ai-badminton/notebooks/data/anthony-ginting-beat-kento-momota-anthony-ginting-vs-kento-momota-fo-2019-hlzrivktbyo.mp4'\n",
    "load_weights = 'model906_30'\n",
    "\n",
    "#Loss function\n",
    "def custom_loss(y_true, y_pred):\n",
    "    loss = (-1)*(K.square(1 - y_pred) * y_true * K.log(K.clip(y_pred, K.epsilon(), 1)) + K.square(y_pred) * (1 - y_true) * K.log(K.clip(1 - y_pred, K.epsilon(), 1)))\n",
    "    return K.mean(loss)\n",
    "\n",
    "model = load_model(load_weights, custom_objects={'custom_loss':custom_loss})\n",
    "\n",
    "\n",
    "def predict_heatmaps(videoName, outName):\n",
    "    print('Beginning predicting......')\n",
    "    start = time.time()\n",
    "\n",
    "    cap = cv2.VideoCapture(videoName)\n",
    "\n",
    "    success, image1 = cap.read()\n",
    "    frame_time1 = custom_time(cap.get(cv2.CAP_PROP_POS_MSEC))\n",
    "    success, image2 = cap.read()\n",
    "    frame_time2 = custom_time(cap.get(cv2.CAP_PROP_POS_MSEC))\n",
    "    success, image3 = cap.read()\n",
    "    frame_time3 = custom_time(cap.get(cv2.CAP_PROP_POS_MSEC))\n",
    "\n",
    "    ratio = image1.shape[0] / HEIGHT\n",
    "\n",
    "    size = (int(WIDTH*ratio), int(HEIGHT*ratio))\n",
    "    fps = 30\n",
    "\n",
    "    count = 0\n",
    "\n",
    "    print('About to begin prediction...')\n",
    "\n",
    "    total = int(cap.get(cv2.CAP_PROP_FRAME_COUNT))\n",
    "    from tqdm.notebook import tqdm\n",
    "    pbar = tqdm(total=total)\n",
    "\n",
    "    predictions = []\n",
    "    while success:\n",
    "        unit = []\n",
    "        #Adjust BGR format (cv2) to RGB format (PIL)\n",
    "        x1 = image1[...,::-1]\n",
    "        x2 = image2[...,::-1]\n",
    "        x3 = image3[...,::-1]\n",
    "        #Convert np arrays to PIL images\n",
    "        x1 = array_to_img(x1)\n",
    "        x2 = array_to_img(x2)\n",
    "        x3 = array_to_img(x3)\n",
    "        #Resize the images\n",
    "        x1 = x1.resize(size = (WIDTH, HEIGHT))\n",
    "        x2 = x2.resize(size = (WIDTH, HEIGHT))\n",
    "        x3 = x3.resize(size = (WIDTH, HEIGHT))\n",
    "        #Convert images to np arrays and adjust to channels first\n",
    "        x1 = np.moveaxis(img_to_array(x1), -1, 0)\n",
    "        x2 = np.moveaxis(img_to_array(x2), -1, 0)\n",
    "        x3 = np.moveaxis(img_to_array(x3), -1, 0)\n",
    "        #Create data\n",
    "        unit.append(x1[0])\n",
    "        unit.append(x1[1])\n",
    "        unit.append(x1[2])\n",
    "        unit.append(x2[0])\n",
    "        unit.append(x2[1])\n",
    "        unit.append(x2[2])\n",
    "        unit.append(x3[0])\n",
    "        unit.append(x3[1])\n",
    "        unit.append(x3[2])\n",
    "        unit=np.asarray(unit)    \n",
    "        unit = unit.reshape((1, 9, HEIGHT, WIDTH))\n",
    "        unit = unit.astype('float32')\n",
    "        unit /= 255\n",
    "        y_pred = model.predict(unit, batch_size=BATCH_SIZE)\n",
    "        h_pred = y_pred[0]\n",
    "    #     y_pred = y_pred > 0.5\n",
    "    #     y_pred = y_pred.astype('float32')\n",
    "    #     h_pred = y_pred[0]*255\n",
    "    #     h_pred = h_pred.astype('uint8')\n",
    "        for i in range(3):\n",
    "            if i == 0:\n",
    "                frame_time = frame_time1\n",
    "                image = image1\n",
    "            elif i == 1:\n",
    "                frame_time = frame_time2\n",
    "                image = image2\n",
    "            elif i == 2:\n",
    "                frame_time = frame_time3    \n",
    "                image = image3\n",
    "\n",
    "            pred = (h_pred[i] * 255).astype('uint8')\n",
    "            predictions.append(pred)\n",
    "            count += 1\n",
    "            continue\n",
    "            base = h_pred[i]\n",
    "    #         if count == 0:\n",
    "    #             oe_filter = OneEuroFilter(0, h_pred[i])\n",
    "    #         else:\n",
    "    #             base = oe_filter(count * 1./fps, h_pred[i])\n",
    "            rounded_pred = (base.copy() > 0.25) * 255\n",
    "            rounded_pred = rounded_pred.astype('uint8')\n",
    "\n",
    "            (cnts, _) = cv2.findContours(rounded_pred, cv2.RETR_EXTERNAL, cv2.CHAIN_APPROX_SIMPLE)\n",
    "            rects = [cv2.boundingRect(ctr) for ctr in cnts]\n",
    "            get_area = lambda rect: np.sum(base[rect[1]:rect[1]+rect[3], rect[0]:rect[0]+rect[2]])\n",
    "            max_area_idx = -1\n",
    "            max_area = 0\n",
    "            for j in range(len(rects)):\n",
    "                area = get_area(rects[j]) / (rects[j][2] * rects[j][3])\n",
    "                if area > max_area:\n",
    "                    max_area_idx = j\n",
    "                    max_area = area\n",
    "\n",
    "            if max_area_idx < 0:\n",
    "                f.write(str(count)+',0,0,0,'+frame_time+'\\n')\n",
    "                out.write(image)\n",
    "            else:\n",
    "                target = rects[max_area_idx]\n",
    "                area = rects[max_area_idx][2] * rects[max_area_idx][3]\n",
    "                (cx_pred, cy_pred) = (int(ratio*(target[0] + target[2] / 2)), int(ratio*(target[1] + target[3] / 2)))\n",
    "\n",
    "                f.write(str(count)+',1,'+str(cx_pred)+','+str(cy_pred)+','+frame_time+'\\n')\n",
    "                image_cp = np.copy(image)\n",
    "                cv2.circle(image_cp, (cx_pred, cy_pred), int(area**0.5), (0,0,255), -1)\n",
    "                out.write(image_cp)\n",
    "    #             image_cp = cv2.resize(base, size)\n",
    "    #             image_cp = np.stack((image_cp,)*3, axis=-1)\n",
    "    #             out_im = image_cp * 0.9 + image * 0.1\n",
    "    #             out_im = out_im.astype('uint8')\n",
    "    #             out.write(out_im)\n",
    "            count += 1\n",
    "        success, image1 = cap.read()\n",
    "        frame_time1 = custom_time(cap.get(cv2.CAP_PROP_POS_MSEC))\n",
    "        success, image2 = cap.read()\n",
    "        frame_time2 = custom_time(cap.get(cv2.CAP_PROP_POS_MSEC))\n",
    "        success, image3 = cap.read()\n",
    "        frame_time3 = custom_time(cap.get(cv2.CAP_PROP_POS_MSEC))\n",
    "        pbar.n = count\n",
    "        pbar.last_print_n = count\n",
    "        pbar.refresh()\n",
    "\n",
    "    predictions = np.array(predictions)\n",
    "    np.savez_compressed(outName, predictions)\n",
    "    \n",
    "    end = time.time()\n",
    "    print('Prediction time:', end-start, 'secs')\n",
    "    print('Done......')"
   ]
  },
  {
   "cell_type": "code",
   "execution_count": 21,
   "id": "aab09ffd-b90f-4c55-9f00-ac9e4b64653f",
   "metadata": {},
   "outputs": [
    {
     "name": "stdout",
     "output_type": "stream",
     "text": [
      "1_02_00.mp4\n",
      "Beginning predicting......\n",
      "About to begin prediction...\n"
     ]
    },
    {
     "data": {
      "application/vnd.jupyter.widget-view+json": {
       "model_id": "bea73c72f6254b7f84a7d1d88ce7f243",
       "version_major": 2,
       "version_minor": 0
      },
      "text/plain": [
       "  0%|          | 0/500 [00:00<?, ?it/s]"
      ]
     },
     "metadata": {},
     "output_type": "display_data"
    },
    {
     "name": "stdout",
     "output_type": "stream",
     "text": [
      "Prediction time: 24.952389240264893 secs\n",
      "Done......\n",
      "1_02_04.mp4\n",
      "Beginning predicting......\n",
      "About to begin prediction...\n"
     ]
    },
    {
     "data": {
      "application/vnd.jupyter.widget-view+json": {
       "model_id": "20b65d710af84d838c5aebfe027f60c4",
       "version_major": 2,
       "version_minor": 0
      },
      "text/plain": [
       "  0%|          | 0/154 [00:00<?, ?it/s]"
      ]
     },
     "metadata": {},
     "output_type": "display_data"
    },
    {
     "name": "stdout",
     "output_type": "stream",
     "text": [
      "Prediction time: 7.95392918586731 secs\n",
      "Done......\n",
      "1_06_08.mp4\n",
      "Beginning predicting......\n",
      "About to begin prediction...\n"
     ]
    },
    {
     "data": {
      "application/vnd.jupyter.widget-view+json": {
       "model_id": "784bd2b7741040ee8ee4184144768f8e",
       "version_major": 2,
       "version_minor": 0
      },
      "text/plain": [
       "  0%|          | 0/99 [00:00<?, ?it/s]"
      ]
     },
     "metadata": {},
     "output_type": "display_data"
    },
    {
     "name": "stdout",
     "output_type": "stream",
     "text": [
      "Prediction time: 5.197627544403076 secs\n",
      "Done......\n",
      "1_02_02.mp4\n",
      "Beginning predicting......\n",
      "About to begin prediction...\n"
     ]
    },
    {
     "data": {
      "application/vnd.jupyter.widget-view+json": {
       "model_id": "342a0b4d75594e1d9e554dfc4c6a4694",
       "version_major": 2,
       "version_minor": 0
      },
      "text/plain": [
       "  0%|          | 0/259 [00:00<?, ?it/s]"
      ]
     },
     "metadata": {},
     "output_type": "display_data"
    },
    {
     "name": "stdout",
     "output_type": "stream",
     "text": [
      "Prediction time: 13.348201274871826 secs\n",
      "Done......\n",
      "1_06_06.mp4\n",
      "Beginning predicting......\n",
      "About to begin prediction...\n"
     ]
    },
    {
     "data": {
      "application/vnd.jupyter.widget-view+json": {
       "model_id": "264855625ffb45c78be4e38ecfdb1901",
       "version_major": 2,
       "version_minor": 0
      },
      "text/plain": [
       "  0%|          | 0/158 [00:00<?, ?it/s]"
      ]
     },
     "metadata": {},
     "output_type": "display_data"
    },
    {
     "name": "stdout",
     "output_type": "stream",
     "text": [
      "Prediction time: 7.871291160583496 secs\n",
      "Done......\n",
      ".ipynb_checkpoints\n",
      "1_03_05.mp4\n",
      "Beginning predicting......\n",
      "About to begin prediction...\n"
     ]
    },
    {
     "data": {
      "application/vnd.jupyter.widget-view+json": {
       "model_id": "24ec98c64dfe4ad4aedace889040aaeb",
       "version_major": 2,
       "version_minor": 0
      },
      "text/plain": [
       "  0%|          | 0/359 [00:00<?, ?it/s]"
      ]
     },
     "metadata": {},
     "output_type": "display_data"
    },
    {
     "name": "stdout",
     "output_type": "stream",
     "text": [
      "Prediction time: 18.08095145225525 secs\n",
      "Done......\n",
      "1_02_01.mp4\n",
      "Beginning predicting......\n",
      "About to begin prediction...\n"
     ]
    },
    {
     "data": {
      "application/vnd.jupyter.widget-view+json": {
       "model_id": "4a485c75b9e848cd8de9378043c5b435",
       "version_major": 2,
       "version_minor": 0
      },
      "text/plain": [
       "  0%|          | 0/196 [00:00<?, ?it/s]"
      ]
     },
     "metadata": {},
     "output_type": "display_data"
    },
    {
     "name": "stdout",
     "output_type": "stream",
     "text": [
      "Prediction time: 9.801302909851074 secs\n",
      "Done......\n",
      "1_03_04.mp4\n",
      "Beginning predicting......\n",
      "About to begin prediction...\n"
     ]
    },
    {
     "data": {
      "application/vnd.jupyter.widget-view+json": {
       "model_id": "87a55580a37d4fd6a98baf39350a3976",
       "version_major": 2,
       "version_minor": 0
      },
      "text/plain": [
       "  0%|          | 0/138 [00:00<?, ?it/s]"
      ]
     },
     "metadata": {},
     "output_type": "display_data"
    },
    {
     "name": "stdout",
     "output_type": "stream",
     "text": [
      "Prediction time: 7.000389575958252 secs\n",
      "Done......\n",
      "1_06_09.mp4\n",
      "Beginning predicting......\n",
      "About to begin prediction...\n"
     ]
    },
    {
     "data": {
      "application/vnd.jupyter.widget-view+json": {
       "model_id": "d32c10f4f9c1483392963321e527651f",
       "version_major": 2,
       "version_minor": 0
      },
      "text/plain": [
       "  0%|          | 0/453 [00:00<?, ?it/s]"
      ]
     },
     "metadata": {},
     "output_type": "display_data"
    },
    {
     "name": "stdout",
     "output_type": "stream",
     "text": [
      "Prediction time: 22.73754119873047 secs\n",
      "Done......\n",
      "1_02_03.mp4\n",
      "Beginning predicting......\n",
      "About to begin prediction...\n"
     ]
    },
    {
     "data": {
      "application/vnd.jupyter.widget-view+json": {
       "model_id": "6f801a288c504641b0e646f6a7d2436c",
       "version_major": 2,
       "version_minor": 0
      },
      "text/plain": [
       "  0%|          | 0/80 [00:00<?, ?it/s]"
      ]
     },
     "metadata": {},
     "output_type": "display_data"
    },
    {
     "name": "stdout",
     "output_type": "stream",
     "text": [
      "Prediction time: 3.914771795272827 secs\n",
      "Done......\n",
      "1_03_06.mp4\n",
      "Beginning predicting......\n",
      "About to begin prediction...\n"
     ]
    },
    {
     "data": {
      "application/vnd.jupyter.widget-view+json": {
       "model_id": "ceb8b90d310a4d568e8bca1c51bca834",
       "version_major": 2,
       "version_minor": 0
      },
      "text/plain": [
       "  0%|          | 0/251 [00:00<?, ?it/s]"
      ]
     },
     "metadata": {},
     "output_type": "display_data"
    },
    {
     "name": "stdout",
     "output_type": "stream",
     "text": [
      "Prediction time: 12.390814542770386 secs\n",
      "Done......\n",
      "1_01_00.mp4\n",
      "Beginning predicting......\n",
      "About to begin prediction...\n"
     ]
    },
    {
     "data": {
      "application/vnd.jupyter.widget-view+json": {
       "model_id": "3e8af33e9b634fccbc051c8a0a77527e",
       "version_major": 2,
       "version_minor": 0
      },
      "text/plain": [
       "  0%|          | 0/651 [00:00<?, ?it/s]"
      ]
     },
     "metadata": {},
     "output_type": "display_data"
    },
    {
     "name": "stdout",
     "output_type": "stream",
     "text": [
      "Prediction time: 32.39085268974304 secs\n",
      "Done......\n",
      "1_00_02.mp4\n",
      "Beginning predicting......\n",
      "About to begin prediction...\n"
     ]
    },
    {
     "data": {
      "application/vnd.jupyter.widget-view+json": {
       "model_id": "81d0583e6c1d41d483ad52fcede4feb0",
       "version_major": 2,
       "version_minor": 0
      },
      "text/plain": [
       "  0%|          | 0/611 [00:00<?, ?it/s]"
      ]
     },
     "metadata": {},
     "output_type": "display_data"
    },
    {
     "name": "stdout",
     "output_type": "stream",
     "text": [
      "Prediction time: 30.45376992225647 secs\n",
      "Done......\n",
      "1_08_11.mp4\n",
      "Beginning predicting......\n",
      "About to begin prediction...\n"
     ]
    },
    {
     "data": {
      "application/vnd.jupyter.widget-view+json": {
       "model_id": "35e0472841cb440fb631a9cb488ec350",
       "version_major": 2,
       "version_minor": 0
      },
      "text/plain": [
       "  0%|          | 0/336 [00:00<?, ?it/s]"
      ]
     },
     "metadata": {},
     "output_type": "display_data"
    },
    {
     "name": "stdout",
     "output_type": "stream",
     "text": [
      "Prediction time: 17.02152132987976 secs\n",
      "Done......\n",
      "1_06_08.mp4\n",
      "Beginning predicting......\n",
      "About to begin prediction...\n"
     ]
    },
    {
     "data": {
      "application/vnd.jupyter.widget-view+json": {
       "model_id": "ac080d61d32747ecbe4cbb84eb11c261",
       "version_major": 2,
       "version_minor": 0
      },
      "text/plain": [
       "  0%|          | 0/354 [00:00<?, ?it/s]"
      ]
     },
     "metadata": {},
     "output_type": "display_data"
    },
    {
     "name": "stdout",
     "output_type": "stream",
     "text": [
      "Prediction time: 18.18367028236389 secs\n",
      "Done......\n",
      "1_09_12.mp4\n",
      "Beginning predicting......\n",
      "About to begin prediction...\n"
     ]
    },
    {
     "data": {
      "application/vnd.jupyter.widget-view+json": {
       "model_id": "ea5382a7f4284b2396a3b035a7c60236",
       "version_major": 2,
       "version_minor": 0
      },
      "text/plain": [
       "  0%|          | 0/459 [00:00<?, ?it/s]"
      ]
     },
     "metadata": {},
     "output_type": "display_data"
    },
    {
     "name": "stdout",
     "output_type": "stream",
     "text": [
      "Prediction time: 23.395684242248535 secs\n",
      "Done......\n",
      "1_08_12.mp4\n",
      "Beginning predicting......\n",
      "About to begin prediction...\n"
     ]
    },
    {
     "data": {
      "application/vnd.jupyter.widget-view+json": {
       "model_id": "af7f3a08cebb481bb9c8793b8ae678fd",
       "version_major": 2,
       "version_minor": 0
      },
      "text/plain": [
       "  0%|          | 0/275 [00:00<?, ?it/s]"
      ]
     },
     "metadata": {},
     "output_type": "display_data"
    },
    {
     "name": "stdout",
     "output_type": "stream",
     "text": [
      "Prediction time: 13.8149995803833 secs\n",
      "Done......\n",
      "1_04_03.mp4\n",
      "Beginning predicting......\n",
      "About to begin prediction...\n"
     ]
    },
    {
     "data": {
      "application/vnd.jupyter.widget-view+json": {
       "model_id": "6f358bc910a94e82bf3426d7d4582e3c",
       "version_major": 2,
       "version_minor": 0
      },
      "text/plain": [
       "  0%|          | 0/358 [00:00<?, ?it/s]"
      ]
     },
     "metadata": {},
     "output_type": "display_data"
    },
    {
     "name": "stdout",
     "output_type": "stream",
     "text": [
      "Prediction time: 18.05436635017395 secs\n",
      "Done......\n",
      "1_06_09.mp4\n",
      "Beginning predicting......\n",
      "About to begin prediction...\n"
     ]
    },
    {
     "data": {
      "application/vnd.jupyter.widget-view+json": {
       "model_id": "614cb75ab1cc4839b3f403cb942bf50e",
       "version_major": 2,
       "version_minor": 0
      },
      "text/plain": [
       "  0%|          | 0/475 [00:00<?, ?it/s]"
      ]
     },
     "metadata": {},
     "output_type": "display_data"
    },
    {
     "name": "stdout",
     "output_type": "stream",
     "text": [
      "Prediction time: 24.252087116241455 secs\n",
      "Done......\n",
      "1_02_03.mp4\n",
      "Beginning predicting......\n",
      "About to begin prediction...\n"
     ]
    },
    {
     "data": {
      "application/vnd.jupyter.widget-view+json": {
       "model_id": "c77d5babb5f244f89c413e3e665a972e",
       "version_major": 2,
       "version_minor": 0
      },
      "text/plain": [
       "  0%|          | 0/359 [00:00<?, ?it/s]"
      ]
     },
     "metadata": {},
     "output_type": "display_data"
    },
    {
     "name": "stdout",
     "output_type": "stream",
     "text": [
      "Prediction time: 18.179800271987915 secs\n",
      "Done......\n",
      "2_04_07.mp4\n",
      "Beginning predicting......\n",
      "About to begin prediction...\n"
     ]
    },
    {
     "data": {
      "application/vnd.jupyter.widget-view+json": {
       "model_id": "ab90b3d07a174e7bad4c1fb06c6e8e19",
       "version_major": 2,
       "version_minor": 0
      },
      "text/plain": [
       "  0%|          | 0/636 [00:00<?, ?it/s]"
      ]
     },
     "metadata": {},
     "output_type": "display_data"
    },
    {
     "name": "stdout",
     "output_type": "stream",
     "text": [
      "Prediction time: 32.92865252494812 secs\n",
      "Done......\n",
      "2_18_15.mp4\n",
      "Beginning predicting......\n",
      "About to begin prediction...\n"
     ]
    },
    {
     "data": {
      "application/vnd.jupyter.widget-view+json": {
       "model_id": "36aa805c3c4f4fb6950fe549f4761f40",
       "version_major": 2,
       "version_minor": 0
      },
      "text/plain": [
       "  0%|          | 0/1168 [00:00<?, ?it/s]"
      ]
     },
     "metadata": {},
     "output_type": "display_data"
    },
    {
     "name": "stdout",
     "output_type": "stream",
     "text": [
      "Prediction time: 59.32244873046875 secs\n",
      "Done......\n",
      "1_12_17.mp4\n",
      "Beginning predicting......\n",
      "About to begin prediction...\n"
     ]
    },
    {
     "data": {
      "application/vnd.jupyter.widget-view+json": {
       "model_id": "b2c82f15649e4705ac79eead2b35a341",
       "version_major": 2,
       "version_minor": 0
      },
      "text/plain": [
       "  0%|          | 0/348 [00:00<?, ?it/s]"
      ]
     },
     "metadata": {},
     "output_type": "display_data"
    },
    {
     "name": "stdout",
     "output_type": "stream",
     "text": [
      "Prediction time: 17.891329288482666 secs\n",
      "Done......\n",
      "3_11_10.mp4\n",
      "Beginning predicting......\n",
      "About to begin prediction...\n"
     ]
    },
    {
     "data": {
      "application/vnd.jupyter.widget-view+json": {
       "model_id": "1791678f2237479ea5d2255e6ed22c38",
       "version_major": 2,
       "version_minor": 0
      },
      "text/plain": [
       "  0%|          | 0/219 [00:00<?, ?it/s]"
      ]
     },
     "metadata": {},
     "output_type": "display_data"
    },
    {
     "name": "stdout",
     "output_type": "stream",
     "text": [
      "Prediction time: 11.238978862762451 secs\n",
      "Done......\n",
      "2_10_12.mp4\n",
      "Beginning predicting......\n",
      "About to begin prediction...\n"
     ]
    },
    {
     "data": {
      "application/vnd.jupyter.widget-view+json": {
       "model_id": "4596280ee112401e983954550d6311af",
       "version_major": 2,
       "version_minor": 0
      },
      "text/plain": [
       "  0%|          | 0/226 [00:00<?, ?it/s]"
      ]
     },
     "metadata": {},
     "output_type": "display_data"
    },
    {
     "name": "stdout",
     "output_type": "stream",
     "text": [
      "Prediction time: 11.832025527954102 secs\n",
      "Done......\n",
      "1_08_10.mp4\n",
      "Beginning predicting......\n",
      "About to begin prediction...\n"
     ]
    },
    {
     "data": {
      "application/vnd.jupyter.widget-view+json": {
       "model_id": "a5d5ab7fd6c842249078bfe3bc1e8101",
       "version_major": 2,
       "version_minor": 0
      },
      "text/plain": [
       "  0%|          | 0/140 [00:00<?, ?it/s]"
      ]
     },
     "metadata": {},
     "output_type": "display_data"
    },
    {
     "name": "stdout",
     "output_type": "stream",
     "text": [
      "Prediction time: 7.1492414474487305 secs\n",
      "Done......\n",
      "1_01_00.mp4\n",
      "Beginning predicting......\n",
      "About to begin prediction...\n"
     ]
    },
    {
     "data": {
      "application/vnd.jupyter.widget-view+json": {
       "model_id": "e7092e2e18b34275a4bb80641ad4c4d1",
       "version_major": 2,
       "version_minor": 0
      },
      "text/plain": [
       "  0%|          | 0/453 [00:00<?, ?it/s]"
      ]
     },
     "metadata": {},
     "output_type": "display_data"
    },
    {
     "name": "stdout",
     "output_type": "stream",
     "text": [
      "Prediction time: 23.095848321914673 secs\n",
      "Done......\n",
      "2_14_17.mp4\n",
      "Beginning predicting......\n",
      "About to begin prediction...\n"
     ]
    },
    {
     "data": {
      "application/vnd.jupyter.widget-view+json": {
       "model_id": "08ab9dd0647a4720a3fa43a46453980e",
       "version_major": 2,
       "version_minor": 0
      },
      "text/plain": [
       "  0%|          | 0/197 [00:00<?, ?it/s]"
      ]
     },
     "metadata": {},
     "output_type": "display_data"
    },
    {
     "name": "stdout",
     "output_type": "stream",
     "text": [
      "Prediction time: 9.80033564567566 secs\n",
      "Done......\n",
      "3_07_05.mp4\n",
      "Beginning predicting......\n",
      "About to begin prediction...\n"
     ]
    },
    {
     "data": {
      "application/vnd.jupyter.widget-view+json": {
       "model_id": "d7ee3be025e14713ac0b0f60ec7d2034",
       "version_major": 2,
       "version_minor": 0
      },
      "text/plain": [
       "  0%|          | 0/167 [00:00<?, ?it/s]"
      ]
     },
     "metadata": {},
     "output_type": "display_data"
    },
    {
     "name": "stdout",
     "output_type": "stream",
     "text": [
      "Prediction time: 8.43287706375122 secs\n",
      "Done......\n",
      "3_02_00.mp4\n",
      "Beginning predicting......\n",
      "About to begin prediction...\n"
     ]
    },
    {
     "data": {
      "application/vnd.jupyter.widget-view+json": {
       "model_id": "67b36f8d0ac049dbb13728e2eacd5f2e",
       "version_major": 2,
       "version_minor": 0
      },
      "text/plain": [
       "  0%|          | 0/354 [00:00<?, ?it/s]"
      ]
     },
     "metadata": {},
     "output_type": "display_data"
    },
    {
     "name": "stdout",
     "output_type": "stream",
     "text": [
      "Prediction time: 17.769306659698486 secs\n",
      "Done......\n",
      "2_02_05.mp4\n",
      "Beginning predicting......\n",
      "About to begin prediction...\n"
     ]
    },
    {
     "data": {
      "application/vnd.jupyter.widget-view+json": {
       "model_id": "b6fc67774d3d489295c4e389b31ec275",
       "version_major": 2,
       "version_minor": 0
      },
      "text/plain": [
       "  0%|          | 0/476 [00:00<?, ?it/s]"
      ]
     },
     "metadata": {},
     "output_type": "display_data"
    },
    {
     "name": "stdout",
     "output_type": "stream",
     "text": [
      "Prediction time: 23.68191933631897 secs\n",
      "Done......\n",
      "3_18_17.mp4\n",
      "Beginning predicting......\n",
      "About to begin prediction...\n"
     ]
    },
    {
     "data": {
      "application/vnd.jupyter.widget-view+json": {
       "model_id": "a9a60116cd784d829cc4322937481885",
       "version_major": 2,
       "version_minor": 0
      },
      "text/plain": [
       "  0%|          | 0/556 [00:00<?, ?it/s]"
      ]
     },
     "metadata": {},
     "output_type": "display_data"
    },
    {
     "name": "stdout",
     "output_type": "stream",
     "text": [
      "Prediction time: 27.90963888168335 secs\n",
      "Done......\n",
      "1_15_10.mp4\n",
      "Beginning predicting......\n",
      "About to begin prediction...\n"
     ]
    },
    {
     "data": {
      "application/vnd.jupyter.widget-view+json": {
       "model_id": "c4a6687f0e09417fadd49fdd09bb3fc9",
       "version_major": 2,
       "version_minor": 0
      },
      "text/plain": [
       "  0%|          | 0/402 [00:00<?, ?it/s]"
      ]
     },
     "metadata": {},
     "output_type": "display_data"
    },
    {
     "name": "stdout",
     "output_type": "stream",
     "text": [
      "Prediction time: 20.419543504714966 secs\n",
      "Done......\n",
      "1_03_02.mp4\n",
      "Beginning predicting......\n",
      "About to begin prediction...\n"
     ]
    },
    {
     "data": {
      "application/vnd.jupyter.widget-view+json": {
       "model_id": "e789949e6f0b482fb655a1ac4a1e5803",
       "version_major": 2,
       "version_minor": 0
      },
      "text/plain": [
       "  0%|          | 0/358 [00:00<?, ?it/s]"
      ]
     },
     "metadata": {},
     "output_type": "display_data"
    },
    {
     "name": "stdout",
     "output_type": "stream",
     "text": [
      "Prediction time: 17.968790292739868 secs\n",
      "Done......\n",
      "2_05_07.mp4\n",
      "Beginning predicting......\n",
      "About to begin prediction...\n"
     ]
    },
    {
     "data": {
      "application/vnd.jupyter.widget-view+json": {
       "model_id": "64432b3900ef47c0844ea711ce796b4e",
       "version_major": 2,
       "version_minor": 0
      },
      "text/plain": [
       "  0%|          | 0/405 [00:00<?, ?it/s]"
      ]
     },
     "metadata": {},
     "output_type": "display_data"
    },
    {
     "name": "stdout",
     "output_type": "stream",
     "text": [
      "Prediction time: 20.27677011489868 secs\n",
      "Done......\n",
      "1_01_01.mp4\n",
      "Beginning predicting......\n",
      "About to begin prediction...\n"
     ]
    },
    {
     "data": {
      "application/vnd.jupyter.widget-view+json": {
       "model_id": "c87dcfd83cca45eb80fd4313d6939dab",
       "version_major": 2,
       "version_minor": 0
      },
      "text/plain": [
       "  0%|          | 0/721 [00:00<?, ?it/s]"
      ]
     },
     "metadata": {},
     "output_type": "display_data"
    },
    {
     "name": "stdout",
     "output_type": "stream",
     "text": [
      "Prediction time: 35.76048827171326 secs\n",
      "Done......\n",
      "1_01_02.mp4\n",
      "Beginning predicting......\n",
      "About to begin prediction...\n"
     ]
    },
    {
     "data": {
      "application/vnd.jupyter.widget-view+json": {
       "model_id": "c4b249f2f2f549c0b979f021c543d031",
       "version_major": 2,
       "version_minor": 0
      },
      "text/plain": [
       "  0%|          | 0/504 [00:00<?, ?it/s]"
      ]
     },
     "metadata": {},
     "output_type": "display_data"
    },
    {
     "name": "stdout",
     "output_type": "stream",
     "text": [
      "Prediction time: 25.509835720062256 secs\n",
      "Done......\n",
      "1_19_18.mp4\n",
      "Beginning predicting......\n",
      "About to begin prediction...\n"
     ]
    },
    {
     "data": {
      "application/vnd.jupyter.widget-view+json": {
       "model_id": "34a5c4fd67a348f2b6d5635940fe392e",
       "version_major": 2,
       "version_minor": 0
      },
      "text/plain": [
       "  0%|          | 0/240 [00:00<?, ?it/s]"
      ]
     },
     "metadata": {},
     "output_type": "display_data"
    },
    {
     "name": "stdout",
     "output_type": "stream",
     "text": [
      "Prediction time: 12.197082757949829 secs\n",
      "Done......\n",
      "2_15_13.mp4\n",
      "Beginning predicting......\n",
      "About to begin prediction...\n"
     ]
    },
    {
     "data": {
      "application/vnd.jupyter.widget-view+json": {
       "model_id": "d470a045e9a0409ea080ec4cb7471792",
       "version_major": 2,
       "version_minor": 0
      },
      "text/plain": [
       "  0%|          | 0/541 [00:00<?, ?it/s]"
      ]
     },
     "metadata": {},
     "output_type": "display_data"
    },
    {
     "name": "stdout",
     "output_type": "stream",
     "text": [
      "Prediction time: 26.981542348861694 secs\n",
      "Done......\n",
      "2_20_17.mp4\n",
      "Beginning predicting......\n",
      "About to begin prediction...\n"
     ]
    },
    {
     "data": {
      "application/vnd.jupyter.widget-view+json": {
       "model_id": "56ecacbe364a4ff4bcd7ab4221ea3438",
       "version_major": 2,
       "version_minor": 0
      },
      "text/plain": [
       "  0%|          | 0/717 [00:00<?, ?it/s]"
      ]
     },
     "metadata": {},
     "output_type": "display_data"
    },
    {
     "name": "stdout",
     "output_type": "stream",
     "text": [
      "Prediction time: 35.67670655250549 secs\n",
      "Done......\n",
      "1_21_19.mp4\n",
      "Beginning predicting......\n",
      "About to begin prediction...\n"
     ]
    },
    {
     "data": {
      "application/vnd.jupyter.widget-view+json": {
       "model_id": "a53a81e14776497cadedad7d3059c47b",
       "version_major": 2,
       "version_minor": 0
      },
      "text/plain": [
       "  0%|          | 0/648 [00:00<?, ?it/s]"
      ]
     },
     "metadata": {},
     "output_type": "display_data"
    },
    {
     "name": "stdout",
     "output_type": "stream",
     "text": [
      "Prediction time: 32.28862977027893 secs\n",
      "Done......\n",
      "1_02_00.mp4\n",
      "Beginning predicting......\n",
      "About to begin prediction...\n"
     ]
    },
    {
     "data": {
      "application/vnd.jupyter.widget-view+json": {
       "model_id": "0a96c8b4eae64b3fb9fb71ed72d6bcc5",
       "version_major": 2,
       "version_minor": 0
      },
      "text/plain": [
       "  0%|          | 0/528 [00:00<?, ?it/s]"
      ]
     },
     "metadata": {},
     "output_type": "display_data"
    },
    {
     "name": "stdout",
     "output_type": "stream",
     "text": [
      "Prediction time: 26.567439556121826 secs\n",
      "Done......\n",
      "1_11_04.mp4\n",
      "Beginning predicting......\n",
      "About to begin prediction...\n"
     ]
    },
    {
     "data": {
      "application/vnd.jupyter.widget-view+json": {
       "model_id": "68eccf1f5c27442f9dc86c4b4cde9109",
       "version_major": 2,
       "version_minor": 0
      },
      "text/plain": [
       "  0%|          | 0/590 [00:00<?, ?it/s]"
      ]
     },
     "metadata": {},
     "output_type": "display_data"
    },
    {
     "name": "stdout",
     "output_type": "stream",
     "text": [
      "Prediction time: 29.35029697418213 secs\n",
      "Done......\n",
      "1_15_06.mp4\n",
      "Beginning predicting......\n",
      "About to begin prediction...\n"
     ]
    },
    {
     "data": {
      "application/vnd.jupyter.widget-view+json": {
       "model_id": "dcf9f73510204362a3e6dd4e0ae2a4b0",
       "version_major": 2,
       "version_minor": 0
      },
      "text/plain": [
       "  0%|          | 0/902 [00:00<?, ?it/s]"
      ]
     },
     "metadata": {},
     "output_type": "display_data"
    },
    {
     "name": "stdout",
     "output_type": "stream",
     "text": [
      "Prediction time: 44.909379959106445 secs\n",
      "Done......\n",
      "1_05_03.mp4\n",
      "Beginning predicting......\n",
      "About to begin prediction...\n"
     ]
    },
    {
     "data": {
      "application/vnd.jupyter.widget-view+json": {
       "model_id": "3f05126eb9c842398cce3d16d524bf36",
       "version_major": 2,
       "version_minor": 0
      },
      "text/plain": [
       "  0%|          | 0/1086 [00:00<?, ?it/s]"
      ]
     },
     "metadata": {},
     "output_type": "display_data"
    },
    {
     "name": "stdout",
     "output_type": "stream",
     "text": [
      "Prediction time: 54.89272403717041 secs\n",
      "Done......\n",
      "1_19_12.mp4\n",
      "Beginning predicting......\n",
      "About to begin prediction...\n"
     ]
    },
    {
     "data": {
      "application/vnd.jupyter.widget-view+json": {
       "model_id": "8b29d03d39674683b62a4e8605bc351d",
       "version_major": 2,
       "version_minor": 0
      },
      "text/plain": [
       "  0%|          | 0/373 [00:00<?, ?it/s]"
      ]
     },
     "metadata": {},
     "output_type": "display_data"
    },
    {
     "name": "stdout",
     "output_type": "stream",
     "text": [
      "Prediction time: 18.46296739578247 secs\n",
      "Done......\n",
      "2_14_15.mp4\n",
      "Beginning predicting......\n",
      "About to begin prediction...\n"
     ]
    },
    {
     "data": {
      "application/vnd.jupyter.widget-view+json": {
       "model_id": "e0512af43d0f4f578ab1808d8bec9ee5",
       "version_major": 2,
       "version_minor": 0
      },
      "text/plain": [
       "  0%|          | 0/494 [00:00<?, ?it/s]"
      ]
     },
     "metadata": {},
     "output_type": "display_data"
    },
    {
     "name": "stdout",
     "output_type": "stream",
     "text": [
      "Prediction time: 25.107990980148315 secs\n",
      "Done......\n",
      "1_02_01.mp4\n",
      "Beginning predicting......\n",
      "About to begin prediction...\n"
     ]
    },
    {
     "data": {
      "application/vnd.jupyter.widget-view+json": {
       "model_id": "1123dfdab1264feda3b6a0cfb0c9f803",
       "version_major": 2,
       "version_minor": 0
      },
      "text/plain": [
       "  0%|          | 0/648 [00:00<?, ?it/s]"
      ]
     },
     "metadata": {},
     "output_type": "display_data"
    },
    {
     "name": "stdout",
     "output_type": "stream",
     "text": [
      "Prediction time: 32.60940742492676 secs\n",
      "Done......\n",
      "1_12_13.mp4\n",
      "Beginning predicting......\n",
      "About to begin prediction...\n"
     ]
    },
    {
     "data": {
      "application/vnd.jupyter.widget-view+json": {
       "model_id": "f88bb6791eba482fa510e7482d586c0d",
       "version_major": 2,
       "version_minor": 0
      },
      "text/plain": [
       "  0%|          | 0/620 [00:00<?, ?it/s]"
      ]
     },
     "metadata": {},
     "output_type": "display_data"
    },
    {
     "name": "stdout",
     "output_type": "stream",
     "text": [
      "Prediction time: 31.17577838897705 secs\n",
      "Done......\n",
      "3_08_05.mp4\n",
      "Beginning predicting......\n",
      "About to begin prediction...\n"
     ]
    },
    {
     "data": {
      "application/vnd.jupyter.widget-view+json": {
       "model_id": "779a572b02be4cc8b91d8755ea22c06d",
       "version_major": 2,
       "version_minor": 0
      },
      "text/plain": [
       "  0%|          | 0/454 [00:00<?, ?it/s]"
      ]
     },
     "metadata": {},
     "output_type": "display_data"
    },
    {
     "name": "stdout",
     "output_type": "stream",
     "text": [
      "Prediction time: 22.90946912765503 secs\n",
      "Done......\n",
      "2_05_03.mp4\n",
      "Beginning predicting......\n",
      "About to begin prediction...\n"
     ]
    },
    {
     "data": {
      "application/vnd.jupyter.widget-view+json": {
       "model_id": "6a18f8316c4143ac92ce7a821b0d3713",
       "version_major": 2,
       "version_minor": 0
      },
      "text/plain": [
       "  0%|          | 0/945 [00:00<?, ?it/s]"
      ]
     },
     "metadata": {},
     "output_type": "display_data"
    },
    {
     "name": "stdout",
     "output_type": "stream",
     "text": [
      "Prediction time: 48.196025371551514 secs\n",
      "Done......\n",
      "2_03_06.mp4\n",
      "Beginning predicting......\n",
      "About to begin prediction...\n"
     ]
    },
    {
     "data": {
      "application/vnd.jupyter.widget-view+json": {
       "model_id": "939f49501e6043c3885c0697132a8ed8",
       "version_major": 2,
       "version_minor": 0
      },
      "text/plain": [
       "  0%|          | 0/1032 [00:00<?, ?it/s]"
      ]
     },
     "metadata": {},
     "output_type": "display_data"
    },
    {
     "name": "stdout",
     "output_type": "stream",
     "text": [
      "Prediction time: 51.65505027770996 secs\n",
      "Done......\n",
      "3_02_00.mp4\n",
      "Beginning predicting......\n",
      "About to begin prediction...\n"
     ]
    },
    {
     "data": {
      "application/vnd.jupyter.widget-view+json": {
       "model_id": "71370925233245488d8798055d73e9de",
       "version_major": 2,
       "version_minor": 0
      },
      "text/plain": [
       "  0%|          | 0/87 [00:00<?, ?it/s]"
      ]
     },
     "metadata": {},
     "output_type": "display_data"
    },
    {
     "name": "stdout",
     "output_type": "stream",
     "text": [
      "Prediction time: 4.458407163619995 secs\n",
      "Done......\n",
      "3_15_08.mp4\n",
      "Beginning predicting......\n",
      "About to begin prediction...\n"
     ]
    },
    {
     "data": {
      "application/vnd.jupyter.widget-view+json": {
       "model_id": "d55891f92457481ba57ae7bdbcdcc2fc",
       "version_major": 2,
       "version_minor": 0
      },
      "text/plain": [
       "  0%|          | 0/163 [00:00<?, ?it/s]"
      ]
     },
     "metadata": {},
     "output_type": "display_data"
    },
    {
     "name": "stdout",
     "output_type": "stream",
     "text": [
      "Prediction time: 8.333749532699585 secs\n",
      "Done......\n",
      "2_10_12.mp4\n",
      "Beginning predicting......\n",
      "About to begin prediction...\n"
     ]
    },
    {
     "data": {
      "application/vnd.jupyter.widget-view+json": {
       "model_id": "54e3189d23c543928338901b0990ac84",
       "version_major": 2,
       "version_minor": 0
      },
      "text/plain": [
       "  0%|          | 0/518 [00:00<?, ?it/s]"
      ]
     },
     "metadata": {},
     "output_type": "display_data"
    },
    {
     "name": "stdout",
     "output_type": "stream",
     "text": [
      "Prediction time: 26.21674680709839 secs\n",
      "Done......\n",
      "3_17_12.mp4\n",
      "Beginning predicting......\n",
      "About to begin prediction...\n"
     ]
    },
    {
     "data": {
      "application/vnd.jupyter.widget-view+json": {
       "model_id": "b3c06b31813046c691f038ed8bb47f4d",
       "version_major": 2,
       "version_minor": 0
      },
      "text/plain": [
       "  0%|          | 0/585 [00:00<?, ?it/s]"
      ]
     },
     "metadata": {},
     "output_type": "display_data"
    },
    {
     "name": "stdout",
     "output_type": "stream",
     "text": [
      "Prediction time: 29.744510889053345 secs\n",
      "Done......\n",
      "1_05_13.mp4\n",
      "Beginning predicting......\n",
      "About to begin prediction...\n"
     ]
    },
    {
     "data": {
      "application/vnd.jupyter.widget-view+json": {
       "model_id": "a7cc7e560eb043cc852cddca7b928e1e",
       "version_major": 2,
       "version_minor": 0
      },
      "text/plain": [
       "  0%|          | 0/257 [00:00<?, ?it/s]"
      ]
     },
     "metadata": {},
     "output_type": "display_data"
    },
    {
     "name": "stdout",
     "output_type": "stream",
     "text": [
      "Prediction time: 12.845345497131348 secs\n",
      "Done......\n",
      "3_21_13.mp4\n",
      "Beginning predicting......\n",
      "About to begin prediction...\n"
     ]
    },
    {
     "data": {
      "application/vnd.jupyter.widget-view+json": {
       "model_id": "3b2642d7ebcc4396bb4cd88abe5025dd",
       "version_major": 2,
       "version_minor": 0
      },
      "text/plain": [
       "  0%|          | 0/344 [00:00<?, ?it/s]"
      ]
     },
     "metadata": {},
     "output_type": "display_data"
    },
    {
     "name": "stdout",
     "output_type": "stream",
     "text": [
      "Prediction time: 17.309532403945923 secs\n",
      "Done......\n",
      "1_01_00.mp4\n",
      "Beginning predicting......\n",
      "About to begin prediction...\n"
     ]
    },
    {
     "data": {
      "application/vnd.jupyter.widget-view+json": {
       "model_id": "84740377e42b4eeb8a71d24d436c22ed",
       "version_major": 2,
       "version_minor": 0
      },
      "text/plain": [
       "  0%|          | 0/367 [00:00<?, ?it/s]"
      ]
     },
     "metadata": {},
     "output_type": "display_data"
    },
    {
     "name": "stdout",
     "output_type": "stream",
     "text": [
      "Prediction time: 18.656280994415283 secs\n",
      "Done......\n",
      "1_07_07.mp4\n",
      "Beginning predicting......\n",
      "About to begin prediction...\n"
     ]
    },
    {
     "data": {
      "application/vnd.jupyter.widget-view+json": {
       "model_id": "0e128778aff547a088850d2de914dc72",
       "version_major": 2,
       "version_minor": 0
      },
      "text/plain": [
       "  0%|          | 0/316 [00:00<?, ?it/s]"
      ]
     },
     "metadata": {},
     "output_type": "display_data"
    },
    {
     "name": "stdout",
     "output_type": "stream",
     "text": [
      "Prediction time: 16.31932020187378 secs\n",
      "Done......\n",
      "1_01_03.mp4\n",
      "Beginning predicting......\n",
      "About to begin prediction...\n"
     ]
    },
    {
     "data": {
      "application/vnd.jupyter.widget-view+json": {
       "model_id": "55d204435fd7420e85b935fd52abb2de",
       "version_major": 2,
       "version_minor": 0
      },
      "text/plain": [
       "  0%|          | 0/831 [00:00<?, ?it/s]"
      ]
     },
     "metadata": {},
     "output_type": "display_data"
    },
    {
     "name": "stdout",
     "output_type": "stream",
     "text": [
      "Prediction time: 42.597790002822876 secs\n",
      "Done......\n",
      "1_06_06.mp4\n",
      "Beginning predicting......\n",
      "About to begin prediction...\n"
     ]
    },
    {
     "data": {
      "application/vnd.jupyter.widget-view+json": {
       "model_id": "9580e370d4db45f6b2c2010a8b6f624e",
       "version_major": 2,
       "version_minor": 0
      },
      "text/plain": [
       "  0%|          | 0/228 [00:00<?, ?it/s]"
      ]
     },
     "metadata": {},
     "output_type": "display_data"
    },
    {
     "name": "stdout",
     "output_type": "stream",
     "text": [
      "Prediction time: 12.006889343261719 secs\n",
      "Done......\n",
      "1_07_14.mp4\n",
      "Beginning predicting......\n",
      "About to begin prediction...\n"
     ]
    },
    {
     "data": {
      "application/vnd.jupyter.widget-view+json": {
       "model_id": "84d436797c0843cb87215c4f478e96c2",
       "version_major": 2,
       "version_minor": 0
      },
      "text/plain": [
       "  0%|          | 0/194 [00:00<?, ?it/s]"
      ]
     },
     "metadata": {},
     "output_type": "display_data"
    },
    {
     "name": "stdout",
     "output_type": "stream",
     "text": [
      "Prediction time: 9.89632773399353 secs\n",
      "Done......\n",
      "1_07_10.mp4\n",
      "Beginning predicting......\n",
      "About to begin prediction...\n"
     ]
    },
    {
     "data": {
      "application/vnd.jupyter.widget-view+json": {
       "model_id": "1ccffcb807204a81a36d45e67911f0b7",
       "version_major": 2,
       "version_minor": 0
      },
      "text/plain": [
       "  0%|          | 0/551 [00:00<?, ?it/s]"
      ]
     },
     "metadata": {},
     "output_type": "display_data"
    },
    {
     "name": "stdout",
     "output_type": "stream",
     "text": [
      "Prediction time: 27.827436208724976 secs\n",
      "Done......\n",
      "1_05_06.mp4\n",
      "Beginning predicting......\n",
      "About to begin prediction...\n"
     ]
    },
    {
     "data": {
      "application/vnd.jupyter.widget-view+json": {
       "model_id": "57f60a0563634e0e92d7d2b22c58c395",
       "version_major": 2,
       "version_minor": 0
      },
      "text/plain": [
       "  0%|          | 0/255 [00:00<?, ?it/s]"
      ]
     },
     "metadata": {},
     "output_type": "display_data"
    },
    {
     "name": "stdout",
     "output_type": "stream",
     "text": [
      "Prediction time: 13.09876823425293 secs\n",
      "Done......\n",
      "1_02_03.mp4\n",
      "Beginning predicting......\n",
      "About to begin prediction...\n"
     ]
    },
    {
     "data": {
      "application/vnd.jupyter.widget-view+json": {
       "model_id": "4cf1bf20d3644baf934e7c45c017e007",
       "version_major": 2,
       "version_minor": 0
      },
      "text/plain": [
       "  0%|          | 0/303 [00:00<?, ?it/s]"
      ]
     },
     "metadata": {},
     "output_type": "display_data"
    },
    {
     "name": "stdout",
     "output_type": "stream",
     "text": [
      "Prediction time: 15.47973918914795 secs\n",
      "Done......\n",
      "1_07_11.mp4\n",
      "Beginning predicting......\n",
      "About to begin prediction...\n"
     ]
    },
    {
     "data": {
      "application/vnd.jupyter.widget-view+json": {
       "model_id": "0a78084b4b7942e69fb7f55b7b5ff5ac",
       "version_major": 2,
       "version_minor": 0
      },
      "text/plain": [
       "  0%|          | 0/279 [00:00<?, ?it/s]"
      ]
     },
     "metadata": {},
     "output_type": "display_data"
    },
    {
     "name": "stdout",
     "output_type": "stream",
     "text": [
      "Prediction time: 14.115451097488403 secs\n",
      "Done......\n",
      "1_04_05.mp4\n",
      "Beginning predicting......\n",
      "About to begin prediction...\n"
     ]
    },
    {
     "data": {
      "application/vnd.jupyter.widget-view+json": {
       "model_id": "f2c0b3615df745a28608d1f2b9c1649d",
       "version_major": 2,
       "version_minor": 0
      },
      "text/plain": [
       "  0%|          | 0/246 [00:00<?, ?it/s]"
      ]
     },
     "metadata": {},
     "output_type": "display_data"
    },
    {
     "name": "stdout",
     "output_type": "stream",
     "text": [
      "Prediction time: 12.5426766872406 secs\n",
      "Done......\n",
      "1_12_16.mp4\n",
      "Beginning predicting......\n",
      "About to begin prediction...\n"
     ]
    },
    {
     "data": {
      "application/vnd.jupyter.widget-view+json": {
       "model_id": "1b07fb9cd16e4c3aaa7ce8a166da2893",
       "version_major": 2,
       "version_minor": 0
      },
      "text/plain": [
       "  0%|          | 0/481 [00:00<?, ?it/s]"
      ]
     },
     "metadata": {},
     "output_type": "display_data"
    },
    {
     "name": "stdout",
     "output_type": "stream",
     "text": [
      "Prediction time: 24.390300035476685 secs\n",
      "Done......\n",
      "1_03_03.mp4\n",
      "Beginning predicting......\n",
      "About to begin prediction...\n"
     ]
    },
    {
     "data": {
      "application/vnd.jupyter.widget-view+json": {
       "model_id": "f5e280527d074cd0a344949046d43d9a",
       "version_major": 2,
       "version_minor": 0
      },
      "text/plain": [
       "  0%|          | 0/525 [00:00<?, ?it/s]"
      ]
     },
     "metadata": {},
     "output_type": "display_data"
    },
    {
     "name": "stdout",
     "output_type": "stream",
     "text": [
      "Prediction time: 26.4355251789093 secs\n",
      "Done......\n",
      "2_14_08.mp4\n",
      "Beginning predicting......\n",
      "About to begin prediction...\n"
     ]
    },
    {
     "data": {
      "application/vnd.jupyter.widget-view+json": {
       "model_id": "471d2b7e004e4c15839ba2d22d3562df",
       "version_major": 2,
       "version_minor": 0
      },
      "text/plain": [
       "  0%|          | 0/752 [00:00<?, ?it/s]"
      ]
     },
     "metadata": {},
     "output_type": "display_data"
    },
    {
     "name": "stdout",
     "output_type": "stream",
     "text": [
      "Prediction time: 37.939313650131226 secs\n",
      "Done......\n",
      "1_03_01.mp4\n",
      "Beginning predicting......\n",
      "About to begin prediction...\n"
     ]
    },
    {
     "data": {
      "application/vnd.jupyter.widget-view+json": {
       "model_id": "0b420caee9f94bdbaadf7a1079ffcd0a",
       "version_major": 2,
       "version_minor": 0
      },
      "text/plain": [
       "  0%|          | 0/580 [00:00<?, ?it/s]"
      ]
     },
     "metadata": {},
     "output_type": "display_data"
    },
    {
     "name": "stdout",
     "output_type": "stream",
     "text": [
      "Prediction time: 29.491220951080322 secs\n",
      "Done......\n",
      "2_04_02.mp4\n",
      "Beginning predicting......\n",
      "About to begin prediction...\n"
     ]
    },
    {
     "data": {
      "application/vnd.jupyter.widget-view+json": {
       "model_id": "091de701434849f4ab3c1fdd93cfb7d0",
       "version_major": 2,
       "version_minor": 0
      },
      "text/plain": [
       "  0%|          | 0/335 [00:00<?, ?it/s]"
      ]
     },
     "metadata": {},
     "output_type": "display_data"
    },
    {
     "name": "stdout",
     "output_type": "stream",
     "text": [
      "Prediction time: 16.96218204498291 secs\n",
      "Done......\n",
      "2_05_00.mp4\n",
      "Beginning predicting......\n",
      "About to begin prediction...\n"
     ]
    },
    {
     "data": {
      "application/vnd.jupyter.widget-view+json": {
       "model_id": "e2420087a5c0458685a578c6fbfa3645",
       "version_major": 2,
       "version_minor": 0
      },
      "text/plain": [
       "  0%|          | 0/361 [00:00<?, ?it/s]"
      ]
     },
     "metadata": {},
     "output_type": "display_data"
    },
    {
     "name": "stdout",
     "output_type": "stream",
     "text": [
      "Prediction time: 18.220733165740967 secs\n",
      "Done......\n",
      "1_03_01.mp4\n",
      "Beginning predicting......\n",
      "About to begin prediction...\n"
     ]
    },
    {
     "data": {
      "application/vnd.jupyter.widget-view+json": {
       "model_id": "7fe4205877394eeba140321b746e7dc9",
       "version_major": 2,
       "version_minor": 0
      },
      "text/plain": [
       "  0%|          | 0/561 [00:00<?, ?it/s]"
      ]
     },
     "metadata": {},
     "output_type": "display_data"
    },
    {
     "name": "stdout",
     "output_type": "stream",
     "text": [
      "Prediction time: 27.954260110855103 secs\n",
      "Done......\n",
      "1_13_13.mp4\n",
      "Beginning predicting......\n",
      "About to begin prediction...\n"
     ]
    },
    {
     "data": {
      "application/vnd.jupyter.widget-view+json": {
       "model_id": "4332348d62464386bf8dc0e15785a9d5",
       "version_major": 2,
       "version_minor": 0
      },
      "text/plain": [
       "  0%|          | 0/790 [00:00<?, ?it/s]"
      ]
     },
     "metadata": {},
     "output_type": "display_data"
    },
    {
     "name": "stdout",
     "output_type": "stream",
     "text": [
      "Prediction time: 40.56955289840698 secs\n",
      "Done......\n",
      "2_15_04.mp4\n",
      "Beginning predicting......\n",
      "About to begin prediction...\n"
     ]
    },
    {
     "data": {
      "application/vnd.jupyter.widget-view+json": {
       "model_id": "f28cb88579d84bf2a5727925339dae63",
       "version_major": 2,
       "version_minor": 0
      },
      "text/plain": [
       "  0%|          | 0/697 [00:00<?, ?it/s]"
      ]
     },
     "metadata": {},
     "output_type": "display_data"
    },
    {
     "name": "stdout",
     "output_type": "stream",
     "text": [
      "Prediction time: 35.25514030456543 secs\n",
      "Done......\n",
      "1_07_06.mp4\n",
      "Beginning predicting......\n",
      "About to begin prediction...\n"
     ]
    },
    {
     "data": {
      "application/vnd.jupyter.widget-view+json": {
       "model_id": "8f13c80ac4634cca8b7ffc69e6b74c80",
       "version_major": 2,
       "version_minor": 0
      },
      "text/plain": [
       "  0%|          | 0/382 [00:00<?, ?it/s]"
      ]
     },
     "metadata": {},
     "output_type": "display_data"
    },
    {
     "name": "stdout",
     "output_type": "stream",
     "text": [
      "Prediction time: 19.55866837501526 secs\n",
      "Done......\n",
      "1_10_12.mp4\n",
      "Beginning predicting......\n",
      "About to begin prediction...\n"
     ]
    },
    {
     "data": {
      "application/vnd.jupyter.widget-view+json": {
       "model_id": "4ee355f57f494dddb18ab0e1156b8919",
       "version_major": 2,
       "version_minor": 0
      },
      "text/plain": [
       "  0%|          | 0/828 [00:00<?, ?it/s]"
      ]
     },
     "metadata": {},
     "output_type": "display_data"
    },
    {
     "name": "stdout",
     "output_type": "stream",
     "text": [
      "Prediction time: 40.95903444290161 secs\n",
      "Done......\n",
      "3_03_03.mp4\n",
      "Beginning predicting......\n",
      "About to begin prediction...\n"
     ]
    },
    {
     "data": {
      "application/vnd.jupyter.widget-view+json": {
       "model_id": "ada211e097df494fb0bc175c480cf89c",
       "version_major": 2,
       "version_minor": 0
      },
      "text/plain": [
       "  0%|          | 0/404 [00:00<?, ?it/s]"
      ]
     },
     "metadata": {},
     "output_type": "display_data"
    },
    {
     "name": "stdout",
     "output_type": "stream",
     "text": [
      "Prediction time: 20.19139838218689 secs\n",
      "Done......\n",
      "2_01_01.mp4\n",
      "Beginning predicting......\n",
      "About to begin prediction...\n"
     ]
    },
    {
     "data": {
      "application/vnd.jupyter.widget-view+json": {
       "model_id": "be1b4b878ad64062b74824b13570a072",
       "version_major": 2,
       "version_minor": 0
      },
      "text/plain": [
       "  0%|          | 0/511 [00:00<?, ?it/s]"
      ]
     },
     "metadata": {},
     "output_type": "display_data"
    },
    {
     "name": "stdout",
     "output_type": "stream",
     "text": [
      "Prediction time: 25.483808279037476 secs\n",
      "Done......\n",
      "2_05_14.mp4\n",
      "Beginning predicting......\n",
      "About to begin prediction...\n"
     ]
    },
    {
     "data": {
      "application/vnd.jupyter.widget-view+json": {
       "model_id": "e8cd7a40833149d6bbd069d06c84c321",
       "version_major": 2,
       "version_minor": 0
      },
      "text/plain": [
       "  0%|          | 0/820 [00:00<?, ?it/s]"
      ]
     },
     "metadata": {},
     "output_type": "display_data"
    },
    {
     "name": "stdout",
     "output_type": "stream",
     "text": [
      "Prediction time: 40.88120460510254 secs\n",
      "Done......\n",
      "1_01_00.mp4\n",
      "Beginning predicting......\n",
      "About to begin prediction...\n"
     ]
    },
    {
     "data": {
      "application/vnd.jupyter.widget-view+json": {
       "model_id": "20db5f5c46d943a7a3a284054e85d2ef",
       "version_major": 2,
       "version_minor": 0
      },
      "text/plain": [
       "  0%|          | 0/694 [00:00<?, ?it/s]"
      ]
     },
     "metadata": {},
     "output_type": "display_data"
    },
    {
     "name": "stdout",
     "output_type": "stream",
     "text": [
      "Prediction time: 34.862250328063965 secs\n",
      "Done......\n",
      "2_09_08.mp4\n",
      "Beginning predicting......\n",
      "About to begin prediction...\n"
     ]
    },
    {
     "data": {
      "application/vnd.jupyter.widget-view+json": {
       "model_id": "97f8cd48c2f84437bc2eb69293e2778a",
       "version_major": 2,
       "version_minor": 0
      },
      "text/plain": [
       "  0%|          | 0/137 [00:00<?, ?it/s]"
      ]
     },
     "metadata": {},
     "output_type": "display_data"
    },
    {
     "name": "stdout",
     "output_type": "stream",
     "text": [
      "Prediction time: 6.813618183135986 secs\n",
      "Done......\n",
      "1_09_10.mp4\n",
      "Beginning predicting......\n",
      "About to begin prediction...\n"
     ]
    },
    {
     "data": {
      "application/vnd.jupyter.widget-view+json": {
       "model_id": "d7edefe5f9b5479ea80e4f78fc72e02d",
       "version_major": 2,
       "version_minor": 0
      },
      "text/plain": [
       "  0%|          | 0/573 [00:00<?, ?it/s]"
      ]
     },
     "metadata": {},
     "output_type": "display_data"
    },
    {
     "name": "stdout",
     "output_type": "stream",
     "text": [
      "Prediction time: 28.908010482788086 secs\n",
      "Done......\n",
      "1_17_15.mp4\n",
      "Beginning predicting......\n",
      "About to begin prediction...\n"
     ]
    },
    {
     "data": {
      "application/vnd.jupyter.widget-view+json": {
       "model_id": "3dc9bc689c3c442ba68dbc607dafc1b9",
       "version_major": 2,
       "version_minor": 0
      },
      "text/plain": [
       "  0%|          | 0/319 [00:00<?, ?it/s]"
      ]
     },
     "metadata": {},
     "output_type": "display_data"
    },
    {
     "name": "stdout",
     "output_type": "stream",
     "text": [
      "Prediction time: 16.21925449371338 secs\n",
      "Done......\n",
      "2_06_05.mp4\n",
      "Beginning predicting......\n",
      "About to begin prediction...\n"
     ]
    },
    {
     "data": {
      "application/vnd.jupyter.widget-view+json": {
       "model_id": "727bf2fa2f3e49cc924f4e6d637f9c77",
       "version_major": 2,
       "version_minor": 0
      },
      "text/plain": [
       "  0%|          | 0/889 [00:00<?, ?it/s]"
      ]
     },
     "metadata": {},
     "output_type": "display_data"
    },
    {
     "name": "stdout",
     "output_type": "stream",
     "text": [
      "Prediction time: 44.2812294960022 secs\n",
      "Done......\n",
      "2_17_11.mp4\n",
      "Beginning predicting......\n",
      "About to begin prediction...\n"
     ]
    },
    {
     "data": {
      "application/vnd.jupyter.widget-view+json": {
       "model_id": "d91060c0b8a142fca42de3cb038d29d5",
       "version_major": 2,
       "version_minor": 0
      },
      "text/plain": [
       "  0%|          | 0/477 [00:00<?, ?it/s]"
      ]
     },
     "metadata": {},
     "output_type": "display_data"
    },
    {
     "name": "stdout",
     "output_type": "stream",
     "text": [
      "Prediction time: 23.976720333099365 secs\n",
      "Done......\n",
      "2_07_05.mp4\n",
      "Beginning predicting......\n",
      "About to begin prediction...\n"
     ]
    },
    {
     "data": {
      "application/vnd.jupyter.widget-view+json": {
       "model_id": "45344fcb273e4ed59be12cf2f3816118",
       "version_major": 2,
       "version_minor": 0
      },
      "text/plain": [
       "  0%|          | 0/213 [00:00<?, ?it/s]"
      ]
     },
     "metadata": {},
     "output_type": "display_data"
    },
    {
     "name": "stdout",
     "output_type": "stream",
     "text": [
      "Prediction time: 10.775521516799927 secs\n",
      "Done......\n",
      "2_21_17.mp4\n",
      "Beginning predicting......\n",
      "About to begin prediction...\n"
     ]
    },
    {
     "data": {
      "application/vnd.jupyter.widget-view+json": {
       "model_id": "ba2e233fa7ba4ea9b91986676a700ef2",
       "version_major": 2,
       "version_minor": 0
      },
      "text/plain": [
       "  0%|          | 0/404 [00:00<?, ?it/s]"
      ]
     },
     "metadata": {},
     "output_type": "display_data"
    },
    {
     "name": "stdout",
     "output_type": "stream",
     "text": [
      "Prediction time: 20.583698272705078 secs\n",
      "Done......\n",
      "2_15_10.mp4\n",
      "Beginning predicting......\n",
      "About to begin prediction...\n"
     ]
    },
    {
     "data": {
      "application/vnd.jupyter.widget-view+json": {
       "model_id": "d92a9f0bba0542c5b6cfd714a722ccaf",
       "version_major": 2,
       "version_minor": 0
      },
      "text/plain": [
       "  0%|          | 0/395 [00:00<?, ?it/s]"
      ]
     },
     "metadata": {},
     "output_type": "display_data"
    },
    {
     "name": "stdout",
     "output_type": "stream",
     "text": [
      "Prediction time: 19.992412567138672 secs\n",
      "Done......\n",
      "2_13_06.mp4\n",
      "Beginning predicting......\n",
      "About to begin prediction...\n"
     ]
    },
    {
     "data": {
      "application/vnd.jupyter.widget-view+json": {
       "model_id": "cb93908bdd104bbc86a0566fa4797bfe",
       "version_major": 2,
       "version_minor": 0
      },
      "text/plain": [
       "  0%|          | 0/621 [00:00<?, ?it/s]"
      ]
     },
     "metadata": {},
     "output_type": "display_data"
    },
    {
     "name": "stdout",
     "output_type": "stream",
     "text": [
      "Prediction time: 31.577871561050415 secs\n",
      "Done......\n",
      "2_19_13.mp4\n",
      "Beginning predicting......\n",
      "About to begin prediction...\n"
     ]
    },
    {
     "data": {
      "application/vnd.jupyter.widget-view+json": {
       "model_id": "fd85834339794135b97d456c52f3a606",
       "version_major": 2,
       "version_minor": 0
      },
      "text/plain": [
       "  0%|          | 0/705 [00:00<?, ?it/s]"
      ]
     },
     "metadata": {},
     "output_type": "display_data"
    },
    {
     "name": "stdout",
     "output_type": "stream",
     "text": [
      "Prediction time: 35.43501424789429 secs\n",
      "Done......\n",
      "1_17_14.mp4\n",
      "Beginning predicting......\n",
      "About to begin prediction...\n"
     ]
    },
    {
     "data": {
      "application/vnd.jupyter.widget-view+json": {
       "model_id": "8037dc39054e46b983d59d20b25213ae",
       "version_major": 2,
       "version_minor": 0
      },
      "text/plain": [
       "  0%|          | 0/714 [00:00<?, ?it/s]"
      ]
     },
     "metadata": {},
     "output_type": "display_data"
    },
    {
     "name": "stdout",
     "output_type": "stream",
     "text": [
      "Prediction time: 35.8625431060791 secs\n",
      "Done......\n",
      "1_21_12.mp4\n",
      "Beginning predicting......\n",
      "About to begin prediction...\n"
     ]
    },
    {
     "data": {
      "application/vnd.jupyter.widget-view+json": {
       "model_id": "1770e76a69fe4271aa1140aa00d92da3",
       "version_major": 2,
       "version_minor": 0
      },
      "text/plain": [
       "  0%|          | 0/313 [00:00<?, ?it/s]"
      ]
     },
     "metadata": {},
     "output_type": "display_data"
    },
    {
     "name": "stdout",
     "output_type": "stream",
     "text": [
      "Prediction time: 16.08206820487976 secs\n",
      "Done......\n",
      "2_14_08.mp4\n",
      "Beginning predicting......\n",
      "About to begin prediction...\n"
     ]
    },
    {
     "data": {
      "application/vnd.jupyter.widget-view+json": {
       "model_id": "fb58a56e07f540cdac8a414c1910abed",
       "version_major": 2,
       "version_minor": 0
      },
      "text/plain": [
       "  0%|          | 0/235 [00:00<?, ?it/s]"
      ]
     },
     "metadata": {},
     "output_type": "display_data"
    },
    {
     "name": "stdout",
     "output_type": "stream",
     "text": [
      "Prediction time: 11.802928924560547 secs\n",
      "Done......\n",
      "2_19_14.mp4\n",
      "Beginning predicting......\n",
      "About to begin prediction...\n"
     ]
    },
    {
     "data": {
      "application/vnd.jupyter.widget-view+json": {
       "model_id": "449aa21745874bd5ab753b290feeb68b",
       "version_major": 2,
       "version_minor": 0
      },
      "text/plain": [
       "  0%|          | 0/667 [00:00<?, ?it/s]"
      ]
     },
     "metadata": {},
     "output_type": "display_data"
    },
    {
     "name": "stdout",
     "output_type": "stream",
     "text": [
      "Prediction time: 33.732237815856934 secs\n",
      "Done......\n",
      "2_16_12.mp4\n",
      "Beginning predicting......\n",
      "About to begin prediction...\n"
     ]
    },
    {
     "data": {
      "application/vnd.jupyter.widget-view+json": {
       "model_id": "155a78b20a3f489ebc3f504bbeb8ffdf",
       "version_major": 2,
       "version_minor": 0
      },
      "text/plain": [
       "  0%|          | 0/573 [00:00<?, ?it/s]"
      ]
     },
     "metadata": {},
     "output_type": "display_data"
    },
    {
     "name": "stdout",
     "output_type": "stream",
     "text": [
      "Prediction time: 28.758430004119873 secs\n",
      "Done......\n",
      "2_18_14.mp4\n",
      "Beginning predicting......\n",
      "About to begin prediction...\n"
     ]
    },
    {
     "data": {
      "application/vnd.jupyter.widget-view+json": {
       "model_id": "dae677fee70447b7b171d0357950786c",
       "version_major": 2,
       "version_minor": 0
      },
      "text/plain": [
       "  0%|          | 0/885 [00:00<?, ?it/s]"
      ]
     },
     "metadata": {},
     "output_type": "display_data"
    },
    {
     "name": "stdout",
     "output_type": "stream",
     "text": [
      "Prediction time: 45.68620252609253 secs\n",
      "Done......\n",
      "1_13_20.mp4\n",
      "Beginning predicting......\n",
      "About to begin prediction...\n"
     ]
    },
    {
     "data": {
      "application/vnd.jupyter.widget-view+json": {
       "model_id": "c05cccccc231487b8779f19f0d7966a4",
       "version_major": 2,
       "version_minor": 0
      },
      "text/plain": [
       "  0%|          | 0/438 [00:00<?, ?it/s]"
      ]
     },
     "metadata": {},
     "output_type": "display_data"
    },
    {
     "name": "stdout",
     "output_type": "stream",
     "text": [
      "Prediction time: 22.70223307609558 secs\n",
      "Done......\n",
      "3_14_09.mp4\n",
      "Beginning predicting......\n",
      "About to begin prediction...\n"
     ]
    },
    {
     "data": {
      "application/vnd.jupyter.widget-view+json": {
       "model_id": "3fe306f443604c8091a963c636b9e2e9",
       "version_major": 2,
       "version_minor": 0
      },
      "text/plain": [
       "  0%|          | 0/342 [00:00<?, ?it/s]"
      ]
     },
     "metadata": {},
     "output_type": "display_data"
    },
    {
     "name": "stdout",
     "output_type": "stream",
     "text": [
      "Prediction time: 17.80144429206848 secs\n",
      "Done......\n",
      "3_12_06.mp4\n",
      "Beginning predicting......\n",
      "About to begin prediction...\n"
     ]
    },
    {
     "data": {
      "application/vnd.jupyter.widget-view+json": {
       "model_id": "db4a0206444d49c3bd99a84d636d3efa",
       "version_major": 2,
       "version_minor": 0
      },
      "text/plain": [
       "  0%|          | 0/655 [00:00<?, ?it/s]"
      ]
     },
     "metadata": {},
     "output_type": "display_data"
    },
    {
     "name": "stdout",
     "output_type": "stream",
     "text": [
      "Prediction time: 33.80331301689148 secs\n",
      "Done......\n",
      "1_03_06.mp4\n",
      "Beginning predicting......\n",
      "About to begin prediction...\n"
     ]
    },
    {
     "data": {
      "application/vnd.jupyter.widget-view+json": {
       "model_id": "8e8240a15d2748dfb3476bca36d2e37f",
       "version_major": 2,
       "version_minor": 0
      },
      "text/plain": [
       "  0%|          | 0/596 [00:00<?, ?it/s]"
      ]
     },
     "metadata": {},
     "output_type": "display_data"
    },
    {
     "name": "stdout",
     "output_type": "stream",
     "text": [
      "Prediction time: 30.217080116271973 secs\n",
      "Done......\n",
      "2_08_08.mp4\n",
      "Beginning predicting......\n",
      "About to begin prediction...\n"
     ]
    },
    {
     "data": {
      "application/vnd.jupyter.widget-view+json": {
       "model_id": "982bede8c4414df0aeb216d1b84b5ca6",
       "version_major": 2,
       "version_minor": 0
      },
      "text/plain": [
       "  0%|          | 0/503 [00:00<?, ?it/s]"
      ]
     },
     "metadata": {},
     "output_type": "display_data"
    },
    {
     "name": "stdout",
     "output_type": "stream",
     "text": [
      "Prediction time: 25.979795455932617 secs\n",
      "Done......\n",
      "3_17_16.mp4\n",
      "Beginning predicting......\n",
      "About to begin prediction...\n"
     ]
    },
    {
     "data": {
      "application/vnd.jupyter.widget-view+json": {
       "model_id": "699e375097904ff3b7235a4078412684",
       "version_major": 2,
       "version_minor": 0
      },
      "text/plain": [
       "  0%|          | 0/435 [00:00<?, ?it/s]"
      ]
     },
     "metadata": {},
     "output_type": "display_data"
    },
    {
     "name": "stdout",
     "output_type": "stream",
     "text": [
      "Prediction time: 22.849146842956543 secs\n",
      "Done......\n",
      "1_15_13.mp4\n",
      "Beginning predicting......\n",
      "About to begin prediction...\n"
     ]
    },
    {
     "data": {
      "application/vnd.jupyter.widget-view+json": {
       "model_id": "f49aa9cc31ae43afa8327d2c260427e2",
       "version_major": 2,
       "version_minor": 0
      },
      "text/plain": [
       "  0%|          | 0/531 [00:00<?, ?it/s]"
      ]
     },
     "metadata": {},
     "output_type": "display_data"
    },
    {
     "name": "stdout",
     "output_type": "stream",
     "text": [
      "Prediction time: 27.417646169662476 secs\n",
      "Done......\n",
      "2_08_05.mp4\n",
      "Beginning predicting......\n",
      "About to begin prediction...\n"
     ]
    },
    {
     "data": {
      "application/vnd.jupyter.widget-view+json": {
       "model_id": "3fd943d4cb154ab4a5815468407af334",
       "version_major": 2,
       "version_minor": 0
      },
      "text/plain": [
       "  0%|          | 0/527 [00:00<?, ?it/s]"
      ]
     },
     "metadata": {},
     "output_type": "display_data"
    },
    {
     "name": "stdout",
     "output_type": "stream",
     "text": [
      "Prediction time: 26.827451467514038 secs\n",
      "Done......\n",
      "1_02_02.mp4\n",
      "Beginning predicting......\n",
      "About to begin prediction...\n"
     ]
    },
    {
     "data": {
      "application/vnd.jupyter.widget-view+json": {
       "model_id": "956d9634beda4472bdaea49abaecde17",
       "version_major": 2,
       "version_minor": 0
      },
      "text/plain": [
       "  0%|          | 0/372 [00:00<?, ?it/s]"
      ]
     },
     "metadata": {},
     "output_type": "display_data"
    },
    {
     "name": "stdout",
     "output_type": "stream",
     "text": [
      "Prediction time: 19.18020272254944 secs\n",
      "Done......\n",
      "2_18_11.mp4\n",
      "Beginning predicting......\n",
      "About to begin prediction...\n"
     ]
    },
    {
     "data": {
      "application/vnd.jupyter.widget-view+json": {
       "model_id": "1edd30cb595c4bd4b7e06f23228b9198",
       "version_major": 2,
       "version_minor": 0
      },
      "text/plain": [
       "  0%|          | 0/501 [00:00<?, ?it/s]"
      ]
     },
     "metadata": {},
     "output_type": "display_data"
    },
    {
     "name": "stdout",
     "output_type": "stream",
     "text": [
      "Prediction time: 25.33741784095764 secs\n",
      "Done......\n",
      "2_01_01.mp4\n",
      "Beginning predicting......\n",
      "About to begin prediction...\n"
     ]
    },
    {
     "data": {
      "application/vnd.jupyter.widget-view+json": {
       "model_id": "80ed99206a7e4ad2b3bdb89c3b0827f7",
       "version_major": 2,
       "version_minor": 0
      },
      "text/plain": [
       "  0%|          | 0/531 [00:00<?, ?it/s]"
      ]
     },
     "metadata": {},
     "output_type": "display_data"
    },
    {
     "name": "stdout",
     "output_type": "stream",
     "text": [
      "Prediction time: 27.197954416275024 secs\n",
      "Done......\n",
      "2_15_11.mp4\n",
      "Beginning predicting......\n",
      "About to begin prediction...\n"
     ]
    },
    {
     "data": {
      "application/vnd.jupyter.widget-view+json": {
       "model_id": "3659df135dfc4130a85ca99f72c6ed68",
       "version_major": 2,
       "version_minor": 0
      },
      "text/plain": [
       "  0%|          | 0/470 [00:00<?, ?it/s]"
      ]
     },
     "metadata": {},
     "output_type": "display_data"
    },
    {
     "name": "stdout",
     "output_type": "stream",
     "text": [
      "Prediction time: 23.869191884994507 secs\n",
      "Done......\n",
      "3_12_14.mp4\n",
      "Beginning predicting......\n",
      "About to begin prediction...\n"
     ]
    },
    {
     "data": {
      "application/vnd.jupyter.widget-view+json": {
       "model_id": "5671d724f8a64258b696b35f87daab4d",
       "version_major": 2,
       "version_minor": 0
      },
      "text/plain": [
       "  0%|          | 0/405 [00:00<?, ?it/s]"
      ]
     },
     "metadata": {},
     "output_type": "display_data"
    },
    {
     "name": "stdout",
     "output_type": "stream",
     "text": [
      "Prediction time: 20.544681549072266 secs\n",
      "Done......\n",
      "3_03_05.mp4\n",
      "Beginning predicting......\n",
      "About to begin prediction...\n"
     ]
    },
    {
     "data": {
      "application/vnd.jupyter.widget-view+json": {
       "model_id": "135d0fc029db40328d0e4d5e34c45f0c",
       "version_major": 2,
       "version_minor": 0
      },
      "text/plain": [
       "  0%|          | 0/689 [00:00<?, ?it/s]"
      ]
     },
     "metadata": {},
     "output_type": "display_data"
    },
    {
     "name": "stdout",
     "output_type": "stream",
     "text": [
      "Prediction time: 34.71904110908508 secs\n",
      "Done......\n",
      "3_20_19.mp4\n",
      "Beginning predicting......\n",
      "About to begin prediction...\n"
     ]
    },
    {
     "data": {
      "application/vnd.jupyter.widget-view+json": {
       "model_id": "0d17051089ad4e01af51bbed7b99617f",
       "version_major": 2,
       "version_minor": 0
      },
      "text/plain": [
       "  0%|          | 0/407 [00:00<?, ?it/s]"
      ]
     },
     "metadata": {},
     "output_type": "display_data"
    },
    {
     "name": "stdout",
     "output_type": "stream",
     "text": [
      "Prediction time: 20.435428619384766 secs\n",
      "Done......\n",
      "2_02_02.mp4\n",
      "Beginning predicting......\n",
      "About to begin prediction...\n"
     ]
    },
    {
     "data": {
      "application/vnd.jupyter.widget-view+json": {
       "model_id": "4a1838846783445092fde0ccabbdb366",
       "version_major": 2,
       "version_minor": 0
      },
      "text/plain": [
       "  0%|          | 0/436 [00:00<?, ?it/s]"
      ]
     },
     "metadata": {},
     "output_type": "display_data"
    },
    {
     "name": "stdout",
     "output_type": "stream",
     "text": [
      "Prediction time: 22.065314292907715 secs\n",
      "Done......\n",
      "1_06_12.mp4\n",
      "Beginning predicting......\n",
      "About to begin prediction...\n"
     ]
    },
    {
     "data": {
      "application/vnd.jupyter.widget-view+json": {
       "model_id": "d27d2a2e1b8b4e19907f661beb855763",
       "version_major": 2,
       "version_minor": 0
      },
      "text/plain": [
       "  0%|          | 0/364 [00:00<?, ?it/s]"
      ]
     },
     "metadata": {},
     "output_type": "display_data"
    },
    {
     "name": "stdout",
     "output_type": "stream",
     "text": [
      "Prediction time: 18.362104415893555 secs\n",
      "Done......\n",
      "3_16_17.mp4\n",
      "Beginning predicting......\n",
      "About to begin prediction...\n"
     ]
    },
    {
     "data": {
      "application/vnd.jupyter.widget-view+json": {
       "model_id": "eaf3fd5869b84d52853537d4b6bafe71",
       "version_major": 2,
       "version_minor": 0
      },
      "text/plain": [
       "  0%|          | 0/389 [00:00<?, ?it/s]"
      ]
     },
     "metadata": {},
     "output_type": "display_data"
    },
    {
     "name": "stdout",
     "output_type": "stream",
     "text": [
      "Prediction time: 19.486046075820923 secs\n",
      "Done......\n",
      "1_01_01.mp4\n",
      "Beginning predicting......\n",
      "About to begin prediction...\n"
     ]
    },
    {
     "data": {
      "application/vnd.jupyter.widget-view+json": {
       "model_id": "f9ea8a66e566451780806ca23e0d5552",
       "version_major": 2,
       "version_minor": 0
      },
      "text/plain": [
       "  0%|          | 0/460 [00:00<?, ?it/s]"
      ]
     },
     "metadata": {},
     "output_type": "display_data"
    },
    {
     "name": "stdout",
     "output_type": "stream",
     "text": [
      "Prediction time: 22.761089324951172 secs\n",
      "Done......\n",
      "2_12_06.mp4\n",
      "Beginning predicting......\n",
      "About to begin prediction...\n"
     ]
    },
    {
     "data": {
      "application/vnd.jupyter.widget-view+json": {
       "model_id": "f3ab00b718f5413597cb3a3a840199e5",
       "version_major": 2,
       "version_minor": 0
      },
      "text/plain": [
       "  0%|          | 0/551 [00:00<?, ?it/s]"
      ]
     },
     "metadata": {},
     "output_type": "display_data"
    },
    {
     "name": "stdout",
     "output_type": "stream",
     "text": [
      "Prediction time: 27.494402408599854 secs\n",
      "Done......\n",
      "2_14_08.mp4\n",
      "Beginning predicting......\n",
      "About to begin prediction...\n"
     ]
    },
    {
     "data": {
      "application/vnd.jupyter.widget-view+json": {
       "model_id": "038d14a88567466988ec0c44919da181",
       "version_major": 2,
       "version_minor": 0
      },
      "text/plain": [
       "  0%|          | 0/463 [00:00<?, ?it/s]"
      ]
     },
     "metadata": {},
     "output_type": "display_data"
    },
    {
     "name": "stdout",
     "output_type": "stream",
     "text": [
      "Prediction time: 23.247584104537964 secs\n",
      "Done......\n",
      "1_01_03.mp4\n",
      "Beginning predicting......\n",
      "About to begin prediction...\n"
     ]
    },
    {
     "data": {
      "application/vnd.jupyter.widget-view+json": {
       "model_id": "667dd2738e274724a765ed9500421583",
       "version_major": 2,
       "version_minor": 0
      },
      "text/plain": [
       "  0%|          | 0/897 [00:00<?, ?it/s]"
      ]
     },
     "metadata": {},
     "output_type": "display_data"
    },
    {
     "name": "stdout",
     "output_type": "stream",
     "text": [
      "Prediction time: 44.66776442527771 secs\n",
      "Done......\n",
      "1_07_08.mp4\n",
      "Beginning predicting......\n",
      "About to begin prediction...\n"
     ]
    },
    {
     "data": {
      "application/vnd.jupyter.widget-view+json": {
       "model_id": "48881fb8ed65438b985c4781f67dbea1",
       "version_major": 2,
       "version_minor": 0
      },
      "text/plain": [
       "  0%|          | 0/457 [00:00<?, ?it/s]"
      ]
     },
     "metadata": {},
     "output_type": "display_data"
    },
    {
     "name": "stdout",
     "output_type": "stream",
     "text": [
      "Prediction time: 22.96997594833374 secs\n",
      "Done......\n",
      "2_00_01.mp4\n",
      "Beginning predicting......\n",
      "About to begin prediction...\n"
     ]
    },
    {
     "data": {
      "application/vnd.jupyter.widget-view+json": {
       "model_id": "4bb8e12f352f490cb598d62c4293aa64",
       "version_major": 2,
       "version_minor": 0
      },
      "text/plain": [
       "  0%|          | 0/327 [00:00<?, ?it/s]"
      ]
     },
     "metadata": {},
     "output_type": "display_data"
    },
    {
     "name": "stdout",
     "output_type": "stream",
     "text": [
      "Prediction time: 16.606449127197266 secs\n",
      "Done......\n",
      "1_09_05.mp4\n",
      "Beginning predicting......\n",
      "About to begin prediction...\n"
     ]
    },
    {
     "data": {
      "application/vnd.jupyter.widget-view+json": {
       "model_id": "17618b63d1844b8d812701da56b57e73",
       "version_major": 2,
       "version_minor": 0
      },
      "text/plain": [
       "  0%|          | 0/670 [00:00<?, ?it/s]"
      ]
     },
     "metadata": {},
     "output_type": "display_data"
    },
    {
     "name": "stdout",
     "output_type": "stream",
     "text": [
      "Prediction time: 33.3794059753418 secs\n",
      "Done......\n",
      "2_05_08.mp4\n",
      "Beginning predicting......\n",
      "About to begin prediction...\n"
     ]
    },
    {
     "data": {
      "application/vnd.jupyter.widget-view+json": {
       "model_id": "47299d9c223a4007840d822d5615a8a3",
       "version_major": 2,
       "version_minor": 0
      },
      "text/plain": [
       "  0%|          | 0/756 [00:00<?, ?it/s]"
      ]
     },
     "metadata": {},
     "output_type": "display_data"
    },
    {
     "name": "stdout",
     "output_type": "stream",
     "text": [
      "Prediction time: 38.26101803779602 secs\n",
      "Done......\n",
      "2_19_14.mp4\n",
      "Beginning predicting......\n",
      "About to begin prediction...\n"
     ]
    },
    {
     "data": {
      "application/vnd.jupyter.widget-view+json": {
       "model_id": "d0068200abf441a8ab82932b6f0be006",
       "version_major": 2,
       "version_minor": 0
      },
      "text/plain": [
       "  0%|          | 0/496 [00:00<?, ?it/s]"
      ]
     },
     "metadata": {},
     "output_type": "display_data"
    },
    {
     "name": "stdout",
     "output_type": "stream",
     "text": [
      "Prediction time: 24.82008695602417 secs\n",
      "Done......\n",
      "2_07_08.mp4\n",
      "Beginning predicting......\n",
      "About to begin prediction...\n"
     ]
    },
    {
     "data": {
      "application/vnd.jupyter.widget-view+json": {
       "model_id": "89daa44cf3234e988217ef0223d3657a",
       "version_major": 2,
       "version_minor": 0
      },
      "text/plain": [
       "  0%|          | 0/418 [00:00<?, ?it/s]"
      ]
     },
     "metadata": {},
     "output_type": "display_data"
    },
    {
     "name": "stdout",
     "output_type": "stream",
     "text": [
      "Prediction time: 20.971444368362427 secs\n",
      "Done......\n",
      "1_11_10.mp4\n",
      "Beginning predicting......\n",
      "About to begin prediction...\n"
     ]
    },
    {
     "data": {
      "application/vnd.jupyter.widget-view+json": {
       "model_id": "191239a4def84ad2b268c5dfa43b78f7",
       "version_major": 2,
       "version_minor": 0
      },
      "text/plain": [
       "  0%|          | 0/494 [00:00<?, ?it/s]"
      ]
     },
     "metadata": {},
     "output_type": "display_data"
    },
    {
     "name": "stdout",
     "output_type": "stream",
     "text": [
      "Prediction time: 24.841901302337646 secs\n",
      "Done......\n",
      "2_09_08.mp4\n",
      "Beginning predicting......\n",
      "About to begin prediction...\n"
     ]
    },
    {
     "data": {
      "application/vnd.jupyter.widget-view+json": {
       "model_id": "58ccdbd38909478a83debc2abe762d01",
       "version_major": 2,
       "version_minor": 0
      },
      "text/plain": [
       "  0%|          | 0/568 [00:00<?, ?it/s]"
      ]
     },
     "metadata": {},
     "output_type": "display_data"
    },
    {
     "name": "stdout",
     "output_type": "stream",
     "text": [
      "Prediction time: 28.682823181152344 secs\n",
      "Done......\n",
      "2_02_03.mp4\n",
      "Beginning predicting......\n",
      "About to begin prediction...\n"
     ]
    },
    {
     "data": {
      "application/vnd.jupyter.widget-view+json": {
       "model_id": "e092b922dd23424dba1a0d789ab47074",
       "version_major": 2,
       "version_minor": 0
      },
      "text/plain": [
       "  0%|          | 0/385 [00:00<?, ?it/s]"
      ]
     },
     "metadata": {},
     "output_type": "display_data"
    },
    {
     "name": "stdout",
     "output_type": "stream",
     "text": [
      "Prediction time: 19.133745908737183 secs\n",
      "Done......\n",
      "1_19_19.mp4\n",
      "Beginning predicting......\n",
      "About to begin prediction...\n"
     ]
    },
    {
     "data": {
      "application/vnd.jupyter.widget-view+json": {
       "model_id": "bb956e0da8bf42908bb072bb8b134560",
       "version_major": 2,
       "version_minor": 0
      },
      "text/plain": [
       "  0%|          | 0/185 [00:00<?, ?it/s]"
      ]
     },
     "metadata": {},
     "output_type": "display_data"
    },
    {
     "name": "stdout",
     "output_type": "stream",
     "text": [
      "Prediction time: 9.196958065032959 secs\n",
      "Done......\n",
      "2_12_08.mp4\n",
      "Beginning predicting......\n",
      "About to begin prediction...\n"
     ]
    },
    {
     "data": {
      "application/vnd.jupyter.widget-view+json": {
       "model_id": "a9cc6e013c8f48bc921f0f557c6fa589",
       "version_major": 2,
       "version_minor": 0
      },
      "text/plain": [
       "  0%|          | 0/304 [00:00<?, ?it/s]"
      ]
     },
     "metadata": {},
     "output_type": "display_data"
    },
    {
     "name": "stdout",
     "output_type": "stream",
     "text": [
      "Prediction time: 15.371114492416382 secs\n",
      "Done......\n",
      "1_02_01.mp4\n",
      "Beginning predicting......\n",
      "About to begin prediction...\n"
     ]
    },
    {
     "data": {
      "application/vnd.jupyter.widget-view+json": {
       "model_id": "39b6cab84a7747d7bf3af81b055b11cc",
       "version_major": 2,
       "version_minor": 0
      },
      "text/plain": [
       "  0%|          | 0/359 [00:00<?, ?it/s]"
      ]
     },
     "metadata": {},
     "output_type": "display_data"
    },
    {
     "name": "stdout",
     "output_type": "stream",
     "text": [
      "Prediction time: 17.82469344139099 secs\n",
      "Done......\n",
      "1_16_17.mp4\n",
      "Beginning predicting......\n",
      "About to begin prediction...\n"
     ]
    },
    {
     "data": {
      "application/vnd.jupyter.widget-view+json": {
       "model_id": "e1bc433f78f4422db632bb0b04559262",
       "version_major": 2,
       "version_minor": 0
      },
      "text/plain": [
       "  0%|          | 0/552 [00:00<?, ?it/s]"
      ]
     },
     "metadata": {},
     "output_type": "display_data"
    },
    {
     "name": "stdout",
     "output_type": "stream",
     "text": [
      "Prediction time: 27.94897484779358 secs\n",
      "Done......\n",
      "2_04_04.mp4\n",
      "Beginning predicting......\n",
      "About to begin prediction...\n"
     ]
    },
    {
     "data": {
      "application/vnd.jupyter.widget-view+json": {
       "model_id": "da11b6ae85d94f15acd7201621bea586",
       "version_major": 2,
       "version_minor": 0
      },
      "text/plain": [
       "  0%|          | 0/325 [00:00<?, ?it/s]"
      ]
     },
     "metadata": {},
     "output_type": "display_data"
    },
    {
     "name": "stdout",
     "output_type": "stream",
     "text": [
      "Prediction time: 16.07679033279419 secs\n",
      "Done......\n",
      "2_17_18.mp4\n",
      "Beginning predicting......\n",
      "About to begin prediction...\n"
     ]
    },
    {
     "data": {
      "application/vnd.jupyter.widget-view+json": {
       "model_id": "6480fc7305c44074a1b692754d12c411",
       "version_major": 2,
       "version_minor": 0
      },
      "text/plain": [
       "  0%|          | 0/646 [00:00<?, ?it/s]"
      ]
     },
     "metadata": {},
     "output_type": "display_data"
    },
    {
     "name": "stdout",
     "output_type": "stream",
     "text": [
      "Prediction time: 33.01607131958008 secs\n",
      "Done......\n",
      "3_15_13.mp4\n",
      "Beginning predicting......\n",
      "About to begin prediction...\n"
     ]
    },
    {
     "data": {
      "application/vnd.jupyter.widget-view+json": {
       "model_id": "aa0c62dc303d4326a0b2419f8a48a99f",
       "version_major": 2,
       "version_minor": 0
      },
      "text/plain": [
       "  0%|          | 0/433 [00:00<?, ?it/s]"
      ]
     },
     "metadata": {},
     "output_type": "display_data"
    },
    {
     "name": "stdout",
     "output_type": "stream",
     "text": [
      "Prediction time: 21.565882444381714 secs\n",
      "Done......\n",
      "1_02_01.mp4\n",
      "Beginning predicting......\n",
      "About to begin prediction...\n"
     ]
    },
    {
     "data": {
      "application/vnd.jupyter.widget-view+json": {
       "model_id": "e177f7275bff469391440f69ac0f577f",
       "version_major": 2,
       "version_minor": 0
      },
      "text/plain": [
       "  0%|          | 0/952 [00:00<?, ?it/s]"
      ]
     },
     "metadata": {},
     "output_type": "display_data"
    },
    {
     "name": "stdout",
     "output_type": "stream",
     "text": [
      "Prediction time: 47.53313231468201 secs\n",
      "Done......\n",
      "2_18_18.mp4\n",
      "Beginning predicting......\n",
      "About to begin prediction...\n"
     ]
    },
    {
     "data": {
      "application/vnd.jupyter.widget-view+json": {
       "model_id": "4c09c50dff5540dc9c48f9fba56d0328",
       "version_major": 2,
       "version_minor": 0
      },
      "text/plain": [
       "  0%|          | 0/551 [00:00<?, ?it/s]"
      ]
     },
     "metadata": {},
     "output_type": "display_data"
    },
    {
     "name": "stdout",
     "output_type": "stream",
     "text": [
      "Prediction time: 27.538732051849365 secs\n",
      "Done......\n",
      "1_07_02.mp4\n",
      "Beginning predicting......\n",
      "About to begin prediction...\n"
     ]
    },
    {
     "data": {
      "application/vnd.jupyter.widget-view+json": {
       "model_id": "0802e2a68c494034b1e0de83060c5bcb",
       "version_major": 2,
       "version_minor": 0
      },
      "text/plain": [
       "  0%|          | 0/426 [00:00<?, ?it/s]"
      ]
     },
     "metadata": {},
     "output_type": "display_data"
    },
    {
     "name": "stdout",
     "output_type": "stream",
     "text": [
      "Prediction time: 21.51139497756958 secs\n",
      "Done......\n",
      "1_06_04.mp4\n",
      "Beginning predicting......\n",
      "About to begin prediction...\n"
     ]
    },
    {
     "data": {
      "application/vnd.jupyter.widget-view+json": {
       "model_id": "b5959e70ba274058b4c5a9dad119add8",
       "version_major": 2,
       "version_minor": 0
      },
      "text/plain": [
       "  0%|          | 0/527 [00:00<?, ?it/s]"
      ]
     },
     "metadata": {},
     "output_type": "display_data"
    },
    {
     "name": "stdout",
     "output_type": "stream",
     "text": [
      "Prediction time: 27.192325592041016 secs\n",
      "Done......\n",
      "1_11_08.mp4\n",
      "Beginning predicting......\n",
      "About to begin prediction...\n"
     ]
    },
    {
     "data": {
      "application/vnd.jupyter.widget-view+json": {
       "model_id": "0a5a6afa9aad4a1e924f8d93b551a1dc",
       "version_major": 2,
       "version_minor": 0
      },
      "text/plain": [
       "  0%|          | 0/581 [00:00<?, ?it/s]"
      ]
     },
     "metadata": {},
     "output_type": "display_data"
    },
    {
     "name": "stdout",
     "output_type": "stream",
     "text": [
      "Prediction time: 29.438004970550537 secs\n",
      "Done......\n",
      "2_02_03.mp4\n",
      "Beginning predicting......\n",
      "About to begin prediction...\n"
     ]
    },
    {
     "data": {
      "application/vnd.jupyter.widget-view+json": {
       "model_id": "32c1805c6e6147ff9a9f82c2893fbdbb",
       "version_major": 2,
       "version_minor": 0
      },
      "text/plain": [
       "  0%|          | 0/327 [00:00<?, ?it/s]"
      ]
     },
     "metadata": {},
     "output_type": "display_data"
    },
    {
     "name": "stdout",
     "output_type": "stream",
     "text": [
      "Prediction time: 16.94784712791443 secs\n",
      "Done......\n",
      "1_17_13.mp4\n",
      "Beginning predicting......\n",
      "About to begin prediction...\n"
     ]
    },
    {
     "data": {
      "application/vnd.jupyter.widget-view+json": {
       "model_id": "c64663d9838240b7b4573f9be0076c4d",
       "version_major": 2,
       "version_minor": 0
      },
      "text/plain": [
       "  0%|          | 0/545 [00:00<?, ?it/s]"
      ]
     },
     "metadata": {},
     "output_type": "display_data"
    },
    {
     "name": "stdout",
     "output_type": "stream",
     "text": [
      "Prediction time: 27.387139081954956 secs\n",
      "Done......\n",
      "2_12_08.mp4\n",
      "Beginning predicting......\n",
      "About to begin prediction...\n"
     ]
    },
    {
     "data": {
      "application/vnd.jupyter.widget-view+json": {
       "model_id": "9880413d9ef7467ebac578acc28affae",
       "version_major": 2,
       "version_minor": 0
      },
      "text/plain": [
       "  0%|          | 0/529 [00:00<?, ?it/s]"
      ]
     },
     "metadata": {},
     "output_type": "display_data"
    },
    {
     "name": "stdout",
     "output_type": "stream",
     "text": [
      "Prediction time: 27.50518774986267 secs\n",
      "Done......\n",
      "2_07_03.mp4\n",
      "Beginning predicting......\n",
      "About to begin prediction...\n"
     ]
    },
    {
     "data": {
      "application/vnd.jupyter.widget-view+json": {
       "model_id": "7ddfa7127c324b389b7ef943f8aabdb2",
       "version_major": 2,
       "version_minor": 0
      },
      "text/plain": [
       "  0%|          | 0/583 [00:00<?, ?it/s]"
      ]
     },
     "metadata": {},
     "output_type": "display_data"
    },
    {
     "name": "stdout",
     "output_type": "stream",
     "text": [
      "Prediction time: 29.98637580871582 secs\n",
      "Done......\n",
      "1_01_01.mp4\n",
      "Beginning predicting......\n",
      "About to begin prediction...\n"
     ]
    },
    {
     "data": {
      "application/vnd.jupyter.widget-view+json": {
       "model_id": "4c28c23febe1474cb2b7ee4b64deeceb",
       "version_major": 2,
       "version_minor": 0
      },
      "text/plain": [
       "  0%|          | 0/189 [00:00<?, ?it/s]"
      ]
     },
     "metadata": {},
     "output_type": "display_data"
    },
    {
     "name": "stdout",
     "output_type": "stream",
     "text": [
      "Prediction time: 9.69054102897644 secs\n",
      "Done......\n",
      "1_05_05.mp4\n",
      "Beginning predicting......\n",
      "About to begin prediction...\n"
     ]
    },
    {
     "data": {
      "application/vnd.jupyter.widget-view+json": {
       "model_id": "58a3e3b5346b4f15a26c25fe3cc03ddd",
       "version_major": 2,
       "version_minor": 0
      },
      "text/plain": [
       "  0%|          | 0/157 [00:00<?, ?it/s]"
      ]
     },
     "metadata": {},
     "output_type": "display_data"
    },
    {
     "name": "stdout",
     "output_type": "stream",
     "text": [
      "Prediction time: 8.051525831222534 secs\n",
      "Done......\n",
      "1_02_04.mp4\n",
      "Beginning predicting......\n",
      "About to begin prediction...\n"
     ]
    },
    {
     "data": {
      "application/vnd.jupyter.widget-view+json": {
       "model_id": "88d1864e62264d30ba6d68562dbf8b3a",
       "version_major": 2,
       "version_minor": 0
      },
      "text/plain": [
       "  0%|          | 0/714 [00:00<?, ?it/s]"
      ]
     },
     "metadata": {},
     "output_type": "display_data"
    },
    {
     "name": "stdout",
     "output_type": "stream",
     "text": [
      "Prediction time: 35.81039524078369 secs\n",
      "Done......\n",
      "1_01_03.mp4\n",
      "Beginning predicting......\n",
      "About to begin prediction...\n"
     ]
    },
    {
     "data": {
      "application/vnd.jupyter.widget-view+json": {
       "model_id": "694d41980ea4430a8d22617c8685838a",
       "version_major": 2,
       "version_minor": 0
      },
      "text/plain": [
       "  0%|          | 0/313 [00:00<?, ?it/s]"
      ]
     },
     "metadata": {},
     "output_type": "display_data"
    },
    {
     "name": "stdout",
     "output_type": "stream",
     "text": [
      "Prediction time: 15.444342136383057 secs\n",
      "Done......\n",
      "1_03_05.mp4\n",
      "Beginning predicting......\n",
      "About to begin prediction...\n"
     ]
    },
    {
     "data": {
      "application/vnd.jupyter.widget-view+json": {
       "model_id": "777f3b748a4141b0959724688b0eeb29",
       "version_major": 2,
       "version_minor": 0
      },
      "text/plain": [
       "  0%|          | 0/745 [00:00<?, ?it/s]"
      ]
     },
     "metadata": {},
     "output_type": "display_data"
    },
    {
     "name": "stdout",
     "output_type": "stream",
     "text": [
      "Prediction time: 36.975768089294434 secs\n",
      "Done......\n",
      "1_01_02.mp4\n",
      "Beginning predicting......\n",
      "About to begin prediction...\n"
     ]
    },
    {
     "data": {
      "application/vnd.jupyter.widget-view+json": {
       "model_id": "3d6bcc37f482480ca27b31f73d55cbea",
       "version_major": 2,
       "version_minor": 0
      },
      "text/plain": [
       "  0%|          | 0/443 [00:00<?, ?it/s]"
      ]
     },
     "metadata": {},
     "output_type": "display_data"
    },
    {
     "name": "stdout",
     "output_type": "stream",
     "text": [
      "Prediction time: 22.11019992828369 secs\n",
      "Done......\n",
      "1_03_04.mp4\n",
      "Beginning predicting......\n",
      "About to begin prediction...\n"
     ]
    },
    {
     "data": {
      "application/vnd.jupyter.widget-view+json": {
       "model_id": "92c426f8820642539b19bd8257cd2c94",
       "version_major": 2,
       "version_minor": 0
      },
      "text/plain": [
       "  0%|          | 0/135 [00:00<?, ?it/s]"
      ]
     },
     "metadata": {},
     "output_type": "display_data"
    },
    {
     "name": "stdout",
     "output_type": "stream",
     "text": [
      "Prediction time: 7.04582667350769 secs\n",
      "Done......\n",
      "1_01_04.mp4\n",
      "Beginning predicting......\n",
      "About to begin prediction...\n"
     ]
    },
    {
     "data": {
      "application/vnd.jupyter.widget-view+json": {
       "model_id": "8ae81974a01445ff88fab885868f062d",
       "version_major": 2,
       "version_minor": 0
      },
      "text/plain": [
       "  0%|          | 0/243 [00:00<?, ?it/s]"
      ]
     },
     "metadata": {},
     "output_type": "display_data"
    },
    {
     "name": "stdout",
     "output_type": "stream",
     "text": [
      "Prediction time: 12.433803081512451 secs\n",
      "Done......\n",
      "1_04_05.mp4\n",
      "Beginning predicting......\n",
      "About to begin prediction...\n"
     ]
    },
    {
     "data": {
      "application/vnd.jupyter.widget-view+json": {
       "model_id": "8d773c1b84414ec3a5835be088309c8b",
       "version_major": 2,
       "version_minor": 0
      },
      "text/plain": [
       "  0%|          | 0/94 [00:00<?, ?it/s]"
      ]
     },
     "metadata": {},
     "output_type": "display_data"
    },
    {
     "name": "stdout",
     "output_type": "stream",
     "text": [
      "Prediction time: 4.743826389312744 secs\n",
      "Done......\n",
      "1_00_01.mp4\n",
      "Beginning predicting......\n",
      "About to begin prediction...\n"
     ]
    },
    {
     "data": {
      "application/vnd.jupyter.widget-view+json": {
       "model_id": "bbf9e40ad0f246b6a577e0aa1230408e",
       "version_major": 2,
       "version_minor": 0
      },
      "text/plain": [
       "  0%|          | 0/200 [00:00<?, ?it/s]"
      ]
     },
     "metadata": {},
     "output_type": "display_data"
    },
    {
     "name": "stdout",
     "output_type": "stream",
     "text": [
      "Prediction time: 9.905864715576172 secs\n",
      "Done......\n",
      "1_02_00.mp4\n",
      "Beginning predicting......\n",
      "About to begin prediction...\n"
     ]
    },
    {
     "data": {
      "application/vnd.jupyter.widget-view+json": {
       "model_id": "cd85a84a76214b7896ddbc494fabdd91",
       "version_major": 2,
       "version_minor": 0
      },
      "text/plain": [
       "  0%|          | 0/363 [00:00<?, ?it/s]"
      ]
     },
     "metadata": {},
     "output_type": "display_data"
    },
    {
     "name": "stdout",
     "output_type": "stream",
     "text": [
      "Prediction time: 17.873944997787476 secs\n",
      "Done......\n",
      "1_05_01.mp4\n",
      "Beginning predicting......\n",
      "About to begin prediction...\n"
     ]
    },
    {
     "data": {
      "application/vnd.jupyter.widget-view+json": {
       "model_id": "65bd1ae718524080b0c5c0a16fddcb6a",
       "version_major": 2,
       "version_minor": 0
      },
      "text/plain": [
       "  0%|          | 0/115 [00:00<?, ?it/s]"
      ]
     },
     "metadata": {},
     "output_type": "display_data"
    },
    {
     "name": "stdout",
     "output_type": "stream",
     "text": [
      "Prediction time: 5.772653818130493 secs\n",
      "Done......\n",
      "1_04_00.mp4\n",
      "Beginning predicting......\n",
      "About to begin prediction...\n"
     ]
    },
    {
     "data": {
      "application/vnd.jupyter.widget-view+json": {
       "model_id": "718d3308a5bb436ba76135b6a9489442",
       "version_major": 2,
       "version_minor": 0
      },
      "text/plain": [
       "  0%|          | 0/515 [00:00<?, ?it/s]"
      ]
     },
     "metadata": {},
     "output_type": "display_data"
    },
    {
     "name": "stdout",
     "output_type": "stream",
     "text": [
      "Prediction time: 26.204734086990356 secs\n",
      "Done......\n",
      "1_05_03.mp4\n",
      "Beginning predicting......\n",
      "About to begin prediction...\n"
     ]
    },
    {
     "data": {
      "application/vnd.jupyter.widget-view+json": {
       "model_id": "8ae44302fd2b4c978ce39f97900508e9",
       "version_major": 2,
       "version_minor": 0
      },
      "text/plain": [
       "  0%|          | 0/138 [00:00<?, ?it/s]"
      ]
     },
     "metadata": {},
     "output_type": "display_data"
    },
    {
     "name": "stdout",
     "output_type": "stream",
     "text": [
      "Prediction time: 6.9425013065338135 secs\n",
      "Done......\n",
      "1_03_00.mp4\n",
      "Beginning predicting......\n",
      "About to begin prediction...\n"
     ]
    },
    {
     "data": {
      "application/vnd.jupyter.widget-view+json": {
       "model_id": "f44f7125d30f4f9099df260e7ece1122",
       "version_major": 2,
       "version_minor": 0
      },
      "text/plain": [
       "  0%|          | 0/431 [00:00<?, ?it/s]"
      ]
     },
     "metadata": {},
     "output_type": "display_data"
    },
    {
     "name": "stdout",
     "output_type": "stream",
     "text": [
      "Prediction time: 21.197205066680908 secs\n",
      "Done......\n",
      "1_05_02.mp4\n",
      "Beginning predicting......\n",
      "About to begin prediction...\n"
     ]
    },
    {
     "data": {
      "application/vnd.jupyter.widget-view+json": {
       "model_id": "3e762330d8764298a2661c1100f70508",
       "version_major": 2,
       "version_minor": 0
      },
      "text/plain": [
       "  0%|          | 0/368 [00:00<?, ?it/s]"
      ]
     },
     "metadata": {},
     "output_type": "display_data"
    },
    {
     "name": "stdout",
     "output_type": "stream",
     "text": [
      "Prediction time: 18.408191680908203 secs\n",
      "Done......\n",
      "1_05_00.mp4\n",
      "Beginning predicting......\n",
      "About to begin prediction...\n"
     ]
    },
    {
     "data": {
      "application/vnd.jupyter.widget-view+json": {
       "model_id": "db6dcb85186d43fbb34fe9d5c11ffab7",
       "version_major": 2,
       "version_minor": 0
      },
      "text/plain": [
       "  0%|          | 0/464 [00:00<?, ?it/s]"
      ]
     },
     "metadata": {},
     "output_type": "display_data"
    },
    {
     "name": "stdout",
     "output_type": "stream",
     "text": [
      "Prediction time: 23.24072504043579 secs\n",
      "Done......\n",
      "1_06_03.mp4\n",
      "Beginning predicting......\n",
      "About to begin prediction...\n"
     ]
    },
    {
     "data": {
      "application/vnd.jupyter.widget-view+json": {
       "model_id": "225635e96fe848cca21c72b71255623f",
       "version_major": 2,
       "version_minor": 0
      },
      "text/plain": [
       "  0%|          | 0/588 [00:00<?, ?it/s]"
      ]
     },
     "metadata": {},
     "output_type": "display_data"
    },
    {
     "name": "stdout",
     "output_type": "stream",
     "text": [
      "Prediction time: 29.379820108413696 secs\n",
      "Done......\n",
      "1_01_00.mp4\n",
      "Beginning predicting......\n",
      "About to begin prediction...\n"
     ]
    },
    {
     "data": {
      "application/vnd.jupyter.widget-view+json": {
       "model_id": "cd7c667b4320404ca28270d91d45b154",
       "version_major": 2,
       "version_minor": 0
      },
      "text/plain": [
       "  0%|          | 0/296 [00:00<?, ?it/s]"
      ]
     },
     "metadata": {},
     "output_type": "display_data"
    },
    {
     "name": "stdout",
     "output_type": "stream",
     "text": [
      "Prediction time: 15.033941507339478 secs\n",
      "Done......\n",
      "1_00_02.mp4\n",
      "Beginning predicting......\n",
      "About to begin prediction...\n"
     ]
    },
    {
     "data": {
      "application/vnd.jupyter.widget-view+json": {
       "model_id": "9d2427cb59e84d20b823153f30a520fb",
       "version_major": 2,
       "version_minor": 0
      },
      "text/plain": [
       "  0%|          | 0/129 [00:00<?, ?it/s]"
      ]
     },
     "metadata": {},
     "output_type": "display_data"
    },
    {
     "name": "stdout",
     "output_type": "stream",
     "text": [
      "Prediction time: 6.861375570297241 secs\n",
      "Done......\n",
      "1_02_04.mp4\n",
      "Beginning predicting......\n",
      "About to begin prediction...\n"
     ]
    },
    {
     "data": {
      "application/vnd.jupyter.widget-view+json": {
       "model_id": "a428b957d981404fad0fe3880c8a730c",
       "version_major": 2,
       "version_minor": 0
      },
      "text/plain": [
       "  0%|          | 0/690 [00:00<?, ?it/s]"
      ]
     },
     "metadata": {},
     "output_type": "display_data"
    },
    {
     "name": "stdout",
     "output_type": "stream",
     "text": [
      "Prediction time: 34.208290576934814 secs\n",
      "Done......\n",
      "1_01_03.mp4\n",
      "Beginning predicting......\n",
      "About to begin prediction...\n"
     ]
    },
    {
     "data": {
      "application/vnd.jupyter.widget-view+json": {
       "model_id": "1d2338d952994973a74b8a852348750b",
       "version_major": 2,
       "version_minor": 0
      },
      "text/plain": [
       "  0%|          | 0/743 [00:00<?, ?it/s]"
      ]
     },
     "metadata": {},
     "output_type": "display_data"
    },
    {
     "name": "stdout",
     "output_type": "stream",
     "text": [
      "Prediction time: 36.94242787361145 secs\n",
      "Done......\n",
      "1_00_03.mp4\n",
      "Beginning predicting......\n",
      "About to begin prediction...\n"
     ]
    },
    {
     "data": {
      "application/vnd.jupyter.widget-view+json": {
       "model_id": "617f9d3b291648208e91963a7c039e94",
       "version_major": 2,
       "version_minor": 0
      },
      "text/plain": [
       "  0%|          | 0/324 [00:00<?, ?it/s]"
      ]
     },
     "metadata": {},
     "output_type": "display_data"
    },
    {
     "name": "stdout",
     "output_type": "stream",
     "text": [
      "Prediction time: 16.07740807533264 secs\n",
      "Done......\n",
      "1_02_05.mp4\n",
      "Beginning predicting......\n",
      "About to begin prediction...\n"
     ]
    },
    {
     "data": {
      "application/vnd.jupyter.widget-view+json": {
       "model_id": "0b9083c25d134387a16ab71997cc2382",
       "version_major": 2,
       "version_minor": 0
      },
      "text/plain": [
       "  0%|          | 0/523 [00:00<?, ?it/s]"
      ]
     },
     "metadata": {},
     "output_type": "display_data"
    },
    {
     "name": "stdout",
     "output_type": "stream",
     "text": [
      "Prediction time: 25.995281457901 secs\n",
      "Done......\n",
      "1_02_03.mp4\n",
      "Beginning predicting......\n",
      "About to begin prediction...\n"
     ]
    },
    {
     "data": {
      "application/vnd.jupyter.widget-view+json": {
       "model_id": "98259c1286b14ce2875d72ec53f00af3",
       "version_major": 2,
       "version_minor": 0
      },
      "text/plain": [
       "  0%|          | 0/380 [00:00<?, ?it/s]"
      ]
     },
     "metadata": {},
     "output_type": "display_data"
    },
    {
     "name": "stdout",
     "output_type": "stream",
     "text": [
      "Prediction time: 19.23523187637329 secs\n",
      "Done......\n",
      "1_00_01.mp4\n",
      "Beginning predicting......\n",
      "About to begin prediction...\n"
     ]
    },
    {
     "data": {
      "application/vnd.jupyter.widget-view+json": {
       "model_id": "33f8ac5416114e1daa11fe94c57ee824",
       "version_major": 2,
       "version_minor": 0
      },
      "text/plain": [
       "  0%|          | 0/225 [00:00<?, ?it/s]"
      ]
     },
     "metadata": {},
     "output_type": "display_data"
    },
    {
     "name": "stdout",
     "output_type": "stream",
     "text": [
      "Prediction time: 11.171113729476929 secs\n",
      "Done......\n"
     ]
    }
   ],
   "source": [
    "import os\n",
    "matches = list('match' + str(i) for i in range(1, 27))\n",
    "\n",
    "for match in matches:\n",
    "    for video in os.listdir('/home/code-base/scratch_space/data/%s/rally_video/' % match):\n",
    "        rally, _ = os.path.splitext(video)\n",
    "        print(video)\n",
    "        if '.mp4' not in video:\n",
    "            continue\n",
    "        predict_heatmaps(\n",
    "            '/home/code-base/scratch_space/data/%s/rally_video/%s' % (match, video), \n",
    "            '/home/code-base/scratch_space/data/%s/ball_trajectory/%s.npz' % (match, rally)\n",
    "        )"
   ]
  },
  {
   "cell_type": "code",
   "execution_count": 13,
   "id": "3f4596e7-3175-42a1-966f-4d1019ded1d0",
   "metadata": {},
   "outputs": [
    {
     "name": "stdout",
     "output_type": "stream",
     "text": [
      "Beginning predicting......\n",
      "About to begin prediction...\n"
     ]
    },
    {
     "data": {
      "application/vnd.jupyter.widget-view+json": {
       "model_id": "9cec6c15579c4c90b6649ca5620400e6",
       "version_major": 2,
       "version_minor": 0
      },
      "text/plain": [
       "  0%|          | 0/12881 [00:00<?, ?it/s]"
      ]
     },
     "metadata": {},
     "output_type": "display_data"
    },
    {
     "name": "stdout",
     "output_type": "stream",
     "text": [
      "Prediction time: 643.7390632629395 secs\n",
      "Done......\n"
     ]
    }
   ],
   "source": [
    "predict_heatmaps(\n",
    "    '/home/code-base/user_space/ai-badminton/notebooks/data/anthony-ginting-beat-kento-momota-anthony-ginting-vs-kento-momota-fo-2019-hlzrivktbyo.mp4',\n",
    "    '/home/code-base/user_space/ai-badminton/notebooks/data/anthony-ginting-beat-kento-momota-anthony-ginting-vs-kento-momota-fo-2019-hlzrivktbyo_heatmap.npz'\n",
    ")"
   ]
  },
  {
   "cell_type": "code",
   "execution_count": null,
   "id": "1d8c63f7-2b55-45c9-b803-ef499e343429",
   "metadata": {},
   "outputs": [],
   "source": []
  }
 ],
 "metadata": {
  "kernelspec": {
   "display_name": "Python 3",
   "language": "python",
   "name": "python3"
  },
  "language_info": {
   "codemirror_mode": {
    "name": "ipython",
    "version": 3
   },
   "file_extension": ".py",
   "mimetype": "text/x-python",
   "name": "python",
   "nbconvert_exporter": "python",
   "pygments_lexer": "ipython3",
   "version": "3.8.5"
  }
 },
 "nbformat": 4,
 "nbformat_minor": 5
}
